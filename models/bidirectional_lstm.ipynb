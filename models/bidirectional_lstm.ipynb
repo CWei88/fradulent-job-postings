{
  "cells": [
    {
      "cell_type": "code",
      "execution_count": null,
      "id": "Dt_0jjTSCS8w",
      "metadata": {
        "colab": {
          "base_uri": "https://localhost:8080/"
        },
        "id": "Dt_0jjTSCS8w",
        "outputId": "99a4e616-5436-4a4e-936b-32932af3c18c"
      },
      "outputs": [
        {
          "name": "stdout",
          "output_type": "stream",
          "text": [
            "Looking in indexes: https://pypi.org/simple, https://us-python.pkg.dev/colab-wheels/public/simple/\n",
            "Collecting bayesian-optimization\n",
            "  Downloading bayesian_optimization-1.3.1-py3-none-any.whl (16 kB)\n",
            "Requirement already satisfied: scikit-learn>=0.18.0 in /usr/local/lib/python3.7/dist-packages (from bayesian-optimization) (1.0.2)\n",
            "Requirement already satisfied: numpy>=1.9.0 in /usr/local/lib/python3.7/dist-packages (from bayesian-optimization) (1.21.6)\n",
            "Requirement already satisfied: scipy>=1.0.0 in /usr/local/lib/python3.7/dist-packages (from bayesian-optimization) (1.7.3)\n",
            "Requirement already satisfied: threadpoolctl>=2.0.0 in /usr/local/lib/python3.7/dist-packages (from scikit-learn>=0.18.0->bayesian-optimization) (3.1.0)\n",
            "Requirement already satisfied: joblib>=0.11 in /usr/local/lib/python3.7/dist-packages (from scikit-learn>=0.18.0->bayesian-optimization) (1.2.0)\n",
            "Installing collected packages: bayesian-optimization\n",
            "Successfully installed bayesian-optimization-1.3.1\n"
          ]
        }
      ],
      "source": [
        "!pip install bayesian-optimization"
      ]
    },
    {
      "cell_type": "code",
      "execution_count": null,
      "id": "7444f8aa",
      "metadata": {
        "id": "7444f8aa"
      },
      "outputs": [],
      "source": [
        "import pandas as pd\n",
        "import numpy as np\n",
        "from matplotlib import pyplot as plt\n",
        "\n",
        "from collections import Counter\n",
        "from imblearn.over_sampling import RandomOverSampler\n",
        "\n",
        "from bayes_opt import BayesianOptimization\n",
        "\n",
        "import keras\n",
        "import tensorflow\n",
        "from keras import layers\n",
        "from keras.models import Sequential\n",
        "from keras.layers import Dense, Activation, Dropout, Flatten, Embedding, concatenate, Lambda, Bidirectional, LSTM, LeakyReLU\n",
        "from keras.callbacks import EarlyStopping, ModelCheckpoint\n",
        "from keras.optimizers import Adam, SGD, RMSprop, Adadelta, Adagrad, Adamax, Nadam, Ftrl\n",
        "from keras import metrics\n",
        "from keras.losses import BinaryCrossentropy\n",
        "from keras.wrappers.scikit_learn import KerasClassifier\n",
        "\n",
        "from sklearn.model_selection import train_test_split\n",
        "from sklearn.model_selection import cross_val_score\n",
        "from sklearn.preprocessing import StandardScaler, LabelEncoder\n",
        "from sklearn.linear_model import LogisticRegression\n",
        "from sklearn.metrics import classification_report, confusion_matrix\n",
        "from sklearn import linear_model, model_selection"
      ]
    },
    {
      "cell_type": "code",
      "execution_count": 7,
      "id": "41561294",
      "metadata": {},
      "outputs": [],
      "source": [
        "import pandas as pd\n",
        "import numpy as np\n",
        "import seaborn as sns\n",
        "import matplotlib\n",
        "\n",
        "from matplotlib import pyplot as plt\n",
        "\n",
        "from sklearn import model_selection\n",
        "from sklearn.metrics import accuracy_score, f1_score, precision_score, recall_score, confusion_matrix, roc_auc_score\n",
        "from sklearn.tree import DecisionTreeClassifier\n",
        "\n",
        "from imblearn.over_sampling import SMOTE \n",
        "from imblearn.under_sampling import EditedNearestNeighbours\n",
        "from imblearn.combine import SMOTEENN\n",
        "from collections import Counter"
      ]
    },
    {
      "cell_type": "code",
      "execution_count": 10,
      "id": "9c39abd4",
      "metadata": {},
      "outputs": [],
      "source": [
        "from imblearn.over_sampling import RandomOverSampler"
      ]
    },
    {
      "cell_type": "code",
      "execution_count": 2,
      "id": "cLgzZQyVOeQ6",
      "metadata": {
        "id": "cLgzZQyVOeQ6"
      },
      "outputs": [],
      "source": [
        "X_train = pd.read_csv('../datasets/word2vec/train_data_imputed_FINAL.csv')\n",
        "X_test = pd.read_csv('../datasets/word2vec/test_data_imputed_FINAL.csv')\n",
        "y_train = pd.read_csv('../datasets/word2vec/y_train_FINAL.csv').iloc[:,1:]\n",
        "y_test = pd.read_csv('../datasets/word2vec/y_test_FINAL.csv').iloc[:,1:]"
      ]
    },
    {
      "cell_type": "code",
      "execution_count": 17,
      "id": "Ny4IbdNa73pi",
      "metadata": {
        "colab": {
          "base_uri": "https://localhost:8080/"
        },
        "id": "Ny4IbdNa73pi",
        "outputId": "fd20daaa-4262-46cd-d8e5-e3e027ba8f57"
      },
      "outputs": [
        {
          "name": "stdout",
          "output_type": "stream",
          "text": [
            "X_train: (11516, 263)\n",
            "y_train: (11516, 1)\n",
            "X_test: (2880, 1, 263)\n",
            "y_test: (2880, 1)\n"
          ]
        }
      ],
      "source": [
        "print(f'X_train: {X_train.shape}')\n",
        "print(f'y_train: {y_train.shape}')\n",
        "print(f'X_test: {X_test.shape}')\n",
        "print(f'y_test: {y_test.shape}')"
      ]
    },
    {
      "cell_type": "markdown",
      "id": "EhbZFe6TzJeV",
      "metadata": {
        "id": "EhbZFe6TzJeV"
      },
      "source": [
        "## Oversampling "
      ]
    },
    {
      "cell_type": "code",
      "execution_count": 8,
      "id": "nCZmbnoGHkSI",
      "metadata": {
        "colab": {
          "base_uri": "https://localhost:8080/"
        },
        "id": "nCZmbnoGHkSI",
        "outputId": "5801e63a-bcc8-4e49-d01f-4f08f1b3122f"
      },
      "outputs": [
        {
          "name": "stdout",
          "output_type": "stream",
          "text": [
            "Before oversampling: Counter({0: 11293, 1: 223})\n"
          ]
        }
      ],
      "source": [
        "original_counter = Counter(y_train.loc[:,'fraudulent'])\n",
        "print(\"Before oversampling:\", original_counter)"
      ]
    },
    {
      "cell_type": "code",
      "execution_count": 11,
      "id": "N5uV8hk8GQmf",
      "metadata": {
        "id": "N5uV8hk8GQmf"
      },
      "outputs": [],
      "source": [
        "oversampler = RandomOverSampler(sampling_strategy = 1, random_state=42)\n",
        "X_train_over, y_train_over = oversampler.fit_resample(X_train, y_train)"
      ]
    },
    {
      "cell_type": "code",
      "execution_count": 12,
      "id": "_nZIhwalHm5T",
      "metadata": {
        "colab": {
          "base_uri": "https://localhost:8080/"
        },
        "id": "_nZIhwalHm5T",
        "outputId": "381b8611-6f15-425e-a038-727e86db4e25"
      },
      "outputs": [
        {
          "name": "stdout",
          "output_type": "stream",
          "text": [
            "After oversampling: Counter({0: 11293, 1: 11293})\n"
          ]
        }
      ],
      "source": [
        "after_counter = Counter(y_train_over.loc[:,'fraudulent'])\n",
        "print(\"After oversampling:\", after_counter)"
      ]
    },
    {
      "cell_type": "code",
      "execution_count": 13,
      "id": "wQ7XX39hAP_w",
      "metadata": {
        "id": "wQ7XX39hAP_w"
      },
      "outputs": [],
      "source": [
        "X_train_over = X_train_over.values\n",
        "X_train_over = X_train_over.reshape(X_train_over.shape[0], 1, X_train_over.shape[1])"
      ]
    },
    {
      "cell_type": "code",
      "execution_count": 14,
      "id": "ZaKczI9iEuz3",
      "metadata": {
        "id": "ZaKczI9iEuz3"
      },
      "outputs": [],
      "source": [
        "X_test = X_test.values\n",
        "X_test = X_test.reshape(X_test.shape[0], 1, X_test.shape[1])"
      ]
    },
    {
      "cell_type": "markdown",
      "id": "ef23d707",
      "metadata": {
        "id": "ef23d707"
      },
      "source": [
        "# Basic NN with Bidirectional LSTM"
      ]
    },
    {
      "cell_type": "code",
      "execution_count": null,
      "id": "kF57P6PGE4TC",
      "metadata": {
        "id": "kF57P6PGE4TC"
      },
      "outputs": [],
      "source": [
        "# for reproducibility \n",
        "np.random.seed(42)\n",
        "tensorflow.random.set_seed(42)\n",
        "\n",
        "model1 = Sequential()\n",
        "model1.add(Bidirectional(LSTM(64, return_sequences=False))) \n",
        "model1.add(Dropout(0.2))\n",
        "model1.add(Dense(1, activation='sigmoid'))\n",
        "\n",
        "model1.compile(loss='binary_crossentropy', optimizer='adam', metrics = ['accuracy',metrics.Precision(), metrics.Recall(),metrics.AUC()])\n"
      ]
    },
    {
      "cell_type": "code",
      "execution_count": null,
      "id": "-Xyy82Q4FNRX",
      "metadata": {
        "colab": {
          "base_uri": "https://localhost:8080/"
        },
        "id": "-Xyy82Q4FNRX",
        "outputId": "fdb396fb-d75e-4858-9c3c-c06816660ce6"
      },
      "outputs": [
        {
          "name": "stdout",
          "output_type": "stream",
          "text": [
            "Epoch 1/20\n",
            "353/353 [==============================] - 6s 4ms/step - loss: 0.3385 - accuracy: 0.8498 - precision: 0.8275 - recall: 0.8839 - auc: 0.9353\n",
            "Epoch 2/20\n",
            "353/353 [==============================] - 1s 4ms/step - loss: 0.1360 - accuracy: 0.9569 - precision: 0.9385 - recall: 0.9778 - auc: 0.9885\n",
            "Epoch 3/20\n",
            "353/353 [==============================] - 1s 4ms/step - loss: 0.0863 - accuracy: 0.9740 - precision: 0.9585 - recall: 0.9909 - auc: 0.9949\n",
            "Epoch 4/20\n",
            "353/353 [==============================] - 1s 4ms/step - loss: 0.0607 - accuracy: 0.9835 - precision: 0.9714 - recall: 0.9964 - auc: 0.9972\n",
            "Epoch 5/20\n",
            "353/353 [==============================] - 2s 4ms/step - loss: 0.0415 - accuracy: 0.9891 - precision: 0.9803 - recall: 0.9981 - auc: 0.9988\n",
            "Epoch 6/20\n",
            "353/353 [==============================] - 1s 4ms/step - loss: 0.0293 - accuracy: 0.9924 - precision: 0.9859 - recall: 0.9991 - auc: 0.9995\n",
            "Epoch 7/20\n",
            "353/353 [==============================] - 1s 4ms/step - loss: 0.0236 - accuracy: 0.9940 - precision: 0.9889 - recall: 0.9993 - auc: 0.9996\n",
            "Epoch 8/20\n",
            "353/353 [==============================] - 1s 4ms/step - loss: 0.0163 - accuracy: 0.9963 - precision: 0.9931 - recall: 0.9996 - auc: 0.9998\n",
            "Epoch 9/20\n",
            "353/353 [==============================] - 2s 5ms/step - loss: 0.0130 - accuracy: 0.9973 - precision: 0.9949 - recall: 0.9996 - auc: 0.9999\n",
            "Epoch 10/20\n",
            "353/353 [==============================] - 2s 5ms/step - loss: 0.0101 - accuracy: 0.9978 - precision: 0.9957 - recall: 1.0000 - auc: 0.9999\n",
            "Epoch 11/20\n",
            "353/353 [==============================] - 2s 4ms/step - loss: 0.0083 - accuracy: 0.9987 - precision: 0.9974 - recall: 0.9999 - auc: 0.9999\n",
            "Epoch 12/20\n",
            "353/353 [==============================] - 1s 4ms/step - loss: 0.0073 - accuracy: 0.9983 - precision: 0.9972 - recall: 0.9995 - auc: 1.0000\n",
            "Epoch 13/20\n",
            "353/353 [==============================] - 1s 4ms/step - loss: 0.0059 - accuracy: 0.9991 - precision: 0.9981 - recall: 1.0000 - auc: 1.0000\n",
            "Epoch 14/20\n",
            "353/353 [==============================] - 1s 4ms/step - loss: 0.0056 - accuracy: 0.9988 - precision: 0.9977 - recall: 0.9999 - auc: 1.0000\n",
            "Epoch 15/20\n",
            "353/353 [==============================] - 2s 4ms/step - loss: 0.0033 - accuracy: 0.9994 - precision: 0.9989 - recall: 1.0000 - auc: 1.0000\n",
            "Epoch 16/20\n",
            "353/353 [==============================] - 1s 4ms/step - loss: 0.0035 - accuracy: 0.9994 - precision: 0.9990 - recall: 0.9997 - auc: 1.0000\n",
            "Epoch 17/20\n",
            "353/353 [==============================] - 1s 4ms/step - loss: 0.0032 - accuracy: 0.9992 - precision: 0.9985 - recall: 0.9999 - auc: 1.0000\n",
            "Epoch 18/20\n",
            "353/353 [==============================] - 1s 4ms/step - loss: 0.0026 - accuracy: 0.9996 - precision: 0.9991 - recall: 1.0000 - auc: 1.0000\n",
            "Epoch 19/20\n",
            "353/353 [==============================] - 1s 4ms/step - loss: 0.0027 - accuracy: 0.9994 - precision: 0.9991 - recall: 0.9997 - auc: 1.0000\n",
            "Epoch 20/20\n",
            "353/353 [==============================] - 1s 4ms/step - loss: 0.0015 - accuracy: 0.9998 - precision: 0.9996 - recall: 1.0000 - auc: 1.0000\n"
          ]
        },
        {
          "data": {
            "text/plain": [
              "<keras.callbacks.History at 0x7f26effa3bd0>"
            ]
          },
          "execution_count": 17,
          "metadata": {},
          "output_type": "execute_result"
        }
      ],
      "source": [
        "model1.fit(X_train_over, y_train_over, epochs=20, batch_size = 64)"
      ]
    },
    {
      "cell_type": "code",
      "execution_count": null,
      "id": "SZaprrw0FMRB",
      "metadata": {
        "colab": {
          "base_uri": "https://localhost:8080/"
        },
        "id": "SZaprrw0FMRB",
        "outputId": "d86f6f36-510b-437b-f63d-51880584831d"
      },
      "outputs": [
        {
          "name": "stdout",
          "output_type": "stream",
          "text": [
            "Model: \"sequential\"\n",
            "_________________________________________________________________\n",
            " Layer (type)                Output Shape              Param #   \n",
            "=================================================================\n",
            " bidirectional (Bidirectiona  (None, 128)              167936    \n",
            " l)                                                              \n",
            "                                                                 \n",
            " dropout (Dropout)           (None, 128)               0         \n",
            "                                                                 \n",
            " dense (Dense)               (None, 1)                 129       \n",
            "                                                                 \n",
            "=================================================================\n",
            "Total params: 168,065\n",
            "Trainable params: 168,065\n",
            "Non-trainable params: 0\n",
            "_________________________________________________________________\n",
            "None\n"
          ]
        }
      ],
      "source": [
        "print(model1.summary())"
      ]
    },
    {
      "cell_type": "code",
      "execution_count": null,
      "id": "rwNjUm2eFzF8",
      "metadata": {
        "colab": {
          "base_uri": "https://localhost:8080/"
        },
        "id": "rwNjUm2eFzF8",
        "outputId": "68f4a3cd-cf9b-4a72-aaf4-d1ec6f92ed47"
      },
      "outputs": [
        {
          "name": "stdout",
          "output_type": "stream",
          "text": [
            "706/706 [==============================] - 1s 2ms/step - loss: 0.0017 - accuracy: 0.9996 - precision: 0.9991 - recall: 1.0000 - auc: 1.0000\n",
            "Train Results\n",
            "Precision: 0.9991152882575989\n",
            "Recall: 1.0\n",
            "F1 Score: 0.9995574483634847\n",
            "Accuracy: 0.9995572566986084\n",
            "AUROC:1.0000001192092896\n"
          ]
        }
      ],
      "source": [
        "train_results = model1.evaluate(X_train_over, y_train_over)\n",
        "precision = train_results[2]\n",
        "recall = train_results[3]\n",
        "f1_score = 2 * (precision * recall) / (precision + recall)\n",
        "print('Train Results')\n",
        "print(f'Precision: {precision}\\nRecall: {recall}\\nF1 Score: {f1_score}\\nAccuracy: {train_results[1]}\\nAUROC:{train_results[4]}')"
      ]
    },
    {
      "cell_type": "code",
      "execution_count": null,
      "id": "mon1QUYJFzF-",
      "metadata": {
        "colab": {
          "base_uri": "https://localhost:8080/"
        },
        "id": "mon1QUYJFzF-",
        "outputId": "ee830183-fcc5-4d8a-b49f-99f9bb3edcf6"
      },
      "outputs": [
        {
          "name": "stdout",
          "output_type": "stream",
          "text": [
            "90/90 [==============================] - 0s 2ms/step - loss: 0.0347 - accuracy: 0.9899 - precision: 0.6901 - recall: 0.8750 - auc: 0.9782\n",
            "Test Results\n",
            "Precision: 0.6901408433914185\n",
            "Recall: 0.875\n",
            "F1 Score: 0.7716535422575659\n",
            "Accuracy: 0.9899305701255798\n",
            "AUROC:0.9782476425170898\n"
          ]
        }
      ],
      "source": [
        "test_results = model1.evaluate(X_test, y_test)\n",
        "precision = test_results[2]\n",
        "recall = test_results[3]\n",
        "f1_score = 2 * (precision * recall) / (precision + recall)\n",
        "print('Test Results')\n",
        "print(f'Precision: {precision}\\nRecall: {recall}\\nF1 Score: {f1_score}\\nAccuracy: {test_results[1]}\\nAUROC:{test_results[4]}')"
      ]
    },
    {
      "cell_type": "markdown",
      "id": "R_EeXShzATH5",
      "metadata": {
        "id": "R_EeXShzATH5"
      },
      "source": [
        "Add hidden layers"
      ]
    },
    {
      "cell_type": "code",
      "execution_count": null,
      "id": "5bee3de2",
      "metadata": {
        "id": "5bee3de2"
      },
      "outputs": [],
      "source": [
        "# for reproducibility \n",
        "np.random.seed(42)\n",
        "tensorflow.random.set_seed(42)\n",
        "\n",
        "model2 = Sequential()\n",
        "model2.add(Bidirectional(LSTM(64, return_sequences=False))) #input_shape = (batch_size (1st dimension -> num_rows --> excluded), input_size (2nd dimension -> cols),input_dim (2-1))\n",
        "model2.add(Dropout(0.2))\n",
        "model2.add(Dense(16, activation='relu'))\n",
        "model2.add(Dropout(0.2))\n",
        "model2.add(Dense(8, activation='relu'))\n",
        "model2.add(Dense(1, activation='sigmoid'))\n",
        "\n",
        "model2.compile(loss='binary_crossentropy', optimizer='adam', metrics = ['accuracy',metrics.Precision(), metrics.Recall(),metrics.AUC()])"
      ]
    },
    {
      "cell_type": "code",
      "execution_count": null,
      "id": "17a89d4e",
      "metadata": {
        "colab": {
          "base_uri": "https://localhost:8080/"
        },
        "id": "17a89d4e",
        "outputId": "f8c89b2f-5933-49cd-86d2-95aafcfd8772"
      },
      "outputs": [
        {
          "name": "stdout",
          "output_type": "stream",
          "text": [
            "Epoch 1/20\n",
            "353/353 [==============================] - 6s 5ms/step - loss: 0.3725 - accuracy: 0.8221 - precision_1: 0.7994 - recall_1: 0.8600 - auc_1: 0.9142\n",
            "Epoch 2/20\n",
            "353/353 [==============================] - 2s 6ms/step - loss: 0.1245 - accuracy: 0.9580 - precision_1: 0.9434 - recall_1: 0.9745 - auc_1: 0.9869\n",
            "Epoch 3/20\n",
            "353/353 [==============================] - 3s 8ms/step - loss: 0.0767 - accuracy: 0.9748 - precision_1: 0.9652 - recall_1: 0.9850 - auc_1: 0.9943\n",
            "Epoch 4/20\n",
            "353/353 [==============================] - 2s 6ms/step - loss: 0.0436 - accuracy: 0.9875 - precision_1: 0.9818 - recall_1: 0.9934 - auc_1: 0.9977\n",
            "Epoch 5/20\n",
            "353/353 [==============================] - 2s 4ms/step - loss: 0.0303 - accuracy: 0.9907 - precision_1: 0.9871 - recall_1: 0.9943 - auc_1: 0.9988\n",
            "Epoch 6/20\n",
            "353/353 [==============================] - 2s 5ms/step - loss: 0.0241 - accuracy: 0.9924 - precision_1: 0.9897 - recall_1: 0.9951 - auc_1: 0.9991\n",
            "Epoch 7/20\n",
            "353/353 [==============================] - 2s 4ms/step - loss: 0.0200 - accuracy: 0.9944 - precision_1: 0.9927 - recall_1: 0.9962 - auc_1: 0.9993\n",
            "Epoch 8/20\n",
            "353/353 [==============================] - 2s 4ms/step - loss: 0.0164 - accuracy: 0.9952 - precision_1: 0.9932 - recall_1: 0.9973 - auc_1: 0.9995\n",
            "Epoch 9/20\n",
            "353/353 [==============================] - 2s 4ms/step - loss: 0.0147 - accuracy: 0.9954 - precision_1: 0.9938 - recall_1: 0.9971 - auc_1: 0.9997\n",
            "Epoch 10/20\n",
            "353/353 [==============================] - 3s 8ms/step - loss: 0.0091 - accuracy: 0.9971 - precision_1: 0.9961 - recall_1: 0.9981 - auc_1: 0.9999\n",
            "Epoch 11/20\n",
            "353/353 [==============================] - 3s 8ms/step - loss: 0.0117 - accuracy: 0.9965 - precision_1: 0.9956 - recall_1: 0.9975 - auc_1: 0.9997\n",
            "Epoch 12/20\n",
            "353/353 [==============================] - 2s 4ms/step - loss: 0.0082 - accuracy: 0.9977 - precision_1: 0.9968 - recall_1: 0.9987 - auc_1: 0.9997\n",
            "Epoch 13/20\n",
            "353/353 [==============================] - 2s 4ms/step - loss: 0.0100 - accuracy: 0.9970 - precision_1: 0.9964 - recall_1: 0.9976 - auc_1: 0.9997\n",
            "Epoch 14/20\n",
            "353/353 [==============================] - 2s 5ms/step - loss: 0.0105 - accuracy: 0.9968 - precision_1: 0.9960 - recall_1: 0.9976 - auc_1: 0.9997\n",
            "Epoch 15/20\n",
            "353/353 [==============================] - 2s 4ms/step - loss: 0.0081 - accuracy: 0.9972 - precision_1: 0.9962 - recall_1: 0.9981 - auc_1: 0.9998\n",
            "Epoch 16/20\n",
            "353/353 [==============================] - 2s 4ms/step - loss: 0.0062 - accuracy: 0.9978 - precision_1: 0.9975 - recall_1: 0.9981 - auc_1: 0.9998\n",
            "Epoch 17/20\n",
            "353/353 [==============================] - 2s 4ms/step - loss: 0.0059 - accuracy: 0.9983 - precision_1: 0.9977 - recall_1: 0.9989 - auc_1: 0.9998\n",
            "Epoch 18/20\n",
            "353/353 [==============================] - 2s 4ms/step - loss: 0.0089 - accuracy: 0.9971 - precision_1: 0.9967 - recall_1: 0.9975 - auc_1: 0.9997\n",
            "Epoch 19/20\n",
            "353/353 [==============================] - 2s 5ms/step - loss: 0.0031 - accuracy: 0.9992 - precision_1: 0.9988 - recall_1: 0.9996 - auc_1: 0.9999\n",
            "Epoch 20/20\n",
            "353/353 [==============================] - 2s 4ms/step - loss: 0.0077 - accuracy: 0.9975 - precision_1: 0.9969 - recall_1: 0.9981 - auc_1: 0.9998\n"
          ]
        },
        {
          "data": {
            "text/plain": [
              "<keras.callbacks.History at 0x7f26e8146dd0>"
            ]
          },
          "execution_count": 27,
          "metadata": {},
          "output_type": "execute_result"
        }
      ],
      "source": [
        "model2.fit(X_train_over, y_train_over, epochs=20, batch_size = 64)"
      ]
    },
    {
      "cell_type": "code",
      "execution_count": null,
      "id": "o7WYXMGNOimP",
      "metadata": {
        "colab": {
          "base_uri": "https://localhost:8080/"
        },
        "id": "o7WYXMGNOimP",
        "outputId": "114f3623-d670-4a6b-cccf-aca4ec3e7661"
      },
      "outputs": [
        {
          "name": "stdout",
          "output_type": "stream",
          "text": [
            "Model: \"sequential_1\"\n",
            "_________________________________________________________________\n",
            " Layer (type)                Output Shape              Param #   \n",
            "=================================================================\n",
            " bidirectional_1 (Bidirectio  (None, 128)              167936    \n",
            " nal)                                                            \n",
            "                                                                 \n",
            " dropout_1 (Dropout)         (None, 128)               0         \n",
            "                                                                 \n",
            " dense_1 (Dense)             (None, 16)                2064      \n",
            "                                                                 \n",
            " dropout_2 (Dropout)         (None, 16)                0         \n",
            "                                                                 \n",
            " dense_2 (Dense)             (None, 8)                 136       \n",
            "                                                                 \n",
            " dense_3 (Dense)             (None, 1)                 9         \n",
            "                                                                 \n",
            "=================================================================\n",
            "Total params: 170,145\n",
            "Trainable params: 170,145\n",
            "Non-trainable params: 0\n",
            "_________________________________________________________________\n",
            "None\n"
          ]
        }
      ],
      "source": [
        "print(model2.summary())"
      ]
    },
    {
      "cell_type": "code",
      "execution_count": null,
      "id": "kS96_iVzCnIP",
      "metadata": {
        "colab": {
          "base_uri": "https://localhost:8080/"
        },
        "id": "kS96_iVzCnIP",
        "outputId": "ad6364d0-c4c2-48c3-b4bb-5127317a2a70"
      },
      "outputs": [
        {
          "name": "stdout",
          "output_type": "stream",
          "text": [
            "706/706 [==============================] - 2s 2ms/step - loss: 9.7658e-04 - accuracy: 0.9996 - precision_1: 0.9992 - recall_1: 1.0000 - auc_1: 1.0000\n",
            "Train Results\n",
            "Precision: 0.9992036819458008\n",
            "Recall: 1.0\n",
            "F1 Score: 0.999601682379144\n",
            "Accuracy: 0.9996015429496765\n",
            "AUROC:1.0\n"
          ]
        }
      ],
      "source": [
        "train_results = model2.evaluate(X_train_over, y_train_over)\n",
        "precision = train_results[2]\n",
        "recall = train_results[3]\n",
        "f1_score = 2 * (precision * recall) / (precision + recall)\n",
        "print('Train Results')\n",
        "print(f'Precision: {precision}\\nRecall: {recall}\\nF1 Score: {f1_score}\\nAccuracy: {train_results[1]}\\nAUROC:{train_results[4]}')"
      ]
    },
    {
      "cell_type": "code",
      "execution_count": null,
      "id": "1QQhPBMFCtia",
      "metadata": {
        "colab": {
          "base_uri": "https://localhost:8080/"
        },
        "id": "1QQhPBMFCtia",
        "outputId": "65a523e5-9002-4849-c50e-509934460d24"
      },
      "outputs": [
        {
          "name": "stdout",
          "output_type": "stream",
          "text": [
            "90/90 [==============================] - 0s 2ms/step - loss: 0.0465 - accuracy: 0.9899 - precision_1: 0.7077 - recall_1: 0.8214 - auc_1: 0.9435\n",
            "Test Results\n",
            "Precision: 0.7076923251152039\n",
            "Recall: 0.8214285969734192\n",
            "F1 Score: 0.7603305995110141\n",
            "Accuracy: 0.9899305701255798\n",
            "AUROC:0.943466067314148\n"
          ]
        }
      ],
      "source": [
        "test_results = model2.evaluate(X_test, y_test)\n",
        "precision = test_results[2]\n",
        "recall = test_results[3]\n",
        "f1_score = 2 * (precision * recall) / (precision + recall)\n",
        "print('Test Results')\n",
        "print(f'Precision: {precision}\\nRecall: {recall}\\nF1 Score: {f1_score}\\nAccuracy: {test_results[1]}\\nAUROC:{test_results[4]}')"
      ]
    },
    {
      "cell_type": "markdown",
      "id": "viZYZzj1AcSf",
      "metadata": {
        "id": "viZYZzj1AcSf"
      },
      "source": [
        "Add more hidden layers"
      ]
    },
    {
      "cell_type": "code",
      "execution_count": null,
      "id": "XgP_wV65Gofc",
      "metadata": {
        "id": "XgP_wV65Gofc"
      },
      "outputs": [],
      "source": [
        "# for reproducibility \n",
        "np.random.seed(42)\n",
        "tensorflow.random.set_seed(42)\n",
        "\n",
        "model3 = Sequential()\n",
        "model3.add(Bidirectional(LSTM(64, return_sequences=False))) \n",
        "model3.add(Dense(64, activation='relu'))\n",
        "model3.add(Dropout(0.2))\n",
        "model3.add(Dense(32, activation='relu'))\n",
        "model3.add(Dropout(0.2))\n",
        "model3.add(Dense(16, activation='relu'))\n",
        "model3.add(Dense(8, activation='relu'))\n",
        "model3.add(Dense(1, activation='sigmoid'))\n",
        "\n",
        "model3.compile(loss='binary_crossentropy', optimizer='adam', metrics = ['accuracy',metrics.Precision(), metrics.Recall(),metrics.AUC()])"
      ]
    },
    {
      "cell_type": "code",
      "execution_count": null,
      "id": "pGV0hF4bGofd",
      "metadata": {
        "colab": {
          "base_uri": "https://localhost:8080/"
        },
        "id": "pGV0hF4bGofd",
        "outputId": "7ac81d12-939f-46e1-bbed-02629025a893"
      },
      "outputs": [
        {
          "name": "stdout",
          "output_type": "stream",
          "text": [
            "Epoch 1/20\n",
            "353/353 [==============================] - 7s 8ms/step - loss: 0.2953 - accuracy: 0.8616 - precision_2: 0.8279 - recall_2: 0.9130 - auc_2: 0.9440\n",
            "Epoch 2/20\n",
            "353/353 [==============================] - 2s 5ms/step - loss: 0.0782 - accuracy: 0.9749 - precision_2: 0.9646 - recall_2: 0.9861 - auc_2: 0.9934\n",
            "Epoch 3/20\n",
            "353/353 [==============================] - 1s 4ms/step - loss: 0.0505 - accuracy: 0.9839 - precision_2: 0.9785 - recall_2: 0.9895 - auc_2: 0.9970\n",
            "Epoch 4/20\n",
            "353/353 [==============================] - 2s 6ms/step - loss: 0.0208 - accuracy: 0.9942 - precision_2: 0.9915 - recall_2: 0.9969 - auc_2: 0.9991\n",
            "Epoch 5/20\n",
            "353/353 [==============================] - 3s 7ms/step - loss: 0.0155 - accuracy: 0.9960 - precision_2: 0.9944 - recall_2: 0.9977 - auc_2: 0.9994\n",
            "Epoch 6/20\n",
            "353/353 [==============================] - 2s 5ms/step - loss: 0.0179 - accuracy: 0.9948 - precision_2: 0.9929 - recall_2: 0.9967 - auc_2: 0.9991\n",
            "Epoch 7/20\n",
            "353/353 [==============================] - 2s 4ms/step - loss: 0.0109 - accuracy: 0.9970 - precision_2: 0.9958 - recall_2: 0.9982 - auc_2: 0.9997\n",
            "Epoch 8/20\n",
            "353/353 [==============================] - 2s 5ms/step - loss: 0.0105 - accuracy: 0.9970 - precision_2: 0.9959 - recall_2: 0.9981 - auc_2: 0.9997\n",
            "Epoch 9/20\n",
            "353/353 [==============================] - 3s 9ms/step - loss: 0.0158 - accuracy: 0.9950 - precision_2: 0.9935 - recall_2: 0.9965 - auc_2: 0.9994\n",
            "Epoch 10/20\n",
            "353/353 [==============================] - 3s 7ms/step - loss: 0.0055 - accuracy: 0.9986 - precision_2: 0.9979 - recall_2: 0.9993 - auc_2: 0.9999\n",
            "Epoch 11/20\n",
            "353/353 [==============================] - 2s 5ms/step - loss: 0.0022 - accuracy: 0.9997 - precision_2: 0.9995 - recall_2: 0.9999 - auc_2: 0.9999\n",
            "Epoch 12/20\n",
            "353/353 [==============================] - 2s 4ms/step - loss: 0.0069 - accuracy: 0.9978 - precision_2: 0.9972 - recall_2: 0.9984 - auc_2: 0.9998\n",
            "Epoch 13/20\n",
            "353/353 [==============================] - 2s 5ms/step - loss: 0.0057 - accuracy: 0.9983 - precision_2: 0.9981 - recall_2: 0.9986 - auc_2: 0.9998\n",
            "Epoch 14/20\n",
            "353/353 [==============================] - 2s 4ms/step - loss: 0.0112 - accuracy: 0.9959 - precision_2: 0.9952 - recall_2: 0.9965 - auc_2: 0.9997\n",
            "Epoch 15/20\n",
            "353/353 [==============================] - 2s 5ms/step - loss: 0.0058 - accuracy: 0.9980 - precision_2: 0.9975 - recall_2: 0.9985 - auc_2: 0.9999\n",
            "Epoch 16/20\n",
            "353/353 [==============================] - 2s 6ms/step - loss: 0.0027 - accuracy: 0.9990 - precision_2: 0.9988 - recall_2: 0.9992 - auc_2: 1.0000\n",
            "Epoch 17/20\n",
            "353/353 [==============================] - 2s 4ms/step - loss: 4.6582e-04 - accuracy: 1.0000 - precision_2: 0.9999 - recall_2: 1.0000 - auc_2: 1.0000\n",
            "Epoch 18/20\n",
            "353/353 [==============================] - 2s 6ms/step - loss: 6.0291e-05 - accuracy: 1.0000 - precision_2: 1.0000 - recall_2: 1.0000 - auc_2: 1.0000\n",
            "Epoch 19/20\n",
            "353/353 [==============================] - 2s 5ms/step - loss: 2.1756e-05 - accuracy: 1.0000 - precision_2: 1.0000 - recall_2: 1.0000 - auc_2: 1.0000\n",
            "Epoch 20/20\n",
            "353/353 [==============================] - 2s 5ms/step - loss: 2.1802e-05 - accuracy: 1.0000 - precision_2: 1.0000 - recall_2: 1.0000 - auc_2: 1.0000\n"
          ]
        },
        {
          "data": {
            "text/plain": [
              "<keras.callbacks.History at 0x7f26e9748ed0>"
            ]
          },
          "execution_count": 33,
          "metadata": {},
          "output_type": "execute_result"
        }
      ],
      "source": [
        "model3.fit(X_train_over, y_train_over, epochs=20, batch_size = 64)"
      ]
    },
    {
      "cell_type": "code",
      "execution_count": null,
      "id": "1SPGC9XvOmUO",
      "metadata": {
        "colab": {
          "base_uri": "https://localhost:8080/"
        },
        "id": "1SPGC9XvOmUO",
        "outputId": "13ee62fd-34be-44af-b8ca-80830af9fae8"
      },
      "outputs": [
        {
          "name": "stdout",
          "output_type": "stream",
          "text": [
            "Model: \"sequential_2\"\n",
            "_________________________________________________________________\n",
            " Layer (type)                Output Shape              Param #   \n",
            "=================================================================\n",
            " bidirectional_2 (Bidirectio  (None, 128)              167936    \n",
            " nal)                                                            \n",
            "                                                                 \n",
            " dense_4 (Dense)             (None, 64)                8256      \n",
            "                                                                 \n",
            " dropout_3 (Dropout)         (None, 64)                0         \n",
            "                                                                 \n",
            " dense_5 (Dense)             (None, 32)                2080      \n",
            "                                                                 \n",
            " dropout_4 (Dropout)         (None, 32)                0         \n",
            "                                                                 \n",
            " dense_6 (Dense)             (None, 16)                528       \n",
            "                                                                 \n",
            " dense_7 (Dense)             (None, 8)                 136       \n",
            "                                                                 \n",
            " dense_8 (Dense)             (None, 1)                 9         \n",
            "                                                                 \n",
            "=================================================================\n",
            "Total params: 178,945\n",
            "Trainable params: 178,945\n",
            "Non-trainable params: 0\n",
            "_________________________________________________________________\n"
          ]
        }
      ],
      "source": [
        "model3.summary()"
      ]
    },
    {
      "cell_type": "code",
      "execution_count": null,
      "id": "XsR9SstbGofe",
      "metadata": {
        "colab": {
          "base_uri": "https://localhost:8080/"
        },
        "id": "XsR9SstbGofe",
        "outputId": "472532d7-85f2-4273-a408-6ee9c6fe0fb4"
      },
      "outputs": [
        {
          "name": "stdout",
          "output_type": "stream",
          "text": [
            "706/706 [==============================] - 2s 2ms/step - loss: 1.4743e-06 - accuracy: 1.0000 - precision_2: 1.0000 - recall_2: 1.0000 - auc_2: 1.0000\n",
            "Train Results\n",
            "Precision: 1.0\n",
            "Recall: 1.0\n",
            "F1 Score: 1.0\n",
            "Accuracy: 1.0\n",
            "AUROC:1.0\n"
          ]
        }
      ],
      "source": [
        "train_results = model3.evaluate(X_train_over, y_train_over)\n",
        "precision = train_results[2]\n",
        "recall = train_results[3]\n",
        "f1_score = 2 * (precision * recall) / (precision + recall)\n",
        "print('Train Results')\n",
        "print(f'Precision: {precision}\\nRecall: {recall}\\nF1 Score: {f1_score}\\nAccuracy: {train_results[1]}\\nAUROC:{train_results[4]}')"
      ]
    },
    {
      "cell_type": "code",
      "execution_count": null,
      "id": "nE3F9c9dGofe",
      "metadata": {
        "colab": {
          "base_uri": "https://localhost:8080/"
        },
        "id": "nE3F9c9dGofe",
        "outputId": "e1b106ed-0df8-453f-d8b0-858770e13501"
      },
      "outputs": [
        {
          "name": "stdout",
          "output_type": "stream",
          "text": [
            "90/90 [==============================] - 0s 2ms/step - loss: 0.0736 - accuracy: 0.9906 - precision_2: 0.7843 - recall_2: 0.7143 - auc_2: 0.8737\n",
            "Test Results\n",
            "Precision: 0.7843137383460999\n",
            "Recall: 0.7142857313156128\n",
            "F1 Score: 0.747663566572446\n",
            "Accuracy: 0.9906250238418579\n",
            "AUROC:0.8737004995346069\n"
          ]
        }
      ],
      "source": [
        "test_results = model3.evaluate(X_test, y_test)\n",
        "precision = test_results[2]\n",
        "recall = test_results[3]\n",
        "f1_score = 2 * (precision * recall) / (precision + recall)\n",
        "print('Test Results')\n",
        "print(f'Precision: {precision}\\nRecall: {recall}\\nF1 Score: {f1_score}\\nAccuracy: {test_results[1]}\\nAUROC:{test_results[4]}')"
      ]
    },
    {
      "cell_type": "markdown",
      "id": "qADUFNbyDLEX",
      "metadata": {
        "id": "qADUFNbyDLEX"
      },
      "source": [
        "#Hyperparameter tuning (Round 1)\n",
        "\n",
        "Best test F1 score: 0.826"
      ]
    },
    {
      "cell_type": "code",
      "execution_count": null,
      "id": "W_jJLlFate3O",
      "metadata": {
        "id": "W_jJLlFate3O"
      },
      "outputs": [],
      "source": [
        "def bidirectional_lstm_tuner(batch_size, neurons, activation, optimizer, dropout, dropout_rate, learning_rate, epochs, layers1):\n",
        "\n",
        "    optimizerL = ['SGD', 'Adam', 'RMSprop', 'Adadelta', 'Adagrad', 'Adamax']\n",
        "    optimizerD= {'Adam':Adam(learning_rate=learning_rate), 'SGD':SGD(learning_rate=learning_rate),\n",
        "                  'RMSprop':RMSprop(learning_rate=learning_rate), 'Adadelta':Adadelta(learning_rate=learning_rate),\n",
        "                  'Adagrad':Adagrad(learning_rate=learning_rate), 'Adamax':Adamax(learning_rate=learning_rate),}\n",
        "    activationL = ['relu', 'sigmoid', 'softplus', 'softsign', 'tanh', 'selu', 'elu', 'exponential', 'relu']\n",
        "    neurons = round(neurons)\n",
        "    activation = activationL[round(activation)]\n",
        "    optimizer = optimizerD[optimizerL[round(optimizer)]]\n",
        "    batch_size = round(batch_size)\n",
        "    epochs = round(epochs)\n",
        "    layers1 = round(layers1)\n",
        "\n",
        "    def create_model():\n",
        "      # for reproducibility \n",
        "      np.random.seed(42)\n",
        "      tensorflow.random.set_seed(42)\n",
        "\n",
        "      tuned_model = Sequential()\n",
        "      tuned_model.add(Bidirectional(LSTM(neurons, return_sequences=False)))  \n",
        "      tuned_model.add(Dropout(dropout_rate, seed=42))\n",
        "\n",
        "      for i in range(layers1): #varying first set of hidden layers\n",
        "        tuned_model.add(Dense(neurons, activation=activation))\n",
        "        if dropout > 0.5:\n",
        "          tuned_model.add(Dropout(dropout_rate, seed=42))\n",
        "\n",
        "      tuned_model.add(Dense(1, activation='sigmoid')) #output layer\n",
        "      # tuned_model.compile(loss='binary_crossentropy', optimizer = optimizer, metrics=['accuracy',metrics.Precision(), metrics.Recall(),metrics.AUC()])\n",
        "      tuned_model.compile(loss='binary_crossentropy', optimizer = optimizer, metrics=['accuracy',metrics.Precision(), metrics.Recall()])\n",
        "      return tuned_model\n",
        "\n",
        "    es = EarlyStopping(monitor=\"loss\", patience=3)\n",
        "    mc = ModelCheckpoint('Best_tuned_bidirectional_LSTM_.h5', monitor='val_loss',mode='min',verbose=2, save_best_only=True)\n",
        "\n",
        "    tune_rnn = KerasClassifier(build_fn=create_model, epochs=epochs, batch_size=batch_size, verbose=0) \n",
        "    score = cross_val_score(tune_rnn, X_train_over, y_train_over, fit_params={'callbacks':[es]}, error_score='raise', scoring='f1').mean() #5 fold cross validation default\n",
        "    return score"
      ]
    },
    {
      "cell_type": "code",
      "execution_count": null,
      "id": "5ClGC_rbHfMx",
      "metadata": {
        "id": "5ClGC_rbHfMx"
      },
      "outputs": [],
      "source": [
        "params_bidirectional_lstm ={\n",
        "    'neurons': (10, 64),\n",
        "    'activation':(0, 8),\n",
        "    'optimizer':(0,5),\n",
        "    'learning_rate':(0.0001, 0.001),\n",
        "    'batch_size':(32, 128),\n",
        "    'epochs':(15, 30),\n",
        "    'layers1':(0,3),\n",
        "    'dropout':(0, 1),\n",
        "    'dropout_rate':(0, 0.5)\n",
        "}"
      ]
    },
    {
      "cell_type": "code",
      "execution_count": null,
      "id": "yBx8l-PyIPcs",
      "metadata": {
        "colab": {
          "base_uri": "https://localhost:8080/"
        },
        "id": "yBx8l-PyIPcs",
        "outputId": "623f616c-2dff-4e18-986c-6937cb126a30"
      },
      "outputs": [
        {
          "name": "stdout",
          "output_type": "stream",
          "text": [
            "|   iter    |  target   | activa... | batch_... |  dropout  | dropou... |  epochs   |  layers1  | learni... |  neurons  | optimizer |\n",
            "-------------------------------------------------------------------------------------------------------------------------------------\n"
          ]
        },
        {
          "name": "stderr",
          "output_type": "stream",
          "text": [
            "/usr/local/lib/python3.7/dist-packages/ipykernel_launcher.py:37: DeprecationWarning: KerasClassifier is deprecated, use Sci-Keras (https://github.com/adriangb/scikeras) instead. See https://www.adriangb.com/scikeras/stable/migration.html for help migrating.\n"
          ]
        },
        {
          "name": "stdout",
          "output_type": "stream",
          "text": [
            "142/142 [==============================] - 1s 2ms/step\n",
            "142/142 [==============================] - 1s 2ms/step\n",
            "142/142 [==============================] - 1s 2ms/step\n",
            "142/142 [==============================] - 1s 2ms/step\n",
            "142/142 [==============================] - 1s 2ms/step\n",
            "| \u001b[0m1        \u001b[0m | \u001b[0m0.1172   \u001b[0m | \u001b[0m2.996    \u001b[0m | \u001b[0m123.3    \u001b[0m | \u001b[0m0.732    \u001b[0m | \u001b[0m0.2993   \u001b[0m | \u001b[0m17.34    \u001b[0m | \u001b[0m0.468    \u001b[0m | \u001b[0m0.0001523\u001b[0m | \u001b[0m56.77    \u001b[0m | \u001b[0m3.006    \u001b[0m |\n"
          ]
        },
        {
          "name": "stderr",
          "output_type": "stream",
          "text": [
            "/usr/local/lib/python3.7/dist-packages/ipykernel_launcher.py:37: DeprecationWarning: KerasClassifier is deprecated, use Sci-Keras (https://github.com/adriangb/scikeras) instead. See https://www.adriangb.com/scikeras/stable/migration.html for help migrating.\n"
          ]
        },
        {
          "name": "stdout",
          "output_type": "stream",
          "text": [
            "142/142 [==============================] - 1s 2ms/step\n",
            "142/142 [==============================] - 1s 2ms/step\n",
            "142/142 [==============================] - 1s 2ms/step\n",
            "142/142 [==============================] - 1s 2ms/step\n",
            "142/142 [==============================] - 1s 2ms/step\n",
            "| \u001b[95m2        \u001b[0m | \u001b[95m0.1571   \u001b[0m | \u001b[95m5.665    \u001b[0m | \u001b[95m33.98    \u001b[0m | \u001b[95m0.9699   \u001b[0m | \u001b[95m0.4162   \u001b[0m | \u001b[95m18.19    \u001b[0m | \u001b[95m0.5455   \u001b[0m | \u001b[95m0.0002651\u001b[0m | \u001b[95m26.43    \u001b[0m | \u001b[95m2.624    \u001b[0m |\n"
          ]
        },
        {
          "name": "stderr",
          "output_type": "stream",
          "text": [
            "/usr/local/lib/python3.7/dist-packages/ipykernel_launcher.py:37: DeprecationWarning: KerasClassifier is deprecated, use Sci-Keras (https://github.com/adriangb/scikeras) instead. See https://www.adriangb.com/scikeras/stable/migration.html for help migrating.\n"
          ]
        },
        {
          "name": "stdout",
          "output_type": "stream",
          "text": [
            "142/142 [==============================] - 1s 2ms/step\n",
            "142/142 [==============================] - 1s 2ms/step\n",
            "142/142 [==============================] - 1s 3ms/step\n",
            "142/142 [==============================] - 1s 2ms/step\n",
            "142/142 [==============================] - 1s 2ms/step\n",
            "| \u001b[95m3        \u001b[0m | \u001b[95m0.9641   \u001b[0m | \u001b[95m3.456    \u001b[0m | \u001b[95m59.96    \u001b[0m | \u001b[95m0.6119   \u001b[0m | \u001b[95m0.06975  \u001b[0m | \u001b[95m19.38    \u001b[0m | \u001b[95m1.099    \u001b[0m | \u001b[95m0.0005105\u001b[0m | \u001b[95m52.4     \u001b[0m | \u001b[95m0.9984   \u001b[0m |\n"
          ]
        },
        {
          "name": "stderr",
          "output_type": "stream",
          "text": [
            "/usr/local/lib/python3.7/dist-packages/ipykernel_launcher.py:37: DeprecationWarning: KerasClassifier is deprecated, use Sci-Keras (https://github.com/adriangb/scikeras) instead. See https://www.adriangb.com/scikeras/stable/migration.html for help migrating.\n"
          ]
        },
        {
          "name": "stdout",
          "output_type": "stream",
          "text": [
            "142/142 [==============================] - 1s 2ms/step\n",
            "142/142 [==============================] - 1s 2ms/step\n",
            "142/142 [==============================] - 1s 2ms/step\n",
            "142/142 [==============================] - 1s 2ms/step\n",
            "142/142 [==============================] - 1s 2ms/step\n",
            "| \u001b[0m4        \u001b[0m | \u001b[0m0.2691   \u001b[0m | \u001b[0m4.114    \u001b[0m | \u001b[0m88.87    \u001b[0m | \u001b[0m0.04645  \u001b[0m | \u001b[0m0.3038   \u001b[0m | \u001b[0m17.56    \u001b[0m | \u001b[0m0.1952   \u001b[0m | \u001b[0m0.000954 \u001b[0m | \u001b[0m62.14    \u001b[0m | \u001b[0m4.042    \u001b[0m |\n"
          ]
        },
        {
          "name": "stderr",
          "output_type": "stream",
          "text": [
            "/usr/local/lib/python3.7/dist-packages/ipykernel_launcher.py:37: DeprecationWarning: KerasClassifier is deprecated, use Sci-Keras (https://github.com/adriangb/scikeras) instead. See https://www.adriangb.com/scikeras/stable/migration.html for help migrating.\n"
          ]
        },
        {
          "name": "stdout",
          "output_type": "stream",
          "text": [
            "142/142 [==============================] - 1s 2ms/step\n",
            "142/142 [==============================] - 1s 3ms/step\n",
            "142/142 [==============================] - 1s 2ms/step\n",
            "142/142 [==============================] - 1s 2ms/step\n",
            "142/142 [==============================] - 1s 2ms/step\n",
            "| \u001b[0m5        \u001b[0m | \u001b[0m0.8549   \u001b[0m | \u001b[0m2.437    \u001b[0m | \u001b[0m41.38    \u001b[0m | \u001b[0m0.6842   \u001b[0m | \u001b[0m0.2201   \u001b[0m | \u001b[0m16.83    \u001b[0m | \u001b[0m1.486    \u001b[0m | \u001b[0m0.0001309\u001b[0m | \u001b[0m59.1     \u001b[0m | \u001b[0m1.294    \u001b[0m |\n"
          ]
        },
        {
          "name": "stderr",
          "output_type": "stream",
          "text": [
            "/usr/local/lib/python3.7/dist-packages/ipykernel_launcher.py:37: DeprecationWarning: KerasClassifier is deprecated, use Sci-Keras (https://github.com/adriangb/scikeras) instead. See https://www.adriangb.com/scikeras/stable/migration.html for help migrating.\n"
          ]
        },
        {
          "name": "stdout",
          "output_type": "stream",
          "text": [
            "142/142 [==============================] - 1s 3ms/step\n",
            "142/142 [==============================] - 1s 3ms/step\n",
            "142/142 [==============================] - 1s 3ms/step\n",
            "142/142 [==============================] - 1s 3ms/step\n",
            "142/142 [==============================] - 2s 3ms/step\n",
            "| \u001b[0m6        \u001b[0m | \u001b[0m0.5467   \u001b[0m | \u001b[0m5.3      \u001b[0m | \u001b[0m61.92    \u001b[0m | \u001b[0m0.5201   \u001b[0m | \u001b[0m0.2734   \u001b[0m | \u001b[0m17.77    \u001b[0m | \u001b[0m2.909    \u001b[0m | \u001b[0m0.0007976\u001b[0m | \u001b[0m60.73    \u001b[0m | \u001b[0m4.474    \u001b[0m |\n"
          ]
        },
        {
          "name": "stderr",
          "output_type": "stream",
          "text": [
            "/usr/local/lib/python3.7/dist-packages/ipykernel_launcher.py:37: DeprecationWarning: KerasClassifier is deprecated, use Sci-Keras (https://github.com/adriangb/scikeras) instead. See https://www.adriangb.com/scikeras/stable/migration.html for help migrating.\n"
          ]
        },
        {
          "name": "stdout",
          "output_type": "stream",
          "text": [
            "142/142 [==============================] - 1s 2ms/step\n",
            "142/142 [==============================] - 1s 2ms/step\n",
            "142/142 [==============================] - 1s 2ms/step\n",
            "142/142 [==============================] - 1s 2ms/step\n",
            "142/142 [==============================] - 1s 3ms/step\n",
            "| \u001b[0m7        \u001b[0m | \u001b[0m0.1604   \u001b[0m | \u001b[0m4.783    \u001b[0m | \u001b[0m120.5    \u001b[0m | \u001b[0m0.08849  \u001b[0m | \u001b[0m0.09799  \u001b[0m | \u001b[0m15.68    \u001b[0m | \u001b[0m0.976    \u001b[0m | \u001b[0m0.0004498\u001b[0m | \u001b[0m24.65    \u001b[0m | \u001b[0m4.144    \u001b[0m |\n"
          ]
        },
        {
          "name": "stderr",
          "output_type": "stream",
          "text": [
            "/usr/local/lib/python3.7/dist-packages/ipykernel_launcher.py:37: DeprecationWarning: KerasClassifier is deprecated, use Sci-Keras (https://github.com/adriangb/scikeras) instead. See https://www.adriangb.com/scikeras/stable/migration.html for help migrating.\n"
          ]
        },
        {
          "name": "stdout",
          "output_type": "stream",
          "text": [
            "142/142 [==============================] - 1s 2ms/step\n",
            "142/142 [==============================] - 1s 2ms/step\n",
            "142/142 [==============================] - 1s 2ms/step\n",
            "142/142 [==============================] - 1s 2ms/step\n",
            "142/142 [==============================] - 1s 2ms/step\n",
            "| \u001b[95m8        \u001b[0m | \u001b[95m0.9644   \u001b[0m | \u001b[95m2.854    \u001b[0m | \u001b[95m58.97    \u001b[0m | \u001b[95m0.5427   \u001b[0m | \u001b[95m0.07046  \u001b[0m | \u001b[95m27.03    \u001b[0m | \u001b[95m0.2237   \u001b[0m | \u001b[95m0.0009882\u001b[0m | \u001b[95m51.7     \u001b[0m | \u001b[95m0.9936   \u001b[0m |\n"
          ]
        },
        {
          "name": "stderr",
          "output_type": "stream",
          "text": [
            "/usr/local/lib/python3.7/dist-packages/ipykernel_launcher.py:37: DeprecationWarning: KerasClassifier is deprecated, use Sci-Keras (https://github.com/adriangb/scikeras) instead. See https://www.adriangb.com/scikeras/stable/migration.html for help migrating.\n"
          ]
        },
        {
          "name": "stdout",
          "output_type": "stream",
          "text": [
            "142/142 [==============================] - 1s 2ms/step\n",
            "142/142 [==============================] - 1s 2ms/step\n",
            "142/142 [==============================] - 1s 2ms/step\n",
            "142/142 [==============================] - 1s 2ms/step\n",
            "142/142 [==============================] - 1s 2ms/step\n",
            "| \u001b[0m9        \u001b[0m | \u001b[0m0.1486   \u001b[0m | \u001b[0m0.04418  \u001b[0m | \u001b[0m110.3    \u001b[0m | \u001b[0m0.7069   \u001b[0m | \u001b[0m0.3645   \u001b[0m | \u001b[0m26.57    \u001b[0m | \u001b[0m0.2221   \u001b[0m | \u001b[0m0.0004226\u001b[0m | \u001b[0m16.26    \u001b[0m | \u001b[0m4.316    \u001b[0m |\n"
          ]
        },
        {
          "name": "stderr",
          "output_type": "stream",
          "text": [
            "/usr/local/lib/python3.7/dist-packages/ipykernel_launcher.py:37: DeprecationWarning: KerasClassifier is deprecated, use Sci-Keras (https://github.com/adriangb/scikeras) instead. See https://www.adriangb.com/scikeras/stable/migration.html for help migrating.\n"
          ]
        },
        {
          "name": "stdout",
          "output_type": "stream",
          "text": [
            "142/142 [==============================] - 1s 2ms/step\n",
            "142/142 [==============================] - 1s 2ms/step\n",
            "142/142 [==============================] - 1s 2ms/step\n",
            "142/142 [==============================] - 1s 3ms/step\n",
            "142/142 [==============================] - 1s 3ms/step\n",
            "| \u001b[0m10       \u001b[0m | \u001b[0m0.9546   \u001b[0m | \u001b[0m4.986    \u001b[0m | \u001b[0m63.77    \u001b[0m | \u001b[0m0.06356  \u001b[0m | \u001b[0m0.1555   \u001b[0m | \u001b[0m19.88    \u001b[0m | \u001b[0m2.189    \u001b[0m | \u001b[0m0.0006738\u001b[0m | \u001b[0m57.91    \u001b[0m | \u001b[0m2.361    \u001b[0m |\n"
          ]
        },
        {
          "name": "stderr",
          "output_type": "stream",
          "text": [
            "/usr/local/lib/python3.7/dist-packages/ipykernel_launcher.py:37: DeprecationWarning: KerasClassifier is deprecated, use Sci-Keras (https://github.com/adriangb/scikeras) instead. See https://www.adriangb.com/scikeras/stable/migration.html for help migrating.\n"
          ]
        },
        {
          "name": "stdout",
          "output_type": "stream",
          "text": [
            "142/142 [==============================] - 1s 2ms/step\n",
            "142/142 [==============================] - 1s 2ms/step\n",
            "142/142 [==============================] - 1s 2ms/step\n",
            "142/142 [==============================] - 1s 2ms/step\n",
            "142/142 [==============================] - 1s 2ms/step\n",
            "| \u001b[0m11       \u001b[0m | \u001b[0m0.1458   \u001b[0m | \u001b[0m0.9568   \u001b[0m | \u001b[0m100.5    \u001b[0m | \u001b[0m0.7608   \u001b[0m | \u001b[0m0.2806   \u001b[0m | \u001b[0m26.56    \u001b[0m | \u001b[0m1.481    \u001b[0m | \u001b[0m0.0005705\u001b[0m | \u001b[0m33.09    \u001b[0m | \u001b[0m0.1271   \u001b[0m |\n"
          ]
        },
        {
          "name": "stderr",
          "output_type": "stream",
          "text": [
            "/usr/local/lib/python3.7/dist-packages/ipykernel_launcher.py:37: DeprecationWarning: KerasClassifier is deprecated, use Sci-Keras (https://github.com/adriangb/scikeras) instead. See https://www.adriangb.com/scikeras/stable/migration.html for help migrating.\n"
          ]
        },
        {
          "name": "stdout",
          "output_type": "stream",
          "text": [
            "142/142 [==============================] - 1s 2ms/step\n",
            "142/142 [==============================] - 1s 2ms/step\n",
            "142/142 [==============================] - 1s 2ms/step\n",
            "142/142 [==============================] - 1s 2ms/step\n",
            "142/142 [==============================] - 1s 2ms/step\n",
            "| \u001b[0m12       \u001b[0m | \u001b[0m0.1416   \u001b[0m | \u001b[0m0.8631   \u001b[0m | \u001b[0m35.02    \u001b[0m | \u001b[0m0.6364   \u001b[0m | \u001b[0m0.1572   \u001b[0m | \u001b[0m22.63    \u001b[0m | \u001b[0m2.723    \u001b[0m | \u001b[0m0.0003244\u001b[0m | \u001b[0m32.16    \u001b[0m | \u001b[0m3.778    \u001b[0m |\n"
          ]
        },
        {
          "name": "stderr",
          "output_type": "stream",
          "text": [
            "/usr/local/lib/python3.7/dist-packages/ipykernel_launcher.py:37: DeprecationWarning: KerasClassifier is deprecated, use Sci-Keras (https://github.com/adriangb/scikeras) instead. See https://www.adriangb.com/scikeras/stable/migration.html for help migrating.\n"
          ]
        },
        {
          "name": "stdout",
          "output_type": "stream",
          "text": [
            "142/142 [==============================] - 1s 2ms/step\n",
            "142/142 [==============================] - 1s 2ms/step\n",
            "142/142 [==============================] - 1s 3ms/step\n",
            "142/142 [==============================] - 1s 3ms/step\n",
            "142/142 [==============================] - 1s 2ms/step\n",
            "| \u001b[0m13       \u001b[0m | \u001b[0m0.4785   \u001b[0m | \u001b[0m1.83     \u001b[0m | \u001b[0m39.39    \u001b[0m | \u001b[0m0.2898   \u001b[0m | \u001b[0m0.08061  \u001b[0m | \u001b[0m28.95    \u001b[0m | \u001b[0m2.424    \u001b[0m | \u001b[0m0.0006701\u001b[0m | \u001b[0m57.06    \u001b[0m | \u001b[0m4.018    \u001b[0m |\n"
          ]
        },
        {
          "name": "stderr",
          "output_type": "stream",
          "text": [
            "/usr/local/lib/python3.7/dist-packages/ipykernel_launcher.py:37: DeprecationWarning: KerasClassifier is deprecated, use Sci-Keras (https://github.com/adriangb/scikeras) instead. See https://www.adriangb.com/scikeras/stable/migration.html for help migrating.\n"
          ]
        },
        {
          "name": "stdout",
          "output_type": "stream",
          "text": [
            "142/142 [==============================] - 1s 2ms/step\n",
            "142/142 [==============================] - 1s 2ms/step\n",
            "142/142 [==============================] - 1s 2ms/step\n",
            "142/142 [==============================] - 1s 2ms/step\n",
            "142/142 [==============================] - 1s 2ms/step\n",
            "| \u001b[0m14       \u001b[0m | \u001b[0m0.7447   \u001b[0m | \u001b[0m1.493    \u001b[0m | \u001b[0m117.7    \u001b[0m | \u001b[0m0.5393   \u001b[0m | \u001b[0m0.4037   \u001b[0m | \u001b[0m28.44    \u001b[0m | \u001b[0m0.954    \u001b[0m | \u001b[0m0.000199 \u001b[0m | \u001b[0m22.31    \u001b[0m | \u001b[0m2.136    \u001b[0m |\n"
          ]
        },
        {
          "name": "stderr",
          "output_type": "stream",
          "text": [
            "/usr/local/lib/python3.7/dist-packages/ipykernel_launcher.py:37: DeprecationWarning: KerasClassifier is deprecated, use Sci-Keras (https://github.com/adriangb/scikeras) instead. See https://www.adriangb.com/scikeras/stable/migration.html for help migrating.\n"
          ]
        },
        {
          "name": "stdout",
          "output_type": "stream",
          "text": [
            "142/142 [==============================] - 1s 2ms/step\n",
            "142/142 [==============================] - 2s 2ms/step\n",
            "142/142 [==============================] - 1s 2ms/step\n",
            "142/142 [==============================] - 1s 2ms/step\n",
            "142/142 [==============================] - 1s 2ms/step\n",
            "| \u001b[0m15       \u001b[0m | \u001b[0m0.6926   \u001b[0m | \u001b[0m6.544    \u001b[0m | \u001b[0m114.6    \u001b[0m | \u001b[0m0.006952 \u001b[0m | \u001b[0m0.2554   \u001b[0m | \u001b[0m21.26    \u001b[0m | \u001b[0m0.6663   \u001b[0m | \u001b[0m0.0002079\u001b[0m | \u001b[0m28.23    \u001b[0m | \u001b[0m4.715    \u001b[0m |\n"
          ]
        },
        {
          "name": "stderr",
          "output_type": "stream",
          "text": [
            "/usr/local/lib/python3.7/dist-packages/ipykernel_launcher.py:37: DeprecationWarning: KerasClassifier is deprecated, use Sci-Keras (https://github.com/adriangb/scikeras) instead. See https://www.adriangb.com/scikeras/stable/migration.html for help migrating.\n"
          ]
        },
        {
          "name": "stdout",
          "output_type": "stream",
          "text": [
            "142/142 [==============================] - 1s 2ms/step\n",
            "142/142 [==============================] - 1s 2ms/step\n",
            "142/142 [==============================] - 1s 2ms/step\n",
            "142/142 [==============================] - 1s 2ms/step\n",
            "142/142 [==============================] - 1s 2ms/step\n",
            "| \u001b[0m16       \u001b[0m | \u001b[0m0.9047   \u001b[0m | \u001b[0m2.586    \u001b[0m | \u001b[0m81.8     \u001b[0m | \u001b[0m0.703    \u001b[0m | \u001b[0m0.1818   \u001b[0m | \u001b[0m29.58    \u001b[0m | \u001b[0m2.887    \u001b[0m | \u001b[0m0.0003266\u001b[0m | \u001b[0m36.85    \u001b[0m | \u001b[0m1.504    \u001b[0m |\n"
          ]
        },
        {
          "name": "stderr",
          "output_type": "stream",
          "text": [
            "/usr/local/lib/python3.7/dist-packages/ipykernel_launcher.py:37: DeprecationWarning: KerasClassifier is deprecated, use Sci-Keras (https://github.com/adriangb/scikeras) instead. See https://www.adriangb.com/scikeras/stable/migration.html for help migrating.\n"
          ]
        },
        {
          "name": "stdout",
          "output_type": "stream",
          "text": [
            "142/142 [==============================] - 1s 2ms/step\n",
            "142/142 [==============================] - 1s 2ms/step\n",
            "142/142 [==============================] - 1s 2ms/step\n",
            "142/142 [==============================] - 1s 2ms/step\n",
            "142/142 [==============================] - 1s 2ms/step\n",
            "| \u001b[0m17       \u001b[0m | \u001b[0m0.9062   \u001b[0m | \u001b[0m2.279    \u001b[0m | \u001b[0m35.54    \u001b[0m | \u001b[0m0.6096   \u001b[0m | \u001b[0m0.2513   \u001b[0m | \u001b[0m15.77    \u001b[0m | \u001b[0m0.8359   \u001b[0m | \u001b[0m0.0009174\u001b[0m | \u001b[0m22.94    \u001b[0m | \u001b[0m0.7245   \u001b[0m |\n"
          ]
        },
        {
          "name": "stderr",
          "output_type": "stream",
          "text": [
            "/usr/local/lib/python3.7/dist-packages/ipykernel_launcher.py:37: DeprecationWarning: KerasClassifier is deprecated, use Sci-Keras (https://github.com/adriangb/scikeras) instead. See https://www.adriangb.com/scikeras/stable/migration.html for help migrating.\n"
          ]
        },
        {
          "name": "stdout",
          "output_type": "stream",
          "text": [
            "142/142 [==============================] - 1s 2ms/step\n",
            "142/142 [==============================] - 1s 2ms/step\n",
            "142/142 [==============================] - 1s 2ms/step\n",
            "142/142 [==============================] - 1s 2ms/step\n",
            "142/142 [==============================] - 1s 2ms/step\n",
            "| \u001b[0m18       \u001b[0m | \u001b[0m0.1133   \u001b[0m | \u001b[0m3.916    \u001b[0m | \u001b[0m126.6    \u001b[0m | \u001b[0m0.2421   \u001b[0m | \u001b[0m0.3361   \u001b[0m | \u001b[0m26.42    \u001b[0m | \u001b[0m0.7129   \u001b[0m | \u001b[0m0.0007554\u001b[0m | \u001b[0m29.86    \u001b[0m | \u001b[0m3.162    \u001b[0m |\n"
          ]
        },
        {
          "name": "stderr",
          "output_type": "stream",
          "text": [
            "/usr/local/lib/python3.7/dist-packages/ipykernel_launcher.py:37: DeprecationWarning: KerasClassifier is deprecated, use Sci-Keras (https://github.com/adriangb/scikeras) instead. See https://www.adriangb.com/scikeras/stable/migration.html for help migrating.\n"
          ]
        },
        {
          "name": "stdout",
          "output_type": "stream",
          "text": [
            "142/142 [==============================] - 1s 2ms/step\n",
            "142/142 [==============================] - 1s 2ms/step\n",
            "142/142 [==============================] - 1s 2ms/step\n",
            "142/142 [==============================] - 1s 2ms/step\n",
            "142/142 [==============================] - 1s 2ms/step\n",
            "| \u001b[0m19       \u001b[0m | \u001b[0m0.02015  \u001b[0m | \u001b[0m5.068    \u001b[0m | \u001b[0m83.43    \u001b[0m | \u001b[0m0.09029  \u001b[0m | \u001b[0m0.4177   \u001b[0m | \u001b[0m19.81    \u001b[0m | \u001b[0m0.5596   \u001b[0m | \u001b[0m0.0001367\u001b[0m | \u001b[0m41.91    \u001b[0m | \u001b[0m3.388    \u001b[0m |\n"
          ]
        },
        {
          "name": "stderr",
          "output_type": "stream",
          "text": [
            "/usr/local/lib/python3.7/dist-packages/ipykernel_launcher.py:37: DeprecationWarning: KerasClassifier is deprecated, use Sci-Keras (https://github.com/adriangb/scikeras) instead. See https://www.adriangb.com/scikeras/stable/migration.html for help migrating.\n"
          ]
        },
        {
          "name": "stdout",
          "output_type": "stream",
          "text": [
            "142/142 [==============================] - 1s 2ms/step\n",
            "142/142 [==============================] - 1s 2ms/step\n",
            "142/142 [==============================] - 1s 2ms/step\n",
            "142/142 [==============================] - 1s 2ms/step\n",
            "142/142 [==============================] - 1s 3ms/step\n",
            "| \u001b[0m20       \u001b[0m | \u001b[0m0.9485   \u001b[0m | \u001b[0m0.1327   \u001b[0m | \u001b[0m81.16    \u001b[0m | \u001b[0m0.2265   \u001b[0m | \u001b[0m0.3226   \u001b[0m | \u001b[0m17.62    \u001b[0m | \u001b[0m2.073    \u001b[0m | \u001b[0m0.0004481\u001b[0m | \u001b[0m60.58    \u001b[0m | \u001b[0m0.6876   \u001b[0m |\n"
          ]
        },
        {
          "name": "stderr",
          "output_type": "stream",
          "text": [
            "/usr/local/lib/python3.7/dist-packages/ipykernel_launcher.py:37: DeprecationWarning: KerasClassifier is deprecated, use Sci-Keras (https://github.com/adriangb/scikeras) instead. See https://www.adriangb.com/scikeras/stable/migration.html for help migrating.\n"
          ]
        },
        {
          "name": "stdout",
          "output_type": "stream",
          "text": [
            "142/142 [==============================] - 1s 2ms/step\n",
            "142/142 [==============================] - 1s 2ms/step\n",
            "142/142 [==============================] - 1s 2ms/step\n",
            "142/142 [==============================] - 1s 3ms/step\n",
            "142/142 [==============================] - 1s 3ms/step\n",
            "| \u001b[0m21       \u001b[0m | \u001b[0m0.9418   \u001b[0m | \u001b[0m3.785    \u001b[0m | \u001b[0m59.48    \u001b[0m | \u001b[0m0.8941   \u001b[0m | \u001b[0m0.09065  \u001b[0m | \u001b[0m21.88    \u001b[0m | \u001b[0m1.764    \u001b[0m | \u001b[0m0.0005626\u001b[0m | \u001b[0m54.83    \u001b[0m | \u001b[0m1.157    \u001b[0m |\n"
          ]
        },
        {
          "name": "stderr",
          "output_type": "stream",
          "text": [
            "/usr/local/lib/python3.7/dist-packages/ipykernel_launcher.py:37: DeprecationWarning: KerasClassifier is deprecated, use Sci-Keras (https://github.com/adriangb/scikeras) instead. See https://www.adriangb.com/scikeras/stable/migration.html for help migrating.\n"
          ]
        },
        {
          "name": "stdout",
          "output_type": "stream",
          "text": [
            "142/142 [==============================] - 1s 2ms/step\n",
            "142/142 [==============================] - 1s 2ms/step\n",
            "142/142 [==============================] - 1s 2ms/step\n",
            "142/142 [==============================] - 1s 2ms/step\n",
            "142/142 [==============================] - 1s 2ms/step\n",
            "| \u001b[0m22       \u001b[0m | \u001b[0m0.9495   \u001b[0m | \u001b[0m3.867    \u001b[0m | \u001b[0m63.91    \u001b[0m | \u001b[0m0.0      \u001b[0m | \u001b[0m0.1062   \u001b[0m | \u001b[0m23.06    \u001b[0m | \u001b[0m0.2945   \u001b[0m | \u001b[0m0.0009811\u001b[0m | \u001b[0m53.14    \u001b[0m | \u001b[0m1.769    \u001b[0m |\n"
          ]
        },
        {
          "name": "stderr",
          "output_type": "stream",
          "text": [
            "/usr/local/lib/python3.7/dist-packages/ipykernel_launcher.py:37: DeprecationWarning: KerasClassifier is deprecated, use Sci-Keras (https://github.com/adriangb/scikeras) instead. See https://www.adriangb.com/scikeras/stable/migration.html for help migrating.\n"
          ]
        },
        {
          "name": "stdout",
          "output_type": "stream",
          "text": [
            "142/142 [==============================] - 1s 3ms/step\n",
            "142/142 [==============================] - 1s 2ms/step\n",
            "142/142 [==============================] - 1s 3ms/step\n",
            "142/142 [==============================] - 1s 2ms/step\n",
            "142/142 [==============================] - 1s 2ms/step\n",
            "| \u001b[0m23       \u001b[0m | \u001b[0m0.1451   \u001b[0m | \u001b[0m0.0      \u001b[0m | \u001b[0m64.07    \u001b[0m | \u001b[0m0.0      \u001b[0m | \u001b[0m0.0      \u001b[0m | \u001b[0m20.19    \u001b[0m | \u001b[0m3.0      \u001b[0m | \u001b[0m0.0001   \u001b[0m | \u001b[0m55.11    \u001b[0m | \u001b[0m0.0      \u001b[0m |\n"
          ]
        },
        {
          "name": "stderr",
          "output_type": "stream",
          "text": [
            "/usr/local/lib/python3.7/dist-packages/ipykernel_launcher.py:37: DeprecationWarning: KerasClassifier is deprecated, use Sci-Keras (https://github.com/adriangb/scikeras) instead. See https://www.adriangb.com/scikeras/stable/migration.html for help migrating.\n"
          ]
        },
        {
          "name": "stdout",
          "output_type": "stream",
          "text": [
            "142/142 [==============================] - 1s 2ms/step\n",
            "142/142 [==============================] - 1s 2ms/step\n",
            "142/142 [==============================] - 1s 2ms/step\n",
            "142/142 [==============================] - 1s 3ms/step\n",
            "142/142 [==============================] - 1s 2ms/step\n",
            "| \u001b[0m24       \u001b[0m | \u001b[0m0.945    \u001b[0m | \u001b[0m5.168    \u001b[0m | \u001b[0m60.06    \u001b[0m | \u001b[0m0.2805   \u001b[0m | \u001b[0m0.1314   \u001b[0m | \u001b[0m23.17    \u001b[0m | \u001b[0m0.0      \u001b[0m | \u001b[0m0.001    \u001b[0m | \u001b[0m51.62    \u001b[0m | \u001b[0m2.04     \u001b[0m |\n"
          ]
        },
        {
          "name": "stderr",
          "output_type": "stream",
          "text": [
            "/usr/local/lib/python3.7/dist-packages/ipykernel_launcher.py:37: DeprecationWarning: KerasClassifier is deprecated, use Sci-Keras (https://github.com/adriangb/scikeras) instead. See https://www.adriangb.com/scikeras/stable/migration.html for help migrating.\n"
          ]
        },
        {
          "name": "stdout",
          "output_type": "stream",
          "text": [
            "142/142 [==============================] - 1s 2ms/step\n",
            "142/142 [==============================] - 1s 2ms/step\n",
            "142/142 [==============================] - 1s 2ms/step\n",
            "142/142 [==============================] - 1s 2ms/step\n",
            "142/142 [==============================] - 1s 2ms/step\n",
            "| \u001b[0m25       \u001b[0m | \u001b[0m0.9319   \u001b[0m | \u001b[0m7.126    \u001b[0m | \u001b[0m62.24    \u001b[0m | \u001b[0m0.5395   \u001b[0m | \u001b[0m0.1362   \u001b[0m | \u001b[0m20.24    \u001b[0m | \u001b[0m0.0      \u001b[0m | \u001b[0m0.001    \u001b[0m | \u001b[0m54.8     \u001b[0m | \u001b[0m1.86     \u001b[0m |\n",
            "=====================================================================================================================================\n"
          ]
        }
      ],
      "source": [
        "# Run Bayesian Optimization\n",
        "bidirectional_lstm_bo = BayesianOptimization(bidirectional_lstm_tuner, params_bidirectional_lstm, random_state=42)\n",
        "bidirectional_lstm_bo.maximize(init_points=20, n_iter=5)"
      ]
    },
    {
      "cell_type": "code",
      "execution_count": null,
      "id": "fq04SYVfQ5Ke",
      "metadata": {
        "colab": {
          "base_uri": "https://localhost:8080/"
        },
        "id": "fq04SYVfQ5Ke",
        "outputId": "f431f5a3-5c5d-4b8a-8e6b-b747d803bd93"
      },
      "outputs": [
        {
          "data": {
            "text/plain": [
              "{'activation': 2.8540266135487142,\n",
              " 'batch_size': 58.96971292998855,\n",
              " 'dropout': 0.5426960831582485,\n",
              " 'dropout_rate': 0.07046211248738132,\n",
              " 'epochs': 27.032954711310595,\n",
              " 'layers1': 0.22365193103931247,\n",
              " 'learning_rate': 0.0009881982429404655,\n",
              " 'neurons': 51.7012175420195,\n",
              " 'optimizer': 0.993578407670862}"
            ]
          },
          "execution_count": 57,
          "metadata": {},
          "output_type": "execute_result"
        }
      ],
      "source": [
        "bidirectional_lstm_bo.max['params']"
      ]
    },
    {
      "cell_type": "code",
      "execution_count": null,
      "id": "cHUi-G5birCu",
      "metadata": {
        "id": "cHUi-G5birCu"
      },
      "outputs": [],
      "source": [
        "def create_model_best_params(params):\n",
        "  learning_rate = params['learning_rate']\n",
        "  optimizerL = ['SGD', 'Adam', 'RMSprop', 'Adadelta', 'Adagrad', 'Adamax']\n",
        "  optimizerD= {'Adam':Adam(learning_rate=learning_rate), 'SGD':SGD(learning_rate=learning_rate),\n",
        "                'RMSprop':RMSprop(learning_rate=learning_rate), 'Adadelta':Adadelta(learning_rate=learning_rate),\n",
        "                'Adagrad':Adagrad(learning_rate=learning_rate), 'Adamax':Adamax(learning_rate=learning_rate),}\n",
        "  activationL = ['relu', 'sigmoid', 'softplus', 'softsign', 'tanh', 'selu', 'elu', 'exponential', 'relu']\n",
        "  neurons = round(params['neurons'])\n",
        "  activation = activationL[round(params['activation'])]\n",
        "  optimizer = optimizerD[optimizerL[round(params['optimizer'])]]\n",
        "  batch_size = round(params['batch_size'])\n",
        "  epochs = round(params['epochs'])\n",
        "  layers1 = round(params['layers1'])\n",
        "  dropout = params['dropout']\n",
        "  dropout_rate = params['dropout_rate']\n",
        "\n",
        "  # for reproducibility \n",
        "  np.random.seed(42)\n",
        "  tensorflow.random.set_seed(42)\n",
        "  tuned_model = Sequential()\n",
        "  tuned_model.add(Bidirectional(LSTM(neurons, return_sequences=False)))  \n",
        "  tuned_model.add(Dropout(dropout_rate, seed=42))\n",
        "\n",
        "  for i in range(layers1): #varying first set of hidden layers\n",
        "    tuned_model.add(Dense(neurons, activation=activation))\n",
        "    if dropout > 0.5:\n",
        "      tuned_model.add(Dropout(dropout_rate, seed=42))\n",
        "\n",
        "  tuned_model.add(Dense(1, activation='sigmoid')) #output layer\n",
        "  tuned_model.compile(loss='binary_crossentropy', optimizer = optimizer, metrics=['accuracy',metrics.Precision(), metrics.Recall(),metrics.AUC()])\n",
        "  return tuned_model"
      ]
    },
    {
      "cell_type": "code",
      "execution_count": null,
      "id": "x6o5Fdq7jH6I",
      "metadata": {
        "colab": {
          "base_uri": "https://localhost:8080/"
        },
        "id": "x6o5Fdq7jH6I",
        "outputId": "5dc7e2c1-3d90-42e6-c610-74eb18376028"
      },
      "outputs": [
        {
          "name": "stdout",
          "output_type": "stream",
          "text": [
            "Epoch 1/27\n",
            "383/383 [==============================] - 11s 9ms/step - loss: 0.3353 - accuracy: 0.8549 - precision: 0.8383 - recall: 0.8795 - auc: 0.9375\n",
            "Epoch 2/27\n",
            "383/383 [==============================] - 3s 8ms/step - loss: 0.1286 - accuracy: 0.9605 - precision: 0.9418 - recall: 0.9816 - auc: 0.9897\n",
            "Epoch 3/27\n",
            "383/383 [==============================] - 3s 7ms/step - loss: 0.0811 - accuracy: 0.9763 - precision: 0.9607 - recall: 0.9933 - auc: 0.9955\n",
            "Epoch 4/27\n",
            "383/383 [==============================] - 3s 7ms/step - loss: 0.0534 - accuracy: 0.9857 - precision: 0.9741 - recall: 0.9979 - auc: 0.9982\n",
            "Epoch 5/27\n",
            "383/383 [==============================] - 3s 9ms/step - loss: 0.0356 - accuracy: 0.9918 - precision: 0.9846 - recall: 0.9992 - auc: 0.9991\n",
            "Epoch 6/27\n",
            "383/383 [==============================] - 4s 11ms/step - loss: 0.0251 - accuracy: 0.9943 - precision: 0.9890 - recall: 0.9998 - auc: 0.9997\n",
            "Epoch 7/27\n",
            "383/383 [==============================] - 3s 7ms/step - loss: 0.0188 - accuracy: 0.9955 - precision: 0.9914 - recall: 0.9997 - auc: 0.9998\n",
            "Epoch 8/27\n",
            "383/383 [==============================] - 5s 14ms/step - loss: 0.0135 - accuracy: 0.9973 - precision: 0.9948 - recall: 0.9998 - auc: 0.9999\n",
            "Epoch 9/27\n",
            "383/383 [==============================] - 5s 14ms/step - loss: 0.0093 - accuracy: 0.9981 - precision: 0.9964 - recall: 0.9999 - auc: 0.9999\n",
            "Epoch 10/27\n",
            "383/383 [==============================] - 3s 7ms/step - loss: 0.0072 - accuracy: 0.9988 - precision: 0.9976 - recall: 1.0000 - auc: 1.0000\n",
            "Epoch 11/27\n",
            "383/383 [==============================] - 3s 7ms/step - loss: 0.0054 - accuracy: 0.9992 - precision: 0.9984 - recall: 1.0000 - auc: 1.0000\n",
            "Epoch 12/27\n",
            "383/383 [==============================] - 3s 7ms/step - loss: 0.0044 - accuracy: 0.9995 - precision: 0.9990 - recall: 1.0000 - auc: 1.0000\n",
            "Epoch 13/27\n",
            "383/383 [==============================] - 3s 7ms/step - loss: 0.0040 - accuracy: 0.9993 - precision: 0.9988 - recall: 0.9998 - auc: 1.0000\n",
            "Epoch 14/27\n",
            "383/383 [==============================] - 3s 7ms/step - loss: 0.0027 - accuracy: 0.9997 - precision: 0.9995 - recall: 1.0000 - auc: 1.0000\n",
            "Epoch 15/27\n",
            "383/383 [==============================] - 3s 7ms/step - loss: 0.0021 - accuracy: 0.9997 - precision: 0.9995 - recall: 1.0000 - auc: 1.0000\n",
            "Epoch 16/27\n",
            "383/383 [==============================] - 3s 7ms/step - loss: 0.0018 - accuracy: 0.9998 - precision: 0.9996 - recall: 1.0000 - auc: 1.0000\n",
            "Epoch 17/27\n",
            "383/383 [==============================] - 3s 7ms/step - loss: 0.0012 - accuracy: 1.0000 - precision: 0.9999 - recall: 1.0000 - auc: 1.0000\n",
            "Epoch 18/27\n",
            "383/383 [==============================] - 3s 7ms/step - loss: 0.0023 - accuracy: 0.9996 - precision: 0.9994 - recall: 0.9999 - auc: 1.0000\n",
            "Epoch 19/27\n",
            "383/383 [==============================] - 3s 7ms/step - loss: 0.0016 - accuracy: 0.9999 - precision: 0.9997 - recall: 1.0000 - auc: 1.0000\n",
            "Epoch 20/27\n",
            "383/383 [==============================] - 3s 7ms/step - loss: 5.1072e-04 - accuracy: 1.0000 - precision: 1.0000 - recall: 1.0000 - auc: 1.0000\n",
            "Epoch 21/27\n",
            "383/383 [==============================] - 3s 7ms/step - loss: 3.7262e-04 - accuracy: 1.0000 - precision: 1.0000 - recall: 1.0000 - auc: 1.0000\n",
            "Epoch 22/27\n",
            "383/383 [==============================] - 3s 7ms/step - loss: 3.9007e-04 - accuracy: 1.0000 - precision: 1.0000 - recall: 1.0000 - auc: 1.0000\n",
            "Epoch 23/27\n",
            "383/383 [==============================] - 4s 11ms/step - loss: 3.1167e-04 - accuracy: 1.0000 - precision: 1.0000 - recall: 1.0000 - auc: 1.0000\n",
            "Epoch 24/27\n",
            "383/383 [==============================] - 3s 8ms/step - loss: 2.5779e-04 - accuracy: 1.0000 - precision: 1.0000 - recall: 1.0000 - auc: 1.0000\n",
            "Epoch 25/27\n",
            "383/383 [==============================] - 3s 7ms/step - loss: 0.0019 - accuracy: 0.9994 - precision: 0.9993 - recall: 0.9995 - auc: 1.0000\n",
            "Epoch 26/27\n",
            "383/383 [==============================] - 3s 7ms/step - loss: 2.5471e-04 - accuracy: 1.0000 - precision: 1.0000 - recall: 1.0000 - auc: 1.0000\n",
            "Epoch 27/27\n",
            "383/383 [==============================] - 3s 7ms/step - loss: 1.7341e-04 - accuracy: 1.0000 - precision: 1.0000 - recall: 1.0000 - auc: 1.0000\n"
          ]
        },
        {
          "data": {
            "text/plain": [
              "<keras.callbacks.History at 0x7f07bee45e50>"
            ]
          },
          "execution_count": 20,
          "metadata": {},
          "output_type": "execute_result"
        }
      ],
      "source": [
        "best_params = {'activation': 2.8540266135487142,\n",
        "              'batch_size': 58.96971292998855,\n",
        "              'dropout': 0.5426960831582485,\n",
        "              'dropout_rate': 0.07046211248738132,\n",
        "              'epochs': 27.032954711310595,\n",
        "              'layers1': 0.22365193103931247,\n",
        "              'learning_rate': 0.0009881982429404655,\n",
        "              'neurons': 51.7012175420195,\n",
        "              'optimizer': 0.993578407670862}\n",
        "best_model = create_model_best_params(best_params)\n",
        "best_model.fit(X_train_over, y_train_over, epochs=round(best_params['epochs']), batch_size = round(best_params['batch_size']))"
      ]
    },
    {
      "cell_type": "code",
      "execution_count": null,
      "id": "r5Wxd6r5kiK8",
      "metadata": {
        "colab": {
          "base_uri": "https://localhost:8080/"
        },
        "id": "r5Wxd6r5kiK8",
        "outputId": "53ff4e73-26bb-4d3d-fb7c-ac14e4557836"
      },
      "outputs": [
        {
          "name": "stdout",
          "output_type": "stream",
          "text": [
            "Model: \"sequential\"\n",
            "_________________________________________________________________\n",
            " Layer (type)                Output Shape              Param #   \n",
            "=================================================================\n",
            " bidirectional (Bidirectiona  (None, 104)              131456    \n",
            " l)                                                              \n",
            "                                                                 \n",
            " dropout (Dropout)           (None, 104)               0         \n",
            "                                                                 \n",
            " dense (Dense)               (None, 1)                 105       \n",
            "                                                                 \n",
            "=================================================================\n",
            "Total params: 131,561\n",
            "Trainable params: 131,561\n",
            "Non-trainable params: 0\n",
            "_________________________________________________________________\n"
          ]
        }
      ],
      "source": [
        "best_model.summary()"
      ]
    },
    {
      "cell_type": "code",
      "execution_count": null,
      "id": "616FvP-9kPSZ",
      "metadata": {
        "colab": {
          "base_uri": "https://localhost:8080/"
        },
        "id": "616FvP-9kPSZ",
        "outputId": "032e9db8-d53d-4b10-d171-3681a88eb925"
      },
      "outputs": [
        {
          "name": "stdout",
          "output_type": "stream",
          "text": [
            "706/706 [==============================] - 4s 3ms/step - loss: 8.3697e-05 - accuracy: 1.0000 - precision: 1.0000 - recall: 1.0000 - auc: 1.0000\n",
            "Train Results\n",
            "Precision: 1.0\n",
            "Recall: 1.0\n",
            "F1 Score: 1.0\n",
            "Accuracy: 1.0\n",
            "AUROC:1.0\n"
          ]
        }
      ],
      "source": [
        "train_results = best_model.evaluate(X_train_over, y_train_over)\n",
        "precision = train_results[2]\n",
        "recall = train_results[3]\n",
        "f1_score = 2 * (precision * recall) / (precision + recall)\n",
        "print('Train Results')\n",
        "print(f'Precision: {precision}\\nRecall: {recall}\\nF1 Score: {f1_score}\\nAccuracy: {train_results[1]}\\nAUROC:{train_results[4]}')"
      ]
    },
    {
      "cell_type": "code",
      "execution_count": null,
      "id": "2r3Yjs26kPSb",
      "metadata": {
        "colab": {
          "base_uri": "https://localhost:8080/"
        },
        "id": "2r3Yjs26kPSb",
        "outputId": "c5ef84c6-190d-4605-a085-2a2d2353b5df"
      },
      "outputs": [
        {
          "name": "stdout",
          "output_type": "stream",
          "text": [
            "90/90 [==============================] - 0s 4ms/step - loss: 0.0336 - accuracy: 0.9934 - precision: 0.8491 - recall: 0.8036 - auc: 0.9532\n",
            "Test Results\n",
            "Precision: 0.849056601524353\n",
            "Recall: 0.8035714030265808\n",
            "F1 Score: 0.8256880588457645\n",
            "Accuracy: 0.9934027791023254\n",
            "AUROC:0.9531503915786743\n"
          ]
        }
      ],
      "source": [
        "test_results = best_model.evaluate(X_test, y_test)\n",
        "precision = test_results[2]\n",
        "recall = test_results[3]\n",
        "f1_score = 2 * (precision * recall) / (precision + recall)\n",
        "print('Test Results')\n",
        "print(f'Precision: {precision}\\nRecall: {recall}\\nF1 Score: {f1_score}\\nAccuracy: {test_results[1]}\\nAUROC:{test_results[4]}')"
      ]
    },
    {
      "cell_type": "markdown",
      "id": "71krqFuWSP7l",
      "metadata": {
        "id": "71krqFuWSP7l"
      },
      "source": [
        "#Hyperparameter tuning (Round 2)\n",
        "\n",
        "Best test F1 score: 0.739"
      ]
    },
    {
      "cell_type": "code",
      "execution_count": null,
      "id": "NtsjtqtwSP7m",
      "metadata": {
        "id": "NtsjtqtwSP7m"
      },
      "outputs": [],
      "source": [
        "def bidirectional_lstm_tuner(batch_size, neurons, activation, optimizer, dropout_rate, learning_rate, epochs, layers1):\n",
        "    optimizerL = ['SGD', 'Adam', 'RMSprop', 'Adadelta', 'Adagrad']\n",
        "    optimizerD= {'Adam':Adam(learning_rate=learning_rate), 'SGD':SGD(learning_rate=learning_rate),\n",
        "                  'RMSprop':RMSprop(learning_rate=learning_rate), 'Adadelta':Adadelta(learning_rate=learning_rate),\n",
        "                  'Adagrad':Adagrad(learning_rate=learning_rate),}\n",
        "    activationL = ['relu', 'sigmoid', 'softplus', 'softsign', 'tanh', 'selu', 'elu', 'relu']\n",
        "    neurons = round(neurons)\n",
        "    activation = activationL[round(activation)]\n",
        "    optimizer = optimizerD[optimizerL[round(optimizer)]]\n",
        "    batch_size = round(batch_size)\n",
        "    epochs = round(epochs)\n",
        "    layers1 = round(layers1)\n",
        "\n",
        "    def create_model():\n",
        "      # for reproducibility \n",
        "      np.random.seed(42)\n",
        "      tensorflow.random.set_seed(42)\n",
        "\n",
        "      tuned_model = Sequential()\n",
        "      tuned_model.add(Bidirectional(LSTM(neurons, return_sequences=False)))  \n",
        "      tuned_model.add(Dropout(dropout_rate, seed=42))\n",
        "\n",
        "      for i in range(layers1): #varying first set of hidden layers\n",
        "        tuned_model.add(Dense(neurons, activation=activation))\n",
        "        tuned_model.add(Dropout(dropout_rate, seed=42))\n",
        "\n",
        "      tuned_model.add(Dense(1, activation='sigmoid')) #output layer\n",
        "      # tuned_model.compile(loss='binary_crossentropy', optimizer = optimizer, metrics=['accuracy',metrics.Precision(), metrics.Recall(),metrics.AUC()])\n",
        "      tuned_model.compile(loss='binary_crossentropy', optimizer = optimizer, metrics=['accuracy',metrics.Precision(), metrics.Recall()])\n",
        "      return tuned_model\n",
        "\n",
        "    es = EarlyStopping(monitor=\"loss\", patience=3)\n",
        "    mc = ModelCheckpoint('Best_tuned_bidirectional_LSTM_.h5', monitor='val_loss',mode='min',verbose=2, save_best_only=True)\n",
        "\n",
        "    tune_rnn = KerasClassifier(build_fn=create_model, epochs=epochs, batch_size=batch_size, verbose=0) \n",
        "    score = cross_val_score(tune_rnn, X_train_over, y_train_over, fit_params={'callbacks':[es]}, error_score='raise', scoring='f1').mean() #5 fold cross validation default\n",
        "    return score"
      ]
    },
    {
      "cell_type": "code",
      "execution_count": null,
      "id": "aqDWOaIISP7n",
      "metadata": {
        "id": "aqDWOaIISP7n"
      },
      "outputs": [],
      "source": [
        "params_bidirectional_lstm ={\n",
        "    'neurons': (10, 64),\n",
        "    'activation':(0, 7),\n",
        "    'optimizer':(0, 4),\n",
        "    'learning_rate':(0.0001, 0.001),\n",
        "    'batch_size':(32, 128),\n",
        "    'epochs':(15, 30),\n",
        "    'layers1':(0,3),\n",
        "    'dropout_rate':(0, 0.4)\n",
        "}"
      ]
    },
    {
      "cell_type": "code",
      "execution_count": null,
      "id": "_ndgZqzSSP7o",
      "metadata": {
        "colab": {
          "base_uri": "https://localhost:8080/"
        },
        "id": "_ndgZqzSSP7o",
        "outputId": "a6eeab77-c6dc-488e-838a-0365749cae5e"
      },
      "outputs": [
        {
          "name": "stdout",
          "output_type": "stream",
          "text": [
            "|   iter    |  target   | activa... | batch_... | dropou... |  epochs   |  layers1  | learni... |  neurons  | optimizer |\n",
            "-------------------------------------------------------------------------------------------------------------------------\n"
          ]
        },
        {
          "name": "stderr",
          "output_type": "stream",
          "text": [
            "/usr/local/lib/python3.7/dist-packages/ipykernel_launcher.py:35: DeprecationWarning: KerasClassifier is deprecated, use Sci-Keras (https://github.com/adriangb/scikeras) instead. See https://www.adriangb.com/scikeras/stable/migration.html for help migrating.\n"
          ]
        },
        {
          "name": "stdout",
          "output_type": "stream",
          "text": [
            "142/142 [==============================] - 1s 2ms/step\n",
            "142/142 [==============================] - 1s 2ms/step\n",
            "142/142 [==============================] - 2s 2ms/step\n",
            "142/142 [==============================] - 1s 2ms/step\n",
            "142/142 [==============================] - 1s 2ms/step\n",
            "| \u001b[0m1        \u001b[0m | \u001b[0m0.4619   \u001b[0m | \u001b[0m2.622    \u001b[0m | \u001b[0m123.3    \u001b[0m | \u001b[0m0.2928   \u001b[0m | \u001b[0m23.98    \u001b[0m | \u001b[0m0.4681   \u001b[0m | \u001b[0m0.0002404\u001b[0m | \u001b[0m13.14    \u001b[0m | \u001b[0m3.465    \u001b[0m |\n"
          ]
        },
        {
          "name": "stderr",
          "output_type": "stream",
          "text": [
            "/usr/local/lib/python3.7/dist-packages/ipykernel_launcher.py:35: DeprecationWarning: KerasClassifier is deprecated, use Sci-Keras (https://github.com/adriangb/scikeras) instead. See https://www.adriangb.com/scikeras/stable/migration.html for help migrating.\n"
          ]
        },
        {
          "name": "stdout",
          "output_type": "stream",
          "text": [
            "142/142 [==============================] - 1s 2ms/step\n",
            "142/142 [==============================] - 1s 2ms/step\n",
            "142/142 [==============================] - 1s 2ms/step\n",
            "142/142 [==============================] - 1s 2ms/step\n",
            "142/142 [==============================] - 1s 2ms/step\n",
            "| \u001b[95m2        \u001b[0m | \u001b[95m0.9354   \u001b[0m | \u001b[95m4.208    \u001b[0m | \u001b[95m99.97    \u001b[0m | \u001b[95m0.008234 \u001b[0m | \u001b[95m29.55    \u001b[0m | \u001b[95m2.497    \u001b[0m | \u001b[95m0.0002911\u001b[0m | \u001b[95m19.82    \u001b[0m | \u001b[95m0.7336   \u001b[0m |\n"
          ]
        },
        {
          "name": "stderr",
          "output_type": "stream",
          "text": [
            "/usr/local/lib/python3.7/dist-packages/ipykernel_launcher.py:35: DeprecationWarning: KerasClassifier is deprecated, use Sci-Keras (https://github.com/adriangb/scikeras) instead. See https://www.adriangb.com/scikeras/stable/migration.html for help migrating.\n"
          ]
        },
        {
          "name": "stdout",
          "output_type": "stream",
          "text": [
            "142/142 [==============================] - 1s 2ms/step\n",
            "142/142 [==============================] - 1s 2ms/step\n",
            "142/142 [==============================] - 1s 3ms/step\n",
            "142/142 [==============================] - 1s 2ms/step\n",
            "142/142 [==============================] - 1s 2ms/step\n",
            "| \u001b[0m3        \u001b[0m | \u001b[0m0.844    \u001b[0m | \u001b[0m2.13     \u001b[0m | \u001b[0m82.38    \u001b[0m | \u001b[0m0.1728   \u001b[0m | \u001b[0m19.37    \u001b[0m | \u001b[0m1.836    \u001b[0m | \u001b[0m0.0002255\u001b[0m | \u001b[0m25.78    \u001b[0m | \u001b[0m1.465    \u001b[0m |\n"
          ]
        },
        {
          "name": "stderr",
          "output_type": "stream",
          "text": [
            "/usr/local/lib/python3.7/dist-packages/ipykernel_launcher.py:35: DeprecationWarning: KerasClassifier is deprecated, use Sci-Keras (https://github.com/adriangb/scikeras) instead. See https://www.adriangb.com/scikeras/stable/migration.html for help migrating.\n"
          ]
        },
        {
          "name": "stdout",
          "output_type": "stream",
          "text": [
            "142/142 [==============================] - 1s 2ms/step\n",
            "142/142 [==============================] - 1s 2ms/step\n",
            "142/142 [==============================] - 1s 2ms/step\n",
            "142/142 [==============================] - 1s 2ms/step\n",
            "142/142 [==============================] - 1s 2ms/step\n",
            "| \u001b[0m4        \u001b[0m | \u001b[0m0.8894   \u001b[0m | \u001b[0m3.192    \u001b[0m | \u001b[0m107.4    \u001b[0m | \u001b[0m0.07987  \u001b[0m | \u001b[0m22.71    \u001b[0m | \u001b[0m1.777    \u001b[0m | \u001b[0m0.0001418\u001b[0m | \u001b[0m42.81    \u001b[0m | \u001b[0m0.6821   \u001b[0m |\n"
          ]
        },
        {
          "name": "stderr",
          "output_type": "stream",
          "text": [
            "/usr/local/lib/python3.7/dist-packages/ipykernel_launcher.py:35: DeprecationWarning: KerasClassifier is deprecated, use Sci-Keras (https://github.com/adriangb/scikeras) instead. See https://www.adriangb.com/scikeras/stable/migration.html for help migrating.\n"
          ]
        },
        {
          "name": "stdout",
          "output_type": "stream",
          "text": [
            "142/142 [==============================] - 1s 2ms/step\n",
            "142/142 [==============================] - 1s 2ms/step\n",
            "142/142 [==============================] - 1s 2ms/step\n",
            "142/142 [==============================] - 1s 2ms/step\n",
            "142/142 [==============================] - 1s 2ms/step\n",
            "| \u001b[0m5        \u001b[0m | \u001b[0m0.8087   \u001b[0m | \u001b[0m0.4554   \u001b[0m | \u001b[0m123.1    \u001b[0m | \u001b[0m0.3863   \u001b[0m | \u001b[0m27.13    \u001b[0m | \u001b[0m0.9138   \u001b[0m | \u001b[0m0.0001879\u001b[0m | \u001b[0m46.95    \u001b[0m | \u001b[0m1.761    \u001b[0m |\n"
          ]
        },
        {
          "name": "stderr",
          "output_type": "stream",
          "text": [
            "/usr/local/lib/python3.7/dist-packages/ipykernel_launcher.py:35: DeprecationWarning: KerasClassifier is deprecated, use Sci-Keras (https://github.com/adriangb/scikeras) instead. See https://www.adriangb.com/scikeras/stable/migration.html for help migrating.\n"
          ]
        },
        {
          "name": "stdout",
          "output_type": "stream",
          "text": [
            "142/142 [==============================] - 1s 2ms/step\n",
            "142/142 [==============================] - 1s 3ms/step\n",
            "142/142 [==============================] - 1s 2ms/step\n",
            "142/142 [==============================] - 1s 2ms/step\n",
            "142/142 [==============================] - 1s 2ms/step\n",
            "| \u001b[95m6        \u001b[0m | \u001b[95m0.9504   \u001b[0m | \u001b[95m0.8543   \u001b[0m | \u001b[95m79.54    \u001b[0m | \u001b[95m0.01376  \u001b[0m | \u001b[95m28.64    \u001b[0m | \u001b[95m0.7763   \u001b[0m | \u001b[95m0.0006963\u001b[0m | \u001b[95m26.83    \u001b[0m | \u001b[95m2.08     \u001b[0m |\n"
          ]
        },
        {
          "name": "stderr",
          "output_type": "stream",
          "text": [
            "/usr/local/lib/python3.7/dist-packages/ipykernel_launcher.py:35: DeprecationWarning: KerasClassifier is deprecated, use Sci-Keras (https://github.com/adriangb/scikeras) instead. See https://www.adriangb.com/scikeras/stable/migration.html for help migrating.\n"
          ]
        },
        {
          "name": "stdout",
          "output_type": "stream",
          "text": [
            "142/142 [==============================] - 2s 2ms/step\n",
            "142/142 [==============================] - 1s 2ms/step\n",
            "142/142 [==============================] - 2s 2ms/step\n",
            "142/142 [==============================] - 1s 2ms/step\n",
            "142/142 [==============================] - 2s 3ms/step\n",
            "| \u001b[0m7        \u001b[0m | \u001b[0m0.4407   \u001b[0m | \u001b[0m3.827    \u001b[0m | \u001b[0m49.75    \u001b[0m | \u001b[0m0.3878   \u001b[0m | \u001b[0m26.63    \u001b[0m | \u001b[0m2.818    \u001b[0m | \u001b[0m0.0009053\u001b[0m | \u001b[0m42.29    \u001b[0m | \u001b[0m3.687    \u001b[0m |\n"
          ]
        },
        {
          "name": "stderr",
          "output_type": "stream",
          "text": [
            "/usr/local/lib/python3.7/dist-packages/ipykernel_launcher.py:35: DeprecationWarning: KerasClassifier is deprecated, use Sci-Keras (https://github.com/adriangb/scikeras) instead. See https://www.adriangb.com/scikeras/stable/migration.html for help migrating.\n"
          ]
        },
        {
          "name": "stdout",
          "output_type": "stream",
          "text": [
            "142/142 [==============================] - 1s 2ms/step\n",
            "142/142 [==============================] - 1s 2ms/step\n",
            "142/142 [==============================] - 1s 2ms/step\n",
            "142/142 [==============================] - 1s 2ms/step\n",
            "142/142 [==============================] - 1s 2ms/step\n",
            "| \u001b[95m8        \u001b[0m | \u001b[95m0.9568   \u001b[0m | \u001b[95m0.6194   \u001b[0m | \u001b[95m50.81    \u001b[0m | \u001b[95m0.01809  \u001b[0m | \u001b[95m19.88    \u001b[0m | \u001b[95m1.166    \u001b[0m | \u001b[95m0.0003442\u001b[0m | \u001b[95m54.75    \u001b[0m | \u001b[95m1.427    \u001b[0m |\n"
          ]
        },
        {
          "name": "stderr",
          "output_type": "stream",
          "text": [
            "/usr/local/lib/python3.7/dist-packages/ipykernel_launcher.py:35: DeprecationWarning: KerasClassifier is deprecated, use Sci-Keras (https://github.com/adriangb/scikeras) instead. See https://www.adriangb.com/scikeras/stable/migration.html for help migrating.\n"
          ]
        },
        {
          "name": "stdout",
          "output_type": "stream",
          "text": [
            "142/142 [==============================] - 1s 3ms/step\n",
            "142/142 [==============================] - 1s 2ms/step\n",
            "142/142 [==============================] - 1s 2ms/step\n",
            "142/142 [==============================] - 1s 2ms/step\n",
            "142/142 [==============================] - 1s 2ms/step\n",
            "| \u001b[0m9        \u001b[0m | \u001b[0m0.9544   \u001b[0m | \u001b[0m1.967    \u001b[0m | \u001b[0m84.1     \u001b[0m | \u001b[0m0.05637  \u001b[0m | \u001b[0m27.03    \u001b[0m | \u001b[0m0.2237   \u001b[0m | \u001b[0m0.0009882\u001b[0m | \u001b[0m51.7     \u001b[0m | \u001b[0m0.7949   \u001b[0m |\n"
          ]
        },
        {
          "name": "stderr",
          "output_type": "stream",
          "text": [
            "/usr/local/lib/python3.7/dist-packages/ipykernel_launcher.py:35: DeprecationWarning: KerasClassifier is deprecated, use Sci-Keras (https://github.com/adriangb/scikeras) instead. See https://www.adriangb.com/scikeras/stable/migration.html for help migrating.\n"
          ]
        },
        {
          "name": "stdout",
          "output_type": "stream",
          "text": [
            "142/142 [==============================] - 1s 2ms/step\n",
            "142/142 [==============================] - 1s 2ms/step\n",
            "142/142 [==============================] - 1s 2ms/step\n",
            "142/142 [==============================] - 1s 2ms/step\n",
            "142/142 [==============================] - 1s 2ms/step\n",
            "| \u001b[0m10       \u001b[0m | \u001b[0m0.1479   \u001b[0m | \u001b[0m0.03865  \u001b[0m | \u001b[0m110.3    \u001b[0m | \u001b[0m0.2827   \u001b[0m | \u001b[0m25.94    \u001b[0m | \u001b[0m2.314    \u001b[0m | \u001b[0m0.0001666\u001b[0m | \u001b[0m29.36    \u001b[0m | \u001b[0m0.4635   \u001b[0m |\n"
          ]
        },
        {
          "name": "stderr",
          "output_type": "stream",
          "text": [
            "/usr/local/lib/python3.7/dist-packages/ipykernel_launcher.py:35: DeprecationWarning: KerasClassifier is deprecated, use Sci-Keras (https://github.com/adriangb/scikeras) instead. See https://www.adriangb.com/scikeras/stable/migration.html for help migrating.\n"
          ]
        },
        {
          "name": "stdout",
          "output_type": "stream",
          "text": [
            "142/142 [==============================] - 2s 3ms/step\n",
            "142/142 [==============================] - 1s 2ms/step\n",
            "142/142 [==============================] - 1s 2ms/step\n",
            "142/142 [==============================] - 2s 2ms/step\n",
            "142/142 [==============================] - 1s 2ms/step\n",
            "| \u001b[0m11       \u001b[0m | \u001b[0m0.03732  \u001b[0m | \u001b[0m6.042    \u001b[0m | \u001b[0m91.84    \u001b[0m | \u001b[0m0.1324   \u001b[0m | \u001b[0m15.95    \u001b[0m | \u001b[0m0.9329   \u001b[0m | \u001b[0m0.0003927\u001b[0m | \u001b[0m49.4     \u001b[0m | \u001b[0m2.55     \u001b[0m |\n"
          ]
        },
        {
          "name": "stderr",
          "output_type": "stream",
          "text": [
            "/usr/local/lib/python3.7/dist-packages/ipykernel_launcher.py:35: DeprecationWarning: KerasClassifier is deprecated, use Sci-Keras (https://github.com/adriangb/scikeras) instead. See https://www.adriangb.com/scikeras/stable/migration.html for help migrating.\n"
          ]
        },
        {
          "name": "stdout",
          "output_type": "stream",
          "text": [
            "142/142 [==============================] - 1s 2ms/step\n",
            "142/142 [==============================] - 1s 2ms/step\n",
            "142/142 [==============================] - 1s 2ms/step\n",
            "142/142 [==============================] - 1s 2ms/step\n",
            "142/142 [==============================] - 1s 2ms/step\n",
            "| \u001b[95m12       \u001b[0m | \u001b[95m0.9637   \u001b[0m | \u001b[95m6.21     \u001b[0m | \u001b[95m77.33    \u001b[0m | \u001b[95m0.04784  \u001b[0m | \u001b[95m25.7     \u001b[0m | \u001b[95m2.282    \u001b[0m | \u001b[95m0.0006051\u001b[0m | \u001b[95m51.63    \u001b[0m | \u001b[95m1.975    \u001b[0m |\n"
          ]
        },
        {
          "name": "stderr",
          "output_type": "stream",
          "text": [
            "/usr/local/lib/python3.7/dist-packages/ipykernel_launcher.py:35: DeprecationWarning: KerasClassifier is deprecated, use Sci-Keras (https://github.com/adriangb/scikeras) instead. See https://www.adriangb.com/scikeras/stable/migration.html for help migrating.\n"
          ]
        },
        {
          "name": "stdout",
          "output_type": "stream",
          "text": [
            "142/142 [==============================] - 1s 2ms/step\n",
            "142/142 [==============================] - 1s 2ms/step\n",
            "142/142 [==============================] - 1s 2ms/step\n",
            "142/142 [==============================] - 1s 2ms/step\n",
            "142/142 [==============================] - 1s 2ms/step\n",
            "| \u001b[0m13       \u001b[0m | \u001b[0m0.8621   \u001b[0m | \u001b[0m3.659    \u001b[0m | \u001b[0m73.04    \u001b[0m | \u001b[0m0.01017  \u001b[0m | \u001b[0m16.62    \u001b[0m | \u001b[0m0.09429  \u001b[0m | \u001b[0m0.0006728\u001b[0m | \u001b[0m26.98    \u001b[0m | \u001b[0m2.034    \u001b[0m |\n"
          ]
        },
        {
          "name": "stderr",
          "output_type": "stream",
          "text": [
            "/usr/local/lib/python3.7/dist-packages/ipykernel_launcher.py:35: DeprecationWarning: KerasClassifier is deprecated, use Sci-Keras (https://github.com/adriangb/scikeras) instead. See https://www.adriangb.com/scikeras/stable/migration.html for help migrating.\n"
          ]
        },
        {
          "name": "stdout",
          "output_type": "stream",
          "text": [
            "142/142 [==============================] - 1s 2ms/step\n",
            "142/142 [==============================] - 1s 2ms/step\n",
            "142/142 [==============================] - 1s 2ms/step\n",
            "142/142 [==============================] - 1s 2ms/step\n",
            "142/142 [==============================] - 1s 2ms/step\n",
            "| \u001b[0m14       \u001b[0m | \u001b[0m0.9036   \u001b[0m | \u001b[0m6.353    \u001b[0m | \u001b[0m55.93    \u001b[0m | \u001b[0m0.1642   \u001b[0m | \u001b[0m26.33    \u001b[0m | \u001b[0m0.6864   \u001b[0m | \u001b[0m0.0001693\u001b[0m | \u001b[0m25.65    \u001b[0m | \u001b[0m0.6449   \u001b[0m |\n"
          ]
        },
        {
          "name": "stderr",
          "output_type": "stream",
          "text": [
            "/usr/local/lib/python3.7/dist-packages/ipykernel_launcher.py:35: DeprecationWarning: KerasClassifier is deprecated, use Sci-Keras (https://github.com/adriangb/scikeras) instead. See https://www.adriangb.com/scikeras/stable/migration.html for help migrating.\n"
          ]
        },
        {
          "name": "stdout",
          "output_type": "stream",
          "text": [
            "142/142 [==============================] - 1s 3ms/step\n",
            "142/142 [==============================] - 1s 2ms/step\n",
            "142/142 [==============================] - 1s 2ms/step\n",
            "142/142 [==============================] - 1s 3ms/step\n",
            "142/142 [==============================] - 1s 3ms/step\n",
            "| \u001b[0m15       \u001b[0m | \u001b[0m0.8756   \u001b[0m | \u001b[0m6.508    \u001b[0m | \u001b[0m109.6    \u001b[0m | \u001b[0m0.2534   \u001b[0m | \u001b[0m28.07    \u001b[0m | \u001b[0m2.411    \u001b[0m | \u001b[0m0.0002679\u001b[0m | \u001b[0m58.2     \u001b[0m | \u001b[0m2.157    \u001b[0m |\n"
          ]
        },
        {
          "name": "stderr",
          "output_type": "stream",
          "text": [
            "/usr/local/lib/python3.7/dist-packages/ipykernel_launcher.py:35: DeprecationWarning: KerasClassifier is deprecated, use Sci-Keras (https://github.com/adriangb/scikeras) instead. See https://www.adriangb.com/scikeras/stable/migration.html for help migrating.\n"
          ]
        },
        {
          "name": "stdout",
          "output_type": "stream",
          "text": [
            "142/142 [==============================] - 2s 2ms/step\n",
            "142/142 [==============================] - 1s 2ms/step\n",
            "142/142 [==============================] - 2s 3ms/step\n",
            "142/142 [==============================] - 1s 2ms/step\n",
            "142/142 [==============================] - 1s 2ms/step\n",
            "| \u001b[0m16       \u001b[0m | \u001b[0m0.5334   \u001b[0m | \u001b[0m5.652    \u001b[0m | \u001b[0m118.0    \u001b[0m | \u001b[0m0.1272   \u001b[0m | \u001b[0m16.65    \u001b[0m | \u001b[0m0.6838   \u001b[0m | \u001b[0m0.0004844\u001b[0m | \u001b[0m54.17    \u001b[0m | \u001b[0m3.443    \u001b[0m |\n"
          ]
        },
        {
          "name": "stderr",
          "output_type": "stream",
          "text": [
            "/usr/local/lib/python3.7/dist-packages/ipykernel_launcher.py:35: DeprecationWarning: KerasClassifier is deprecated, use Sci-Keras (https://github.com/adriangb/scikeras) instead. See https://www.adriangb.com/scikeras/stable/migration.html for help migrating.\n"
          ]
        },
        {
          "name": "stdout",
          "output_type": "stream",
          "text": [
            "142/142 [==============================] - 1s 2ms/step\n",
            "142/142 [==============================] - 1s 2ms/step\n",
            "142/142 [==============================] - 1s 3ms/step\n",
            "142/142 [==============================] - 1s 3ms/step\n",
            "142/142 [==============================] - 1s 2ms/step\n",
            "| \u001b[0m17       \u001b[0m | \u001b[0m0.9019   \u001b[0m | \u001b[0m0.04866  \u001b[0m | \u001b[0m81.03    \u001b[0m | \u001b[0m0.167    \u001b[0m | \u001b[0m18.33    \u001b[0m | \u001b[0m0.3596   \u001b[0m | \u001b[0m0.0004039\u001b[0m | \u001b[0m60.92    \u001b[0m | \u001b[0m1.293    \u001b[0m |\n"
          ]
        },
        {
          "name": "stderr",
          "output_type": "stream",
          "text": [
            "/usr/local/lib/python3.7/dist-packages/ipykernel_launcher.py:35: DeprecationWarning: KerasClassifier is deprecated, use Sci-Keras (https://github.com/adriangb/scikeras) instead. See https://www.adriangb.com/scikeras/stable/migration.html for help migrating.\n"
          ]
        },
        {
          "name": "stdout",
          "output_type": "stream",
          "text": [
            "142/142 [==============================] - 1s 2ms/step\n",
            "142/142 [==============================] - 1s 2ms/step\n",
            "142/142 [==============================] - 1s 2ms/step\n",
            "142/142 [==============================] - 1s 2ms/step\n",
            "142/142 [==============================] - 1s 2ms/step\n",
            "| \u001b[0m18       \u001b[0m | \u001b[0m0.8825   \u001b[0m | \u001b[0m3.632    \u001b[0m | \u001b[0m99.49    \u001b[0m | \u001b[0m0.1455   \u001b[0m | \u001b[0m29.58    \u001b[0m | \u001b[0m2.887    \u001b[0m | \u001b[0m0.0003266\u001b[0m | \u001b[0m36.85    \u001b[0m | \u001b[0m1.204    \u001b[0m |\n"
          ]
        },
        {
          "name": "stderr",
          "output_type": "stream",
          "text": [
            "/usr/local/lib/python3.7/dist-packages/ipykernel_launcher.py:35: DeprecationWarning: KerasClassifier is deprecated, use Sci-Keras (https://github.com/adriangb/scikeras) instead. See https://www.adriangb.com/scikeras/stable/migration.html for help migrating.\n"
          ]
        },
        {
          "name": "stdout",
          "output_type": "stream",
          "text": [
            "142/142 [==============================] - 1s 2ms/step\n",
            "142/142 [==============================] - 1s 2ms/step\n",
            "142/142 [==============================] - 1s 2ms/step\n",
            "142/142 [==============================] - 1s 3ms/step\n",
            "142/142 [==============================] - 2s 2ms/step\n",
            "| \u001b[0m19       \u001b[0m | \u001b[0m0.9374   \u001b[0m | \u001b[0m1.994    \u001b[0m | \u001b[0m35.54    \u001b[0m | \u001b[0m0.2438   \u001b[0m | \u001b[0m22.54    \u001b[0m | \u001b[0m0.1544   \u001b[0m | \u001b[0m0.0003508\u001b[0m | \u001b[0m59.05    \u001b[0m | \u001b[0m0.9582   \u001b[0m |\n"
          ]
        },
        {
          "name": "stderr",
          "output_type": "stream",
          "text": [
            "/usr/local/lib/python3.7/dist-packages/ipykernel_launcher.py:35: DeprecationWarning: KerasClassifier is deprecated, use Sci-Keras (https://github.com/adriangb/scikeras) instead. See https://www.adriangb.com/scikeras/stable/migration.html for help migrating.\n"
          ]
        },
        {
          "name": "stdout",
          "output_type": "stream",
          "text": [
            "142/142 [==============================] - 1s 2ms/step\n",
            "142/142 [==============================] - 2s 2ms/step\n",
            "142/142 [==============================] - 1s 2ms/step\n",
            "142/142 [==============================] - 2s 2ms/step\n",
            "142/142 [==============================] - 1s 2ms/step\n",
            "| \u001b[0m20       \u001b[0m | \u001b[0m0.0      \u001b[0m | \u001b[0m1.014    \u001b[0m | \u001b[0m78.99    \u001b[0m | \u001b[0m0.3943   \u001b[0m | \u001b[0m18.63    \u001b[0m | \u001b[0m2.016    \u001b[0m | \u001b[0m0.0007855\u001b[0m | \u001b[0m22.83    \u001b[0m | \u001b[0m2.913    \u001b[0m |\n"
          ]
        },
        {
          "name": "stderr",
          "output_type": "stream",
          "text": [
            "/usr/local/lib/python3.7/dist-packages/ipykernel_launcher.py:35: DeprecationWarning: KerasClassifier is deprecated, use Sci-Keras (https://github.com/adriangb/scikeras) instead. See https://www.adriangb.com/scikeras/stable/migration.html for help migrating.\n"
          ]
        },
        {
          "name": "stdout",
          "output_type": "stream",
          "text": [
            "142/142 [==============================] - 2s 2ms/step\n",
            "142/142 [==============================] - 1s 2ms/step\n",
            "142/142 [==============================] - 2s 2ms/step\n",
            "142/142 [==============================] - 1s 2ms/step\n",
            "142/142 [==============================] - 1s 2ms/step\n",
            "| \u001b[0m21       \u001b[0m | \u001b[0m0.0      \u001b[0m | \u001b[0m2.664    \u001b[0m | \u001b[0m114.4    \u001b[0m | \u001b[0m0.3018   \u001b[0m | \u001b[0m15.28    \u001b[0m | \u001b[0m0.4995   \u001b[0m | \u001b[0m0.0005266\u001b[0m | \u001b[0m45.57    \u001b[0m | \u001b[0m2.861    \u001b[0m |\n"
          ]
        },
        {
          "name": "stderr",
          "output_type": "stream",
          "text": [
            "/usr/local/lib/python3.7/dist-packages/ipykernel_launcher.py:35: DeprecationWarning: KerasClassifier is deprecated, use Sci-Keras (https://github.com/adriangb/scikeras) instead. See https://www.adriangb.com/scikeras/stable/migration.html for help migrating.\n"
          ]
        },
        {
          "name": "stdout",
          "output_type": "stream",
          "text": [
            "142/142 [==============================] - 1s 2ms/step\n",
            "142/142 [==============================] - 1s 2ms/step\n",
            "142/142 [==============================] - 1s 2ms/step\n",
            "142/142 [==============================] - 1s 2ms/step\n",
            "142/142 [==============================] - 1s 2ms/step\n",
            "| \u001b[0m22       \u001b[0m | \u001b[0m0.1445   \u001b[0m | \u001b[0m3.507    \u001b[0m | \u001b[0m115.8    \u001b[0m | \u001b[0m0.3596   \u001b[0m | \u001b[0m16.19    \u001b[0m | \u001b[0m2.499    \u001b[0m | \u001b[0m0.0005793\u001b[0m | \u001b[0m44.74    \u001b[0m | \u001b[0m0.4607   \u001b[0m |\n"
          ]
        },
        {
          "name": "stderr",
          "output_type": "stream",
          "text": [
            "/usr/local/lib/python3.7/dist-packages/ipykernel_launcher.py:35: DeprecationWarning: KerasClassifier is deprecated, use Sci-Keras (https://github.com/adriangb/scikeras) instead. See https://www.adriangb.com/scikeras/stable/migration.html for help migrating.\n"
          ]
        },
        {
          "name": "stdout",
          "output_type": "stream",
          "text": [
            "142/142 [==============================] - 1s 2ms/step\n",
            "142/142 [==============================] - 1s 3ms/step\n",
            "142/142 [==============================] - 1s 2ms/step\n",
            "142/142 [==============================] - 1s 3ms/step\n",
            "142/142 [==============================] - 1s 2ms/step\n",
            "| \u001b[0m23       \u001b[0m | \u001b[0m0.5147   \u001b[0m | \u001b[0m4.233    \u001b[0m | \u001b[0m81.79    \u001b[0m | \u001b[0m0.1885   \u001b[0m | \u001b[0m25.23    \u001b[0m | \u001b[0m1.856    \u001b[0m | \u001b[0m0.0008313\u001b[0m | \u001b[0m51.19    \u001b[0m | \u001b[0m0.4253   \u001b[0m |\n"
          ]
        },
        {
          "name": "stderr",
          "output_type": "stream",
          "text": [
            "/usr/local/lib/python3.7/dist-packages/ipykernel_launcher.py:35: DeprecationWarning: KerasClassifier is deprecated, use Sci-Keras (https://github.com/adriangb/scikeras) instead. See https://www.adriangb.com/scikeras/stable/migration.html for help migrating.\n"
          ]
        },
        {
          "name": "stdout",
          "output_type": "stream",
          "text": [
            "142/142 [==============================] - 1s 2ms/step\n",
            "142/142 [==============================] - 1s 2ms/step\n",
            "142/142 [==============================] - 1s 2ms/step\n",
            "142/142 [==============================] - 1s 2ms/step\n",
            "142/142 [==============================] - 1s 2ms/step\n",
            "| \u001b[0m24       \u001b[0m | \u001b[0m0.1943   \u001b[0m | \u001b[0m6.81     \u001b[0m | \u001b[0m75.42    \u001b[0m | \u001b[0m0.2822   \u001b[0m | \u001b[0m26.81    \u001b[0m | \u001b[0m0.9503   \u001b[0m | \u001b[0m0.0007072\u001b[0m | \u001b[0m52.41    \u001b[0m | \u001b[0m0.3749   \u001b[0m |\n"
          ]
        },
        {
          "name": "stderr",
          "output_type": "stream",
          "text": [
            "/usr/local/lib/python3.7/dist-packages/ipykernel_launcher.py:35: DeprecationWarning: KerasClassifier is deprecated, use Sci-Keras (https://github.com/adriangb/scikeras) instead. See https://www.adriangb.com/scikeras/stable/migration.html for help migrating.\n"
          ]
        },
        {
          "name": "stdout",
          "output_type": "stream",
          "text": [
            "142/142 [==============================] - 1s 2ms/step\n",
            "142/142 [==============================] - 2s 2ms/step\n",
            "142/142 [==============================] - 1s 2ms/step\n",
            "142/142 [==============================] - 2s 2ms/step\n",
            "142/142 [==============================] - 1s 2ms/step\n",
            "| \u001b[0m25       \u001b[0m | \u001b[0m0.1416   \u001b[0m | \u001b[0m1.831    \u001b[0m | \u001b[0m110.7    \u001b[0m | \u001b[0m0.3918   \u001b[0m | \u001b[0m17.27    \u001b[0m | \u001b[0m2.53     \u001b[0m | \u001b[0m0.0007728\u001b[0m | \u001b[0m45.19    \u001b[0m | \u001b[0m3.627    \u001b[0m |\n",
            "=========================================================================================================================\n"
          ]
        }
      ],
      "source": [
        "# Run Bayesian Optimization\n",
        "bidirectional_lstm_bo = BayesianOptimization(bidirectional_lstm_tuner, params_bidirectional_lstm, random_state=42)\n",
        "bidirectional_lstm_bo.maximize(init_points=20, n_iter=5)"
      ]
    },
    {
      "cell_type": "code",
      "execution_count": null,
      "id": "leCHiMjVSP7p",
      "metadata": {
        "colab": {
          "base_uri": "https://localhost:8080/"
        },
        "id": "leCHiMjVSP7p",
        "outputId": "920dbf41-9539-4eaf-babb-f6110d5dcc75"
      },
      "outputs": [
        {
          "data": {
            "text/plain": [
              "{'activation': 6.210489198034286,\n",
              " 'batch_size': 77.33263281554713,\n",
              " 'dropout_rate': 0.04783769837532068,\n",
              " 'epochs': 25.698671808344926,\n",
              " 'layers1': 2.2823551458506923,\n",
              " 'learning_rate': 0.0006051494778125466,\n",
              " 'neurons': 51.63222771754629,\n",
              " 'optimizer': 1.975182385457563}"
            ]
          },
          "execution_count": 30,
          "metadata": {},
          "output_type": "execute_result"
        }
      ],
      "source": [
        "bidirectional_lstm_bo.max['params']"
      ]
    },
    {
      "cell_type": "code",
      "execution_count": null,
      "id": "iei2gS7-SP7q",
      "metadata": {
        "id": "iei2gS7-SP7q"
      },
      "outputs": [],
      "source": [
        "def create_model_best_params(params):\n",
        "  learning_rate = params['learning_rate']\n",
        "  optimizerL = ['SGD', 'Adam', 'RMSprop', 'Adadelta', 'Adagrad']\n",
        "  optimizerD= {'Adam':Adam(learning_rate=learning_rate), 'SGD':SGD(learning_rate=learning_rate),\n",
        "                'RMSprop':RMSprop(learning_rate=learning_rate), 'Adadelta':Adadelta(learning_rate=learning_rate),\n",
        "                'Adagrad':Adagrad(learning_rate=learning_rate),}\n",
        "  activationL = ['relu', 'sigmoid', 'softplus', 'softsign', 'tanh', 'selu', 'elu', 'relu']\n",
        "  neurons = round(params['neurons'])\n",
        "  activation = activationL[round(params['activation'])]\n",
        "  optimizer = optimizerD[optimizerL[round(params['optimizer'])]]\n",
        "  batch_size = round(params['batch_size'])\n",
        "  epochs = round(params['epochs'])\n",
        "  layers1 = round(params['layers1'])\n",
        "  dropout_rate = params['dropout_rate']\n",
        "\n",
        "  # for reproducibility \n",
        "  np.random.seed(42)\n",
        "  tensorflow.random.set_seed(42)\n",
        "  tuned_model = Sequential()\n",
        "  tuned_model.add(Bidirectional(LSTM(neurons, return_sequences=False)))  \n",
        "  tuned_model.add(Dropout(dropout_rate, seed=42))\n",
        "\n",
        "  for i in range(layers1): #varying first set of hidden layers\n",
        "    tuned_model.add(Dense(neurons, activation=activation))\n",
        "    tuned_model.add(Dropout(dropout_rate, seed=42))\n",
        "\n",
        "  tuned_model.add(Dense(1, activation='sigmoid')) #output layer\n",
        "  tuned_model.compile(loss='binary_crossentropy', optimizer = optimizer, metrics=['accuracy',metrics.Precision(), metrics.Recall(),metrics.AUC()])\n",
        "  return tuned_model"
      ]
    },
    {
      "cell_type": "code",
      "execution_count": null,
      "id": "1GVO4Zr3SP7r",
      "metadata": {
        "colab": {
          "base_uri": "https://localhost:8080/"
        },
        "id": "1GVO4Zr3SP7r",
        "outputId": "115803a8-9693-4da8-e33b-56e99471e26b"
      },
      "outputs": [
        {
          "name": "stdout",
          "output_type": "stream",
          "text": [
            "Epoch 1/26\n",
            "294/294 [==============================] - 8s 8ms/step - loss: 0.3524 - accuracy: 0.8367 - precision_252: 0.8186 - recall_252: 0.8650 - auc_2: 0.9231\n",
            "Epoch 2/26\n",
            "294/294 [==============================] - 3s 11ms/step - loss: 0.1588 - accuracy: 0.9392 - precision_252: 0.9255 - recall_252: 0.9554 - auc_2: 0.9826\n",
            "Epoch 3/26\n",
            "294/294 [==============================] - 2s 8ms/step - loss: 0.1106 - accuracy: 0.9604 - precision_252: 0.9493 - recall_252: 0.9727 - auc_2: 0.9907\n",
            "Epoch 4/26\n",
            "294/294 [==============================] - 2s 8ms/step - loss: 0.0754 - accuracy: 0.9737 - precision_252: 0.9653 - recall_252: 0.9827 - auc_2: 0.9952\n",
            "Epoch 5/26\n",
            "294/294 [==============================] - 2s 8ms/step - loss: 0.0521 - accuracy: 0.9820 - precision_252: 0.9771 - recall_252: 0.9872 - auc_2: 0.9974\n",
            "Epoch 6/26\n",
            "294/294 [==============================] - 2s 8ms/step - loss: 0.0356 - accuracy: 0.9876 - precision_252: 0.9845 - recall_252: 0.9909 - auc_2: 0.9986\n",
            "Epoch 7/26\n",
            "294/294 [==============================] - 2s 7ms/step - loss: 0.0287 - accuracy: 0.9907 - precision_252: 0.9882 - recall_252: 0.9932 - auc_2: 0.9988\n",
            "Epoch 8/26\n",
            "294/294 [==============================] - 2s 7ms/step - loss: 0.0241 - accuracy: 0.9919 - precision_252: 0.9908 - recall_252: 0.9930 - auc_2: 0.9992\n",
            "Epoch 9/26\n",
            "294/294 [==============================] - 2s 8ms/step - loss: 0.0211 - accuracy: 0.9924 - precision_252: 0.9914 - recall_252: 0.9934 - auc_2: 0.9994\n",
            "Epoch 10/26\n",
            "294/294 [==============================] - 2s 8ms/step - loss: 0.0162 - accuracy: 0.9945 - precision_252: 0.9942 - recall_252: 0.9949 - auc_2: 0.9995\n",
            "Epoch 11/26\n",
            "294/294 [==============================] - 2s 7ms/step - loss: 0.0168 - accuracy: 0.9944 - precision_252: 0.9942 - recall_252: 0.9945 - auc_2: 0.9994\n",
            "Epoch 12/26\n",
            "294/294 [==============================] - 2s 7ms/step - loss: 0.0129 - accuracy: 0.9957 - precision_252: 0.9950 - recall_252: 0.9965 - auc_2: 0.9996\n",
            "Epoch 13/26\n",
            "294/294 [==============================] - 2s 8ms/step - loss: 0.0103 - accuracy: 0.9962 - precision_252: 0.9960 - recall_252: 0.9964 - auc_2: 0.9998\n",
            "Epoch 14/26\n",
            "294/294 [==============================] - 2s 8ms/step - loss: 0.0115 - accuracy: 0.9961 - precision_252: 0.9957 - recall_252: 0.9965 - auc_2: 0.9997\n",
            "Epoch 15/26\n",
            "294/294 [==============================] - 2s 8ms/step - loss: 0.0112 - accuracy: 0.9970 - precision_252: 0.9971 - recall_252: 0.9970 - auc_2: 0.9995\n",
            "Epoch 16/26\n",
            "294/294 [==============================] - 2s 8ms/step - loss: 0.0077 - accuracy: 0.9973 - precision_252: 0.9972 - recall_252: 0.9974 - auc_2: 0.9999\n",
            "Epoch 17/26\n",
            "294/294 [==============================] - 2s 7ms/step - loss: 0.0087 - accuracy: 0.9971 - precision_252: 0.9973 - recall_252: 0.9969 - auc_2: 0.9997\n",
            "Epoch 18/26\n",
            "294/294 [==============================] - 2s 7ms/step - loss: 0.0067 - accuracy: 0.9981 - precision_252: 0.9980 - recall_252: 0.9981 - auc_2: 0.9998\n",
            "Epoch 19/26\n",
            "294/294 [==============================] - 2s 7ms/step - loss: 0.0075 - accuracy: 0.9975 - precision_252: 0.9983 - recall_252: 0.9967 - auc_2: 0.9997\n",
            "Epoch 20/26\n",
            "294/294 [==============================] - 2s 7ms/step - loss: 0.0070 - accuracy: 0.9979 - precision_252: 0.9984 - recall_252: 0.9974 - auc_2: 0.9998\n",
            "Epoch 21/26\n",
            "294/294 [==============================] - 2s 7ms/step - loss: 0.0060 - accuracy: 0.9985 - precision_252: 0.9982 - recall_252: 0.9987 - auc_2: 0.9997\n",
            "Epoch 22/26\n",
            "294/294 [==============================] - 2s 7ms/step - loss: 0.0066 - accuracy: 0.9981 - precision_252: 0.9981 - recall_252: 0.9981 - auc_2: 0.9997\n",
            "Epoch 23/26\n",
            "294/294 [==============================] - 2s 7ms/step - loss: 0.0051 - accuracy: 0.9986 - precision_252: 0.9986 - recall_252: 0.9986 - auc_2: 0.9997\n",
            "Epoch 24/26\n",
            "294/294 [==============================] - 2s 7ms/step - loss: 0.0072 - accuracy: 0.9979 - precision_252: 0.9982 - recall_252: 0.9976 - auc_2: 0.9998\n",
            "Epoch 25/26\n",
            "294/294 [==============================] - 2s 7ms/step - loss: 0.0063 - accuracy: 0.9981 - precision_252: 0.9984 - recall_252: 0.9977 - auc_2: 0.9999\n",
            "Epoch 26/26\n",
            "294/294 [==============================] - 2s 7ms/step - loss: 0.0042 - accuracy: 0.9987 - precision_252: 0.9988 - recall_252: 0.9986 - auc_2: 0.9999\n"
          ]
        },
        {
          "data": {
            "text/plain": [
              "<keras.callbacks.History at 0x7f3fedd5dad0>"
            ]
          },
          "execution_count": 39,
          "metadata": {},
          "output_type": "execute_result"
        }
      ],
      "source": [
        "best_params = {'activation': 6.210489198034286,\n",
        "              'batch_size': 77.33263281554713,\n",
        "              'dropout_rate': 0.04783769837532068,\n",
        "              'epochs': 25.698671808344926,\n",
        "              'layers1': 2.2823551458506923,\n",
        "              'learning_rate': 0.0006051494778125466,\n",
        "              'neurons': 51.63222771754629,\n",
        "              'optimizer': 1.975182385457563}\n",
        "best_model2 = create_model_best_params(best_params)\n",
        "best_model2.fit(X_train_over, y_train_over, epochs=round(best_params['epochs']), batch_size = round(best_params['batch_size']))"
      ]
    },
    {
      "cell_type": "code",
      "execution_count": null,
      "id": "FZMNcL8wSP7r",
      "metadata": {
        "colab": {
          "base_uri": "https://localhost:8080/"
        },
        "id": "FZMNcL8wSP7r",
        "outputId": "727c0f8d-b758-4ca6-b750-d7f0709ae699"
      },
      "outputs": [
        {
          "name": "stdout",
          "output_type": "stream",
          "text": [
            "Model: \"sequential_252\"\n",
            "_________________________________________________________________\n",
            " Layer (type)                Output Shape              Param #   \n",
            "=================================================================\n",
            " bidirectional_252 (Bidirect  (None, 104)              131456    \n",
            " ional)                                                          \n",
            "                                                                 \n",
            " dropout_453 (Dropout)       (None, 104)               0         \n",
            "                                                                 \n",
            " dense_576 (Dense)           (None, 52)                5460      \n",
            "                                                                 \n",
            " dropout_454 (Dropout)       (None, 52)                0         \n",
            "                                                                 \n",
            " dense_577 (Dense)           (None, 52)                2756      \n",
            "                                                                 \n",
            " dropout_455 (Dropout)       (None, 52)                0         \n",
            "                                                                 \n",
            " dense_578 (Dense)           (None, 1)                 53        \n",
            "                                                                 \n",
            "=================================================================\n",
            "Total params: 139,725\n",
            "Trainable params: 139,725\n",
            "Non-trainable params: 0\n",
            "_________________________________________________________________\n"
          ]
        }
      ],
      "source": [
        "best_model2.summary()"
      ]
    },
    {
      "cell_type": "code",
      "execution_count": null,
      "id": "9-ebtxv9RF0U",
      "metadata": {
        "colab": {
          "base_uri": "https://localhost:8080/"
        },
        "id": "9-ebtxv9RF0U",
        "outputId": "ebb40649-dc28-4b52-9985-b541e05626bc"
      },
      "outputs": [
        {
          "name": "stdout",
          "output_type": "stream",
          "text": [
            "706/706 [==============================] - 3s 3ms/step - loss: 5.3620e-04 - accuracy: 0.9998 - precision_252: 0.9996 - recall_252: 1.0000 - auc_2: 1.0000\n",
            "Train Results\n",
            "Precision: 0.9996459484100342\n",
            "Recall: 1.0\n",
            "F1 Score: 0.9998229428613363\n",
            "Accuracy: 0.9998229146003723\n",
            "AUROC:1.0000001192092896\n"
          ]
        }
      ],
      "source": [
        "train_results = best_model2.evaluate(X_train_over, y_train_over)\n",
        "precision = train_results[2]\n",
        "recall = train_results[3]\n",
        "f1_score = 2 * (precision * recall) / (precision + recall)\n",
        "print('Train Results')\n",
        "print(f'Precision: {precision}\\nRecall: {recall}\\nF1 Score: {f1_score}\\nAccuracy: {train_results[1]}\\nAUROC:{train_results[4]}')"
      ]
    },
    {
      "cell_type": "code",
      "execution_count": null,
      "id": "oa6mr3ywRF0V",
      "metadata": {
        "colab": {
          "base_uri": "https://localhost:8080/"
        },
        "id": "oa6mr3ywRF0V",
        "outputId": "66f59666-ea18-43b0-edbc-b7d74ad871ad"
      },
      "outputs": [
        {
          "name": "stdout",
          "output_type": "stream",
          "text": [
            "90/90 [==============================] - 0s 3ms/step - loss: 0.0643 - accuracy: 0.9892 - precision_252: 0.6984 - recall_252: 0.7857 - auc_2: 0.9342\n",
            "Test Results\n",
            "Precision: 0.6984127163887024\n",
            "Recall: 0.7857142686843872\n",
            "F1 Score: 0.7394958008531877\n",
            "Accuracy: 0.9892361164093018\n",
            "AUROC:0.9341992735862732\n"
          ]
        }
      ],
      "source": [
        "test_results = best_model2.evaluate(X_test, y_test)\n",
        "precision = test_results[2]\n",
        "recall = test_results[3]\n",
        "f1_score = 2 * (precision * recall) / (precision + recall)\n",
        "print('Test Results')\n",
        "print(f'Precision: {precision}\\nRecall: {recall}\\nF1 Score: {f1_score}\\nAccuracy: {test_results[1]}\\nAUROC:{test_results[4]}')"
      ]
    },
    {
      "cell_type": "markdown",
      "id": "bJ7aqXX-udv7",
      "metadata": {
        "id": "bJ7aqXX-udv7"
      },
      "source": [
        "#Hyperparameter tuning (Round 3)\n",
        "\n",
        "Best test F1 score: 0.712"
      ]
    },
    {
      "cell_type": "code",
      "execution_count": null,
      "id": "ygYLPgNRudv8",
      "metadata": {
        "id": "ygYLPgNRudv8"
      },
      "outputs": [],
      "source": [
        "def bidirectional_lstm_tuner(batch_size, neurons, activation, optimizer, dropout_rate, learning_rate, epochs, layers1, layers2):\n",
        "    optimizerL = ['SGD', 'Adam', 'RMSprop', 'Adadelta', 'Adagrad']\n",
        "    optimizerD= {'Adam':Adam(learning_rate=learning_rate), 'SGD':SGD(learning_rate=learning_rate),\n",
        "                  'RMSprop':RMSprop(learning_rate=learning_rate), 'Adadelta':Adadelta(learning_rate=learning_rate),\n",
        "                  'Adagrad':Adagrad(learning_rate=learning_rate),}\n",
        "    activationL = ['relu', 'sigmoid', 'softplus', 'softsign', 'tanh', 'selu', 'elu', 'relu']\n",
        "    neurons = round(neurons)\n",
        "    activation = activationL[round(activation)]\n",
        "    optimizer = optimizerD[optimizerL[round(optimizer)]]\n",
        "    batch_size = round(batch_size)\n",
        "    epochs = round(epochs)\n",
        "    layers1 = round(layers1)\n",
        "    layers2 = round(layers2)\n",
        "\n",
        "    def create_model():\n",
        "      # for reproducibility \n",
        "      np.random.seed(42)\n",
        "      tensorflow.random.set_seed(42)\n",
        "\n",
        "      tuned_model = Sequential()\n",
        "      tuned_model.add(Bidirectional(LSTM(neurons, return_sequences=False)))  \n",
        "      tuned_model.add(Dropout(dropout_rate, seed=42))\n",
        "\n",
        "      for i in range(layers1): #varying first set of hidden layers\n",
        "        tuned_model.add(Dense(neurons, activation=activation))\n",
        "        tuned_model.add(Dropout(dropout_rate, seed=42))\n",
        "\n",
        "      for i in range(layers2): #varying second set of hidden layers\n",
        "        tuned_model.add(Dense(neurons, activation=activation))\n",
        "\n",
        "      tuned_model.add(Dense(1, activation='sigmoid')) #output layer\n",
        "      # tuned_model.compile(loss='binary_crossentropy', optimizer = optimizer, metrics=['accuracy',metrics.Precision(), metrics.Recall(),metrics.AUC()])\n",
        "      tuned_model.compile(loss='binary_crossentropy', optimizer = optimizer, metrics=['accuracy',metrics.Precision(), metrics.Recall()])\n",
        "      return tuned_model\n",
        "\n",
        "    es = EarlyStopping(monitor=\"loss\", patience=3)\n",
        "    mc = ModelCheckpoint('Best_tuned_bidirectional_LSTM_.h5', monitor='val_loss',mode='min',verbose=2, save_best_only=True)\n",
        "\n",
        "    tune_rnn = KerasClassifier(build_fn=create_model, epochs=epochs, batch_size=batch_size, verbose=0) \n",
        "    score = cross_val_score(tune_rnn, X_train_over, y_train_over, fit_params={'callbacks':[es]}, error_score='raise', scoring='f1').mean() #5 fold cross validation default\n",
        "    return score"
      ]
    },
    {
      "cell_type": "code",
      "execution_count": null,
      "id": "0xFFU10wudv9",
      "metadata": {
        "id": "0xFFU10wudv9"
      },
      "outputs": [],
      "source": [
        "params_bidirectional_lstm ={\n",
        "    'neurons': (10, 64),\n",
        "    'activation':(0, 7),\n",
        "    'optimizer':(0, 4),\n",
        "    'learning_rate':(0.0001, 0.001),\n",
        "    'batch_size':(32, 128),\n",
        "    'epochs':(15, 30),\n",
        "    'layers1':(0,3),\n",
        "    'layers2':(0,3),\n",
        "    'dropout_rate':(0, 0.4)\n",
        "}"
      ]
    },
    {
      "cell_type": "code",
      "execution_count": null,
      "id": "2PXlirVJudv9",
      "metadata": {
        "colab": {
          "base_uri": "https://localhost:8080/"
        },
        "id": "2PXlirVJudv9",
        "outputId": "cf27dfdc-66dd-4927-d908-9fea3278786c"
      },
      "outputs": [
        {
          "name": "stdout",
          "output_type": "stream",
          "text": [
            "|   iter    |  target   | activa... | batch_... | dropou... |  epochs   |  layers1  |  layers2  | learni... |  neurons  | optimizer |\n",
            "-------------------------------------------------------------------------------------------------------------------------------------\n"
          ]
        },
        {
          "name": "stderr",
          "output_type": "stream",
          "text": [
            "/usr/local/lib/python3.7/dist-packages/ipykernel_launcher.py:39: DeprecationWarning: KerasClassifier is deprecated, use Sci-Keras (https://github.com/adriangb/scikeras) instead. See https://www.adriangb.com/scikeras/stable/migration.html for help migrating.\n"
          ]
        },
        {
          "name": "stdout",
          "output_type": "stream",
          "text": [
            "142/142 [==============================] - 1s 2ms/step\n",
            "142/142 [==============================] - 1s 3ms/step\n",
            "142/142 [==============================] - 1s 2ms/step\n",
            "142/142 [==============================] - 1s 2ms/step\n",
            "142/142 [==============================] - 1s 3ms/step\n",
            "| \u001b[0m1        \u001b[0m | \u001b[0m0.7486   \u001b[0m | \u001b[0m2.622    \u001b[0m | \u001b[0m123.3    \u001b[0m | \u001b[0m0.2928   \u001b[0m | \u001b[0m23.98    \u001b[0m | \u001b[0m0.4681   \u001b[0m | \u001b[0m0.468    \u001b[0m | \u001b[0m0.0001523\u001b[0m | \u001b[0m56.77    \u001b[0m | \u001b[0m2.404    \u001b[0m |\n"
          ]
        },
        {
          "name": "stderr",
          "output_type": "stream",
          "text": [
            "/usr/local/lib/python3.7/dist-packages/ipykernel_launcher.py:39: DeprecationWarning: KerasClassifier is deprecated, use Sci-Keras (https://github.com/adriangb/scikeras) instead. See https://www.adriangb.com/scikeras/stable/migration.html for help migrating.\n"
          ]
        },
        {
          "name": "stdout",
          "output_type": "stream",
          "text": [
            "142/142 [==============================] - 1s 3ms/step\n",
            "142/142 [==============================] - 1s 2ms/step\n",
            "142/142 [==============================] - 1s 2ms/step\n",
            "142/142 [==============================] - 1s 2ms/step\n",
            "142/142 [==============================] - 1s 2ms/step\n",
            "| \u001b[95m2        \u001b[0m | \u001b[95m0.8683   \u001b[0m | \u001b[95m4.957    \u001b[0m | \u001b[95m33.98    \u001b[0m | \u001b[95m0.388    \u001b[0m | \u001b[95m27.49    \u001b[0m | \u001b[95m0.637    \u001b[0m | \u001b[95m0.5455   \u001b[0m | \u001b[95m0.0002651\u001b[0m | \u001b[95m26.43    \u001b[0m | \u001b[95m2.099    \u001b[0m |\n"
          ]
        },
        {
          "name": "stderr",
          "output_type": "stream",
          "text": [
            "/usr/local/lib/python3.7/dist-packages/ipykernel_launcher.py:39: DeprecationWarning: KerasClassifier is deprecated, use Sci-Keras (https://github.com/adriangb/scikeras) instead. See https://www.adriangb.com/scikeras/stable/migration.html for help migrating.\n"
          ]
        },
        {
          "name": "stdout",
          "output_type": "stream",
          "text": [
            "142/142 [==============================] - 1s 2ms/step\n",
            "142/142 [==============================] - 1s 2ms/step\n",
            "142/142 [==============================] - 1s 2ms/step\n",
            "142/142 [==============================] - 1s 2ms/step\n",
            "142/142 [==============================] - 1s 3ms/step\n",
            "| \u001b[95m3        \u001b[0m | \u001b[95m0.9397   \u001b[0m | \u001b[95m3.024    \u001b[0m | \u001b[95m59.96    \u001b[0m | \u001b[95m0.2447   \u001b[0m | \u001b[95m17.09    \u001b[0m | \u001b[95m0.8764   \u001b[0m | \u001b[95m1.099    \u001b[0m | \u001b[95m0.0005105\u001b[0m | \u001b[95m52.4     \u001b[0m | \u001b[95m0.7987   \u001b[0m |\n"
          ]
        },
        {
          "name": "stderr",
          "output_type": "stream",
          "text": [
            "/usr/local/lib/python3.7/dist-packages/ipykernel_launcher.py:39: DeprecationWarning: KerasClassifier is deprecated, use Sci-Keras (https://github.com/adriangb/scikeras) instead. See https://www.adriangb.com/scikeras/stable/migration.html for help migrating.\n"
          ]
        },
        {
          "name": "stdout",
          "output_type": "stream",
          "text": [
            "142/142 [==============================] - 1s 2ms/step\n",
            "142/142 [==============================] - 2s 2ms/step\n",
            "142/142 [==============================] - 1s 3ms/step\n",
            "142/142 [==============================] - 1s 2ms/step\n",
            "142/142 [==============================] - 1s 3ms/step\n",
            "| \u001b[0m4        \u001b[0m | \u001b[0m0.1478   \u001b[0m | \u001b[0m3.6      \u001b[0m | \u001b[0m88.87    \u001b[0m | \u001b[0m0.01858  \u001b[0m | \u001b[0m24.11    \u001b[0m | \u001b[0m0.5116   \u001b[0m | \u001b[0m0.1952   \u001b[0m | \u001b[0m0.000954 \u001b[0m | \u001b[0m62.14    \u001b[0m | \u001b[0m3.234    \u001b[0m |\n"
          ]
        },
        {
          "name": "stderr",
          "output_type": "stream",
          "text": [
            "/usr/local/lib/python3.7/dist-packages/ipykernel_launcher.py:39: DeprecationWarning: KerasClassifier is deprecated, use Sci-Keras (https://github.com/adriangb/scikeras) instead. See https://www.adriangb.com/scikeras/stable/migration.html for help migrating.\n"
          ]
        },
        {
          "name": "stdout",
          "output_type": "stream",
          "text": [
            "142/142 [==============================] - 1s 3ms/step\n",
            "142/142 [==============================] - 1s 3ms/step\n",
            "142/142 [==============================] - 1s 2ms/step\n",
            "142/142 [==============================] - 1s 3ms/step\n",
            "142/142 [==============================] - 1s 4ms/step\n",
            "| \u001b[0m5        \u001b[0m | \u001b[0m0.8895   \u001b[0m | \u001b[0m2.132    \u001b[0m | \u001b[0m41.38    \u001b[0m | \u001b[0m0.2737   \u001b[0m | \u001b[0m21.6     \u001b[0m | \u001b[0m0.3661   \u001b[0m | \u001b[0m1.486    \u001b[0m | \u001b[0m0.0001309\u001b[0m | \u001b[0m59.1     \u001b[0m | \u001b[0m1.035    \u001b[0m |\n"
          ]
        },
        {
          "name": "stderr",
          "output_type": "stream",
          "text": [
            "/usr/local/lib/python3.7/dist-packages/ipykernel_launcher.py:39: DeprecationWarning: KerasClassifier is deprecated, use Sci-Keras (https://github.com/adriangb/scikeras) instead. See https://www.adriangb.com/scikeras/stable/migration.html for help migrating.\n"
          ]
        },
        {
          "name": "stdout",
          "output_type": "stream",
          "text": [
            "142/142 [==============================] - 1s 3ms/step\n",
            "142/142 [==============================] - 1s 3ms/step\n",
            "142/142 [==============================] - 1s 3ms/step\n",
            "142/142 [==============================] - 1s 3ms/step\n",
            "142/142 [==============================] - 1s 3ms/step\n",
            "| \u001b[0m6        \u001b[0m | \u001b[0m0.6052   \u001b[0m | \u001b[0m4.638    \u001b[0m | \u001b[0m61.92    \u001b[0m | \u001b[0m0.208    \u001b[0m | \u001b[0m23.2     \u001b[0m | \u001b[0m0.5546   \u001b[0m | \u001b[0m2.909    \u001b[0m | \u001b[0m0.0007976\u001b[0m | \u001b[0m60.73    \u001b[0m | \u001b[0m3.579    \u001b[0m |\n"
          ]
        },
        {
          "name": "stderr",
          "output_type": "stream",
          "text": [
            "/usr/local/lib/python3.7/dist-packages/ipykernel_launcher.py:39: DeprecationWarning: KerasClassifier is deprecated, use Sci-Keras (https://github.com/adriangb/scikeras) instead. See https://www.adriangb.com/scikeras/stable/migration.html for help migrating.\n"
          ]
        },
        {
          "name": "stdout",
          "output_type": "stream",
          "text": [
            "142/142 [==============================] - 1s 2ms/step\n",
            "142/142 [==============================] - 1s 2ms/step\n",
            "142/142 [==============================] - 1s 2ms/step\n",
            "142/142 [==============================] - 1s 2ms/step\n",
            "142/142 [==============================] - 1s 2ms/step\n",
            "| \u001b[0m7        \u001b[0m | \u001b[0m0.08759  \u001b[0m | \u001b[0m4.185    \u001b[0m | \u001b[0m120.5    \u001b[0m | \u001b[0m0.0354   \u001b[0m | \u001b[0m17.94    \u001b[0m | \u001b[0m0.1357   \u001b[0m | \u001b[0m0.976    \u001b[0m | \u001b[0m0.0004498\u001b[0m | \u001b[0m24.65    \u001b[0m | \u001b[0m3.315    \u001b[0m |\n"
          ]
        },
        {
          "name": "stderr",
          "output_type": "stream",
          "text": [
            "/usr/local/lib/python3.7/dist-packages/ipykernel_launcher.py:39: DeprecationWarning: KerasClassifier is deprecated, use Sci-Keras (https://github.com/adriangb/scikeras) instead. See https://www.adriangb.com/scikeras/stable/migration.html for help migrating.\n"
          ]
        },
        {
          "name": "stdout",
          "output_type": "stream",
          "text": [
            "142/142 [==============================] - 1s 4ms/step\n",
            "142/142 [==============================] - 1s 3ms/step\n",
            "142/142 [==============================] - 1s 2ms/step\n",
            "142/142 [==============================] - 1s 2ms/step\n",
            "142/142 [==============================] - 1s 2ms/step\n",
            "| \u001b[95m8        \u001b[0m | \u001b[95m0.95     \u001b[0m | \u001b[95m2.497    \u001b[0m | \u001b[95m58.97    \u001b[0m | \u001b[95m0.2171   \u001b[0m | \u001b[95m17.11    \u001b[0m | \u001b[95m2.407    \u001b[0m | \u001b[95m0.2237   \u001b[0m | \u001b[95m0.0009882\u001b[0m | \u001b[95m51.7     \u001b[0m | \u001b[95m0.7949   \u001b[0m |\n"
          ]
        },
        {
          "name": "stderr",
          "output_type": "stream",
          "text": [
            "/usr/local/lib/python3.7/dist-packages/ipykernel_launcher.py:39: DeprecationWarning: KerasClassifier is deprecated, use Sci-Keras (https://github.com/adriangb/scikeras) instead. See https://www.adriangb.com/scikeras/stable/migration.html for help migrating.\n"
          ]
        },
        {
          "name": "stdout",
          "output_type": "stream",
          "text": [
            "142/142 [==============================] - 1s 2ms/step\n",
            "142/142 [==============================] - 1s 2ms/step\n",
            "142/142 [==============================] - 1s 2ms/step\n",
            "142/142 [==============================] - 1s 2ms/step\n",
            "142/142 [==============================] - 1s 2ms/step\n",
            "| \u001b[0m9        \u001b[0m | \u001b[0m0.5416   \u001b[0m | \u001b[0m0.03865  \u001b[0m | \u001b[0m110.3    \u001b[0m | \u001b[0m0.2827   \u001b[0m | \u001b[0m25.94    \u001b[0m | \u001b[0m2.314    \u001b[0m | \u001b[0m0.2221   \u001b[0m | \u001b[0m0.0004226\u001b[0m | \u001b[0m16.26    \u001b[0m | \u001b[0m3.452    \u001b[0m |\n"
          ]
        },
        {
          "name": "stderr",
          "output_type": "stream",
          "text": [
            "/usr/local/lib/python3.7/dist-packages/ipykernel_launcher.py:39: DeprecationWarning: KerasClassifier is deprecated, use Sci-Keras (https://github.com/adriangb/scikeras) instead. See https://www.adriangb.com/scikeras/stable/migration.html for help migrating.\n"
          ]
        },
        {
          "name": "stdout",
          "output_type": "stream",
          "text": [
            "142/142 [==============================] - 1s 2ms/step\n",
            "142/142 [==============================] - 1s 3ms/step\n",
            "142/142 [==============================] - 1s 3ms/step\n",
            "142/142 [==============================] - 1s 2ms/step\n",
            "142/142 [==============================] - 1s 2ms/step\n",
            "| \u001b[0m10       \u001b[0m | \u001b[0m0.9434   \u001b[0m | \u001b[0m4.363    \u001b[0m | \u001b[0m63.77    \u001b[0m | \u001b[0m0.02542  \u001b[0m | \u001b[0m19.66    \u001b[0m | \u001b[0m0.9755   \u001b[0m | \u001b[0m2.189    \u001b[0m | \u001b[0m0.0006738\u001b[0m | \u001b[0m57.91    \u001b[0m | \u001b[0m1.889    \u001b[0m |\n"
          ]
        },
        {
          "name": "stderr",
          "output_type": "stream",
          "text": [
            "/usr/local/lib/python3.7/dist-packages/ipykernel_launcher.py:39: DeprecationWarning: KerasClassifier is deprecated, use Sci-Keras (https://github.com/adriangb/scikeras) instead. See https://www.adriangb.com/scikeras/stable/migration.html for help migrating.\n"
          ]
        },
        {
          "name": "stdout",
          "output_type": "stream",
          "text": [
            "142/142 [==============================] - 1s 2ms/step\n",
            "142/142 [==============================] - 1s 2ms/step\n",
            "142/142 [==============================] - 1s 2ms/step\n",
            "142/142 [==============================] - 1s 2ms/step\n",
            "142/142 [==============================] - 1s 2ms/step\n",
            "| \u001b[0m11       \u001b[0m | \u001b[0m0.1416   \u001b[0m | \u001b[0m0.8372   \u001b[0m | \u001b[0m100.5    \u001b[0m | \u001b[0m0.3043   \u001b[0m | \u001b[0m23.42    \u001b[0m | \u001b[0m2.313    \u001b[0m | \u001b[0m1.481    \u001b[0m | \u001b[0m0.0005705\u001b[0m | \u001b[0m33.09    \u001b[0m | \u001b[0m0.1017   \u001b[0m |\n"
          ]
        },
        {
          "name": "stderr",
          "output_type": "stream",
          "text": [
            "/usr/local/lib/python3.7/dist-packages/ipykernel_launcher.py:39: DeprecationWarning: KerasClassifier is deprecated, use Sci-Keras (https://github.com/adriangb/scikeras) instead. See https://www.adriangb.com/scikeras/stable/migration.html for help migrating.\n"
          ]
        },
        {
          "name": "stdout",
          "output_type": "stream",
          "text": [
            "142/142 [==============================] - 1s 2ms/step\n",
            "142/142 [==============================] - 1s 2ms/step\n",
            "142/142 [==============================] - 1s 2ms/step\n",
            "142/142 [==============================] - 1s 2ms/step\n",
            "142/142 [==============================] - 1s 2ms/step\n",
            "| \u001b[0m12       \u001b[0m | \u001b[0m0.0      \u001b[0m | \u001b[0m0.7552   \u001b[0m | \u001b[0m35.02    \u001b[0m | \u001b[0m0.2546   \u001b[0m | \u001b[0m19.72    \u001b[0m | \u001b[0m1.526    \u001b[0m | \u001b[0m2.723    \u001b[0m | \u001b[0m0.0003244\u001b[0m | \u001b[0m32.16    \u001b[0m | \u001b[0m3.022    \u001b[0m |\n"
          ]
        },
        {
          "name": "stderr",
          "output_type": "stream",
          "text": [
            "/usr/local/lib/python3.7/dist-packages/ipykernel_launcher.py:39: DeprecationWarning: KerasClassifier is deprecated, use Sci-Keras (https://github.com/adriangb/scikeras) instead. See https://www.adriangb.com/scikeras/stable/migration.html for help migrating.\n"
          ]
        },
        {
          "name": "stdout",
          "output_type": "stream",
          "text": [
            "142/142 [==============================] - 1s 3ms/step\n",
            "142/142 [==============================] - 1s 3ms/step\n",
            "142/142 [==============================] - 1s 3ms/step\n",
            "142/142 [==============================] - 1s 3ms/step\n",
            "142/142 [==============================] - 1s 3ms/step\n",
            "| \u001b[0m13       \u001b[0m | \u001b[0m0.1434   \u001b[0m | \u001b[0m1.602    \u001b[0m | \u001b[0m39.39    \u001b[0m | \u001b[0m0.1159   \u001b[0m | \u001b[0m17.42    \u001b[0m | \u001b[0m2.789    \u001b[0m | \u001b[0m2.424    \u001b[0m | \u001b[0m0.0006701\u001b[0m | \u001b[0m57.06    \u001b[0m | \u001b[0m3.215    \u001b[0m |\n"
          ]
        },
        {
          "name": "stderr",
          "output_type": "stream",
          "text": [
            "/usr/local/lib/python3.7/dist-packages/ipykernel_launcher.py:39: DeprecationWarning: KerasClassifier is deprecated, use Sci-Keras (https://github.com/adriangb/scikeras) instead. See https://www.adriangb.com/scikeras/stable/migration.html for help migrating.\n"
          ]
        },
        {
          "name": "stdout",
          "output_type": "stream",
          "text": [
            "142/142 [==============================] - 2s 2ms/step\n",
            "142/142 [==============================] - 1s 2ms/step\n",
            "142/142 [==============================] - 1s 2ms/step\n",
            "142/142 [==============================] - 1s 2ms/step\n",
            "142/142 [==============================] - 1s 2ms/step\n",
            "| \u001b[0m14       \u001b[0m | \u001b[0m0.7595   \u001b[0m | \u001b[0m1.306    \u001b[0m | \u001b[0m117.7    \u001b[0m | \u001b[0m0.2157   \u001b[0m | \u001b[0m27.11    \u001b[0m | \u001b[0m2.688    \u001b[0m | \u001b[0m0.954    \u001b[0m | \u001b[0m0.000199 \u001b[0m | \u001b[0m22.31    \u001b[0m | \u001b[0m1.708    \u001b[0m |\n"
          ]
        },
        {
          "name": "stderr",
          "output_type": "stream",
          "text": [
            "/usr/local/lib/python3.7/dist-packages/ipykernel_launcher.py:39: DeprecationWarning: KerasClassifier is deprecated, use Sci-Keras (https://github.com/adriangb/scikeras) instead. See https://www.adriangb.com/scikeras/stable/migration.html for help migrating.\n"
          ]
        },
        {
          "name": "stdout",
          "output_type": "stream",
          "text": [
            "142/142 [==============================] - 1s 2ms/step\n",
            "142/142 [==============================] - 1s 2ms/step\n",
            "142/142 [==============================] - 1s 2ms/step\n",
            "142/142 [==============================] - 1s 2ms/step\n",
            "142/142 [==============================] - 1s 2ms/step\n",
            "| \u001b[0m15       \u001b[0m | \u001b[0m0.1513   \u001b[0m | \u001b[0m5.726    \u001b[0m | \u001b[0m114.6    \u001b[0m | \u001b[0m0.002781 \u001b[0m | \u001b[0m22.66    \u001b[0m | \u001b[0m1.252    \u001b[0m | \u001b[0m0.6663   \u001b[0m | \u001b[0m0.0002079\u001b[0m | \u001b[0m28.23    \u001b[0m | \u001b[0m3.772    \u001b[0m |\n"
          ]
        },
        {
          "name": "stderr",
          "output_type": "stream",
          "text": [
            "/usr/local/lib/python3.7/dist-packages/ipykernel_launcher.py:39: DeprecationWarning: KerasClassifier is deprecated, use Sci-Keras (https://github.com/adriangb/scikeras) instead. See https://www.adriangb.com/scikeras/stable/migration.html for help migrating.\n"
          ]
        },
        {
          "name": "stdout",
          "output_type": "stream",
          "text": [
            "142/142 [==============================] - 1s 2ms/step\n",
            "142/142 [==============================] - 1s 2ms/step\n",
            "142/142 [==============================] - 1s 2ms/step\n",
            "142/142 [==============================] - 1s 2ms/step\n",
            "142/142 [==============================] - 1s 2ms/step\n",
            "| \u001b[0m16       \u001b[0m | \u001b[0m0.9004   \u001b[0m | \u001b[0m2.262    \u001b[0m | \u001b[0m81.8     \u001b[0m | \u001b[0m0.2812   \u001b[0m | \u001b[0m20.45    \u001b[0m | \u001b[0m2.915    \u001b[0m | \u001b[0m2.887    \u001b[0m | \u001b[0m0.0003266\u001b[0m | \u001b[0m36.85    \u001b[0m | \u001b[0m1.204    \u001b[0m |\n"
          ]
        },
        {
          "name": "stderr",
          "output_type": "stream",
          "text": [
            "/usr/local/lib/python3.7/dist-packages/ipykernel_launcher.py:39: DeprecationWarning: KerasClassifier is deprecated, use Sci-Keras (https://github.com/adriangb/scikeras) instead. See https://www.adriangb.com/scikeras/stable/migration.html for help migrating.\n"
          ]
        },
        {
          "name": "stdout",
          "output_type": "stream",
          "text": [
            "142/142 [==============================] - 1s 2ms/step\n",
            "142/142 [==============================] - 1s 2ms/step\n",
            "142/142 [==============================] - 1s 2ms/step\n",
            "142/142 [==============================] - 1s 2ms/step\n",
            "142/142 [==============================] - 1s 2ms/step\n",
            "| \u001b[0m17       \u001b[0m | \u001b[0m0.9381   \u001b[0m | \u001b[0m1.994    \u001b[0m | \u001b[0m35.54    \u001b[0m | \u001b[0m0.2438   \u001b[0m | \u001b[0m22.54    \u001b[0m | \u001b[0m0.1544   \u001b[0m | \u001b[0m0.8359   \u001b[0m | \u001b[0m0.0009174\u001b[0m | \u001b[0m22.94    \u001b[0m | \u001b[0m0.5796   \u001b[0m |\n"
          ]
        },
        {
          "name": "stderr",
          "output_type": "stream",
          "text": [
            "/usr/local/lib/python3.7/dist-packages/ipykernel_launcher.py:39: DeprecationWarning: KerasClassifier is deprecated, use Sci-Keras (https://github.com/adriangb/scikeras) instead. See https://www.adriangb.com/scikeras/stable/migration.html for help migrating.\n"
          ]
        },
        {
          "name": "stdout",
          "output_type": "stream",
          "text": [
            "142/142 [==============================] - 1s 2ms/step\n",
            "142/142 [==============================] - 1s 2ms/step\n",
            "142/142 [==============================] - 1s 2ms/step\n",
            "142/142 [==============================] - 1s 2ms/step\n",
            "142/142 [==============================] - 1s 2ms/step\n",
            "| \u001b[0m18       \u001b[0m | \u001b[0m0.1448   \u001b[0m | \u001b[0m3.426    \u001b[0m | \u001b[0m126.6    \u001b[0m | \u001b[0m0.09682  \u001b[0m | \u001b[0m25.08    \u001b[0m | \u001b[0m2.285    \u001b[0m | \u001b[0m0.7129   \u001b[0m | \u001b[0m0.0007554\u001b[0m | \u001b[0m29.86    \u001b[0m | \u001b[0m2.529    \u001b[0m |\n"
          ]
        },
        {
          "name": "stderr",
          "output_type": "stream",
          "text": [
            "/usr/local/lib/python3.7/dist-packages/ipykernel_launcher.py:39: DeprecationWarning: KerasClassifier is deprecated, use Sci-Keras (https://github.com/adriangb/scikeras) instead. See https://www.adriangb.com/scikeras/stable/migration.html for help migrating.\n"
          ]
        },
        {
          "name": "stdout",
          "output_type": "stream",
          "text": [
            "142/142 [==============================] - 1s 2ms/step\n",
            "142/142 [==============================] - 1s 2ms/step\n",
            "142/142 [==============================] - 1s 2ms/step\n",
            "142/142 [==============================] - 2s 2ms/step\n",
            "142/142 [==============================] - 1s 2ms/step\n",
            "| \u001b[0m19       \u001b[0m | \u001b[0m0.1761   \u001b[0m | \u001b[0m4.435    \u001b[0m | \u001b[0m83.43    \u001b[0m | \u001b[0m0.03612  \u001b[0m | \u001b[0m27.53    \u001b[0m | \u001b[0m0.9623   \u001b[0m | \u001b[0m0.5596   \u001b[0m | \u001b[0m0.0001367\u001b[0m | \u001b[0m41.91    \u001b[0m | \u001b[0m2.71     \u001b[0m |\n"
          ]
        },
        {
          "name": "stderr",
          "output_type": "stream",
          "text": [
            "/usr/local/lib/python3.7/dist-packages/ipykernel_launcher.py:39: DeprecationWarning: KerasClassifier is deprecated, use Sci-Keras (https://github.com/adriangb/scikeras) instead. See https://www.adriangb.com/scikeras/stable/migration.html for help migrating.\n"
          ]
        },
        {
          "name": "stdout",
          "output_type": "stream",
          "text": [
            "142/142 [==============================] - 1s 3ms/step\n",
            "142/142 [==============================] - 1s 3ms/step\n",
            "142/142 [==============================] - 1s 3ms/step\n",
            "142/142 [==============================] - 1s 3ms/step\n",
            "142/142 [==============================] - 1s 3ms/step\n",
            "| \u001b[95m20       \u001b[0m | \u001b[95m0.9519   \u001b[0m | \u001b[95m0.1161   \u001b[0m | \u001b[95m81.16    \u001b[0m | \u001b[95m0.0906   \u001b[0m | \u001b[95m24.68    \u001b[0m | \u001b[95m0.5231   \u001b[0m | \u001b[95m2.073    \u001b[0m | \u001b[95m0.0004481\u001b[0m | \u001b[95m60.58    \u001b[0m | \u001b[95m0.5501   \u001b[0m |\n"
          ]
        },
        {
          "name": "stderr",
          "output_type": "stream",
          "text": [
            "/usr/local/lib/python3.7/dist-packages/ipykernel_launcher.py:39: DeprecationWarning: KerasClassifier is deprecated, use Sci-Keras (https://github.com/adriangb/scikeras) instead. See https://www.adriangb.com/scikeras/stable/migration.html for help migrating.\n"
          ]
        },
        {
          "name": "stdout",
          "output_type": "stream",
          "text": [
            "142/142 [==============================] - 2s 3ms/step\n",
            "142/142 [==============================] - 1s 3ms/step\n",
            "142/142 [==============================] - 1s 3ms/step\n",
            "142/142 [==============================] - 1s 3ms/step\n",
            "142/142 [==============================] - 1s 3ms/step\n",
            "| \u001b[95m21       \u001b[0m | \u001b[95m0.9648   \u001b[0m | \u001b[95m1.347    \u001b[0m | \u001b[95m62.06    \u001b[0m | \u001b[95m0.0      \u001b[0m | \u001b[95m19.0     \u001b[0m | \u001b[95m3.0      \u001b[0m | \u001b[95m0.0      \u001b[0m | \u001b[95m0.001    \u001b[0m | \u001b[95m55.4     \u001b[0m | \u001b[95m1.229    \u001b[0m |\n"
          ]
        },
        {
          "name": "stderr",
          "output_type": "stream",
          "text": [
            "/usr/local/lib/python3.7/dist-packages/ipykernel_launcher.py:39: DeprecationWarning: KerasClassifier is deprecated, use Sci-Keras (https://github.com/adriangb/scikeras) instead. See https://www.adriangb.com/scikeras/stable/migration.html for help migrating.\n"
          ]
        },
        {
          "name": "stdout",
          "output_type": "stream",
          "text": [
            "142/142 [==============================] - 1s 2ms/step\n",
            "142/142 [==============================] - 1s 2ms/step\n",
            "142/142 [==============================] - 1s 3ms/step\n",
            "142/142 [==============================] - 1s 2ms/step\n",
            "142/142 [==============================] - 1s 3ms/step\n",
            "| \u001b[0m22       \u001b[0m | \u001b[0m0.9608   \u001b[0m | \u001b[0m6.538    \u001b[0m | \u001b[0m63.97    \u001b[0m | \u001b[0m0.0      \u001b[0m | \u001b[0m19.58    \u001b[0m | \u001b[0m3.0      \u001b[0m | \u001b[0m0.0      \u001b[0m | \u001b[0m0.001    \u001b[0m | \u001b[0m52.72    \u001b[0m | \u001b[0m0.7556   \u001b[0m |\n"
          ]
        },
        {
          "name": "stderr",
          "output_type": "stream",
          "text": [
            "/usr/local/lib/python3.7/dist-packages/ipykernel_launcher.py:39: DeprecationWarning: KerasClassifier is deprecated, use Sci-Keras (https://github.com/adriangb/scikeras) instead. See https://www.adriangb.com/scikeras/stable/migration.html for help migrating.\n"
          ]
        },
        {
          "name": "stdout",
          "output_type": "stream",
          "text": [
            "142/142 [==============================] - 1s 3ms/step\n",
            "142/142 [==============================] - 1s 2ms/step\n",
            "142/142 [==============================] - 1s 3ms/step\n",
            "142/142 [==============================] - 1s 2ms/step\n",
            "142/142 [==============================] - 1s 2ms/step\n",
            "| \u001b[0m23       \u001b[0m | \u001b[0m0.5788   \u001b[0m | \u001b[0m3.384    \u001b[0m | \u001b[0m66.21    \u001b[0m | \u001b[0m0.0      \u001b[0m | \u001b[0m15.0     \u001b[0m | \u001b[0m3.0      \u001b[0m | \u001b[0m1.541    \u001b[0m | \u001b[0m0.001    \u001b[0m | \u001b[0m53.93    \u001b[0m | \u001b[0m4.0      \u001b[0m |\n"
          ]
        },
        {
          "name": "stderr",
          "output_type": "stream",
          "text": [
            "/usr/local/lib/python3.7/dist-packages/ipykernel_launcher.py:39: DeprecationWarning: KerasClassifier is deprecated, use Sci-Keras (https://github.com/adriangb/scikeras) instead. See https://www.adriangb.com/scikeras/stable/migration.html for help migrating.\n"
          ]
        },
        {
          "name": "stdout",
          "output_type": "stream",
          "text": [
            "142/142 [==============================] - 1s 2ms/step\n",
            "142/142 [==============================] - 1s 2ms/step\n",
            "142/142 [==============================] - 1s 2ms/step\n",
            "142/142 [==============================] - 1s 2ms/step\n",
            "142/142 [==============================] - 2s 2ms/step\n",
            "| \u001b[0m24       \u001b[0m | \u001b[0m0.1495   \u001b[0m | \u001b[0m6.772    \u001b[0m | \u001b[0m58.87    \u001b[0m | \u001b[0m0.0      \u001b[0m | \u001b[0m18.47    \u001b[0m | \u001b[0m3.0      \u001b[0m | \u001b[0m0.0      \u001b[0m | \u001b[0m0.001    \u001b[0m | \u001b[0m56.43    \u001b[0m | \u001b[0m0.0      \u001b[0m |\n"
          ]
        },
        {
          "name": "stderr",
          "output_type": "stream",
          "text": [
            "/usr/local/lib/python3.7/dist-packages/ipykernel_launcher.py:39: DeprecationWarning: KerasClassifier is deprecated, use Sci-Keras (https://github.com/adriangb/scikeras) instead. See https://www.adriangb.com/scikeras/stable/migration.html for help migrating.\n"
          ]
        },
        {
          "name": "stdout",
          "output_type": "stream",
          "text": [
            "142/142 [==============================] - 1s 2ms/step\n",
            "142/142 [==============================] - 1s 2ms/step\n",
            "142/142 [==============================] - 1s 2ms/step\n",
            "142/142 [==============================] - 1s 2ms/step\n",
            "142/142 [==============================] - 1s 3ms/step\n",
            "| \u001b[0m25       \u001b[0m | \u001b[0m0.9573   \u001b[0m | \u001b[0m2.893    \u001b[0m | \u001b[0m63.78    \u001b[0m | \u001b[0m0.1625   \u001b[0m | \u001b[0m20.62    \u001b[0m | \u001b[0m1.133    \u001b[0m | \u001b[0m1.524    \u001b[0m | \u001b[0m0.0008711\u001b[0m | \u001b[0m53.05    \u001b[0m | \u001b[0m1.331    \u001b[0m |\n",
            "=====================================================================================================================================\n"
          ]
        }
      ],
      "source": [
        "# Run Bayesian Optimization\n",
        "bidirectional_lstm_bo = BayesianOptimization(bidirectional_lstm_tuner, params_bidirectional_lstm, random_state=42)\n",
        "bidirectional_lstm_bo.maximize(init_points=20, n_iter=5)"
      ]
    },
    {
      "cell_type": "code",
      "execution_count": null,
      "id": "hiUKqXPSudv-",
      "metadata": {
        "colab": {
          "base_uri": "https://localhost:8080/"
        },
        "id": "hiUKqXPSudv-",
        "outputId": "e4febebb-724c-482f-a782-bf0fab98ae31"
      },
      "outputs": [
        {
          "data": {
            "text/plain": [
              "{'activation': 1.3466763722200286,\n",
              " 'batch_size': 62.057661802744875,\n",
              " 'dropout_rate': 0.0,\n",
              " 'epochs': 18.997758809674913,\n",
              " 'layers1': 3.0,\n",
              " 'layers2': 0.0,\n",
              " 'learning_rate': 0.001,\n",
              " 'neurons': 55.39979522299761,\n",
              " 'optimizer': 1.2288553110171885}"
            ]
          },
          "execution_count": 46,
          "metadata": {},
          "output_type": "execute_result"
        }
      ],
      "source": [
        "bidirectional_lstm_bo.max['params']"
      ]
    },
    {
      "cell_type": "code",
      "execution_count": null,
      "id": "QRnOnabbudv_",
      "metadata": {
        "id": "QRnOnabbudv_"
      },
      "outputs": [],
      "source": [
        "def create_model_best_params(params):\n",
        "  learning_rate = params['learning_rate']\n",
        "  optimizerL = ['SGD', 'Adam', 'RMSprop', 'Adadelta', 'Adagrad']\n",
        "  optimizerD= {'Adam':Adam(learning_rate=learning_rate), 'SGD':SGD(learning_rate=learning_rate),\n",
        "                'RMSprop':RMSprop(learning_rate=learning_rate), 'Adadelta':Adadelta(learning_rate=learning_rate),\n",
        "                'Adagrad':Adagrad(learning_rate=learning_rate),}\n",
        "  activationL = ['relu', 'sigmoid', 'softplus', 'softsign', 'tanh', 'selu', 'elu', 'relu']\n",
        "  neurons = round(params['neurons'])\n",
        "  activation = activationL[round(params['activation'])]\n",
        "  optimizer = optimizerD[optimizerL[round(params['optimizer'])]]\n",
        "  batch_size = round(params['batch_size'])\n",
        "  epochs = round(params['epochs'])\n",
        "  layers1 = round(params['layers1'])\n",
        "  layers2 = round(params['layers2'])\n",
        "  dropout_rate = params['dropout_rate']\n",
        "\n",
        "  # for reproducibility \n",
        "  np.random.seed(42)\n",
        "  tensorflow.random.set_seed(42)\n",
        "  tuned_model = Sequential()\n",
        "  tuned_model.add(Bidirectional(LSTM(neurons, return_sequences=False)))  \n",
        "  tuned_model.add(Dropout(dropout_rate, seed=42))\n",
        "\n",
        "  for i in range(layers1): #varying first set of hidden layers\n",
        "    tuned_model.add(Dense(neurons, activation=activation))\n",
        "    tuned_model.add(Dropout(dropout_rate, seed=42))\n",
        "  \n",
        "  for i in range(layers2): #varying second set of hidden layers\n",
        "        tuned_model.add(Dense(neurons, activation=activation))\n",
        "\n",
        "  tuned_model.add(Dense(1, activation='sigmoid')) #output layer\n",
        "  tuned_model.compile(loss='binary_crossentropy', optimizer = optimizer, metrics=['accuracy',metrics.Precision(), metrics.Recall(),metrics.AUC()])\n",
        "  return tuned_model"
      ]
    },
    {
      "cell_type": "code",
      "execution_count": null,
      "id": "cnnP7irIudwA",
      "metadata": {
        "colab": {
          "base_uri": "https://localhost:8080/"
        },
        "id": "cnnP7irIudwA",
        "outputId": "eabe5312-58ef-4a1d-84bd-6daba6d78bc2"
      },
      "outputs": [
        {
          "name": "stdout",
          "output_type": "stream",
          "text": [
            "Epoch 1/19\n",
            "365/365 [==============================] - 8s 7ms/step - loss: 0.3421 - accuracy: 0.8350 - precision_378: 0.8133 - recall_378: 0.8696 - auc_3: 0.9278\n",
            "Epoch 2/19\n",
            "365/365 [==============================] - 3s 7ms/step - loss: 0.0722 - accuracy: 0.9789 - precision_378: 0.9659 - recall_378: 0.9929 - auc_3: 0.9943\n",
            "Epoch 3/19\n",
            "365/365 [==============================] - 3s 7ms/step - loss: 0.0282 - accuracy: 0.9927 - precision_378: 0.9876 - recall_378: 0.9979 - auc_3: 0.9988\n",
            "Epoch 4/19\n",
            "365/365 [==============================] - 3s 7ms/step - loss: 0.0161 - accuracy: 0.9960 - precision_378: 0.9932 - recall_378: 0.9988 - auc_3: 0.9993\n",
            "Epoch 5/19\n",
            "365/365 [==============================] - 3s 7ms/step - loss: 0.0124 - accuracy: 0.9966 - precision_378: 0.9952 - recall_378: 0.9980 - auc_3: 0.9996\n",
            "Epoch 6/19\n",
            "365/365 [==============================] - 2s 7ms/step - loss: 0.0061 - accuracy: 0.9987 - precision_378: 0.9981 - recall_378: 0.9993 - auc_3: 0.9998\n",
            "Epoch 7/19\n",
            "365/365 [==============================] - 2s 7ms/step - loss: 0.0125 - accuracy: 0.9966 - precision_378: 0.9956 - recall_378: 0.9976 - auc_3: 0.9992\n",
            "Epoch 8/19\n",
            "365/365 [==============================] - 2s 7ms/step - loss: 0.0036 - accuracy: 0.9990 - precision_378: 0.9987 - recall_378: 0.9994 - auc_3: 0.9999\n",
            "Epoch 9/19\n",
            "365/365 [==============================] - 2s 7ms/step - loss: 0.0024 - accuracy: 0.9995 - precision_378: 0.9993 - recall_378: 0.9997 - auc_3: 0.9999\n",
            "Epoch 10/19\n",
            "365/365 [==============================] - 3s 7ms/step - loss: 0.0090 - accuracy: 0.9970 - precision_378: 0.9962 - recall_378: 0.9978 - auc_3: 0.9997\n",
            "Epoch 11/19\n",
            "365/365 [==============================] - 3s 7ms/step - loss: 0.0021 - accuracy: 0.9996 - precision_378: 0.9992 - recall_378: 0.9999 - auc_3: 1.0000\n",
            "Epoch 12/19\n",
            "365/365 [==============================] - 3s 7ms/step - loss: 0.0086 - accuracy: 0.9965 - precision_378: 0.9959 - recall_378: 0.9971 - auc_3: 0.9999\n",
            "Epoch 13/19\n",
            "365/365 [==============================] - 3s 7ms/step - loss: 0.0035 - accuracy: 0.9988 - precision_378: 0.9985 - recall_378: 0.9992 - auc_3: 0.9999\n",
            "Epoch 14/19\n",
            "365/365 [==============================] - 3s 7ms/step - loss: 0.0019 - accuracy: 0.9994 - precision_378: 0.9993 - recall_378: 0.9996 - auc_3: 1.0000\n",
            "Epoch 15/19\n",
            "365/365 [==============================] - 3s 7ms/step - loss: 0.0018 - accuracy: 0.9996 - precision_378: 0.9994 - recall_378: 0.9997 - auc_3: 1.0000\n",
            "Epoch 16/19\n",
            "365/365 [==============================] - 3s 7ms/step - loss: 9.4459e-04 - accuracy: 0.9998 - precision_378: 0.9996 - recall_378: 1.0000 - auc_3: 1.0000\n",
            "Epoch 17/19\n",
            "365/365 [==============================] - 2s 7ms/step - loss: 1.5387e-04 - accuracy: 1.0000 - precision_378: 0.9999 - recall_378: 1.0000 - auc_3: 1.0000\n",
            "Epoch 18/19\n",
            "365/365 [==============================] - 3s 7ms/step - loss: 0.0086 - accuracy: 0.9976 - precision_378: 0.9973 - recall_378: 0.9979 - auc_3: 0.9996\n",
            "Epoch 19/19\n",
            "365/365 [==============================] - 3s 7ms/step - loss: 1.6013e-04 - accuracy: 1.0000 - precision_378: 1.0000 - recall_378: 1.0000 - auc_3: 1.0000\n"
          ]
        },
        {
          "data": {
            "text/plain": [
              "<keras.callbacks.History at 0x7f3fe9de0290>"
            ]
          },
          "execution_count": 48,
          "metadata": {},
          "output_type": "execute_result"
        }
      ],
      "source": [
        "best_params = {'activation': 1.3466763722200286,\n",
        "              'batch_size': 62.057661802744875,\n",
        "              'dropout_rate': 0.0,\n",
        "              'epochs': 18.997758809674913,\n",
        "              'layers1': 3.0,\n",
        "              'layers2': 0.0,\n",
        "              'learning_rate': 0.001,\n",
        "              'neurons': 55.39979522299761,\n",
        "              'optimizer': 1.2288553110171885}\n",
        "best_model3 = create_model_best_params(best_params)\n",
        "best_model3.fit(X_train_over, y_train_over, epochs=round(best_params['epochs']), batch_size = round(best_params['batch_size']))"
      ]
    },
    {
      "cell_type": "code",
      "execution_count": null,
      "id": "VbNeUcL2udwB",
      "metadata": {
        "colab": {
          "base_uri": "https://localhost:8080/"
        },
        "id": "VbNeUcL2udwB",
        "outputId": "c5a7a070-7d1c-423f-fe34-c01fba829b18"
      },
      "outputs": [
        {
          "name": "stdout",
          "output_type": "stream",
          "text": [
            "Model: \"sequential_378\"\n",
            "_________________________________________________________________\n",
            " Layer (type)                Output Shape              Param #   \n",
            "=================================================================\n",
            " bidirectional_378 (Bidirect  (None, 110)              140360    \n",
            " ional)                                                          \n",
            "                                                                 \n",
            " dropout_781 (Dropout)       (None, 110)               0         \n",
            "                                                                 \n",
            " dense_1049 (Dense)          (None, 55)                6105      \n",
            "                                                                 \n",
            " dropout_782 (Dropout)       (None, 55)                0         \n",
            "                                                                 \n",
            " dense_1050 (Dense)          (None, 55)                3080      \n",
            "                                                                 \n",
            " dropout_783 (Dropout)       (None, 55)                0         \n",
            "                                                                 \n",
            " dense_1051 (Dense)          (None, 55)                3080      \n",
            "                                                                 \n",
            " dropout_784 (Dropout)       (None, 55)                0         \n",
            "                                                                 \n",
            " dense_1052 (Dense)          (None, 1)                 56        \n",
            "                                                                 \n",
            "=================================================================\n",
            "Total params: 152,681\n",
            "Trainable params: 152,681\n",
            "Non-trainable params: 0\n",
            "_________________________________________________________________\n"
          ]
        }
      ],
      "source": [
        "best_model3.summary()"
      ]
    },
    {
      "cell_type": "code",
      "execution_count": null,
      "id": "4HqoDmFtRS5Y",
      "metadata": {
        "colab": {
          "base_uri": "https://localhost:8080/"
        },
        "id": "4HqoDmFtRS5Y",
        "outputId": "cd971e74-6570-4faf-f825-9197776f8958"
      },
      "outputs": [
        {
          "name": "stdout",
          "output_type": "stream",
          "text": [
            "706/706 [==============================] - 4s 3ms/step - loss: 1.2259e-04 - accuracy: 1.0000 - precision_378: 1.0000 - recall_378: 1.0000 - auc_3: 1.0000\n",
            "Train Results\n",
            "Precision: 1.0\n",
            "Recall: 1.0\n",
            "F1 Score: 1.0\n",
            "Accuracy: 1.0\n",
            "AUROC:1.0\n"
          ]
        }
      ],
      "source": [
        "train_results = best_model3.evaluate(X_train_over, y_train_over)\n",
        "precision = train_results[2]\n",
        "recall = train_results[3]\n",
        "f1_score = 2 * (precision * recall) / (precision + recall)\n",
        "print('Train Results')\n",
        "print(f'Precision: {precision}\\nRecall: {recall}\\nF1 Score: {f1_score}\\nAccuracy: {train_results[1]}\\nAUROC:{train_results[4]}')"
      ]
    },
    {
      "cell_type": "code",
      "execution_count": null,
      "id": "bekh_93FRS5Z",
      "metadata": {
        "colab": {
          "base_uri": "https://localhost:8080/"
        },
        "id": "bekh_93FRS5Z",
        "outputId": "aad4becc-849f-4466-c407-222ef585cbec"
      },
      "outputs": [
        {
          "name": "stdout",
          "output_type": "stream",
          "text": [
            "90/90 [==============================] - 0s 3ms/step - loss: 0.0586 - accuracy: 0.9896 - precision_378: 0.7708 - recall_378: 0.6607 - auc_3: 0.8722\n",
            "Test Results\n",
            "Precision: 0.7708333134651184\n",
            "Recall: 0.6607142686843872\n",
            "F1 Score: 0.7115384431985708\n",
            "Accuracy: 0.9895833134651184\n",
            "AUROC:0.8722144961357117\n"
          ]
        }
      ],
      "source": [
        "test_results = best_model3.evaluate(X_test, y_test)\n",
        "precision = test_results[2]\n",
        "recall = test_results[3]\n",
        "f1_score = 2 * (precision * recall) / (precision + recall)\n",
        "print('Test Results')\n",
        "print(f'Precision: {precision}\\nRecall: {recall}\\nF1 Score: {f1_score}\\nAccuracy: {test_results[1]}\\nAUROC:{test_results[4]}')"
      ]
    }
  ],
  "metadata": {
    "colab": {
      "provenance": []
    },
    "kernelspec": {
      "display_name": "Python 3.7.0 ('bt4012_exam')",
      "language": "python",
      "name": "python3"
    },
    "language_info": {
      "codemirror_mode": {
        "name": "ipython",
        "version": 3
      },
      "file_extension": ".py",
      "mimetype": "text/x-python",
      "name": "python",
      "nbconvert_exporter": "python",
      "pygments_lexer": "ipython3",
      "version": "3.7.0"
    },
    "vscode": {
      "interpreter": {
        "hash": "f3c2f9c73fe0201a4b66ab80b33d08ddc371392df04c704e1be5c548c5cad12d"
      }
    }
  },
  "nbformat": 4,
  "nbformat_minor": 5
}
