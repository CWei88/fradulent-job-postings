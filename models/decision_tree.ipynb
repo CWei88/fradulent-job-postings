{
  "cells": [
    {
      "cell_type": "code",
      "execution_count": 5,
      "metadata": {
        "id": "0emdosjSgBTW"
      },
      "outputs": [],
      "source": [
        "import pandas as pd\n",
        "import numpy as np\n",
        "import seaborn as sns\n",
        "import matplotlib\n",
        "\n",
        "from matplotlib import pyplot as plt\n",
        "\n",
        "from sklearn import model_selection\n",
        "from sklearn.metrics import accuracy_score, f1_score, precision_score, recall_score, confusion_matrix, roc_auc_score\n",
        "from sklearn.tree import DecisionTreeClassifier\n",
        "\n",
        "from imblearn.over_sampling import SMOTE \n",
        "from imblearn.under_sampling import EditedNearestNeighbours\n",
        "from imblearn.combine import SMOTEENN\n",
        "from sklearn.model_selection import RandomizedSearchCV"
      ]
    },
    {
      "cell_type": "code",
      "execution_count": 7,
      "metadata": {
        "id": "3cu1JVpmSwem"
      },
      "outputs": [],
      "source": [
        "import random\n",
        "\n",
        "random.seed(2022)"
      ]
    },
    {
      "cell_type": "code",
      "execution_count": 8,
      "metadata": {
        "colab": {
          "base_uri": "https://localhost:8080/"
        },
        "id": "ccj6DpKwgq71",
        "outputId": "b723897b-76c7-4518-8ed2-7d75fa4b768e"
      },
      "outputs": [],
      "source": [
        "X_train = pd.read_csv('../datasets/word2vec/train_data_imputed_FINAL.csv')\n",
        "X_test = pd.read_csv('../datasets/word2vec/test_data_imputed_FINAL.csv')\n",
        "y_train = pd.read_csv('../datasets/word2vec/y_train_FINAL.csv').iloc[:,1:]\n",
        "y_test = pd.read_csv('../datasets/word2vec/y_test_FINAL.csv').iloc[:,1:]"
      ]
    },
    {
      "cell_type": "code",
      "execution_count": 12,
      "metadata": {
        "colab": {
          "base_uri": "https://localhost:8080/"
        },
        "id": "6KLcPD-7kZ9f",
        "outputId": "dfac395f-7a88-44a8-db28-64144611f7cc"
      },
      "outputs": [
        {
          "name": "stdout",
          "output_type": "stream",
          "text": [
            "X_train: (11516, 263)\n",
            "y_train: (11516, 1)\n",
            "X_test: (2880, 263)\n",
            "y_test: (2880, 1)\n"
          ]
        }
      ],
      "source": [
        "print(f'X_train: {X_train.shape}')\n",
        "print(f'y_train: {y_train.shape}')\n",
        "print(f'X_test: {X_test.shape}')\n",
        "print(f'y_test: {y_test.shape}')"
      ]
    },
    {
      "cell_type": "code",
      "execution_count": 10,
      "metadata": {
        "id": "-fEurzW-eOJd"
      },
      "outputs": [],
      "source": [
        "def SMOTE_ENN(X_train, y_train, n_neighbours, k_neighbours, sampling_strategy):\n",
        "    # SMOTE ENN oversampling\n",
        "    smote_only = SMOTE(random_state=42, sampling_strategy=sampling_strategy, k_neighbors = k_neighbours)\n",
        "    ennObj = EditedNearestNeighbours(n_neighbors=n_neighbours)\n",
        "    smote_enn = SMOTEENN(random_state=42, smote=smote_only , enn= ennObj)\n",
        "    X_res_smoteENN, y_res_smoteENN = smote_enn.fit_resample(X_train, y_train)\n",
        "    return X_res_smoteENN, y_res_smoteENN\n",
        "\n",
        "X_smoteENN, y_smoteENN = SMOTE_ENN(X_train, y_train, n_neighbours = 4, k_neighbours = 6, sampling_strategy = 0.1)"
      ]
    },
    {
      "cell_type": "code",
      "execution_count": 11,
      "metadata": {
        "colab": {
          "base_uri": "https://localhost:8080/"
        },
        "id": "1Wz2tO2kmOUU",
        "outputId": "023342c3-99a0-4c49-ad61-b225953a3fa1"
      },
      "outputs": [
        {
          "name": "stdout",
          "output_type": "stream",
          "text": [
            "(12097, 263)\n",
            "(12097, 1)\n",
            "(2880, 263)\n",
            "(2880, 1)\n"
          ]
        }
      ],
      "source": [
        "print(X_smoteENN.shape)\n",
        "print(y_smoteENN.shape)\n",
        "print(X_test.shape)\n",
        "print(y_test.shape)"
      ]
    },
    {
      "cell_type": "code",
      "execution_count": null,
      "metadata": {
        "id": "WKNHgd1Lj0--"
      },
      "outputs": [],
      "source": [
        "def print_metrics(y_true, y_pred, y_pred_prob):\n",
        "    print(\"Confusion Matrix\")\n",
        "    cm = confusion_matrix(y_true, y_pred)\n",
        "    print(cm)\n",
        "    \n",
        "    print(\"F1 Score:\", f1_score(y_true, y_pred))\n",
        "    print(\"Precision:\", precision_score(y_true, y_pred))\n",
        "    print(\"Recall:\", recall_score(y_true, y_pred)) \n",
        "    print(\"Accuracy:\", accuracy_score(y_true, y_pred))\n",
        "    print(\"ROC AUC:\", roc_auc_score(y_true, y_pred_prob))"
      ]
    },
    {
      "cell_type": "markdown",
      "metadata": {
        "id": "F8A1_RJse3JM"
      },
      "source": [
        "Default Decision Tree"
      ]
    },
    {
      "cell_type": "code",
      "execution_count": null,
      "metadata": {
        "colab": {
          "base_uri": "https://localhost:8080/"
        },
        "id": "LJ2Y9vIoeooV",
        "outputId": "406f3d14-d892-4a9f-befa-f7b3933b1e9f"
      },
      "outputs": [
        {
          "name": "stdout",
          "output_type": "stream",
          "text": [
            "Confusion Matrix\n",
            "[[10968     0]\n",
            " [    0  1129]]\n",
            "F1 Score: 1.0\n",
            "Precision: 1.0\n",
            "Recall: 1.0\n",
            "Accuracy: 1.0\n",
            "ROC AUC: 1.0\n"
          ]
        }
      ],
      "source": [
        "base_dt = DecisionTreeClassifier()\n",
        "base_dt.fit(X_smoteENN, y_smoteENN)\n",
        "dt_pred_train = base_dt.predict(X_smoteENN)\n",
        "dt_pred_prob_train = base_dt.predict_proba(X_smoteENN)[:,1]\n",
        "print_metrics(y_smoteENN, dt_pred_train, dt_pred_prob_train)"
      ]
    },
    {
      "cell_type": "code",
      "execution_count": null,
      "metadata": {
        "colab": {
          "base_uri": "https://localhost:8080/"
        },
        "id": "LeJ04gNjez7Y",
        "outputId": "cad28a9f-16fc-4327-f2ca-9463e85be7b3"
      },
      "outputs": [
        {
          "name": "stdout",
          "output_type": "stream",
          "text": [
            "Confusion Matrix\n",
            "[[2772   52]\n",
            " [  29   27]]\n",
            "F1 Score: 0.39999999999999997\n",
            "Precision: 0.34177215189873417\n",
            "Recall: 0.48214285714285715\n",
            "Accuracy: 0.971875\n",
            "ROC AUC: 0.75884004451639\n"
          ]
        }
      ],
      "source": [
        "dt_pred_test = base_dt.predict(X_test)\n",
        "dt_pred_prob_test = tuned_dt_estimator.predict_proba(X_test)[:, 1]\n",
        "print_metrics(y_test, dt_pred_test, dt_pred_prob_test)"
      ]
    },
    {
      "cell_type": "markdown",
      "metadata": {
        "id": "Jiuk41vEQtK6"
      },
      "source": [
        "# Tuning Round 1\n",
        "Best test F1 score: 0.234"
      ]
    },
    {
      "cell_type": "code",
      "execution_count": null,
      "metadata": {
        "id": "uRhQAcY5jJGB"
      },
      "outputs": [],
      "source": [
        "# Number of features to consider at every split\n",
        "max_features = ['log2', 'sqrt']\n",
        "# Maximum number of levels in tree\n",
        "max_depth = np.arange(100, 400, 20).tolist()\n",
        "# Minimum number of samples required to split a node\n",
        "min_samples_split = np.arange(3, 200, 10).tolist()\n",
        "# Minimum number of samples required at each leaf node\n",
        "min_samples_leaf = np.arange(3, 100, 5).tolist()\n",
        "# Complexity parameter used for Minimal Cost-Complexity Pruning\n",
        "ccp_alpha = np.arange(0, 0.3, 0.01).tolist()\n",
        "\n",
        "random_grid = {'max_features': max_features,\n",
        "               'max_depth': max_depth,\n",
        "               'min_samples_split': min_samples_split,\n",
        "               'min_samples_leaf': min_samples_leaf,\n",
        "               'ccp_alpha': ccp_alpha,\n",
        "               'random_state': [2022]}"
      ]
    },
    {
      "cell_type": "code",
      "execution_count": null,
      "metadata": {
        "colab": {
          "base_uri": "https://localhost:8080/"
        },
        "id": "yw-n2RW8jK1t",
        "outputId": "235a81fd-a365-47ea-e67d-e901bf020678"
      },
      "outputs": [
        {
          "name": "stdout",
          "output_type": "stream",
          "text": [
            "Fitting 10 folds for each of 100 candidates, totalling 1000 fits\n"
          ]
        },
        {
          "data": {
            "text/plain": [
              "RandomizedSearchCV(cv=10, estimator=DecisionTreeClassifier(), n_iter=100,\n",
              "                   n_jobs=-1,\n",
              "                   param_distributions={'ccp_alpha': [0.0, 0.01, 0.02, 0.03,\n",
              "                                                      0.04, 0.05, 0.06, 0.07,\n",
              "                                                      0.08, 0.09, 0.1, 0.11,\n",
              "                                                      0.12, 0.13, 0.14, 0.15,\n",
              "                                                      0.16, 0.17, 0.18, 0.19,\n",
              "                                                      0.2, 0.21, 0.22, 0.23,\n",
              "                                                      0.24, 0.25, 0.26, 0.27,\n",
              "                                                      0.28, 0.29],\n",
              "                                        'max_depth': [100, 120, 140, 160, 180,\n",
              "                                                      200, 220, 240, 260, 280,\n",
              "                                                      300, 320, 340, 360, 380],\n",
              "                                        'max_features': ['log2', 'sqrt'],\n",
              "                                        'min_samples_leaf': [3, 8, 13, 18, 23,\n",
              "                                                             28, 33, 38, 43, 48,\n",
              "                                                             53, 58, 63, 68, 73,\n",
              "                                                             78, 83, 88, 93,\n",
              "                                                             98],\n",
              "                                        'min_samples_split': [3, 13, 23, 33, 43,\n",
              "                                                              53, 63, 73, 83,\n",
              "                                                              93, 103, 113, 123,\n",
              "                                                              133, 143, 153,\n",
              "                                                              163, 173, 183,\n",
              "                                                              193],\n",
              "                                        'random_state': [2022]},\n",
              "                   random_state=2022, scoring='f1', verbose=2)"
            ]
          },
          "execution_count": 16,
          "metadata": {},
          "output_type": "execute_result"
        }
      ],
      "source": [
        "dt_estimator = DecisionTreeClassifier()\n",
        "dt_random = RandomizedSearchCV(estimator = dt_estimator, param_distributions = random_grid, n_iter = 100, cv = 10, verbose=2, random_state=2022, n_jobs = -1, scoring='f1', refit=True)\n",
        "dt_random.fit(X_smoteENN, y_smoteENN)"
      ]
    },
    {
      "cell_type": "code",
      "execution_count": null,
      "metadata": {
        "colab": {
          "base_uri": "https://localhost:8080/"
        },
        "id": "zZgFQmyumXS3",
        "outputId": "021d2ad6-7111-451b-b4b4-c26945a64db6"
      },
      "outputs": [
        {
          "data": {
            "text/plain": [
              "{'random_state': 2022,\n",
              " 'min_samples_split': 133,\n",
              " 'min_samples_leaf': 23,\n",
              " 'max_features': 'sqrt',\n",
              " 'max_depth': 300,\n",
              " 'ccp_alpha': 0.0}"
            ]
          },
          "execution_count": 17,
          "metadata": {},
          "output_type": "execute_result"
        }
      ],
      "source": [
        "dt_random.best_params_"
      ]
    },
    {
      "cell_type": "code",
      "execution_count": null,
      "metadata": {
        "id": "BqV7kL-ijLS2"
      },
      "outputs": [],
      "source": [
        "tuned_dt_estimator = dt_random.best_estimator_"
      ]
    },
    {
      "cell_type": "code",
      "execution_count": null,
      "metadata": {
        "colab": {
          "base_uri": "https://localhost:8080/"
        },
        "id": "d5-qkYVampmP",
        "outputId": "defbb166-28b6-4364-f68e-4e26cf1cd845"
      },
      "outputs": [
        {
          "name": "stdout",
          "output_type": "stream",
          "text": [
            "Confusion Matrix\n",
            "[[10795   173]\n",
            " [  479   650]]\n",
            "F1 Score: 0.6659836065573771\n",
            "Precision: 0.7897934386391251\n",
            "Recall: 0.5757307351638619\n",
            "Accuracy: 0.9461023394229975\n",
            "ROC AUC: 0.9710019210406117\n"
          ]
        }
      ],
      "source": [
        "dt_pred_train = tuned_dt_estimator.predict(X_smoteENN)\n",
        "dt_pred_prob_train = tuned_dt_estimator.predict_proba(X_smoteENN)[:,1]\n",
        "print_metrics(y_smoteENN, dt_pred_train, dt_pred_prob_train)"
      ]
    },
    {
      "cell_type": "code",
      "execution_count": null,
      "metadata": {
        "colab": {
          "base_uri": "https://localhost:8080/"
        },
        "id": "pVneSN-UmpmQ",
        "outputId": "6df6a410-e573-4307-a5d7-8cbf606f0d6b"
      },
      "outputs": [
        {
          "name": "stdout",
          "output_type": "stream",
          "text": [
            "Confusion Matrix\n",
            "[[2767   57]\n",
            " [  41   15]]\n",
            "F1 Score: 0.23437500000000003\n",
            "Precision: 0.20833333333333334\n",
            "Recall: 0.26785714285714285\n",
            "Accuracy: 0.9659722222222222\n",
            "ROC AUC: 0.7838046337515175\n"
          ]
        }
      ],
      "source": [
        "dt_pred_test = tuned_dt_estimator.predict(X_test)\n",
        "dt_pred_prob_test = tuned_dt_estimator.predict_proba(X_test)[:, 1]\n",
        "print_metrics(y_test, dt_pred_test, dt_pred_prob_test)"
      ]
    },
    {
      "cell_type": "markdown",
      "metadata": {
        "id": "zEUppFgvInrZ"
      },
      "source": [
        "# Tuning Round 2\n",
        "\n",
        "Best test F1 score: 0.189"
      ]
    },
    {
      "cell_type": "code",
      "execution_count": null,
      "metadata": {
        "id": "kSl7QMiGIqWv"
      },
      "outputs": [],
      "source": [
        "# Maximum number of levels in tree\n",
        "max_depth = np.arange(100, 600, 20).tolist()\n",
        "# Minimum number of samples required to split a node\n",
        "min_samples_split = np.arange(3, 200, 10).tolist()\n",
        "# Minimum number of samples required at each leaf node\n",
        "min_samples_leaf = np.arange(3, 100, 5).tolist()\n",
        "# Complexity parameter used for Minimal Cost-Complexity Pruning\n",
        "ccp_alpha = np.arange(0.01, 0.3, 0.01).tolist()\n",
        "\n",
        "random_grid = {'max_depth': max_depth,\n",
        "               'min_samples_split': min_samples_split,\n",
        "               'min_samples_leaf': min_samples_leaf,\n",
        "               'ccp_alpha': ccp_alpha,\n",
        "               'random_state': [2022]}"
      ]
    },
    {
      "cell_type": "code",
      "execution_count": null,
      "metadata": {
        "colab": {
          "base_uri": "https://localhost:8080/"
        },
        "id": "Vp-GEImRIqWw",
        "outputId": "81bed9a2-86ae-4895-8168-3705a77c9dc7"
      },
      "outputs": [
        {
          "name": "stdout",
          "output_type": "stream",
          "text": [
            "Fitting 10 folds for each of 100 candidates, totalling 1000 fits\n"
          ]
        },
        {
          "data": {
            "text/plain": [
              "RandomizedSearchCV(cv=10, estimator=DecisionTreeClassifier(), n_iter=100,\n",
              "                   n_jobs=-1,\n",
              "                   param_distributions={'ccp_alpha': [0.01, 0.02, 0.03, 0.04,\n",
              "                                                      0.05,\n",
              "                                                      0.060000000000000005,\n",
              "                                                      0.06999999999999999, 0.08,\n",
              "                                                      0.09, 0.09999999999999999,\n",
              "                                                      0.11, 0.12, 0.13, 0.14,\n",
              "                                                      0.15000000000000002, 0.16,\n",
              "                                                      0.17, 0.18000000000000002,\n",
              "                                                      0.19, 0.2,\n",
              "                                                      0.21000000000000002, 0.22,\n",
              "                                                      0.23, 0.24000000000000002,\n",
              "                                                      0.25, 0.26,...\n",
              "                                                      0.29000000000000004],\n",
              "                                        'max_depth': [100, 120, 140, 160, 180,\n",
              "                                                      200, 220, 240, 260, 280,\n",
              "                                                      300, 320, 340, 360, 380,\n",
              "                                                      400, 420, 440, 460, 480,\n",
              "                                                      500, 520, 540, 560, 580],\n",
              "                                        'min_samples_leaf': [3, 8, 13, 18, 23,\n",
              "                                                             28, 33, 38, 43, 48,\n",
              "                                                             53, 58, 63, 68, 73,\n",
              "                                                             78, 83, 88, 93,\n",
              "                                                             98],\n",
              "                                        'min_samples_split': [3, 13, 23, 33, 43,\n",
              "                                                              53, 63, 73, 83,\n",
              "                                                              93, 103, 113, 123,\n",
              "                                                              133, 143, 153,\n",
              "                                                              163, 173, 183,\n",
              "                                                              193],\n",
              "                                        'random_state': [2022]},\n",
              "                   random_state=2022, scoring='f1', verbose=2)"
            ]
          },
          "execution_count": 22,
          "metadata": {},
          "output_type": "execute_result"
        }
      ],
      "source": [
        "dt_estimator = DecisionTreeClassifier()\n",
        "dt_random = RandomizedSearchCV(estimator = dt_estimator, param_distributions = random_grid, n_iter = 100, cv = 10, verbose=2, random_state=2022, n_jobs = -1, scoring='f1', refit=True)\n",
        "dt_random.fit(X_smoteENN, y_smoteENN)"
      ]
    },
    {
      "cell_type": "code",
      "execution_count": null,
      "metadata": {
        "colab": {
          "base_uri": "https://localhost:8080/"
        },
        "id": "0hb8KFeaIqWx",
        "outputId": "529aca95-d303-49fd-9fc9-f756350dd0e2"
      },
      "outputs": [
        {
          "data": {
            "text/plain": [
              "{'random_state': 2022,\n",
              " 'min_samples_split': 133,\n",
              " 'min_samples_leaf': 23,\n",
              " 'max_depth': 520,\n",
              " 'ccp_alpha': 0.01}"
            ]
          },
          "execution_count": 23,
          "metadata": {},
          "output_type": "execute_result"
        }
      ],
      "source": [
        "dt_random.best_params_"
      ]
    },
    {
      "cell_type": "code",
      "execution_count": null,
      "metadata": {
        "id": "UI1r5x2jIqWx"
      },
      "outputs": [],
      "source": [
        "tuned_dt_estimator = dt_random.best_estimator_"
      ]
    },
    {
      "cell_type": "code",
      "execution_count": null,
      "metadata": {
        "colab": {
          "base_uri": "https://localhost:8080/"
        },
        "id": "hk-Uv6bvIqWy",
        "outputId": "ab0b2fd6-54b7-4124-ad91-73f4449955fb"
      },
      "outputs": [
        {
          "name": "stdout",
          "output_type": "stream",
          "text": [
            "Confusion Matrix\n",
            "[[10840   128]\n",
            " [  787   342]]\n",
            "F1 Score: 0.4277673545966229\n",
            "Precision: 0.7276595744680852\n",
            "Recall: 0.3029229406554473\n",
            "Accuracy: 0.9243614119203108\n",
            "ROC AUC: 0.648560447043303\n"
          ]
        }
      ],
      "source": [
        "dt_pred_train = tuned_dt_estimator.predict(X_smoteENN)\n",
        "dt_pred_prob_train = tuned_dt_estimator.predict_proba(X_smoteENN)[:,1]\n",
        "print_metrics(y_smoteENN, dt_pred_train, dt_pred_prob_train)"
      ]
    },
    {
      "cell_type": "code",
      "execution_count": null,
      "metadata": {
        "colab": {
          "base_uri": "https://localhost:8080/"
        },
        "id": "eO_0yp9KIqWz",
        "outputId": "0eecce1e-219c-4dc6-983c-31b01960c13f"
      },
      "outputs": [
        {
          "name": "stdout",
          "output_type": "stream",
          "text": [
            "Confusion Matrix\n",
            "[[2794   30]\n",
            " [  47    9]]\n",
            "F1 Score: 0.18947368421052632\n",
            "Precision: 0.23076923076923078\n",
            "Recall: 0.16071428571428573\n",
            "Accuracy: 0.9732638888888889\n",
            "ROC AUC: 0.5566509004451639\n"
          ]
        }
      ],
      "source": [
        "dt_pred_test = tuned_dt_estimator.predict(X_test)\n",
        "dt_pred_prob_test = tuned_dt_estimator.predict_proba(X_test)[:, 1]\n",
        "print_metrics(y_test, dt_pred_test, dt_pred_prob_test)"
      ]
    },
    {
      "cell_type": "markdown",
      "metadata": {
        "id": "cDFU4EFsRnsc"
      },
      "source": [
        "# Tuning Round 3\n",
        "\n",
        "Best test F1 score: 0.261"
      ]
    },
    {
      "cell_type": "code",
      "execution_count": null,
      "metadata": {
        "id": "Rk7c0HGLRnsd"
      },
      "outputs": [],
      "source": [
        "# Maximum number of levels in tree\n",
        "max_depth = np.arange(100, 600, 20).tolist()\n",
        "# Minimum number of samples required to split a node\n",
        "min_samples_split = np.arange(3, 200, 10).tolist()\n",
        "# Complexity parameter used for Minimal Cost-Complexity Pruning\n",
        "ccp_alpha = np.arange(0.001, 0.3, 0.01).tolist()\n",
        "\n",
        "random_grid = {'max_depth': max_depth,\n",
        "               'min_samples_split': min_samples_split,\n",
        "               'ccp_alpha': ccp_alpha,\n",
        "               'random_state': [2022]}"
      ]
    },
    {
      "cell_type": "code",
      "execution_count": null,
      "metadata": {
        "colab": {
          "base_uri": "https://localhost:8080/"
        },
        "id": "dbXXbUuORnsd",
        "outputId": "4ddfc195-9a28-444f-d76c-15fcb523ee3e"
      },
      "outputs": [
        {
          "name": "stdout",
          "output_type": "stream",
          "text": [
            "Fitting 10 folds for each of 100 candidates, totalling 1000 fits\n"
          ]
        },
        {
          "data": {
            "text/plain": [
              "RandomizedSearchCV(cv=10, estimator=DecisionTreeClassifier(), n_iter=100,\n",
              "                   n_jobs=-1,\n",
              "                   param_distributions={'ccp_alpha': [0.001, 0.011,\n",
              "                                                      0.020999999999999998,\n",
              "                                                      0.030999999999999996,\n",
              "                                                      0.040999999999999995,\n",
              "                                                      0.05099999999999999,\n",
              "                                                      0.06099999999999999,\n",
              "                                                      0.071,\n",
              "                                                      0.08099999999999999,\n",
              "                                                      0.09099999999999998,\n",
              "                                                      0.10099999999999998,\n",
              "                                                      0.11099999999999999,\n",
              "                                                      0.12099999999999998,\n",
              "                                                      0.130999999999...\n",
              "                                                      0.25099999999999995,\n",
              "                                                      0.26099999999999995,\n",
              "                                                      0.27099999999999996,\n",
              "                                                      0.28099999999999997,\n",
              "                                                      0.291],\n",
              "                                        'max_depth': [100, 120, 140, 160, 180,\n",
              "                                                      200, 220, 240, 260, 280,\n",
              "                                                      300, 320, 340, 360, 380,\n",
              "                                                      400, 420, 440, 460, 480,\n",
              "                                                      500, 520, 540, 560, 580],\n",
              "                                        'min_samples_split': [3, 13, 23, 33, 43,\n",
              "                                                              53, 63, 73, 83,\n",
              "                                                              93, 103, 113, 123,\n",
              "                                                              133, 143, 153,\n",
              "                                                              163, 173, 183,\n",
              "                                                              193],\n",
              "                                        'random_state': [2022]},\n",
              "                   random_state=2022, scoring='f1', verbose=2)"
            ]
          },
          "execution_count": 28,
          "metadata": {},
          "output_type": "execute_result"
        }
      ],
      "source": [
        "dt_estimator = DecisionTreeClassifier()\n",
        "dt_random = RandomizedSearchCV(estimator = dt_estimator, param_distributions = random_grid, n_iter = 100, cv = 10, verbose=2, random_state=2022, n_jobs = -1, scoring='f1', refit=True)\n",
        "dt_random.fit(X_smoteENN, y_smoteENN)"
      ]
    },
    {
      "cell_type": "code",
      "execution_count": null,
      "metadata": {
        "colab": {
          "base_uri": "https://localhost:8080/"
        },
        "id": "YCtLJNmiRnsf",
        "outputId": "c2ae8094-4fe2-489e-d11c-c272384c403f"
      },
      "outputs": [
        {
          "data": {
            "text/plain": [
              "{'random_state': 2022,\n",
              " 'min_samples_split': 43,\n",
              " 'max_depth': 120,\n",
              " 'ccp_alpha': 0.001}"
            ]
          },
          "execution_count": 29,
          "metadata": {},
          "output_type": "execute_result"
        }
      ],
      "source": [
        "dt_random.best_params_"
      ]
    },
    {
      "cell_type": "code",
      "execution_count": null,
      "metadata": {
        "id": "ACy5zlxsRnsf"
      },
      "outputs": [],
      "source": [
        "tuned_dt_estimator = dt_random.best_estimator_"
      ]
    },
    {
      "cell_type": "code",
      "execution_count": null,
      "metadata": {
        "colab": {
          "base_uri": "https://localhost:8080/"
        },
        "id": "K1PiD868Rnsg",
        "outputId": "55a1ce9a-75e1-4988-a0d8-4912a14dfc03"
      },
      "outputs": [
        {
          "name": "stdout",
          "output_type": "stream",
          "text": [
            "Confusion Matrix\n",
            "[[10925    43]\n",
            " [  204   925]]\n",
            "F1 Score: 0.8822126847877921\n",
            "Precision: 0.9555785123966942\n",
            "Recall: 0.8193091231178034\n",
            "Accuracy: 0.9795817144746631\n",
            "ROC AUC: 0.9608128469712035\n"
          ]
        }
      ],
      "source": [
        "dt_pred_train = tuned_dt_estimator.predict(X_smoteENN)\n",
        "dt_pred_prob_train = tuned_dt_estimator.predict_proba(X_smoteENN)[:,1]\n",
        "print_metrics(y_smoteENN, dt_pred_train, dt_pred_prob_train)"
      ]
    },
    {
      "cell_type": "code",
      "execution_count": null,
      "metadata": {
        "colab": {
          "base_uri": "https://localhost:8080/"
        },
        "id": "agd6xXdXRnsh",
        "outputId": "83a4b5c5-0e62-4fd9-e39c-1d9c2986d064"
      },
      "outputs": [
        {
          "name": "stdout",
          "output_type": "stream",
          "text": [
            "Confusion Matrix\n",
            "[[2780   44]\n",
            " [  41   15]]\n",
            "F1 Score: 0.2608695652173913\n",
            "Precision: 0.2542372881355932\n",
            "Recall: 0.26785714285714285\n",
            "Accuracy: 0.9704861111111112\n",
            "ROC AUC: 0.7359147359368677\n"
          ]
        }
      ],
      "source": [
        "dt_pred_test = tuned_dt_estimator.predict(X_test)\n",
        "dt_pred_prob_test = tuned_dt_estimator.predict_proba(X_test)[:, 1]\n",
        "print_metrics(y_test, dt_pred_test, dt_pred_prob_test)"
      ]
    },
    {
      "cell_type": "markdown",
      "metadata": {
        "id": "hicxMD0Wm_jg"
      },
      "source": [
        "# Tuning Round 3\n",
        "\n",
        "Best test F1 score: 0.441"
      ]
    },
    {
      "cell_type": "code",
      "execution_count": null,
      "metadata": {
        "id": "R6TAHnQom_jh"
      },
      "outputs": [],
      "source": [
        "# Maximum number of levels in tree\n",
        "max_depth = np.arange(100, 600, 20).tolist()\n",
        "# Minimum number of samples required to split a node\n",
        "min_samples_split = np.arange(3, 200, 10).tolist()\n",
        "# Complexity parameter used for Minimal Cost-Complexity Pruning\n",
        "\n",
        "random_grid = {'max_depth': max_depth,\n",
        "               'min_samples_split': min_samples_split,\n",
        "               'random_state': [2022]}"
      ]
    },
    {
      "cell_type": "code",
      "execution_count": null,
      "metadata": {
        "colab": {
          "base_uri": "https://localhost:8080/"
        },
        "id": "PtoREwTMm_ji",
        "outputId": "9a34fc2c-584f-4e74-d968-2fe26c166156"
      },
      "outputs": [
        {
          "name": "stdout",
          "output_type": "stream",
          "text": [
            "Fitting 10 folds for each of 100 candidates, totalling 1000 fits\n"
          ]
        },
        {
          "data": {
            "text/plain": [
              "RandomizedSearchCV(cv=10, estimator=DecisionTreeClassifier(), n_iter=100,\n",
              "                   n_jobs=-1,\n",
              "                   param_distributions={'max_depth': [100, 120, 140, 160, 180,\n",
              "                                                      200, 220, 240, 260, 280,\n",
              "                                                      300, 320, 340, 360, 380,\n",
              "                                                      400, 420, 440, 460, 480,\n",
              "                                                      500, 520, 540, 560, 580],\n",
              "                                        'min_samples_split': [3, 13, 23, 33, 43,\n",
              "                                                              53, 63, 73, 83,\n",
              "                                                              93, 103, 113, 123,\n",
              "                                                              133, 143, 153,\n",
              "                                                              163, 173, 183,\n",
              "                                                              193],\n",
              "                                        'random_state': [2022]},\n",
              "                   random_state=2022, scoring='f1', verbose=2)"
            ]
          },
          "execution_count": 34,
          "metadata": {},
          "output_type": "execute_result"
        }
      ],
      "source": [
        "dt_estimator = DecisionTreeClassifier()\n",
        "dt_random = RandomizedSearchCV(estimator = dt_estimator, param_distributions = random_grid, n_iter = 100, cv = 10, verbose=2, random_state=2022, n_jobs = -1, scoring='f1', refit=True)\n",
        "dt_random.fit(X_smoteENN, y_smoteENN)"
      ]
    },
    {
      "cell_type": "code",
      "execution_count": null,
      "metadata": {
        "colab": {
          "base_uri": "https://localhost:8080/"
        },
        "id": "MWSwNvX_m_jj",
        "outputId": "fffe55a8-53f9-4a9b-dc0c-f99d8181afd5"
      },
      "outputs": [
        {
          "data": {
            "text/plain": [
              "{'random_state': 2022, 'min_samples_split': 3, 'max_depth': 220}"
            ]
          },
          "execution_count": 35,
          "metadata": {},
          "output_type": "execute_result"
        }
      ],
      "source": [
        "dt_random.best_params_"
      ]
    },
    {
      "cell_type": "code",
      "execution_count": null,
      "metadata": {
        "id": "lvKOxi8vm_jk"
      },
      "outputs": [],
      "source": [
        "tuned_dt_estimator = dt_random.best_estimator_"
      ]
    },
    {
      "cell_type": "code",
      "execution_count": null,
      "metadata": {
        "colab": {
          "base_uri": "https://localhost:8080/"
        },
        "id": "0GvAN78Im_jl",
        "outputId": "f39313d0-6166-4b2d-ca5c-00e72f5fcb36"
      },
      "outputs": [
        {
          "name": "stdout",
          "output_type": "stream",
          "text": [
            "Confusion Matrix\n",
            "[[10968     0]\n",
            " [    3  1126]]\n",
            "F1 Score: 0.998669623059867\n",
            "Precision: 1.0\n",
            "Recall: 0.9973427812223207\n",
            "Accuracy: 0.999752004629247\n",
            "ROC AUC: 0.9999996365948062\n"
          ]
        }
      ],
      "source": [
        "dt_pred_train = tuned_dt_estimator.predict(X_smoteENN)\n",
        "dt_pred_prob_train = tuned_dt_estimator.predict_proba(X_smoteENN)[:,1]\n",
        "print_metrics(y_smoteENN, dt_pred_train, dt_pred_prob_train)"
      ]
    },
    {
      "cell_type": "code",
      "execution_count": null,
      "metadata": {
        "colab": {
          "base_uri": "https://localhost:8080/"
        },
        "id": "sPOtkULDm_jm",
        "outputId": "8d5d8158-ae3b-4a6c-f5b0-c300de54f511"
      },
      "outputs": [
        {
          "name": "stdout",
          "output_type": "stream",
          "text": [
            "Confusion Matrix\n",
            "[[2774   50]\n",
            " [  26   30]]\n",
            "F1 Score: 0.44117647058823534\n",
            "Precision: 0.375\n",
            "Recall: 0.5357142857142857\n",
            "Accuracy: 0.9736111111111111\n",
            "ROC AUC: 0.75884004451639\n"
          ]
        }
      ],
      "source": [
        "dt_pred_test = tuned_dt_estimator.predict(X_test)\n",
        "dt_pred_prob_test = tuned_dt_estimator.predict_proba(X_test)[:, 1]\n",
        "print_metrics(y_test, dt_pred_test, dt_pred_prob_test)"
      ]
    }
  ],
  "metadata": {
    "colab": {
      "provenance": []
    },
    "kernelspec": {
      "display_name": "Python 3.7.0 ('bt4012_exam')",
      "language": "python",
      "name": "python3"
    },
    "language_info": {
      "codemirror_mode": {
        "name": "ipython",
        "version": 3
      },
      "file_extension": ".py",
      "mimetype": "text/x-python",
      "name": "python",
      "nbconvert_exporter": "python",
      "pygments_lexer": "ipython3",
      "version": "3.7.0"
    },
    "vscode": {
      "interpreter": {
        "hash": "f3c2f9c73fe0201a4b66ab80b33d08ddc371392df04c704e1be5c548c5cad12d"
      }
    }
  },
  "nbformat": 4,
  "nbformat_minor": 0
}
