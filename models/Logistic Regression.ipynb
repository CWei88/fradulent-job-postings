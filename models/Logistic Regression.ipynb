{
 "cells": [
  {
   "cell_type": "code",
   "execution_count": null,
   "outputs": [],
   "source": [
    "X_train = pd.read_csv('../datasets/word2vec/train_data_imputed_FINAL.csv')\n",
    "X_test = pd.read_csv('../datasets/word2vec/test_data_imputed_FINAL.csv')\n",
    "y_train = pd.read_csv('../datasets/word2vec/y_train_FINAL.csv').iloc[:,1:]\n",
    "y_test = pd.read_csv('../datasets/word2vec/y_test_FINAL.csv').iloc[:,1:]\n",
    "y_test = pd.read_csv('../datasets/word2vec/y_test_FINAL.csv').iloc[:,1:]"
   ],
   "metadata": {
    "collapsed": false,
    "pycharm": {
     "name": "#%%\n"
    }
   }
  },
  {
   "cell_type": "code",
   "execution_count": null,
   "metadata": {
    "colab": {
     "base_uri": "https://localhost:8080/",
     "height": 300
    },
    "executionInfo": {
     "elapsed": 369,
     "status": "ok",
     "timestamp": 1668525187881,
     "user": {
      "displayName": "Charlene Pang",
      "userId": "02396396768782466617"
     },
     "user_tz": -480
    },
    "id": "3lz_GqXlUCzc",
    "outputId": "bdc6f984-a94b-4131-864b-cab28349f8e1"
   },
   "outputs": [
    {
     "output_type": "execute_result",
     "data": {
      "text/plain": [
       "   location_AE  location_AM  location_AR  location_AT  location_AU  \\\n",
       "0          0.0          0.0          0.0          0.0          0.0   \n",
       "1          0.0          0.0          0.0          0.0          0.0   \n",
       "2          0.0          0.0          0.0          0.0          0.0   \n",
       "3          0.0          0.0          0.0          0.0          0.0   \n",
       "4          0.0          0.0          0.0          0.0          0.0   \n",
       "\n",
       "   location_BD  location_BE  location_BG  location_BH  location_BR  ...  \\\n",
       "0          0.0          0.0          0.0          0.0          0.0  ...   \n",
       "1          0.0          0.0          0.0          0.0          0.0  ...   \n",
       "2          0.0          0.0          0.0          0.0          0.0  ...   \n",
       "3          0.0          0.0          0.0          0.0          0.0  ...   \n",
       "4          0.0          0.0          0.0          0.0          0.0  ...   \n",
       "\n",
       "         90        91        92        93        94        95        96  \\\n",
       "0  0.415787  0.115367 -0.607734 -0.417199  0.090155 -0.399479  0.503071   \n",
       "1  0.063942 -0.109937 -0.384977 -0.260925 -0.078151 -0.189497  0.363736   \n",
       "2  0.309970  0.085213 -0.189873 -0.619696  0.238990 -0.288888  0.493239   \n",
       "3  0.368265 -0.251463 -0.302825  0.120311  0.266548 -0.580960  0.567253   \n",
       "4  0.103269 -0.057475 -0.195160 -0.509560  0.362500  0.138404 -0.018908   \n",
       "\n",
       "         97        98        99  \n",
       "0  0.088093  0.643417  0.180743  \n",
       "1  0.123283  0.343995  0.145450  \n",
       "2  0.069656  0.187424  0.184120  \n",
       "3  0.167470  0.057360  0.911378  \n",
       "4  0.024695  0.141623 -0.178447  \n",
       "\n",
       "[5 rows x 263 columns]"
      ],
      "text/html": [
       "\n",
       "  <div id=\"df-c38fbcaa-4bc5-4b53-a26e-fc18e48847c9\">\n",
       "    <div class=\"colab-df-container\">\n",
       "      <div>\n",
       "<style scoped>\n",
       "    .dataframe tbody tr th:only-of-type {\n",
       "        vertical-align: middle;\n",
       "    }\n",
       "\n",
       "    .dataframe tbody tr th {\n",
       "        vertical-align: top;\n",
       "    }\n",
       "\n",
       "    .dataframe thead th {\n",
       "        text-align: right;\n",
       "    }\n",
       "</style>\n",
       "<table border=\"1\" class=\"dataframe\">\n",
       "  <thead>\n",
       "    <tr style=\"text-align: right;\">\n",
       "      <th></th>\n",
       "      <th>location_AE</th>\n",
       "      <th>location_AM</th>\n",
       "      <th>location_AR</th>\n",
       "      <th>location_AT</th>\n",
       "      <th>location_AU</th>\n",
       "      <th>location_BD</th>\n",
       "      <th>location_BE</th>\n",
       "      <th>location_BG</th>\n",
       "      <th>location_BH</th>\n",
       "      <th>location_BR</th>\n",
       "      <th>...</th>\n",
       "      <th>90</th>\n",
       "      <th>91</th>\n",
       "      <th>92</th>\n",
       "      <th>93</th>\n",
       "      <th>94</th>\n",
       "      <th>95</th>\n",
       "      <th>96</th>\n",
       "      <th>97</th>\n",
       "      <th>98</th>\n",
       "      <th>99</th>\n",
       "    </tr>\n",
       "  </thead>\n",
       "  <tbody>\n",
       "    <tr>\n",
       "      <th>0</th>\n",
       "      <td>0.0</td>\n",
       "      <td>0.0</td>\n",
       "      <td>0.0</td>\n",
       "      <td>0.0</td>\n",
       "      <td>0.0</td>\n",
       "      <td>0.0</td>\n",
       "      <td>0.0</td>\n",
       "      <td>0.0</td>\n",
       "      <td>0.0</td>\n",
       "      <td>0.0</td>\n",
       "      <td>...</td>\n",
       "      <td>0.415787</td>\n",
       "      <td>0.115367</td>\n",
       "      <td>-0.607734</td>\n",
       "      <td>-0.417199</td>\n",
       "      <td>0.090155</td>\n",
       "      <td>-0.399479</td>\n",
       "      <td>0.503071</td>\n",
       "      <td>0.088093</td>\n",
       "      <td>0.643417</td>\n",
       "      <td>0.180743</td>\n",
       "    </tr>\n",
       "    <tr>\n",
       "      <th>1</th>\n",
       "      <td>0.0</td>\n",
       "      <td>0.0</td>\n",
       "      <td>0.0</td>\n",
       "      <td>0.0</td>\n",
       "      <td>0.0</td>\n",
       "      <td>0.0</td>\n",
       "      <td>0.0</td>\n",
       "      <td>0.0</td>\n",
       "      <td>0.0</td>\n",
       "      <td>0.0</td>\n",
       "      <td>...</td>\n",
       "      <td>0.063942</td>\n",
       "      <td>-0.109937</td>\n",
       "      <td>-0.384977</td>\n",
       "      <td>-0.260925</td>\n",
       "      <td>-0.078151</td>\n",
       "      <td>-0.189497</td>\n",
       "      <td>0.363736</td>\n",
       "      <td>0.123283</td>\n",
       "      <td>0.343995</td>\n",
       "      <td>0.145450</td>\n",
       "    </tr>\n",
       "    <tr>\n",
       "      <th>2</th>\n",
       "      <td>0.0</td>\n",
       "      <td>0.0</td>\n",
       "      <td>0.0</td>\n",
       "      <td>0.0</td>\n",
       "      <td>0.0</td>\n",
       "      <td>0.0</td>\n",
       "      <td>0.0</td>\n",
       "      <td>0.0</td>\n",
       "      <td>0.0</td>\n",
       "      <td>0.0</td>\n",
       "      <td>...</td>\n",
       "      <td>0.309970</td>\n",
       "      <td>0.085213</td>\n",
       "      <td>-0.189873</td>\n",
       "      <td>-0.619696</td>\n",
       "      <td>0.238990</td>\n",
       "      <td>-0.288888</td>\n",
       "      <td>0.493239</td>\n",
       "      <td>0.069656</td>\n",
       "      <td>0.187424</td>\n",
       "      <td>0.184120</td>\n",
       "    </tr>\n",
       "    <tr>\n",
       "      <th>3</th>\n",
       "      <td>0.0</td>\n",
       "      <td>0.0</td>\n",
       "      <td>0.0</td>\n",
       "      <td>0.0</td>\n",
       "      <td>0.0</td>\n",
       "      <td>0.0</td>\n",
       "      <td>0.0</td>\n",
       "      <td>0.0</td>\n",
       "      <td>0.0</td>\n",
       "      <td>0.0</td>\n",
       "      <td>...</td>\n",
       "      <td>0.368265</td>\n",
       "      <td>-0.251463</td>\n",
       "      <td>-0.302825</td>\n",
       "      <td>0.120311</td>\n",
       "      <td>0.266548</td>\n",
       "      <td>-0.580960</td>\n",
       "      <td>0.567253</td>\n",
       "      <td>0.167470</td>\n",
       "      <td>0.057360</td>\n",
       "      <td>0.911378</td>\n",
       "    </tr>\n",
       "    <tr>\n",
       "      <th>4</th>\n",
       "      <td>0.0</td>\n",
       "      <td>0.0</td>\n",
       "      <td>0.0</td>\n",
       "      <td>0.0</td>\n",
       "      <td>0.0</td>\n",
       "      <td>0.0</td>\n",
       "      <td>0.0</td>\n",
       "      <td>0.0</td>\n",
       "      <td>0.0</td>\n",
       "      <td>0.0</td>\n",
       "      <td>...</td>\n",
       "      <td>0.103269</td>\n",
       "      <td>-0.057475</td>\n",
       "      <td>-0.195160</td>\n",
       "      <td>-0.509560</td>\n",
       "      <td>0.362500</td>\n",
       "      <td>0.138404</td>\n",
       "      <td>-0.018908</td>\n",
       "      <td>0.024695</td>\n",
       "      <td>0.141623</td>\n",
       "      <td>-0.178447</td>\n",
       "    </tr>\n",
       "  </tbody>\n",
       "</table>\n",
       "<p>5 rows × 263 columns</p>\n",
       "</div>\n",
       "      <button class=\"colab-df-convert\" onclick=\"convertToInteractive('df-c38fbcaa-4bc5-4b53-a26e-fc18e48847c9')\"\n",
       "              title=\"Convert this dataframe to an interactive table.\"\n",
       "              style=\"display:none;\">\n",
       "        \n",
       "  <svg xmlns=\"http://www.w3.org/2000/svg\" height=\"24px\"viewBox=\"0 0 24 24\"\n",
       "       width=\"24px\">\n",
       "    <path d=\"M0 0h24v24H0V0z\" fill=\"none\"/>\n",
       "    <path d=\"M18.56 5.44l.94 2.06.94-2.06 2.06-.94-2.06-.94-.94-2.06-.94 2.06-2.06.94zm-11 1L8.5 8.5l.94-2.06 2.06-.94-2.06-.94L8.5 2.5l-.94 2.06-2.06.94zm10 10l.94 2.06.94-2.06 2.06-.94-2.06-.94-.94-2.06-.94 2.06-2.06.94z\"/><path d=\"M17.41 7.96l-1.37-1.37c-.4-.4-.92-.59-1.43-.59-.52 0-1.04.2-1.43.59L10.3 9.45l-7.72 7.72c-.78.78-.78 2.05 0 2.83L4 21.41c.39.39.9.59 1.41.59.51 0 1.02-.2 1.41-.59l7.78-7.78 2.81-2.81c.8-.78.8-2.07 0-2.86zM5.41 20L4 18.59l7.72-7.72 1.47 1.35L5.41 20z\"/>\n",
       "  </svg>\n",
       "      </button>\n",
       "      \n",
       "  <style>\n",
       "    .colab-df-container {\n",
       "      display:flex;\n",
       "      flex-wrap:wrap;\n",
       "      gap: 12px;\n",
       "    }\n",
       "\n",
       "    .colab-df-convert {\n",
       "      background-color: #E8F0FE;\n",
       "      border: none;\n",
       "      border-radius: 50%;\n",
       "      cursor: pointer;\n",
       "      display: none;\n",
       "      fill: #1967D2;\n",
       "      height: 32px;\n",
       "      padding: 0 0 0 0;\n",
       "      width: 32px;\n",
       "    }\n",
       "\n",
       "    .colab-df-convert:hover {\n",
       "      background-color: #E2EBFA;\n",
       "      box-shadow: 0px 1px 2px rgba(60, 64, 67, 0.3), 0px 1px 3px 1px rgba(60, 64, 67, 0.15);\n",
       "      fill: #174EA6;\n",
       "    }\n",
       "\n",
       "    [theme=dark] .colab-df-convert {\n",
       "      background-color: #3B4455;\n",
       "      fill: #D2E3FC;\n",
       "    }\n",
       "\n",
       "    [theme=dark] .colab-df-convert:hover {\n",
       "      background-color: #434B5C;\n",
       "      box-shadow: 0px 1px 3px 1px rgba(0, 0, 0, 0.15);\n",
       "      filter: drop-shadow(0px 1px 2px rgba(0, 0, 0, 0.3));\n",
       "      fill: #FFFFFF;\n",
       "    }\n",
       "  </style>\n",
       "\n",
       "      <script>\n",
       "        const buttonEl =\n",
       "          document.querySelector('#df-c38fbcaa-4bc5-4b53-a26e-fc18e48847c9 button.colab-df-convert');\n",
       "        buttonEl.style.display =\n",
       "          google.colab.kernel.accessAllowed ? 'block' : 'none';\n",
       "\n",
       "        async function convertToInteractive(key) {\n",
       "          const element = document.querySelector('#df-c38fbcaa-4bc5-4b53-a26e-fc18e48847c9');\n",
       "          const dataTable =\n",
       "            await google.colab.kernel.invokeFunction('convertToInteractive',\n",
       "                                                     [key], {});\n",
       "          if (!dataTable) return;\n",
       "\n",
       "          const docLinkHtml = 'Like what you see? Visit the ' +\n",
       "            '<a target=\"_blank\" href=https://colab.research.google.com/notebooks/data_table.ipynb>data table notebook</a>'\n",
       "            + ' to learn more about interactive tables.';\n",
       "          element.innerHTML = '';\n",
       "          dataTable['output_type'] = 'display_data';\n",
       "          await google.colab.output.renderOutput(dataTable, element);\n",
       "          const docLink = document.createElement('div');\n",
       "          docLink.innerHTML = docLinkHtml;\n",
       "          element.appendChild(docLink);\n",
       "        }\n",
       "      </script>\n",
       "    </div>\n",
       "  </div>\n",
       "  "
      ]
     },
     "metadata": {},
     "execution_count": 4
    }
   ],
   "source": [
    "X_train.head()"
   ]
  },
  {
   "cell_type": "markdown",
   "metadata": {
    "id": "qhG2_LJQtjRZ"
   },
   "source": [
    "### Checking dataset"
   ]
  },
  {
   "cell_type": "code",
   "execution_count": null,
   "metadata": {
    "colab": {
     "base_uri": "https://localhost:8080/"
    },
    "executionInfo": {
     "elapsed": 591,
     "status": "ok",
     "timestamp": 1668525197612,
     "user": {
      "displayName": "Charlene Pang",
      "userId": "02396396768782466617"
     },
     "user_tz": -480
    },
    "id": "AFf4x1QQYs-d",
    "outputId": "41829b43-147c-4ff0-b58d-f4cc5af0fdb0"
   },
   "outputs": [
    {
     "output_type": "execute_result",
     "data": {
      "text/plain": [
       "(11516, 263)"
      ]
     },
     "metadata": {},
     "execution_count": 6
    }
   ],
   "source": [
    "X_train.shape"
   ]
  },
  {
   "cell_type": "code",
   "execution_count": null,
   "metadata": {
    "colab": {
     "base_uri": "https://localhost:8080/"
    },
    "executionInfo": {
     "elapsed": 11,
     "status": "ok",
     "timestamp": 1668525199049,
     "user": {
      "displayName": "Charlene Pang",
      "userId": "02396396768782466617"
     },
     "user_tz": -480
    },
    "id": "KM-5zIxfZ2WA",
    "outputId": "219f077c-aeb4-4620-8f0d-a3556447b45b"
   },
   "outputs": [
    {
     "output_type": "execute_result",
     "data": {
      "text/plain": [
       "(2880, 263)"
      ]
     },
     "metadata": {},
     "execution_count": 7
    }
   ],
   "source": [
    "X_test.shape"
   ]
  },
  {
   "cell_type": "markdown",
   "metadata": {
    "id": "Rme-O19RLKcE"
   },
   "source": [
    "### Function to print metrics"
   ]
  },
  {
   "cell_type": "code",
   "execution_count": null,
   "metadata": {
    "id": "B7b8e7WrLJq3"
   },
   "outputs": [],
   "source": [
    "def print_metrics(y_true, y_pred, y_pred_prob):\n",
    "    print(\"Confusion Matrix\")\n",
    "    cm = confusion_matrix(y_true, y_pred)\n",
    "    print(cm)\n",
    "    \n",
    "    print(\"F1 Score:\", f1_score(y_true, y_pred))\n",
    "    print(\"Precision:\", precision_score(y_true, y_pred))\n",
    "    print(\"Recall:\", recall_score(y_true, y_pred)) \n",
    "    print(\"Accuracy:\", accuracy_score(y_true, y_pred))\n",
    "    print(\"ROC AUC:\", roc_auc_score(y_true, y_pred_prob))"
   ]
  },
  {
   "cell_type": "markdown",
   "metadata": {
    "id": "qRWSgvgymcvG"
   },
   "source": [
    "## Oversampling\n",
    "- Using SMOTE-ENN\n",
    "\n"
   ]
  },
  {
   "cell_type": "code",
   "execution_count": null,
   "metadata": {
    "colab": {
     "base_uri": "https://localhost:8080/"
    },
    "executionInfo": {
     "elapsed": 26,
     "status": "ok",
     "timestamp": 1668525235600,
     "user": {
      "displayName": "Charlene Pang",
      "userId": "02396396768782466617"
     },
     "user_tz": -480
    },
    "id": "AkdBS0QNmfI4",
    "outputId": "1b735bf6-cb6f-441b-f036-28767ec11b75"
   },
   "outputs": [
    {
     "output_type": "stream",
     "name": "stdout",
     "text": [
      "Before count Counter({0: 11293, 1: 223})\n"
     ]
    }
   ],
   "source": [
    "original_counter = Counter(y_train.loc[:,'fraudulent'])\n",
    "print(\"Before count\", original_counter)"
   ]
  },
  {
   "cell_type": "code",
   "execution_count": null,
   "metadata": {
    "id": "DtPC43mqOgfi"
   },
   "outputs": [],
   "source": [
    "def SMOTE_ENN(X_train, y_train, n_neighbours, k_neighbours, sampling_strategy):\n",
    "    # SMOTE ENN oversampling\n",
    "    smote_only = SMOTE(random_state=42, sampling_strategy=sampling_strategy, k_neighbors = k_neighbours)\n",
    "    ennObj = EditedNearestNeighbours(n_neighbors=n_neighbours)\n",
    "    smote_enn = SMOTEENN(random_state=42, smote=smote_only , enn= ennObj)\n",
    "    X_res_smoteENN, y_res_smoteENN = smote_enn.fit_resample(X_train, y_train)\n",
    "    return X_res_smoteENN, y_res_smoteENN\n",
    "\n",
    "X_train_smenn, y_train_smenn = SMOTE_ENN(X_train, y_train, n_neighbours = 4, k_neighbours = 6, sampling_strategy = 0.1)"
   ]
  },
  {
   "cell_type": "code",
   "execution_count": null,
   "metadata": {
    "colab": {
     "base_uri": "https://localhost:8080/"
    },
    "executionInfo": {
     "elapsed": 23,
     "status": "ok",
     "timestamp": 1668525235600,
     "user": {
      "displayName": "Charlene Pang",
      "userId": "02396396768782466617"
     },
     "user_tz": -480
    },
    "id": "YE71PJR5r-H_",
    "outputId": "664c2888-405b-4b4b-a923-ecc71507530d"
   },
   "outputs": [
    {
     "output_type": "stream",
     "name": "stdout",
     "text": [
      "After count Counter({0: 10968, 1: 1129})\n"
     ]
    }
   ],
   "source": [
    "after_counter = Counter(y_train_smenn.loc[:,'fraudulent'])\n",
    "print(\"After count\", after_counter)"
   ]
  },
  {
   "cell_type": "markdown",
   "metadata": {
    "id": "daJ_Z-aK63L9"
   },
   "source": [
    "## Hyperparameter Tuning using Random Search \n",
    "- Varying maximum iterations, solver, penalty and regularisation term"
   ]
  },
  {
   "cell_type": "code",
   "execution_count": null,
   "metadata": {
    "id": "bq-LZ0xO63MJ"
   },
   "outputs": [],
   "source": [
    "random_grid = { 'max_iter': np.arange(100,500,100).tolist(),\n",
    "                'solver' : ['liblinear', 'saga'],\n",
    "                'penalty' : ['l2', 'l1'],\n",
    "                'C': [0.001, 0.01, 0.1] \n",
    "                }"
   ]
  },
  {
   "cell_type": "code",
   "execution_count": null,
   "metadata": {
    "colab": {
     "base_uri": "https://localhost:8080/"
    },
    "id": "mNPYEyHX63MK",
    "executionInfo": {
     "status": "ok",
     "timestamp": 1667389982653,
     "user_tz": -480,
     "elapsed": 1220972,
     "user": {
      "displayName": "Charlene Pang",
      "userId": "02396396768782466617"
     }
    },
    "outputId": "0a2d5ae0-6bea-4a70-fbc9-a7cf9094a1c1"
   },
   "outputs": [
    {
     "output_type": "stream",
     "name": "stdout",
     "text": [
      "Fitting 5 folds for each of 48 candidates, totalling 240 fits\n",
      "[LibLinear]"
     ]
    },
    {
     "output_type": "execute_result",
     "data": {
      "text/plain": [
       "RandomizedSearchCV(cv=5, estimator=LogisticRegression(verbose=1), n_iter=100,\n",
       "                   n_jobs=-1,\n",
       "                   param_distributions={'C': [0.001, 0.01, 0.1],\n",
       "                                        'max_iter': [100, 200, 300, 400],\n",
       "                                        'penalty': ['l2', 'l1'],\n",
       "                                        'solver': ['liblinear', 'saga']},\n",
       "                   random_state=2022, scoring='f1', verbose=2)"
      ]
     },
     "metadata": {},
     "execution_count": 10
    }
   ],
   "source": [
    "lr_estimator = linear_model.LogisticRegression(verbose = 1)\n",
    "lr_random = RandomizedSearchCV(estimator = lr_estimator, param_distributions = random_grid, n_iter = 100, cv = 5, verbose=2, random_state=2022, n_jobs = -1, scoring='f1', refit=True)\n",
    "lr_random.fit(X_train_smenn, y_train_smenn)"
   ]
  },
  {
   "cell_type": "code",
   "execution_count": null,
   "metadata": {
    "colab": {
     "base_uri": "https://localhost:8080/"
    },
    "id": "sKo5FiF063MK",
    "executionInfo": {
     "status": "ok",
     "timestamp": 1667389982654,
     "user_tz": -480,
     "elapsed": 29,
     "user": {
      "displayName": "Charlene Pang",
      "userId": "02396396768782466617"
     }
    },
    "outputId": "d923e751-9746-4673-8e5f-83fb4029e3f3"
   },
   "outputs": [
    {
     "output_type": "execute_result",
     "data": {
      "text/plain": [
       "{'solver': 'liblinear', 'penalty': 'l2', 'max_iter': 100, 'C': 0.1}"
      ]
     },
     "metadata": {},
     "execution_count": 11
    }
   ],
   "source": [
    "lr_random.best_params_"
   ]
  },
  {
   "cell_type": "code",
   "execution_count": null,
   "metadata": {
    "id": "PBYV_rCJ63MK"
   },
   "outputs": [],
   "source": [
    "tuned_lr_estimator = lr_random.best_estimator_"
   ]
  },
  {
   "cell_type": "code",
   "source": [
    "train_pred = tuned_lr_estimator.predict(X_train_smenn)\n",
    "train_pred_proba = tuned_lr_estimator.predict(X_train_smenn)[:, 1]\n",
    "print_metrics(y_train_smenn, train_pred, train_pred_proba)"
   ],
   "metadata": {
    "colab": {
     "base_uri": "https://localhost:8080/"
    },
    "id": "pdJy8Kk53PBn",
    "executionInfo": {
     "status": "ok",
     "timestamp": 1668525535572,
     "user_tz": -480,
     "elapsed": 2121,
     "user": {
      "displayName": "Charlene Pang",
      "userId": "02396396768782466617"
     }
    },
    "outputId": "5925e539-e957-42f2-9a5f-d16ded81b332"
   },
   "execution_count": null,
   "outputs": [
    {
     "output_type": "stream",
     "name": "stdout",
     "text": [
      "Confusion Matrix\n",
      "[[10868   100]\n",
      " [  373   756]]\n",
      "F1 Score: 0.7617128463476072\n",
      "Precision: 0.883177570093458\n",
      "Recall: 0.6696191319751993\n",
      "Accuracy: 0.9608993965445979\n",
      "ROC AUC: 0.98348484907217\n"
     ]
    }
   ]
  },
  {
   "cell_type": "code",
   "execution_count": 18,
   "metadata": {
    "colab": {
     "base_uri": "https://localhost:8080/"
    },
    "id": "xsPpC71E63MK",
    "executionInfo": {
     "status": "ok",
     "timestamp": 1668525805944,
     "user_tz": -480,
     "elapsed": 321,
     "user": {
      "displayName": "Charlene Pang",
      "userId": "02396396768782466617"
     }
    },
    "outputId": "83e7d397-5e1c-4670-f059-1a1581f7b269"
   },
   "outputs": [
    {
     "output_type": "stream",
     "name": "stdout",
     "text": [
      "Confusion Matrix\n",
      "[[2787   37]\n",
      " [  27   29]]\n",
      "F1 Score: 0.47540983606557385\n",
      "Precision: 0.4393939393939394\n",
      "Recall: 0.5178571428571429\n",
      "Accuracy: 0.9777777777777777\n",
      "ROC AUC: 0.9585567583974098\n"
     ]
    }
   ],
   "source": [
    "test_pred = tuned_lr_estimator.predict(X_test)\n",
    "test_pred_proba = tuned_lr_estimator.predict_proba(X_test)[:, 1]\n",
    "print_metrics(y_test, test_pred, test_pred_proba)"
   ]
  }
 ],
 "metadata": {
  "colab": {
   "collapsed_sections": [
    "CnleiMeIIPeH",
    "2joHgWjUzCmP",
    "Sjl65-669ASR",
    "3n167JKcCdyb",
    "RxL6PB4kFjha",
    "9xxyEqh_-WHh",
    "zqc1-4JwuJ3o"
   ],
   "provenance": [],
   "authorship_tag": "ABX9TyMVh8loDMhOVsa6/UgnoaYm"
  },
  "gpuClass": "standard",
  "kernelspec": {
   "display_name": "Python 3",
   "name": "python3"
  },
  "language_info": {
   "name": "python"
  },
  "pycharm": {
   "stem_cell": {
    "cell_type": "raw",
    "source": [
     "\n",
     "\n",
     "# modelling packages\n",
     "import pandas as pd\n",
     "import numpy as np\n",
     "from sklearn import linear_model, model_selection, metrics\n",
     "from sklearn.feature_selection import f_classif\n",
     "from matplotlib import pyplot\n",
     "\n",
     "# oversampling packages\n",
     "from imblearn.combine import SMOTEENN\n",
     "from collections import Counter\n",
     "from imblearn.over_sampling import SMOTE\n",
     "from imblearn.under_sampling import EditedNearestNeighbours\n",
     "from imblearn.over_sampling import RandomOverSampler\n",
     "\n",
     "# performance metrics packages\n",
     "from sklearn.metrics import precision_recall_curve\n",
     "from sklearn.metrics import auc\n",
     "from sklearn.metrics import roc_curve\n",
     "from sklearn.metrics import  accuracy_score, f1_score, precision_score, recall_score, confusion_matrix, roc_auc_score\n",
     "\n",
     "# feature selection package\n",
     "from sklearn.feature_selection import SelectKBest , chi2\n",
     "\n",
     "#plotting\n",
     "from matplotlib import pyplot as plt\n",
     "\n",
     "#hyperparameter tuning\n",
     "from sklearn.model_selection import RandomizedSearchCV\n",
     "\n",
     "# setting seed to ensure reproducibility\n",
     "import random\n",
     "random.seed(10)"
    ],
    "metadata": {
     "collapsed": false
    }
   }
  }
 },
 "nbformat": 4,
 "nbformat_minor": 0
}