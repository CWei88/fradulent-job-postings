{
 "cells": [
  {
   "cell_type": "code",
   "execution_count": 1,
   "id": "6633bd6f",
   "metadata": {},
   "outputs": [
    {
     "name": "stdout",
     "output_type": "stream",
     "text": [
      "Requirement already satisfied: pyod in c:\\anaconda3\\lib\\site-packages (1.0.5)\n",
      "Requirement already satisfied: numpy>=1.19 in c:\\anaconda3\\lib\\site-packages (from pyod) (1.21.5)\n",
      "Requirement already satisfied: matplotlib in c:\\anaconda3\\lib\\site-packages (from pyod) (3.5.1)\n",
      "Requirement already satisfied: scikit-learn>=0.20.0 in c:\\anaconda3\\lib\\site-packages (from pyod) (1.0.2)\n",
      "Requirement already satisfied: scipy>=1.5.1 in c:\\anaconda3\\lib\\site-packages (from pyod) (1.7.3)\n",
      "Requirement already satisfied: six in c:\\anaconda3\\lib\\site-packages (from pyod) (1.16.0)\n",
      "Requirement already satisfied: statsmodels in c:\\anaconda3\\lib\\site-packages (from pyod) (0.13.2)\n",
      "Requirement already satisfied: numba>=0.51 in c:\\anaconda3\\lib\\site-packages (from pyod) (0.55.1)\n",
      "Requirement already satisfied: joblib in c:\\anaconda3\\lib\\site-packages (from pyod) (1.1.0)\n",
      "Requirement already satisfied: llvmlite<0.39,>=0.38.0rc1 in c:\\anaconda3\\lib\\site-packages (from numba>=0.51->pyod) (0.38.0)\n",
      "Requirement already satisfied: setuptools in c:\\anaconda3\\lib\\site-packages (from numba>=0.51->pyod) (61.2.0)\n",
      "Requirement already satisfied: threadpoolctl>=2.0.0 in c:\\anaconda3\\lib\\site-packages (from scikit-learn>=0.20.0->pyod) (2.2.0)\n",
      "Requirement already satisfied: fonttools>=4.22.0 in c:\\anaconda3\\lib\\site-packages (from matplotlib->pyod) (4.25.0)\n",
      "Requirement already satisfied: cycler>=0.10 in c:\\anaconda3\\lib\\site-packages (from matplotlib->pyod) (0.11.0)\n",
      "Requirement already satisfied: python-dateutil>=2.7 in c:\\anaconda3\\lib\\site-packages (from matplotlib->pyod) (2.8.2)\n",
      "Requirement already satisfied: pyparsing>=2.2.1 in c:\\anaconda3\\lib\\site-packages (from matplotlib->pyod) (3.0.4)\n",
      "Requirement already satisfied: kiwisolver>=1.0.1 in c:\\anaconda3\\lib\\site-packages (from matplotlib->pyod) (1.3.2)\n",
      "Requirement already satisfied: packaging>=20.0 in c:\\anaconda3\\lib\\site-packages (from matplotlib->pyod) (21.3)\n",
      "Requirement already satisfied: pillow>=6.2.0 in c:\\anaconda3\\lib\\site-packages (from matplotlib->pyod) (9.0.1)\n",
      "Requirement already satisfied: pandas>=0.25 in c:\\anaconda3\\lib\\site-packages (from statsmodels->pyod) (1.4.2)\n",
      "Requirement already satisfied: patsy>=0.5.2 in c:\\anaconda3\\lib\\site-packages (from statsmodels->pyod) (0.5.2)\n",
      "Requirement already satisfied: pytz>=2020.1 in c:\\anaconda3\\lib\\site-packages (from pandas>=0.25->statsmodels->pyod) (2021.3)\n"
     ]
    }
   ],
   "source": [
    "!pip install pyod"
   ]
  },
  {
   "cell_type": "code",
   "execution_count": 1,
   "id": "7444f8aa",
   "metadata": {},
   "outputs": [],
   "source": [
    "import pandas as pd\n",
    "import numpy as np\n",
    "from matplotlib import pyplot as plt\n",
    "import seaborn as sns\n",
    "from pyod.models import auto_encoder, deep_svdd\n",
    "\n",
    "from imblearn.combine import SMOTEENN\n",
    "from imblearn.under_sampling import EditedNearestNeighbours\n",
    "from imblearn.over_sampling import SMOTE\n",
    "\n",
    "import keras\n",
    "import tensorflow\n",
    "from keras import layers\n",
    "from keras.models import Sequential\n",
    "from keras.layers import Dense, Activation, Dropout, Flatten, Embedding, Conv1D, MaxPooling1D, Reshape\n",
    "from keras.preprocessing import sequence\n",
    "from keras.utils import pad_sequences\n",
    "\n",
    "from sklearn.model_selection import train_test_split\n",
    "from sklearn.preprocessing import StandardScaler, LabelEncoder\n",
    "from sklearn.linear_model import LogisticRegression\n",
    "from sklearn.metrics import classification_report, confusion_matrix, plot_confusion_matrix, f1_score"
   ]
  },
  {
   "cell_type": "code",
   "execution_count": 2,
   "id": "fcfd4abd",
   "metadata": {},
   "outputs": [],
   "source": [
    "X_train = pd.read_csv('../datasets/word2vec/train_data_imputed_FINAL.csv')\n",
    "X_test = pd.read_csv('../datasets/word2vec/test_data_imputed_FINAL.csv')\n",
    "y_train = pd.read_csv('../datasets/word2vec/y_train_FINAL.csv')\n",
    "y_test = pd.read_csv('../datasets/word2vec/y_test_FINAL.csv')"
   ]
  },
  {
   "cell_type": "code",
   "execution_count": 3,
   "id": "9cd12d3f",
   "metadata": {},
   "outputs": [
    {
     "name": "stdout",
     "output_type": "stream",
     "text": [
      "(11516, 263)\n",
      "(11516, 2)\n",
      "(2880, 263)\n",
      "(2880, 2)\n"
     ]
    }
   ],
   "source": [
    "print(X_train.shape)\n",
    "print(y_train.shape)\n",
    "print(X_test.shape)\n",
    "print(y_test.shape)"
   ]
  },
  {
   "cell_type": "code",
   "execution_count": 4,
   "id": "432de034",
   "metadata": {},
   "outputs": [
    {
     "data": {
      "text/html": [
       "<div>\n",
       "<style scoped>\n",
       "    .dataframe tbody tr th:only-of-type {\n",
       "        vertical-align: middle;\n",
       "    }\n",
       "\n",
       "    .dataframe tbody tr th {\n",
       "        vertical-align: top;\n",
       "    }\n",
       "\n",
       "    .dataframe thead th {\n",
       "        text-align: right;\n",
       "    }\n",
       "</style>\n",
       "<table border=\"1\" class=\"dataframe\">\n",
       "  <thead>\n",
       "    <tr style=\"text-align: right;\">\n",
       "      <th></th>\n",
       "      <th>location_AE</th>\n",
       "      <th>location_AM</th>\n",
       "      <th>location_AR</th>\n",
       "      <th>location_AT</th>\n",
       "      <th>location_AU</th>\n",
       "      <th>location_BD</th>\n",
       "      <th>location_BE</th>\n",
       "      <th>location_BG</th>\n",
       "      <th>location_BH</th>\n",
       "      <th>location_BR</th>\n",
       "      <th>...</th>\n",
       "      <th>90</th>\n",
       "      <th>91</th>\n",
       "      <th>92</th>\n",
       "      <th>93</th>\n",
       "      <th>94</th>\n",
       "      <th>95</th>\n",
       "      <th>96</th>\n",
       "      <th>97</th>\n",
       "      <th>98</th>\n",
       "      <th>99</th>\n",
       "    </tr>\n",
       "  </thead>\n",
       "  <tbody>\n",
       "    <tr>\n",
       "      <th>0</th>\n",
       "      <td>0.0</td>\n",
       "      <td>0.0</td>\n",
       "      <td>0.0</td>\n",
       "      <td>0.0</td>\n",
       "      <td>0.0</td>\n",
       "      <td>0.0</td>\n",
       "      <td>0.0</td>\n",
       "      <td>0.0</td>\n",
       "      <td>0.0</td>\n",
       "      <td>0.0</td>\n",
       "      <td>...</td>\n",
       "      <td>0.415787</td>\n",
       "      <td>0.115367</td>\n",
       "      <td>-0.607734</td>\n",
       "      <td>-0.417199</td>\n",
       "      <td>0.090155</td>\n",
       "      <td>-0.399479</td>\n",
       "      <td>0.503071</td>\n",
       "      <td>0.088093</td>\n",
       "      <td>0.643417</td>\n",
       "      <td>0.180743</td>\n",
       "    </tr>\n",
       "    <tr>\n",
       "      <th>1</th>\n",
       "      <td>0.0</td>\n",
       "      <td>0.0</td>\n",
       "      <td>0.0</td>\n",
       "      <td>0.0</td>\n",
       "      <td>0.0</td>\n",
       "      <td>0.0</td>\n",
       "      <td>0.0</td>\n",
       "      <td>0.0</td>\n",
       "      <td>0.0</td>\n",
       "      <td>0.0</td>\n",
       "      <td>...</td>\n",
       "      <td>0.063942</td>\n",
       "      <td>-0.109937</td>\n",
       "      <td>-0.384977</td>\n",
       "      <td>-0.260925</td>\n",
       "      <td>-0.078151</td>\n",
       "      <td>-0.189497</td>\n",
       "      <td>0.363736</td>\n",
       "      <td>0.123283</td>\n",
       "      <td>0.343995</td>\n",
       "      <td>0.145450</td>\n",
       "    </tr>\n",
       "    <tr>\n",
       "      <th>2</th>\n",
       "      <td>0.0</td>\n",
       "      <td>0.0</td>\n",
       "      <td>0.0</td>\n",
       "      <td>0.0</td>\n",
       "      <td>0.0</td>\n",
       "      <td>0.0</td>\n",
       "      <td>0.0</td>\n",
       "      <td>0.0</td>\n",
       "      <td>0.0</td>\n",
       "      <td>0.0</td>\n",
       "      <td>...</td>\n",
       "      <td>0.309970</td>\n",
       "      <td>0.085213</td>\n",
       "      <td>-0.189873</td>\n",
       "      <td>-0.619696</td>\n",
       "      <td>0.238990</td>\n",
       "      <td>-0.288888</td>\n",
       "      <td>0.493239</td>\n",
       "      <td>0.069656</td>\n",
       "      <td>0.187424</td>\n",
       "      <td>0.184120</td>\n",
       "    </tr>\n",
       "    <tr>\n",
       "      <th>3</th>\n",
       "      <td>0.0</td>\n",
       "      <td>0.0</td>\n",
       "      <td>0.0</td>\n",
       "      <td>0.0</td>\n",
       "      <td>0.0</td>\n",
       "      <td>0.0</td>\n",
       "      <td>0.0</td>\n",
       "      <td>0.0</td>\n",
       "      <td>0.0</td>\n",
       "      <td>0.0</td>\n",
       "      <td>...</td>\n",
       "      <td>0.368265</td>\n",
       "      <td>-0.251463</td>\n",
       "      <td>-0.302825</td>\n",
       "      <td>0.120311</td>\n",
       "      <td>0.266548</td>\n",
       "      <td>-0.580960</td>\n",
       "      <td>0.567253</td>\n",
       "      <td>0.167470</td>\n",
       "      <td>0.057360</td>\n",
       "      <td>0.911378</td>\n",
       "    </tr>\n",
       "    <tr>\n",
       "      <th>4</th>\n",
       "      <td>0.0</td>\n",
       "      <td>0.0</td>\n",
       "      <td>0.0</td>\n",
       "      <td>0.0</td>\n",
       "      <td>0.0</td>\n",
       "      <td>0.0</td>\n",
       "      <td>0.0</td>\n",
       "      <td>0.0</td>\n",
       "      <td>0.0</td>\n",
       "      <td>0.0</td>\n",
       "      <td>...</td>\n",
       "      <td>0.103269</td>\n",
       "      <td>-0.057475</td>\n",
       "      <td>-0.195160</td>\n",
       "      <td>-0.509560</td>\n",
       "      <td>0.362500</td>\n",
       "      <td>0.138404</td>\n",
       "      <td>-0.018908</td>\n",
       "      <td>0.024695</td>\n",
       "      <td>0.141623</td>\n",
       "      <td>-0.178447</td>\n",
       "    </tr>\n",
       "    <tr>\n",
       "      <th>...</th>\n",
       "      <td>...</td>\n",
       "      <td>...</td>\n",
       "      <td>...</td>\n",
       "      <td>...</td>\n",
       "      <td>...</td>\n",
       "      <td>...</td>\n",
       "      <td>...</td>\n",
       "      <td>...</td>\n",
       "      <td>...</td>\n",
       "      <td>...</td>\n",
       "      <td>...</td>\n",
       "      <td>...</td>\n",
       "      <td>...</td>\n",
       "      <td>...</td>\n",
       "      <td>...</td>\n",
       "      <td>...</td>\n",
       "      <td>...</td>\n",
       "      <td>...</td>\n",
       "      <td>...</td>\n",
       "      <td>...</td>\n",
       "      <td>...</td>\n",
       "    </tr>\n",
       "    <tr>\n",
       "      <th>11511</th>\n",
       "      <td>0.0</td>\n",
       "      <td>0.0</td>\n",
       "      <td>0.0</td>\n",
       "      <td>0.0</td>\n",
       "      <td>0.0</td>\n",
       "      <td>0.0</td>\n",
       "      <td>0.0</td>\n",
       "      <td>0.0</td>\n",
       "      <td>0.0</td>\n",
       "      <td>0.0</td>\n",
       "      <td>...</td>\n",
       "      <td>0.037891</td>\n",
       "      <td>0.315731</td>\n",
       "      <td>-0.317654</td>\n",
       "      <td>-0.545108</td>\n",
       "      <td>0.036413</td>\n",
       "      <td>-0.424302</td>\n",
       "      <td>0.257965</td>\n",
       "      <td>0.526123</td>\n",
       "      <td>0.554189</td>\n",
       "      <td>0.467056</td>\n",
       "    </tr>\n",
       "    <tr>\n",
       "      <th>11512</th>\n",
       "      <td>0.0</td>\n",
       "      <td>0.0</td>\n",
       "      <td>0.0</td>\n",
       "      <td>0.0</td>\n",
       "      <td>0.0</td>\n",
       "      <td>0.0</td>\n",
       "      <td>0.0</td>\n",
       "      <td>0.0</td>\n",
       "      <td>0.0</td>\n",
       "      <td>0.0</td>\n",
       "      <td>...</td>\n",
       "      <td>-0.029244</td>\n",
       "      <td>0.036405</td>\n",
       "      <td>-0.059883</td>\n",
       "      <td>-0.253161</td>\n",
       "      <td>-0.470171</td>\n",
       "      <td>-0.461234</td>\n",
       "      <td>0.565384</td>\n",
       "      <td>0.179199</td>\n",
       "      <td>0.471366</td>\n",
       "      <td>-0.028968</td>\n",
       "    </tr>\n",
       "    <tr>\n",
       "      <th>11513</th>\n",
       "      <td>0.0</td>\n",
       "      <td>0.0</td>\n",
       "      <td>0.0</td>\n",
       "      <td>0.0</td>\n",
       "      <td>0.0</td>\n",
       "      <td>0.0</td>\n",
       "      <td>0.0</td>\n",
       "      <td>0.0</td>\n",
       "      <td>0.0</td>\n",
       "      <td>0.0</td>\n",
       "      <td>...</td>\n",
       "      <td>0.233222</td>\n",
       "      <td>0.025620</td>\n",
       "      <td>-0.071772</td>\n",
       "      <td>-0.694364</td>\n",
       "      <td>0.008886</td>\n",
       "      <td>0.019537</td>\n",
       "      <td>0.003424</td>\n",
       "      <td>0.050594</td>\n",
       "      <td>0.007654</td>\n",
       "      <td>0.050209</td>\n",
       "    </tr>\n",
       "    <tr>\n",
       "      <th>11514</th>\n",
       "      <td>0.0</td>\n",
       "      <td>0.0</td>\n",
       "      <td>0.0</td>\n",
       "      <td>0.0</td>\n",
       "      <td>0.0</td>\n",
       "      <td>0.0</td>\n",
       "      <td>0.0</td>\n",
       "      <td>0.0</td>\n",
       "      <td>0.0</td>\n",
       "      <td>0.0</td>\n",
       "      <td>...</td>\n",
       "      <td>0.110204</td>\n",
       "      <td>0.257865</td>\n",
       "      <td>-0.334657</td>\n",
       "      <td>-0.798872</td>\n",
       "      <td>0.207487</td>\n",
       "      <td>-0.099457</td>\n",
       "      <td>0.142827</td>\n",
       "      <td>0.184329</td>\n",
       "      <td>0.646150</td>\n",
       "      <td>-0.036104</td>\n",
       "    </tr>\n",
       "    <tr>\n",
       "      <th>11515</th>\n",
       "      <td>0.0</td>\n",
       "      <td>0.0</td>\n",
       "      <td>0.0</td>\n",
       "      <td>0.0</td>\n",
       "      <td>0.0</td>\n",
       "      <td>0.0</td>\n",
       "      <td>0.0</td>\n",
       "      <td>0.0</td>\n",
       "      <td>0.0</td>\n",
       "      <td>0.0</td>\n",
       "      <td>...</td>\n",
       "      <td>-0.482942</td>\n",
       "      <td>-0.122728</td>\n",
       "      <td>-0.184470</td>\n",
       "      <td>-0.727627</td>\n",
       "      <td>-0.029152</td>\n",
       "      <td>-0.214070</td>\n",
       "      <td>0.519119</td>\n",
       "      <td>0.304570</td>\n",
       "      <td>0.834871</td>\n",
       "      <td>0.020643</td>\n",
       "    </tr>\n",
       "  </tbody>\n",
       "</table>\n",
       "<p>11516 rows × 263 columns</p>\n",
       "</div>"
      ],
      "text/plain": [
       "       location_AE  location_AM  location_AR  location_AT  location_AU  \\\n",
       "0              0.0          0.0          0.0          0.0          0.0   \n",
       "1              0.0          0.0          0.0          0.0          0.0   \n",
       "2              0.0          0.0          0.0          0.0          0.0   \n",
       "3              0.0          0.0          0.0          0.0          0.0   \n",
       "4              0.0          0.0          0.0          0.0          0.0   \n",
       "...            ...          ...          ...          ...          ...   \n",
       "11511          0.0          0.0          0.0          0.0          0.0   \n",
       "11512          0.0          0.0          0.0          0.0          0.0   \n",
       "11513          0.0          0.0          0.0          0.0          0.0   \n",
       "11514          0.0          0.0          0.0          0.0          0.0   \n",
       "11515          0.0          0.0          0.0          0.0          0.0   \n",
       "\n",
       "       location_BD  location_BE  location_BG  location_BH  location_BR  ...  \\\n",
       "0              0.0          0.0          0.0          0.0          0.0  ...   \n",
       "1              0.0          0.0          0.0          0.0          0.0  ...   \n",
       "2              0.0          0.0          0.0          0.0          0.0  ...   \n",
       "3              0.0          0.0          0.0          0.0          0.0  ...   \n",
       "4              0.0          0.0          0.0          0.0          0.0  ...   \n",
       "...            ...          ...          ...          ...          ...  ...   \n",
       "11511          0.0          0.0          0.0          0.0          0.0  ...   \n",
       "11512          0.0          0.0          0.0          0.0          0.0  ...   \n",
       "11513          0.0          0.0          0.0          0.0          0.0  ...   \n",
       "11514          0.0          0.0          0.0          0.0          0.0  ...   \n",
       "11515          0.0          0.0          0.0          0.0          0.0  ...   \n",
       "\n",
       "             90        91        92        93        94        95        96  \\\n",
       "0      0.415787  0.115367 -0.607734 -0.417199  0.090155 -0.399479  0.503071   \n",
       "1      0.063942 -0.109937 -0.384977 -0.260925 -0.078151 -0.189497  0.363736   \n",
       "2      0.309970  0.085213 -0.189873 -0.619696  0.238990 -0.288888  0.493239   \n",
       "3      0.368265 -0.251463 -0.302825  0.120311  0.266548 -0.580960  0.567253   \n",
       "4      0.103269 -0.057475 -0.195160 -0.509560  0.362500  0.138404 -0.018908   \n",
       "...         ...       ...       ...       ...       ...       ...       ...   \n",
       "11511  0.037891  0.315731 -0.317654 -0.545108  0.036413 -0.424302  0.257965   \n",
       "11512 -0.029244  0.036405 -0.059883 -0.253161 -0.470171 -0.461234  0.565384   \n",
       "11513  0.233222  0.025620 -0.071772 -0.694364  0.008886  0.019537  0.003424   \n",
       "11514  0.110204  0.257865 -0.334657 -0.798872  0.207487 -0.099457  0.142827   \n",
       "11515 -0.482942 -0.122728 -0.184470 -0.727627 -0.029152 -0.214070  0.519119   \n",
       "\n",
       "             97        98        99  \n",
       "0      0.088093  0.643417  0.180743  \n",
       "1      0.123283  0.343995  0.145450  \n",
       "2      0.069656  0.187424  0.184120  \n",
       "3      0.167470  0.057360  0.911378  \n",
       "4      0.024695  0.141623 -0.178447  \n",
       "...         ...       ...       ...  \n",
       "11511  0.526123  0.554189  0.467056  \n",
       "11512  0.179199  0.471366 -0.028968  \n",
       "11513  0.050594  0.007654  0.050209  \n",
       "11514  0.184329  0.646150 -0.036104  \n",
       "11515  0.304570  0.834871  0.020643  \n",
       "\n",
       "[11516 rows x 263 columns]"
      ]
     },
     "execution_count": 4,
     "metadata": {},
     "output_type": "execute_result"
    }
   ],
   "source": [
    "X_train"
   ]
  },
  {
   "cell_type": "code",
   "execution_count": 5,
   "id": "b4ebe6ab",
   "metadata": {},
   "outputs": [],
   "source": [
    "y_train = y_train.drop(columns=['Unnamed: 0'])"
   ]
  },
  {
   "cell_type": "code",
   "execution_count": 6,
   "id": "86f7e998",
   "metadata": {},
   "outputs": [],
   "source": [
    "y_test = y_test.drop(columns=['Unnamed: 0'])"
   ]
  },
  {
   "cell_type": "code",
   "execution_count": 7,
   "id": "bc6580b4",
   "metadata": {},
   "outputs": [],
   "source": [
    "c = [col for col in X_train.columns if 'function' in col]"
   ]
  },
  {
   "cell_type": "code",
   "execution_count": 8,
   "id": "e7572e8f",
   "metadata": {},
   "outputs": [
    {
     "data": {
      "text/plain": [
       "Index(['location_AE', 'location_AM', 'location_AR', 'location_AT',\n",
       "       'location_AU', 'location_BD', 'location_BE', 'location_BG',\n",
       "       'location_BH', 'location_BR',\n",
       "       ...\n",
       "       '90', '91', '92', '93', '94', '95', '96', '97', '98', '99'],\n",
       "      dtype='object', length=263)"
      ]
     },
     "execution_count": 8,
     "metadata": {},
     "output_type": "execute_result"
    }
   ],
   "source": [
    "X_train.columns"
   ]
  },
  {
   "cell_type": "code",
   "execution_count": 28,
   "id": "824b0b60",
   "metadata": {},
   "outputs": [],
   "source": [
    "sme = SMOTEENN(sampling_strategy=0.5, random_state=42, \n",
    "               smote=SMOTE(sampling_strategy=1, k_neighbors=7, random_state=42), \n",
    "               enn=EditedNearestNeighbours(n_neighbors=3))"
   ]
  },
  {
   "cell_type": "code",
   "execution_count": 29,
   "id": "c2fb0110",
   "metadata": {},
   "outputs": [],
   "source": [
    "X_res, y_res = sme.fit_resample(X_train, y_train)"
   ]
  },
  {
   "cell_type": "code",
   "execution_count": 30,
   "id": "eb950dc8",
   "metadata": {},
   "outputs": [
    {
     "data": {
      "text/plain": [
       "fraudulent\n",
       "0             11293\n",
       "1             11293\n",
       "dtype: int64"
      ]
     },
     "execution_count": 30,
     "metadata": {},
     "output_type": "execute_result"
    }
   ],
   "source": [
    "y_res.value_counts()"
   ]
  },
  {
   "cell_type": "code",
   "execution_count": 31,
   "id": "a903f2ed",
   "metadata": {},
   "outputs": [
    {
     "data": {
      "text/plain": [
       "22586"
      ]
     },
     "execution_count": 31,
     "metadata": {},
     "output_type": "execute_result"
    }
   ],
   "source": [
    "len(X_res)"
   ]
  },
  {
   "cell_type": "code",
   "execution_count": 32,
   "id": "a3f78d59",
   "metadata": {},
   "outputs": [
    {
     "name": "stderr",
     "output_type": "stream",
     "text": [
      "C:\\Anaconda3\\lib\\site-packages\\sklearn\\utils\\validation.py:993: DataConversionWarning: A column-vector y was passed when a 1d array was expected. Please change the shape of y to (n_samples, ), for example using ravel().\n",
      "  y = column_or_1d(y, warn=True)\n"
     ]
    },
    {
     "name": "stdout",
     "output_type": "stream",
     "text": [
      "              precision    recall  f1-score   support\n",
      "\n",
      "           0       0.99      1.00      0.99      2824\n",
      "           1       0.67      0.25      0.36        56\n",
      "\n",
      "    accuracy                           0.98      2880\n",
      "   macro avg       0.83      0.62      0.68      2880\n",
      "weighted avg       0.98      0.98      0.98      2880\n",
      "\n"
     ]
    },
    {
     "name": "stderr",
     "output_type": "stream",
     "text": [
      "C:\\Anaconda3\\lib\\site-packages\\sklearn\\linear_model\\_logistic.py:814: ConvergenceWarning: lbfgs failed to converge (status=1):\n",
      "STOP: TOTAL NO. of ITERATIONS REACHED LIMIT.\n",
      "\n",
      "Increase the number of iterations (max_iter) or scale the data as shown in:\n",
      "    https://scikit-learn.org/stable/modules/preprocessing.html\n",
      "Please also refer to the documentation for alternative solver options:\n",
      "    https://scikit-learn.org/stable/modules/linear_model.html#logistic-regression\n",
      "  n_iter_i = _check_optimize_result(\n"
     ]
    }
   ],
   "source": [
    "classifier = LogisticRegression()\n",
    "classifier.fit(X_train, y_train)\n",
    "print(classification_report(y_test, classifier.predict(X_test)))"
   ]
  },
  {
   "cell_type": "code",
   "execution_count": 33,
   "id": "368a1cad",
   "metadata": {},
   "outputs": [],
   "source": [
    "# classifier = LogisticRegression()\n",
    "# classifier.fit(X_tr, y_train)\n",
    "# print(classification_report(y_test, classifier.predict(X_test)))"
   ]
  },
  {
   "cell_type": "code",
   "execution_count": 34,
   "id": "89ff3c6e",
   "metadata": {},
   "outputs": [
    {
     "name": "stderr",
     "output_type": "stream",
     "text": [
      "C:\\Anaconda3\\lib\\site-packages\\sklearn\\utils\\validation.py:993: DataConversionWarning: A column-vector y was passed when a 1d array was expected. Please change the shape of y to (n_samples, ), for example using ravel().\n",
      "  y = column_or_1d(y, warn=True)\n"
     ]
    },
    {
     "name": "stdout",
     "output_type": "stream",
     "text": [
      "              precision    recall  f1-score   support\n",
      "\n",
      "           0       1.00      0.91      0.95      2824\n",
      "           1       0.16      0.86      0.28        56\n",
      "\n",
      "    accuracy                           0.91      2880\n",
      "   macro avg       0.58      0.89      0.61      2880\n",
      "weighted avg       0.98      0.91      0.94      2880\n",
      "\n"
     ]
    },
    {
     "name": "stderr",
     "output_type": "stream",
     "text": [
      "C:\\Anaconda3\\lib\\site-packages\\sklearn\\linear_model\\_logistic.py:814: ConvergenceWarning: lbfgs failed to converge (status=1):\n",
      "STOP: TOTAL NO. of ITERATIONS REACHED LIMIT.\n",
      "\n",
      "Increase the number of iterations (max_iter) or scale the data as shown in:\n",
      "    https://scikit-learn.org/stable/modules/preprocessing.html\n",
      "Please also refer to the documentation for alternative solver options:\n",
      "    https://scikit-learn.org/stable/modules/linear_model.html#logistic-regression\n",
      "  n_iter_i = _check_optimize_result(\n"
     ]
    }
   ],
   "source": [
    "classifier = LogisticRegression(random_state=42)\n",
    "classifier.fit(X_res, y_res)\n",
    "print(classification_report(y_test, classifier.predict(X_test)))"
   ]
  },
  {
   "cell_type": "code",
   "execution_count": 35,
   "id": "19c53b11",
   "metadata": {},
   "outputs": [
    {
     "data": {
      "text/plain": [
       "0.2758620689655173"
      ]
     },
     "execution_count": 35,
     "metadata": {},
     "output_type": "execute_result"
    }
   ],
   "source": [
    "f1_score(y_test, classifier.predict(X_test))"
   ]
  },
  {
   "cell_type": "markdown",
   "id": "ef23d707",
   "metadata": {},
   "source": [
    "## NN"
   ]
  },
  {
   "cell_type": "code",
   "execution_count": 36,
   "id": "5bee3de2",
   "metadata": {},
   "outputs": [],
   "source": [
    "### Model building\n",
    "model = Sequential()\n",
    "model.add(Dense(256, activation='relu'))\n",
    "model.add(Dropout(0.2))\n",
    "model.add(Dense(128, activation='relu'))\n",
    "model.add(Dropout(0.2))\n",
    "model.add(Dense(64, activation='relu'))\n",
    "model.add(Dropout(0.2))\n",
    "model.add(Dense(32, activation='relu'))\n",
    "model.add(Dropout(0.2))\n",
    "model.add(Dense(1, activation='sigmoid'))\n",
    "model.compile(loss='binary_crossentropy', optimizer='adam', metrics=['accuracy'])"
   ]
  },
  {
   "cell_type": "code",
   "execution_count": 37,
   "id": "17a89d4e",
   "metadata": {},
   "outputs": [
    {
     "name": "stdout",
     "output_type": "stream",
     "text": [
      "Epoch 1/25\n",
      "706/706 [==============================] - 3s 3ms/step - loss: 0.5056 - accuracy: 0.7363\n",
      "Epoch 2/25\n",
      "706/706 [==============================] - 2s 3ms/step - loss: 0.1656 - accuracy: 0.9396\n",
      "Epoch 3/25\n",
      "706/706 [==============================] - 2s 3ms/step - loss: 0.0900 - accuracy: 0.9695\n",
      "Epoch 4/25\n",
      "706/706 [==============================] - 2s 3ms/step - loss: 0.0576 - accuracy: 0.9809\n",
      "Epoch 5/25\n",
      "706/706 [==============================] - 2s 3ms/step - loss: 0.0432 - accuracy: 0.9853\n",
      "Epoch 6/25\n",
      "706/706 [==============================] - 2s 3ms/step - loss: 0.0405 - accuracy: 0.9875\n",
      "Epoch 7/25\n",
      "706/706 [==============================] - 2s 3ms/step - loss: 0.0269 - accuracy: 0.9901\n",
      "Epoch 8/25\n",
      "706/706 [==============================] - 2s 3ms/step - loss: 0.0244 - accuracy: 0.9923\n",
      "Epoch 9/25\n",
      "706/706 [==============================] - 2s 3ms/step - loss: 0.0278 - accuracy: 0.9907\n",
      "Epoch 10/25\n",
      "706/706 [==============================] - 3s 4ms/step - loss: 0.0220 - accuracy: 0.9923\n",
      "Epoch 11/25\n",
      "706/706 [==============================] - 3s 5ms/step - loss: 0.0179 - accuracy: 0.9942\n",
      "Epoch 12/25\n",
      "706/706 [==============================] - 5s 7ms/step - loss: 0.0141 - accuracy: 0.9952\n",
      "Epoch 13/25\n",
      "706/706 [==============================] - 4s 6ms/step - loss: 0.0164 - accuracy: 0.9948\n",
      "Epoch 14/25\n",
      "706/706 [==============================] - 5s 7ms/step - loss: 0.0189 - accuracy: 0.9942\n",
      "Epoch 15/25\n",
      "706/706 [==============================] - 5s 6ms/step - loss: 0.0152 - accuracy: 0.9956\n",
      "Epoch 16/25\n",
      "706/706 [==============================] - 4s 6ms/step - loss: 0.0131 - accuracy: 0.9953\n",
      "Epoch 17/25\n",
      "706/706 [==============================] - 8s 11ms/step - loss: 0.0155 - accuracy: 0.9941\n",
      "Epoch 18/25\n",
      "706/706 [==============================] - 5s 8ms/step - loss: 0.0172 - accuracy: 0.9944\n",
      "Epoch 19/25\n",
      "706/706 [==============================] - 6s 9ms/step - loss: 0.0149 - accuracy: 0.9948\n",
      "Epoch 20/25\n",
      "706/706 [==============================] - 5s 7ms/step - loss: 0.0074 - accuracy: 0.9975\n",
      "Epoch 21/25\n",
      "706/706 [==============================] - 7s 9ms/step - loss: 0.0134 - accuracy: 0.9955\n",
      "Epoch 22/25\n",
      "706/706 [==============================] - 4s 6ms/step - loss: 0.0088 - accuracy: 0.9972\n",
      "Epoch 23/25\n",
      "706/706 [==============================] - 5s 7ms/step - loss: 0.0153 - accuracy: 0.9948\n",
      "Epoch 24/25\n",
      "706/706 [==============================] - 4s 6ms/step - loss: 0.0122 - accuracy: 0.9966\n",
      "Epoch 25/25\n",
      "706/706 [==============================] - 4s 6ms/step - loss: 0.0117 - accuracy: 0.9963\n"
     ]
    },
    {
     "data": {
      "text/plain": [
       "<keras.callbacks.History at 0x2494f64a880>"
      ]
     },
     "execution_count": 37,
     "metadata": {},
     "output_type": "execute_result"
    }
   ],
   "source": [
    "model.fit(X_res, y_res, epochs=25)"
   ]
  },
  {
   "cell_type": "code",
   "execution_count": 38,
   "id": "3ddd40cd",
   "metadata": {},
   "outputs": [
    {
     "name": "stdout",
     "output_type": "stream",
     "text": [
      "706/706 [==============================] - 3s 4ms/step - loss: 0.0023 - accuracy: 0.9994\n",
      "[0.002277969615533948, 0.999424397945404]\n"
     ]
    }
   ],
   "source": [
    "train_score = model.evaluate(X_res, y_res)\n",
    "print(train_score)"
   ]
  },
  {
   "cell_type": "code",
   "execution_count": 39,
   "id": "f514b4a2",
   "metadata": {},
   "outputs": [
    {
     "name": "stdout",
     "output_type": "stream",
     "text": [
      "90/90 [==============================] - 1s 6ms/step\n"
     ]
    }
   ],
   "source": [
    "pred = model.predict(X_test)"
   ]
  },
  {
   "cell_type": "code",
   "execution_count": 40,
   "id": "25529f1d",
   "metadata": {},
   "outputs": [],
   "source": [
    "y_pred = np.where(pred < 0.5, 0, 1)"
   ]
  },
  {
   "cell_type": "code",
   "execution_count": 41,
   "id": "6e2426d0",
   "metadata": {},
   "outputs": [
    {
     "data": {
      "text/plain": [
       "Index(['fraudulent'], dtype='object')"
      ]
     },
     "execution_count": 41,
     "metadata": {},
     "output_type": "execute_result"
    }
   ],
   "source": [
    "y_train.columns"
   ]
  },
  {
   "cell_type": "code",
   "execution_count": 42,
   "id": "cb6fa656",
   "metadata": {},
   "outputs": [
    {
     "data": {
      "text/plain": [
       "array([[2803,   21],\n",
       "       [  13,   43]], dtype=int64)"
      ]
     },
     "execution_count": 42,
     "metadata": {},
     "output_type": "execute_result"
    }
   ],
   "source": [
    "confusion_matrix(y_test, y_pred)"
   ]
  },
  {
   "cell_type": "code",
   "execution_count": 43,
   "id": "47538892",
   "metadata": {},
   "outputs": [],
   "source": [
    "df_cm = pd.DataFrame(confusion_matrix(y_test, y_pred))"
   ]
  },
  {
   "cell_type": "code",
   "execution_count": 44,
   "id": "e530a270",
   "metadata": {},
   "outputs": [
    {
     "name": "stdout",
     "output_type": "stream",
     "text": [
      "              precision    recall  f1-score   support\n",
      "\n",
      "           0       1.00      0.99      0.99      2824\n",
      "           1       0.67      0.77      0.72        56\n",
      "\n",
      "    accuracy                           0.99      2880\n",
      "   macro avg       0.83      0.88      0.86      2880\n",
      "weighted avg       0.99      0.99      0.99      2880\n",
      "\n"
     ]
    }
   ],
   "source": [
    "print(classification_report(y_test, y_pred))"
   ]
  },
  {
   "cell_type": "code",
   "execution_count": 45,
   "id": "073c3583",
   "metadata": {},
   "outputs": [
    {
     "data": {
      "text/plain": [
       "0.7166666666666668"
      ]
     },
     "execution_count": 45,
     "metadata": {},
     "output_type": "execute_result"
    }
   ],
   "source": [
    "f1_score(y_test, y_pred)"
   ]
  },
  {
   "cell_type": "markdown",
   "id": "45485e65",
   "metadata": {},
   "source": [
    "### Non-resampled"
   ]
  },
  {
   "cell_type": "code",
   "execution_count": 39,
   "id": "ac87c7b7",
   "metadata": {},
   "outputs": [],
   "source": [
    "### Model building\n",
    "model = Sequential()\n",
    "model.add(Dense(128, activation='relu'))\n",
    "model.add(Dropout(0.2))\n",
    "model.add(Dense(64, activation='relu'))\n",
    "model.add(Dropout(0.2))\n",
    "model.add(Dense(64, activation='relu'))\n",
    "model.add(Dropout(0.2))\n",
    "model.add(Dense(32, activation='relu'))\n",
    "model.add(Dropout(0.2))\n",
    "model.add(Dense(1, activation='sigmoid'))\n",
    "model.compile(loss='binary_crossentropy', optimizer='adam', metrics=['accuracy'])"
   ]
  },
  {
   "cell_type": "code",
   "execution_count": 40,
   "id": "987833da",
   "metadata": {},
   "outputs": [
    {
     "name": "stdout",
     "output_type": "stream",
     "text": [
      "Epoch 1/25\n",
      "360/360 [==============================] - 6s 6ms/step - loss: 0.1457 - accuracy: 0.9747\n",
      "Epoch 2/25\n",
      "360/360 [==============================] - 2s 6ms/step - loss: 0.0945 - accuracy: 0.9806\n",
      "Epoch 3/25\n",
      "360/360 [==============================] - 2s 7ms/step - loss: 0.0840 - accuracy: 0.9806\n",
      "Epoch 4/25\n",
      "360/360 [==============================] - 2s 6ms/step - loss: 0.0715 - accuracy: 0.9806\n",
      "Epoch 5/25\n",
      "360/360 [==============================] - 2s 6ms/step - loss: 0.0640 - accuracy: 0.9807\n",
      "Epoch 6/25\n",
      "360/360 [==============================] - 2s 6ms/step - loss: 0.0620 - accuracy: 0.9806\n",
      "Epoch 7/25\n",
      "360/360 [==============================] - 2s 6ms/step - loss: 0.0550 - accuracy: 0.9816\n",
      "Epoch 8/25\n",
      "360/360 [==============================] - 2s 6ms/step - loss: 0.0554 - accuracy: 0.9819\n",
      "Epoch 9/25\n",
      "360/360 [==============================] - 2s 7ms/step - loss: 0.0485 - accuracy: 0.9834\n",
      "Epoch 10/25\n",
      "360/360 [==============================] - 2s 6ms/step - loss: 0.0481 - accuracy: 0.9845\n",
      "Epoch 11/25\n",
      "360/360 [==============================] - 2s 6ms/step - loss: 0.0463 - accuracy: 0.9847\n",
      "Epoch 12/25\n",
      "360/360 [==============================] - 2s 6ms/step - loss: 0.0444 - accuracy: 0.9861\n",
      "Epoch 13/25\n",
      "360/360 [==============================] - 2s 6ms/step - loss: 0.0400 - accuracy: 0.9871\n",
      "Epoch 14/25\n",
      "360/360 [==============================] - 2s 6ms/step - loss: 0.0393 - accuracy: 0.9878\n",
      "Epoch 15/25\n",
      "360/360 [==============================] - 2s 6ms/step - loss: 0.0354 - accuracy: 0.9887\n",
      "Epoch 16/25\n",
      "360/360 [==============================] - 2s 6ms/step - loss: 0.0347 - accuracy: 0.9898\n",
      "Epoch 17/25\n",
      "360/360 [==============================] - 2s 6ms/step - loss: 0.0336 - accuracy: 0.9891\n",
      "Epoch 18/25\n",
      "360/360 [==============================] - 2s 7ms/step - loss: 0.0309 - accuracy: 0.9908\n",
      "Epoch 19/25\n",
      "360/360 [==============================] - 3s 8ms/step - loss: 0.0307 - accuracy: 0.9901\n",
      "Epoch 20/25\n",
      "360/360 [==============================] - 3s 8ms/step - loss: 0.0269 - accuracy: 0.9911\n",
      "Epoch 21/25\n",
      "360/360 [==============================] - 3s 7ms/step - loss: 0.0286 - accuracy: 0.9913\n",
      "Epoch 22/25\n",
      "360/360 [==============================] - 3s 7ms/step - loss: 0.0265 - accuracy: 0.9922\n",
      "Epoch 23/25\n",
      "360/360 [==============================] - 3s 8ms/step - loss: 0.0243 - accuracy: 0.9921\n",
      "Epoch 24/25\n",
      "360/360 [==============================] - 3s 8ms/step - loss: 0.0221 - accuracy: 0.9928\n",
      "Epoch 25/25\n",
      "360/360 [==============================] - 3s 7ms/step - loss: 0.0260 - accuracy: 0.9939\n"
     ]
    },
    {
     "data": {
      "text/plain": [
       "<keras.callbacks.History at 0x1c932db1a60>"
      ]
     },
     "execution_count": 40,
     "metadata": {},
     "output_type": "execute_result"
    }
   ],
   "source": [
    "model.fit(X_train, y_train, epochs=25)"
   ]
  },
  {
   "cell_type": "code",
   "execution_count": 41,
   "id": "91451dee",
   "metadata": {},
   "outputs": [
    {
     "name": "stdout",
     "output_type": "stream",
     "text": [
      "360/360 [==============================] - 2s 4ms/step - loss: 0.0136 - accuracy: 0.9956\n",
      "[0.013637649826705456, 0.9955713748931885]\n"
     ]
    }
   ],
   "source": [
    "train_score = model.evaluate(X_train, y_train)\n",
    "print(train_score)"
   ]
  },
  {
   "cell_type": "code",
   "execution_count": 42,
   "id": "471782b6",
   "metadata": {},
   "outputs": [
    {
     "name": "stdout",
     "output_type": "stream",
     "text": [
      "90/90 [==============================] - 1s 3ms/step\n"
     ]
    }
   ],
   "source": [
    "pred = model.predict(X_test)"
   ]
  },
  {
   "cell_type": "code",
   "execution_count": 43,
   "id": "0235dd95",
   "metadata": {},
   "outputs": [],
   "source": [
    "y_pred = np.where(pred < 0.5, 0, 1)"
   ]
  },
  {
   "cell_type": "code",
   "execution_count": 44,
   "id": "6168dd03",
   "metadata": {},
   "outputs": [
    {
     "data": {
      "text/plain": [
       "array([[2814,   10],\n",
       "       [  21,   35]], dtype=int64)"
      ]
     },
     "execution_count": 44,
     "metadata": {},
     "output_type": "execute_result"
    }
   ],
   "source": [
    "confusion_matrix(y_test, y_pred)"
   ]
  },
  {
   "cell_type": "code",
   "execution_count": 45,
   "id": "289142f0",
   "metadata": {},
   "outputs": [
    {
     "name": "stdout",
     "output_type": "stream",
     "text": [
      "              precision    recall  f1-score   support\n",
      "\n",
      "           0       0.99      1.00      0.99      2824\n",
      "           1       0.78      0.62      0.69        56\n",
      "\n",
      "    accuracy                           0.99      2880\n",
      "   macro avg       0.89      0.81      0.84      2880\n",
      "weighted avg       0.99      0.99      0.99      2880\n",
      "\n"
     ]
    }
   ],
   "source": [
    "print(classification_report(y_test, y_pred))"
   ]
  },
  {
   "cell_type": "markdown",
   "id": "820e75ed",
   "metadata": {},
   "source": [
    "## Auto Encoder"
   ]
  },
  {
   "cell_type": "code",
   "execution_count": 46,
   "id": "a26a8737",
   "metadata": {},
   "outputs": [
    {
     "name": "stderr",
     "output_type": "stream",
     "text": [
      "C:\\Anaconda3\\lib\\site-packages\\pyod\\models\\base.py:410: UserWarning: y should not be presented in unsupervised learning.\n",
      "  warnings.warn(\n"
     ]
    },
    {
     "name": "stdout",
     "output_type": "stream",
     "text": [
      "Model: \"sequential_2\"\n",
      "_________________________________________________________________\n",
      " Layer (type)                Output Shape              Param #   \n",
      "=================================================================\n",
      " dense_10 (Dense)            (None, 263)               69432     \n",
      "                                                                 \n",
      " dropout_8 (Dropout)         (None, 263)               0         \n",
      "                                                                 \n",
      " dense_11 (Dense)            (None, 263)               69432     \n",
      "                                                                 \n",
      " dropout_9 (Dropout)         (None, 263)               0         \n",
      "                                                                 \n",
      " dense_12 (Dense)            (None, 128)               33792     \n",
      "                                                                 \n",
      " dropout_10 (Dropout)        (None, 128)               0         \n",
      "                                                                 \n",
      " dense_13 (Dense)            (None, 64)                8256      \n",
      "                                                                 \n",
      " dropout_11 (Dropout)        (None, 64)                0         \n",
      "                                                                 \n",
      " dense_14 (Dense)            (None, 64)                4160      \n",
      "                                                                 \n",
      " dropout_12 (Dropout)        (None, 64)                0         \n",
      "                                                                 \n",
      " dense_15 (Dense)            (None, 128)               8320      \n",
      "                                                                 \n",
      " dropout_13 (Dropout)        (None, 128)               0         \n",
      "                                                                 \n",
      " dense_16 (Dense)            (None, 263)               33927     \n",
      "                                                                 \n",
      "=================================================================\n",
      "Total params: 227,319\n",
      "Trainable params: 227,319\n",
      "Non-trainable params: 0\n",
      "_________________________________________________________________\n",
      "None\n",
      "Epoch 1/20\n",
      "635/635 [==============================] - 14s 14ms/step - loss: 33.8581 - val_loss: 7.5559\n",
      "Epoch 2/20\n",
      "635/635 [==============================] - 8s 12ms/step - loss: 24.3880 - val_loss: 4.5944\n",
      "Epoch 3/20\n",
      "635/635 [==============================] - 8s 13ms/step - loss: 18.5530 - val_loss: 3.0868\n",
      "Epoch 4/20\n",
      "635/635 [==============================] - 8s 12ms/step - loss: 14.2957 - val_loss: 2.3267\n",
      "Epoch 5/20\n",
      "635/635 [==============================] - 8s 12ms/step - loss: 11.0465 - val_loss: 1.9114\n",
      "Epoch 6/20\n",
      "635/635 [==============================] - 8s 12ms/step - loss: 8.5726 - val_loss: 1.5385\n",
      "Epoch 7/20\n",
      "635/635 [==============================] - 8s 12ms/step - loss: 6.5859 - val_loss: 1.3453\n",
      "Epoch 8/20\n",
      "635/635 [==============================] - 8s 12ms/step - loss: 5.0918 - val_loss: 1.2620\n",
      "Epoch 9/20\n",
      "635/635 [==============================] - 8s 12ms/step - loss: 3.9339 - val_loss: 1.1727\n",
      "Epoch 10/20\n",
      "635/635 [==============================] - 8s 13ms/step - loss: 3.0906 - val_loss: 1.1679\n",
      "Epoch 11/20\n",
      "635/635 [==============================] - 8s 13ms/step - loss: 2.3940 - val_loss: 1.1373\n",
      "Epoch 12/20\n",
      "635/635 [==============================] - 8s 13ms/step - loss: 1.8759 - val_loss: 1.0678\n",
      "Epoch 13/20\n",
      "635/635 [==============================] - 8s 12ms/step - loss: 1.5545 - val_loss: 1.0532\n",
      "Epoch 14/20\n",
      "635/635 [==============================] - 8s 13ms/step - loss: 1.3214 - val_loss: 1.0187\n",
      "Epoch 15/20\n",
      "635/635 [==============================] - 8s 13ms/step - loss: 1.1699 - val_loss: 1.0103\n",
      "Epoch 16/20\n",
      "635/635 [==============================] - 7s 12ms/step - loss: 1.0827 - val_loss: 0.9728\n",
      "Epoch 17/20\n",
      "635/635 [==============================] - 6s 10ms/step - loss: 1.0326 - val_loss: 0.9639\n",
      "Epoch 18/20\n",
      "635/635 [==============================] - 6s 9ms/step - loss: 1.0071 - val_loss: 0.9452\n",
      "Epoch 19/20\n",
      "635/635 [==============================] - 6s 10ms/step - loss: 0.9970 - val_loss: 0.9390\n",
      "Epoch 20/20\n",
      "635/635 [==============================] - 6s 10ms/step - loss: 0.9921 - val_loss: 0.9334\n",
      "706/706 [==============================] - 3s 3ms/step\n"
     ]
    },
    {
     "data": {
      "text/plain": [
       "AutoEncoder(batch_size=32, contamination=0.1, dropout_rate=0.2, epochs=20,\n",
       "      hidden_activation='relu', hidden_neurons=[128, 64, 64, 128],\n",
       "      l2_regularizer=0.1,\n",
       "      loss=<function mean_squared_error at 0x000001C930DA8B80>,\n",
       "      optimizer='adam', output_activation='sigmoid', preprocessing=True,\n",
       "      random_state=None, validation_size=0.1, verbose=1)"
      ]
     },
     "execution_count": 46,
     "metadata": {},
     "output_type": "execute_result"
    }
   ],
   "source": [
    "ae = auto_encoder.AutoEncoder(hidden_neurons=[128,64,64,128], epochs=20)\n",
    "ae.fit(X_res, y_res)"
   ]
  },
  {
   "cell_type": "code",
   "execution_count": 47,
   "id": "9e34584d",
   "metadata": {},
   "outputs": [
    {
     "name": "stdout",
     "output_type": "stream",
     "text": [
      "90/90 [==============================] - 0s 3ms/step\n"
     ]
    }
   ],
   "source": [
    "y_pred = ae.predict(X_test)"
   ]
  },
  {
   "cell_type": "code",
   "execution_count": 48,
   "id": "f438525d",
   "metadata": {},
   "outputs": [
    {
     "data": {
      "text/plain": [
       "array([0, 0, 0, ..., 0, 0, 1])"
      ]
     },
     "execution_count": 48,
     "metadata": {},
     "output_type": "execute_result"
    }
   ],
   "source": [
    "y_pred"
   ]
  },
  {
   "cell_type": "code",
   "execution_count": 49,
   "id": "f50eae46",
   "metadata": {},
   "outputs": [
    {
     "data": {
      "text/plain": [
       "array([[2270,  554],\n",
       "       [  54,    2]], dtype=int64)"
      ]
     },
     "execution_count": 49,
     "metadata": {},
     "output_type": "execute_result"
    }
   ],
   "source": [
    "confusion_matrix(y_test, y_pred)"
   ]
  },
  {
   "cell_type": "code",
   "execution_count": 50,
   "id": "1bf2990c",
   "metadata": {},
   "outputs": [
    {
     "name": "stdout",
     "output_type": "stream",
     "text": [
      "              precision    recall  f1-score   support\n",
      "\n",
      "           0       0.98      0.80      0.88      2824\n",
      "           1       0.00      0.04      0.01        56\n",
      "\n",
      "    accuracy                           0.79      2880\n",
      "   macro avg       0.49      0.42      0.44      2880\n",
      "weighted avg       0.96      0.79      0.86      2880\n",
      "\n"
     ]
    }
   ],
   "source": [
    "print(classification_report(y_test, y_pred))"
   ]
  },
  {
   "cell_type": "markdown",
   "id": "cd80fd9c",
   "metadata": {},
   "source": [
    "### Non-resampled"
   ]
  },
  {
   "cell_type": "code",
   "execution_count": 51,
   "id": "15c2fce8",
   "metadata": {},
   "outputs": [
    {
     "name": "stderr",
     "output_type": "stream",
     "text": [
      "C:\\Anaconda3\\lib\\site-packages\\pyod\\models\\base.py:410: UserWarning: y should not be presented in unsupervised learning.\n",
      "  warnings.warn(\n"
     ]
    },
    {
     "name": "stdout",
     "output_type": "stream",
     "text": [
      "Model: \"sequential_3\"\n",
      "_________________________________________________________________\n",
      " Layer (type)                Output Shape              Param #   \n",
      "=================================================================\n",
      " dense_17 (Dense)            (None, 263)               69432     \n",
      "                                                                 \n",
      " dropout_14 (Dropout)        (None, 263)               0         \n",
      "                                                                 \n",
      " dense_18 (Dense)            (None, 263)               69432     \n",
      "                                                                 \n",
      " dropout_15 (Dropout)        (None, 263)               0         \n",
      "                                                                 \n",
      " dense_19 (Dense)            (None, 128)               33792     \n",
      "                                                                 \n",
      " dropout_16 (Dropout)        (None, 128)               0         \n",
      "                                                                 \n",
      " dense_20 (Dense)            (None, 64)                8256      \n",
      "                                                                 \n",
      " dropout_17 (Dropout)        (None, 64)                0         \n",
      "                                                                 \n",
      " dense_21 (Dense)            (None, 64)                4160      \n",
      "                                                                 \n",
      " dropout_18 (Dropout)        (None, 64)                0         \n",
      "                                                                 \n",
      " dense_22 (Dense)            (None, 128)               8320      \n",
      "                                                                 \n",
      " dropout_19 (Dropout)        (None, 128)               0         \n",
      "                                                                 \n",
      " dense_23 (Dense)            (None, 263)               33927     \n",
      "                                                                 \n",
      "=================================================================\n",
      "Total params: 227,319\n",
      "Trainable params: 227,319\n",
      "Non-trainable params: 0\n",
      "_________________________________________________________________\n",
      "None\n",
      "Epoch 1/20\n",
      "324/324 [==============================] - 7s 11ms/step - loss: 13.2325 - val_loss: 36.6660\n",
      "Epoch 2/20\n",
      "324/324 [==============================] - 3s 8ms/step - loss: 8.8001 - val_loss: 75.2717\n",
      "Epoch 3/20\n",
      "324/324 [==============================] - 3s 9ms/step - loss: 6.3161 - val_loss: 118.0560\n",
      "Epoch 4/20\n",
      "324/324 [==============================] - 3s 9ms/step - loss: 4.8486 - val_loss: 162.8211\n",
      "Epoch 5/20\n",
      "324/324 [==============================] - 3s 9ms/step - loss: 3.8170 - val_loss: 208.4309\n",
      "Epoch 6/20\n",
      "324/324 [==============================] - 3s 9ms/step - loss: 3.0429 - val_loss: 258.1420\n",
      "Epoch 7/20\n",
      "324/324 [==============================] - 3s 9ms/step - loss: 2.4856 - val_loss: 309.3119\n",
      "Epoch 8/20\n",
      "324/324 [==============================] - 3s 9ms/step - loss: 2.0655 - val_loss: 363.9066\n",
      "Epoch 9/20\n",
      "324/324 [==============================] - 3s 10ms/step - loss: 1.7451 - val_loss: 420.4993\n",
      "Epoch 10/20\n",
      "324/324 [==============================] - 3s 9ms/step - loss: 1.5173 - val_loss: 465.5709\n",
      "Epoch 11/20\n",
      "324/324 [==============================] - 3s 9ms/step - loss: 1.3429 - val_loss: 513.0439\n",
      "Epoch 12/20\n",
      "324/324 [==============================] - 3s 10ms/step - loss: 1.2213 - val_loss: 557.7119\n",
      "Epoch 13/20\n",
      "324/324 [==============================] - 3s 9ms/step - loss: 1.1351 - val_loss: 601.8171\n",
      "Epoch 14/20\n",
      "324/324 [==============================] - 3s 9ms/step - loss: 1.0786 - val_loss: 637.3676\n",
      "Epoch 15/20\n",
      "324/324 [==============================] - 3s 9ms/step - loss: 1.0426 - val_loss: 665.7377\n",
      "Epoch 16/20\n",
      "324/324 [==============================] - 3s 10ms/step - loss: 1.0188 - val_loss: 693.5278\n",
      "Epoch 17/20\n",
      "324/324 [==============================] - 3s 10ms/step - loss: 1.0053 - val_loss: 715.6649\n",
      "Epoch 18/20\n",
      "324/324 [==============================] - 3s 10ms/step - loss: 0.9970 - val_loss: 730.5914\n",
      "Epoch 19/20\n",
      "324/324 [==============================] - 3s 10ms/step - loss: 0.9918 - val_loss: 741.8373\n",
      "Epoch 20/20\n",
      "324/324 [==============================] - 3s 9ms/step - loss: 0.9884 - val_loss: 750.2366\n",
      "360/360 [==============================] - 2s 3ms/step\n"
     ]
    },
    {
     "data": {
      "text/plain": [
       "AutoEncoder(batch_size=32, contamination=0.1, dropout_rate=0.2, epochs=20,\n",
       "      hidden_activation='relu', hidden_neurons=[128, 64, 64, 128],\n",
       "      l2_regularizer=0.1,\n",
       "      loss=<function mean_squared_error at 0x000001C930DA8B80>,\n",
       "      optimizer='adam', output_activation='sigmoid', preprocessing=True,\n",
       "      random_state=None, validation_size=0.1, verbose=1)"
      ]
     },
     "execution_count": 51,
     "metadata": {},
     "output_type": "execute_result"
    }
   ],
   "source": [
    "ae = auto_encoder.AutoEncoder(hidden_neurons=[128,64,64,128], epochs=20)\n",
    "ae.fit(X_train, y_train)"
   ]
  },
  {
   "cell_type": "code",
   "execution_count": 52,
   "id": "17e22d9e",
   "metadata": {},
   "outputs": [
    {
     "name": "stdout",
     "output_type": "stream",
     "text": [
      "90/90 [==============================] - 0s 3ms/step\n"
     ]
    }
   ],
   "source": [
    "y_pred = ae.predict(X_test)"
   ]
  },
  {
   "cell_type": "code",
   "execution_count": 53,
   "id": "89194966",
   "metadata": {},
   "outputs": [
    {
     "name": "stdout",
     "output_type": "stream",
     "text": [
      "90/90 [==============================] - 0s 4ms/step\n"
     ]
    },
    {
     "data": {
      "text/plain": [
       "array([[2545,  279],\n",
       "       [  55,    1]], dtype=int64)"
      ]
     },
     "execution_count": 53,
     "metadata": {},
     "output_type": "execute_result"
    }
   ],
   "source": [
    "confusion_matrix(y_test, ae.predict(X_test))"
   ]
  },
  {
   "cell_type": "code",
   "execution_count": 54,
   "id": "508ede49",
   "metadata": {},
   "outputs": [
    {
     "name": "stdout",
     "output_type": "stream",
     "text": [
      "              precision    recall  f1-score   support\n",
      "\n",
      "           0       0.98      0.90      0.94      2824\n",
      "           1       0.00      0.02      0.01        56\n",
      "\n",
      "    accuracy                           0.88      2880\n",
      "   macro avg       0.49      0.46      0.47      2880\n",
      "weighted avg       0.96      0.88      0.92      2880\n",
      "\n"
     ]
    }
   ],
   "source": [
    "print(classification_report(y_test, y_pred))"
   ]
  },
  {
   "cell_type": "markdown",
   "id": "ddddd510",
   "metadata": {},
   "source": [
    "## Deep SVDD"
   ]
  },
  {
   "cell_type": "code",
   "execution_count": 55,
   "id": "633cd211",
   "metadata": {},
   "outputs": [
    {
     "name": "stderr",
     "output_type": "stream",
     "text": [
      "C:\\Anaconda3\\lib\\site-packages\\pyod\\models\\base.py:410: UserWarning: y should not be presented in unsupervised learning.\n",
      "  warnings.warn(\n"
     ]
    },
    {
     "name": "stdout",
     "output_type": "stream",
     "text": [
      "706/706 [==============================] - 2s 2ms/step\n",
      "Model: \"model_2\"\n",
      "_________________________________________________________________\n",
      " Layer (type)                Output Shape              Param #   \n",
      "=================================================================\n",
      " input_2 (InputLayer)        [(None, 263)]             0         \n",
      "                                                                 \n",
      " dense_29 (Dense)            (None, 128)               33664     \n",
      "                                                                 \n",
      " dense_30 (Dense)            (None, 64)                8192      \n",
      "                                                                 \n",
      " dropout_24 (Dropout)        (None, 64)                0         \n",
      "                                                                 \n",
      " dense_31 (Dense)            (None, 32)                2048      \n",
      "                                                                 \n",
      " dropout_25 (Dropout)        (None, 32)                0         \n",
      "                                                                 \n",
      " dense_32 (Dense)            (None, 32)                1024      \n",
      "                                                                 \n",
      " dropout_26 (Dropout)        (None, 32)                0         \n",
      "                                                                 \n",
      " dense_33 (Dense)            (None, 64)                2048      \n",
      "                                                                 \n",
      " dropout_27 (Dropout)        (None, 64)                0         \n",
      "                                                                 \n",
      " net_output (Dense)          (None, 128)               8192      \n",
      "                                                                 \n",
      " tf.math.subtract_1 (TFOpLam  (None, 128)              0         \n",
      " bda)                                                            \n",
      "                                                                 \n",
      " tf.math.pow_1 (TFOpLambda)  (None, 128)               0         \n",
      "                                                                 \n",
      " tf.math.reduce_sum_1 (TFOpL  (None,)                  0         \n",
      " ambda)                                                          \n",
      "                                                                 \n",
      " tf.math.reduce_mean_1 (TFOp  ()                       0         \n",
      " Lambda)                                                         \n",
      "                                                                 \n",
      " tf.__operators__.add_1 (TFO  ()                       0         \n",
      " pLambda)                                                        \n",
      "                                                                 \n",
      " add_loss_1 (AddLoss)        ()                        0         \n",
      "                                                                 \n",
      "=================================================================\n",
      "Total params: 55,168\n",
      "Trainable params: 55,168\n",
      "Non-trainable params: 0\n",
      "_________________________________________________________________\n",
      "None\n",
      "Epoch 1/20\n",
      "635/635 [==============================] - 9s 9ms/step - loss: 19.2186 - val_loss: 4.2958\n",
      "Epoch 2/20\n",
      "635/635 [==============================] - 5s 7ms/step - loss: 17.9170 - val_loss: 3.5787\n",
      "Epoch 3/20\n",
      "635/635 [==============================] - 5s 7ms/step - loss: 15.0093 - val_loss: 2.4903\n",
      "Epoch 4/20\n",
      "635/635 [==============================] - 5s 7ms/step - loss: 12.7214 - val_loss: 2.1361\n",
      "Epoch 5/20\n",
      "635/635 [==============================] - 5s 8ms/step - loss: 11.3408 - val_loss: 1.9938\n",
      "Epoch 6/20\n",
      "635/635 [==============================] - 5s 7ms/step - loss: 10.1650 - val_loss: 1.7168\n",
      "Epoch 7/20\n",
      "635/635 [==============================] - 4s 7ms/step - loss: 8.7106 - val_loss: 1.5995\n",
      "Epoch 8/20\n",
      "635/635 [==============================] - 5s 7ms/step - loss: 7.5625 - val_loss: 1.2861\n",
      "Epoch 9/20\n",
      "635/635 [==============================] - 4s 7ms/step - loss: 6.5641 - val_loss: 1.3447\n",
      "Epoch 10/20\n",
      "635/635 [==============================] - 4s 7ms/step - loss: 5.6664 - val_loss: 1.0823\n",
      "Epoch 11/20\n",
      "635/635 [==============================] - 4s 7ms/step - loss: 5.0193 - val_loss: 1.0488\n",
      "Epoch 12/20\n",
      "635/635 [==============================] - 4s 7ms/step - loss: 4.3522 - val_loss: 0.9589\n",
      "Epoch 13/20\n",
      "635/635 [==============================] - 5s 7ms/step - loss: 3.8548 - val_loss: 0.9467\n",
      "Epoch 14/20\n",
      "635/635 [==============================] - 4s 7ms/step - loss: 3.3552 - val_loss: 0.8816\n",
      "Epoch 15/20\n",
      "635/635 [==============================] - 5s 7ms/step - loss: 2.7861 - val_loss: 0.8555\n",
      "Epoch 16/20\n",
      "635/635 [==============================] - 5s 7ms/step - loss: 2.3901 - val_loss: 0.7420\n",
      "Epoch 17/20\n",
      "635/635 [==============================] - 5s 7ms/step - loss: 2.1266 - val_loss: 0.7940\n",
      "Epoch 18/20\n",
      "635/635 [==============================] - 4s 7ms/step - loss: 1.7961 - val_loss: 0.7940\n",
      "Epoch 19/20\n",
      "635/635 [==============================] - 4s 7ms/step - loss: 1.5426 - val_loss: 0.7058\n",
      "Epoch 20/20\n",
      "635/635 [==============================] - 5s 7ms/step - loss: 1.3717 - val_loss: 0.6649\n",
      "706/706 [==============================] - 4s 4ms/step\n"
     ]
    },
    {
     "data": {
      "text/plain": [
       "DeepSVDD(batch_size=32, c=array([0.1, 0.1, ..., 0.1, 0.1], dtype=float32),\n",
       "     contamination=0.1, dropout_rate=0.2, epochs=20,\n",
       "     hidden_activation='relu', hidden_neurons=[128, 64, 32, 32, 64, 128],\n",
       "     l2_regularizer=0.1, optimizer='adam', output_activation='sigmoid',\n",
       "     preprocessing=True, random_state=None, use_ae=False,\n",
       "     validation_size=0.1, verbose=1)"
      ]
     },
     "execution_count": 55,
     "metadata": {},
     "output_type": "execute_result"
    }
   ],
   "source": [
    "svdd = deep_svdd.DeepSVDD(hidden_neurons=[128, 64, 32, 32, 64, 128], epochs=20)\n",
    "svdd.fit(X_res, y_res)"
   ]
  },
  {
   "cell_type": "code",
   "execution_count": 56,
   "id": "41e2d27f",
   "metadata": {},
   "outputs": [
    {
     "name": "stdout",
     "output_type": "stream",
     "text": [
      "90/90 [==============================] - 0s 4ms/step\n"
     ]
    }
   ],
   "source": [
    "y_pred = svdd.predict(X_test)"
   ]
  },
  {
   "cell_type": "code",
   "execution_count": 57,
   "id": "7cc15839",
   "metadata": {},
   "outputs": [
    {
     "data": {
      "text/plain": [
       "array([[2452,  372],\n",
       "       [  54,    2]], dtype=int64)"
      ]
     },
     "execution_count": 57,
     "metadata": {},
     "output_type": "execute_result"
    }
   ],
   "source": [
    "confusion_matrix(y_test, y_pred)"
   ]
  },
  {
   "cell_type": "code",
   "execution_count": 58,
   "id": "456c2360",
   "metadata": {},
   "outputs": [
    {
     "name": "stdout",
     "output_type": "stream",
     "text": [
      "              precision    recall  f1-score   support\n",
      "\n",
      "           0       0.98      0.87      0.92      2824\n",
      "           1       0.01      0.04      0.01        56\n",
      "\n",
      "    accuracy                           0.85      2880\n",
      "   macro avg       0.49      0.45      0.46      2880\n",
      "weighted avg       0.96      0.85      0.90      2880\n",
      "\n"
     ]
    }
   ],
   "source": [
    "print(classification_report(y_test, y_pred))"
   ]
  },
  {
   "cell_type": "markdown",
   "id": "782ffe6f",
   "metadata": {},
   "source": [
    "### Non-resampled"
   ]
  },
  {
   "cell_type": "code",
   "execution_count": 59,
   "id": "21383555",
   "metadata": {},
   "outputs": [
    {
     "name": "stderr",
     "output_type": "stream",
     "text": [
      "C:\\Anaconda3\\lib\\site-packages\\pyod\\models\\base.py:410: UserWarning: y should not be presented in unsupervised learning.\n",
      "  warnings.warn(\n"
     ]
    },
    {
     "name": "stdout",
     "output_type": "stream",
     "text": [
      "360/360 [==============================] - 2s 4ms/step\n",
      "Model: \"model_5\"\n",
      "_________________________________________________________________\n",
      " Layer (type)                Output Shape              Param #   \n",
      "=================================================================\n",
      " input_4 (InputLayer)        [(None, 263)]             0         \n",
      "                                                                 \n",
      " dense_39 (Dense)            (None, 128)               33664     \n",
      "                                                                 \n",
      " dense_40 (Dense)            (None, 64)                8192      \n",
      "                                                                 \n",
      " dropout_32 (Dropout)        (None, 64)                0         \n",
      "                                                                 \n",
      " dense_41 (Dense)            (None, 32)                2048      \n",
      "                                                                 \n",
      " dropout_33 (Dropout)        (None, 32)                0         \n",
      "                                                                 \n",
      " dense_42 (Dense)            (None, 32)                1024      \n",
      "                                                                 \n",
      " dropout_34 (Dropout)        (None, 32)                0         \n",
      "                                                                 \n",
      " dense_43 (Dense)            (None, 64)                2048      \n",
      "                                                                 \n",
      " dropout_35 (Dropout)        (None, 64)                0         \n",
      "                                                                 \n",
      " net_output (Dense)          (None, 128)               8192      \n",
      "                                                                 \n",
      " tf.math.subtract_3 (TFOpLam  (None, 128)              0         \n",
      " bda)                                                            \n",
      "                                                                 \n",
      " tf.math.pow_3 (TFOpLambda)  (None, 128)               0         \n",
      "                                                                 \n",
      " tf.math.reduce_sum_3 (TFOpL  (None,)                  0         \n",
      " ambda)                                                          \n",
      "                                                                 \n",
      " tf.math.reduce_mean_3 (TFOp  ()                       0         \n",
      " Lambda)                                                         \n",
      "                                                                 \n",
      " tf.__operators__.add_3 (TFO  ()                       0         \n",
      " pLambda)                                                        \n",
      "                                                                 \n",
      " add_loss_3 (AddLoss)        ()                        0         \n",
      "                                                                 \n",
      "=================================================================\n",
      "Total params: 55,168\n",
      "Trainable params: 55,168\n",
      "Non-trainable params: 0\n",
      "_________________________________________________________________\n",
      "None\n",
      "Epoch 1/20\n",
      "324/324 [==============================] - 7s 10ms/step - loss: 9.0115 - val_loss: 9.5120\n",
      "Epoch 2/20\n",
      "324/324 [==============================] - 3s 8ms/step - loss: 7.6961 - val_loss: 22.9742\n",
      "Epoch 3/20\n",
      "324/324 [==============================] - 2s 8ms/step - loss: 6.1243 - val_loss: 42.4795\n",
      "Epoch 4/20\n",
      "324/324 [==============================] - 2s 7ms/step - loss: 5.1351 - val_loss: 70.1199\n",
      "Epoch 5/20\n",
      "324/324 [==============================] - 2s 7ms/step - loss: 4.6605 - val_loss: 97.1613\n",
      "Epoch 6/20\n",
      "324/324 [==============================] - 2s 7ms/step - loss: 3.7626 - val_loss: 131.6604\n",
      "Epoch 7/20\n",
      "324/324 [==============================] - 2s 7ms/step - loss: 3.2745 - val_loss: 172.4599\n",
      "Epoch 8/20\n",
      "324/324 [==============================] - 2s 7ms/step - loss: 2.8449 - val_loss: 217.9930\n",
      "Epoch 9/20\n",
      "324/324 [==============================] - 2s 7ms/step - loss: 2.4424 - val_loss: 269.2988\n",
      "Epoch 10/20\n",
      "324/324 [==============================] - 2s 7ms/step - loss: 2.1280 - val_loss: 326.6895\n",
      "Epoch 11/20\n",
      "324/324 [==============================] - 2s 7ms/step - loss: 1.8367 - val_loss: 385.9204\n",
      "Epoch 12/20\n",
      "324/324 [==============================] - 2s 7ms/step - loss: 1.6001 - val_loss: 450.6764\n",
      "Epoch 13/20\n",
      "324/324 [==============================] - 2s 7ms/step - loss: 1.3858 - val_loss: 620.8636\n",
      "Epoch 14/20\n",
      "324/324 [==============================] - 2s 7ms/step - loss: 1.2968 - val_loss: 593.2028\n",
      "Epoch 15/20\n",
      "324/324 [==============================] - 2s 7ms/step - loss: 1.0998 - val_loss: 670.2864\n",
      "Epoch 16/20\n",
      "324/324 [==============================] - 2s 7ms/step - loss: 0.9673 - val_loss: 749.5118\n",
      "Epoch 17/20\n",
      "324/324 [==============================] - 2s 7ms/step - loss: 0.8724 - val_loss: 891.4252\n",
      "Epoch 18/20\n",
      "324/324 [==============================] - 2s 7ms/step - loss: 0.7857 - val_loss: 944.9509\n",
      "Epoch 19/20\n",
      "324/324 [==============================] - 2s 7ms/step - loss: 0.7241 - val_loss: 1102.5052\n",
      "Epoch 20/20\n",
      "324/324 [==============================] - 2s 7ms/step - loss: 0.6502 - val_loss: 1108.7646\n",
      "360/360 [==============================] - 2s 4ms/step\n"
     ]
    },
    {
     "data": {
      "text/plain": [
       "DeepSVDD(batch_size=32, c=array([0.1, 0.1, ..., 0.1, 0.1], dtype=float32),\n",
       "     contamination=0.1, dropout_rate=0.2, epochs=20,\n",
       "     hidden_activation='relu', hidden_neurons=[128, 64, 32, 32, 64, 128],\n",
       "     l2_regularizer=0.1, optimizer='adam', output_activation='sigmoid',\n",
       "     preprocessing=True, random_state=None, use_ae=False,\n",
       "     validation_size=0.1, verbose=1)"
      ]
     },
     "execution_count": 59,
     "metadata": {},
     "output_type": "execute_result"
    }
   ],
   "source": [
    "svdd = deep_svdd.DeepSVDD(hidden_neurons=[128, 64, 32, 32, 64, 128], epochs=20)\n",
    "svdd.fit(X_train, y_train)"
   ]
  },
  {
   "cell_type": "code",
   "execution_count": 60,
   "id": "d3ca49ba",
   "metadata": {},
   "outputs": [
    {
     "name": "stdout",
     "output_type": "stream",
     "text": [
      "90/90 [==============================] - 0s 4ms/step\n"
     ]
    }
   ],
   "source": [
    "y_pred = svdd.predict(X_test)"
   ]
  },
  {
   "cell_type": "code",
   "execution_count": 61,
   "id": "8ff3db53",
   "metadata": {},
   "outputs": [
    {
     "data": {
      "text/plain": [
       "array([[2542,  282],\n",
       "       [  50,    6]], dtype=int64)"
      ]
     },
     "execution_count": 61,
     "metadata": {},
     "output_type": "execute_result"
    }
   ],
   "source": [
    "confusion_matrix(y_test, y_pred)"
   ]
  },
  {
   "cell_type": "code",
   "execution_count": 62,
   "id": "2eb0b7a9",
   "metadata": {},
   "outputs": [
    {
     "name": "stdout",
     "output_type": "stream",
     "text": [
      "              precision    recall  f1-score   support\n",
      "\n",
      "           0       0.98      0.90      0.94      2824\n",
      "           1       0.02      0.11      0.03        56\n",
      "\n",
      "    accuracy                           0.88      2880\n",
      "   macro avg       0.50      0.50      0.49      2880\n",
      "weighted avg       0.96      0.88      0.92      2880\n",
      "\n"
     ]
    }
   ],
   "source": [
    "print(classification_report(y_test, y_pred))"
   ]
  },
  {
   "cell_type": "markdown",
   "id": "c2fac389",
   "metadata": {},
   "source": [
    "## CNN"
   ]
  },
  {
   "cell_type": "code",
   "execution_count": 85,
   "id": "d5c6ab57",
   "metadata": {},
   "outputs": [],
   "source": [
    "X_res, y_res = sme.fit_resample(X_train, y_train)"
   ]
  },
  {
   "cell_type": "code",
   "execution_count": 86,
   "id": "45b962b8",
   "metadata": {},
   "outputs": [],
   "source": [
    "cnn_model = Sequential()\n",
    "cnn_model.add(Conv1D(32, 3, activation='relu', input_shape=(X_res.shape[1], 1)))\n",
    "cnn_model.add(MaxPooling1D(pool_size=2, strides=3))\n",
    "cnn_model.add(Flatten())\n",
    "cnn_model.add(Dense(128, activation='relu'))\n",
    "cnn_model.add(Dropout(0.2))\n",
    "cnn_model.add(Dense(64, activation='relu'))\n",
    "cnn_model.add(Dropout(0.2))\n",
    "cnn_model.add(Dense(64, activation='relu'))\n",
    "cnn_model.add(Dropout(0.2))\n",
    "cnn_model.add(Dense(32, activation='relu'))\n",
    "cnn_model.add(Dropout(0.2))\n",
    "cnn_model.add(Dense(1, activation='sigmoid'))\n",
    "cnn_model.compile(loss='binary_crossentropy', optimizer='adam', metrics=['accuracy'])"
   ]
  },
  {
   "cell_type": "code",
   "execution_count": 87,
   "id": "2bb75c36",
   "metadata": {},
   "outputs": [
    {
     "name": "stdout",
     "output_type": "stream",
     "text": [
      "Epoch 1/25\n",
      "706/706 [==============================] - 16s 17ms/step - loss: 0.3623 - accuracy: 0.8313\n",
      "Epoch 2/25\n",
      "706/706 [==============================] - 12s 17ms/step - loss: 0.1561 - accuracy: 0.9392\n",
      "Epoch 3/25\n",
      "706/706 [==============================] - 13s 19ms/step - loss: 0.1218 - accuracy: 0.9555\n",
      "Epoch 4/25\n",
      "706/706 [==============================] - 11s 16ms/step - loss: 0.0966 - accuracy: 0.9646\n",
      "Epoch 5/25\n",
      "706/706 [==============================] - 10s 14ms/step - loss: 0.0823 - accuracy: 0.9717\n",
      "Epoch 6/25\n",
      "706/706 [==============================] - 10s 15ms/step - loss: 0.0595 - accuracy: 0.9787\n",
      "Epoch 7/25\n",
      "706/706 [==============================] - 12s 17ms/step - loss: 0.0535 - accuracy: 0.9809\n",
      "Epoch 8/25\n",
      "706/706 [==============================] - 14s 20ms/step - loss: 0.0471 - accuracy: 0.9844\n",
      "Epoch 9/25\n",
      "706/706 [==============================] - 13s 19ms/step - loss: 0.0461 - accuracy: 0.9842\n",
      "Epoch 10/25\n",
      "706/706 [==============================] - 12s 17ms/step - loss: 0.0395 - accuracy: 0.9867\n",
      "Epoch 11/25\n",
      "706/706 [==============================] - 14s 19ms/step - loss: 0.0371 - accuracy: 0.9878\n",
      "Epoch 12/25\n",
      "706/706 [==============================] - 10s 15ms/step - loss: 0.0357 - accuracy: 0.9876\n",
      "Epoch 13/25\n",
      "706/706 [==============================] - 10s 14ms/step - loss: 0.0316 - accuracy: 0.9891\n",
      "Epoch 14/25\n",
      "706/706 [==============================] - 12s 17ms/step - loss: 0.0325 - accuracy: 0.9880\n",
      "Epoch 15/25\n",
      "706/706 [==============================] - 11s 16ms/step - loss: 0.0271 - accuracy: 0.9906\n",
      "Epoch 16/25\n",
      "706/706 [==============================] - 12s 17ms/step - loss: 0.0306 - accuracy: 0.9895\n",
      "Epoch 17/25\n",
      "706/706 [==============================] - 11s 16ms/step - loss: 0.0254 - accuracy: 0.9916\n",
      "Epoch 18/25\n",
      "706/706 [==============================] - 10s 14ms/step - loss: 0.0249 - accuracy: 0.9911\n",
      "Epoch 19/25\n",
      "706/706 [==============================] - 14s 19ms/step - loss: 0.0235 - accuracy: 0.9927\n",
      "Epoch 20/25\n",
      "706/706 [==============================] - 16s 23ms/step - loss: 0.0233 - accuracy: 0.9920\n",
      "Epoch 21/25\n",
      "706/706 [==============================] - 18s 25ms/step - loss: 0.0235 - accuracy: 0.9924\n",
      "Epoch 22/25\n",
      "706/706 [==============================] - 18s 25ms/step - loss: 0.0189 - accuracy: 0.9938\n",
      "Epoch 23/25\n",
      "706/706 [==============================] - 16s 22ms/step - loss: 0.0190 - accuracy: 0.9930\n",
      "Epoch 24/25\n",
      "706/706 [==============================] - 14s 20ms/step - loss: 0.0190 - accuracy: 0.9934\n",
      "Epoch 25/25\n",
      "706/706 [==============================] - 16s 23ms/step - loss: 0.0189 - accuracy: 0.9936\n"
     ]
    },
    {
     "data": {
      "text/plain": [
       "<keras.callbacks.History at 0x1c922d33e50>"
      ]
     },
     "execution_count": 87,
     "metadata": {},
     "output_type": "execute_result"
    }
   ],
   "source": [
    "cnn_model.fit(X_res, y_res, epochs=25)"
   ]
  },
  {
   "cell_type": "code",
   "execution_count": 88,
   "id": "1413e586",
   "metadata": {},
   "outputs": [
    {
     "name": "stdout",
     "output_type": "stream",
     "text": [
      "706/706 [==============================] - 9s 10ms/step - loss: 0.0014 - accuracy: 0.9996\n",
      "[0.0013724863529205322, 0.9996013641357422]\n"
     ]
    }
   ],
   "source": [
    "train_score = cnn_model.evaluate(X_res, y_res)\n",
    "print(train_score)"
   ]
  },
  {
   "cell_type": "code",
   "execution_count": 89,
   "id": "7e4b42b0",
   "metadata": {},
   "outputs": [
    {
     "name": "stdout",
     "output_type": "stream",
     "text": [
      "90/90 [==============================] - 2s 10ms/step\n"
     ]
    }
   ],
   "source": [
    "pred = cnn_model.predict(X_test)"
   ]
  },
  {
   "cell_type": "code",
   "execution_count": 90,
   "id": "f3facbfd",
   "metadata": {},
   "outputs": [],
   "source": [
    "y_pred = np.where(pred < 0.5, 0, 1)"
   ]
  },
  {
   "cell_type": "code",
   "execution_count": 91,
   "id": "b34ca15d",
   "metadata": {},
   "outputs": [
    {
     "data": {
      "text/plain": [
       "array([[2809,   15],\n",
       "       [  17,   39]], dtype=int64)"
      ]
     },
     "execution_count": 91,
     "metadata": {},
     "output_type": "execute_result"
    }
   ],
   "source": [
    "confusion_matrix(y_test, y_pred)"
   ]
  },
  {
   "cell_type": "code",
   "execution_count": 92,
   "id": "ad665a38",
   "metadata": {},
   "outputs": [
    {
     "name": "stdout",
     "output_type": "stream",
     "text": [
      "              precision    recall  f1-score   support\n",
      "\n",
      "           0       0.99      0.99      0.99      2824\n",
      "           1       0.72      0.70      0.71        56\n",
      "\n",
      "    accuracy                           0.99      2880\n",
      "   macro avg       0.86      0.85      0.85      2880\n",
      "weighted avg       0.99      0.99      0.99      2880\n",
      "\n"
     ]
    }
   ],
   "source": [
    "print(classification_report(y_test, y_pred))"
   ]
  },
  {
   "cell_type": "code",
   "execution_count": null,
   "id": "0b7a6e9b",
   "metadata": {},
   "outputs": [],
   "source": []
  }
 ],
 "metadata": {
  "kernelspec": {
   "display_name": "Python 3 (ipykernel)",
   "language": "python",
   "name": "python3"
  },
  "language_info": {
   "codemirror_mode": {
    "name": "ipython",
    "version": 3
   },
   "file_extension": ".py",
   "mimetype": "text/x-python",
   "name": "python",
   "nbconvert_exporter": "python",
   "pygments_lexer": "ipython3",
   "version": "3.9.12"
  }
 },
 "nbformat": 4,
 "nbformat_minor": 5
}
