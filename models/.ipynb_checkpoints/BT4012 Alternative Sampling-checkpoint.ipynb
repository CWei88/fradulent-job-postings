{
 "cells": [
  {
   "cell_type": "code",
   "execution_count": 1,
   "id": "c69ece4b",
   "metadata": {},
   "outputs": [],
   "source": [
    "import pandas as pd\n",
    "import numpy as np\n",
    "from matplotlib import pyplot as plt\n",
    "import seaborn as sns\n",
    "\n",
    "from imblearn.combine import SMOTEENN\n",
    "from imblearn.under_sampling import EditedNearestNeighbours\n",
    "from imblearn.over_sampling import RandomOverSampler, ADASYN\n",
    "\n",
    "import keras\n",
    "import tensorflow\n",
    "from keras import layers\n",
    "from keras import metrics\n",
    "from keras.models import Sequential\n",
    "from keras.layers import Dense, Activation, Dropout, Flatten, Embedding, Conv1D, MaxPooling1D, Reshape\n",
    "from keras.preprocessing import sequence\n",
    "from keras.utils import pad_sequences\n",
    "\n",
    "from sklearn.model_selection import train_test_split\n",
    "from sklearn.preprocessing import StandardScaler, LabelEncoder\n",
    "from sklearn.linear_model import LogisticRegression\n",
    "from sklearn.metrics import classification_report, confusion_matrix, plot_confusion_matrix, f1_score, precision_score, recall_score, accuracy_score"
   ]
  },
  {
   "cell_type": "code",
   "execution_count": 2,
   "id": "929c390f",
   "metadata": {},
   "outputs": [],
   "source": [
    "X_train = pd.read_csv('train_data_imputed_final.csv')\n",
    "X_test = pd.read_csv('test_data_imputed_final.csv')\n",
    "y_train = pd.read_csv('y_train_final.csv')\n",
    "y_test = pd.read_csv('y_test_final.csv')"
   ]
  },
  {
   "cell_type": "code",
   "execution_count": 3,
   "id": "35302292",
   "metadata": {},
   "outputs": [
    {
     "name": "stdout",
     "output_type": "stream",
     "text": [
      "(11516, 263)\n",
      "(11516, 2)\n",
      "(2880, 263)\n",
      "(2880, 2)\n"
     ]
    }
   ],
   "source": [
    "print(X_train.shape)\n",
    "print(y_train.shape)\n",
    "print(X_test.shape)\n",
    "print(y_test.shape)"
   ]
  },
  {
   "cell_type": "code",
   "execution_count": 4,
   "id": "9480abe1",
   "metadata": {},
   "outputs": [],
   "source": [
    "y_train = y_train.drop(columns=['Unnamed: 0'])\n",
    "y_test = y_test.drop(columns=['Unnamed: 0'])"
   ]
  },
  {
   "cell_type": "markdown",
   "id": "a1afddd8",
   "metadata": {},
   "source": [
    "## Random Oversampler"
   ]
  },
  {
   "cell_type": "code",
   "execution_count": 5,
   "id": "b32d338b",
   "metadata": {},
   "outputs": [],
   "source": [
    "ros = RandomOverSampler(sampling_strategy = 1, random_state=42)"
   ]
  },
  {
   "cell_type": "code",
   "execution_count": 6,
   "id": "ba971041",
   "metadata": {},
   "outputs": [],
   "source": [
    "X_res, y_res = ros.fit_resample(X_train, y_train)"
   ]
  },
  {
   "cell_type": "code",
   "execution_count": 7,
   "id": "e40c863b",
   "metadata": {},
   "outputs": [
    {
     "data": {
      "text/plain": [
       "fraudulent\n",
       "0             11293\n",
       "1             11293\n",
       "dtype: int64"
      ]
     },
     "execution_count": 7,
     "metadata": {},
     "output_type": "execute_result"
    }
   ],
   "source": [
    "y_res.value_counts()"
   ]
  },
  {
   "cell_type": "code",
   "execution_count": 8,
   "id": "5ddcf820",
   "metadata": {},
   "outputs": [
    {
     "data": {
      "text/plain": [
       "22586"
      ]
     },
     "execution_count": 8,
     "metadata": {},
     "output_type": "execute_result"
    }
   ],
   "source": [
    "len(X_res)"
   ]
  },
  {
   "cell_type": "markdown",
   "id": "d14a30fb",
   "metadata": {},
   "source": [
    "### Normal NN"
   ]
  },
  {
   "cell_type": "code",
   "execution_count": 35,
   "id": "07513fbe",
   "metadata": {},
   "outputs": [],
   "source": [
    "### Model building\n",
    "model = Sequential()\n",
    "model.add(Dense(256, activation='relu'))\n",
    "model.add(Dropout(0.2))\n",
    "model.add(Dense(128, activation='relu'))\n",
    "model.add(Dropout(0.2))\n",
    "model.add(Dense(64, activation='relu'))\n",
    "model.add(Dropout(0.2))\n",
    "model.add(Dense(32, activation='relu'))\n",
    "model.add(Dropout(0.2))\n",
    "model.add(Dense(1, activation='sigmoid'))\n",
    "model.compile(loss='binary_crossentropy', optimizer='adam', metrics=['accuracy',metrics.Precision(), metrics.Recall(),metrics.AUC()])"
   ]
  },
  {
   "cell_type": "code",
   "execution_count": 36,
   "id": "94d96c8f",
   "metadata": {},
   "outputs": [
    {
     "name": "stdout",
     "output_type": "stream",
     "text": [
      "Epoch 1/25\n",
      "706/706 [==============================] - 16s 11ms/step - loss: 0.5341 - accuracy: 0.7109 - precision_3: 0.7112 - recall_3: 0.7101 - auc_2: 0.8027\n",
      "Epoch 2/25\n",
      "706/706 [==============================] - 7s 10ms/step - loss: 0.1798 - accuracy: 0.9359 - precision_3: 0.9173 - recall_3: 0.9582 - auc_2: 0.9770\n",
      "Epoch 3/25\n",
      "706/706 [==============================] - 6s 8ms/step - loss: 0.0961 - accuracy: 0.9678 - precision_3: 0.9542 - recall_3: 0.9827 - auc_2: 0.9914\n",
      "Epoch 4/25\n",
      "706/706 [==============================] - 5s 8ms/step - loss: 0.0654 - accuracy: 0.9785 - precision_3: 0.9711 - recall_3: 0.9863 - auc_2: 0.9957\n",
      "Epoch 5/25\n",
      "706/706 [==============================] - 4s 6ms/step - loss: 0.0471 - accuracy: 0.9850 - precision_3: 0.9793 - recall_3: 0.9910 - auc_2: 0.9975\n",
      "Epoch 6/25\n",
      "706/706 [==============================] - 4s 6ms/step - loss: 0.0350 - accuracy: 0.9888 - precision_3: 0.9854 - recall_3: 0.9924 - auc_2: 0.9986\n",
      "Epoch 7/25\n",
      "706/706 [==============================] - 4s 6ms/step - loss: 0.0256 - accuracy: 0.9917 - precision_3: 0.9893 - recall_3: 0.9941 - auc_2: 0.9991\n",
      "Epoch 8/25\n",
      "706/706 [==============================] - 4s 6ms/step - loss: 0.0279 - accuracy: 0.9911 - precision_3: 0.9885 - recall_3: 0.9937 - auc_2: 0.9989\n",
      "Epoch 9/25\n",
      "706/706 [==============================] - 4s 6ms/step - loss: 0.0226 - accuracy: 0.9929 - precision_3: 0.9907 - recall_3: 0.9951 - auc_2: 0.9993\n",
      "Epoch 10/25\n",
      "706/706 [==============================] - 4s 6ms/step - loss: 0.0256 - accuracy: 0.9913 - precision_3: 0.9881 - recall_3: 0.9945 - auc_2: 0.9990\n",
      "Epoch 11/25\n",
      "706/706 [==============================] - 4s 5ms/step - loss: 0.0198 - accuracy: 0.9938 - precision_3: 0.9924 - recall_3: 0.9951 - auc_2: 0.9993\n",
      "Epoch 12/25\n",
      "706/706 [==============================] - 4s 5ms/step - loss: 0.0250 - accuracy: 0.9916 - precision_3: 0.9904 - recall_3: 0.9928 - auc_2: 0.9990\n",
      "Epoch 13/25\n",
      "706/706 [==============================] - 4s 5ms/step - loss: 0.0133 - accuracy: 0.9954 - precision_3: 0.9942 - recall_3: 0.9965 - auc_2: 0.9997\n",
      "Epoch 14/25\n",
      "706/706 [==============================] - 4s 5ms/step - loss: 0.0154 - accuracy: 0.9949 - precision_3: 0.9936 - recall_3: 0.9962 - auc_2: 0.9995\n",
      "Epoch 15/25\n",
      "706/706 [==============================] - 4s 5ms/step - loss: 0.0123 - accuracy: 0.9960 - precision_3: 0.9951 - recall_3: 0.9970 - auc_2: 0.9996\n",
      "Epoch 16/25\n",
      "706/706 [==============================] - 4s 5ms/step - loss: 0.0134 - accuracy: 0.9949 - precision_3: 0.9935 - recall_3: 0.9963 - auc_2: 0.9997\n",
      "Epoch 17/25\n",
      "706/706 [==============================] - 4s 6ms/step - loss: 0.0143 - accuracy: 0.9954 - precision_3: 0.9944 - recall_3: 0.9963 - auc_2: 0.9993\n",
      "Epoch 18/25\n",
      "706/706 [==============================] - 4s 5ms/step - loss: 0.0113 - accuracy: 0.9960 - precision_3: 0.9955 - recall_3: 0.9965 - auc_2: 0.9997\n",
      "Epoch 19/25\n",
      "706/706 [==============================] - 4s 6ms/step - loss: 0.0135 - accuracy: 0.9957 - precision_3: 0.9958 - recall_3: 0.9957 - auc_2: 0.9995\n",
      "Epoch 20/25\n",
      "706/706 [==============================] - 4s 6ms/step - loss: 0.0105 - accuracy: 0.9970 - precision_3: 0.9964 - recall_3: 0.9976 - auc_2: 0.9995\n",
      "Epoch 21/25\n",
      "706/706 [==============================] - 5s 7ms/step - loss: 0.0117 - accuracy: 0.9961 - precision_3: 0.9958 - recall_3: 0.9965 - auc_2: 0.9997\n",
      "Epoch 22/25\n",
      "706/706 [==============================] - 5s 7ms/step - loss: 0.0166 - accuracy: 0.9940 - precision_3: 0.9937 - recall_3: 0.9942 - auc_2: 0.9995\n",
      "Epoch 23/25\n",
      "706/706 [==============================] - 4s 6ms/step - loss: 0.0075 - accuracy: 0.9975 - precision_3: 0.9968 - recall_3: 0.9982 - auc_2: 0.9998\n",
      "Epoch 24/25\n",
      "706/706 [==============================] - 4s 6ms/step - loss: 0.0096 - accuracy: 0.9971 - precision_3: 0.9968 - recall_3: 0.9974 - auc_2: 0.9997\n",
      "Epoch 25/25\n",
      "706/706 [==============================] - 4s 6ms/step - loss: 0.0145 - accuracy: 0.9953 - precision_3: 0.9946 - recall_3: 0.9960 - auc_2: 0.9996\n"
     ]
    },
    {
     "data": {
      "text/plain": [
       "<keras.callbacks.History at 0x1e40de0ceb0>"
      ]
     },
     "execution_count": 36,
     "metadata": {},
     "output_type": "execute_result"
    }
   ],
   "source": [
    "model.fit(X_res, y_res, epochs=25)"
   ]
  },
  {
   "cell_type": "code",
   "execution_count": 37,
   "id": "62325dc4",
   "metadata": {},
   "outputs": [
    {
     "name": "stdout",
     "output_type": "stream",
     "text": [
      "Model: \"sequential_3\"\n",
      "_________________________________________________________________\n",
      " Layer (type)                Output Shape              Param #   \n",
      "=================================================================\n",
      " dense_15 (Dense)            (None, 256)               67584     \n",
      "                                                                 \n",
      " dropout_12 (Dropout)        (None, 256)               0         \n",
      "                                                                 \n",
      " dense_16 (Dense)            (None, 128)               32896     \n",
      "                                                                 \n",
      " dropout_13 (Dropout)        (None, 128)               0         \n",
      "                                                                 \n",
      " dense_17 (Dense)            (None, 64)                8256      \n",
      "                                                                 \n",
      " dropout_14 (Dropout)        (None, 64)                0         \n",
      "                                                                 \n",
      " dense_18 (Dense)            (None, 32)                2080      \n",
      "                                                                 \n",
      " dropout_15 (Dropout)        (None, 32)                0         \n",
      "                                                                 \n",
      " dense_19 (Dense)            (None, 1)                 33        \n",
      "                                                                 \n",
      "=================================================================\n",
      "Total params: 110,849\n",
      "Trainable params: 110,849\n",
      "Non-trainable params: 0\n",
      "_________________________________________________________________\n"
     ]
    }
   ],
   "source": [
    "model.summary()"
   ]
  },
  {
   "cell_type": "code",
   "execution_count": 38,
   "id": "747b51a0",
   "metadata": {},
   "outputs": [
    {
     "name": "stdout",
     "output_type": "stream",
     "text": [
      "706/706 [==============================] - 3s 3ms/step - loss: 0.0070 - accuracy: 0.9995 - precision_3: 0.9990 - recall_3: 1.0000 - auc_2: 1.0000\n",
      "[0.006984109058976173, 0.9995129704475403, 0.999026894569397, 1.0, 0.9999933242797852]\n"
     ]
    }
   ],
   "source": [
    "train_score = model.evaluate(X_res, y_res)\n",
    "print(train_score)"
   ]
  },
  {
   "cell_type": "code",
   "execution_count": 45,
   "id": "ca133b8b",
   "metadata": {},
   "outputs": [
    {
     "name": "stdout",
     "output_type": "stream",
     "text": [
      "360/360 [==============================] - 1s 3ms/step\n"
     ]
    }
   ],
   "source": [
    "y_tr_pred = model.predict(X_train)"
   ]
  },
  {
   "cell_type": "code",
   "execution_count": 46,
   "id": "87a153be",
   "metadata": {},
   "outputs": [],
   "source": [
    "y_t_pred = np.where(y_tr_pred < 0.5, 0, 1)"
   ]
  },
  {
   "cell_type": "code",
   "execution_count": 47,
   "id": "d70b6974",
   "metadata": {},
   "outputs": [
    {
     "name": "stdout",
     "output_type": "stream",
     "text": [
      "0.9759299781181618\n"
     ]
    }
   ],
   "source": [
    "print(f1_score(y_train, y_t_pred))"
   ]
  },
  {
   "cell_type": "code",
   "execution_count": 39,
   "id": "d3441962",
   "metadata": {
    "scrolled": true
   },
   "outputs": [
    {
     "name": "stdout",
     "output_type": "stream",
     "text": [
      "90/90 [==============================] - 0s 3ms/step\n"
     ]
    }
   ],
   "source": [
    "pred = model.predict(X_test)"
   ]
  },
  {
   "cell_type": "code",
   "execution_count": 40,
   "id": "444b8742",
   "metadata": {},
   "outputs": [],
   "source": [
    "y_pred = np.where(pred < 0.5, 0, 1)"
   ]
  },
  {
   "cell_type": "code",
   "execution_count": 41,
   "id": "a26e4755",
   "metadata": {},
   "outputs": [
    {
     "data": {
      "text/plain": [
       "Index(['fraudulent'], dtype='object')"
      ]
     },
     "execution_count": 41,
     "metadata": {},
     "output_type": "execute_result"
    }
   ],
   "source": [
    "y_train.columns"
   ]
  },
  {
   "cell_type": "code",
   "execution_count": 42,
   "id": "39939abe",
   "metadata": {},
   "outputs": [
    {
     "data": {
      "text/plain": [
       "array([[2815,    9],\n",
       "       [  15,   41]], dtype=int64)"
      ]
     },
     "execution_count": 42,
     "metadata": {},
     "output_type": "execute_result"
    }
   ],
   "source": [
    "confusion_matrix(y_test, y_pred)"
   ]
  },
  {
   "cell_type": "code",
   "execution_count": 43,
   "id": "ee408013",
   "metadata": {},
   "outputs": [
    {
     "name": "stdout",
     "output_type": "stream",
     "text": [
      "              precision    recall  f1-score   support\n",
      "\n",
      "           0       0.99      1.00      1.00      2824\n",
      "           1       0.82      0.73      0.77        56\n",
      "\n",
      "    accuracy                           0.99      2880\n",
      "   macro avg       0.91      0.86      0.88      2880\n",
      "weighted avg       0.99      0.99      0.99      2880\n",
      "\n"
     ]
    }
   ],
   "source": [
    "print(classification_report(y_test, y_pred))"
   ]
  },
  {
   "cell_type": "code",
   "execution_count": 44,
   "id": "7d4c9a52",
   "metadata": {},
   "outputs": [
    {
     "name": "stdout",
     "output_type": "stream",
     "text": [
      "0.9916666666666667\n",
      "0.82\n",
      "0.7321428571428571\n",
      "0.7735849056603773\n"
     ]
    }
   ],
   "source": [
    "print(accuracy_score(y_test, y_pred))\n",
    "print(precision_score(y_test, y_pred))\n",
    "print(recall_score(y_test, y_pred))\n",
    "print(f1_score(y_test, y_pred))"
   ]
  },
  {
   "cell_type": "markdown",
   "id": "dccaf567",
   "metadata": {},
   "source": [
    "### CNN"
   ]
  },
  {
   "cell_type": "code",
   "execution_count": 38,
   "id": "ab35e2c2",
   "metadata": {},
   "outputs": [],
   "source": [
    "cnn_model = Sequential()\n",
    "cnn_model.add(Conv1D(32, 3, activation='relu', input_shape=(X_res.shape[1], 1)))\n",
    "cnn_model.add(MaxPooling1D(pool_size=2, strides=3))\n",
    "cnn_model.add(Flatten())\n",
    "cnn_model.add(Dense(256, activation='relu'))\n",
    "cnn_model.add(Dropout(0.2))\n",
    "cnn_model.add(Dense(128, activation='relu'))\n",
    "cnn_model.add(Dropout(0.2))\n",
    "cnn_model.add(Dense(64, activation='relu'))\n",
    "cnn_model.add(Dropout(0.2))\n",
    "cnn_model.add(Dense(32, activation='relu'))\n",
    "cnn_model.add(Dropout(0.2))\n",
    "cnn_model.add(Dense(1, activation='sigmoid'))\n",
    "cnn_model.compile(loss='binary_crossentropy', optimizer='adam', metrics=['accuracy'])"
   ]
  },
  {
   "cell_type": "code",
   "execution_count": 39,
   "id": "082d7968",
   "metadata": {},
   "outputs": [
    {
     "name": "stdout",
     "output_type": "stream",
     "text": [
      "Model: \"sequential_3\"\n",
      "_________________________________________________________________\n",
      " Layer (type)                Output Shape              Param #   \n",
      "=================================================================\n",
      " conv1d_1 (Conv1D)           (None, 261, 32)           128       \n",
      "                                                                 \n",
      " max_pooling1d_1 (MaxPooling  (None, 87, 32)           0         \n",
      " 1D)                                                             \n",
      "                                                                 \n",
      " flatten_1 (Flatten)         (None, 2784)              0         \n",
      "                                                                 \n",
      " dense_15 (Dense)            (None, 256)               712960    \n",
      "                                                                 \n",
      " dropout_12 (Dropout)        (None, 256)               0         \n",
      "                                                                 \n",
      " dense_16 (Dense)            (None, 128)               32896     \n",
      "                                                                 \n",
      " dropout_13 (Dropout)        (None, 128)               0         \n",
      "                                                                 \n",
      " dense_17 (Dense)            (None, 64)                8256      \n",
      "                                                                 \n",
      " dropout_14 (Dropout)        (None, 64)                0         \n",
      "                                                                 \n",
      " dense_18 (Dense)            (None, 32)                2080      \n",
      "                                                                 \n",
      " dropout_15 (Dropout)        (None, 32)                0         \n",
      "                                                                 \n",
      " dense_19 (Dense)            (None, 1)                 33        \n",
      "                                                                 \n",
      "=================================================================\n",
      "Total params: 756,353\n",
      "Trainable params: 756,353\n",
      "Non-trainable params: 0\n",
      "_________________________________________________________________\n"
     ]
    }
   ],
   "source": [
    "cnn_model.summary()"
   ]
  },
  {
   "cell_type": "code",
   "execution_count": 40,
   "id": "2dccaba1",
   "metadata": {},
   "outputs": [
    {
     "name": "stdout",
     "output_type": "stream",
     "text": [
      "Epoch 1/25\n",
      "706/706 [==============================] - 8s 9ms/step - loss: 0.3819 - accuracy: 0.8109\n",
      "Epoch 2/25\n",
      "706/706 [==============================] - 7s 10ms/step - loss: 0.1315 - accuracy: 0.9522\n",
      "Epoch 3/25\n",
      "706/706 [==============================] - 6s 9ms/step - loss: 0.0729 - accuracy: 0.9745\n",
      "Epoch 4/25\n",
      "706/706 [==============================] - 7s 10ms/step - loss: 0.0479 - accuracy: 0.9841\n",
      "Epoch 5/25\n",
      "706/706 [==============================] - 7s 10ms/step - loss: 0.0381 - accuracy: 0.9868\n",
      "Epoch 6/25\n",
      "706/706 [==============================] - 7s 10ms/step - loss: 0.0259 - accuracy: 0.9918\n",
      "Epoch 7/25\n",
      "706/706 [==============================] - 7s 10ms/step - loss: 0.0297 - accuracy: 0.9896\n",
      "Epoch 8/25\n",
      "706/706 [==============================] - 7s 10ms/step - loss: 0.0216 - accuracy: 0.9924\n",
      "Epoch 9/25\n",
      "706/706 [==============================] - 7s 10ms/step - loss: 0.0207 - accuracy: 0.9934\n",
      "Epoch 10/25\n",
      "706/706 [==============================] - 7s 10ms/step - loss: 0.0204 - accuracy: 0.9927\n",
      "Epoch 11/25\n",
      "706/706 [==============================] - 7s 10ms/step - loss: 0.0160 - accuracy: 0.9946\n",
      "Epoch 12/25\n",
      "706/706 [==============================] - 7s 10ms/step - loss: 0.0127 - accuracy: 0.9961\n",
      "Epoch 13/25\n",
      "706/706 [==============================] - 7s 10ms/step - loss: 0.0151 - accuracy: 0.9943\n",
      "Epoch 14/25\n",
      "706/706 [==============================] - 7s 10ms/step - loss: 0.0163 - accuracy: 0.9946\n",
      "Epoch 15/25\n",
      "706/706 [==============================] - 7s 10ms/step - loss: 0.0116 - accuracy: 0.9961\n",
      "Epoch 16/25\n",
      "706/706 [==============================] - 7s 10ms/step - loss: 0.0113 - accuracy: 0.9962\n",
      "Epoch 17/25\n",
      "706/706 [==============================] - 7s 10ms/step - loss: 0.0094 - accuracy: 0.9968\n",
      "Epoch 18/25\n",
      "706/706 [==============================] - 7s 10ms/step - loss: 0.0103 - accuracy: 0.9963\n",
      "Epoch 19/25\n",
      "706/706 [==============================] - 7s 10ms/step - loss: 0.0102 - accuracy: 0.9966\n",
      "Epoch 20/25\n",
      "706/706 [==============================] - 7s 10ms/step - loss: 0.0080 - accuracy: 0.9973\n",
      "Epoch 21/25\n",
      "706/706 [==============================] - 7s 10ms/step - loss: 0.0106 - accuracy: 0.9965\n",
      "Epoch 22/25\n",
      "706/706 [==============================] - 7s 10ms/step - loss: 0.0106 - accuracy: 0.9968\n",
      "Epoch 23/25\n",
      "706/706 [==============================] - 7s 10ms/step - loss: 0.0076 - accuracy: 0.9973\n",
      "Epoch 24/25\n",
      "706/706 [==============================] - 7s 10ms/step - loss: 0.0104 - accuracy: 0.9965\n",
      "Epoch 25/25\n",
      "706/706 [==============================] - 7s 10ms/step - loss: 0.0083 - accuracy: 0.9970\n"
     ]
    },
    {
     "data": {
      "text/plain": [
       "<keras.callbacks.History at 0x1916585cdf0>"
      ]
     },
     "execution_count": 40,
     "metadata": {},
     "output_type": "execute_result"
    }
   ],
   "source": [
    "cnn_model.fit(X_res, y_res, epochs=25)"
   ]
  },
  {
   "cell_type": "code",
   "execution_count": 41,
   "id": "216cff3c",
   "metadata": {},
   "outputs": [
    {
     "name": "stdout",
     "output_type": "stream",
     "text": [
      "706/706 [==============================] - 3s 3ms/step - loss: 4.7308e-04 - accuracy: 0.9999\n",
      "[0.000473076943308115, 0.9999114274978638]\n"
     ]
    }
   ],
   "source": [
    "train_score = cnn_model.evaluate(X_res, y_res)\n",
    "print(train_score)"
   ]
  },
  {
   "cell_type": "code",
   "execution_count": 42,
   "id": "a1482446",
   "metadata": {},
   "outputs": [
    {
     "name": "stdout",
     "output_type": "stream",
     "text": [
      "90/90 [==============================] - 0s 3ms/step\n"
     ]
    }
   ],
   "source": [
    "pred = cnn_model.predict(X_test)"
   ]
  },
  {
   "cell_type": "code",
   "execution_count": 43,
   "id": "bc8677d4",
   "metadata": {},
   "outputs": [],
   "source": [
    "y_pred = np.where(pred < 0.5, 0, 1)"
   ]
  },
  {
   "cell_type": "code",
   "execution_count": 44,
   "id": "358bb6c6",
   "metadata": {},
   "outputs": [
    {
     "data": {
      "text/plain": [
       "array([[2814,   10],\n",
       "       [  14,   42]], dtype=int64)"
      ]
     },
     "execution_count": 44,
     "metadata": {},
     "output_type": "execute_result"
    }
   ],
   "source": [
    "confusion_matrix(y_test, y_pred)"
   ]
  },
  {
   "cell_type": "code",
   "execution_count": 45,
   "id": "5f54e193",
   "metadata": {},
   "outputs": [
    {
     "name": "stdout",
     "output_type": "stream",
     "text": [
      "              precision    recall  f1-score   support\n",
      "\n",
      "           0       1.00      1.00      1.00      2824\n",
      "           1       0.81      0.75      0.78        56\n",
      "\n",
      "    accuracy                           0.99      2880\n",
      "   macro avg       0.90      0.87      0.89      2880\n",
      "weighted avg       0.99      0.99      0.99      2880\n",
      "\n"
     ]
    }
   ],
   "source": [
    "print(classification_report(y_test, y_pred))"
   ]
  },
  {
   "cell_type": "code",
   "execution_count": 46,
   "id": "c9cb104d",
   "metadata": {},
   "outputs": [
    {
     "name": "stdout",
     "output_type": "stream",
     "text": [
      "0.9916666666666667\n",
      "0.8076923076923077\n",
      "0.75\n",
      "0.7777777777777779\n"
     ]
    }
   ],
   "source": [
    "print(accuracy_score(y_test, y_pred))\n",
    "print(precision_score(y_test, y_pred))\n",
    "print(recall_score(y_test, y_pred))\n",
    "print(f1_score(y_test, y_pred))"
   ]
  },
  {
   "cell_type": "markdown",
   "id": "74896343",
   "metadata": {},
   "source": [
    "## ADASYN"
   ]
  },
  {
   "cell_type": "code",
   "execution_count": 25,
   "id": "574f9eb9",
   "metadata": {},
   "outputs": [],
   "source": [
    "ada = ADASYN(sampling_strategy = 1, random_state=42, n_neighbors = 2)"
   ]
  },
  {
   "cell_type": "code",
   "execution_count": 26,
   "id": "ee91ff09",
   "metadata": {},
   "outputs": [],
   "source": [
    "X_res, y_res = ada.fit_resample(X_train, y_train)"
   ]
  },
  {
   "cell_type": "code",
   "execution_count": 27,
   "id": "56ae64de",
   "metadata": {},
   "outputs": [
    {
     "data": {
      "text/plain": [
       "fraudulent\n",
       "0             11293\n",
       "1             11286\n",
       "dtype: int64"
      ]
     },
     "execution_count": 27,
     "metadata": {},
     "output_type": "execute_result"
    }
   ],
   "source": [
    "y_res.value_counts()"
   ]
  },
  {
   "cell_type": "code",
   "execution_count": 28,
   "id": "04e6b67a",
   "metadata": {},
   "outputs": [
    {
     "name": "stderr",
     "output_type": "stream",
     "text": [
      "C:\\Anaconda3\\lib\\site-packages\\sklearn\\utils\\validation.py:993: DataConversionWarning: A column-vector y was passed when a 1d array was expected. Please change the shape of y to (n_samples, ), for example using ravel().\n",
      "  y = column_or_1d(y, warn=True)\n"
     ]
    },
    {
     "name": "stdout",
     "output_type": "stream",
     "text": [
      "              precision    recall  f1-score   support\n",
      "\n",
      "           0       0.99      1.00      0.99      2824\n",
      "           1       0.67      0.25      0.36        56\n",
      "\n",
      "    accuracy                           0.98      2880\n",
      "   macro avg       0.83      0.62      0.68      2880\n",
      "weighted avg       0.98      0.98      0.98      2880\n",
      "\n"
     ]
    },
    {
     "name": "stderr",
     "output_type": "stream",
     "text": [
      "C:\\Anaconda3\\lib\\site-packages\\sklearn\\linear_model\\_logistic.py:814: ConvergenceWarning: lbfgs failed to converge (status=1):\n",
      "STOP: TOTAL NO. of ITERATIONS REACHED LIMIT.\n",
      "\n",
      "Increase the number of iterations (max_iter) or scale the data as shown in:\n",
      "    https://scikit-learn.org/stable/modules/preprocessing.html\n",
      "Please also refer to the documentation for alternative solver options:\n",
      "    https://scikit-learn.org/stable/modules/linear_model.html#logistic-regression\n",
      "  n_iter_i = _check_optimize_result(\n"
     ]
    }
   ],
   "source": [
    "classifier = LogisticRegression()\n",
    "classifier.fit(X_train, y_train)\n",
    "print(classification_report(y_test, classifier.predict(X_test)))"
   ]
  },
  {
   "cell_type": "code",
   "execution_count": 29,
   "id": "258913b9",
   "metadata": {},
   "outputs": [
    {
     "name": "stderr",
     "output_type": "stream",
     "text": [
      "C:\\Anaconda3\\lib\\site-packages\\sklearn\\utils\\validation.py:993: DataConversionWarning: A column-vector y was passed when a 1d array was expected. Please change the shape of y to (n_samples, ), for example using ravel().\n",
      "  y = column_or_1d(y, warn=True)\n"
     ]
    },
    {
     "name": "stdout",
     "output_type": "stream",
     "text": [
      "              precision    recall  f1-score   support\n",
      "\n",
      "           0       0.99      0.93      0.96      2824\n",
      "           1       0.15      0.62      0.24        56\n",
      "\n",
      "    accuracy                           0.92      2880\n",
      "   macro avg       0.57      0.78      0.60      2880\n",
      "weighted avg       0.98      0.92      0.95      2880\n",
      "\n"
     ]
    },
    {
     "name": "stderr",
     "output_type": "stream",
     "text": [
      "C:\\Anaconda3\\lib\\site-packages\\sklearn\\linear_model\\_logistic.py:814: ConvergenceWarning: lbfgs failed to converge (status=1):\n",
      "STOP: TOTAL NO. of ITERATIONS REACHED LIMIT.\n",
      "\n",
      "Increase the number of iterations (max_iter) or scale the data as shown in:\n",
      "    https://scikit-learn.org/stable/modules/preprocessing.html\n",
      "Please also refer to the documentation for alternative solver options:\n",
      "    https://scikit-learn.org/stable/modules/linear_model.html#logistic-regression\n",
      "  n_iter_i = _check_optimize_result(\n"
     ]
    }
   ],
   "source": [
    "classifier = LogisticRegression()\n",
    "classifier.fit(X_res, y_res)\n",
    "print(classification_report(y_test, classifier.predict(X_test)))"
   ]
  },
  {
   "cell_type": "markdown",
   "id": "3c64f154",
   "metadata": {},
   "source": [
    "### NN"
   ]
  },
  {
   "cell_type": "code",
   "execution_count": 30,
   "id": "146afbce",
   "metadata": {},
   "outputs": [],
   "source": [
    "### Model building\n",
    "model = Sequential()\n",
    "model.add(Dense(128, activation='relu'))\n",
    "model.add(Dropout(0.2))\n",
    "model.add(Dense(64, activation='relu'))\n",
    "model.add(Dropout(0.2))\n",
    "model.add(Dense(64, activation='relu'))\n",
    "model.add(Dropout(0.2))\n",
    "model.add(Dense(32, activation='relu'))\n",
    "model.add(Dropout(0.2))\n",
    "model.add(Dense(1, activation='sigmoid'))\n",
    "model.compile(loss='binary_crossentropy', optimizer='adam', metrics=['accuracy'])"
   ]
  },
  {
   "cell_type": "code",
   "execution_count": 31,
   "id": "e243ff85",
   "metadata": {},
   "outputs": [
    {
     "name": "stdout",
     "output_type": "stream",
     "text": [
      "Epoch 1/25\n",
      "706/706 [==============================] - 7s 5ms/step - loss: 0.6103 - accuracy: 0.6595\n",
      "Epoch 2/25\n",
      "706/706 [==============================] - 4s 5ms/step - loss: 0.1600 - accuracy: 0.9448\n",
      "Epoch 3/25\n",
      "706/706 [==============================] - 4s 6ms/step - loss: 0.0757 - accuracy: 0.9783\n",
      "Epoch 4/25\n",
      "706/706 [==============================] - 4s 5ms/step - loss: 0.0506 - accuracy: 0.9861\n",
      "Epoch 5/25\n",
      "706/706 [==============================] - 3s 5ms/step - loss: 0.0425 - accuracy: 0.9885\n",
      "Epoch 6/25\n",
      "706/706 [==============================] - 3s 4ms/step - loss: 0.0374 - accuracy: 0.9895\n",
      "Epoch 7/25\n",
      "706/706 [==============================] - 3s 4ms/step - loss: 0.0324 - accuracy: 0.9915\n",
      "Epoch 8/25\n",
      "706/706 [==============================] - 3s 4ms/step - loss: 0.0271 - accuracy: 0.9925\n",
      "Epoch 9/25\n",
      "706/706 [==============================] - 3s 5ms/step - loss: 0.0240 - accuracy: 0.9925\n",
      "Epoch 10/25\n",
      "706/706 [==============================] - 3s 5ms/step - loss: 0.0272 - accuracy: 0.9920\n",
      "Epoch 11/25\n",
      "706/706 [==============================] - 4s 5ms/step - loss: 0.0185 - accuracy: 0.9940\n",
      "Epoch 12/25\n",
      "706/706 [==============================] - 4s 5ms/step - loss: 0.0216 - accuracy: 0.9940\n",
      "Epoch 13/25\n",
      "706/706 [==============================] - 4s 5ms/step - loss: 0.0167 - accuracy: 0.9950\n",
      "Epoch 14/25\n",
      "706/706 [==============================] - 4s 5ms/step - loss: 0.0161 - accuracy: 0.9951\n",
      "Epoch 15/25\n",
      "706/706 [==============================] - 4s 5ms/step - loss: 0.0174 - accuracy: 0.9948\n",
      "Epoch 16/25\n",
      "706/706 [==============================] - 4s 5ms/step - loss: 0.0157 - accuracy: 0.9953\n",
      "Epoch 17/25\n",
      "706/706 [==============================] - 4s 5ms/step - loss: 0.0127 - accuracy: 0.9962\n",
      "Epoch 18/25\n",
      "706/706 [==============================] - 4s 5ms/step - loss: 0.0157 - accuracy: 0.9950\n",
      "Epoch 19/25\n",
      "706/706 [==============================] - 4s 5ms/step - loss: 0.0139 - accuracy: 0.9959\n",
      "Epoch 20/25\n",
      "706/706 [==============================] - 4s 5ms/step - loss: 0.0113 - accuracy: 0.9961\n",
      "Epoch 21/25\n",
      "706/706 [==============================] - 4s 5ms/step - loss: 0.0132 - accuracy: 0.9960\n",
      "Epoch 22/25\n",
      "706/706 [==============================] - 4s 5ms/step - loss: 0.0107 - accuracy: 0.9968\n",
      "Epoch 23/25\n",
      "706/706 [==============================] - 4s 5ms/step - loss: 0.0110 - accuracy: 0.9973\n",
      "Epoch 24/25\n",
      "706/706 [==============================] - 4s 6ms/step - loss: 0.0116 - accuracy: 0.9969\n",
      "Epoch 25/25\n",
      "706/706 [==============================] - 3s 5ms/step - loss: 0.0128 - accuracy: 0.9963\n"
     ]
    },
    {
     "data": {
      "text/plain": [
       "<keras.callbacks.History at 0x19458a6ad90>"
      ]
     },
     "execution_count": 31,
     "metadata": {},
     "output_type": "execute_result"
    }
   ],
   "source": [
    "model.fit(X_res, y_res, epochs=25)"
   ]
  },
  {
   "cell_type": "code",
   "execution_count": 32,
   "id": "aeaf579f",
   "metadata": {},
   "outputs": [
    {
     "name": "stdout",
     "output_type": "stream",
     "text": [
      "706/706 [==============================] - 2s 3ms/step - loss: 0.0030 - accuracy: 0.9992\n",
      "[0.0030316305346786976, 0.999158501625061]\n"
     ]
    }
   ],
   "source": [
    "train_score = model.evaluate(X_res, y_res)\n",
    "print(train_score)"
   ]
  },
  {
   "cell_type": "code",
   "execution_count": 33,
   "id": "7a5e1dfc",
   "metadata": {
    "scrolled": true
   },
   "outputs": [
    {
     "name": "stdout",
     "output_type": "stream",
     "text": [
      "90/90 [==============================] - 0s 3ms/step\n"
     ]
    }
   ],
   "source": [
    "pred = model.predict(X_test)"
   ]
  },
  {
   "cell_type": "code",
   "execution_count": 34,
   "id": "2a237b13",
   "metadata": {},
   "outputs": [],
   "source": [
    "y_pred = np.where(pred < 0.5, 0, 1)"
   ]
  },
  {
   "cell_type": "code",
   "execution_count": 35,
   "id": "4cefcc61",
   "metadata": {},
   "outputs": [
    {
     "data": {
      "text/plain": [
       "Index(['fraudulent'], dtype='object')"
      ]
     },
     "execution_count": 35,
     "metadata": {},
     "output_type": "execute_result"
    }
   ],
   "source": [
    "y_train.columns"
   ]
  },
  {
   "cell_type": "code",
   "execution_count": 36,
   "id": "c3976f37",
   "metadata": {},
   "outputs": [
    {
     "data": {
      "text/plain": [
       "array([[2805,   19],\n",
       "       [  15,   41]], dtype=int64)"
      ]
     },
     "execution_count": 36,
     "metadata": {},
     "output_type": "execute_result"
    }
   ],
   "source": [
    "confusion_matrix(y_test, y_pred)"
   ]
  },
  {
   "cell_type": "code",
   "execution_count": 37,
   "id": "c589132b",
   "metadata": {},
   "outputs": [
    {
     "name": "stdout",
     "output_type": "stream",
     "text": [
      "              precision    recall  f1-score   support\n",
      "\n",
      "           0       0.99      0.99      0.99      2824\n",
      "           1       0.68      0.73      0.71        56\n",
      "\n",
      "    accuracy                           0.99      2880\n",
      "   macro avg       0.84      0.86      0.85      2880\n",
      "weighted avg       0.99      0.99      0.99      2880\n",
      "\n"
     ]
    }
   ],
   "source": [
    "print(classification_report(y_test, y_pred))"
   ]
  },
  {
   "cell_type": "markdown",
   "id": "76bde924",
   "metadata": {},
   "source": [
    "### CNN"
   ]
  },
  {
   "cell_type": "code",
   "execution_count": 38,
   "id": "49708618",
   "metadata": {},
   "outputs": [],
   "source": [
    "cnn_model = Sequential()\n",
    "cnn_model.add(Conv1D(32, 3, activation='relu', input_shape=(X_res.shape[1], 1)))\n",
    "cnn_model.add(MaxPooling1D(pool_size=2, strides=3))\n",
    "cnn_model.add(Flatten())\n",
    "cnn_model.add(Dense(128, activation='relu'))\n",
    "cnn_model.add(Dropout(0.2))\n",
    "cnn_model.add(Dense(64, activation='relu'))\n",
    "cnn_model.add(Dropout(0.2))\n",
    "cnn_model.add(Dense(64, activation='relu'))\n",
    "cnn_model.add(Dropout(0.2))\n",
    "cnn_model.add(Dense(32, activation='relu'))\n",
    "cnn_model.add(Dropout(0.2))\n",
    "cnn_model.add(Dense(1, activation='sigmoid'))\n",
    "cnn_model.compile(loss='binary_crossentropy', optimizer='adam', metrics=['accuracy'])"
   ]
  },
  {
   "cell_type": "code",
   "execution_count": 39,
   "id": "52afd6b1",
   "metadata": {},
   "outputs": [
    {
     "name": "stdout",
     "output_type": "stream",
     "text": [
      "Epoch 1/25\n",
      "706/706 [==============================] - 11s 12ms/step - loss: 0.3470 - accuracy: 0.8236\n",
      "Epoch 2/25\n",
      "706/706 [==============================] - 10s 14ms/step - loss: 0.1148 - accuracy: 0.9617\n",
      "Epoch 3/25\n",
      "706/706 [==============================] - 10s 14ms/step - loss: 0.0935 - accuracy: 0.9715\n",
      "Epoch 4/25\n",
      "706/706 [==============================] - 10s 14ms/step - loss: 0.0847 - accuracy: 0.9756\n",
      "Epoch 5/25\n",
      "706/706 [==============================] - 10s 14ms/step - loss: 0.0631 - accuracy: 0.9821\n",
      "Epoch 6/25\n",
      "706/706 [==============================] - 9s 13ms/step - loss: 0.0475 - accuracy: 0.9874\n",
      "Epoch 7/25\n",
      "706/706 [==============================] - 9s 13ms/step - loss: 0.0503 - accuracy: 0.9865\n",
      "Epoch 8/25\n",
      "706/706 [==============================] - 10s 14ms/step - loss: 0.0513 - accuracy: 0.9847\n",
      "Epoch 9/25\n",
      "706/706 [==============================] - 10s 14ms/step - loss: 0.0369 - accuracy: 0.9896\n",
      "Epoch 10/25\n",
      "706/706 [==============================] - 9s 13ms/step - loss: 0.0359 - accuracy: 0.9904\n",
      "Epoch 11/25\n",
      "706/706 [==============================] - 9s 13ms/step - loss: 0.0374 - accuracy: 0.9900\n",
      "Epoch 12/25\n",
      "706/706 [==============================] - 9s 12ms/step - loss: 0.0357 - accuracy: 0.9909\n",
      "Epoch 13/25\n",
      "706/706 [==============================] - 10s 14ms/step - loss: 0.0300 - accuracy: 0.9919\n",
      "Epoch 14/25\n",
      "706/706 [==============================] - 10s 14ms/step - loss: 0.0297 - accuracy: 0.9918\n",
      "Epoch 15/25\n",
      "706/706 [==============================] - 10s 14ms/step - loss: 0.0274 - accuracy: 0.9930\n",
      "Epoch 16/25\n",
      "706/706 [==============================] - 9s 13ms/step - loss: 0.0269 - accuracy: 0.9925\n",
      "Epoch 17/25\n",
      "706/706 [==============================] - 9s 13ms/step - loss: 0.0227 - accuracy: 0.9947\n",
      "Epoch 18/25\n",
      "706/706 [==============================] - 10s 13ms/step - loss: 0.0250 - accuracy: 0.9930\n",
      "Epoch 19/25\n",
      "706/706 [==============================] - 10s 14ms/step - loss: 0.0291 - accuracy: 0.9925\n",
      "Epoch 20/25\n",
      "706/706 [==============================] - 9s 12ms/step - loss: 0.0241 - accuracy: 0.9927\n",
      "Epoch 21/25\n",
      "706/706 [==============================] - 9s 13ms/step - loss: 0.0183 - accuracy: 0.9952\n",
      "Epoch 22/25\n",
      "706/706 [==============================] - 9s 13ms/step - loss: 0.0204 - accuracy: 0.9940\n",
      "Epoch 23/25\n",
      "706/706 [==============================] - 9s 13ms/step - loss: 0.0198 - accuracy: 0.9949\n",
      "Epoch 24/25\n",
      "706/706 [==============================] - 10s 15ms/step - loss: 0.0197 - accuracy: 0.9944\n",
      "Epoch 25/25\n",
      "706/706 [==============================] - 9s 13ms/step - loss: 0.0202 - accuracy: 0.9943\n"
     ]
    },
    {
     "data": {
      "text/plain": [
       "<keras.callbacks.History at 0x194624d2af0>"
      ]
     },
     "execution_count": 39,
     "metadata": {},
     "output_type": "execute_result"
    }
   ],
   "source": [
    "cnn_model.fit(X_res, y_res, epochs=25)"
   ]
  },
  {
   "cell_type": "code",
   "execution_count": 40,
   "id": "87f63df8",
   "metadata": {},
   "outputs": [
    {
     "name": "stdout",
     "output_type": "stream",
     "text": [
      "706/706 [==============================] - 5s 5ms/step - loss: 0.0073 - accuracy: 0.9981\n",
      "[0.007340858690440655, 0.9981398582458496]\n"
     ]
    }
   ],
   "source": [
    "train_score = cnn_model.evaluate(X_res, y_res)\n",
    "print(train_score)"
   ]
  },
  {
   "cell_type": "code",
   "execution_count": 41,
   "id": "d71033d0",
   "metadata": {},
   "outputs": [
    {
     "name": "stdout",
     "output_type": "stream",
     "text": [
      "90/90 [==============================] - 1s 5ms/step\n"
     ]
    }
   ],
   "source": [
    "pred = cnn_model.predict(X_test)"
   ]
  },
  {
   "cell_type": "code",
   "execution_count": 42,
   "id": "ca525e64",
   "metadata": {},
   "outputs": [],
   "source": [
    "y_pred = np.where(pred < 0.5, 0, 1)"
   ]
  },
  {
   "cell_type": "code",
   "execution_count": 43,
   "id": "327103a9",
   "metadata": {},
   "outputs": [
    {
     "data": {
      "text/plain": [
       "array([[2806,   18],\n",
       "       [  23,   33]], dtype=int64)"
      ]
     },
     "execution_count": 43,
     "metadata": {},
     "output_type": "execute_result"
    }
   ],
   "source": [
    "confusion_matrix(y_test, y_pred)"
   ]
  },
  {
   "cell_type": "code",
   "execution_count": 44,
   "id": "5fb3ff2b",
   "metadata": {},
   "outputs": [
    {
     "name": "stdout",
     "output_type": "stream",
     "text": [
      "              precision    recall  f1-score   support\n",
      "\n",
      "           0       0.99      0.99      0.99      2824\n",
      "           1       0.65      0.59      0.62        56\n",
      "\n",
      "    accuracy                           0.99      2880\n",
      "   macro avg       0.82      0.79      0.80      2880\n",
      "weighted avg       0.99      0.99      0.99      2880\n",
      "\n"
     ]
    }
   ],
   "source": [
    "print(classification_report(y_test, y_pred))"
   ]
  },
  {
   "cell_type": "markdown",
   "id": "ea456613",
   "metadata": {},
   "source": [
    "# GloVe"
   ]
  },
  {
   "cell_type": "code",
   "execution_count": 45,
   "id": "325db6e5",
   "metadata": {},
   "outputs": [],
   "source": [
    "X_train = pd.read_csv('datasets/glovetrain_data_imputed_glove.csv')\n",
    "X_test = pd.read_csv('test_data_imputed_glove.csv')\n",
    "y_train = pd.read_csv('y_train_glove.csv')\n",
    "y_test = pd.read_csv('y_test_glove.csv')"
   ]
  },
  {
   "cell_type": "code",
   "execution_count": 46,
   "id": "08412233",
   "metadata": {},
   "outputs": [
    {
     "name": "stdout",
     "output_type": "stream",
     "text": [
      "(11516, 263)\n",
      "(11516, 1)\n",
      "(2880, 263)\n",
      "(2880, 1)\n"
     ]
    }
   ],
   "source": [
    "print(X_train.shape)\n",
    "print(y_train.shape)\n",
    "print(X_test.shape)\n",
    "print(y_test.shape)"
   ]
  },
  {
   "cell_type": "markdown",
   "id": "c6c05778",
   "metadata": {},
   "source": [
    "## Random OverSampler"
   ]
  },
  {
   "cell_type": "code",
   "execution_count": 47,
   "id": "509ecbbb",
   "metadata": {},
   "outputs": [],
   "source": [
    "ros = RandomOverSampler(sampling_strategy = 1, random_state=42)"
   ]
  },
  {
   "cell_type": "code",
   "execution_count": 48,
   "id": "80e9ea40",
   "metadata": {},
   "outputs": [],
   "source": [
    "X_res, y_res = ros.fit_resample(X_train, y_train)"
   ]
  },
  {
   "cell_type": "code",
   "execution_count": 49,
   "id": "378f27f9",
   "metadata": {},
   "outputs": [
    {
     "data": {
      "text/plain": [
       "fraudulent\n",
       "0             11293\n",
       "1             11293\n",
       "dtype: int64"
      ]
     },
     "execution_count": 49,
     "metadata": {},
     "output_type": "execute_result"
    }
   ],
   "source": [
    "y_res.value_counts()"
   ]
  },
  {
   "cell_type": "code",
   "execution_count": 50,
   "id": "95da8b88",
   "metadata": {},
   "outputs": [
    {
     "data": {
      "text/plain": [
       "22586"
      ]
     },
     "execution_count": 50,
     "metadata": {},
     "output_type": "execute_result"
    }
   ],
   "source": [
    "len(X_res)"
   ]
  },
  {
   "cell_type": "markdown",
   "id": "b7993791",
   "metadata": {},
   "source": [
    "### Normal NN"
   ]
  },
  {
   "cell_type": "code",
   "execution_count": 51,
   "id": "c50e3c8c",
   "metadata": {},
   "outputs": [],
   "source": [
    "### Model building\n",
    "model = Sequential()\n",
    "model.add(Dense(128, activation='relu'))\n",
    "model.add(Dropout(0.2))\n",
    "model.add(Dense(64, activation='relu'))\n",
    "model.add(Dropout(0.2))\n",
    "model.add(Dense(64, activation='relu'))\n",
    "model.add(Dropout(0.2))\n",
    "model.add(Dense(32, activation='relu'))\n",
    "model.add(Dropout(0.2))\n",
    "model.add(Dense(1, activation='sigmoid'))\n",
    "model.compile(loss='binary_crossentropy', optimizer='adam', metrics=['accuracy'])"
   ]
  },
  {
   "cell_type": "code",
   "execution_count": 52,
   "id": "ae20964a",
   "metadata": {},
   "outputs": [
    {
     "name": "stdout",
     "output_type": "stream",
     "text": [
      "Epoch 1/25\n",
      "706/706 [==============================] - 6s 5ms/step - loss: 0.6897 - accuracy: 0.5865\n",
      "Epoch 2/25\n",
      "706/706 [==============================] - 3s 5ms/step - loss: 0.3711 - accuracy: 0.8317\n",
      "Epoch 3/25\n",
      "706/706 [==============================] - 3s 5ms/step - loss: 0.2335 - accuracy: 0.9093\n",
      "Epoch 4/25\n",
      "706/706 [==============================] - 4s 5ms/step - loss: 0.1799 - accuracy: 0.9330\n",
      "Epoch 5/25\n",
      "706/706 [==============================] - 4s 5ms/step - loss: 0.1494 - accuracy: 0.9462\n",
      "Epoch 6/25\n",
      "706/706 [==============================] - 3s 5ms/step - loss: 0.1250 - accuracy: 0.9563\n",
      "Epoch 7/25\n",
      "706/706 [==============================] - 3s 5ms/step - loss: 0.1166 - accuracy: 0.9584\n",
      "Epoch 8/25\n",
      "706/706 [==============================] - 3s 5ms/step - loss: 0.1043 - accuracy: 0.9640\n",
      "Epoch 9/25\n",
      "706/706 [==============================] - 4s 5ms/step - loss: 0.1124 - accuracy: 0.9597\n",
      "Epoch 10/25\n",
      "706/706 [==============================] - 4s 6ms/step - loss: 0.0962 - accuracy: 0.9670\n",
      "Epoch 11/25\n",
      "706/706 [==============================] - 4s 5ms/step - loss: 0.0898 - accuracy: 0.9682\n",
      "Epoch 12/25\n",
      "706/706 [==============================] - 3s 5ms/step - loss: 0.0713 - accuracy: 0.9754\n",
      "Epoch 13/25\n",
      "706/706 [==============================] - 3s 4ms/step - loss: 0.0780 - accuracy: 0.9725\n",
      "Epoch 14/25\n",
      "706/706 [==============================] - 3s 4ms/step - loss: 0.0678 - accuracy: 0.9773\n",
      "Epoch 15/25\n",
      "706/706 [==============================] - 5s 7ms/step - loss: 0.0700 - accuracy: 0.9755\n",
      "Epoch 16/25\n",
      "706/706 [==============================] - 4s 6ms/step - loss: 0.0704 - accuracy: 0.9772\n",
      "Epoch 17/25\n",
      "706/706 [==============================] - 5s 6ms/step - loss: 0.0640 - accuracy: 0.9793\n",
      "Epoch 18/25\n",
      "706/706 [==============================] - 5s 6ms/step - loss: 0.0701 - accuracy: 0.9769\n",
      "Epoch 19/25\n",
      "706/706 [==============================] - 5s 6ms/step - loss: 0.0679 - accuracy: 0.9766\n",
      "Epoch 20/25\n",
      "706/706 [==============================] - 4s 6ms/step - loss: 0.0603 - accuracy: 0.9803\n",
      "Epoch 21/25\n",
      "706/706 [==============================] - 4s 6ms/step - loss: 0.0687 - accuracy: 0.9765\n",
      "Epoch 22/25\n",
      "706/706 [==============================] - 4s 6ms/step - loss: 0.0654 - accuracy: 0.9781\n",
      "Epoch 23/25\n",
      "706/706 [==============================] - 4s 6ms/step - loss: 0.0638 - accuracy: 0.9794\n",
      "Epoch 24/25\n",
      "706/706 [==============================] - 5s 7ms/step - loss: 0.0662 - accuracy: 0.9803\n",
      "Epoch 25/25\n",
      "706/706 [==============================] - 5s 7ms/step - loss: 0.0551 - accuracy: 0.9827\n"
     ]
    },
    {
     "data": {
      "text/plain": [
       "<keras.callbacks.History at 0x19458baa8e0>"
      ]
     },
     "execution_count": 52,
     "metadata": {},
     "output_type": "execute_result"
    }
   ],
   "source": [
    "model.fit(X_res, y_res, epochs=25)"
   ]
  },
  {
   "cell_type": "code",
   "execution_count": 53,
   "id": "18577c55",
   "metadata": {},
   "outputs": [
    {
     "name": "stdout",
     "output_type": "stream",
     "text": [
      "706/706 [==============================] - 4s 5ms/step - loss: 0.0165 - accuracy: 0.9948\n",
      "[0.016498316079378128, 0.9947755336761475]\n"
     ]
    }
   ],
   "source": [
    "train_score = model.evaluate(X_res, y_res)\n",
    "print(train_score)"
   ]
  },
  {
   "cell_type": "code",
   "execution_count": 54,
   "id": "71616f88",
   "metadata": {
    "scrolled": true
   },
   "outputs": [
    {
     "name": "stdout",
     "output_type": "stream",
     "text": [
      "90/90 [==============================] - 1s 4ms/step\n"
     ]
    }
   ],
   "source": [
    "pred = model.predict(X_test)"
   ]
  },
  {
   "cell_type": "code",
   "execution_count": 55,
   "id": "5f977a13",
   "metadata": {},
   "outputs": [],
   "source": [
    "y_pred = np.where(pred < 0.5, 0, 1)"
   ]
  },
  {
   "cell_type": "code",
   "execution_count": 56,
   "id": "da29f707",
   "metadata": {},
   "outputs": [
    {
     "data": {
      "text/plain": [
       "Index(['fraudulent'], dtype='object')"
      ]
     },
     "execution_count": 56,
     "metadata": {},
     "output_type": "execute_result"
    }
   ],
   "source": [
    "y_train.columns"
   ]
  },
  {
   "cell_type": "code",
   "execution_count": 57,
   "id": "294ff728",
   "metadata": {},
   "outputs": [
    {
     "data": {
      "text/plain": [
       "array([[2778,   46],\n",
       "       [  25,   31]], dtype=int64)"
      ]
     },
     "execution_count": 57,
     "metadata": {},
     "output_type": "execute_result"
    }
   ],
   "source": [
    "confusion_matrix(y_test, y_pred)"
   ]
  },
  {
   "cell_type": "code",
   "execution_count": 58,
   "id": "7731c07c",
   "metadata": {},
   "outputs": [],
   "source": [
    "df_cm = pd.DataFrame(confusion_matrix(y_test, y_pred))"
   ]
  },
  {
   "cell_type": "code",
   "execution_count": 59,
   "id": "16339b88",
   "metadata": {},
   "outputs": [
    {
     "name": "stdout",
     "output_type": "stream",
     "text": [
      "              precision    recall  f1-score   support\n",
      "\n",
      "           0       0.99      0.98      0.99      2824\n",
      "           1       0.40      0.55      0.47        56\n",
      "\n",
      "    accuracy                           0.98      2880\n",
      "   macro avg       0.70      0.77      0.73      2880\n",
      "weighted avg       0.98      0.98      0.98      2880\n",
      "\n"
     ]
    }
   ],
   "source": [
    "print(classification_report(y_test, y_pred))"
   ]
  },
  {
   "cell_type": "markdown",
   "id": "c777fd49",
   "metadata": {},
   "source": [
    "### CNN"
   ]
  },
  {
   "cell_type": "code",
   "execution_count": 60,
   "id": "4c9ece47",
   "metadata": {},
   "outputs": [],
   "source": [
    "cnn_model = Sequential()\n",
    "cnn_model.add(Conv1D(32, 3, activation='relu', input_shape=(X_res.shape[1], 1)))\n",
    "cnn_model.add(MaxPooling1D(pool_size=2, strides=3))\n",
    "cnn_model.add(Flatten())\n",
    "cnn_model.add(Dense(128, activation='relu'))\n",
    "cnn_model.add(Dropout(0.2))\n",
    "cnn_model.add(Dense(64, activation='relu'))\n",
    "cnn_model.add(Dropout(0.2))\n",
    "cnn_model.add(Dense(64, activation='relu'))\n",
    "cnn_model.add(Dropout(0.2))\n",
    "cnn_model.add(Dense(32, activation='relu'))\n",
    "cnn_model.add(Dropout(0.2))\n",
    "cnn_model.add(Dense(1, activation='sigmoid'))\n",
    "cnn_model.compile(loss='binary_crossentropy', optimizer='adam', metrics=['accuracy'])"
   ]
  },
  {
   "cell_type": "code",
   "execution_count": 61,
   "id": "5c1332c6",
   "metadata": {},
   "outputs": [
    {
     "name": "stdout",
     "output_type": "stream",
     "text": [
      "Epoch 1/25\n",
      "706/706 [==============================] - 15s 16ms/step - loss: 0.5148 - accuracy: 0.7247\n",
      "Epoch 2/25\n",
      "706/706 [==============================] - 11s 16ms/step - loss: 0.3116 - accuracy: 0.8741\n",
      "Epoch 3/25\n",
      "706/706 [==============================] - 12s 16ms/step - loss: 0.2400 - accuracy: 0.9068\n",
      "Epoch 4/25\n",
      "706/706 [==============================] - 12s 17ms/step - loss: 0.2014 - accuracy: 0.9233\n",
      "Epoch 5/25\n",
      "706/706 [==============================] - 12s 17ms/step - loss: 0.1798 - accuracy: 0.9287\n",
      "Epoch 6/25\n",
      "706/706 [==============================] - 12s 16ms/step - loss: 0.1551 - accuracy: 0.9387\n",
      "Epoch 7/25\n",
      "706/706 [==============================] - 12s 17ms/step - loss: 0.1367 - accuracy: 0.9478\n",
      "Epoch 8/25\n",
      "706/706 [==============================] - 12s 17ms/step - loss: 0.1270 - accuracy: 0.9524\n",
      "Epoch 9/25\n",
      "706/706 [==============================] - 13s 18ms/step - loss: 0.1164 - accuracy: 0.9550\n",
      "Epoch 10/25\n",
      "706/706 [==============================] - 12s 17ms/step - loss: 0.1164 - accuracy: 0.9563\n",
      "Epoch 11/25\n",
      "706/706 [==============================] - 12s 17ms/step - loss: 0.1098 - accuracy: 0.9581\n",
      "Epoch 12/25\n",
      "706/706 [==============================] - 12s 17ms/step - loss: 0.1004 - accuracy: 0.9632\n",
      "Epoch 13/25\n",
      "706/706 [==============================] - 12s 18ms/step - loss: 0.1075 - accuracy: 0.9572\n",
      "Epoch 14/25\n",
      "706/706 [==============================] - 13s 18ms/step - loss: 0.0944 - accuracy: 0.9642\n",
      "Epoch 15/25\n",
      "706/706 [==============================] - 12s 17ms/step - loss: 0.0849 - accuracy: 0.9714\n",
      "Epoch 16/25\n",
      "706/706 [==============================] - 12s 17ms/step - loss: 0.0802 - accuracy: 0.9735\n",
      "Epoch 17/25\n",
      "706/706 [==============================] - 12s 17ms/step - loss: 0.0838 - accuracy: 0.9705\n",
      "Epoch 18/25\n",
      "706/706 [==============================] - 12s 17ms/step - loss: 0.0712 - accuracy: 0.9746\n",
      "Epoch 19/25\n",
      "706/706 [==============================] - 11s 16ms/step - loss: 0.0832 - accuracy: 0.9696\n",
      "Epoch 20/25\n",
      "706/706 [==============================] - 10s 14ms/step - loss: 0.0874 - accuracy: 0.9689\n",
      "Epoch 21/25\n",
      "706/706 [==============================] - 9s 13ms/step - loss: 0.0851 - accuracy: 0.9720\n",
      "Epoch 22/25\n",
      "706/706 [==============================] - 9s 12ms/step - loss: 0.0841 - accuracy: 0.9719\n",
      "Epoch 23/25\n",
      "706/706 [==============================] - 11s 16ms/step - loss: 0.0726 - accuracy: 0.9775\n",
      "Epoch 24/25\n",
      "706/706 [==============================] - 12s 17ms/step - loss: 0.0615 - accuracy: 0.9801\n",
      "Epoch 25/25\n",
      "706/706 [==============================] - 13s 19ms/step - loss: 0.0742 - accuracy: 0.9749\n"
     ]
    },
    {
     "data": {
      "text/plain": [
       "<keras.callbacks.History at 0x19457228e80>"
      ]
     },
     "execution_count": 61,
     "metadata": {},
     "output_type": "execute_result"
    }
   ],
   "source": [
    "cnn_model.fit(X_res, y_res, epochs=25)"
   ]
  },
  {
   "cell_type": "code",
   "execution_count": 62,
   "id": "518b0997",
   "metadata": {},
   "outputs": [
    {
     "name": "stdout",
     "output_type": "stream",
     "text": [
      "706/706 [==============================] - 7s 9ms/step - loss: 0.0259 - accuracy: 0.9916\n",
      "[0.025853173807263374, 0.9915876984596252]\n"
     ]
    }
   ],
   "source": [
    "train_score = cnn_model.evaluate(X_res, y_res)\n",
    "print(train_score)"
   ]
  },
  {
   "cell_type": "code",
   "execution_count": 63,
   "id": "dbcff3a5",
   "metadata": {},
   "outputs": [
    {
     "name": "stdout",
     "output_type": "stream",
     "text": [
      "90/90 [==============================] - 1s 8ms/step\n"
     ]
    }
   ],
   "source": [
    "pred = cnn_model.predict(X_test)"
   ]
  },
  {
   "cell_type": "code",
   "execution_count": 64,
   "id": "4209cb71",
   "metadata": {},
   "outputs": [],
   "source": [
    "y_pred = np.where(pred < 0.5, 0, 1)"
   ]
  },
  {
   "cell_type": "code",
   "execution_count": 65,
   "id": "963a8148",
   "metadata": {},
   "outputs": [
    {
     "data": {
      "text/plain": [
       "array([[2732,   92],\n",
       "       [  17,   39]], dtype=int64)"
      ]
     },
     "execution_count": 65,
     "metadata": {},
     "output_type": "execute_result"
    }
   ],
   "source": [
    "confusion_matrix(y_test, y_pred)"
   ]
  },
  {
   "cell_type": "code",
   "execution_count": 66,
   "id": "8baf4b2e",
   "metadata": {
    "scrolled": true
   },
   "outputs": [
    {
     "name": "stdout",
     "output_type": "stream",
     "text": [
      "              precision    recall  f1-score   support\n",
      "\n",
      "           0       0.99      0.97      0.98      2824\n",
      "           1       0.30      0.70      0.42        56\n",
      "\n",
      "    accuracy                           0.96      2880\n",
      "   macro avg       0.65      0.83      0.70      2880\n",
      "weighted avg       0.98      0.96      0.97      2880\n",
      "\n"
     ]
    }
   ],
   "source": [
    "print(classification_report(y_test, y_pred))"
   ]
  },
  {
   "cell_type": "markdown",
   "id": "14dd3a62",
   "metadata": {},
   "source": [
    "## ADASYN"
   ]
  },
  {
   "cell_type": "code",
   "execution_count": 67,
   "id": "d9b8e8a7",
   "metadata": {},
   "outputs": [],
   "source": [
    "ada = ADASYN(sampling_strategy = 1, random_state=42, n_neighbors = 4)"
   ]
  },
  {
   "cell_type": "code",
   "execution_count": 68,
   "id": "316d97dd",
   "metadata": {},
   "outputs": [],
   "source": [
    "X_res, y_res = ada.fit_resample(X_train, y_train)"
   ]
  },
  {
   "cell_type": "code",
   "execution_count": 69,
   "id": "41f4f860",
   "metadata": {},
   "outputs": [
    {
     "data": {
      "text/plain": [
       "fraudulent\n",
       "1             11297\n",
       "0             11293\n",
       "dtype: int64"
      ]
     },
     "execution_count": 69,
     "metadata": {},
     "output_type": "execute_result"
    }
   ],
   "source": [
    "y_res.value_counts()"
   ]
  },
  {
   "cell_type": "code",
   "execution_count": 70,
   "id": "93e92e84",
   "metadata": {},
   "outputs": [
    {
     "name": "stderr",
     "output_type": "stream",
     "text": [
      "C:\\Anaconda3\\lib\\site-packages\\sklearn\\utils\\validation.py:993: DataConversionWarning: A column-vector y was passed when a 1d array was expected. Please change the shape of y to (n_samples, ), for example using ravel().\n",
      "  y = column_or_1d(y, warn=True)\n"
     ]
    },
    {
     "name": "stdout",
     "output_type": "stream",
     "text": [
      "              precision    recall  f1-score   support\n",
      "\n",
      "           0       0.98      1.00      0.99      2824\n",
      "           1       0.60      0.05      0.10        56\n",
      "\n",
      "    accuracy                           0.98      2880\n",
      "   macro avg       0.79      0.53      0.54      2880\n",
      "weighted avg       0.97      0.98      0.97      2880\n",
      "\n"
     ]
    },
    {
     "name": "stderr",
     "output_type": "stream",
     "text": [
      "C:\\Anaconda3\\lib\\site-packages\\sklearn\\linear_model\\_logistic.py:814: ConvergenceWarning: lbfgs failed to converge (status=1):\n",
      "STOP: TOTAL NO. of ITERATIONS REACHED LIMIT.\n",
      "\n",
      "Increase the number of iterations (max_iter) or scale the data as shown in:\n",
      "    https://scikit-learn.org/stable/modules/preprocessing.html\n",
      "Please also refer to the documentation for alternative solver options:\n",
      "    https://scikit-learn.org/stable/modules/linear_model.html#logistic-regression\n",
      "  n_iter_i = _check_optimize_result(\n"
     ]
    }
   ],
   "source": [
    "classifier = LogisticRegression()\n",
    "classifier.fit(X_train, y_train)\n",
    "print(classification_report(y_test, classifier.predict(X_test)))"
   ]
  },
  {
   "cell_type": "code",
   "execution_count": 71,
   "id": "5ef9239f",
   "metadata": {},
   "outputs": [
    {
     "name": "stderr",
     "output_type": "stream",
     "text": [
      "C:\\Anaconda3\\lib\\site-packages\\sklearn\\utils\\validation.py:993: DataConversionWarning: A column-vector y was passed when a 1d array was expected. Please change the shape of y to (n_samples, ), for example using ravel().\n",
      "  y = column_or_1d(y, warn=True)\n"
     ]
    },
    {
     "name": "stdout",
     "output_type": "stream",
     "text": [
      "              precision    recall  f1-score   support\n",
      "\n",
      "           0       0.99      0.84      0.91      2824\n",
      "           1       0.07      0.66      0.13        56\n",
      "\n",
      "    accuracy                           0.83      2880\n",
      "   macro avg       0.53      0.75      0.52      2880\n",
      "weighted avg       0.97      0.83      0.89      2880\n",
      "\n"
     ]
    },
    {
     "name": "stderr",
     "output_type": "stream",
     "text": [
      "C:\\Anaconda3\\lib\\site-packages\\sklearn\\linear_model\\_logistic.py:814: ConvergenceWarning: lbfgs failed to converge (status=1):\n",
      "STOP: TOTAL NO. of ITERATIONS REACHED LIMIT.\n",
      "\n",
      "Increase the number of iterations (max_iter) or scale the data as shown in:\n",
      "    https://scikit-learn.org/stable/modules/preprocessing.html\n",
      "Please also refer to the documentation for alternative solver options:\n",
      "    https://scikit-learn.org/stable/modules/linear_model.html#logistic-regression\n",
      "  n_iter_i = _check_optimize_result(\n"
     ]
    }
   ],
   "source": [
    "classifier = LogisticRegression()\n",
    "classifier.fit(X_res, y_res)\n",
    "print(classification_report(y_test, classifier.predict(X_test)))"
   ]
  },
  {
   "cell_type": "markdown",
   "id": "f7a96009",
   "metadata": {},
   "source": [
    "### NN"
   ]
  },
  {
   "cell_type": "code",
   "execution_count": 72,
   "id": "7012a815",
   "metadata": {},
   "outputs": [],
   "source": [
    "### Model building\n",
    "model = Sequential()\n",
    "model.add(Dense(128, activation='relu'))\n",
    "model.add(Dropout(0.2))\n",
    "model.add(Dense(64, activation='relu'))\n",
    "model.add(Dropout(0.2))\n",
    "model.add(Dense(64, activation='relu'))\n",
    "model.add(Dropout(0.2))\n",
    "model.add(Dense(32, activation='relu'))\n",
    "model.add(Dropout(0.2))\n",
    "model.add(Dense(1, activation='sigmoid'))\n",
    "model.compile(loss='binary_crossentropy', optimizer='adam', metrics=['accuracy'])"
   ]
  },
  {
   "cell_type": "code",
   "execution_count": 73,
   "id": "3eb7afa0",
   "metadata": {},
   "outputs": [
    {
     "name": "stdout",
     "output_type": "stream",
     "text": [
      "Epoch 1/25\n",
      "706/706 [==============================] - 10s 7ms/step - loss: 0.6552 - accuracy: 0.6136\n",
      "Epoch 2/25\n",
      "706/706 [==============================] - 5s 7ms/step - loss: 0.3291 - accuracy: 0.8573\n",
      "Epoch 3/25\n",
      "706/706 [==============================] - 5s 7ms/step - loss: 0.2232 - accuracy: 0.9131\n",
      "Epoch 4/25\n",
      "706/706 [==============================] - 5s 7ms/step - loss: 0.1703 - accuracy: 0.9379\n",
      "Epoch 5/25\n",
      "706/706 [==============================] - 7s 10ms/step - loss: 0.1395 - accuracy: 0.9511\n",
      "Epoch 6/25\n",
      "706/706 [==============================] - 7s 10ms/step - loss: 0.1110 - accuracy: 0.9620\n",
      "Epoch 7/25\n",
      "706/706 [==============================] - 7s 10ms/step - loss: 0.1029 - accuracy: 0.9663\n",
      "Epoch 8/25\n",
      "706/706 [==============================] - 7s 10ms/step - loss: 0.0948 - accuracy: 0.9693\n",
      "Epoch 9/25\n",
      "706/706 [==============================] - 6s 8ms/step - loss: 0.0752 - accuracy: 0.9761\n",
      "Epoch 10/25\n",
      "706/706 [==============================] - 5s 8ms/step - loss: 0.0824 - accuracy: 0.9740\n",
      "Epoch 11/25\n",
      "706/706 [==============================] - 6s 9ms/step - loss: 0.0858 - accuracy: 0.9718\n",
      "Epoch 12/25\n",
      "706/706 [==============================] - 7s 10ms/step - loss: 0.0823 - accuracy: 0.9720\n",
      "Epoch 13/25\n",
      "706/706 [==============================] - 7s 10ms/step - loss: 0.0728 - accuracy: 0.9761\n",
      "Epoch 14/25\n",
      "706/706 [==============================] - 5s 7ms/step - loss: 0.0590 - accuracy: 0.9817\n",
      "Epoch 15/25\n",
      "706/706 [==============================] - 5s 7ms/step - loss: 0.0598 - accuracy: 0.9815\n",
      "Epoch 16/25\n",
      "706/706 [==============================] - 5s 7ms/step - loss: 0.0629 - accuracy: 0.9806\n",
      "Epoch 17/25\n",
      "706/706 [==============================] - 5s 7ms/step - loss: 0.0612 - accuracy: 0.9805\n",
      "Epoch 18/25\n",
      "706/706 [==============================] - 5s 7ms/step - loss: 0.0527 - accuracy: 0.9836\n",
      "Epoch 19/25\n",
      "706/706 [==============================] - 6s 9ms/step - loss: 0.0516 - accuracy: 0.9844\n",
      "Epoch 20/25\n",
      "706/706 [==============================] - 5s 8ms/step - loss: 0.0568 - accuracy: 0.9827\n",
      "Epoch 21/25\n",
      "706/706 [==============================] - 6s 8ms/step - loss: 0.0543 - accuracy: 0.9830\n",
      "Epoch 22/25\n",
      "706/706 [==============================] - 5s 7ms/step - loss: 0.0475 - accuracy: 0.9855\n",
      "Epoch 23/25\n",
      "706/706 [==============================] - 6s 8ms/step - loss: 0.0547 - accuracy: 0.9836\n",
      "Epoch 24/25\n",
      "706/706 [==============================] - 5s 7ms/step - loss: 0.0517 - accuracy: 0.9852\n",
      "Epoch 25/25\n",
      "706/706 [==============================] - 6s 8ms/step - loss: 0.0505 - accuracy: 0.9850\n"
     ]
    },
    {
     "data": {
      "text/plain": [
       "<keras.callbacks.History at 0x194063468b0>"
      ]
     },
     "execution_count": 73,
     "metadata": {},
     "output_type": "execute_result"
    }
   ],
   "source": [
    "model.fit(X_res, y_res, epochs=25)"
   ]
  },
  {
   "cell_type": "code",
   "execution_count": 74,
   "id": "94f6fa6b",
   "metadata": {},
   "outputs": [
    {
     "name": "stdout",
     "output_type": "stream",
     "text": [
      "706/706 [==============================] - 5s 5ms/step - loss: 0.0191 - accuracy: 0.9946\n",
      "[0.019140610471367836, 0.9945994019508362]\n"
     ]
    }
   ],
   "source": [
    "train_score = model.evaluate(X_res, y_res)\n",
    "print(train_score)"
   ]
  },
  {
   "cell_type": "code",
   "execution_count": 75,
   "id": "6aab939a",
   "metadata": {
    "scrolled": true
   },
   "outputs": [
    {
     "name": "stdout",
     "output_type": "stream",
     "text": [
      "90/90 [==============================] - 1s 4ms/step\n"
     ]
    }
   ],
   "source": [
    "pred = model.predict(X_test)"
   ]
  },
  {
   "cell_type": "code",
   "execution_count": 76,
   "id": "48eab321",
   "metadata": {},
   "outputs": [],
   "source": [
    "y_pred = np.where(pred < 0.5, 0, 1)"
   ]
  },
  {
   "cell_type": "code",
   "execution_count": 77,
   "id": "7e959420",
   "metadata": {},
   "outputs": [
    {
     "data": {
      "text/plain": [
       "array([[2770,   54],\n",
       "       [  22,   34]], dtype=int64)"
      ]
     },
     "execution_count": 77,
     "metadata": {},
     "output_type": "execute_result"
    }
   ],
   "source": [
    "confusion_matrix(y_test, y_pred)"
   ]
  },
  {
   "cell_type": "code",
   "execution_count": 78,
   "id": "6251f25b",
   "metadata": {},
   "outputs": [
    {
     "name": "stdout",
     "output_type": "stream",
     "text": [
      "              precision    recall  f1-score   support\n",
      "\n",
      "           0       0.99      0.98      0.99      2824\n",
      "           1       0.39      0.61      0.47        56\n",
      "\n",
      "    accuracy                           0.97      2880\n",
      "   macro avg       0.69      0.79      0.73      2880\n",
      "weighted avg       0.98      0.97      0.98      2880\n",
      "\n"
     ]
    }
   ],
   "source": [
    "print(classification_report(y_test, y_pred))"
   ]
  },
  {
   "cell_type": "markdown",
   "id": "1cee96bf",
   "metadata": {},
   "source": [
    "### CNN"
   ]
  },
  {
   "cell_type": "code",
   "execution_count": 79,
   "id": "958aba5a",
   "metadata": {},
   "outputs": [],
   "source": [
    "cnn_model = Sequential()\n",
    "cnn_model.add(Conv1D(32, 3, activation='relu', input_shape=(X_res.shape[1], 1)))\n",
    "cnn_model.add(MaxPooling1D(pool_size=2, strides=3))\n",
    "cnn_model.add(Flatten())\n",
    "cnn_model.add(Dense(128, activation='relu'))\n",
    "cnn_model.add(Dropout(0.2))\n",
    "cnn_model.add(Dense(64, activation='relu'))\n",
    "cnn_model.add(Dropout(0.2))\n",
    "cnn_model.add(Dense(64, activation='relu'))\n",
    "cnn_model.add(Dropout(0.2))\n",
    "cnn_model.add(Dense(32, activation='relu'))\n",
    "cnn_model.add(Dropout(0.2))\n",
    "cnn_model.add(Dense(1, activation='sigmoid'))\n",
    "cnn_model.compile(loss='binary_crossentropy', optimizer='adam', metrics=['accuracy'])"
   ]
  },
  {
   "cell_type": "code",
   "execution_count": 80,
   "id": "442a6246",
   "metadata": {},
   "outputs": [
    {
     "name": "stdout",
     "output_type": "stream",
     "text": [
      "Epoch 1/25\n",
      "706/706 [==============================] - 19s 19ms/step - loss: 0.4864 - accuracy: 0.7435\n",
      "Epoch 2/25\n",
      "706/706 [==============================] - 16s 23ms/step - loss: 0.3163 - accuracy: 0.8576\n",
      "Epoch 3/25\n",
      "706/706 [==============================] - 18s 25ms/step - loss: 0.2578 - accuracy: 0.8846\n",
      "Epoch 4/25\n",
      "706/706 [==============================] - 18s 25ms/step - loss: 0.2181 - accuracy: 0.9111\n",
      "Epoch 5/25\n",
      "706/706 [==============================] - 16s 22ms/step - loss: 0.1839 - accuracy: 0.9260\n",
      "Epoch 6/25\n",
      "706/706 [==============================] - 14s 19ms/step - loss: 0.1580 - accuracy: 0.9386\n",
      "Epoch 7/25\n",
      "706/706 [==============================] - 16s 22ms/step - loss: 0.1458 - accuracy: 0.9421\n",
      "Epoch 8/25\n",
      "706/706 [==============================] - 13s 19ms/step - loss: 0.1478 - accuracy: 0.9405\n",
      "Epoch 9/25\n",
      "706/706 [==============================] - 9s 13ms/step - loss: 0.1301 - accuracy: 0.9484\n",
      "Epoch 10/25\n",
      "706/706 [==============================] - 8s 12ms/step - loss: 0.1243 - accuracy: 0.9528\n",
      "Epoch 11/25\n",
      "706/706 [==============================] - 10s 15ms/step - loss: 0.1271 - accuracy: 0.9488\n",
      "Epoch 12/25\n",
      "706/706 [==============================] - 12s 17ms/step - loss: 0.1374 - accuracy: 0.9383\n",
      "Epoch 13/25\n",
      "706/706 [==============================] - 10s 15ms/step - loss: 0.1111 - accuracy: 0.9531\n",
      "Epoch 14/25\n",
      "706/706 [==============================] - 9s 13ms/step - loss: 0.1006 - accuracy: 0.9614\n",
      "Epoch 15/25\n",
      "706/706 [==============================] - 9s 12ms/step - loss: 0.0989 - accuracy: 0.9613\n",
      "Epoch 16/25\n",
      "706/706 [==============================] - 8s 11ms/step - loss: 0.1021 - accuracy: 0.9612\n",
      "Epoch 17/25\n",
      "706/706 [==============================] - 8s 11ms/step - loss: 0.0917 - accuracy: 0.9655\n",
      "Epoch 18/25\n",
      "706/706 [==============================] - 8s 11ms/step - loss: 0.0903 - accuracy: 0.9643\n",
      "Epoch 19/25\n",
      "706/706 [==============================] - 8s 11ms/step - loss: 0.0918 - accuracy: 0.9644\n",
      "Epoch 20/25\n",
      "706/706 [==============================] - 8s 11ms/step - loss: 0.0860 - accuracy: 0.9686\n",
      "Epoch 21/25\n",
      "706/706 [==============================] - 9s 13ms/step - loss: 0.0848 - accuracy: 0.9699\n",
      "Epoch 22/25\n",
      "706/706 [==============================] - 8s 12ms/step - loss: 0.0803 - accuracy: 0.9699\n",
      "Epoch 23/25\n",
      "706/706 [==============================] - 8s 12ms/step - loss: 0.0760 - accuracy: 0.9715\n",
      "Epoch 24/25\n",
      "706/706 [==============================] - 9s 12ms/step - loss: 0.0757 - accuracy: 0.9740\n",
      "Epoch 25/25\n",
      "706/706 [==============================] - 9s 12ms/step - loss: 0.0782 - accuracy: 0.9729\n"
     ]
    },
    {
     "data": {
      "text/plain": [
       "<keras.callbacks.History at 0x194083aa430>"
      ]
     },
     "execution_count": 80,
     "metadata": {},
     "output_type": "execute_result"
    }
   ],
   "source": [
    "cnn_model.fit(X_res, y_res, epochs=25)"
   ]
  },
  {
   "cell_type": "code",
   "execution_count": 81,
   "id": "b98105ee",
   "metadata": {},
   "outputs": [
    {
     "name": "stdout",
     "output_type": "stream",
     "text": [
      "706/706 [==============================] - 4s 5ms/step - loss: 0.0410 - accuracy: 0.9858\n",
      "[0.04103609547019005, 0.9857901930809021]\n"
     ]
    }
   ],
   "source": [
    "train_score = cnn_model.evaluate(X_res, y_res)\n",
    "print(train_score)"
   ]
  },
  {
   "cell_type": "code",
   "execution_count": 82,
   "id": "8702679a",
   "metadata": {},
   "outputs": [
    {
     "name": "stdout",
     "output_type": "stream",
     "text": [
      "90/90 [==============================] - 1s 5ms/step\n"
     ]
    }
   ],
   "source": [
    "pred = cnn_model.predict(X_test)"
   ]
  },
  {
   "cell_type": "code",
   "execution_count": 83,
   "id": "576d1f48",
   "metadata": {},
   "outputs": [],
   "source": [
    "y_pred = np.where(pred < 0.5, 0, 1)"
   ]
  },
  {
   "cell_type": "code",
   "execution_count": 84,
   "id": "51f34627",
   "metadata": {},
   "outputs": [
    {
     "data": {
      "text/plain": [
       "array([[2807,   17],\n",
       "       [  32,   24]], dtype=int64)"
      ]
     },
     "execution_count": 84,
     "metadata": {},
     "output_type": "execute_result"
    }
   ],
   "source": [
    "confusion_matrix(y_test, y_pred)"
   ]
  },
  {
   "cell_type": "code",
   "execution_count": 85,
   "id": "bcd15b96",
   "metadata": {},
   "outputs": [
    {
     "name": "stdout",
     "output_type": "stream",
     "text": [
      "              precision    recall  f1-score   support\n",
      "\n",
      "           0       0.99      0.99      0.99      2824\n",
      "           1       0.59      0.43      0.49        56\n",
      "\n",
      "    accuracy                           0.98      2880\n",
      "   macro avg       0.79      0.71      0.74      2880\n",
      "weighted avg       0.98      0.98      0.98      2880\n",
      "\n"
     ]
    }
   ],
   "source": [
    "print(classification_report(y_test, y_pred))"
   ]
  },
  {
   "cell_type": "code",
   "execution_count": null,
   "id": "65be2294",
   "metadata": {},
   "outputs": [],
   "source": []
  }
 ],
 "metadata": {
  "kernelspec": {
   "display_name": "Python 3 (ipykernel)",
   "language": "python",
   "name": "python3"
  },
  "language_info": {
   "codemirror_mode": {
    "name": "ipython",
    "version": 3
   },
   "file_extension": ".py",
   "mimetype": "text/x-python",
   "name": "python",
   "nbconvert_exporter": "python",
   "pygments_lexer": "ipython3",
   "version": "3.9.12"
  }
 },
 "nbformat": 4,
 "nbformat_minor": 5
}
