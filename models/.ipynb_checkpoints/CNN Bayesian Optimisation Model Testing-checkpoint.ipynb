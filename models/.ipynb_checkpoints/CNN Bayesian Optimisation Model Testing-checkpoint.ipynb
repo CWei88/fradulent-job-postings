{
 "cells": [
  {
   "cell_type": "code",
   "execution_count": 1,
   "id": "6cc84fb4",
   "metadata": {},
   "outputs": [],
   "source": [
    "import pandas as pd\n",
    "import numpy as np\n",
    "from matplotlib import pyplot as plt\n",
    "\n",
    "# oversampling packages\n",
    "from imblearn.combine import SMOTEENN\n",
    "from collections import Counter\n",
    "from imblearn.over_sampling import SMOTE\n",
    "from imblearn.under_sampling import EditedNearestNeighbours\n",
    "from imblearn.over_sampling import RandomOverSampler\n",
    "\n",
    "#optimisation\n",
    "from bayes_opt import BayesianOptimization\n",
    "\n",
    "# model building\n",
    "import keras\n",
    "import tensorflow\n",
    "from keras import layers\n",
    "from keras.models import Sequential\n",
    "from keras.layers import Dense, Activation, Dropout, Flatten, Embedding, SimpleRNN , concatenate, Lambda, Conv1D, MaxPooling1D\n",
    "from keras.layers import LeakyReLU\n",
    "from keras.callbacks import EarlyStopping, ModelCheckpoint\n",
    "from keras.optimizers import Adam, SGD, RMSprop, Adadelta, Adagrad, Adamax, Nadam, Ftrl\n",
    "from keras import metrics\n",
    "from keras.losses import BinaryCrossentropy\n",
    "from keras.wrappers.scikit_learn import KerasClassifier\n",
    "\n",
    "from sklearn.model_selection import train_test_split\n",
    "from sklearn.model_selection import cross_val_score\n",
    "from sklearn.preprocessing import StandardScaler, LabelEncoder\n",
    "from sklearn.linear_model import LogisticRegression\n",
    "from sklearn.metrics import classification_report, confusion_matrix, f1_score, precision_score, recall_score, accuracy_score\n",
    "from sklearn import linear_model, model_selection"
   ]
  },
  {
   "cell_type": "markdown",
   "id": "86aaddd1",
   "metadata": {},
   "source": [
    "## Loading Models"
   ]
  },
  {
   "cell_type": "code",
   "execution_count": 5,
   "id": "08c502db",
   "metadata": {},
   "outputs": [],
   "source": [
    "X_train = pd.read_csv('../datasets/word2vec/train_data_imputed_FINAL.csv')\n",
    "X_test = pd.read_csv('../datasets/word2vec/test_data_imputed_FINAL.csv')\n",
    "y_train = pd.read_csv('../datasets/word2vec/y_train_FINAL.csv')\n",
    "y_test = pd.read_csv('../datasets/word2vec/y_test_FINAL.csv')"
   ]
  },
  {
   "cell_type": "code",
   "execution_count": 6,
   "id": "264fda64",
   "metadata": {},
   "outputs": [],
   "source": [
    "y_train = y_train.drop(columns=['Unnamed: 0'])\n",
    "y_test = y_test.drop(columns=['Unnamed: 0'])"
   ]
  },
  {
   "cell_type": "code",
   "execution_count": 7,
   "id": "0bc6e051",
   "metadata": {},
   "outputs": [],
   "source": [
    "ros = RandomOverSampler(sampling_strategy = 1, random_state=42)\n",
    "X_res, y_res = ros.fit_resample(X_train, y_train)"
   ]
  },
  {
   "cell_type": "markdown",
   "id": "563514d7",
   "metadata": {},
   "source": [
    "## CNN Model 1"
   ]
  },
  {
   "cell_type": "code",
   "execution_count": 5,
   "id": "30b8c75e",
   "metadata": {},
   "outputs": [],
   "source": [
    "best_params = {'activation': 4, \n",
    "               'batch_size': 263.7, \n",
    "               'dropout': .6181, \n",
    "               'dropout2':.4978,\n",
    "               'dropout_rate': 0.3217, \n",
    "               'dropout_rate1':.2936,\n",
    "               'epochs' : 28, \n",
    "               'filters':54,\n",
    "               'kernel':2,\n",
    "               'layers1': 3, \n",
    "               'layers2':3, \n",
    "               'learning_rate': 0.003667, \n",
    "               'neurons': 113.8 , 'optimizer': 2, \n",
    "              'pool_size':3, 'strides':3}"
   ]
  },
  {
   "cell_type": "code",
   "execution_count": 6,
   "id": "b241e19b",
   "metadata": {},
   "outputs": [],
   "source": [
    "cnn_model = Sequential()\n",
    "cnn_model.add(Conv1D(54, 2, activation='relu', input_shape=(X_res.shape[1], 1)))\n",
    "cnn_model.add(MaxPooling1D(pool_size=3, strides=3))\n",
    "cnn_model.add(Flatten())\n",
    "cnn_model.add(Dense(113.8, activation='relu'))\n",
    "cnn_model.add(Dropout(0.3217))\n",
    "cnn_model.add(Dense(113.8, activation='relu'))\n",
    "cnn_model.add(Dropout(0.3217))\n",
    "cnn_model.add(Dense(113.8, activation='relu'))\n",
    "cnn_model.add(Dropout(0.3217))\n",
    "cnn_model.add(Dense(113.8, activation='relu'))\n",
    "cnn_model.add(Dense(113.8, activation='relu'))\n",
    "cnn_model.add(Dense(113.8, activation='relu'))\n",
    "cnn_model.add(Dense(1, activation='sigmoid'))\n",
    "cnn_model.compile(loss='binary_crossentropy', optimizer = RMSprop(learning_rate=0.003667), metrics=['accuracy',metrics.Precision(), metrics.Recall(),metrics.AUC()])"
   ]
  },
  {
   "cell_type": "code",
   "execution_count": 7,
   "id": "e5afd7ff",
   "metadata": {},
   "outputs": [
    {
     "name": "stdout",
     "output_type": "stream",
     "text": [
      "Epoch 1/28\n",
      "86/86 [==============================] - 9s 61ms/step - loss: 0.8319 - accuracy: 0.5763 - precision: 0.5784 - recall: 0.5626 - auc: 0.6122\n",
      "Epoch 2/28\n",
      "86/86 [==============================] - 5s 60ms/step - loss: 0.5540 - accuracy: 0.7196 - precision: 0.6904 - recall: 0.7963 - auc: 0.7782\n",
      "Epoch 3/28\n",
      "86/86 [==============================] - 5s 60ms/step - loss: 0.4680 - accuracy: 0.7794 - precision: 0.7565 - recall: 0.8241 - auc: 0.8522\n",
      "Epoch 4/28\n",
      "86/86 [==============================] - 5s 60ms/step - loss: 0.4127 - accuracy: 0.8155 - precision: 0.8134 - recall: 0.8190 - auc: 0.8918\n",
      "Epoch 5/28\n",
      "86/86 [==============================] - 5s 60ms/step - loss: 0.3656 - accuracy: 0.8420 - precision: 0.8385 - recall: 0.8472 - auc: 0.9140\n",
      "Epoch 6/28\n",
      "86/86 [==============================] - 5s 60ms/step - loss: 0.3198 - accuracy: 0.8631 - precision: 0.8628 - recall: 0.8636 - auc: 0.9334\n",
      "Epoch 7/28\n",
      "86/86 [==============================] - 5s 61ms/step - loss: 0.2981 - accuracy: 0.8835 - precision: 0.8771 - recall: 0.8919 - auc: 0.9434\n",
      "Epoch 8/28\n",
      "86/86 [==============================] - 5s 61ms/step - loss: 0.2888 - accuracy: 0.8876 - precision: 0.8791 - recall: 0.8989 - auc: 0.9461\n",
      "Epoch 9/28\n",
      "86/86 [==============================] - 5s 60ms/step - loss: 0.2569 - accuracy: 0.8944 - precision: 0.8933 - recall: 0.8959 - auc: 0.9565\n",
      "Epoch 10/28\n",
      "86/86 [==============================] - 5s 59ms/step - loss: 0.2355 - accuracy: 0.9072 - precision: 0.9027 - recall: 0.9129 - auc: 0.9636\n",
      "Epoch 11/28\n",
      "86/86 [==============================] - 5s 60ms/step - loss: 0.2223 - accuracy: 0.9154 - precision: 0.9036 - recall: 0.9301 - auc: 0.9671\n",
      "Epoch 12/28\n",
      "86/86 [==============================] - 5s 60ms/step - loss: 0.2139 - accuracy: 0.9190 - precision: 0.9073 - recall: 0.9334 - auc: 0.9691\n",
      "Epoch 13/28\n",
      "86/86 [==============================] - 5s 59ms/step - loss: 0.2014 - accuracy: 0.9236 - precision: 0.9081 - recall: 0.9427 - auc: 0.9717\n",
      "Epoch 14/28\n",
      "86/86 [==============================] - 5s 60ms/step - loss: 0.1951 - accuracy: 0.9307 - precision: 0.9194 - recall: 0.9441 - auc: 0.9735\n",
      "Epoch 15/28\n",
      "86/86 [==============================] - 5s 59ms/step - loss: 0.1865 - accuracy: 0.9353 - precision: 0.9204 - recall: 0.9531 - auc: 0.9746\n",
      "Epoch 16/28\n",
      "86/86 [==============================] - 5s 59ms/step - loss: 0.1707 - accuracy: 0.9378 - precision: 0.9281 - recall: 0.9492 - auc: 0.9788\n",
      "Epoch 17/28\n",
      "86/86 [==============================] - 5s 59ms/step - loss: 0.1710 - accuracy: 0.9414 - precision: 0.9283 - recall: 0.9567 - auc: 0.9787\n",
      "Epoch 18/28\n",
      "86/86 [==============================] - 5s 59ms/step - loss: 0.1580 - accuracy: 0.9444 - precision: 0.9282 - recall: 0.9634 - auc: 0.9804\n",
      "Epoch 19/28\n",
      "86/86 [==============================] - 5s 60ms/step - loss: 0.1641 - accuracy: 0.9404 - precision: 0.9255 - recall: 0.9578 - auc: 0.9797\n",
      "Epoch 20/28\n",
      "86/86 [==============================] - 5s 59ms/step - loss: 0.1420 - accuracy: 0.9498 - precision: 0.9335 - recall: 0.9687 - auc: 0.9832\n",
      "Epoch 21/28\n",
      "86/86 [==============================] - 5s 59ms/step - loss: 0.1573 - accuracy: 0.9529 - precision: 0.9403 - recall: 0.9673 - auc: 0.9821\n",
      "Epoch 22/28\n",
      "86/86 [==============================] - 5s 59ms/step - loss: 0.1481 - accuracy: 0.9512 - precision: 0.9356 - recall: 0.9692 - auc: 0.9837\n",
      "Epoch 23/28\n",
      "86/86 [==============================] - 5s 59ms/step - loss: 0.1541 - accuracy: 0.9519 - precision: 0.9356 - recall: 0.9706 - auc: 0.9831\n",
      "Epoch 24/28\n",
      "86/86 [==============================] - 5s 59ms/step - loss: 0.1469 - accuracy: 0.9556 - precision: 0.9416 - recall: 0.9714 - auc: 0.9838\n",
      "Epoch 25/28\n",
      "86/86 [==============================] - 5s 59ms/step - loss: 0.1438 - accuracy: 0.9577 - precision: 0.9449 - recall: 0.9720 - auc: 0.9849\n",
      "Epoch 26/28\n",
      "86/86 [==============================] - 5s 59ms/step - loss: 0.1348 - accuracy: 0.9557 - precision: 0.9492 - recall: 0.9629 - auc: 0.9868\n",
      "Epoch 27/28\n",
      "86/86 [==============================] - 5s 60ms/step - loss: 0.1461 - accuracy: 0.9562 - precision: 0.9457 - recall: 0.9679 - auc: 0.9848\n",
      "Epoch 28/28\n",
      "86/86 [==============================] - 5s 60ms/step - loss: 0.1565 - accuracy: 0.9524 - precision: 0.9417 - recall: 0.9646 - auc: 0.9825\n"
     ]
    },
    {
     "data": {
      "text/plain": [
       "<keras.callbacks.History at 0x222cf812d60>"
      ]
     },
     "execution_count": 7,
     "metadata": {},
     "output_type": "execute_result"
    }
   ],
   "source": [
    "cnn_model.fit(X_res, y_res, epochs=28, batch_size=264)"
   ]
  },
  {
   "cell_type": "code",
   "execution_count": 8,
   "id": "2fb357e1",
   "metadata": {},
   "outputs": [
    {
     "name": "stdout",
     "output_type": "stream",
     "text": [
      "706/706 [==============================] - 5s 6ms/step - loss: 0.0847 - accuracy: 0.9699 - precision: 0.9433 - recall: 1.0000 - auc: 0.9956\n",
      "[0.08467860519886017, 0.9699371457099915, 0.9432843327522278, 1.0, 0.9956314563751221]\n"
     ]
    }
   ],
   "source": [
    "train_score = cnn_model.evaluate(X_res, y_res)\n",
    "print(train_score)"
   ]
  },
  {
   "cell_type": "code",
   "execution_count": 9,
   "id": "01284ee6",
   "metadata": {},
   "outputs": [
    {
     "name": "stdout",
     "output_type": "stream",
     "text": [
      "90/90 [==============================] - 1s 5ms/step\n"
     ]
    }
   ],
   "source": [
    "pred = cnn_model.predict(X_test)\n",
    "y_pred = np.where(pred < 0.5, 0, 1)"
   ]
  },
  {
   "cell_type": "code",
   "execution_count": 10,
   "id": "716f6515",
   "metadata": {},
   "outputs": [
    {
     "data": {
      "text/plain": [
       "array([[2640,  184],\n",
       "       [   5,   51]], dtype=int64)"
      ]
     },
     "execution_count": 10,
     "metadata": {},
     "output_type": "execute_result"
    }
   ],
   "source": [
    "confusion_matrix(y_test, y_pred)"
   ]
  },
  {
   "cell_type": "code",
   "execution_count": 11,
   "id": "85e2bcfe",
   "metadata": {},
   "outputs": [
    {
     "name": "stdout",
     "output_type": "stream",
     "text": [
      "0.934375\n",
      "0.2170212765957447\n",
      "0.9107142857142857\n",
      "0.35051546391752575\n"
     ]
    }
   ],
   "source": [
    "print(accuracy_score(y_test, y_pred))\n",
    "print(precision_score(y_test, y_pred))\n",
    "print(recall_score(y_test, y_pred))\n",
    "print(f1_score(y_test, y_pred))"
   ]
  },
  {
   "cell_type": "markdown",
   "id": "83f33621",
   "metadata": {},
   "source": [
    "## CNN Model 2"
   ]
  },
  {
   "cell_type": "code",
   "execution_count": 12,
   "id": "a9c50839",
   "metadata": {},
   "outputs": [],
   "source": [
    "best_params = {'activation': 3, \n",
    "               'batch_size': 266.4, \n",
    "               'dropout': .9696, \n",
    "               'dropout2':.7751,\n",
    "               'dropout_rate': 0.3758, \n",
    "               'dropout_rate1':.3579,\n",
    "               'epochs' : 22, \n",
    "               'filters':60,\n",
    "               'kernel':1,\n",
    "               'layers1': 1, \n",
    "               'layers2':1, \n",
    "               'learning_rate': 0.003928, \n",
    "               'neurons': 119.1 , 'optimizer': 2, \n",
    "              'pool_size':3, 'strides':1}"
   ]
  },
  {
   "cell_type": "code",
   "execution_count": 14,
   "id": "05b3c6af",
   "metadata": {},
   "outputs": [],
   "source": [
    "cnn_model = Sequential()\n",
    "cnn_model.add(Conv1D(60, 1, activation='relu', input_shape=(X_res.shape[1], 1)))\n",
    "cnn_model.add(MaxPooling1D(pool_size=3, strides=1))\n",
    "cnn_model.add(Flatten())\n",
    "cnn_model.add(Dense(119.1, activation='relu'))\n",
    "cnn_model.add(Dropout(0.3758))\n",
    "cnn_model.add(Dense(119.1, activation='relu'))\n",
    "cnn_model.add(Dropout(0.3579))\n",
    "cnn_model.add(Dense(1, activation='sigmoid'))\n",
    "cnn_model.compile(loss='binary_crossentropy', optimizer = RMSprop(learning_rate=0.003928), metrics=['accuracy',metrics.Precision(), metrics.Recall(),metrics.AUC()])"
   ]
  },
  {
   "cell_type": "code",
   "execution_count": 15,
   "id": "8e5e8e83",
   "metadata": {},
   "outputs": [
    {
     "name": "stdout",
     "output_type": "stream",
     "text": [
      "Epoch 1/22\n",
      "85/85 [==============================] - 12s 111ms/step - loss: 1.2118 - accuracy: 0.6019 - precision_1: 0.5959 - recall_1: 0.6333 - auc_1: 0.6239\n",
      "Epoch 2/22\n",
      "85/85 [==============================] - 10s 112ms/step - loss: 0.5367 - accuracy: 0.7279 - precision_1: 0.6898 - recall_1: 0.8284 - auc_1: 0.7938\n",
      "Epoch 3/22\n",
      "85/85 [==============================] - 10s 115ms/step - loss: 0.4407 - accuracy: 0.7892 - precision_1: 0.7470 - recall_1: 0.8747 - auc_1: 0.8615\n",
      "Epoch 4/22\n",
      "85/85 [==============================] - 10s 113ms/step - loss: 0.3817 - accuracy: 0.8208 - precision_1: 0.7827 - recall_1: 0.8881 - auc_1: 0.8969\n",
      "Epoch 5/22\n",
      "85/85 [==============================] - 10s 112ms/step - loss: 0.3468 - accuracy: 0.8450 - precision_1: 0.8099 - recall_1: 0.9017 - auc_1: 0.9193\n",
      "Epoch 6/22\n",
      "85/85 [==============================] - 9s 111ms/step - loss: 0.3042 - accuracy: 0.8652 - precision_1: 0.8267 - recall_1: 0.9240 - auc_1: 0.9357\n",
      "Epoch 7/22\n",
      "85/85 [==============================] - 9s 112ms/step - loss: 0.2766 - accuracy: 0.8783 - precision_1: 0.8447 - recall_1: 0.9271 - auc_1: 0.9459\n",
      "Epoch 8/22\n",
      "85/85 [==============================] - 10s 115ms/step - loss: 0.2651 - accuracy: 0.8872 - precision_1: 0.8577 - recall_1: 0.9284 - auc_1: 0.9515\n",
      "Epoch 9/22\n",
      "85/85 [==============================] - 10s 119ms/step - loss: 0.2308 - accuracy: 0.8998 - precision_1: 0.8683 - recall_1: 0.9427 - auc_1: 0.9613\n",
      "Epoch 10/22\n",
      "85/85 [==============================] - 11s 124ms/step - loss: 0.2195 - accuracy: 0.9111 - precision_1: 0.8792 - recall_1: 0.9531 - auc_1: 0.9644\n",
      "Epoch 11/22\n",
      "85/85 [==============================] - 11s 127ms/step - loss: 0.2161 - accuracy: 0.9128 - precision_1: 0.8843 - recall_1: 0.9499 - auc_1: 0.9662\n",
      "Epoch 12/22\n",
      "85/85 [==============================] - 10s 123ms/step - loss: 0.2017 - accuracy: 0.9192 - precision_1: 0.8905 - recall_1: 0.9560 - auc_1: 0.9696\n",
      "Epoch 13/22\n",
      "85/85 [==============================] - 11s 128ms/step - loss: 0.1881 - accuracy: 0.9248 - precision_1: 0.8956 - recall_1: 0.9617 - auc_1: 0.9721\n",
      "Epoch 14/22\n",
      "85/85 [==============================] - 11s 130ms/step - loss: 0.1868 - accuracy: 0.9286 - precision_1: 0.9019 - recall_1: 0.9618 - auc_1: 0.9744\n",
      "Epoch 15/22\n",
      "85/85 [==============================] - 11s 127ms/step - loss: 0.1741 - accuracy: 0.9327 - precision_1: 0.9071 - recall_1: 0.9640 - auc_1: 0.9769\n",
      "Epoch 16/22\n",
      "85/85 [==============================] - 10s 117ms/step - loss: 0.1613 - accuracy: 0.9388 - precision_1: 0.9171 - recall_1: 0.9648 - auc_1: 0.9794\n",
      "Epoch 17/22\n",
      "85/85 [==============================] - 10s 114ms/step - loss: 0.1644 - accuracy: 0.9367 - precision_1: 0.9142 - recall_1: 0.9639 - auc_1: 0.9789\n",
      "Epoch 18/22\n",
      "85/85 [==============================] - 10s 116ms/step - loss: 0.1589 - accuracy: 0.9426 - precision_1: 0.9224 - recall_1: 0.9664 - auc_1: 0.9809\n",
      "Epoch 19/22\n",
      "85/85 [==============================] - 10s 112ms/step - loss: 0.1517 - accuracy: 0.9429 - precision_1: 0.9212 - recall_1: 0.9687 - auc_1: 0.9818\n",
      "Epoch 20/22\n",
      "85/85 [==============================] - 10s 112ms/step - loss: 0.1485 - accuracy: 0.9457 - precision_1: 0.9254 - recall_1: 0.9696 - auc_1: 0.9827\n",
      "Epoch 21/22\n",
      "85/85 [==============================] - 9s 112ms/step - loss: 0.1367 - accuracy: 0.9493 - precision_1: 0.9285 - recall_1: 0.9735 - auc_1: 0.9848\n",
      "Epoch 22/22\n",
      "85/85 [==============================] - 10s 112ms/step - loss: 0.1303 - accuracy: 0.9508 - precision_1: 0.9306 - recall_1: 0.9741 - auc_1: 0.9855\n"
     ]
    },
    {
     "data": {
      "text/plain": [
       "<keras.callbacks.History at 0x222c0b0fdf0>"
      ]
     },
     "execution_count": 15,
     "metadata": {},
     "output_type": "execute_result"
    }
   ],
   "source": [
    "cnn_model.fit(X_res, y_res, epochs=22, batch_size=266)"
   ]
  },
  {
   "cell_type": "code",
   "execution_count": 16,
   "id": "e1b22efc",
   "metadata": {},
   "outputs": [
    {
     "name": "stdout",
     "output_type": "stream",
     "text": [
      "706/706 [==============================] - 7s 8ms/step - loss: 0.0603 - accuracy: 0.9778 - precision_1: 0.9820 - recall_1: 0.9733 - auc_1: 0.9975\n",
      "[0.060278505086898804, 0.9777738451957703, 0.9820423722267151, 0.9733462929725647, 0.997482180595398]\n"
     ]
    }
   ],
   "source": [
    "train_score = cnn_model.evaluate(X_res, y_res)\n",
    "print(train_score)"
   ]
  },
  {
   "cell_type": "code",
   "execution_count": 17,
   "id": "9785e2de",
   "metadata": {},
   "outputs": [
    {
     "name": "stdout",
     "output_type": "stream",
     "text": [
      "90/90 [==============================] - 1s 8ms/step\n"
     ]
    }
   ],
   "source": [
    "pred = cnn_model.predict(X_test)\n",
    "y_pred = np.where(pred < 0.5, 0, 1)"
   ]
  },
  {
   "cell_type": "code",
   "execution_count": 18,
   "id": "87c837ff",
   "metadata": {},
   "outputs": [
    {
     "data": {
      "text/plain": [
       "array([[2755,   69],\n",
       "       [  16,   40]], dtype=int64)"
      ]
     },
     "execution_count": 18,
     "metadata": {},
     "output_type": "execute_result"
    }
   ],
   "source": [
    "confusion_matrix(y_test, y_pred)"
   ]
  },
  {
   "cell_type": "code",
   "execution_count": 19,
   "id": "fcf6991f",
   "metadata": {},
   "outputs": [
    {
     "name": "stdout",
     "output_type": "stream",
     "text": [
      "0.9704861111111112\n",
      "0.3669724770642202\n",
      "0.7142857142857143\n",
      "0.4848484848484848\n"
     ]
    }
   ],
   "source": [
    "print(accuracy_score(y_test, y_pred))\n",
    "print(precision_score(y_test, y_pred))\n",
    "print(recall_score(y_test, y_pred))\n",
    "print(f1_score(y_test, y_pred))"
   ]
  },
  {
   "cell_type": "markdown",
   "id": "98ce617b",
   "metadata": {},
   "source": [
    "## CNN Model 3"
   ]
  },
  {
   "cell_type": "code",
   "execution_count": 20,
   "id": "21d75e45",
   "metadata": {},
   "outputs": [],
   "source": [
    "best_params = {'activation': 4, \n",
    "               'batch_size': 269, \n",
    "               'dropout': 1, \n",
    "               'dropout2':.556,\n",
    "               'dropout_rate': 0.4, \n",
    "               'dropout_rate1':.3176,\n",
    "               'epochs' : 29, \n",
    "               'filters':57,\n",
    "               'kernel':2,\n",
    "               'layers1': 2, \n",
    "               'layers2':2, \n",
    "               'learning_rate': 0.002523, \n",
    "               'neurons': 118.6 , 'optimizer': 2, \n",
    "              'pool_size':3, 'strides':3}"
   ]
  },
  {
   "cell_type": "code",
   "execution_count": 21,
   "id": "e8861460",
   "metadata": {},
   "outputs": [],
   "source": [
    "cnn_model = Sequential()\n",
    "cnn_model.add(Conv1D(57, 2, activation='relu', input_shape=(X_res.shape[1], 1)))\n",
    "cnn_model.add(MaxPooling1D(pool_size=3, strides=3))\n",
    "cnn_model.add(Flatten())\n",
    "cnn_model.add(Dense(118.6, activation='relu'))\n",
    "cnn_model.add(Dropout(0.4))\n",
    "cnn_model.add(Dense(118.6, activation='relu'))\n",
    "cnn_model.add(Dropout(0.4))\n",
    "cnn_model.add(Dense(118.6, activation='relu'))\n",
    "cnn_model.add(Dropout(0.3176))\n",
    "cnn_model.add(Dense(118.6, activation='relu'))\n",
    "cnn_model.add(Dropout(0.3176))\n",
    "cnn_model.add(Dense(1, activation='sigmoid'))\n",
    "cnn_model.compile(loss='binary_crossentropy', optimizer = RMSprop(learning_rate=0.002523), metrics=['accuracy',metrics.Precision(), metrics.Recall(),metrics.AUC()])"
   ]
  },
  {
   "cell_type": "code",
   "execution_count": 22,
   "id": "a3568162",
   "metadata": {},
   "outputs": [
    {
     "name": "stdout",
     "output_type": "stream",
     "text": [
      "Epoch 1/29\n",
      "84/84 [==============================] - 9s 64ms/step - loss: 0.7474 - accuracy: 0.5661 - precision_2: 0.5604 - recall_2: 0.6133 - auc_2: 0.5911\n",
      "Epoch 2/29\n",
      "84/84 [==============================] - 5s 64ms/step - loss: 0.6045 - accuracy: 0.6842 - precision_2: 0.6487 - recall_2: 0.8033 - auc_2: 0.7352\n",
      "Epoch 3/29\n",
      "84/84 [==============================] - 5s 64ms/step - loss: 0.4986 - accuracy: 0.7638 - precision_2: 0.7401 - recall_2: 0.8132 - auc_2: 0.8248\n",
      "Epoch 4/29\n",
      "84/84 [==============================] - 5s 63ms/step - loss: 0.4523 - accuracy: 0.7947 - precision_2: 0.7736 - recall_2: 0.8333 - auc_2: 0.8583\n",
      "Epoch 5/29\n",
      "84/84 [==============================] - 5s 64ms/step - loss: 0.4118 - accuracy: 0.8220 - precision_2: 0.8011 - recall_2: 0.8568 - auc_2: 0.8852\n",
      "Epoch 6/29\n",
      "84/84 [==============================] - 5s 64ms/step - loss: 0.3911 - accuracy: 0.8384 - precision_2: 0.8179 - recall_2: 0.8708 - auc_2: 0.8992\n",
      "Epoch 7/29\n",
      "84/84 [==============================] - 5s 65ms/step - loss: 0.3357 - accuracy: 0.8597 - precision_2: 0.8375 - recall_2: 0.8925 - auc_2: 0.9223\n",
      "Epoch 8/29\n",
      "84/84 [==============================] - 5s 64ms/step - loss: 0.3253 - accuracy: 0.8664 - precision_2: 0.8444 - recall_2: 0.8983 - auc_2: 0.9285\n",
      "Epoch 9/29\n",
      "84/84 [==============================] - 5s 64ms/step - loss: 0.2969 - accuracy: 0.8775 - precision_2: 0.8498 - recall_2: 0.9170 - auc_2: 0.9372\n",
      "Epoch 10/29\n",
      "84/84 [==============================] - 5s 65ms/step - loss: 0.2787 - accuracy: 0.8886 - precision_2: 0.8632 - recall_2: 0.9235 - auc_2: 0.9457\n",
      "Epoch 11/29\n",
      "84/84 [==============================] - 5s 63ms/step - loss: 0.2750 - accuracy: 0.8918 - precision_2: 0.8668 - recall_2: 0.9260 - auc_2: 0.9476\n",
      "Epoch 12/29\n",
      "84/84 [==============================] - 5s 64ms/step - loss: 0.2591 - accuracy: 0.8960 - precision_2: 0.8653 - recall_2: 0.9381 - auc_2: 0.9500\n",
      "Epoch 13/29\n",
      "84/84 [==============================] - 5s 64ms/step - loss: 0.2392 - accuracy: 0.9052 - precision_2: 0.8756 - recall_2: 0.9445 - auc_2: 0.9572\n",
      "Epoch 14/29\n",
      "84/84 [==============================] - 5s 64ms/step - loss: 0.2378 - accuracy: 0.9075 - precision_2: 0.8791 - recall_2: 0.9449 - auc_2: 0.9575\n",
      "Epoch 15/29\n",
      "84/84 [==============================] - 5s 64ms/step - loss: 0.2384 - accuracy: 0.9078 - precision_2: 0.8816 - recall_2: 0.9422 - auc_2: 0.9583\n",
      "Epoch 16/29\n",
      "84/84 [==============================] - 5s 64ms/step - loss: 0.2308 - accuracy: 0.9149 - precision_2: 0.8889 - recall_2: 0.9483 - auc_2: 0.9621\n",
      "Epoch 17/29\n",
      "84/84 [==============================] - 5s 64ms/step - loss: 0.2231 - accuracy: 0.9154 - precision_2: 0.8868 - recall_2: 0.9524 - auc_2: 0.9614\n",
      "Epoch 18/29\n",
      "84/84 [==============================] - 5s 65ms/step - loss: 0.2057 - accuracy: 0.9208 - precision_2: 0.8918 - recall_2: 0.9579 - auc_2: 0.9658\n",
      "Epoch 19/29\n",
      "84/84 [==============================] - 5s 64ms/step - loss: 0.1941 - accuracy: 0.9283 - precision_2: 0.8980 - recall_2: 0.9663 - auc_2: 0.9689\n",
      "Epoch 20/29\n",
      "84/84 [==============================] - 5s 65ms/step - loss: 0.1976 - accuracy: 0.9315 - precision_2: 0.9076 - recall_2: 0.9608 - auc_2: 0.9693\n",
      "Epoch 21/29\n",
      "84/84 [==============================] - 6s 67ms/step - loss: 0.1989 - accuracy: 0.9269 - precision_2: 0.8969 - recall_2: 0.9648 - auc_2: 0.9679\n",
      "Epoch 22/29\n",
      "84/84 [==============================] - 6s 66ms/step - loss: 0.1778 - accuracy: 0.9360 - precision_2: 0.9083 - recall_2: 0.9700 - auc_2: 0.9722\n",
      "Epoch 23/29\n",
      "84/84 [==============================] - 6s 66ms/step - loss: 0.1824 - accuracy: 0.9366 - precision_2: 0.9139 - recall_2: 0.9641 - auc_2: 0.9737\n",
      "Epoch 24/29\n",
      "84/84 [==============================] - 5s 65ms/step - loss: 0.1787 - accuracy: 0.9345 - precision_2: 0.9073 - recall_2: 0.9679 - auc_2: 0.9726\n",
      "Epoch 25/29\n",
      "84/84 [==============================] - 5s 63ms/step - loss: 0.1735 - accuracy: 0.9367 - precision_2: 0.9094 - recall_2: 0.9700 - auc_2: 0.9735\n",
      "Epoch 26/29\n",
      "84/84 [==============================] - 5s 64ms/step - loss: 0.1636 - accuracy: 0.9445 - precision_2: 0.9192 - recall_2: 0.9747 - auc_2: 0.9766\n",
      "Epoch 27/29\n",
      "84/84 [==============================] - 5s 64ms/step - loss: 0.1618 - accuracy: 0.9439 - precision_2: 0.9188 - recall_2: 0.9739 - auc_2: 0.9770\n",
      "Epoch 28/29\n",
      "84/84 [==============================] - 5s 65ms/step - loss: 0.1595 - accuracy: 0.9477 - precision_2: 0.9235 - recall_2: 0.9762 - auc_2: 0.9785\n",
      "Epoch 29/29\n",
      "84/84 [==============================] - 5s 64ms/step - loss: 0.1592 - accuracy: 0.9459 - precision_2: 0.9260 - recall_2: 0.9694 - auc_2: 0.9789\n"
     ]
    },
    {
     "data": {
      "text/plain": [
       "<keras.callbacks.History at 0x222ddd5e640>"
      ]
     },
     "execution_count": 22,
     "metadata": {},
     "output_type": "execute_result"
    }
   ],
   "source": [
    "cnn_model.fit(X_res, y_res, epochs=29, batch_size=269)"
   ]
  },
  {
   "cell_type": "code",
   "execution_count": 23,
   "id": "457817ba",
   "metadata": {},
   "outputs": [
    {
     "name": "stdout",
     "output_type": "stream",
     "text": [
      "706/706 [==============================] - 5s 6ms/step - loss: 0.0894 - accuracy: 0.9701 - precision_2: 0.9435 - recall_2: 1.0000 - auc_2: 0.9957\n",
      "[0.08944056928157806, 0.970069944858551, 0.9435207843780518, 1.0, 0.9957037568092346]\n"
     ]
    }
   ],
   "source": [
    "train_score = cnn_model.evaluate(X_res, y_res)\n",
    "print(train_score)"
   ]
  },
  {
   "cell_type": "code",
   "execution_count": 24,
   "id": "a66c5f5a",
   "metadata": {},
   "outputs": [
    {
     "name": "stdout",
     "output_type": "stream",
     "text": [
      "90/90 [==============================] - 1s 6ms/step\n"
     ]
    }
   ],
   "source": [
    "pred = cnn_model.predict(X_test)\n",
    "y_pred = np.where(pred < 0.5, 0, 1)"
   ]
  },
  {
   "cell_type": "code",
   "execution_count": 25,
   "id": "4233b81f",
   "metadata": {},
   "outputs": [
    {
     "data": {
      "text/plain": [
       "array([[2648,  176],\n",
       "       [   7,   49]], dtype=int64)"
      ]
     },
     "execution_count": 25,
     "metadata": {},
     "output_type": "execute_result"
    }
   ],
   "source": [
    "confusion_matrix(y_test, y_pred)"
   ]
  },
  {
   "cell_type": "code",
   "execution_count": 26,
   "id": "799d9373",
   "metadata": {},
   "outputs": [
    {
     "name": "stdout",
     "output_type": "stream",
     "text": [
      "0.9364583333333333\n",
      "0.21777777777777776\n",
      "0.875\n",
      "0.34875444839857644\n"
     ]
    }
   ],
   "source": [
    "print(accuracy_score(y_test, y_pred))\n",
    "print(precision_score(y_test, y_pred))\n",
    "print(recall_score(y_test, y_pred))\n",
    "print(f1_score(y_test, y_pred))"
   ]
  },
  {
   "cell_type": "markdown",
   "id": "2e5823ce",
   "metadata": {},
   "source": [
    "## CNN Model 4"
   ]
  },
  {
   "cell_type": "code",
   "execution_count": 5,
   "id": "8a808215",
   "metadata": {},
   "outputs": [],
   "source": [
    "params_rnn ={\n",
    "    'neurons': (32, 256),\n",
    "    'activation':(0, 6),\n",
    "    'optimizer':(0, 5),\n",
    "    'learning_rate':(0.001, 0.01),\n",
    "    'batch_size':(100, 1000),\n",
    "    'epochs':(10, 30),\n",
    "    'filters': (16, 64),\n",
    "    'kernel': (1, 4),\n",
    "    'pool_size': (1, 4),\n",
    "    'strides': (0, 4)\n",
    "}"
   ]
  },
  {
   "cell_type": "code",
   "execution_count": 9,
   "id": "8cd5137b",
   "metadata": {},
   "outputs": [],
   "source": [
    "cnn_model = Sequential()\n",
    "cnn_model.add(Conv1D(27, 3, activation='tanh', input_shape=(X_res.shape[1], 1)))\n",
    "cnn_model.add(MaxPooling1D(pool_size=4, strides=1))\n",
    "cnn_model.add(Flatten())\n",
    "cnn_model.add(Dense(256, activation='relu'))\n",
    "cnn_model.add(Dropout(0.2))\n",
    "cnn_model.add(Dense(128, activation='relu'))\n",
    "cnn_model.add(Dropout(0.2))\n",
    "cnn_model.add(Dense(64, activation='relu'))\n",
    "cnn_model.add(Dropout(0.2))\n",
    "cnn_model.add(Dense(32, activation='relu'))\n",
    "cnn_model.add(Dropout(0.2))\n",
    "cnn_model.add(Dense(1, activation='sigmoid'))\n",
    "cnn_model.compile(loss='binary_crossentropy', optimizer = RMSprop(learning_rate=0.002569), metrics=['accuracy',metrics.Precision(), metrics.Recall(),metrics.AUC()])"
   ]
  },
  {
   "cell_type": "code",
   "execution_count": 10,
   "id": "b31484f7",
   "metadata": {},
   "outputs": [
    {
     "name": "stdout",
     "output_type": "stream",
     "text": [
      "Epoch 1/27\n",
      "197/197 [==============================] - 14s 51ms/step - loss: 0.4339 - accuracy: 0.7947 - precision: 0.7750 - recall: 0.8303 - auc: 0.8807\n",
      "Epoch 2/27\n",
      "197/197 [==============================] - 10s 52ms/step - loss: 0.1565 - accuracy: 0.9457 - precision: 0.9225 - recall: 0.9733 - auc: 0.9829\n",
      "Epoch 3/27\n",
      "197/197 [==============================] - 13s 66ms/step - loss: 0.0845 - accuracy: 0.9730 - precision: 0.9620 - recall: 0.9849 - auc: 0.9938\n",
      "Epoch 4/27\n",
      "197/197 [==============================] - 14s 70ms/step - loss: 0.0594 - accuracy: 0.9812 - precision: 0.9743 - recall: 0.9885 - auc: 0.9965\n",
      "Epoch 5/27\n",
      "197/197 [==============================] - 14s 69ms/step - loss: 0.0612 - accuracy: 0.9846 - precision: 0.9802 - recall: 0.9893 - auc: 0.9963\n",
      "Epoch 6/27\n",
      "197/197 [==============================] - 14s 71ms/step - loss: 0.0391 - accuracy: 0.9880 - precision: 0.9866 - recall: 0.9896 - auc: 0.9983\n",
      "Epoch 7/27\n",
      "197/197 [==============================] - 14s 70ms/step - loss: 0.0346 - accuracy: 0.9902 - precision: 0.9890 - recall: 0.9914 - auc: 0.9983\n",
      "Epoch 8/27\n",
      "197/197 [==============================] - 13s 66ms/step - loss: 0.0326 - accuracy: 0.9906 - precision: 0.9909 - recall: 0.9903 - auc: 0.9985\n",
      "Epoch 9/27\n",
      "197/197 [==============================] - 13s 65ms/step - loss: 0.0316 - accuracy: 0.9923 - precision: 0.9926 - recall: 0.9920 - auc: 0.9983\n",
      "Epoch 10/27\n",
      "197/197 [==============================] - 13s 66ms/step - loss: 0.0285 - accuracy: 0.9936 - precision: 0.9934 - recall: 0.9938 - auc: 0.9987\n",
      "Epoch 11/27\n",
      "197/197 [==============================] - 13s 65ms/step - loss: 0.0267 - accuracy: 0.9942 - precision: 0.9932 - recall: 0.9951 - auc: 0.9985\n",
      "Epoch 12/27\n",
      "197/197 [==============================] - 13s 65ms/step - loss: 0.0205 - accuracy: 0.9947 - precision: 0.9938 - recall: 0.9957 - auc: 0.9989\n",
      "Epoch 13/27\n",
      "197/197 [==============================] - 13s 66ms/step - loss: 0.0186 - accuracy: 0.9952 - precision: 0.9947 - recall: 0.9957 - auc: 0.9990\n",
      "Epoch 14/27\n",
      "197/197 [==============================] - 13s 66ms/step - loss: 0.0192 - accuracy: 0.9948 - precision: 0.9942 - recall: 0.9954 - auc: 0.9991\n",
      "Epoch 15/27\n",
      "197/197 [==============================] - 13s 66ms/step - loss: 0.0175 - accuracy: 0.9954 - precision: 0.9949 - recall: 0.9958 - auc: 0.9990\n",
      "Epoch 16/27\n",
      "197/197 [==============================] - 14s 72ms/step - loss: 0.0132 - accuracy: 0.9967 - precision: 0.9961 - recall: 0.9973 - auc: 0.9992\n",
      "Epoch 17/27\n",
      "197/197 [==============================] - 13s 67ms/step - loss: 0.0143 - accuracy: 0.9960 - precision: 0.9969 - recall: 0.9950 - auc: 0.9995\n",
      "Epoch 18/27\n",
      "197/197 [==============================] - 13s 65ms/step - loss: 0.0148 - accuracy: 0.9961 - precision: 0.9958 - recall: 0.9963 - auc: 0.9993\n",
      "Epoch 19/27\n",
      "197/197 [==============================] - 14s 72ms/step - loss: 0.0160 - accuracy: 0.9961 - precision: 0.9964 - recall: 0.9957 - auc: 0.9990\n",
      "Epoch 20/27\n",
      "197/197 [==============================] - 13s 68ms/step - loss: 0.0119 - accuracy: 0.9972 - precision: 0.9973 - recall: 0.9970 - auc: 0.9994\n",
      "Epoch 21/27\n",
      "197/197 [==============================] - 13s 66ms/step - loss: 0.0118 - accuracy: 0.9977 - precision: 0.9976 - recall: 0.9979 - auc: 0.9993\n",
      "Epoch 22/27\n",
      "197/197 [==============================] - 13s 66ms/step - loss: 0.0136 - accuracy: 0.9969 - precision: 0.9967 - recall: 0.9972 - auc: 0.9993\n",
      "Epoch 23/27\n",
      "197/197 [==============================] - 13s 66ms/step - loss: 0.0121 - accuracy: 0.9971 - precision: 0.9977 - recall: 0.9965 - auc: 0.9992\n",
      "Epoch 24/27\n",
      "197/197 [==============================] - 13s 66ms/step - loss: 0.0140 - accuracy: 0.9964 - precision: 0.9969 - recall: 0.9958 - auc: 0.9994\n",
      "Epoch 25/27\n",
      "197/197 [==============================] - 13s 65ms/step - loss: 0.0101 - accuracy: 0.9979 - precision: 0.9981 - recall: 0.9977 - auc: 0.9994\n",
      "Epoch 26/27\n",
      "197/197 [==============================] - 13s 65ms/step - loss: 0.0101 - accuracy: 0.9980 - precision: 0.9984 - recall: 0.9976 - auc: 0.9995\n",
      "Epoch 27/27\n",
      "197/197 [==============================] - 13s 65ms/step - loss: 0.0130 - accuracy: 0.9981 - precision: 0.9982 - recall: 0.9979 - auc: 0.9993\n"
     ]
    },
    {
     "data": {
      "text/plain": [
       "<keras.callbacks.History at 0x210db312fd0>"
      ]
     },
     "execution_count": 10,
     "metadata": {},
     "output_type": "execute_result"
    }
   ],
   "source": [
    "cnn_model.fit(X_res, y_res, epochs=27, batch_size=115)"
   ]
  },
  {
   "cell_type": "code",
   "execution_count": 11,
   "id": "540e0f03",
   "metadata": {},
   "outputs": [
    {
     "name": "stdout",
     "output_type": "stream",
     "text": [
      "Model: \"sequential\"\n",
      "_________________________________________________________________\n",
      " Layer (type)                Output Shape              Param #   \n",
      "=================================================================\n",
      " conv1d (Conv1D)             (None, 261, 27)           108       \n",
      "                                                                 \n",
      " max_pooling1d (MaxPooling1D  (None, 258, 27)          0         \n",
      " )                                                               \n",
      "                                                                 \n",
      " flatten (Flatten)           (None, 6966)              0         \n",
      "                                                                 \n",
      " dense (Dense)               (None, 256)               1783552   \n",
      "                                                                 \n",
      " dropout (Dropout)           (None, 256)               0         \n",
      "                                                                 \n",
      " dense_1 (Dense)             (None, 128)               32896     \n",
      "                                                                 \n",
      " dropout_1 (Dropout)         (None, 128)               0         \n",
      "                                                                 \n",
      " dense_2 (Dense)             (None, 64)                8256      \n",
      "                                                                 \n",
      " dropout_2 (Dropout)         (None, 64)                0         \n",
      "                                                                 \n",
      " dense_3 (Dense)             (None, 32)                2080      \n",
      "                                                                 \n",
      " dropout_3 (Dropout)         (None, 32)                0         \n",
      "                                                                 \n",
      " dense_4 (Dense)             (None, 1)                 33        \n",
      "                                                                 \n",
      "=================================================================\n",
      "Total params: 1,826,925\n",
      "Trainable params: 1,826,925\n",
      "Non-trainable params: 0\n",
      "_________________________________________________________________\n"
     ]
    }
   ],
   "source": [
    "cnn_model.summary()"
   ]
  },
  {
   "cell_type": "code",
   "execution_count": 12,
   "id": "24887aac",
   "metadata": {},
   "outputs": [
    {
     "name": "stdout",
     "output_type": "stream",
     "text": [
      "706/706 [==============================] - 8s 10ms/step - loss: 8.0507e-05 - accuracy: 1.0000 - precision: 1.0000 - recall: 1.0000 - auc: 1.0000\n",
      "[8.050722681218758e-05, 1.0, 1.0, 1.0, 1.0]\n"
     ]
    }
   ],
   "source": [
    "train_score = cnn_model.evaluate(X_res, y_res)\n",
    "print(train_score)"
   ]
  },
  {
   "cell_type": "code",
   "execution_count": 15,
   "id": "5a3ada8f",
   "metadata": {},
   "outputs": [
    {
     "name": "stdout",
     "output_type": "stream",
     "text": [
      "360/360 [==============================] - 3s 6ms/step\n"
     ]
    }
   ],
   "source": [
    "## Train Prediction\n",
    "y_tr_pred = cnn_model.predict(X_train)\n",
    "y_t_pred = np.where(y_tr_pred < 0.5, 0, 1)"
   ]
  },
  {
   "cell_type": "code",
   "execution_count": 18,
   "id": "fa005d67",
   "metadata": {},
   "outputs": [
    {
     "name": "stdout",
     "output_type": "stream",
     "text": [
      "1.0\n",
      "1.0\n",
      "1.0\n",
      "1.0\n"
     ]
    }
   ],
   "source": [
    "print(accuracy_score(y_train, y_t_pred))\n",
    "print(precision_score(y_train, y_t_pred))\n",
    "print(recall_score(y_train, y_t_pred))\n",
    "print(f1_score(y_train, y_t_pred))"
   ]
  },
  {
   "cell_type": "code",
   "execution_count": 19,
   "id": "7fe999c6",
   "metadata": {},
   "outputs": [
    {
     "name": "stdout",
     "output_type": "stream",
     "text": [
      "90/90 [==============================] - 1s 7ms/step\n"
     ]
    }
   ],
   "source": [
    "pred = cnn_model.predict(X_test)\n",
    "y_pred = np.where(pred < 0.5, 0, 1)"
   ]
  },
  {
   "cell_type": "code",
   "execution_count": 20,
   "id": "ffefb977",
   "metadata": {},
   "outputs": [
    {
     "data": {
      "text/plain": [
       "array([[2817,    7],\n",
       "       [  13,   43]], dtype=int64)"
      ]
     },
     "execution_count": 20,
     "metadata": {},
     "output_type": "execute_result"
    }
   ],
   "source": [
    "confusion_matrix(y_test, y_pred)"
   ]
  },
  {
   "cell_type": "code",
   "execution_count": 21,
   "id": "41413f9c",
   "metadata": {},
   "outputs": [
    {
     "name": "stdout",
     "output_type": "stream",
     "text": [
      "0.9930555555555556\n",
      "0.86\n",
      "0.7678571428571429\n",
      "0.8113207547169812\n"
     ]
    }
   ],
   "source": [
    "print(accuracy_score(y_test, y_pred))\n",
    "print(precision_score(y_test, y_pred))\n",
    "print(recall_score(y_test, y_pred))\n",
    "print(f1_score(y_test, y_pred))"
   ]
  },
  {
   "cell_type": "markdown",
   "id": "d8cb3eb5",
   "metadata": {},
   "source": [
    "## CNN Model 5"
   ]
  },
  {
   "cell_type": "code",
   "execution_count": 34,
   "id": "3968f96e",
   "metadata": {},
   "outputs": [],
   "source": [
    "cnn_model = Sequential()\n",
    "cnn_model.add(Conv1D(24, 1, activation='softsign', input_shape=(X_res.shape[1], 1)))\n",
    "cnn_model.add(MaxPooling1D(pool_size=3, strides=4))\n",
    "cnn_model.add(Flatten())\n",
    "cnn_model.add(Dense(256, activation='relu'))\n",
    "cnn_model.add(Dropout(0.2))\n",
    "cnn_model.add(Dense(128, activation='relu'))\n",
    "cnn_model.add(Dropout(0.2))\n",
    "cnn_model.add(Dense(64, activation='relu'))\n",
    "cnn_model.add(Dropout(0.2))\n",
    "cnn_model.add(Dense(32, activation='relu'))\n",
    "cnn_model.add(Dropout(0.2))\n",
    "cnn_model.add(Dense(1, activation='sigmoid'))\n",
    "cnn_model.compile(loss='binary_crossentropy', optimizer = Adam(learning_rate=0.004395), metrics=['accuracy',metrics.Precision(), metrics.Recall(),metrics.AUC()])"
   ]
  },
  {
   "cell_type": "code",
   "execution_count": 35,
   "id": "78356ff8",
   "metadata": {},
   "outputs": [
    {
     "name": "stdout",
     "output_type": "stream",
     "text": [
      "Epoch 1/26\n",
      "27/27 [==============================] - 5s 81ms/step - loss: 0.4658 - accuracy: 0.7668 - precision_4: 0.7465 - recall_4: 0.8078 - auc_4: 0.8541\n",
      "Epoch 2/26\n",
      "27/27 [==============================] - 2s 80ms/step - loss: 0.2288 - accuracy: 0.9087 - precision_4: 0.8794 - recall_4: 0.9475 - auc_4: 0.9628\n",
      "Epoch 3/26\n",
      "27/27 [==============================] - 2s 81ms/step - loss: 0.1195 - accuracy: 0.9597 - precision_4: 0.9412 - recall_4: 0.9806 - auc_4: 0.9875\n",
      "Epoch 4/26\n",
      "27/27 [==============================] - 2s 81ms/step - loss: 0.0673 - accuracy: 0.9783 - precision_4: 0.9679 - recall_4: 0.9896 - auc_4: 0.9950\n",
      "Epoch 5/26\n",
      "27/27 [==============================] - 2s 80ms/step - loss: 0.0635 - accuracy: 0.9786 - precision_4: 0.9704 - recall_4: 0.9872 - auc_4: 0.9959\n",
      "Epoch 6/26\n",
      "27/27 [==============================] - 2s 82ms/step - loss: 0.0471 - accuracy: 0.9853 - precision_4: 0.9797 - recall_4: 0.9911 - auc_4: 0.9973\n",
      "Epoch 7/26\n",
      "27/27 [==============================] - 2s 83ms/step - loss: 0.0380 - accuracy: 0.9882 - precision_4: 0.9833 - recall_4: 0.9933 - auc_4: 0.9982\n",
      "Epoch 8/26\n",
      "27/27 [==============================] - 2s 82ms/step - loss: 0.0353 - accuracy: 0.9891 - precision_4: 0.9852 - recall_4: 0.9932 - auc_4: 0.9985\n",
      "Epoch 9/26\n",
      "27/27 [==============================] - 2s 81ms/step - loss: 0.0433 - accuracy: 0.9872 - precision_4: 0.9828 - recall_4: 0.9918 - auc_4: 0.9977\n",
      "Epoch 10/26\n",
      "27/27 [==============================] - 2s 80ms/step - loss: 0.0378 - accuracy: 0.9882 - precision_4: 0.9843 - recall_4: 0.9922 - auc_4: 0.9981\n",
      "Epoch 11/26\n",
      "27/27 [==============================] - 2s 80ms/step - loss: 0.0259 - accuracy: 0.9921 - precision_4: 0.9893 - recall_4: 0.9950 - auc_4: 0.9992\n",
      "Epoch 12/26\n",
      "27/27 [==============================] - 2s 82ms/step - loss: 0.0260 - accuracy: 0.9918 - precision_4: 0.9894 - recall_4: 0.9942 - auc_4: 0.9991\n",
      "Epoch 13/26\n",
      "27/27 [==============================] - 2s 82ms/step - loss: 0.0287 - accuracy: 0.9903 - precision_4: 0.9879 - recall_4: 0.9927 - auc_4: 0.9990\n",
      "Epoch 14/26\n",
      "27/27 [==============================] - 2s 81ms/step - loss: 0.0260 - accuracy: 0.9920 - precision_4: 0.9901 - recall_4: 0.9939 - auc_4: 0.9990\n",
      "Epoch 15/26\n",
      "27/27 [==============================] - 2s 80ms/step - loss: 0.0232 - accuracy: 0.9927 - precision_4: 0.9907 - recall_4: 0.9949 - auc_4: 0.9994\n",
      "Epoch 16/26\n",
      "27/27 [==============================] - 2s 80ms/step - loss: 0.0207 - accuracy: 0.9945 - precision_4: 0.9925 - recall_4: 0.9965 - auc_4: 0.9992\n",
      "Epoch 17/26\n",
      "27/27 [==============================] - 2s 81ms/step - loss: 0.0225 - accuracy: 0.9935 - precision_4: 0.9917 - recall_4: 0.9954 - auc_4: 0.9992\n",
      "Epoch 18/26\n",
      "27/27 [==============================] - 2s 79ms/step - loss: 0.0230 - accuracy: 0.9925 - precision_4: 0.9913 - recall_4: 0.9937 - auc_4: 0.9993\n",
      "Epoch 19/26\n",
      "27/27 [==============================] - 2s 80ms/step - loss: 0.0245 - accuracy: 0.9923 - precision_4: 0.9902 - recall_4: 0.9943 - auc_4: 0.9992\n",
      "Epoch 20/26\n",
      "27/27 [==============================] - 2s 80ms/step - loss: 0.0182 - accuracy: 0.9943 - precision_4: 0.9928 - recall_4: 0.9957 - auc_4: 0.9995\n",
      "Epoch 21/26\n",
      "27/27 [==============================] - 2s 80ms/step - loss: 0.0215 - accuracy: 0.9937 - precision_4: 0.9921 - recall_4: 0.9953 - auc_4: 0.9992\n",
      "Epoch 22/26\n",
      "27/27 [==============================] - 2s 80ms/step - loss: 0.0168 - accuracy: 0.9950 - precision_4: 0.9936 - recall_4: 0.9963 - auc_4: 0.9994\n",
      "Epoch 23/26\n",
      "27/27 [==============================] - 2s 79ms/step - loss: 0.0218 - accuracy: 0.9936 - precision_4: 0.9921 - recall_4: 0.9950 - auc_4: 0.9992\n",
      "Epoch 24/26\n",
      "27/27 [==============================] - 2s 81ms/step - loss: 0.0182 - accuracy: 0.9946 - precision_4: 0.9929 - recall_4: 0.9962 - auc_4: 0.9994\n",
      "Epoch 25/26\n",
      "27/27 [==============================] - 2s 80ms/step - loss: 0.0227 - accuracy: 0.9931 - precision_4: 0.9914 - recall_4: 0.9949 - auc_4: 0.9991\n",
      "Epoch 26/26\n",
      "27/27 [==============================] - 2s 79ms/step - loss: 0.0240 - accuracy: 0.9924 - precision_4: 0.9905 - recall_4: 0.9944 - auc_4: 0.9992\n"
     ]
    },
    {
     "data": {
      "text/plain": [
       "<keras.callbacks.History at 0x222df9cf3d0>"
      ]
     },
     "execution_count": 35,
     "metadata": {},
     "output_type": "execute_result"
    }
   ],
   "source": [
    "cnn_model.fit(X_res, y_res, epochs=26, batch_size=842)"
   ]
  },
  {
   "cell_type": "code",
   "execution_count": 36,
   "id": "d0b9f30b",
   "metadata": {},
   "outputs": [
    {
     "name": "stdout",
     "output_type": "stream",
     "text": [
      "706/706 [==============================] - 4s 5ms/step - loss: 0.0100 - accuracy: 0.9969 - precision_4: 0.9938 - recall_4: 1.0000 - auc_4: 0.9998\n",
      "[0.009963099844753742, 0.9968564510345459, 0.9937521815299988, 1.0, 0.9997864961624146]\n"
     ]
    }
   ],
   "source": [
    "train_score = cnn_model.evaluate(X_res, y_res)\n",
    "print(train_score)"
   ]
  },
  {
   "cell_type": "code",
   "execution_count": 37,
   "id": "628d6571",
   "metadata": {},
   "outputs": [
    {
     "name": "stdout",
     "output_type": "stream",
     "text": [
      "90/90 [==============================] - 1s 4ms/step\n"
     ]
    }
   ],
   "source": [
    "pred = cnn_model.predict(X_test)\n",
    "y_pred = np.where(pred < 0.5, 0, 1)"
   ]
  },
  {
   "cell_type": "code",
   "execution_count": 38,
   "id": "0c9650cc",
   "metadata": {},
   "outputs": [
    {
     "data": {
      "text/plain": [
       "array([[2773,   51],\n",
       "       [  13,   43]], dtype=int64)"
      ]
     },
     "execution_count": 38,
     "metadata": {},
     "output_type": "execute_result"
    }
   ],
   "source": [
    "confusion_matrix(y_test, y_pred)"
   ]
  },
  {
   "cell_type": "code",
   "execution_count": 39,
   "id": "25688d9a",
   "metadata": {},
   "outputs": [
    {
     "name": "stdout",
     "output_type": "stream",
     "text": [
      "0.9777777777777777\n",
      "0.4574468085106383\n",
      "0.7678571428571429\n",
      "0.5733333333333334\n"
     ]
    }
   ],
   "source": [
    "print(accuracy_score(y_test, y_pred))\n",
    "print(precision_score(y_test, y_pred))\n",
    "print(recall_score(y_test, y_pred))\n",
    "print(f1_score(y_test, y_pred))"
   ]
  },
  {
   "cell_type": "markdown",
   "id": "f2ac8fc6",
   "metadata": {},
   "source": [
    "## CNN Model 6"
   ]
  },
  {
   "cell_type": "code",
   "execution_count": 40,
   "id": "eb2f5194",
   "metadata": {},
   "outputs": [],
   "source": [
    "cnn_model = Sequential()\n",
    "cnn_model.add(Conv1D(53, 2, activation='selu', input_shape=(X_res.shape[1], 1)))\n",
    "cnn_model.add(MaxPooling1D(pool_size=2, strides=2))\n",
    "cnn_model.add(Flatten())\n",
    "cnn_model.add(Dense(256, activation='relu'))\n",
    "cnn_model.add(Dropout(0.2))\n",
    "cnn_model.add(Dense(128, activation='relu'))\n",
    "cnn_model.add(Dropout(0.2))\n",
    "cnn_model.add(Dense(64, activation='relu'))\n",
    "cnn_model.add(Dropout(0.2))\n",
    "cnn_model.add(Dense(32, activation='relu'))\n",
    "cnn_model.add(Dropout(0.2))\n",
    "cnn_model.add(Dense(1, activation='sigmoid'))\n",
    "cnn_model.compile(loss='binary_crossentropy', optimizer = RMSprop(learning_rate=0.006845), metrics=['accuracy',metrics.Precision(), metrics.Recall(),metrics.AUC()])"
   ]
  },
  {
   "cell_type": "code",
   "execution_count": 41,
   "id": "af1d17b7",
   "metadata": {},
   "outputs": [
    {
     "name": "stdout",
     "output_type": "stream",
     "text": [
      "Epoch 1/25\n",
      "78/78 [==============================] - 12s 104ms/step - loss: 0.9064 - accuracy: 0.6253 - precision_5: 0.6237 - recall_5: 0.6321 - auc_5: 0.6715\n",
      "Epoch 2/25\n",
      "78/78 [==============================] - 8s 101ms/step - loss: 0.4020 - accuracy: 0.8297 - precision_5: 0.8075 - recall_5: 0.8657 - auc_5: 0.9032\n",
      "Epoch 3/25\n",
      "78/78 [==============================] - 8s 102ms/step - loss: 0.2410 - accuracy: 0.9107 - precision_5: 0.8948 - recall_5: 0.9308 - auc_5: 0.9666\n",
      "Epoch 4/25\n",
      "78/78 [==============================] - 8s 100ms/step - loss: 0.1278 - accuracy: 0.9554 - precision_5: 0.9412 - recall_5: 0.9716 - auc_5: 0.9887\n",
      "Epoch 5/25\n",
      "78/78 [==============================] - 8s 100ms/step - loss: 0.1260 - accuracy: 0.9591 - precision_5: 0.9468 - recall_5: 0.9729 - auc_5: 0.9898\n",
      "Epoch 6/25\n",
      "78/78 [==============================] - 8s 100ms/step - loss: 0.0814 - accuracy: 0.9749 - precision_5: 0.9659 - recall_5: 0.9846 - auc_5: 0.9945\n",
      "Epoch 7/25\n",
      "78/78 [==============================] - 8s 100ms/step - loss: 0.0884 - accuracy: 0.9743 - precision_5: 0.9647 - recall_5: 0.9846 - auc_5: 0.9944\n",
      "Epoch 8/25\n",
      "78/78 [==============================] - 8s 101ms/step - loss: 0.0444 - accuracy: 0.9878 - precision_5: 0.9836 - recall_5: 0.9921 - auc_5: 0.9980\n",
      "Epoch 9/25\n",
      "78/78 [==============================] - 8s 101ms/step - loss: 0.0540 - accuracy: 0.9854 - precision_5: 0.9811 - recall_5: 0.9899 - auc_5: 0.9971\n",
      "Epoch 10/25\n",
      "78/78 [==============================] - 8s 100ms/step - loss: 0.0505 - accuracy: 0.9853 - precision_5: 0.9804 - recall_5: 0.9905 - auc_5: 0.9978\n",
      "Epoch 11/25\n",
      "78/78 [==============================] - 8s 102ms/step - loss: 0.0396 - accuracy: 0.9902 - precision_5: 0.9873 - recall_5: 0.9931 - auc_5: 0.9980\n",
      "Epoch 12/25\n",
      "78/78 [==============================] - 8s 101ms/step - loss: 0.0385 - accuracy: 0.9895 - precision_5: 0.9866 - recall_5: 0.9924 - auc_5: 0.9981\n",
      "Epoch 13/25\n",
      "78/78 [==============================] - 8s 102ms/step - loss: 0.0430 - accuracy: 0.9897 - precision_5: 0.9872 - recall_5: 0.9923 - auc_5: 0.9978\n",
      "Epoch 14/25\n",
      "78/78 [==============================] - 8s 101ms/step - loss: 0.0495 - accuracy: 0.9911 - precision_5: 0.9894 - recall_5: 0.9929 - auc_5: 0.9976\n",
      "Epoch 15/25\n",
      "78/78 [==============================] - 8s 101ms/step - loss: 0.0255 - accuracy: 0.9948 - precision_5: 0.9935 - recall_5: 0.9962 - auc_5: 0.9990\n",
      "Epoch 16/25\n",
      "78/78 [==============================] - 8s 101ms/step - loss: 0.0434 - accuracy: 0.9884 - precision_5: 0.9833 - recall_5: 0.9938 - auc_5: 0.9981\n",
      "Epoch 17/25\n",
      "78/78 [==============================] - 8s 103ms/step - loss: 0.0263 - accuracy: 0.9935 - precision_5: 0.9920 - recall_5: 0.9950 - auc_5: 0.9988\n",
      "Epoch 18/25\n",
      "78/78 [==============================] - 8s 102ms/step - loss: 0.0238 - accuracy: 0.9944 - precision_5: 0.9930 - recall_5: 0.9958 - auc_5: 0.9990\n",
      "Epoch 19/25\n",
      "78/78 [==============================] - 8s 101ms/step - loss: 0.0929 - accuracy: 0.9813 - precision_5: 0.9712 - recall_5: 0.9919 - auc_5: 0.9964\n",
      "Epoch 20/25\n",
      "78/78 [==============================] - 8s 101ms/step - loss: 0.0350 - accuracy: 0.9926 - precision_5: 0.9898 - recall_5: 0.9955 - auc_5: 0.9985\n",
      "Epoch 21/25\n",
      "78/78 [==============================] - 8s 101ms/step - loss: 0.0448 - accuracy: 0.9932 - precision_5: 0.9912 - recall_5: 0.9953 - auc_5: 0.9980\n",
      "Epoch 22/25\n",
      "78/78 [==============================] - 8s 104ms/step - loss: 0.0482 - accuracy: 0.9892 - precision_5: 0.9912 - recall_5: 0.9872 - auc_5: 0.9973\n",
      "Epoch 23/25\n",
      "78/78 [==============================] - 8s 102ms/step - loss: 0.0274 - accuracy: 0.9946 - precision_5: 0.9936 - recall_5: 0.9955 - auc_5: 0.9988\n",
      "Epoch 24/25\n",
      "78/78 [==============================] - 8s 102ms/step - loss: 0.0388 - accuracy: 0.9958 - precision_5: 0.9950 - recall_5: 0.9965 - auc_5: 0.9985\n",
      "Epoch 25/25\n",
      "78/78 [==============================] - 8s 103ms/step - loss: 0.0209 - accuracy: 0.9952 - precision_5: 0.9960 - recall_5: 0.9943 - auc_5: 0.9990\n"
     ]
    },
    {
     "data": {
      "text/plain": [
       "<keras.callbacks.History at 0x222e64df9d0>"
      ]
     },
     "execution_count": 41,
     "metadata": {},
     "output_type": "execute_result"
    }
   ],
   "source": [
    "cnn_model.fit(X_res, y_res, epochs=25, batch_size=290)"
   ]
  },
  {
   "cell_type": "code",
   "execution_count": 42,
   "id": "694a3f12",
   "metadata": {},
   "outputs": [
    {
     "name": "stdout",
     "output_type": "stream",
     "text": [
      "706/706 [==============================] - 7s 9ms/step - loss: 7.6405e-04 - accuracy: 1.0000 - precision_5: 0.9999 - recall_5: 1.0000 - auc_5: 1.0000\n",
      "[0.0007640519179403782, 0.9999557137489319, 0.9999114871025085, 1.0, 0.9999558329582214]\n"
     ]
    }
   ],
   "source": [
    "train_score = cnn_model.evaluate(X_res, y_res)\n",
    "print(train_score)"
   ]
  },
  {
   "cell_type": "code",
   "execution_count": 43,
   "id": "399d0d26",
   "metadata": {},
   "outputs": [
    {
     "name": "stdout",
     "output_type": "stream",
     "text": [
      "90/90 [==============================] - 1s 8ms/step\n"
     ]
    }
   ],
   "source": [
    "pred = cnn_model.predict(X_test)\n",
    "y_pred = np.where(pred < 0.5, 0, 1)"
   ]
  },
  {
   "cell_type": "code",
   "execution_count": 44,
   "id": "59870ab2",
   "metadata": {},
   "outputs": [
    {
     "data": {
      "text/plain": [
       "array([[2811,   13],\n",
       "       [  16,   40]], dtype=int64)"
      ]
     },
     "execution_count": 44,
     "metadata": {},
     "output_type": "execute_result"
    }
   ],
   "source": [
    "confusion_matrix(y_test, y_pred)"
   ]
  },
  {
   "cell_type": "code",
   "execution_count": 45,
   "id": "ba1701bc",
   "metadata": {},
   "outputs": [
    {
     "name": "stdout",
     "output_type": "stream",
     "text": [
      "0.9899305555555555\n",
      "0.7547169811320755\n",
      "0.7142857142857143\n",
      "0.7339449541284405\n"
     ]
    }
   ],
   "source": [
    "print(accuracy_score(y_test, y_pred))\n",
    "print(precision_score(y_test, y_pred))\n",
    "print(recall_score(y_test, y_pred))\n",
    "print(f1_score(y_test, y_pred))"
   ]
  },
  {
   "cell_type": "code",
   "execution_count": null,
   "id": "a17ed64f",
   "metadata": {},
   "outputs": [],
   "source": []
  }
 ],
 "metadata": {
  "kernelspec": {
   "display_name": "Python 3 (ipykernel)",
   "language": "python",
   "name": "python3"
  },
  "language_info": {
   "codemirror_mode": {
    "name": "ipython",
    "version": 3
   },
   "file_extension": ".py",
   "mimetype": "text/x-python",
   "name": "python",
   "nbconvert_exporter": "python",
   "pygments_lexer": "ipython3",
   "version": "3.9.12"
  }
 },
 "nbformat": 4,
 "nbformat_minor": 5
}
