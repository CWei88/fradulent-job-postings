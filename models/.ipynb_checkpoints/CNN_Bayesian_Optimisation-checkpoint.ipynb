{
 "cells": [
  {
   "cell_type": "code",
   "execution_count": null,
   "id": "e698ea1c",
   "metadata": {
    "colab": {
     "base_uri": "https://localhost:8080/"
    },
    "id": "e698ea1c",
    "outputId": "94f89add-0654-4ad2-e8d6-0d5dffa40351"
   },
   "outputs": [
    {
     "name": "stdout",
     "output_type": "stream",
     "text": [
      "Looking in indexes: https://pypi.org/simple, https://us-python.pkg.dev/colab-wheels/public/simple/\n",
      "Collecting bayesian-optimization\n",
      "  Downloading bayesian_optimization-1.3.1-py3-none-any.whl (16 kB)\n",
      "Requirement already satisfied: scikit-learn>=0.18.0 in /usr/local/lib/python3.7/dist-packages (from bayesian-optimization) (1.0.2)\n",
      "Requirement already satisfied: numpy>=1.9.0 in /usr/local/lib/python3.7/dist-packages (from bayesian-optimization) (1.21.6)\n",
      "Requirement already satisfied: scipy>=1.0.0 in /usr/local/lib/python3.7/dist-packages (from bayesian-optimization) (1.7.3)\n",
      "Requirement already satisfied: threadpoolctl>=2.0.0 in /usr/local/lib/python3.7/dist-packages (from scikit-learn>=0.18.0->bayesian-optimization) (3.1.0)\n",
      "Requirement already satisfied: joblib>=0.11 in /usr/local/lib/python3.7/dist-packages (from scikit-learn>=0.18.0->bayesian-optimization) (1.2.0)\n",
      "Installing collected packages: bayesian-optimization\n",
      "Successfully installed bayesian-optimization-1.3.1\n"
     ]
    }
   ],
   "source": [
    "!pip install bayesian-optimization"
   ]
  },
  {
   "cell_type": "code",
   "execution_count": 2,
   "id": "4027bc8b",
   "metadata": {
    "id": "4027bc8b"
   },
   "outputs": [],
   "source": [
    "import pandas as pd\n",
    "import numpy as np\n",
    "from matplotlib import pyplot as plt\n",
    "\n",
    "# oversampling packages\n",
    "from imblearn.combine import SMOTEENN\n",
    "from collections import Counter\n",
    "from imblearn.over_sampling import SMOTE\n",
    "from imblearn.under_sampling import EditedNearestNeighbours\n",
    "from imblearn.over_sampling import RandomOverSampler\n",
    "\n",
    "#optimisation\n",
    "from bayes_opt import BayesianOptimization\n",
    "\n",
    "# model building\n",
    "import keras\n",
    "import tensorflow\n",
    "from keras import layers\n",
    "from keras.models import Sequential\n",
    "from keras.layers import Dense, Activation, Dropout, Flatten, Embedding, SimpleRNN , concatenate, Lambda, Conv1D, MaxPooling1D, Flatten\n",
    "from keras.layers import LeakyReLU\n",
    "from keras.callbacks import EarlyStopping, ModelCheckpoint\n",
    "from keras.optimizers import Adam, SGD, RMSprop, Adadelta, Adagrad, Adamax, Nadam, Ftrl\n",
    "from keras import metrics\n",
    "from keras.losses import BinaryCrossentropy\n",
    "from keras.wrappers.scikit_learn import KerasClassifier\n",
    "\n",
    "from sklearn.model_selection import train_test_split\n",
    "from sklearn.model_selection import cross_val_score\n",
    "from sklearn.preprocessing import StandardScaler, LabelEncoder\n",
    "from sklearn.linear_model import LogisticRegression\n",
    "from sklearn.metrics import classification_report, confusion_matrix, f1_score\n",
    "from sklearn import linear_model, model_selection"
   ]
  },
  {
   "cell_type": "code",
   "execution_count": 3,
   "id": "c70ac044",
   "metadata": {
    "id": "c70ac044"
   },
   "outputs": [],
   "source": [
    "X_train = pd.read_csv('../datasets/word2vec/train_data_imputed_FINAL.csv')\n",
    "X_test = pd.read_csv('../datasets/word2vec/test_data_imputed_FINAL.csv')\n",
    "y_train = pd.read_csv('../datasets/word2vec/y_train_FINAL.csv')\n",
    "y_test = pd.read_csv('../datasets/word2vec/y_test_FINAL.csv')"
   ]
  },
  {
   "cell_type": "code",
   "execution_count": null,
   "id": "85842b66",
   "metadata": {
    "id": "85842b66"
   },
   "outputs": [],
   "source": [
    "def rnn_tuner( batch_size, neurons, activation, optimizer, dropout, dropout_rate, learning_rate, epochs, layers1, layers2):\n",
    "\n",
    "    optimizerL = ['SGD', 'Adam', 'RMSprop', 'Adadelta', 'Adagrad', 'Adamax', 'Nadam', 'Ftrl']\n",
    "    optimizerD= {'Adam':Adam(learning_rate=learning_rate), 'SGD':SGD(learning_rate=learning_rate),\n",
    "                  'RMSprop':RMSprop(learning_rate=learning_rate), 'Adadelta':Adadelta(learning_rate=learning_rate),\n",
    "                  'Adagrad':Adagrad(learning_rate=learning_rate), 'Adamax':Adamax(learning_rate=learning_rate),\n",
    "                  'Nadam':Nadam(learning_rate=learning_rate), 'Ftrl':Ftrl(learning_rate=learning_rate)}\n",
    "    activationL = ['relu', 'sigmoid', 'softplus', 'softsign', 'tanh', 'selu',\n",
    "                    'elu', 'exponential', 'LeakyReLU','relu']\n",
    "    neurons = round(neurons)\n",
    "    activation = activationL[round(activation)]\n",
    "    optimizer = optimizerD[optimizerL[round(optimizer)]]\n",
    "    batch_size = round(batch_size)\n",
    "    epochs = round(epochs)\n",
    "    layers1 = round(layers1)\n",
    "    layers2 = round(layers2)\n",
    "    \n",
    "    def create_model():\n",
    "        tuned_model = Sequential()\n",
    "\n",
    "        for i in range(layers1): #varying first set of hidden layers\n",
    "            tuned_model.add(Dense(neurons, activation=activation))\n",
    "\n",
    "        if dropout > 0.5:\n",
    "            tuned_model.add(Dropout(dropout_rate, seed=42))\n",
    "\n",
    "        for i in range(layers2): #varying second set of hidden layers\n",
    "            tuned_model.add(Dense(neurons, activation=activation))\n",
    "\n",
    "        tuned_model.add(Dense(1, activation='sigmoid')) #output layer\n",
    "\n",
    "        tuned_model.compile(loss='binary_crossentropy', optimizer = optimizer, metrics=['accuracy',metrics.Precision(), metrics.Recall(),metrics.AUC()])\n",
    "       # tuned_model = tuned_model.fit(X_train_smenn, y_train_smenn, epochs=20)\n",
    "       # tuned_model.summary()\n",
    "\n",
    "        return tuned_model\n",
    "\n",
    "    es = EarlyStopping(monitor=\"loss\", patience=3)\n",
    "    mc = ModelCheckpoint('Best_tuned_RNN_.h5', monitor='val_loss',mode='min',verbose=2, save_best_only=True)\n",
    "\n",
    "    tune_rnn = KerasClassifier(build_fn=create_model, epochs=epochs, batch_size=batch_size, verbose=0) \n",
    "    score = cross_val_score(tune_rnn, X_train_over, y_train_over, \n",
    "                            fit_params={'callbacks':[es]}, error_score='raise',\n",
    "                           scoring='f1').mean() #5 fold cross validation default\n",
    "    return score"
   ]
  },
  {
   "cell_type": "code",
   "execution_count": null,
   "id": "42e67073",
   "metadata": {
    "id": "42e67073"
   },
   "outputs": [],
   "source": [
    "ros = RandomOverSampler(sampling_strategy = 1, random_state=42)"
   ]
  },
  {
   "cell_type": "code",
   "execution_count": null,
   "id": "5822204e",
   "metadata": {
    "id": "5822204e"
   },
   "outputs": [],
   "source": [
    "X_train_over, y_train_over = ros.fit_resample(X_train, y_train)"
   ]
  },
  {
   "cell_type": "code",
   "execution_count": null,
   "id": "15151c90",
   "metadata": {
    "id": "15151c90"
   },
   "outputs": [],
   "source": [
    "params_rnn ={\n",
    "    'neurons': (32, 256),\n",
    "    'activation':(0, 9),\n",
    "    'optimizer':(0,7),\n",
    "    'learning_rate':(0.001, 0.01),\n",
    "    'batch_size':(100, 1000),\n",
    "    'epochs':(10, 30),\n",
    "    'layers1':(1,3),\n",
    "    'layers2':(1,4),\n",
    "    'dropout':(0,1),\n",
    "    'dropout_rate':(0,0.4)\n",
    "}"
   ]
  },
  {
   "cell_type": "code",
   "execution_count": null,
   "id": "07875c0c",
   "metadata": {
    "id": "07875c0c",
    "outputId": "af33c8ab-2bf9-460e-a859-92c41ac84a02",
    "scrolled": true
   },
   "outputs": [
    {
     "name": "stdout",
     "output_type": "stream",
     "text": [
      "|   iter    |  target   | activa... | batch_... |  dropout  | dropou... |  epochs   |  layers1  |  layers2  | learni... |  neurons  | optimizer |\n",
      "-------------------------------------------------------------------------------------------------------------------------------------------------\n"
     ]
    },
    {
     "name": "stderr",
     "output_type": "stream",
     "text": [
      "C:\\Users\\Chen Wei\\AppData\\Local\\Temp\\ipykernel_4128\\1000544679.py:41: DeprecationWarning: KerasClassifier is deprecated, use Sci-Keras (https://github.com/adriangb/scikeras) instead. See https://www.adriangb.com/scikeras/stable/migration.html for help migrating.\n",
      "  tune_rnn = KerasClassifier(build_fn=create_model, epochs=epochs, batch_size=batch_size, verbose=0)\n"
     ]
    },
    {
     "name": "stdout",
     "output_type": "stream",
     "text": [
      "142/142 [==============================] - 0s 1ms/step\n",
      "142/142 [==============================] - 0s 1ms/step\n",
      "142/142 [==============================] - 0s 1ms/step\n",
      "142/142 [==============================] - 0s 1ms/step\n",
      "142/142 [==============================] - 0s 1ms/step\n",
      "| \u001b[0m1        \u001b[0m | \u001b[0m0.8179   \u001b[0m | \u001b[0m3.371    \u001b[0m | \u001b[0m955.6    \u001b[0m | \u001b[0m0.732    \u001b[0m | \u001b[0m0.2395   \u001b[0m | \u001b[0m13.12    \u001b[0m | \u001b[0m1.312    \u001b[0m | \u001b[0m1.174    \u001b[0m | \u001b[0m0.008796 \u001b[0m | \u001b[0m166.6    \u001b[0m | \u001b[0m4.957    \u001b[0m |\n"
     ]
    },
    {
     "name": "stderr",
     "output_type": "stream",
     "text": [
      "C:\\Users\\Chen Wei\\AppData\\Local\\Temp\\ipykernel_4128\\1000544679.py:41: DeprecationWarning: KerasClassifier is deprecated, use Sci-Keras (https://github.com/adriangb/scikeras) instead. See https://www.adriangb.com/scikeras/stable/migration.html for help migrating.\n",
      "  tune_rnn = KerasClassifier(build_fn=create_model, epochs=epochs, batch_size=batch_size, verbose=0)\n"
     ]
    },
    {
     "name": "stdout",
     "output_type": "stream",
     "text": [
      "142/142 [==============================] - 1s 3ms/step\n",
      "142/142 [==============================] - 1s 3ms/step\n",
      "142/142 [==============================] - 1s 3ms/step\n",
      "142/142 [==============================] - 1s 3ms/step\n",
      "142/142 [==============================] - 1s 3ms/step\n",
      "| \u001b[0m2        \u001b[0m | \u001b[0m0.7633   \u001b[0m | \u001b[0m0.1853   \u001b[0m | \u001b[0m972.9    \u001b[0m | \u001b[0m0.8324   \u001b[0m | \u001b[0m0.08494  \u001b[0m | \u001b[0m13.64    \u001b[0m | \u001b[0m1.367    \u001b[0m | \u001b[0m1.913    \u001b[0m | \u001b[0m0.005723 \u001b[0m | \u001b[0m128.8    \u001b[0m | \u001b[0m2.039    \u001b[0m |\n"
     ]
    },
    {
     "name": "stderr",
     "output_type": "stream",
     "text": [
      "C:\\Users\\Chen Wei\\AppData\\Local\\Temp\\ipykernel_4128\\1000544679.py:41: DeprecationWarning: KerasClassifier is deprecated, use Sci-Keras (https://github.com/adriangb/scikeras) instead. See https://www.adriangb.com/scikeras/stable/migration.html for help migrating.\n",
      "  tune_rnn = KerasClassifier(build_fn=create_model, epochs=epochs, batch_size=batch_size, verbose=0)\n"
     ]
    },
    {
     "name": "stdout",
     "output_type": "stream",
     "text": [
      "142/142 [==============================] - 1s 3ms/step\n",
      "142/142 [==============================] - 1s 5ms/step\n",
      "142/142 [==============================] - 1s 5ms/step\n",
      "142/142 [==============================] - 1s 3ms/step\n",
      "142/142 [==============================] - 1s 3ms/step\n",
      "| \u001b[0m3        \u001b[0m | \u001b[0m0.4617   \u001b[0m | \u001b[0m5.507    \u001b[0m | \u001b[0m225.5    \u001b[0m | \u001b[0m0.2921   \u001b[0m | \u001b[0m0.1465   \u001b[0m | \u001b[0m19.12    \u001b[0m | \u001b[0m2.57     \u001b[0m | \u001b[0m1.599    \u001b[0m | \u001b[0m0.005628 \u001b[0m | \u001b[0m164.7    \u001b[0m | \u001b[0m0.3252   \u001b[0m |\n"
     ]
    },
    {
     "name": "stderr",
     "output_type": "stream",
     "text": [
      "C:\\Users\\Chen Wei\\AppData\\Local\\Temp\\ipykernel_4128\\1000544679.py:41: DeprecationWarning: KerasClassifier is deprecated, use Sci-Keras (https://github.com/adriangb/scikeras) instead. See https://www.adriangb.com/scikeras/stable/migration.html for help migrating.\n",
      "  tune_rnn = KerasClassifier(build_fn=create_model, epochs=epochs, batch_size=batch_size, verbose=0)\n"
     ]
    },
    {
     "name": "stdout",
     "output_type": "stream",
     "text": [
      "142/142 [==============================] - 1s 3ms/step\n",
      "142/142 [==============================] - 1s 3ms/step\n",
      "142/142 [==============================] - 1s 3ms/step\n",
      "142/142 [==============================] - 1s 3ms/step\n",
      "142/142 [==============================] - 1s 3ms/step\n",
      "| \u001b[0m4        \u001b[0m | \u001b[0m0.486    \u001b[0m | \u001b[0m5.468    \u001b[0m | \u001b[0m253.5    \u001b[0m | \u001b[0m0.06505  \u001b[0m | \u001b[0m0.3796   \u001b[0m | \u001b[0m29.31    \u001b[0m | \u001b[0m2.617    \u001b[0m | \u001b[0m1.914    \u001b[0m | \u001b[0m0.001879 \u001b[0m | \u001b[0m185.3    \u001b[0m | \u001b[0m3.081    \u001b[0m |\n"
     ]
    },
    {
     "name": "stderr",
     "output_type": "stream",
     "text": [
      "C:\\Users\\Chen Wei\\AppData\\Local\\Temp\\ipykernel_4128\\1000544679.py:41: DeprecationWarning: KerasClassifier is deprecated, use Sci-Keras (https://github.com/adriangb/scikeras) instead. See https://www.adriangb.com/scikeras/stable/migration.html for help migrating.\n",
      "  tune_rnn = KerasClassifier(build_fn=create_model, epochs=epochs, batch_size=batch_size, verbose=0)\n"
     ]
    },
    {
     "name": "stdout",
     "output_type": "stream",
     "text": [
      "142/142 [==============================] - 0s 2ms/step\n",
      "142/142 [==============================] - 0s 2ms/step\n",
      "142/142 [==============================] - 1s 3ms/step\n",
      "142/142 [==============================] - 1s 3ms/step\n",
      "142/142 [==============================] - 1s 4ms/step\n",
      "| \u001b[0m5        \u001b[0m | \u001b[0m0.4454   \u001b[0m | \u001b[0m1.098    \u001b[0m | \u001b[0m545.7    \u001b[0m | \u001b[0m0.03439  \u001b[0m | \u001b[0m0.3637   \u001b[0m | \u001b[0m15.18    \u001b[0m | \u001b[0m2.325    \u001b[0m | \u001b[0m1.935    \u001b[0m | \u001b[0m0.005681 \u001b[0m | \u001b[0m154.5    \u001b[0m | \u001b[0m1.294    \u001b[0m |\n"
     ]
    },
    {
     "name": "stderr",
     "output_type": "stream",
     "text": [
      "C:\\Users\\Chen Wei\\AppData\\Local\\Temp\\ipykernel_4128\\1000544679.py:41: DeprecationWarning: KerasClassifier is deprecated, use Sci-Keras (https://github.com/adriangb/scikeras) instead. See https://www.adriangb.com/scikeras/stable/migration.html for help migrating.\n",
      "  tune_rnn = KerasClassifier(build_fn=create_model, epochs=epochs, batch_size=batch_size, verbose=0)\n"
     ]
    },
    {
     "name": "stdout",
     "output_type": "stream",
     "text": [
      "142/142 [==============================] - 0s 2ms/step\n",
      "142/142 [==============================] - 0s 2ms/step\n",
      "142/142 [==============================] - 1s 3ms/step\n",
      "142/142 [==============================] - 0s 2ms/step\n",
      "142/142 [==============================] - 1s 4ms/step\n",
      "| \u001b[0m6        \u001b[0m | \u001b[0m0.7545   \u001b[0m | \u001b[0m8.726    \u001b[0m | \u001b[0m797.6    \u001b[0m | \u001b[0m0.9395   \u001b[0m | \u001b[0m0.3579   \u001b[0m | \u001b[0m21.96    \u001b[0m | \u001b[0m2.844    \u001b[0m | \u001b[0m1.265    \u001b[0m | \u001b[0m0.002764 \u001b[0m | \u001b[0m42.13    \u001b[0m | \u001b[0m2.277    \u001b[0m |\n"
     ]
    },
    {
     "name": "stderr",
     "output_type": "stream",
     "text": [
      "C:\\Users\\Chen Wei\\AppData\\Local\\Temp\\ipykernel_4128\\1000544679.py:41: DeprecationWarning: KerasClassifier is deprecated, use Sci-Keras (https://github.com/adriangb/scikeras) instead. See https://www.adriangb.com/scikeras/stable/migration.html for help migrating.\n",
      "  tune_rnn = KerasClassifier(build_fn=create_model, epochs=epochs, batch_size=batch_size, verbose=0)\n"
     ]
    },
    {
     "name": "stdout",
     "output_type": "stream",
     "text": [
      "142/142 [==============================] - 0s 2ms/step\n",
      "142/142 [==============================] - 1s 2ms/step\n",
      "142/142 [==============================] - 0s 2ms/step\n",
      "142/142 [==============================] - 0s 2ms/step\n",
      "142/142 [==============================] - 0s 2ms/step\n",
      "| \u001b[0m7        \u001b[0m | \u001b[0m0.1416   \u001b[0m | \u001b[0m3.498    \u001b[0m | \u001b[0m344.2    \u001b[0m | \u001b[0m0.8287   \u001b[0m | \u001b[0m0.1427   \u001b[0m | \u001b[0m15.62    \u001b[0m | \u001b[0m2.085    \u001b[0m | \u001b[0m1.423    \u001b[0m | \u001b[0m0.00822  \u001b[0m | \u001b[0m48.7     \u001b[0m | \u001b[0m6.908    \u001b[0m |\n"
     ]
    },
    {
     "name": "stderr",
     "output_type": "stream",
     "text": [
      "C:\\Users\\Chen Wei\\AppData\\Local\\Temp\\ipykernel_4128\\1000544679.py:41: DeprecationWarning: KerasClassifier is deprecated, use Sci-Keras (https://github.com/adriangb/scikeras) instead. See https://www.adriangb.com/scikeras/stable/migration.html for help migrating.\n",
      "  tune_rnn = KerasClassifier(build_fn=create_model, epochs=epochs, batch_size=batch_size, verbose=0)\n"
     ]
    },
    {
     "name": "stdout",
     "output_type": "stream",
     "text": [
      "142/142 [==============================] - 1s 3ms/step\n",
      "142/142 [==============================] - 1s 3ms/step\n",
      "142/142 [==============================] - 1s 3ms/step\n",
      "142/142 [==============================] - 1s 3ms/step\n",
      "142/142 [==============================] - 1s 3ms/step\n",
      "| \u001b[0m8        \u001b[0m | \u001b[0m0.0      \u001b[0m | \u001b[0m6.95     \u001b[0m | \u001b[0m278.8    \u001b[0m | \u001b[0m0.005522 \u001b[0m | \u001b[0m0.3262   \u001b[0m | \u001b[0m24.14    \u001b[0m | \u001b[0m2.458    \u001b[0m | \u001b[0m3.314    \u001b[0m | \u001b[0m0.001666 \u001b[0m | \u001b[0m112.3    \u001b[0m | \u001b[0m0.8111   \u001b[0m |\n"
     ]
    },
    {
     "name": "stderr",
     "output_type": "stream",
     "text": [
      "C:\\Users\\Chen Wei\\AppData\\Local\\Temp\\ipykernel_4128\\1000544679.py:41: DeprecationWarning: KerasClassifier is deprecated, use Sci-Keras (https://github.com/adriangb/scikeras) instead. See https://www.adriangb.com/scikeras/stable/migration.html for help migrating.\n",
      "  tune_rnn = KerasClassifier(build_fn=create_model, epochs=epochs, batch_size=batch_size, verbose=0)\n"
     ]
    },
    {
     "name": "stdout",
     "output_type": "stream",
     "text": [
      "142/142 [==============================] - 1s 4ms/step\n",
      "142/142 [==============================] - 1s 4ms/step\n",
      "142/142 [==============================] - 1s 4ms/step\n",
      "142/142 [==============================] - 1s 4ms/step\n",
      "142/142 [==============================] - 1s 4ms/step\n",
      "| \u001b[0m9        \u001b[0m | \u001b[0m0.27     \u001b[0m | \u001b[0m7.768    \u001b[0m | \u001b[0m661.0    \u001b[0m | \u001b[0m0.3309   \u001b[0m | \u001b[0m0.02542  \u001b[0m | \u001b[0m16.22    \u001b[0m | \u001b[0m1.65     \u001b[0m | \u001b[0m3.189    \u001b[0m | \u001b[0m0.006738 \u001b[0m | \u001b[0m230.7    \u001b[0m | \u001b[0m3.306    \u001b[0m |\n"
     ]
    },
    {
     "name": "stderr",
     "output_type": "stream",
     "text": [
      "C:\\Users\\Chen Wei\\AppData\\Local\\Temp\\ipykernel_4128\\1000544679.py:41: DeprecationWarning: KerasClassifier is deprecated, use Sci-Keras (https://github.com/adriangb/scikeras) instead. See https://www.adriangb.com/scikeras/stable/migration.html for help migrating.\n",
      "  tune_rnn = KerasClassifier(build_fn=create_model, epochs=epochs, batch_size=batch_size, verbose=0)\n"
     ]
    },
    {
     "name": "stdout",
     "output_type": "stream",
     "text": [
      "142/142 [==============================] - 0s 2ms/step\n",
      "142/142 [==============================] - 0s 2ms/step\n",
      "142/142 [==============================] - 1s 2ms/step\n",
      "142/142 [==============================] - 0s 2ms/step\n",
      "142/142 [==============================] - 0s 2ms/step\n",
      "| \u001b[95m10       \u001b[0m | \u001b[95m0.8906   \u001b[0m | \u001b[95m1.076    \u001b[0m | \u001b[95m741.9    \u001b[0m | \u001b[95m0.7608   \u001b[0m | \u001b[95m0.2245   \u001b[0m | \u001b[95m25.42    \u001b[0m | \u001b[95m1.988    \u001b[0m | \u001b[95m2.568    \u001b[0m | \u001b[95m0.004848 \u001b[0m | \u001b[95m37.69    \u001b[0m | \u001b[95m0.7552   \u001b[0m |\n"
     ]
    },
    {
     "name": "stderr",
     "output_type": "stream",
     "text": [
      "C:\\Users\\Chen Wei\\AppData\\Local\\Temp\\ipykernel_4128\\1000544679.py:41: DeprecationWarning: KerasClassifier is deprecated, use Sci-Keras (https://github.com/adriangb/scikeras) instead. See https://www.adriangb.com/scikeras/stable/migration.html for help migrating.\n",
      "  tune_rnn = KerasClassifier(build_fn=create_model, epochs=epochs, batch_size=batch_size, verbose=0)\n"
     ]
    },
    {
     "name": "stdout",
     "output_type": "stream",
     "text": [
      "142/142 [==============================] - 0s 2ms/step\n",
      "142/142 [==============================] - 0s 2ms/step\n",
      "142/142 [==============================] - 0s 2ms/step\n",
      "142/142 [==============================] - 0s 2ms/step\n",
      "142/142 [==============================] - 0s 2ms/step\n",
      "| \u001b[0m11       \u001b[0m | \u001b[0m0.7993   \u001b[0m | \u001b[0m0.2829   \u001b[0m | \u001b[0m672.8    \u001b[0m | \u001b[0m0.3144   \u001b[0m | \u001b[0m0.2034   \u001b[0m | \u001b[0m28.15    \u001b[0m | \u001b[0m1.499    \u001b[0m | \u001b[0m2.231    \u001b[0m | \u001b[0m0.0078   \u001b[0m | \u001b[0m83.25    \u001b[0m | \u001b[0m0.5389   \u001b[0m |\n"
     ]
    },
    {
     "name": "stderr",
     "output_type": "stream",
     "text": [
      "C:\\Users\\Chen Wei\\AppData\\Local\\Temp\\ipykernel_4128\\1000544679.py:41: DeprecationWarning: KerasClassifier is deprecated, use Sci-Keras (https://github.com/adriangb/scikeras) instead. See https://www.adriangb.com/scikeras/stable/migration.html for help migrating.\n",
      "  tune_rnn = KerasClassifier(build_fn=create_model, epochs=epochs, batch_size=batch_size, verbose=0)\n"
     ]
    },
    {
     "name": "stdout",
     "output_type": "stream",
     "text": [
      "142/142 [==============================] - 1s 4ms/step\n",
      "142/142 [==============================] - 1s 7ms/step\n",
      "142/142 [==============================] - 1s 4ms/step\n",
      "142/142 [==============================] - 1s 3ms/step\n",
      "142/142 [==============================] - 1s 4ms/step\n",
      "| \u001b[0m12       \u001b[0m | \u001b[0m0.6821   \u001b[0m | \u001b[0m2.608    \u001b[0m | \u001b[0m245.1    \u001b[0m | \u001b[0m0.9297   \u001b[0m | \u001b[0m0.3232   \u001b[0m | \u001b[0m22.67    \u001b[0m | \u001b[0m2.743    \u001b[0m | \u001b[0m3.411    \u001b[0m | \u001b[0m0.002679 \u001b[0m | \u001b[0m231.9    \u001b[0m | \u001b[0m3.775    \u001b[0m |\n"
     ]
    },
    {
     "name": "stderr",
     "output_type": "stream",
     "text": [
      "C:\\Users\\Chen Wei\\AppData\\Local\\Temp\\ipykernel_4128\\1000544679.py:41: DeprecationWarning: KerasClassifier is deprecated, use Sci-Keras (https://github.com/adriangb/scikeras) instead. See https://www.adriangb.com/scikeras/stable/migration.html for help migrating.\n",
      "  tune_rnn = KerasClassifier(build_fn=create_model, epochs=epochs, batch_size=batch_size, verbose=0)\n"
     ]
    },
    {
     "name": "stdout",
     "output_type": "stream",
     "text": [
      "142/142 [==============================] - 0s 2ms/step\n",
      "142/142 [==============================] - 0s 2ms/step\n",
      "142/142 [==============================] - 0s 2ms/step\n",
      "142/142 [==============================] - 0s 2ms/step\n",
      "142/142 [==============================] - 0s 2ms/step\n",
      "| \u001b[0m13       \u001b[0m | \u001b[0m0.0      \u001b[0m | \u001b[0m7.267    \u001b[0m | \u001b[0m906.5    \u001b[0m | \u001b[0m0.318    \u001b[0m | \u001b[0m0.04402  \u001b[0m | \u001b[0m14.56    \u001b[0m | \u001b[0m1.854    \u001b[0m | \u001b[0m3.454    \u001b[0m | \u001b[0m0.008747 \u001b[0m | \u001b[0m33.56    \u001b[0m | \u001b[0m3.575    \u001b[0m |\n"
     ]
    },
    {
     "name": "stderr",
     "output_type": "stream",
     "text": [
      "C:\\Users\\Chen Wei\\AppData\\Local\\Temp\\ipykernel_4128\\1000544679.py:41: DeprecationWarning: KerasClassifier is deprecated, use Sci-Keras (https://github.com/adriangb/scikeras) instead. See https://www.adriangb.com/scikeras/stable/migration.html for help migrating.\n",
      "  tune_rnn = KerasClassifier(build_fn=create_model, epochs=epochs, batch_size=batch_size, verbose=0)\n"
     ]
    },
    {
     "name": "stdout",
     "output_type": "stream",
     "text": [
      "142/142 [==============================] - 1s 3ms/step\n",
      "142/142 [==============================] - 0s 2ms/step\n",
      "142/142 [==============================] - 0s 2ms/step\n",
      "142/142 [==============================] - 0s 2ms/step\n",
      "142/142 [==============================] - 0s 2ms/step\n",
      "| \u001b[0m14       \u001b[0m | \u001b[0m0.1416   \u001b[0m | \u001b[0m3.757    \u001b[0m | \u001b[0m299.9    \u001b[0m | \u001b[0m0.1199   \u001b[0m | \u001b[0m0.135    \u001b[0m | \u001b[0m28.86    \u001b[0m | \u001b[0m1.646    \u001b[0m | \u001b[0m2.556    \u001b[0m | \u001b[0m0.007327 \u001b[0m | \u001b[0m113.5    \u001b[0m | \u001b[0m6.802    \u001b[0m |\n"
     ]
    },
    {
     "name": "stderr",
     "output_type": "stream",
     "text": [
      "C:\\Users\\Chen Wei\\AppData\\Local\\Temp\\ipykernel_4128\\1000544679.py:41: DeprecationWarning: KerasClassifier is deprecated, use Sci-Keras (https://github.com/adriangb/scikeras) instead. See https://www.adriangb.com/scikeras/stable/migration.html for help migrating.\n",
      "  tune_rnn = KerasClassifier(build_fn=create_model, epochs=epochs, batch_size=batch_size, verbose=0)\n"
     ]
    },
    {
     "name": "stdout",
     "output_type": "stream",
     "text": [
      "142/142 [==============================] - 0s 2ms/step\n",
      "142/142 [==============================] - 0s 2ms/step\n",
      "142/142 [==============================] - 0s 2ms/step\n",
      "142/142 [==============================] - 0s 2ms/step\n",
      "142/142 [==============================] - 0s 2ms/step\n",
      "| \u001b[0m15       \u001b[0m | \u001b[0m0.7963   \u001b[0m | \u001b[0m8.662    \u001b[0m | \u001b[0m326.6    \u001b[0m | \u001b[0m0.4972   \u001b[0m | \u001b[0m0.1204   \u001b[0m | \u001b[0m15.7     \u001b[0m | \u001b[0m1.074    \u001b[0m | \u001b[0m2.829    \u001b[0m | \u001b[0m0.005524 \u001b[0m | \u001b[0m43.53    \u001b[0m | \u001b[0m1.951    \u001b[0m |\n"
     ]
    },
    {
     "name": "stderr",
     "output_type": "stream",
     "text": [
      "C:\\Users\\Chen Wei\\AppData\\Local\\Temp\\ipykernel_4128\\1000544679.py:41: DeprecationWarning: KerasClassifier is deprecated, use Sci-Keras (https://github.com/adriangb/scikeras) instead. See https://www.adriangb.com/scikeras/stable/migration.html for help migrating.\n",
      "  tune_rnn = KerasClassifier(build_fn=create_model, epochs=epochs, batch_size=batch_size, verbose=0)\n"
     ]
    },
    {
     "name": "stdout",
     "output_type": "stream",
     "text": [
      "142/142 [==============================] - 0s 2ms/step\n",
      "142/142 [==============================] - 0s 2ms/step\n",
      "142/142 [==============================] - 0s 2ms/step\n",
      "142/142 [==============================] - 0s 2ms/step\n",
      "142/142 [==============================] - 0s 2ms/step\n",
      "| \u001b[0m16       \u001b[0m | \u001b[0m0.8831   \u001b[0m | \u001b[0m8.174    \u001b[0m | \u001b[0m315.6    \u001b[0m | \u001b[0m0.1449   \u001b[0m | \u001b[0m0.1958   \u001b[0m | \u001b[0m29.71    \u001b[0m | \u001b[0m1.484    \u001b[0m | \u001b[0m3.016    \u001b[0m | \u001b[0m0.007855 \u001b[0m | \u001b[0m85.23    \u001b[0m | \u001b[0m5.098    \u001b[0m |\n"
     ]
    },
    {
     "name": "stderr",
     "output_type": "stream",
     "text": [
      "C:\\Users\\Chen Wei\\AppData\\Local\\Temp\\ipykernel_4128\\1000544679.py:41: DeprecationWarning: KerasClassifier is deprecated, use Sci-Keras (https://github.com/adriangb/scikeras) instead. See https://www.adriangb.com/scikeras/stable/migration.html for help migrating.\n",
      "  tune_rnn = KerasClassifier(build_fn=create_model, epochs=epochs, batch_size=batch_size, verbose=0)\n"
     ]
    },
    {
     "name": "stdout",
     "output_type": "stream",
     "text": [
      "142/142 [==============================] - 0s 2ms/step\n",
      "142/142 [==============================] - 0s 2ms/step\n",
      "142/142 [==============================] - 0s 2ms/step\n",
      "142/142 [==============================] - 0s 2ms/step\n",
      "142/142 [==============================] - 0s 2ms/step\n",
      "| \u001b[0m17       \u001b[0m | \u001b[0m0.1573   \u001b[0m | \u001b[0m3.31     \u001b[0m | \u001b[0m669.1    \u001b[0m | \u001b[0m0.6335   \u001b[0m | \u001b[0m0.2143   \u001b[0m | \u001b[0m11.81    \u001b[0m | \u001b[0m2.671    \u001b[0m | \u001b[0m1.962    \u001b[0m | \u001b[0m0.002679 \u001b[0m | \u001b[0m41.13    \u001b[0m | \u001b[0m4.136    \u001b[0m |\n"
     ]
    },
    {
     "name": "stderr",
     "output_type": "stream",
     "text": [
      "C:\\Users\\Chen Wei\\AppData\\Local\\Temp\\ipykernel_4128\\1000544679.py:41: DeprecationWarning: KerasClassifier is deprecated, use Sci-Keras (https://github.com/adriangb/scikeras) instead. See https://www.adriangb.com/scikeras/stable/migration.html for help migrating.\n",
      "  tune_rnn = KerasClassifier(build_fn=create_model, epochs=epochs, batch_size=batch_size, verbose=0)\n"
     ]
    },
    {
     "name": "stdout",
     "output_type": "stream",
     "text": [
      "142/142 [==============================] - 1s 3ms/step\n",
      "142/142 [==============================] - 1s 4ms/step\n",
      "142/142 [==============================] - 1s 4ms/step\n",
      "142/142 [==============================] - 1s 5ms/step\n",
      "142/142 [==============================] - 1s 6ms/step\n",
      "| \u001b[95m18       \u001b[0m | \u001b[95m0.9124   \u001b[0m | \u001b[95m6.098    \u001b[0m | \u001b[95m114.9    \u001b[0m | \u001b[95m0.5121   \u001b[0m | \u001b[95m0.0906   \u001b[0m | \u001b[95m22.9     \u001b[0m | \u001b[95m1.349    \u001b[0m | \u001b[95m3.073    \u001b[0m | \u001b[95m0.004481 \u001b[0m | \u001b[95m241.8    \u001b[0m | \u001b[95m0.9626   \u001b[0m |\n"
     ]
    },
    {
     "name": "stderr",
     "output_type": "stream",
     "text": [
      "C:\\Users\\Chen Wei\\AppData\\Local\\Temp\\ipykernel_4128\\1000544679.py:41: DeprecationWarning: KerasClassifier is deprecated, use Sci-Keras (https://github.com/adriangb/scikeras) instead. See https://www.adriangb.com/scikeras/stable/migration.html for help migrating.\n",
      "  tune_rnn = KerasClassifier(build_fn=create_model, epochs=epochs, batch_size=batch_size, verbose=0)\n"
     ]
    },
    {
     "name": "stdout",
     "output_type": "stream",
     "text": [
      "142/142 [==============================] - 1s 4ms/step\n",
      "142/142 [==============================] - 1s 4ms/step\n",
      "142/142 [==============================] - 1s 4ms/step\n",
      "142/142 [==============================] - 2s 4ms/step\n",
      "142/142 [==============================] - 1s 4ms/step\n",
      "| \u001b[0m19       \u001b[0m | \u001b[0m0.8046   \u001b[0m | \u001b[0m3.07     \u001b[0m | \u001b[0m202.1    \u001b[0m | \u001b[0m0.9247   \u001b[0m | \u001b[0m0.3509   \u001b[0m | \u001b[0m15.16    \u001b[0m | \u001b[0m2.32     \u001b[0m | \u001b[0m3.452    \u001b[0m | \u001b[0m0.005997 \u001b[0m | \u001b[0m150.6    \u001b[0m | \u001b[0m1.693    \u001b[0m |\n"
     ]
    },
    {
     "name": "stderr",
     "output_type": "stream",
     "text": [
      "C:\\Users\\Chen Wei\\AppData\\Local\\Temp\\ipykernel_4128\\1000544679.py:41: DeprecationWarning: KerasClassifier is deprecated, use Sci-Keras (https://github.com/adriangb/scikeras) instead. See https://www.adriangb.com/scikeras/stable/migration.html for help migrating.\n",
      "  tune_rnn = KerasClassifier(build_fn=create_model, epochs=epochs, batch_size=batch_size, verbose=0)\n"
     ]
    },
    {
     "name": "stdout",
     "output_type": "stream",
     "text": [
      "142/142 [==============================] - 1s 6ms/step\n",
      "142/142 [==============================] - 1s 5ms/step\n",
      "142/142 [==============================] - 1s 6ms/step\n",
      "142/142 [==============================] - 2s 7ms/step\n",
      "142/142 [==============================] - 1s 6ms/step\n",
      "| \u001b[0m20       \u001b[0m | \u001b[0m0.8086   \u001b[0m | \u001b[0m0.8379   \u001b[0m | \u001b[0m907.5    \u001b[0m | \u001b[0m0.9004   \u001b[0m | \u001b[0m0.2532   \u001b[0m | \u001b[0m16.78    \u001b[0m | \u001b[0m1.698    \u001b[0m | \u001b[0m3.178    \u001b[0m | \u001b[0m0.009074 \u001b[0m | \u001b[0m230.7    \u001b[0m | \u001b[0m5.459    \u001b[0m |\n"
     ]
    },
    {
     "name": "stderr",
     "output_type": "stream",
     "text": [
      "C:\\Users\\Chen Wei\\AppData\\Local\\Temp\\ipykernel_4128\\1000544679.py:41: DeprecationWarning: KerasClassifier is deprecated, use Sci-Keras (https://github.com/adriangb/scikeras) instead. See https://www.adriangb.com/scikeras/stable/migration.html for help migrating.\n",
      "  tune_rnn = KerasClassifier(build_fn=create_model, epochs=epochs, batch_size=batch_size, verbose=0)\n"
     ]
    },
    {
     "name": "stdout",
     "output_type": "stream",
     "text": [
      "142/142 [==============================] - 1s 3ms/step\n",
      "142/142 [==============================] - 1s 3ms/step\n",
      "142/142 [==============================] - 1s 4ms/step\n",
      "142/142 [==============================] - 1s 3ms/step\n",
      "142/142 [==============================] - 1s 5ms/step\n",
      "| \u001b[95m21       \u001b[0m | \u001b[95m0.9255   \u001b[0m | \u001b[95m5.778    \u001b[0m | \u001b[95m175.7    \u001b[0m | \u001b[95m0.1616   \u001b[0m | \u001b[95m0.3594   \u001b[0m | \u001b[95m22.13    \u001b[0m | \u001b[95m1.018    \u001b[0m | \u001b[95m1.304    \u001b[0m | \u001b[95m0.006972 \u001b[0m | \u001b[95m33.13    \u001b[0m | \u001b[95m1.126    \u001b[0m |\n"
     ]
    },
    {
     "name": "stderr",
     "output_type": "stream",
     "text": [
      "C:\\Users\\Chen Wei\\AppData\\Local\\Temp\\ipykernel_4128\\1000544679.py:41: DeprecationWarning: KerasClassifier is deprecated, use Sci-Keras (https://github.com/adriangb/scikeras) instead. See https://www.adriangb.com/scikeras/stable/migration.html for help migrating.\n",
      "  tune_rnn = KerasClassifier(build_fn=create_model, epochs=epochs, batch_size=batch_size, verbose=0)\n"
     ]
    },
    {
     "name": "stdout",
     "output_type": "stream",
     "text": [
      "142/142 [==============================] - 1s 5ms/step\n",
      "142/142 [==============================] - 1s 6ms/step\n",
      "142/142 [==============================] - 1s 5ms/step\n",
      "142/142 [==============================] - 1s 5ms/step\n",
      "142/142 [==============================] - 1s 6ms/step\n",
      "| \u001b[0m22       \u001b[0m | \u001b[0m0.4946   \u001b[0m | \u001b[0m4.939    \u001b[0m | \u001b[0m722.7    \u001b[0m | \u001b[0m0.652    \u001b[0m | \u001b[0m0.08971  \u001b[0m | \u001b[0m24.24    \u001b[0m | \u001b[0m1.474    \u001b[0m | \u001b[0m1.976    \u001b[0m | \u001b[0m0.007718 \u001b[0m | \u001b[0m177.5    \u001b[0m | \u001b[0m5.945    \u001b[0m |\n"
     ]
    },
    {
     "name": "stderr",
     "output_type": "stream",
     "text": [
      "C:\\Users\\Chen Wei\\AppData\\Local\\Temp\\ipykernel_4128\\1000544679.py:41: DeprecationWarning: KerasClassifier is deprecated, use Sci-Keras (https://github.com/adriangb/scikeras) instead. See https://www.adriangb.com/scikeras/stable/migration.html for help migrating.\n",
      "  tune_rnn = KerasClassifier(build_fn=create_model, epochs=epochs, batch_size=batch_size, verbose=0)\n"
     ]
    },
    {
     "name": "stdout",
     "output_type": "stream",
     "text": [
      "142/142 [==============================] - 2s 6ms/step\n",
      "142/142 [==============================] - 1s 6ms/step\n",
      "142/142 [==============================] - 1s 7ms/step\n",
      "142/142 [==============================] - 1s 7ms/step\n",
      "142/142 [==============================] - 1s 8ms/step\n",
      "| \u001b[0m23       \u001b[0m | \u001b[0m0.3902   \u001b[0m | \u001b[0m5.919    \u001b[0m | \u001b[0m611.5    \u001b[0m | \u001b[0m0.09367  \u001b[0m | \u001b[0m0.1471   \u001b[0m | \u001b[0m15.3     \u001b[0m | \u001b[0m1.488    \u001b[0m | \u001b[0m3.919    \u001b[0m | \u001b[0m0.004538 \u001b[0m | \u001b[0m231.8    \u001b[0m | \u001b[0m4.418    \u001b[0m |\n"
     ]
    },
    {
     "name": "stderr",
     "output_type": "stream",
     "text": [
      "C:\\Users\\Chen Wei\\AppData\\Local\\Temp\\ipykernel_4128\\1000544679.py:41: DeprecationWarning: KerasClassifier is deprecated, use Sci-Keras (https://github.com/adriangb/scikeras) instead. See https://www.adriangb.com/scikeras/stable/migration.html for help migrating.\n",
      "  tune_rnn = KerasClassifier(build_fn=create_model, epochs=epochs, batch_size=batch_size, verbose=0)\n"
     ]
    },
    {
     "name": "stdout",
     "output_type": "stream",
     "text": [
      "142/142 [==============================] - 1s 6ms/step\n",
      "142/142 [==============================] - 1s 5ms/step\n",
      "142/142 [==============================] - 1s 5ms/step\n",
      "142/142 [==============================] - 1s 5ms/step\n",
      "142/142 [==============================] - 1s 4ms/step\n",
      "| \u001b[0m24       \u001b[0m | \u001b[0m0.0      \u001b[0m | \u001b[0m7.153    \u001b[0m | \u001b[0m552.4    \u001b[0m | \u001b[0m0.5769   \u001b[0m | \u001b[0m0.197    \u001b[0m | \u001b[0m13.9     \u001b[0m | \u001b[0m2.445    \u001b[0m | \u001b[0m1.842    \u001b[0m | \u001b[0m0.001219 \u001b[0m | \u001b[0m176.6    \u001b[0m | \u001b[0m1.24     \u001b[0m |\n"
     ]
    },
    {
     "name": "stderr",
     "output_type": "stream",
     "text": [
      "C:\\Users\\Chen Wei\\AppData\\Local\\Temp\\ipykernel_4128\\1000544679.py:41: DeprecationWarning: KerasClassifier is deprecated, use Sci-Keras (https://github.com/adriangb/scikeras) instead. See https://www.adriangb.com/scikeras/stable/migration.html for help migrating.\n",
      "  tune_rnn = KerasClassifier(build_fn=create_model, epochs=epochs, batch_size=batch_size, verbose=0)\n"
     ]
    },
    {
     "name": "stdout",
     "output_type": "stream",
     "text": [
      "142/142 [==============================] - 1s 4ms/step\n",
      "142/142 [==============================] - 1s 5ms/step\n",
      "142/142 [==============================] - 1s 5ms/step\n",
      "142/142 [==============================] - 1s 4ms/step\n",
      "142/142 [==============================] - 1s 5ms/step\n",
      "| \u001b[0m25       \u001b[0m | \u001b[0m0.5917   \u001b[0m | \u001b[0m8.464    \u001b[0m | \u001b[0m958.5    \u001b[0m | \u001b[0m0.9149   \u001b[0m | \u001b[0m0.1481   \u001b[0m | \u001b[0m10.31    \u001b[0m | \u001b[0m2.857    \u001b[0m | \u001b[0m2.285    \u001b[0m | \u001b[0m0.0097   \u001b[0m | \u001b[0m247.9    \u001b[0m | \u001b[0m5.971    \u001b[0m |\n"
     ]
    },
    {
     "name": "stderr",
     "output_type": "stream",
     "text": [
      "C:\\Users\\Chen Wei\\AppData\\Local\\Temp\\ipykernel_4128\\1000544679.py:41: DeprecationWarning: KerasClassifier is deprecated, use Sci-Keras (https://github.com/adriangb/scikeras) instead. See https://www.adriangb.com/scikeras/stable/migration.html for help migrating.\n",
      "  tune_rnn = KerasClassifier(build_fn=create_model, epochs=epochs, batch_size=batch_size, verbose=0)\n"
     ]
    },
    {
     "name": "stdout",
     "output_type": "stream",
     "text": [
      "142/142 [==============================] - 1s 7ms/step\n",
      "142/142 [==============================] - 2s 11ms/step\n",
      "142/142 [==============================] - 2s 8ms/step\n",
      "142/142 [==============================] - 2s 10ms/step\n",
      "142/142 [==============================] - 1s 5ms/step\n",
      "| \u001b[0m26       \u001b[0m | \u001b[0m0.2694   \u001b[0m | \u001b[0m2.65     \u001b[0m | \u001b[0m446.6    \u001b[0m | \u001b[0m0.8511   \u001b[0m | \u001b[0m0.1268   \u001b[0m | \u001b[0m13.39    \u001b[0m | \u001b[0m2.114    \u001b[0m | \u001b[0m3.808    \u001b[0m | \u001b[0m0.007264 \u001b[0m | \u001b[0m159.7    \u001b[0m | \u001b[0m0.6802   \u001b[0m |\n"
     ]
    },
    {
     "name": "stderr",
     "output_type": "stream",
     "text": [
      "C:\\Users\\Chen Wei\\AppData\\Local\\Temp\\ipykernel_4128\\1000544679.py:41: DeprecationWarning: KerasClassifier is deprecated, use Sci-Keras (https://github.com/adriangb/scikeras) instead. See https://www.adriangb.com/scikeras/stable/migration.html for help migrating.\n",
      "  tune_rnn = KerasClassifier(build_fn=create_model, epochs=epochs, batch_size=batch_size, verbose=0)\n"
     ]
    },
    {
     "name": "stdout",
     "output_type": "stream",
     "text": [
      "142/142 [==============================] - 1s 4ms/step\n",
      "142/142 [==============================] - 1s 5ms/step\n",
      "142/142 [==============================] - 1s 4ms/step\n",
      "142/142 [==============================] - 1s 5ms/step\n",
      "142/142 [==============================] - 1s 6ms/step\n",
      "| \u001b[0m27       \u001b[0m | \u001b[0m0.3951   \u001b[0m | \u001b[0m5.535    \u001b[0m | \u001b[0m991.0    \u001b[0m | \u001b[0m0.1401   \u001b[0m | \u001b[0m0.2073   \u001b[0m | \u001b[0m27.55    \u001b[0m | \u001b[0m2.482    \u001b[0m | \u001b[0m3.091    \u001b[0m | \u001b[0m0.007322 \u001b[0m | \u001b[0m112.5    \u001b[0m | \u001b[0m2.055    \u001b[0m |\n"
     ]
    },
    {
     "name": "stderr",
     "output_type": "stream",
     "text": [
      "C:\\Users\\Chen Wei\\AppData\\Local\\Temp\\ipykernel_4128\\1000544679.py:41: DeprecationWarning: KerasClassifier is deprecated, use Sci-Keras (https://github.com/adriangb/scikeras) instead. See https://www.adriangb.com/scikeras/stable/migration.html for help migrating.\n",
      "  tune_rnn = KerasClassifier(build_fn=create_model, epochs=epochs, batch_size=batch_size, verbose=0)\n"
     ]
    },
    {
     "name": "stdout",
     "output_type": "stream",
     "text": [
      "142/142 [==============================] - 1s 6ms/step\n",
      "142/142 [==============================] - 1s 5ms/step\n",
      "142/142 [==============================] - 1s 5ms/step\n",
      "142/142 [==============================] - 1s 6ms/step\n",
      "142/142 [==============================] - 1s 5ms/step\n",
      "| \u001b[0m28       \u001b[0m | \u001b[0m0.0      \u001b[0m | \u001b[0m7.284    \u001b[0m | \u001b[0m829.1    \u001b[0m | \u001b[0m0.8671   \u001b[0m | \u001b[0m0.3653   \u001b[0m | \u001b[0m20.23    \u001b[0m | \u001b[0m2.003    \u001b[0m | \u001b[0m3.395    \u001b[0m | \u001b[0m0.00685  \u001b[0m | \u001b[0m189.2    \u001b[0m | \u001b[0m5.571    \u001b[0m |\n"
     ]
    },
    {
     "name": "stderr",
     "output_type": "stream",
     "text": [
      "C:\\Users\\Chen Wei\\AppData\\Local\\Temp\\ipykernel_4128\\1000544679.py:41: DeprecationWarning: KerasClassifier is deprecated, use Sci-Keras (https://github.com/adriangb/scikeras) instead. See https://www.adriangb.com/scikeras/stable/migration.html for help migrating.\n",
      "  tune_rnn = KerasClassifier(build_fn=create_model, epochs=epochs, batch_size=batch_size, verbose=0)\n"
     ]
    },
    {
     "name": "stdout",
     "output_type": "stream",
     "text": [
      "142/142 [==============================] - 1s 4ms/step\n",
      "142/142 [==============================] - 1s 4ms/step\n",
      "142/142 [==============================] - 1s 4ms/step\n",
      "142/142 [==============================] - 1s 4ms/step\n",
      "142/142 [==============================] - 1s 4ms/step\n",
      "| \u001b[0m29       \u001b[0m | \u001b[0m0.574    \u001b[0m | \u001b[0m8.01     \u001b[0m | \u001b[0m404.2    \u001b[0m | \u001b[0m0.3756   \u001b[0m | \u001b[0m0.03759  \u001b[0m | \u001b[0m21.57    \u001b[0m | \u001b[0m1.072    \u001b[0m | \u001b[0m2.397    \u001b[0m | \u001b[0m0.005884 \u001b[0m | \u001b[0m96.19    \u001b[0m | \u001b[0m4.136    \u001b[0m |\n"
     ]
    },
    {
     "name": "stderr",
     "output_type": "stream",
     "text": [
      "C:\\Users\\Chen Wei\\AppData\\Local\\Temp\\ipykernel_4128\\1000544679.py:41: DeprecationWarning: KerasClassifier is deprecated, use Sci-Keras (https://github.com/adriangb/scikeras) instead. See https://www.adriangb.com/scikeras/stable/migration.html for help migrating.\n",
      "  tune_rnn = KerasClassifier(build_fn=create_model, epochs=epochs, batch_size=batch_size, verbose=0)\n"
     ]
    },
    {
     "name": "stdout",
     "output_type": "stream",
     "text": [
      "142/142 [==============================] - 1s 5ms/step\n",
      "142/142 [==============================] - 1s 5ms/step\n",
      "142/142 [==============================] - 2s 8ms/step\n",
      "142/142 [==============================] - 2s 7ms/step\n",
      "142/142 [==============================] - 1s 6ms/step\n",
      "| \u001b[0m30       \u001b[0m | \u001b[0m0.8977   \u001b[0m | \u001b[0m0.2745   \u001b[0m | \u001b[0m133.6    \u001b[0m | \u001b[0m0.8226   \u001b[0m | \u001b[0m0.1441   \u001b[0m | \u001b[0m12.54    \u001b[0m | \u001b[0m2.044    \u001b[0m | \u001b[0m3.31     \u001b[0m | \u001b[0m0.002942 \u001b[0m | \u001b[0m171.5    \u001b[0m | \u001b[0m0.5974   \u001b[0m |\n"
     ]
    },
    {
     "name": "stderr",
     "output_type": "stream",
     "text": [
      "C:\\Users\\Chen Wei\\AppData\\Local\\Temp\\ipykernel_4128\\1000544679.py:41: DeprecationWarning: KerasClassifier is deprecated, use Sci-Keras (https://github.com/adriangb/scikeras) instead. See https://www.adriangb.com/scikeras/stable/migration.html for help migrating.\n",
      "  tune_rnn = KerasClassifier(build_fn=create_model, epochs=epochs, batch_size=batch_size, verbose=0)\n"
     ]
    },
    {
     "name": "stdout",
     "output_type": "stream",
     "text": [
      "142/142 [==============================] - 2s 12ms/step\n",
      "142/142 [==============================] - 2s 9ms/step\n",
      "142/142 [==============================] - 2s 12ms/step\n",
      "142/142 [==============================] - 1s 6ms/step\n",
      "142/142 [==============================] - 2s 11ms/step\n",
      "| \u001b[0m31       \u001b[0m | \u001b[0m0.7118   \u001b[0m | \u001b[0m0.4651   \u001b[0m | \u001b[0m578.2    \u001b[0m | \u001b[0m0.5406   \u001b[0m | \u001b[0m0.255    \u001b[0m | \u001b[0m24.52    \u001b[0m | \u001b[0m2.952    \u001b[0m | \u001b[0m2.549    \u001b[0m | \u001b[0m0.003907 \u001b[0m | \u001b[0m210.1    \u001b[0m | \u001b[0m1.896    \u001b[0m |\n"
     ]
    },
    {
     "name": "stderr",
     "output_type": "stream",
     "text": [
      "C:\\Users\\Chen Wei\\AppData\\Local\\Temp\\ipykernel_4128\\1000544679.py:41: DeprecationWarning: KerasClassifier is deprecated, use Sci-Keras (https://github.com/adriangb/scikeras) instead. See https://www.adriangb.com/scikeras/stable/migration.html for help migrating.\n",
      "  tune_rnn = KerasClassifier(build_fn=create_model, epochs=epochs, batch_size=batch_size, verbose=0)\n"
     ]
    },
    {
     "name": "stdout",
     "output_type": "stream",
     "text": [
      "142/142 [==============================] - 1s 6ms/step\n",
      "142/142 [==============================] - 1s 4ms/step\n",
      "142/142 [==============================] - 2s 6ms/step\n",
      "142/142 [==============================] - 1s 4ms/step\n",
      "142/142 [==============================] - 1s 4ms/step\n",
      "| \u001b[0m32       \u001b[0m | \u001b[0m0.9229   \u001b[0m | \u001b[0m3.951    \u001b[0m | \u001b[0m170.6    \u001b[0m | \u001b[0m0.02535  \u001b[0m | \u001b[0m0.3851   \u001b[0m | \u001b[0m26.72    \u001b[0m | \u001b[0m2.392    \u001b[0m | \u001b[0m2.227    \u001b[0m | \u001b[0m0.00256  \u001b[0m | \u001b[0m67.04    \u001b[0m | \u001b[0m1.752    \u001b[0m |\n"
     ]
    },
    {
     "name": "stderr",
     "output_type": "stream",
     "text": [
      "C:\\Users\\Chen Wei\\AppData\\Local\\Temp\\ipykernel_4128\\1000544679.py:41: DeprecationWarning: KerasClassifier is deprecated, use Sci-Keras (https://github.com/adriangb/scikeras) instead. See https://www.adriangb.com/scikeras/stable/migration.html for help migrating.\n",
      "  tune_rnn = KerasClassifier(build_fn=create_model, epochs=epochs, batch_size=batch_size, verbose=0)\n"
     ]
    },
    {
     "name": "stdout",
     "output_type": "stream",
     "text": [
      "142/142 [==============================] - 1s 6ms/step\n",
      "142/142 [==============================] - 1s 6ms/step\n",
      "142/142 [==============================] - 1s 6ms/step\n",
      "142/142 [==============================] - 1s 6ms/step\n",
      "142/142 [==============================] - 1s 6ms/step\n",
      "| \u001b[0m33       \u001b[0m | \u001b[0m0.3884   \u001b[0m | \u001b[0m4.943    \u001b[0m | \u001b[0m743.1    \u001b[0m | \u001b[0m0.6602   \u001b[0m | \u001b[0m0.112    \u001b[0m | \u001b[0m29.1     \u001b[0m | \u001b[0m2.476    \u001b[0m | \u001b[0m2.663    \u001b[0m | \u001b[0m0.006505 \u001b[0m | \u001b[0m126.0    \u001b[0m | \u001b[0m1.734    \u001b[0m |\n"
     ]
    },
    {
     "name": "stderr",
     "output_type": "stream",
     "text": [
      "C:\\Users\\Chen Wei\\AppData\\Local\\Temp\\ipykernel_4128\\1000544679.py:41: DeprecationWarning: KerasClassifier is deprecated, use Sci-Keras (https://github.com/adriangb/scikeras) instead. See https://www.adriangb.com/scikeras/stable/migration.html for help migrating.\n",
      "  tune_rnn = KerasClassifier(build_fn=create_model, epochs=epochs, batch_size=batch_size, verbose=0)\n"
     ]
    },
    {
     "name": "stdout",
     "output_type": "stream",
     "text": [
      "142/142 [==============================] - 1s 5ms/step\n",
      "142/142 [==============================] - 1s 5ms/step\n",
      "142/142 [==============================] - 1s 7ms/step\n",
      "142/142 [==============================] - 1s 3ms/step\n",
      "142/142 [==============================] - 1s 4ms/step\n",
      "| \u001b[0m34       \u001b[0m | \u001b[0m0.5083   \u001b[0m | \u001b[0m3.204    \u001b[0m | \u001b[0m782.1    \u001b[0m | \u001b[0m0.01439  \u001b[0m | \u001b[0m0.04643  \u001b[0m | \u001b[0m10.92    \u001b[0m | \u001b[0m1.081    \u001b[0m | \u001b[0m3.566    \u001b[0m | \u001b[0m0.007333 \u001b[0m | \u001b[0m138.2    \u001b[0m | \u001b[0m0.6848   \u001b[0m |\n"
     ]
    },
    {
     "name": "stderr",
     "output_type": "stream",
     "text": [
      "C:\\Users\\Chen Wei\\AppData\\Local\\Temp\\ipykernel_4128\\1000544679.py:41: DeprecationWarning: KerasClassifier is deprecated, use Sci-Keras (https://github.com/adriangb/scikeras) instead. See https://www.adriangb.com/scikeras/stable/migration.html for help migrating.\n",
      "  tune_rnn = KerasClassifier(build_fn=create_model, epochs=epochs, batch_size=batch_size, verbose=0)\n"
     ]
    },
    {
     "name": "stdout",
     "output_type": "stream",
     "text": [
      "142/142 [==============================] - 2s 7ms/step\n",
      "142/142 [==============================] - 1s 5ms/step\n",
      "142/142 [==============================] - 1s 4ms/step\n",
      "142/142 [==============================] - 1s 4ms/step\n",
      "142/142 [==============================] - 1s 5ms/step\n",
      "| \u001b[0m35       \u001b[0m | \u001b[0m0.3999   \u001b[0m | \u001b[0m4.425    \u001b[0m | \u001b[0m526.1    \u001b[0m | \u001b[0m0.1732   \u001b[0m | \u001b[0m0.1735   \u001b[0m | \u001b[0m17.97    \u001b[0m | \u001b[0m2.232    \u001b[0m | \u001b[0m2.905    \u001b[0m | \u001b[0m0.001408 \u001b[0m | \u001b[0m115.9    \u001b[0m | \u001b[0m4.381    \u001b[0m |\n"
     ]
    },
    {
     "name": "stderr",
     "output_type": "stream",
     "text": [
      "C:\\Users\\Chen Wei\\AppData\\Local\\Temp\\ipykernel_4128\\1000544679.py:41: DeprecationWarning: KerasClassifier is deprecated, use Sci-Keras (https://github.com/adriangb/scikeras) instead. See https://www.adriangb.com/scikeras/stable/migration.html for help migrating.\n",
      "  tune_rnn = KerasClassifier(build_fn=create_model, epochs=epochs, batch_size=batch_size, verbose=0)\n"
     ]
    },
    {
     "name": "stdout",
     "output_type": "stream",
     "text": [
      "142/142 [==============================] - 2s 9ms/step\n",
      "142/142 [==============================] - 1s 6ms/step\n",
      "142/142 [==============================] - 1s 6ms/step\n",
      "142/142 [==============================] - 1s 7ms/step\n",
      "142/142 [==============================] - 1s 7ms/step\n",
      "| \u001b[0m36       \u001b[0m | \u001b[0m0.3071   \u001b[0m | \u001b[0m4.528    \u001b[0m | \u001b[0m870.8    \u001b[0m | \u001b[0m0.6587   \u001b[0m | \u001b[0m0.06517  \u001b[0m | \u001b[0m11.41    \u001b[0m | \u001b[0m2.285    \u001b[0m | \u001b[0m1.08     \u001b[0m | \u001b[0m0.006272 \u001b[0m | \u001b[0m242.6    \u001b[0m | \u001b[0m4.028    \u001b[0m |\n"
     ]
    },
    {
     "name": "stderr",
     "output_type": "stream",
     "text": [
      "C:\\Users\\Chen Wei\\AppData\\Local\\Temp\\ipykernel_4128\\1000544679.py:41: DeprecationWarning: KerasClassifier is deprecated, use Sci-Keras (https://github.com/adriangb/scikeras) instead. See https://www.adriangb.com/scikeras/stable/migration.html for help migrating.\n",
      "  tune_rnn = KerasClassifier(build_fn=create_model, epochs=epochs, batch_size=batch_size, verbose=0)\n"
     ]
    },
    {
     "name": "stdout",
     "output_type": "stream",
     "text": [
      "142/142 [==============================] - 2s 8ms/step\n",
      "142/142 [==============================] - 1s 5ms/step\n",
      "142/142 [==============================] - 1s 5ms/step\n",
      "142/142 [==============================] - 2s 6ms/step\n",
      "142/142 [==============================] - 1s 6ms/step\n",
      "| \u001b[0m37       \u001b[0m | \u001b[0m0.1708   \u001b[0m | \u001b[0m3.494    \u001b[0m | \u001b[0m679.0    \u001b[0m | \u001b[0m0.4583   \u001b[0m | \u001b[0m0.2182   \u001b[0m | \u001b[0m28.83    \u001b[0m | \u001b[0m1.772    \u001b[0m | \u001b[0m3.884    \u001b[0m | \u001b[0m0.009148 \u001b[0m | \u001b[0m75.86    \u001b[0m | \u001b[0m0.4855   \u001b[0m |\n"
     ]
    },
    {
     "name": "stderr",
     "output_type": "stream",
     "text": [
      "C:\\Users\\Chen Wei\\AppData\\Local\\Temp\\ipykernel_4128\\1000544679.py:41: DeprecationWarning: KerasClassifier is deprecated, use Sci-Keras (https://github.com/adriangb/scikeras) instead. See https://www.adriangb.com/scikeras/stable/migration.html for help migrating.\n",
      "  tune_rnn = KerasClassifier(build_fn=create_model, epochs=epochs, batch_size=batch_size, verbose=0)\n"
     ]
    },
    {
     "name": "stdout",
     "output_type": "stream",
     "text": [
      "142/142 [==============================] - 2s 11ms/step\n",
      "142/142 [==============================] - 2s 9ms/step\n",
      "142/142 [==============================] - 2s 9ms/step\n",
      "142/142 [==============================] - 2s 9ms/step\n",
      "142/142 [==============================] - 2s 11ms/step\n",
      "| \u001b[0m38       \u001b[0m | \u001b[0m0.7983   \u001b[0m | \u001b[0m0.907    \u001b[0m | \u001b[0m116.4    \u001b[0m | \u001b[0m0.09444  \u001b[0m | \u001b[0m0.2732   \u001b[0m | \u001b[0m11.42    \u001b[0m | \u001b[0m1.638    \u001b[0m | \u001b[0m3.535    \u001b[0m | \u001b[0m0.001209 \u001b[0m | \u001b[0m214.4    \u001b[0m | \u001b[0m1.973    \u001b[0m |\n"
     ]
    },
    {
     "name": "stderr",
     "output_type": "stream",
     "text": [
      "C:\\Users\\Chen Wei\\AppData\\Local\\Temp\\ipykernel_4128\\1000544679.py:41: DeprecationWarning: KerasClassifier is deprecated, use Sci-Keras (https://github.com/adriangb/scikeras) instead. See https://www.adriangb.com/scikeras/stable/migration.html for help migrating.\n",
      "  tune_rnn = KerasClassifier(build_fn=create_model, epochs=epochs, batch_size=batch_size, verbose=0)\n"
     ]
    },
    {
     "name": "stdout",
     "output_type": "stream",
     "text": [
      "142/142 [==============================] - 2s 8ms/step\n",
      "142/142 [==============================] - 2s 9ms/step\n",
      "142/142 [==============================] - 2s 10ms/step\n",
      "142/142 [==============================] - 2s 11ms/step\n",
      "142/142 [==============================] - 3s 13ms/step\n",
      "| \u001b[0m39       \u001b[0m | \u001b[0m0.4844   \u001b[0m | \u001b[0m1.063    \u001b[0m | \u001b[0m727.1    \u001b[0m | \u001b[0m0.6289   \u001b[0m | \u001b[0m0.351    \u001b[0m | \u001b[0m24.7     \u001b[0m | \u001b[0m2.607    \u001b[0m | \u001b[0m1.846    \u001b[0m | \u001b[0m0.002597 \u001b[0m | \u001b[0m200.1    \u001b[0m | \u001b[0m5.648    \u001b[0m |\n"
     ]
    },
    {
     "name": "stderr",
     "output_type": "stream",
     "text": [
      "C:\\Users\\Chen Wei\\AppData\\Local\\Temp\\ipykernel_4128\\1000544679.py:41: DeprecationWarning: KerasClassifier is deprecated, use Sci-Keras (https://github.com/adriangb/scikeras) instead. See https://www.adriangb.com/scikeras/stable/migration.html for help migrating.\n",
      "  tune_rnn = KerasClassifier(build_fn=create_model, epochs=epochs, batch_size=batch_size, verbose=0)\n"
     ]
    },
    {
     "name": "stdout",
     "output_type": "stream",
     "text": [
      "142/142 [==============================] - 2s 7ms/step\n",
      "142/142 [==============================] - 2s 12ms/step\n",
      "142/142 [==============================] - 2s 12ms/step\n",
      "142/142 [==============================] - 2s 10ms/step\n",
      "142/142 [==============================] - 1s 6ms/step\n",
      "| \u001b[0m40       \u001b[0m | \u001b[0m0.8689   \u001b[0m | \u001b[0m8.915    \u001b[0m | \u001b[0m471.4    \u001b[0m | \u001b[0m0.372    \u001b[0m | \u001b[0m0.3106   \u001b[0m | \u001b[0m16.82    \u001b[0m | \u001b[0m2.862    \u001b[0m | \u001b[0m3.575    \u001b[0m | \u001b[0m0.004861 \u001b[0m | \u001b[0m200.2    \u001b[0m | \u001b[0m5.282    \u001b[0m |\n"
     ]
    },
    {
     "name": "stderr",
     "output_type": "stream",
     "text": [
      "C:\\Users\\Chen Wei\\AppData\\Local\\Temp\\ipykernel_4128\\1000544679.py:41: DeprecationWarning: KerasClassifier is deprecated, use Sci-Keras (https://github.com/adriangb/scikeras) instead. See https://www.adriangb.com/scikeras/stable/migration.html for help migrating.\n",
      "  tune_rnn = KerasClassifier(build_fn=create_model, epochs=epochs, batch_size=batch_size, verbose=0)\n"
     ]
    },
    {
     "name": "stdout",
     "output_type": "stream",
     "text": [
      "142/142 [==============================] - 1s 4ms/step\n",
      "142/142 [==============================] - 1s 4ms/step\n",
      "142/142 [==============================] - 1s 4ms/step\n",
      "142/142 [==============================] - 1s 4ms/step\n",
      "142/142 [==============================] - 1s 4ms/step\n",
      "| \u001b[0m41       \u001b[0m | \u001b[0m0.6581   \u001b[0m | \u001b[0m5.312    \u001b[0m | \u001b[0m607.9    \u001b[0m | \u001b[0m0.9649   \u001b[0m | \u001b[0m0.1279   \u001b[0m | \u001b[0m10.69    \u001b[0m | \u001b[0m2.84     \u001b[0m | \u001b[0m1.574    \u001b[0m | \u001b[0m0.007745 \u001b[0m | \u001b[0m77.7     \u001b[0m | \u001b[0m5.803    \u001b[0m |\n"
     ]
    },
    {
     "name": "stderr",
     "output_type": "stream",
     "text": [
      "C:\\Users\\Chen Wei\\AppData\\Local\\Temp\\ipykernel_4128\\1000544679.py:41: DeprecationWarning: KerasClassifier is deprecated, use Sci-Keras (https://github.com/adriangb/scikeras) instead. See https://www.adriangb.com/scikeras/stable/migration.html for help migrating.\n",
      "  tune_rnn = KerasClassifier(build_fn=create_model, epochs=epochs, batch_size=batch_size, verbose=0)\n"
     ]
    },
    {
     "name": "stdout",
     "output_type": "stream",
     "text": [
      "142/142 [==============================] - 1s 4ms/step\n",
      "142/142 [==============================] - 1s 3ms/step\n",
      "142/142 [==============================] - 1s 5ms/step\n",
      "142/142 [==============================] - 1s 6ms/step\n",
      "142/142 [==============================] - 2s 7ms/step\n",
      "| \u001b[0m42       \u001b[0m | \u001b[0m0.795    \u001b[0m | \u001b[0m7.997    \u001b[0m | \u001b[0m740.5    \u001b[0m | \u001b[0m0.2353   \u001b[0m | \u001b[0m0.1587   \u001b[0m | \u001b[0m12.02    \u001b[0m | \u001b[0m1.746    \u001b[0m | \u001b[0m1.015    \u001b[0m | \u001b[0m0.005883 \u001b[0m | \u001b[0m43.6     \u001b[0m | \u001b[0m0.7721   \u001b[0m |\n"
     ]
    },
    {
     "name": "stderr",
     "output_type": "stream",
     "text": [
      "C:\\Users\\Chen Wei\\AppData\\Local\\Temp\\ipykernel_4128\\1000544679.py:41: DeprecationWarning: KerasClassifier is deprecated, use Sci-Keras (https://github.com/adriangb/scikeras) instead. See https://www.adriangb.com/scikeras/stable/migration.html for help migrating.\n",
      "  tune_rnn = KerasClassifier(build_fn=create_model, epochs=epochs, batch_size=batch_size, verbose=0)\n"
     ]
    },
    {
     "name": "stdout",
     "output_type": "stream",
     "text": [
      "142/142 [==============================] - 2s 7ms/step\n",
      "142/142 [==============================] - 2s 7ms/step\n",
      "142/142 [==============================] - 1s 7ms/step\n",
      "142/142 [==============================] - 1s 6ms/step\n",
      "142/142 [==============================] - 2s 6ms/step\n",
      "| \u001b[0m43       \u001b[0m | \u001b[0m0.5339   \u001b[0m | \u001b[0m8.098    \u001b[0m | \u001b[0m290.1    \u001b[0m | \u001b[0m0.74     \u001b[0m | \u001b[0m0.3059   \u001b[0m | \u001b[0m17.67    \u001b[0m | \u001b[0m2.299    \u001b[0m | \u001b[0m1.363    \u001b[0m | \u001b[0m0.004477 \u001b[0m | \u001b[0m113.9    \u001b[0m | \u001b[0m3.878    \u001b[0m |\n"
     ]
    },
    {
     "name": "stderr",
     "output_type": "stream",
     "text": [
      "C:\\Users\\Chen Wei\\AppData\\Local\\Temp\\ipykernel_4128\\1000544679.py:41: DeprecationWarning: KerasClassifier is deprecated, use Sci-Keras (https://github.com/adriangb/scikeras) instead. See https://www.adriangb.com/scikeras/stable/migration.html for help migrating.\n",
      "  tune_rnn = KerasClassifier(build_fn=create_model, epochs=epochs, batch_size=batch_size, verbose=0)\n"
     ]
    },
    {
     "name": "stdout",
     "output_type": "stream",
     "text": [
      "142/142 [==============================] - 1s 7ms/step\n",
      "142/142 [==============================] - 2s 9ms/step\n",
      "142/142 [==============================] - 2s 9ms/step\n",
      "142/142 [==============================] - 2s 9ms/step\n",
      "142/142 [==============================] - 2s 9ms/step\n",
      "| \u001b[0m44       \u001b[0m | \u001b[0m0.1416   \u001b[0m | \u001b[0m4.03     \u001b[0m | \u001b[0m842.3    \u001b[0m | \u001b[0m0.8029   \u001b[0m | \u001b[0m0.06778  \u001b[0m | \u001b[0m10.7     \u001b[0m | \u001b[0m1.754    \u001b[0m | \u001b[0m2.033    \u001b[0m | \u001b[0m0.003354 \u001b[0m | \u001b[0m215.7    \u001b[0m | \u001b[0m6.856    \u001b[0m |\n",
      "=================================================================================================================================================\n"
     ]
    }
   ],
   "source": [
    "rnn_bo = BayesianOptimization(rnn_tuner, params_rnn, random_state=42)\n",
    "rnn_bo.maximize(init_points=40, n_iter=4)"
   ]
  },
  {
   "cell_type": "code",
   "execution_count": null,
   "id": "4dfdc07c",
   "metadata": {
    "id": "4dfdc07c",
    "outputId": "8c8c2adc-e472-41b2-d9e5-f8293b8aba26"
   },
   "outputs": [
    {
     "data": {
      "text/plain": [
       "{'activation': 6,\n",
       " 'batch_size': 175.7,\n",
       " 'dropout': 0.1616,\n",
       " 'dropout_rate': 0.2696,\n",
       " 'epochs': 22.13,\n",
       " 'layers1': 1.028,\n",
       " 'layers2': 1.304,\n",
       " 'learning_rate': 0.006972,\n",
       " 'neurons': 33.13,\n",
       " 'optimizer': 1.126}"
      ]
     },
     "execution_count": 64,
     "metadata": {},
     "output_type": "execute_result"
    }
   ],
   "source": [
    "{'activation': 4, 'batch_size': 170.6, 'dropout': .102535, 'dropout_rate': 0.3851, 'epochs' : 27, 'layers1': 2, 'layers2':2 , \n",
    " 'learning_rate': 0.00256, \n",
    "'neurons': 67, 'optimizer': 1.752, }"
   ]
  },
  {
   "cell_type": "code",
   "execution_count": null,
   "id": "ad069683",
   "metadata": {
    "id": "ad069683"
   },
   "outputs": [],
   "source": [
    "new_model = Sequential()\n",
    "new_model.add(Dense(241.8, activation='relu'))\n",
    "new_model.add(Dropout(0.06795))\n",
    "new_model.add(Dense(241.8, activation='relu'))\n",
    "new_model.add(Dropout(0.06795))\n",
    "new_model.add(Dense(241.8, activation='relu'))\n",
    "new_model.add(Dropout(0.06795))\n",
    "new_model.add(Dense(1, activation='sigmoid'))"
   ]
  },
  {
   "cell_type": "code",
   "execution_count": null,
   "id": "8561f8d3",
   "metadata": {
    "id": "8561f8d3"
   },
   "outputs": [],
   "source": [
    "new_model.compile(loss='binary_crossentropy', optimizer = Adam(learning_rate=0.00256), metrics=['accuracy',metrics.Precision(), metrics.Recall(),metrics.AUC()])"
   ]
  },
  {
   "cell_type": "code",
   "execution_count": null,
   "id": "c48c3660",
   "metadata": {
    "id": "c48c3660"
   },
   "outputs": [],
   "source": [
    "ros = RandomOverSampler(sampling_strategy = 1, random_state=42)\n",
    "X_res, y_res = ros.fit_resample(X_train, y_train)"
   ]
  },
  {
   "cell_type": "code",
   "execution_count": null,
   "id": "e281ffc7",
   "metadata": {
    "id": "e281ffc7",
    "outputId": "3c4a6f61-6a05-4133-a099-ee56ed088258"
   },
   "outputs": [
    {
     "name": "stdout",
     "output_type": "stream",
     "text": [
      "Epoch 1/27\n",
      "133/133 [==============================] - 4s 11ms/step - loss: 0.6713 - accuracy: 0.7617 - precision_667: 0.7508 - recall_667: 0.7834 - auc_667: 0.8365\n",
      "Epoch 2/27\n",
      "133/133 [==============================] - 2s 11ms/step - loss: 0.1556 - accuracy: 0.9427 - precision_667: 0.9257 - recall_667: 0.9626 - auc_667: 0.9814\n",
      "Epoch 3/27\n",
      "133/133 [==============================] - 2s 11ms/step - loss: 0.0902 - accuracy: 0.9691 - precision_667: 0.9552 - recall_667: 0.9842 - auc_667: 0.9921\n",
      "Epoch 4/27\n",
      "133/133 [==============================] - 1s 10ms/step - loss: 0.0754 - accuracy: 0.9746 - precision_667: 0.9629 - recall_667: 0.9873 - auc_667: 0.9942\n",
      "Epoch 5/27\n",
      "133/133 [==============================] - 1s 10ms/step - loss: 0.0439 - accuracy: 0.9859 - precision_667: 0.9787 - recall_667: 0.9934 - auc_667: 0.9976\n",
      "Epoch 6/27\n",
      "133/133 [==============================] - 1s 10ms/step - loss: 0.0315 - accuracy: 0.9896 - precision_667: 0.9848 - recall_667: 0.9944 - auc_667: 0.9985\n",
      "Epoch 7/27\n",
      "133/133 [==============================] - 1s 10ms/step - loss: 0.0322 - accuracy: 0.9889 - precision_667: 0.9848 - recall_667: 0.9931 - auc_667: 0.9989\n",
      "Epoch 8/27\n",
      "133/133 [==============================] - 1s 10ms/step - loss: 0.0236 - accuracy: 0.9916 - precision_667: 0.9888 - recall_667: 0.9944 - auc_667: 0.9991\n",
      "Epoch 9/27\n",
      "133/133 [==============================] - 1s 10ms/step - loss: 0.0168 - accuracy: 0.9946 - precision_667: 0.9925 - recall_667: 0.9967 - auc_667: 0.9996\n",
      "Epoch 10/27\n",
      "133/133 [==============================] - 1s 10ms/step - loss: 0.0090 - accuracy: 0.9977 - precision_667: 0.9965 - recall_667: 0.9988 - auc_667: 0.9997\n",
      "Epoch 11/27\n",
      "133/133 [==============================] - 1s 10ms/step - loss: 0.0049 - accuracy: 0.9985 - precision_667: 0.9978 - recall_667: 0.9992 - auc_667: 0.9999\n",
      "Epoch 12/27\n",
      "133/133 [==============================] - 1s 10ms/step - loss: 0.0129 - accuracy: 0.9957 - precision_667: 0.9939 - recall_667: 0.9975 - auc_667: 0.9996\n",
      "Epoch 13/27\n",
      "133/133 [==============================] - 1s 10ms/step - loss: 0.0144 - accuracy: 0.9956 - precision_667: 0.9944 - recall_667: 0.9968 - auc_667: 0.9995\n",
      "Epoch 14/27\n",
      "133/133 [==============================] - 1s 10ms/step - loss: 0.0030 - accuracy: 0.9992 - precision_667: 0.9987 - recall_667: 0.9996 - auc_667: 1.0000\n",
      "Epoch 15/27\n",
      "133/133 [==============================] - 1s 10ms/step - loss: 0.0079 - accuracy: 0.9975 - precision_667: 0.9967 - recall_667: 0.9983 - auc_667: 0.9997\n",
      "Epoch 16/27\n",
      "133/133 [==============================] - 1s 10ms/step - loss: 0.0049 - accuracy: 0.9987 - precision_667: 0.9981 - recall_667: 0.9994 - auc_667: 0.9999\n",
      "Epoch 17/27\n",
      "133/133 [==============================] - 1s 10ms/step - loss: 0.0056 - accuracy: 0.9982 - precision_667: 0.9974 - recall_667: 0.9990 - auc_667: 0.9998\n",
      "Epoch 18/27\n",
      "133/133 [==============================] - 1s 10ms/step - loss: 0.0040 - accuracy: 0.9985 - precision_667: 0.9981 - recall_667: 0.9988 - auc_667: 1.0000\n",
      "Epoch 19/27\n",
      "133/133 [==============================] - 1s 10ms/step - loss: 0.0096 - accuracy: 0.9976 - precision_667: 0.9968 - recall_667: 0.9984 - auc_667: 0.9995\n",
      "Epoch 20/27\n",
      "133/133 [==============================] - 1s 10ms/step - loss: 0.0013 - accuracy: 0.9995 - precision_667: 0.9994 - recall_667: 0.9996 - auc_667: 1.0000\n",
      "Epoch 21/27\n",
      "133/133 [==============================] - 1s 10ms/step - loss: 0.0245 - accuracy: 0.9928 - precision_667: 0.9919 - recall_667: 0.9938 - auc_667: 0.9988\n",
      "Epoch 22/27\n",
      "133/133 [==============================] - 1s 10ms/step - loss: 0.0022 - accuracy: 0.9993 - precision_667: 0.9990 - recall_667: 0.9996 - auc_667: 1.0000\n",
      "Epoch 23/27\n",
      "133/133 [==============================] - 1s 10ms/step - loss: 0.0247 - accuracy: 0.9927 - precision_667: 0.9904 - recall_667: 0.9950 - auc_667: 0.9987\n",
      "Epoch 24/27\n",
      "133/133 [==============================] - 1s 10ms/step - loss: 0.0077 - accuracy: 0.9977 - precision_667: 0.9970 - recall_667: 0.9983 - auc_667: 0.9998\n",
      "Epoch 25/27\n",
      "133/133 [==============================] - 1s 10ms/step - loss: 0.0046 - accuracy: 0.9984 - precision_667: 0.9982 - recall_667: 0.9985 - auc_667: 0.9999\n",
      "Epoch 26/27\n",
      "133/133 [==============================] - 1s 10ms/step - loss: 0.0073 - accuracy: 0.9976 - precision_667: 0.9972 - recall_667: 0.9981 - auc_667: 0.9998\n",
      "Epoch 27/27\n",
      "133/133 [==============================] - 1s 10ms/step - loss: 0.0062 - accuracy: 0.9984 - precision_667: 0.9977 - recall_667: 0.9990 - auc_667: 0.9998\n"
     ]
    },
    {
     "data": {
      "text/plain": [
       "<keras.callbacks.History at 0x1a4821a4e20>"
      ]
     },
     "execution_count": 88,
     "metadata": {},
     "output_type": "execute_result"
    }
   ],
   "source": [
    "new_model.fit(X_res, y_res, epochs=27, batch_size=171)"
   ]
  },
  {
   "cell_type": "code",
   "execution_count": null,
   "id": "6a499239",
   "metadata": {
    "id": "6a499239",
    "outputId": "acd98550-d667-4668-d71d-7171c05f960b"
   },
   "outputs": [
    {
     "name": "stdout",
     "output_type": "stream",
     "text": [
      "706/706 [==============================] - 3s 4ms/step - loss: 0.0137 - accuracy: 0.9961 - precision_667: 0.9923 - recall_667: 1.0000 - auc_667: 0.9994\n",
      "[0.013684666715562344, 0.9961037635803223, 0.9922677874565125, 1.0, 0.9994206428527832]\n"
     ]
    }
   ],
   "source": [
    "train_score = new_model.evaluate(X_res, y_res)\n",
    "print(train_score)"
   ]
  },
  {
   "cell_type": "code",
   "execution_count": null,
   "id": "c8fa2c39",
   "metadata": {
    "id": "c8fa2c39",
    "outputId": "3fe47e64-654b-419a-c0aa-e4af43653e44"
   },
   "outputs": [
    {
     "name": "stdout",
     "output_type": "stream",
     "text": [
      "90/90 [==============================] - 0s 3ms/step\n"
     ]
    }
   ],
   "source": [
    "pred = new_model.predict(X_test)"
   ]
  },
  {
   "cell_type": "code",
   "execution_count": null,
   "id": "843ecbe0",
   "metadata": {
    "id": "843ecbe0"
   },
   "outputs": [],
   "source": [
    "y_pred = np.where(pred < 0.5, 0, 1)"
   ]
  },
  {
   "cell_type": "code",
   "execution_count": null,
   "id": "cdddeeb9",
   "metadata": {
    "id": "cdddeeb9",
    "outputId": "4132bc47-89ba-4f6e-fd1c-df8c0e17d2d0"
   },
   "outputs": [
    {
     "data": {
      "text/plain": [
       "array([[2769,   55],\n",
       "       [   9,   47]], dtype=int64)"
      ]
     },
     "execution_count": 92,
     "metadata": {},
     "output_type": "execute_result"
    }
   ],
   "source": [
    "confusion_matrix(y_test, y_pred)"
   ]
  },
  {
   "cell_type": "code",
   "execution_count": null,
   "id": "c9a01e1c",
   "metadata": {
    "id": "c9a01e1c",
    "outputId": "d96b7f0b-d32c-4090-89c8-6e5621c8422b"
   },
   "outputs": [
    {
     "data": {
      "text/plain": [
       "0.5949367088607594"
      ]
     },
     "execution_count": 93,
     "metadata": {},
     "output_type": "execute_result"
    }
   ],
   "source": [
    "f1_score(y_test, y_pred)"
   ]
  },
  {
   "cell_type": "markdown",
   "id": "3a1d962c",
   "metadata": {
    "id": "3a1d962c"
   },
   "source": [
    "## CNN Bayes Optimisation"
   ]
  },
  {
   "cell_type": "code",
   "execution_count": null,
   "id": "5e780b47",
   "metadata": {
    "id": "5e780b47"
   },
   "outputs": [],
   "source": [
    "def rnn_tuner( batch_size, neurons, activation, optimizer, dropout, dropout_rate, dropout2, dropout_rate1, learning_rate, epochs, layers1, layers2, filters, kernel, pool_size, strides):\n",
    "\n",
    "    optimizerL = ['SGD', 'Adam', 'RMSprop', 'Adadelta', 'Adagrad', 'Adamax']\n",
    "    optimizerD= {'Adam':Adam(learning_rate=learning_rate), 'SGD':SGD(learning_rate=learning_rate),\n",
    "                  'RMSprop':RMSprop(learning_rate=learning_rate), 'Adadelta':Adadelta(learning_rate=learning_rate),\n",
    "                  'Adagrad':Adagrad(learning_rate=learning_rate), 'Adamax':Adamax(learning_rate=learning_rate),\n",
    "                  'Nadam':Nadam(learning_rate=learning_rate), 'Ftrl':Ftrl(learning_rate=learning_rate)}\n",
    "    activationL = ['relu', 'sigmoid', 'softplus', 'softsign', 'tanh', 'selu',\n",
    "                    'elu']\n",
    "    neurons = round(neurons)\n",
    "    activation = activationL[round(activation)]\n",
    "    optimizer = optimizerD[optimizerL[round(optimizer)]]\n",
    "    batch_size = round(batch_size)\n",
    "    epochs = round(epochs)\n",
    "    layers1 = round(layers1)\n",
    "    layers2 = round(layers2)\n",
    "    filters = round(filters)\n",
    "    kernel = round(kernel)\n",
    "    pool_size = round(pool_size)\n",
    "    if round(strides) == 0:\n",
    "      strides = None\n",
    "    else:\n",
    "      strides = round(strides)\n",
    "    \n",
    "    def create_model():\n",
    "        tuned_model = Sequential()\n",
    "        tuned_model.add(Conv1D(filters, kernel, activation=activation, input_shape=(X_train_over.shape[1], 1)))\n",
    "        tuned_model.add(MaxPooling1D(pool_size=pool_size, strides=strides))\n",
    "        tuned_model.add(Flatten())\n",
    "\n",
    "        for i in range(layers1): #varying first set of hidden layers\n",
    "            tuned_model.add(Dense(neurons, activation=activation))\n",
    "\n",
    "            if dropout > 0.5:\n",
    "                tuned_model.add(Dropout(dropout_rate, seed=42))\n",
    "\n",
    "        for i in range(layers2): #varying second set of hidden layers\n",
    "            tuned_model.add(Dense(neurons, activation=activation))\n",
    "\n",
    "            if dropout2 > 0.5:\n",
    "              tuned_model.add(Dropout(dropout_rate1, seed=42))\n",
    "\n",
    "        tuned_model.add(Dense(1, activation='sigmoid')) #output layer\n",
    "\n",
    "        tuned_model.compile(loss='binary_crossentropy', optimizer = optimizer, metrics=['accuracy',metrics.Precision(), metrics.Recall(),metrics.AUC()])\n",
    "       # tuned_model = tuned_model.fit(X_train_smenn, y_train_smenn, epochs=20)\n",
    "       # tuned_model.summary()\n",
    "\n",
    "        return tuned_model\n",
    "\n",
    "    es = EarlyStopping(monitor=\"loss\", patience=3)\n",
    "    mc = ModelCheckpoint('Best_tuned_RNN_.h5', monitor='val_loss',mode='min',verbose=2, save_best_only=True)\n",
    "\n",
    "    tune_rnn = KerasClassifier(build_fn=create_model, epochs=epochs, batch_size=batch_size, verbose=0) \n",
    "    score = cross_val_score(tune_rnn, X_train_over, y_train_over, \n",
    "                            fit_params={'callbacks':[es]}, error_score='raise',\n",
    "                           scoring='f1').mean() #5 fold cross validation default\n",
    "    return score"
   ]
  },
  {
   "cell_type": "code",
   "execution_count": null,
   "id": "INS7KNNJJW2G",
   "metadata": {
    "id": "INS7KNNJJW2G"
   },
   "outputs": [],
   "source": [
    "ros = RandomOverSampler(sampling_strategy = 1, random_state=42)"
   ]
  },
  {
   "cell_type": "code",
   "execution_count": null,
   "id": "UAR-w8RYJW8x",
   "metadata": {
    "id": "UAR-w8RYJW8x"
   },
   "outputs": [],
   "source": [
    "X_train_over, y_train_over = ros.fit_resample(X_train, y_train)"
   ]
  },
  {
   "cell_type": "code",
   "execution_count": null,
   "id": "0xNOtIpCIwSv",
   "metadata": {
    "id": "0xNOtIpCIwSv"
   },
   "outputs": [],
   "source": [
    "params_rnn ={\n",
    "    'neurons': (32, 256),\n",
    "    'activation':(0, 5),\n",
    "    'optimizer':(0,7),\n",
    "    'learning_rate':(0.001, 0.01),\n",
    "    'batch_size':(100, 1000),\n",
    "    'epochs':(10, 30),\n",
    "    'layers1':(1,3),\n",
    "    'layers2':(1,4),\n",
    "    'dropout':(0,1),\n",
    "    'dropout_rate':(0,0.4),\n",
    "    'dropout2': (0, 1),\n",
    "    'dropout_rate1' : (0, 0.4),\n",
    "    'filters': (16, 64),\n",
    "    'kernel': (1, 4),\n",
    "    'pool_size': (1, 4),\n",
    "    'strides': (0, 4)\n",
    "}"
   ]
  },
  {
   "cell_type": "code",
   "execution_count": null,
   "id": "KJpEZnleIo_Q",
   "metadata": {
    "colab": {
     "base_uri": "https://localhost:8080/"
    },
    "id": "KJpEZnleIo_Q",
    "outputId": "508f260b-9f1d-46f7-8b01-af546939a922"
   },
   "outputs": [
    {
     "name": "stdout",
     "output_type": "stream",
     "text": [
      "|   iter    |  target   | activa... | batch_... |  dropout  | dropout2  | dropou... | dropou... |  epochs   |  filters  |  kernel   |  layers1  |  layers2  | learni... |  neurons  | optimizer | pool_size |  strides  |\n",
      "-------------------------------------------------------------------------------------------------------------------------------------------------------------------------------------------------------------------------\n"
     ]
    },
    {
     "name": "stderr",
     "output_type": "stream",
     "text": [
      "/usr/local/lib/python3.7/dist-packages/ipykernel_launcher.py:54: DeprecationWarning: KerasClassifier is deprecated, use Sci-Keras (https://github.com/adriangb/scikeras) instead. See https://www.adriangb.com/scikeras/stable/migration.html for help migrating.\n"
     ]
    },
    {
     "name": "stdout",
     "output_type": "stream",
     "text": [
      "142/142 [==============================] - 2s 17ms/step\n",
      "142/142 [==============================] - 2s 17ms/step\n",
      "142/142 [==============================] - 2s 16ms/step\n",
      "142/142 [==============================] - 2s 17ms/step\n",
      "142/142 [==============================] - 2s 16ms/step\n",
      "| \u001b[0m1        \u001b[0m | \u001b[0m0.1416   \u001b[0m | \u001b[0m1.873    \u001b[0m | \u001b[0m955.6    \u001b[0m | \u001b[0m0.732    \u001b[0m | \u001b[0m0.5987   \u001b[0m | \u001b[0m0.06241  \u001b[0m | \u001b[0m0.0624   \u001b[0m | \u001b[0m11.16    \u001b[0m | \u001b[0m57.58    \u001b[0m | \u001b[0m2.803    \u001b[0m | \u001b[0m2.416    \u001b[0m | \u001b[0m1.062    \u001b[0m | \u001b[0m0.009729 \u001b[0m | \u001b[0m218.5    \u001b[0m | \u001b[0m1.486    \u001b[0m | \u001b[0m1.545    \u001b[0m | \u001b[0m0.7336   \u001b[0m |\n"
     ]
    },
    {
     "name": "stderr",
     "output_type": "stream",
     "text": [
      "/usr/local/lib/python3.7/dist-packages/ipykernel_launcher.py:54: DeprecationWarning: KerasClassifier is deprecated, use Sci-Keras (https://github.com/adriangb/scikeras) instead. See https://www.adriangb.com/scikeras/stable/migration.html for help migrating.\n"
     ]
    },
    {
     "name": "stdout",
     "output_type": "stream",
     "text": [
      "142/142 [==============================] - 2s 11ms/step\n",
      "142/142 [==============================] - 2s 11ms/step\n",
      "142/142 [==============================] - 2s 11ms/step\n",
      "142/142 [==============================] - 2s 11ms/step\n",
      "142/142 [==============================] - 2s 11ms/step\n",
      "| \u001b[95m2        \u001b[0m | \u001b[95m0.1526   \u001b[0m | \u001b[95m1.521    \u001b[0m | \u001b[95m572.3    \u001b[0m | \u001b[95m0.4319   \u001b[0m | \u001b[95m0.2912   \u001b[0m | \u001b[95m0.2447   \u001b[0m | \u001b[95m0.0558   \u001b[0m | \u001b[95m15.84    \u001b[0m | \u001b[95m33.59    \u001b[0m | \u001b[95m2.368    \u001b[0m | \u001b[95m2.57     \u001b[0m | \u001b[95m1.599    \u001b[0m | \u001b[95m0.005628 \u001b[0m | \u001b[95m164.7    \u001b[0m | \u001b[95m0.3252   \u001b[0m | \u001b[95m2.823    \u001b[0m | \u001b[95m0.6821   \u001b[0m |\n"
     ]
    },
    {
     "name": "stderr",
     "output_type": "stream",
     "text": [
      "/usr/local/lib/python3.7/dist-packages/ipykernel_launcher.py:54: DeprecationWarning: KerasClassifier is deprecated, use Sci-Keras (https://github.com/adriangb/scikeras) instead. See https://www.adriangb.com/scikeras/stable/migration.html for help migrating.\n"
     ]
    },
    {
     "name": "stdout",
     "output_type": "stream",
     "text": [
      "142/142 [==============================] - 1s 4ms/step\n",
      "142/142 [==============================] - 1s 4ms/step\n",
      "142/142 [==============================] - 1s 4ms/step\n",
      "142/142 [==============================] - 1s 4ms/step\n",
      "142/142 [==============================] - 1s 4ms/step\n",
      "| \u001b[95m3        \u001b[0m | \u001b[95m0.8377   \u001b[0m | \u001b[95m0.3253   \u001b[0m | \u001b[95m954.0    \u001b[0m | \u001b[95m0.9656   \u001b[0m | \u001b[95m0.8084   \u001b[0m | \u001b[95m0.1218   \u001b[0m | \u001b[95m0.03907  \u001b[0m | \u001b[95m23.68    \u001b[0m | \u001b[95m37.13    \u001b[0m | \u001b[95m1.366    \u001b[0m | \u001b[95m1.99     \u001b[0m | \u001b[95m1.103    \u001b[0m | \u001b[95m0.009184 \u001b[0m | \u001b[95m89.97    \u001b[0m | \u001b[95m4.638    \u001b[0m | \u001b[95m1.935    \u001b[0m | \u001b[95m2.08     \u001b[0m |\n"
     ]
    },
    {
     "name": "stderr",
     "output_type": "stream",
     "text": [
      "/usr/local/lib/python3.7/dist-packages/ipykernel_launcher.py:54: DeprecationWarning: KerasClassifier is deprecated, use Sci-Keras (https://github.com/adriangb/scikeras) instead. See https://www.adriangb.com/scikeras/stable/migration.html for help migrating.\n"
     ]
    },
    {
     "name": "stdout",
     "output_type": "stream",
     "text": [
      "142/142 [==============================] - 1s 8ms/step\n",
      "142/142 [==============================] - 1s 9ms/step\n",
      "142/142 [==============================] - 1s 9ms/step\n",
      "142/142 [==============================] - 1s 9ms/step\n",
      "142/142 [==============================] - 1s 9ms/step\n",
      "| \u001b[95m4        \u001b[0m | \u001b[95m0.9273   \u001b[0m | \u001b[95m2.734    \u001b[0m | \u001b[95m266.4    \u001b[0m | \u001b[95m0.9696   \u001b[0m | \u001b[95m0.7751   \u001b[0m | \u001b[95m0.3758   \u001b[0m | \u001b[95m0.3579   \u001b[0m | \u001b[95m21.96    \u001b[0m | \u001b[95m60.25    \u001b[0m | \u001b[95m1.265    \u001b[0m | \u001b[95m1.392    \u001b[0m | \u001b[95m1.136    \u001b[0m | \u001b[95m0.003928 \u001b[0m | \u001b[95m119.1    \u001b[0m | \u001b[95m1.899    \u001b[0m | \u001b[95m3.486    \u001b[0m | \u001b[95m1.427    \u001b[0m |\n"
     ]
    },
    {
     "name": "stderr",
     "output_type": "stream",
     "text": [
      "/usr/local/lib/python3.7/dist-packages/ipykernel_launcher.py:54: DeprecationWarning: KerasClassifier is deprecated, use Sci-Keras (https://github.com/adriangb/scikeras) instead. See https://www.adriangb.com/scikeras/stable/migration.html for help migrating.\n"
     ]
    },
    {
     "name": "stdout",
     "output_type": "stream",
     "text": [
      "142/142 [==============================] - 2s 10ms/step\n",
      "142/142 [==============================] - 1s 6ms/step\n",
      "142/142 [==============================] - 1s 6ms/step\n",
      "142/142 [==============================] - 1s 5ms/step\n",
      "142/142 [==============================] - 1s 5ms/step\n",
      "| \u001b[0m5        \u001b[0m | \u001b[0m0.1416   \u001b[0m | \u001b[0m1.405    \u001b[0m | \u001b[0m588.4    \u001b[0m | \u001b[0m0.1409   \u001b[0m | \u001b[0m0.8022   \u001b[0m | \u001b[0m0.02982  \u001b[0m | \u001b[0m0.3948   \u001b[0m | \u001b[0m25.44    \u001b[0m | \u001b[0m25.54    \u001b[0m | \u001b[0m1.017    \u001b[0m | \u001b[0m2.631    \u001b[0m | \u001b[0m3.121    \u001b[0m | \u001b[0m0.007561 \u001b[0m | \u001b[0m204.8    \u001b[0m | \u001b[0m0.5183   \u001b[0m | \u001b[0m2.075    \u001b[0m | \u001b[0m0.4635   \u001b[0m |\n"
     ]
    },
    {
     "name": "stderr",
     "output_type": "stream",
     "text": [
      "/usr/local/lib/python3.7/dist-packages/ipykernel_launcher.py:54: DeprecationWarning: KerasClassifier is deprecated, use Sci-Keras (https://github.com/adriangb/scikeras) instead. See https://www.adriangb.com/scikeras/stable/migration.html for help migrating.\n"
     ]
    },
    {
     "name": "stdout",
     "output_type": "stream",
     "text": [
      "142/142 [==============================] - 1s 7ms/step\n",
      "142/142 [==============================] - 1s 8ms/step\n",
      "142/142 [==============================] - 1s 7ms/step\n",
      "142/142 [==============================] - 1s 8ms/step\n",
      "142/142 [==============================] - 1s 7ms/step\n",
      "| \u001b[0m6        \u001b[0m | \u001b[0m0.6497   \u001b[0m | \u001b[0m4.316    \u001b[0m | \u001b[0m661.0    \u001b[0m | \u001b[0m0.3309   \u001b[0m | \u001b[0m0.06356  \u001b[0m | \u001b[0m0.1244   \u001b[0m | \u001b[0m0.1301   \u001b[0m | \u001b[0m24.59    \u001b[0m | \u001b[0m46.6     \u001b[0m | \u001b[0m3.662    \u001b[0m | \u001b[0m1.944    \u001b[0m | \u001b[0m1.359    \u001b[0m | \u001b[0m0.007419 \u001b[0m | \u001b[0m202.4    \u001b[0m | \u001b[0m3.929    \u001b[0m | \u001b[0m3.313    \u001b[0m | \u001b[0m1.975    \u001b[0m |\n"
     ]
    },
    {
     "name": "stderr",
     "output_type": "stream",
     "text": [
      "/usr/local/lib/python3.7/dist-packages/ipykernel_launcher.py:54: DeprecationWarning: KerasClassifier is deprecated, use Sci-Keras (https://github.com/adriangb/scikeras) instead. See https://www.adriangb.com/scikeras/stable/migration.html for help migrating.\n"
     ]
    },
    {
     "name": "stdout",
     "output_type": "stream",
     "text": [
      "142/142 [==============================] - 1s 6ms/step\n",
      "142/142 [==============================] - 1s 6ms/step\n",
      "142/142 [==============================] - 1s 6ms/step\n",
      "142/142 [==============================] - 1s 6ms/step\n",
      "142/142 [==============================] - 1s 6ms/step\n",
      "| \u001b[0m7        \u001b[0m | \u001b[0m0.6885   \u001b[0m | \u001b[0m2.614    \u001b[0m | \u001b[0m484.8    \u001b[0m | \u001b[0m0.02542  \u001b[0m | \u001b[0m0.1079   \u001b[0m | \u001b[0m0.01257  \u001b[0m | \u001b[0m0.2546   \u001b[0m | \u001b[0m16.29    \u001b[0m | \u001b[0m40.41    \u001b[0m | \u001b[0m3.723    \u001b[0m | \u001b[0m1.499    \u001b[0m | \u001b[0m2.231    \u001b[0m | \u001b[0m0.0078   \u001b[0m | \u001b[0m83.25    \u001b[0m | \u001b[0m0.5389   \u001b[0m | \u001b[0m1.869    \u001b[0m | \u001b[0m0.6449   \u001b[0m |\n"
     ]
    },
    {
     "name": "stderr",
     "output_type": "stream",
     "text": [
      "/usr/local/lib/python3.7/dist-packages/ipykernel_launcher.py:54: DeprecationWarning: KerasClassifier is deprecated, use Sci-Keras (https://github.com/adriangb/scikeras) instead. See https://www.adriangb.com/scikeras/stable/migration.html for help migrating.\n"
     ]
    },
    {
     "name": "stdout",
     "output_type": "stream",
     "text": [
      "142/142 [==============================] - 1s 6ms/step\n",
      "142/142 [==============================] - 1s 6ms/step\n",
      "142/142 [==============================] - 1s 6ms/step\n",
      "142/142 [==============================] - 1s 6ms/step\n",
      "142/142 [==============================] - 1s 6ms/step\n",
      "| \u001b[0m8        \u001b[0m | \u001b[0m0.1218   \u001b[0m | \u001b[0m4.648    \u001b[0m | \u001b[0m827.3    \u001b[0m | \u001b[0m0.6334   \u001b[0m | \u001b[0m0.8715   \u001b[0m | \u001b[0m0.3215   \u001b[0m | \u001b[0m0.07463  \u001b[0m | \u001b[0m27.85    \u001b[0m | \u001b[0m41.89    \u001b[0m | \u001b[0m3.422    \u001b[0m | \u001b[0m2.792    \u001b[0m | \u001b[0m1.954    \u001b[0m | \u001b[0m0.00199  \u001b[0m | \u001b[0m83.06    \u001b[0m | \u001b[0m2.99     \u001b[0m | \u001b[0m3.454    \u001b[0m | \u001b[0m3.443    \u001b[0m |\n"
     ]
    },
    {
     "name": "stderr",
     "output_type": "stream",
     "text": [
      "/usr/local/lib/python3.7/dist-packages/ipykernel_launcher.py:54: DeprecationWarning: KerasClassifier is deprecated, use Sci-Keras (https://github.com/adriangb/scikeras) instead. See https://www.adriangb.com/scikeras/stable/migration.html for help migrating.\n"
     ]
    },
    {
     "name": "stdout",
     "output_type": "stream",
     "text": [
      "142/142 [==============================] - 1s 8ms/step\n",
      "142/142 [==============================] - 1s 8ms/step\n",
      "142/142 [==============================] - 1s 8ms/step\n",
      "142/142 [==============================] - 1s 8ms/step\n",
      "142/142 [==============================] - 1s 8ms/step\n",
      "| \u001b[0m9        \u001b[0m | \u001b[0m0.4552   \u001b[0m | \u001b[0m0.03476  \u001b[0m | \u001b[0m559.7    \u001b[0m | \u001b[0m0.4174   \u001b[0m | \u001b[0m0.2221   \u001b[0m | \u001b[0m0.04795  \u001b[0m | \u001b[0m0.135    \u001b[0m | \u001b[0m28.86    \u001b[0m | \u001b[0m31.51    \u001b[0m | \u001b[0m2.556    \u001b[0m | \u001b[0m2.406    \u001b[0m | \u001b[0m2.091    \u001b[0m | \u001b[0m0.009746 \u001b[0m | \u001b[0m247.6    \u001b[0m | \u001b[0m1.762    \u001b[0m | \u001b[0m2.492    \u001b[0m | \u001b[0m1.204    \u001b[0m |\n"
     ]
    },
    {
     "name": "stderr",
     "output_type": "stream",
     "text": [
      "/usr/local/lib/python3.7/dist-packages/ipykernel_launcher.py:54: DeprecationWarning: KerasClassifier is deprecated, use Sci-Keras (https://github.com/adriangb/scikeras) instead. See https://www.adriangb.com/scikeras/stable/migration.html for help migrating.\n"
     ]
    },
    {
     "name": "stdout",
     "output_type": "stream",
     "text": [
      "142/142 [==============================] - 1s 5ms/step\n",
      "142/142 [==============================] - 1s 5ms/step\n",
      "142/142 [==============================] - 1s 5ms/step\n",
      "142/142 [==============================] - 1s 5ms/step\n",
      "142/142 [==============================] - 1s 5ms/step\n",
      "| \u001b[0m10       \u001b[0m | \u001b[0m0.6146   \u001b[0m | \u001b[0m1.424    \u001b[0m | \u001b[0m133.2    \u001b[0m | \u001b[0m0.6096   \u001b[0m | \u001b[0m0.5027   \u001b[0m | \u001b[0m0.02059  \u001b[0m | \u001b[0m0.1115   \u001b[0m | \u001b[0m28.17    \u001b[0m | \u001b[0m27.5     \u001b[0m | \u001b[0m1.435    \u001b[0m | \u001b[0m1.979    \u001b[0m | \u001b[0m3.957    \u001b[0m | \u001b[0m0.003178 \u001b[0m | \u001b[0m182.6    \u001b[0m | \u001b[0m5.331    \u001b[0m | \u001b[0m1.713    \u001b[0m | \u001b[0m2.913    \u001b[0m |\n"
     ]
    },
    {
     "name": "stderr",
     "output_type": "stream",
     "text": [
      "/usr/local/lib/python3.7/dist-packages/ipykernel_launcher.py:54: DeprecationWarning: KerasClassifier is deprecated, use Sci-Keras (https://github.com/adriangb/scikeras) instead. See https://www.adriangb.com/scikeras/stable/migration.html for help migrating.\n"
     ]
    },
    {
     "name": "stdout",
     "output_type": "stream",
     "text": [
      "142/142 [==============================] - 2s 14ms/step\n",
      "142/142 [==============================] - 1s 8ms/step\n",
      "142/142 [==============================] - 1s 8ms/step\n",
      "142/142 [==============================] - 1s 8ms/step\n",
      "142/142 [==============================] - 1s 9ms/step\n",
      "| \u001b[0m11       \u001b[0m | \u001b[0m0.2392   \u001b[0m | \u001b[0m1.839    \u001b[0m | \u001b[0m669.1    \u001b[0m | \u001b[0m0.6335   \u001b[0m | \u001b[0m0.5358   \u001b[0m | \u001b[0m0.03612  \u001b[0m | \u001b[0m0.3341   \u001b[0m | \u001b[0m16.42    \u001b[0m | \u001b[0m24.95    \u001b[0m | \u001b[0m1.122    \u001b[0m | \u001b[0m2.182    \u001b[0m | \u001b[0m3.033    \u001b[0m | \u001b[0m0.001149 \u001b[0m | \u001b[0m146.7    \u001b[0m | \u001b[0m1.585    \u001b[0m | \u001b[0m2.936    \u001b[0m | \u001b[0m0.6975   \u001b[0m |\n"
     ]
    },
    {
     "name": "stderr",
     "output_type": "stream",
     "text": [
      "/usr/local/lib/python3.7/dist-packages/ipykernel_launcher.py:54: DeprecationWarning: KerasClassifier is deprecated, use Sci-Keras (https://github.com/adriangb/scikeras) instead. See https://www.adriangb.com/scikeras/stable/migration.html for help migrating.\n"
     ]
    },
    {
     "name": "stdout",
     "output_type": "stream",
     "text": [
      "142/142 [==============================] - 1s 6ms/step\n",
      "142/142 [==============================] - 1s 6ms/step\n",
      "142/142 [==============================] - 1s 6ms/step\n",
      "142/142 [==============================] - 1s 5ms/step\n",
      "142/142 [==============================] - 1s 6ms/step\n",
      "| \u001b[0m12       \u001b[0m | \u001b[0m0.7813   \u001b[0m | \u001b[0m3.455    \u001b[0m | \u001b[0m448.1    \u001b[0m | \u001b[0m0.9367   \u001b[0m | \u001b[0m0.1375   \u001b[0m | \u001b[0m0.1364   \u001b[0m | \u001b[0m0.04539  \u001b[0m | \u001b[0m28.49    \u001b[0m | \u001b[0m58.11    \u001b[0m | \u001b[0m1.774    \u001b[0m | \u001b[0m2.32     \u001b[0m | \u001b[0m3.452    \u001b[0m | \u001b[0m0.005997 \u001b[0m | \u001b[0m150.6    \u001b[0m | \u001b[0m1.693    \u001b[0m | \u001b[0m1.279    \u001b[0m | \u001b[0m3.589    \u001b[0m |\n"
     ]
    },
    {
     "name": "stderr",
     "output_type": "stream",
     "text": [
      "/usr/local/lib/python3.7/dist-packages/ipykernel_launcher.py:54: DeprecationWarning: KerasClassifier is deprecated, use Sci-Keras (https://github.com/adriangb/scikeras) instead. See https://www.adriangb.com/scikeras/stable/migration.html for help migrating.\n"
     ]
    },
    {
     "name": "stdout",
     "output_type": "stream",
     "text": [
      "142/142 [==============================] - 1s 7ms/step\n",
      "142/142 [==============================] - 1s 7ms/step\n",
      "142/142 [==============================] - 1s 7ms/step\n",
      "142/142 [==============================] - 1s 7ms/step\n",
      "142/142 [==============================] - 1s 7ms/step\n",
      "| \u001b[0m13       \u001b[0m | \u001b[0m0.483    \u001b[0m | \u001b[0m4.502    \u001b[0m | \u001b[0m669.8    \u001b[0m | \u001b[0m0.339    \u001b[0m | \u001b[0m0.3492   \u001b[0m | \u001b[0m0.2904   \u001b[0m | \u001b[0m0.3588   \u001b[0m | \u001b[0m27.74    \u001b[0m | \u001b[0m53.43    \u001b[0m | \u001b[0m2.926    \u001b[0m | \u001b[0m1.168    \u001b[0m | \u001b[0m1.485    \u001b[0m | \u001b[0m0.009087 \u001b[0m | \u001b[0m167.8    \u001b[0m | \u001b[0m0.06438  \u001b[0m | \u001b[0m1.304    \u001b[0m | \u001b[0m2.654    \u001b[0m |\n"
     ]
    },
    {
     "name": "stderr",
     "output_type": "stream",
     "text": [
      "/usr/local/lib/python3.7/dist-packages/ipykernel_launcher.py:54: DeprecationWarning: KerasClassifier is deprecated, use Sci-Keras (https://github.com/adriangb/scikeras) instead. See https://www.adriangb.com/scikeras/stable/migration.html for help migrating.\n"
     ]
    },
    {
     "name": "stdout",
     "output_type": "stream",
     "text": [
      "142/142 [==============================] - 1s 7ms/step\n",
      "142/142 [==============================] - 1s 7ms/step\n",
      "142/142 [==============================] - 1s 7ms/step\n",
      "142/142 [==============================] - 1s 7ms/step\n",
      "142/142 [==============================] - 1s 7ms/step\n",
      "| \u001b[0m14       \u001b[0m | \u001b[0m0.5897   \u001b[0m | \u001b[0m0.02531  \u001b[0m | \u001b[0m244.7    \u001b[0m | \u001b[0m0.5487   \u001b[0m | \u001b[0m0.6919   \u001b[0m | \u001b[0m0.2608   \u001b[0m | \u001b[0m0.08971  \u001b[0m | \u001b[0m24.24    \u001b[0m | \u001b[0m27.39    \u001b[0m | \u001b[0m1.976    \u001b[0m | \u001b[0m2.493    \u001b[0m | \u001b[0m2.949    \u001b[0m | \u001b[0m0.008643 \u001b[0m | \u001b[0m179.3    \u001b[0m | \u001b[0m3.978    \u001b[0m | \u001b[0m1.281    \u001b[0m | \u001b[0m1.471    \u001b[0m |\n"
     ]
    },
    {
     "name": "stderr",
     "output_type": "stream",
     "text": [
      "/usr/local/lib/python3.7/dist-packages/ipykernel_launcher.py:54: DeprecationWarning: KerasClassifier is deprecated, use Sci-Keras (https://github.com/adriangb/scikeras) instead. See https://www.adriangb.com/scikeras/stable/migration.html for help migrating.\n"
     ]
    },
    {
     "name": "stdout",
     "output_type": "stream",
     "text": [
      "142/142 [==============================] - 1s 7ms/step\n",
      "142/142 [==============================] - 1s 7ms/step\n",
      "142/142 [==============================] - 1s 7ms/step\n",
      "142/142 [==============================] - 1s 7ms/step\n",
      "142/142 [==============================] - 1s 7ms/step\n",
      "| \u001b[0m15       \u001b[0m | \u001b[0m0.1416   \u001b[0m | \u001b[0m1.326    \u001b[0m | \u001b[0m319.6    \u001b[0m | \u001b[0m0.973    \u001b[0m | \u001b[0m0.3931   \u001b[0m | \u001b[0m0.3568   \u001b[0m | \u001b[0m0.2525   \u001b[0m | \u001b[0m25.9     \u001b[0m | \u001b[0m40.13    \u001b[0m | \u001b[0m2.731    \u001b[0m | \u001b[0m1.985    \u001b[0m | \u001b[0m1.586    \u001b[0m | \u001b[0m0.007502 \u001b[0m | \u001b[0m94.89    \u001b[0m | \u001b[0m0.1702   \u001b[0m | \u001b[0m2.936    \u001b[0m | \u001b[0m0.7084   \u001b[0m |\n"
     ]
    },
    {
     "name": "stderr",
     "output_type": "stream",
     "text": [
      "/usr/local/lib/python3.7/dist-packages/ipykernel_launcher.py:54: DeprecationWarning: KerasClassifier is deprecated, use Sci-Keras (https://github.com/adriangb/scikeras) instead. See https://www.adriangb.com/scikeras/stable/migration.html for help migrating.\n"
     ]
    },
    {
     "name": "stdout",
     "output_type": "stream",
     "text": [
      "142/142 [==============================] - 2s 11ms/step\n",
      "142/142 [==============================] - 2s 11ms/step\n",
      "142/142 [==============================] - 2s 11ms/step\n",
      "142/142 [==============================] - 2s 11ms/step\n",
      "142/142 [==============================] - 2s 11ms/step\n",
      "| \u001b[0m16       \u001b[0m | \u001b[0m0.3316   \u001b[0m | \u001b[0m4.702    \u001b[0m | \u001b[0m958.5    \u001b[0m | \u001b[0m0.9149   \u001b[0m | \u001b[0m0.3702   \u001b[0m | \u001b[0m0.006183 \u001b[0m | \u001b[0m0.3713   \u001b[0m | \u001b[0m18.56    \u001b[0m | \u001b[0m62.4     \u001b[0m | \u001b[0m3.891    \u001b[0m | \u001b[0m2.706    \u001b[0m | \u001b[0m1.883    \u001b[0m | \u001b[0m0.004466 \u001b[0m | \u001b[0m222.7    \u001b[0m | \u001b[0m2.218    \u001b[0m | \u001b[0m1.508    \u001b[0m | \u001b[0m2.227    \u001b[0m |\n"
     ]
    },
    {
     "name": "stderr",
     "output_type": "stream",
     "text": [
      "/usr/local/lib/python3.7/dist-packages/ipykernel_launcher.py:54: DeprecationWarning: KerasClassifier is deprecated, use Sci-Keras (https://github.com/adriangb/scikeras) instead. See https://www.adriangb.com/scikeras/stable/migration.html for help migrating.\n"
     ]
    },
    {
     "name": "stdout",
     "output_type": "stream",
     "text": [
      "142/142 [==============================] - 1s 6ms/step\n",
      "142/142 [==============================] - 1s 6ms/step\n",
      "142/142 [==============================] - 1s 6ms/step\n",
      "142/142 [==============================] - 1s 7ms/step\n",
      "142/142 [==============================] - 1s 6ms/step\n",
      "| \u001b[0m17       \u001b[0m | \u001b[0m0.3562   \u001b[0m | \u001b[0m4.681    \u001b[0m | \u001b[0m726.4    \u001b[0m | \u001b[0m0.5701   \u001b[0m | \u001b[0m0.09718  \u001b[0m | \u001b[0m0.246    \u001b[0m | \u001b[0m0.396    \u001b[0m | \u001b[0m12.8     \u001b[0m | \u001b[0m40.88    \u001b[0m | \u001b[0m3.632    \u001b[0m | \u001b[0m2.482    \u001b[0m | \u001b[0m3.091    \u001b[0m | \u001b[0m0.007322 \u001b[0m | \u001b[0m112.5    \u001b[0m | \u001b[0m2.055    \u001b[0m | \u001b[0m3.428    \u001b[0m | \u001b[0m3.24     \u001b[0m |\n"
     ]
    },
    {
     "name": "stderr",
     "output_type": "stream",
     "text": [
      "/usr/local/lib/python3.7/dist-packages/ipykernel_launcher.py:54: DeprecationWarning: KerasClassifier is deprecated, use Sci-Keras (https://github.com/adriangb/scikeras) instead. See https://www.adriangb.com/scikeras/stable/migration.html for help migrating.\n"
     ]
    },
    {
     "name": "stdout",
     "output_type": "stream",
     "text": [
      "142/142 [==============================] - 1s 7ms/step\n",
      "142/142 [==============================] - 1s 7ms/step\n",
      "142/142 [==============================] - 1s 7ms/step\n",
      "142/142 [==============================] - 1s 7ms/step\n",
      "142/142 [==============================] - 1s 7ms/step\n",
      "| \u001b[0m18       \u001b[0m | \u001b[0m0.202    \u001b[0m | \u001b[0m4.335    \u001b[0m | \u001b[0m921.9    \u001b[0m | \u001b[0m0.5113   \u001b[0m | \u001b[0m0.5015   \u001b[0m | \u001b[0m0.3193   \u001b[0m | \u001b[0m0.26     \u001b[0m | \u001b[0m24.04    \u001b[0m | \u001b[0m54.2     \u001b[0m | \u001b[0m3.67     \u001b[0m | \u001b[0m1.676    \u001b[0m | \u001b[0m2.127    \u001b[0m | \u001b[0m0.001846 \u001b[0m | \u001b[0m161.5    \u001b[0m | \u001b[0m0.2516   \u001b[0m | \u001b[0m2.397    \u001b[0m | \u001b[0m2.171    \u001b[0m |\n"
     ]
    },
    {
     "name": "stderr",
     "output_type": "stream",
     "text": [
      "/usr/local/lib/python3.7/dist-packages/ipykernel_launcher.py:54: DeprecationWarning: KerasClassifier is deprecated, use Sci-Keras (https://github.com/adriangb/scikeras) instead. See https://www.adriangb.com/scikeras/stable/migration.html for help migrating.\n"
     ]
    },
    {
     "name": "stdout",
     "output_type": "stream",
     "text": [
      "142/142 [==============================] - 1s 5ms/step\n",
      "142/142 [==============================] - 1s 9ms/step\n",
      "142/142 [==============================] - 1s 5ms/step\n",
      "142/142 [==============================] - 1s 5ms/step\n",
      "142/142 [==============================] - 1s 5ms/step\n",
      "| \u001b[0m19       \u001b[0m | \u001b[0m0.01537  \u001b[0m | \u001b[0m1.433    \u001b[0m | \u001b[0m631.7    \u001b[0m | \u001b[0m0.0305   \u001b[0m | \u001b[0m0.03735  \u001b[0m | \u001b[0m0.329    \u001b[0m | \u001b[0m0.1441   \u001b[0m | \u001b[0m12.54    \u001b[0m | \u001b[0m41.07    \u001b[0m | \u001b[0m3.31     \u001b[0m | \u001b[0m1.432    \u001b[0m | \u001b[0m2.869    \u001b[0m | \u001b[0m0.001768 \u001b[0m | \u001b[0m43.58    \u001b[0m | \u001b[0m3.719    \u001b[0m | \u001b[0m2.622    \u001b[0m | \u001b[0m2.55     \u001b[0m |\n"
     ]
    },
    {
     "name": "stderr",
     "output_type": "stream",
     "text": [
      "/usr/local/lib/python3.7/dist-packages/ipykernel_launcher.py:54: DeprecationWarning: KerasClassifier is deprecated, use Sci-Keras (https://github.com/adriangb/scikeras) instead. See https://www.adriangb.com/scikeras/stable/migration.html for help migrating.\n"
     ]
    },
    {
     "name": "stdout",
     "output_type": "stream",
     "text": [
      "142/142 [==============================] - 1s 5ms/step\n",
      "142/142 [==============================] - 1s 5ms/step\n",
      "142/142 [==============================] - 1s 5ms/step\n",
      "142/142 [==============================] - 1s 5ms/step\n",
      "142/142 [==============================] - 1s 5ms/step\n",
      "| \u001b[0m20       \u001b[0m | \u001b[0m0.3674   \u001b[0m | \u001b[0m3.63     \u001b[0m | \u001b[0m978.3    \u001b[0m | \u001b[0m0.5163   \u001b[0m | \u001b[0m0.323    \u001b[0m | \u001b[0m0.3181   \u001b[0m | \u001b[0m0.1083   \u001b[0m | \u001b[0m18.78    \u001b[0m | \u001b[0m19.77    \u001b[0m | \u001b[0m1.076    \u001b[0m | \u001b[0m2.925    \u001b[0m | \u001b[0m3.508    \u001b[0m | \u001b[0m0.007264 \u001b[0m | \u001b[0m123.6    \u001b[0m | \u001b[0m1.213    \u001b[0m | \u001b[0m1.469    \u001b[0m | \u001b[0m1.001    \u001b[0m |\n"
     ]
    },
    {
     "name": "stderr",
     "output_type": "stream",
     "text": [
      "/usr/local/lib/python3.7/dist-packages/ipykernel_launcher.py:54: DeprecationWarning: KerasClassifier is deprecated, use Sci-Keras (https://github.com/adriangb/scikeras) instead. See https://www.adriangb.com/scikeras/stable/migration.html for help migrating.\n"
     ]
    },
    {
     "name": "stdout",
     "output_type": "stream",
     "text": [
      "142/142 [==============================] - 1s 5ms/step\n",
      "142/142 [==============================] - 1s 5ms/step\n",
      "142/142 [==============================] - 1s 7ms/step\n",
      "142/142 [==============================] - 1s 5ms/step\n",
      "142/142 [==============================] - 1s 6ms/step\n",
      "| \u001b[0m21       \u001b[0m | \u001b[0m0.8289   \u001b[0m | \u001b[0m2.746    \u001b[0m | \u001b[0m743.1    \u001b[0m | \u001b[0m0.6602   \u001b[0m | \u001b[0m0.2799   \u001b[0m | \u001b[0m0.3819   \u001b[0m | \u001b[0m0.2952   \u001b[0m | \u001b[0m21.09    \u001b[0m | \u001b[0m45.36    \u001b[0m | \u001b[0m2.259    \u001b[0m | \u001b[0m1.495    \u001b[0m | \u001b[0m2.068    \u001b[0m | \u001b[0m0.007821 \u001b[0m | \u001b[0m35.22    \u001b[0m | \u001b[0m0.8125   \u001b[0m | \u001b[0m1.138    \u001b[0m | \u001b[0m0.1629   \u001b[0m |\n"
     ]
    },
    {
     "name": "stderr",
     "output_type": "stream",
     "text": [
      "/usr/local/lib/python3.7/dist-packages/ipykernel_launcher.py:54: DeprecationWarning: KerasClassifier is deprecated, use Sci-Keras (https://github.com/adriangb/scikeras) instead. See https://www.adriangb.com/scikeras/stable/migration.html for help migrating.\n"
     ]
    },
    {
     "name": "stdout",
     "output_type": "stream",
     "text": [
      "142/142 [==============================] - 1s 5ms/step\n",
      "142/142 [==============================] - 1s 5ms/step\n",
      "142/142 [==============================] - 1s 5ms/step\n",
      "142/142 [==============================] - 1s 5ms/step\n",
      "142/142 [==============================] - 1s 5ms/step\n",
      "| \u001b[0m22       \u001b[0m | \u001b[0m0.3977   \u001b[0m | \u001b[0m4.277    \u001b[0m | \u001b[0m733.3    \u001b[0m | \u001b[0m0.4742   \u001b[0m | \u001b[0m0.09783  \u001b[0m | \u001b[0m0.1966   \u001b[0m | \u001b[0m0.1894   \u001b[0m | \u001b[0m13.46    \u001b[0m | \u001b[0m36.82    \u001b[0m | \u001b[0m2.196    \u001b[0m | \u001b[0m2.232    \u001b[0m | \u001b[0m2.905    \u001b[0m | \u001b[0m0.001408 \u001b[0m | \u001b[0m115.9    \u001b[0m | \u001b[0m4.381    \u001b[0m | \u001b[0m2.509    \u001b[0m | \u001b[0m3.426    \u001b[0m |\n"
     ]
    },
    {
     "name": "stderr",
     "output_type": "stream",
     "text": [
      "/usr/local/lib/python3.7/dist-packages/ipykernel_launcher.py:54: DeprecationWarning: KerasClassifier is deprecated, use Sci-Keras (https://github.com/adriangb/scikeras) instead. See https://www.adriangb.com/scikeras/stable/migration.html for help migrating.\n"
     ]
    },
    {
     "name": "stdout",
     "output_type": "stream",
     "text": [
      "142/142 [==============================] - 1s 6ms/step\n",
      "142/142 [==============================] - 1s 7ms/step\n",
      "142/142 [==============================] - 1s 6ms/step\n",
      "142/142 [==============================] - 2s 10ms/step\n",
      "142/142 [==============================] - 1s 7ms/step\n",
      "| \u001b[0m23       \u001b[0m | \u001b[0m0.6024   \u001b[0m | \u001b[0m3.293    \u001b[0m | \u001b[0m246.6    \u001b[0m | \u001b[0m0.07057  \u001b[0m | \u001b[0m0.6424   \u001b[0m | \u001b[0m0.0106   \u001b[0m | \u001b[0m0.2343   \u001b[0m | \u001b[0m28.8     \u001b[0m | \u001b[0m43.62    \u001b[0m | \u001b[0m2.165    \u001b[0m | \u001b[0m2.287    \u001b[0m | \u001b[0m2.375    \u001b[0m | \u001b[0m0.005911 \u001b[0m | \u001b[0m242.9    \u001b[0m | \u001b[0m2.703    \u001b[0m | \u001b[0m3.884    \u001b[0m | \u001b[0m3.621    \u001b[0m |\n"
     ]
    },
    {
     "name": "stderr",
     "output_type": "stream",
     "text": [
      "/usr/local/lib/python3.7/dist-packages/ipykernel_launcher.py:54: DeprecationWarning: KerasClassifier is deprecated, use Sci-Keras (https://github.com/adriangb/scikeras) instead. See https://www.adriangb.com/scikeras/stable/migration.html for help migrating.\n"
     ]
    },
    {
     "name": "stdout",
     "output_type": "stream",
     "text": [
      "142/142 [==============================] - 1s 5ms/step\n",
      "142/142 [==============================] - 1s 5ms/step\n",
      "142/142 [==============================] - 1s 5ms/step\n",
      "142/142 [==============================] - 1s 4ms/step\n",
      "142/142 [==============================] - 1s 5ms/step\n",
      "| \u001b[0m24       \u001b[0m | \u001b[0m0.1416   \u001b[0m | \u001b[0m0.979    \u001b[0m | \u001b[0m162.4    \u001b[0m | \u001b[0m0.1008   \u001b[0m | \u001b[0m0.01822  \u001b[0m | \u001b[0m0.03778  \u001b[0m | \u001b[0m0.2732   \u001b[0m | \u001b[0m11.42    \u001b[0m | \u001b[0m31.31    \u001b[0m | \u001b[0m3.535    \u001b[0m | \u001b[0m1.047    \u001b[0m | \u001b[0m3.443    \u001b[0m | \u001b[0m0.003537 \u001b[0m | \u001b[0m58.47    \u001b[0m | \u001b[0m4.877    \u001b[0m | \u001b[0m2.887    \u001b[0m | \u001b[0m3.51     \u001b[0m |\n"
     ]
    },
    {
     "name": "stderr",
     "output_type": "stream",
     "text": [
      "/usr/local/lib/python3.7/dist-packages/ipykernel_launcher.py:54: DeprecationWarning: KerasClassifier is deprecated, use Sci-Keras (https://github.com/adriangb/scikeras) instead. See https://www.adriangb.com/scikeras/stable/migration.html for help migrating.\n"
     ]
    },
    {
     "name": "stdout",
     "output_type": "stream",
     "text": [
      "142/142 [==============================] - 1s 6ms/step\n",
      "142/142 [==============================] - 1s 6ms/step\n",
      "142/142 [==============================] - 1s 6ms/step\n",
      "142/142 [==============================] - 1s 6ms/step\n",
      "142/142 [==============================] - 1s 7ms/step\n",
      "| \u001b[0m25       \u001b[0m | \u001b[0m0.6066   \u001b[0m | \u001b[0m3.675    \u001b[0m | \u001b[0m823.1    \u001b[0m | \u001b[0m0.282    \u001b[0m | \u001b[0m0.1774   \u001b[0m | \u001b[0m0.3002   \u001b[0m | \u001b[0m0.3227   \u001b[0m | \u001b[0m29.81    \u001b[0m | \u001b[0m35.81    \u001b[0m | \u001b[0m2.116    \u001b[0m | \u001b[0m2.553    \u001b[0m | \u001b[0m2.022    \u001b[0m | \u001b[0m0.009377 \u001b[0m | \u001b[0m224.3    \u001b[0m | \u001b[0m3.003    \u001b[0m | \u001b[0m3.253    \u001b[0m | \u001b[0m3.018    \u001b[0m |\n"
     ]
    },
    {
     "name": "stderr",
     "output_type": "stream",
     "text": [
      "/usr/local/lib/python3.7/dist-packages/ipykernel_launcher.py:54: DeprecationWarning: KerasClassifier is deprecated, use Sci-Keras (https://github.com/adriangb/scikeras) instead. See https://www.adriangb.com/scikeras/stable/migration.html for help migrating.\n"
     ]
    },
    {
     "name": "stdout",
     "output_type": "stream",
     "text": [
      "142/142 [==============================] - 2s 11ms/step\n",
      "142/142 [==============================] - 2s 11ms/step\n",
      "142/142 [==============================] - 2s 11ms/step\n",
      "142/142 [==============================] - 2s 11ms/step\n",
      "142/142 [==============================] - 2s 11ms/step\n",
      "| \u001b[0m26       \u001b[0m | \u001b[0m0.1538   \u001b[0m | \u001b[0m2.381    \u001b[0m | \u001b[0m254.0    \u001b[0m | \u001b[0m0.8332   \u001b[0m | \u001b[0m0.8021   \u001b[0m | \u001b[0m0.3504   \u001b[0m | \u001b[0m0.3026   \u001b[0m | \u001b[0m21.98    \u001b[0m | \u001b[0m55.93    \u001b[0m | \u001b[0m1.204    \u001b[0m | \u001b[0m1.526    \u001b[0m | \u001b[0m1.472    \u001b[0m | \u001b[0m0.004265 \u001b[0m | \u001b[0m137.0    \u001b[0m | \u001b[0m2.633    \u001b[0m | \u001b[0m3.119    \u001b[0m | \u001b[0m1.555    \u001b[0m |\n"
     ]
    },
    {
     "name": "stderr",
     "output_type": "stream",
     "text": [
      "/usr/local/lib/python3.7/dist-packages/ipykernel_launcher.py:54: DeprecationWarning: KerasClassifier is deprecated, use Sci-Keras (https://github.com/adriangb/scikeras) instead. See https://www.adriangb.com/scikeras/stable/migration.html for help migrating.\n"
     ]
    },
    {
     "name": "stdout",
     "output_type": "stream",
     "text": [
      "142/142 [==============================] - 1s 6ms/step\n",
      "142/142 [==============================] - 1s 6ms/step\n",
      "142/142 [==============================] - 1s 6ms/step\n",
      "142/142 [==============================] - 1s 6ms/step\n",
      "142/142 [==============================] - 1s 7ms/step\n",
      "| \u001b[95m27       \u001b[0m | \u001b[95m0.9356   \u001b[0m | \u001b[95m3.205    \u001b[0m | \u001b[95m263.7    \u001b[0m | \u001b[95m0.6181   \u001b[0m | \u001b[95m0.4978   \u001b[0m | \u001b[95m0.3217   \u001b[0m | \u001b[95m0.2936   \u001b[0m | \u001b[95m27.93    \u001b[0m | \u001b[95m54.15    \u001b[0m | \u001b[95m2.186    \u001b[0m | \u001b[95m2.611    \u001b[0m | \u001b[95m2.576    \u001b[0m | \u001b[95m0.003667 \u001b[0m | \u001b[95m113.8    \u001b[0m | \u001b[95m1.923    \u001b[0m | \u001b[95m2.646    \u001b[0m | \u001b[95m3.171    \u001b[0m |\n"
     ]
    },
    {
     "name": "stderr",
     "output_type": "stream",
     "text": [
      "/usr/local/lib/python3.7/dist-packages/ipykernel_launcher.py:54: DeprecationWarning: KerasClassifier is deprecated, use Sci-Keras (https://github.com/adriangb/scikeras) instead. See https://www.adriangb.com/scikeras/stable/migration.html for help migrating.\n"
     ]
    },
    {
     "name": "stdout",
     "output_type": "stream",
     "text": [
      "142/142 [==============================] - 3s 19ms/step\n",
      "142/142 [==============================] - 2s 11ms/step\n",
      "142/142 [==============================] - 2s 11ms/step\n",
      "142/142 [==============================] - 2s 11ms/step\n",
      "142/142 [==============================] - 2s 11ms/step\n",
      "| \u001b[0m28       \u001b[0m | \u001b[0m0.1467   \u001b[0m | \u001b[0m1.906    \u001b[0m | \u001b[0m260.0    \u001b[0m | \u001b[0m0.0856   \u001b[0m | \u001b[0m0.7697   \u001b[0m | \u001b[0m0.2045   \u001b[0m | \u001b[0m0.3538   \u001b[0m | \u001b[0m16.74    \u001b[0m | \u001b[0m57.28    \u001b[0m | \u001b[0m1.875    \u001b[0m | \u001b[0m2.276    \u001b[0m | \u001b[0m1.794    \u001b[0m | \u001b[0m0.006772 \u001b[0m | \u001b[0m104.3    \u001b[0m | \u001b[0m1.267    \u001b[0m | \u001b[0m3.558    \u001b[0m | \u001b[0m1.645    \u001b[0m |\n"
     ]
    },
    {
     "name": "stderr",
     "output_type": "stream",
     "text": [
      "/usr/local/lib/python3.7/dist-packages/ipykernel_launcher.py:54: DeprecationWarning: KerasClassifier is deprecated, use Sci-Keras (https://github.com/adriangb/scikeras) instead. See https://www.adriangb.com/scikeras/stable/migration.html for help migrating.\n"
     ]
    },
    {
     "name": "stdout",
     "output_type": "stream",
     "text": [
      "142/142 [==============================] - 1s 6ms/step\n",
      "142/142 [==============================] - 1s 6ms/step\n",
      "142/142 [==============================] - 1s 7ms/step\n",
      "142/142 [==============================] - 1s 6ms/step\n",
      "142/142 [==============================] - 1s 6ms/step\n",
      "| \u001b[0m29       \u001b[0m | \u001b[0m0.917    \u001b[0m | \u001b[0m3.51     \u001b[0m | \u001b[0m268.9    \u001b[0m | \u001b[0m1.0      \u001b[0m | \u001b[0m0.556    \u001b[0m | \u001b[0m0.4      \u001b[0m | \u001b[0m0.3176   \u001b[0m | \u001b[0m28.88    \u001b[0m | \u001b[0m57.39    \u001b[0m | \u001b[0m1.733    \u001b[0m | \u001b[0m1.946    \u001b[0m | \u001b[0m1.931    \u001b[0m | \u001b[0m0.002523 \u001b[0m | \u001b[0m118.6    \u001b[0m | \u001b[0m2.08     \u001b[0m | \u001b[0m2.852    \u001b[0m | \u001b[0m2.681    \u001b[0m |\n",
      "=========================================================================================================================================================================================================================\n"
     ]
    }
   ],
   "source": [
    "rnn_bo = BayesianOptimization(rnn_tuner, params_rnn, random_state=42)\n",
    "rnn_bo.maximize(init_points=25, n_iter=4)"
   ]
  },
  {
   "cell_type": "code",
   "execution_count": null,
   "id": "5ZVa144baeKM",
   "metadata": {
    "id": "5ZVa144baeKM"
   },
   "outputs": [],
   "source": []
  },
  {
   "cell_type": "code",
   "execution_count": null,
   "id": "tgm57_yUZu4Y",
   "metadata": {
    "id": "tgm57_yUZu4Y"
   },
   "outputs": [],
   "source": [
    "def rnn_tuner( batch_size, neurons, activation, optimizer, learning_rate, epochs, filters, kernel, pool_size, strides):\n",
    "\n",
    "    optimizerL = ['SGD', 'Adam', 'RMSprop', 'Adadelta', 'Adagrad', 'Adamax']\n",
    "    optimizerD= {'Adam':Adam(learning_rate=learning_rate), 'SGD':SGD(learning_rate=learning_rate),\n",
    "                  'RMSprop':RMSprop(learning_rate=learning_rate), 'Adadelta':Adadelta(learning_rate=learning_rate),\n",
    "                  'Adagrad':Adagrad(learning_rate=learning_rate), 'Adamax':Adamax(learning_rate=learning_rate),\n",
    "                  'Nadam':Nadam(learning_rate=learning_rate), 'Ftrl':Ftrl(learning_rate=learning_rate)}\n",
    "    activationL = ['relu', 'sigmoid', 'softplus', 'softsign', 'tanh', 'selu',\n",
    "                    'elu']\n",
    "    neurons = round(neurons)\n",
    "    activation = activationL[round(activation)]\n",
    "    optimizer = optimizerD[optimizerL[round(optimizer)]]\n",
    "    batch_size = round(batch_size)\n",
    "    epochs = round(epochs)\n",
    "    filters = round(filters)\n",
    "    kernel = round(kernel)\n",
    "    pool_size = round(pool_size)\n",
    "    if round(strides) == 0:\n",
    "      strides = None\n",
    "    else:\n",
    "      strides = round(strides)\n",
    "    \n",
    "    def create_model():\n",
    "        tuned_model = Sequential()\n",
    "        tuned_model.add(Conv1D(filters, kernel, activation=activation, input_shape=(X_train_over.shape[1], 1)))\n",
    "        tuned_model.add(MaxPooling1D(pool_size=pool_size, strides=strides))\n",
    "        tuned_model.add(Flatten())\n",
    "\n",
    "        tuned_model.add(Dense(256, activation='relu'))\n",
    "        tuned_model.add(Dropout(0.2))\n",
    "        tuned_model.add(Dense(128, activation='relu'))\n",
    "        tuned_model.add(Dropout(0.2))\n",
    "        tuned_model.add(Dense(64, activation='relu'))\n",
    "        tuned_model.add(Dropout(0.2))\n",
    "        tuned_model.add(Dense(32, activation='relu'))\n",
    "        tuned_model.add(Dropout(0.2))\n",
    "\n",
    "        tuned_model.add(Dense(1, activation='sigmoid')) #output layer\n",
    "\n",
    "        tuned_model.compile(loss='binary_crossentropy', optimizer = optimizer, metrics=['accuracy',metrics.Precision(), metrics.Recall(),metrics.AUC()])\n",
    "       # tuned_model = tuned_model.fit(X_train_smenn, y_train_smenn, epochs=20)\n",
    "       # tuned_model.summary()\n",
    "\n",
    "        return tuned_model\n",
    "\n",
    "    es = EarlyStopping(monitor=\"loss\", patience=3)\n",
    "    mc = ModelCheckpoint('Best_tuned_RNN_.h5', monitor='val_loss',mode='min',verbose=2, save_best_only=True)\n",
    "\n",
    "    tune_rnn = KerasClassifier(build_fn=create_model, epochs=epochs, batch_size=batch_size, verbose=0) \n",
    "    score = cross_val_score(tune_rnn, X_train_over, y_train_over, \n",
    "                            fit_params={'callbacks':[es]}, error_score='raise',\n",
    "                           scoring='f1').mean() #5 fold cross validation default\n",
    "    return score"
   ]
  },
  {
   "cell_type": "code",
   "execution_count": null,
   "id": "vkJFVvojagAi",
   "metadata": {
    "id": "vkJFVvojagAi"
   },
   "outputs": [],
   "source": [
    "ros = RandomOverSampler(sampling_strategy = 1, random_state=42)\n",
    "X_train_over, y_train_over = ros.fit_resample(X_train, y_train)"
   ]
  },
  {
   "cell_type": "code",
   "execution_count": null,
   "id": "OFrIte6dapZU",
   "metadata": {
    "id": "OFrIte6dapZU"
   },
   "outputs": [],
   "source": [
    "params_rnn ={\n",
    "    'neurons': (32, 256),\n",
    "    'activation':(0, 6),\n",
    "    'optimizer':(0, 5),\n",
    "    'learning_rate':(0.001, 0.01),\n",
    "    'batch_size':(100, 1000),\n",
    "    'epochs':(10, 30),\n",
    "    'filters': (16, 64),\n",
    "    'kernel': (1, 4),\n",
    "    'pool_size': (1, 4),\n",
    "    'strides': (0, 4)\n",
    "}"
   ]
  },
  {
   "cell_type": "code",
   "execution_count": null,
   "id": "QPjwaChLae2b",
   "metadata": {
    "colab": {
     "background_save": true,
     "base_uri": "https://localhost:8080/"
    },
    "id": "QPjwaChLae2b",
    "outputId": "660e3641-80fc-4757-e3ad-4f75e5132c16"
   },
   "outputs": [
    {
     "name": "stdout",
     "output_type": "stream",
     "text": [
      "|   iter    |  target   | activa... | batch_... |  epochs   |  filters  |  kernel   | learni... |  neurons  | optimizer | pool_size |  strides  |\n",
      "-------------------------------------------------------------------------------------------------------------------------------------------------\n"
     ]
    },
    {
     "name": "stderr",
     "output_type": "stream",
     "text": [
      "/usr/local/lib/python3.7/dist-packages/ipykernel_launcher.py:49: DeprecationWarning: KerasClassifier is deprecated, use Sci-Keras (https://github.com/adriangb/scikeras) instead. See https://www.adriangb.com/scikeras/stable/migration.html for help migrating.\n"
     ]
    },
    {
     "name": "stdout",
     "output_type": "stream",
     "text": [
      "142/142 [==============================] - 2s 10ms/step\n",
      "142/142 [==============================] - 1s 10ms/step\n",
      "142/142 [==============================] - 1s 10ms/step\n",
      "142/142 [==============================] - 1s 9ms/step\n",
      "142/142 [==============================] - 1s 9ms/step\n",
      "| \u001b[0m1        \u001b[0m | \u001b[0m0.3078   \u001b[0m | \u001b[0m2.247    \u001b[0m | \u001b[0m955.6    \u001b[0m | \u001b[0m24.64    \u001b[0m | \u001b[0m44.74    \u001b[0m | \u001b[0m1.468    \u001b[0m | \u001b[0m0.002404 \u001b[0m | \u001b[0m45.01    \u001b[0m | \u001b[0m4.331    \u001b[0m | \u001b[0m2.803    \u001b[0m | \u001b[0m2.832    \u001b[0m |\n"
     ]
    },
    {
     "name": "stderr",
     "output_type": "stream",
     "text": [
      "/usr/local/lib/python3.7/dist-packages/ipykernel_launcher.py:49: DeprecationWarning: KerasClassifier is deprecated, use Sci-Keras (https://github.com/adriangb/scikeras) instead. See https://www.adriangb.com/scikeras/stable/migration.html for help migrating.\n"
     ]
    },
    {
     "name": "stdout",
     "output_type": "stream",
     "text": [
      "142/142 [==============================] - 1s 7ms/step\n",
      "142/142 [==============================] - 1s 7ms/step\n",
      "142/142 [==============================] - 1s 7ms/step\n",
      "142/142 [==============================] - 1s 7ms/step\n",
      "142/142 [==============================] - 1s 7ms/step\n",
      "| \u001b[0m2        \u001b[0m | \u001b[0m0.1426   \u001b[0m | \u001b[0m0.1235   \u001b[0m | \u001b[0m972.9    \u001b[0m | \u001b[0m26.65    \u001b[0m | \u001b[0m26.19    \u001b[0m | \u001b[0m1.545    \u001b[0m | \u001b[0m0.002651 \u001b[0m | \u001b[0m100.2    \u001b[0m | \u001b[0m2.624    \u001b[0m | \u001b[0m2.296    \u001b[0m | \u001b[0m1.165    \u001b[0m |\n"
     ]
    },
    {
     "name": "stderr",
     "output_type": "stream",
     "text": [
      "/usr/local/lib/python3.7/dist-packages/ipykernel_launcher.py:49: DeprecationWarning: KerasClassifier is deprecated, use Sci-Keras (https://github.com/adriangb/scikeras) instead. See https://www.adriangb.com/scikeras/stable/migration.html for help migrating.\n"
     ]
    },
    {
     "name": "stdout",
     "output_type": "stream",
     "text": [
      "142/142 [==============================] - 1s 9ms/step\n",
      "142/142 [==============================] - 1s 6ms/step\n",
      "142/142 [==============================] - 1s 6ms/step\n",
      "142/142 [==============================] - 1s 6ms/step\n",
      "142/142 [==============================] - 1s 6ms/step\n",
      "| \u001b[95m3        \u001b[0m | \u001b[95m0.4962   \u001b[0m | \u001b[95m3.671    \u001b[0m | \u001b[95m225.5    \u001b[0m | \u001b[95m15.84    \u001b[0m | \u001b[95m33.59    \u001b[0m | \u001b[95m2.368    \u001b[0m | \u001b[95m0.008067 \u001b[0m | \u001b[95m76.73    \u001b[0m | \u001b[95m2.571    \u001b[0m | \u001b[95m2.777    \u001b[0m | \u001b[95m0.1858   \u001b[0m |\n"
     ]
    },
    {
     "name": "stderr",
     "output_type": "stream",
     "text": [
      "/usr/local/lib/python3.7/dist-packages/ipykernel_launcher.py:49: DeprecationWarning: KerasClassifier is deprecated, use Sci-Keras (https://github.com/adriangb/scikeras) instead. See https://www.adriangb.com/scikeras/stable/migration.html for help migrating.\n"
     ]
    },
    {
     "name": "stdout",
     "output_type": "stream",
     "text": [
      "142/142 [==============================] - 1s 9ms/step\n",
      "142/142 [==============================] - 1s 9ms/step\n",
      "142/142 [==============================] - 1s 9ms/step\n",
      "142/142 [==============================] - 2s 15ms/step\n",
      "142/142 [==============================] - 2s 16ms/step\n",
      "| \u001b[95m4        \u001b[0m | \u001b[95m0.5504   \u001b[0m | \u001b[95m3.645    \u001b[0m | \u001b[95m253.5    \u001b[0m | \u001b[95m11.3     \u001b[0m | \u001b[95m61.55    \u001b[0m | \u001b[95m3.897    \u001b[0m | \u001b[95m0.008276 \u001b[0m | \u001b[95m100.2    \u001b[0m | \u001b[95m0.4884   \u001b[0m | \u001b[95m3.053    \u001b[0m | \u001b[95m1.761    \u001b[0m |\n"
     ]
    },
    {
     "name": "stderr",
     "output_type": "stream",
     "text": [
      "/usr/local/lib/python3.7/dist-packages/ipykernel_launcher.py:49: DeprecationWarning: KerasClassifier is deprecated, use Sci-Keras (https://github.com/adriangb/scikeras) instead. See https://www.adriangb.com/scikeras/stable/migration.html for help migrating.\n"
     ]
    },
    {
     "name": "stdout",
     "output_type": "stream",
     "text": [
      "142/142 [==============================] - 2s 14ms/step\n",
      "142/142 [==============================] - 2s 15ms/step\n",
      "142/142 [==============================] - 2s 13ms/step\n",
      "142/142 [==============================] - 2s 14ms/step\n",
      "142/142 [==============================] - 2s 13ms/step\n",
      "| \u001b[0m5        \u001b[0m | \u001b[0m0.1416   \u001b[0m | \u001b[0m0.7322   \u001b[0m | \u001b[0m545.7    \u001b[0m | \u001b[0m10.69    \u001b[0m | \u001b[0m59.65    \u001b[0m | \u001b[0m1.776    \u001b[0m | \u001b[0m0.006963 \u001b[0m | \u001b[0m101.8    \u001b[0m | \u001b[0m2.6      \u001b[0m | \u001b[0m2.64     \u001b[0m | \u001b[0m0.7394   \u001b[0m |\n"
     ]
    },
    {
     "name": "stderr",
     "output_type": "stream",
     "text": [
      "/usr/local/lib/python3.7/dist-packages/ipykernel_launcher.py:49: DeprecationWarning: KerasClassifier is deprecated, use Sci-Keras (https://github.com/adriangb/scikeras) instead. See https://www.adriangb.com/scikeras/stable/migration.html for help migrating.\n"
     ]
    },
    {
     "name": "stdout",
     "output_type": "stream",
     "text": [
      "142/142 [==============================] - 2s 14ms/step\n",
      "142/142 [==============================] - 2s 14ms/step\n",
      "142/142 [==============================] - 2s 14ms/step\n",
      "142/142 [==============================] - 2s 14ms/step\n",
      "142/142 [==============================] - 2s 14ms/step\n",
      "| \u001b[0m6        \u001b[0m | \u001b[0m0.4454   \u001b[0m | \u001b[0m5.818    \u001b[0m | \u001b[0m797.6    \u001b[0m | \u001b[0m28.79    \u001b[0m | \u001b[0m58.95    \u001b[0m | \u001b[0m2.794    \u001b[0m | \u001b[0m0.009297 \u001b[0m | \u001b[0m51.82    \u001b[0m | \u001b[0m0.9799   \u001b[0m | \u001b[0m1.136    \u001b[0m | \u001b[0m1.301    \u001b[0m |\n"
     ]
    },
    {
     "name": "stderr",
     "output_type": "stream",
     "text": [
      "/usr/local/lib/python3.7/dist-packages/ipykernel_launcher.py:49: DeprecationWarning: KerasClassifier is deprecated, use Sci-Keras (https://github.com/adriangb/scikeras) instead. See https://www.adriangb.com/scikeras/stable/migration.html for help migrating.\n"
     ]
    },
    {
     "name": "stdout",
     "output_type": "stream",
     "text": [
      "142/142 [==============================] - 1s 8ms/step\n",
      "142/142 [==============================] - 1s 8ms/step\n",
      "142/142 [==============================] - 1s 8ms/step\n",
      "142/142 [==============================] - 1s 8ms/step\n",
      "142/142 [==============================] - 1s 8ms/step\n",
      "| \u001b[0m7        \u001b[0m | \u001b[0m0.5079   \u001b[0m | \u001b[0m2.332    \u001b[0m | \u001b[0m344.2    \u001b[0m | \u001b[0m26.57    \u001b[0m | \u001b[0m33.12    \u001b[0m | \u001b[0m1.843    \u001b[0m | \u001b[0m0.005884 \u001b[0m | \u001b[0m63.57    \u001b[0m | \u001b[0m4.011    \u001b[0m | \u001b[0m1.224    \u001b[0m | \u001b[0m3.948    \u001b[0m |\n"
     ]
    },
    {
     "name": "stderr",
     "output_type": "stream",
     "text": [
      "/usr/local/lib/python3.7/dist-packages/ipykernel_launcher.py:49: DeprecationWarning: KerasClassifier is deprecated, use Sci-Keras (https://github.com/adriangb/scikeras) instead. See https://www.adriangb.com/scikeras/stable/migration.html for help migrating.\n"
     ]
    },
    {
     "name": "stdout",
     "output_type": "stream",
     "text": [
      "142/142 [==============================] - 1s 10ms/step\n",
      "142/142 [==============================] - 1s 10ms/step\n",
      "142/142 [==============================] - 2s 17ms/step\n",
      "142/142 [==============================] - 1s 10ms/step\n",
      "142/142 [==============================] - 1s 10ms/step\n",
      "| \u001b[0m8        \u001b[0m | \u001b[0m0.1279   \u001b[0m | \u001b[0m4.633    \u001b[0m | \u001b[0m278.8    \u001b[0m | \u001b[0m10.11    \u001b[0m | \u001b[0m55.14    \u001b[0m | \u001b[0m3.121    \u001b[0m | \u001b[0m0.007561 \u001b[0m | \u001b[0m204.8    \u001b[0m | \u001b[0m0.3702   \u001b[0m | \u001b[0m2.075    \u001b[0m | \u001b[0m0.4635   \u001b[0m |\n"
     ]
    },
    {
     "name": "stderr",
     "output_type": "stream",
     "text": [
      "/usr/local/lib/python3.7/dist-packages/ipykernel_launcher.py:49: DeprecationWarning: KerasClassifier is deprecated, use Sci-Keras (https://github.com/adriangb/scikeras) instead. See https://www.adriangb.com/scikeras/stable/migration.html for help migrating.\n"
     ]
    },
    {
     "name": "stdout",
     "output_type": "stream",
     "text": [
      "142/142 [==============================] - 1s 6ms/step\n",
      "142/142 [==============================] - 1s 6ms/step\n",
      "142/142 [==============================] - 1s 6ms/step\n",
      "142/142 [==============================] - 1s 6ms/step\n",
      "142/142 [==============================] - 1s 6ms/step\n",
      "| \u001b[0m9        \u001b[0m | \u001b[0m0.03015  \u001b[0m | \u001b[0m5.179    \u001b[0m | \u001b[0m661.0    \u001b[0m | \u001b[0m16.62    \u001b[0m | \u001b[0m19.05    \u001b[0m | \u001b[0m1.933    \u001b[0m | \u001b[0m0.003927 \u001b[0m | \u001b[0m195.4    \u001b[0m | \u001b[0m3.188    \u001b[0m | \u001b[0m3.662    \u001b[0m | \u001b[0m1.889    \u001b[0m |\n"
     ]
    },
    {
     "name": "stderr",
     "output_type": "stream",
     "text": [
      "/usr/local/lib/python3.7/dist-packages/ipykernel_launcher.py:49: DeprecationWarning: KerasClassifier is deprecated, use Sci-Keras (https://github.com/adriangb/scikeras) instead. See https://www.adriangb.com/scikeras/stable/migration.html for help migrating.\n"
     ]
    },
    {
     "name": "stdout",
     "output_type": "stream",
     "text": [
      "142/142 [==============================] - 2s 11ms/step\n",
      "142/142 [==============================] - 2s 11ms/step\n",
      "142/142 [==============================] - 2s 11ms/step\n",
      "142/142 [==============================] - 2s 11ms/step\n",
      "142/142 [==============================] - 2s 11ms/step\n",
      "| \u001b[0m10       \u001b[0m | \u001b[0m0.1416   \u001b[0m | \u001b[0m0.7176   \u001b[0m | \u001b[0m741.9    \u001b[0m | \u001b[0m25.22    \u001b[0m | \u001b[0m42.94    \u001b[0m | \u001b[0m3.313    \u001b[0m | \u001b[0m0.005444 \u001b[0m | \u001b[0m149.1    \u001b[0m | \u001b[0m2.138    \u001b[0m | \u001b[0m1.076    \u001b[0m | \u001b[0m0.4316   \u001b[0m |\n"
     ]
    },
    {
     "name": "stderr",
     "output_type": "stream",
     "text": [
      "/usr/local/lib/python3.7/dist-packages/ipykernel_launcher.py:49: DeprecationWarning: KerasClassifier is deprecated, use Sci-Keras (https://github.com/adriangb/scikeras) instead. See https://www.adriangb.com/scikeras/stable/migration.html for help migrating.\n"
     ]
    },
    {
     "name": "stdout",
     "output_type": "stream",
     "text": [
      "142/142 [==============================] - 1s 7ms/step\n",
      "142/142 [==============================] - 1s 7ms/step\n",
      "142/142 [==============================] - 1s 7ms/step\n",
      "142/142 [==============================] - 1s 7ms/step\n",
      "142/142 [==============================] - 1s 7ms/step\n",
      "| \u001b[0m11       \u001b[0m | \u001b[0m0.1495   \u001b[0m | \u001b[0m0.1886   \u001b[0m | \u001b[0m672.8    \u001b[0m | \u001b[0m16.29    \u001b[0m | \u001b[0m40.41    \u001b[0m | \u001b[0m3.723    \u001b[0m | \u001b[0m0.003244 \u001b[0m | \u001b[0m123.9    \u001b[0m | \u001b[0m3.778    \u001b[0m | \u001b[0m1.686    \u001b[0m | \u001b[0m0.3079   \u001b[0m |\n"
     ]
    },
    {
     "name": "stderr",
     "output_type": "stream",
     "text": [
      "/usr/local/lib/python3.7/dist-packages/ipykernel_launcher.py:49: DeprecationWarning: KerasClassifier is deprecated, use Sci-Keras (https://github.com/adriangb/scikeras) instead. See https://www.adriangb.com/scikeras/stable/migration.html for help migrating.\n"
     ]
    },
    {
     "name": "stdout",
     "output_type": "stream",
     "text": [
      "142/142 [==============================] - 2s 13ms/step\n",
      "142/142 [==============================] - 2s 13ms/step\n",
      "142/142 [==============================] - 2s 13ms/step\n",
      "142/142 [==============================] - 2s 13ms/step\n",
      "142/142 [==============================] - 2s 13ms/step\n",
      "| \u001b[0m12       \u001b[0m | \u001b[0m0.1416   \u001b[0m | \u001b[0m1.739    \u001b[0m | \u001b[0m245.1    \u001b[0m | \u001b[0m28.59    \u001b[0m | \u001b[0m54.79    \u001b[0m | \u001b[0m2.9      \u001b[0m | \u001b[0m0.008843 \u001b[0m | \u001b[0m212.0    \u001b[0m | \u001b[0m0.9329   \u001b[0m | \u001b[0m3.678    \u001b[0m | \u001b[0m2.157    \u001b[0m |\n"
     ]
    },
    {
     "name": "stderr",
     "output_type": "stream",
     "text": [
      "/usr/local/lib/python3.7/dist-packages/ipykernel_launcher.py:49: DeprecationWarning: KerasClassifier is deprecated, use Sci-Keras (https://github.com/adriangb/scikeras) instead. See https://www.adriangb.com/scikeras/stable/migration.html for help migrating.\n"
     ]
    },
    {
     "name": "stdout",
     "output_type": "stream",
     "text": [
      "142/142 [==============================] - 1s 6ms/step\n",
      "142/142 [==============================] - 1s 6ms/step\n",
      "142/142 [==============================] - 1s 6ms/step\n",
      "142/142 [==============================] - 1s 6ms/step\n",
      "142/142 [==============================] - 1s 6ms/step\n",
      "| \u001b[0m13       \u001b[0m | \u001b[0m0.2761   \u001b[0m | \u001b[0m4.845    \u001b[0m | \u001b[0m906.5    \u001b[0m | \u001b[0m16.36    \u001b[0m | \u001b[0m21.28    \u001b[0m | \u001b[0m1.684    \u001b[0m | \u001b[0m0.004844 \u001b[0m | \u001b[0m215.2    \u001b[0m | \u001b[0m4.304    \u001b[0m | \u001b[0m1.021    \u001b[0m | \u001b[0m2.043    \u001b[0m |\n"
     ]
    },
    {
     "name": "stderr",
     "output_type": "stream",
     "text": [
      "/usr/local/lib/python3.7/dist-packages/ipykernel_launcher.py:49: DeprecationWarning: KerasClassifier is deprecated, use Sci-Keras (https://github.com/adriangb/scikeras) instead. See https://www.adriangb.com/scikeras/stable/migration.html for help migrating.\n"
     ]
    },
    {
     "name": "stdout",
     "output_type": "stream",
     "text": [
      "142/142 [==============================] - 1s 5ms/step\n",
      "142/142 [==============================] - 1s 8ms/step\n",
      "142/142 [==============================] - 1s 5ms/step\n",
      "142/142 [==============================] - 1s 5ms/step\n",
      "142/142 [==============================] - 1s 5ms/step\n",
      "| \u001b[0m14       \u001b[0m | \u001b[0m0.4653   \u001b[0m | \u001b[0m2.504    \u001b[0m | \u001b[0m299.9    \u001b[0m | \u001b[0m12.4     \u001b[0m | \u001b[0m32.21    \u001b[0m | \u001b[0m3.829    \u001b[0m | \u001b[0m0.003909 \u001b[0m | \u001b[0m148.2    \u001b[0m | \u001b[0m3.515    \u001b[0m | \u001b[0m2.091    \u001b[0m | \u001b[0m3.887    \u001b[0m |\n"
     ]
    },
    {
     "name": "stderr",
     "output_type": "stream",
     "text": [
      "/usr/local/lib/python3.7/dist-packages/ipykernel_launcher.py:49: DeprecationWarning: KerasClassifier is deprecated, use Sci-Keras (https://github.com/adriangb/scikeras) instead. See https://www.adriangb.com/scikeras/stable/migration.html for help migrating.\n"
     ]
    },
    {
     "name": "stdout",
     "output_type": "stream",
     "text": [
      "142/142 [==============================] - 1s 9ms/step\n",
      "142/142 [==============================] - 1s 9ms/step\n",
      "142/142 [==============================] - 1s 9ms/step\n",
      "142/142 [==============================] - 1s 9ms/step\n",
      "142/142 [==============================] - 1s 9ms/step\n",
      "| \u001b[0m15       \u001b[0m | \u001b[0m0.1361   \u001b[0m | \u001b[0m5.775    \u001b[0m | \u001b[0m326.6    \u001b[0m | \u001b[0m19.94    \u001b[0m | \u001b[0m30.44    \u001b[0m | \u001b[0m1.855    \u001b[0m | \u001b[0m0.001332 \u001b[0m | \u001b[0m168.5    \u001b[0m | \u001b[0m2.513    \u001b[0m | \u001b[0m1.154    \u001b[0m | \u001b[0m1.115    \u001b[0m |\n"
     ]
    },
    {
     "name": "stderr",
     "output_type": "stream",
     "text": [
      "/usr/local/lib/python3.7/dist-packages/ipykernel_launcher.py:49: DeprecationWarning: KerasClassifier is deprecated, use Sci-Keras (https://github.com/adriangb/scikeras) instead. See https://www.adriangb.com/scikeras/stable/migration.html for help migrating.\n"
     ]
    },
    {
     "name": "stdout",
     "output_type": "stream",
     "text": [
      "142/142 [==============================] - 1s 7ms/step\n",
      "142/142 [==============================] - 1s 8ms/step\n",
      "142/142 [==============================] - 1s 7ms/step\n",
      "142/142 [==============================] - 1s 7ms/step\n",
      "142/142 [==============================] - 1s 7ms/step\n",
      "| \u001b[0m16       \u001b[0m | \u001b[0m0.1225   \u001b[0m | \u001b[0m5.45     \u001b[0m | \u001b[0m315.6    \u001b[0m | \u001b[0m12.9     \u001b[0m | \u001b[0m39.49    \u001b[0m | \u001b[0m3.957    \u001b[0m | \u001b[0m0.003178 \u001b[0m | \u001b[0m182.6    \u001b[0m | \u001b[0m3.808    \u001b[0m | \u001b[0m1.713    \u001b[0m | \u001b[0m2.913    \u001b[0m |\n"
     ]
    },
    {
     "name": "stderr",
     "output_type": "stream",
     "text": [
      "/usr/local/lib/python3.7/dist-packages/ipykernel_launcher.py:49: DeprecationWarning: KerasClassifier is deprecated, use Sci-Keras (https://github.com/adriangb/scikeras) instead. See https://www.adriangb.com/scikeras/stable/migration.html for help migrating.\n"
     ]
    },
    {
     "name": "stdout",
     "output_type": "stream",
     "text": [
      "142/142 [==============================] - 2s 10ms/step\n",
      "142/142 [==============================] - 1s 10ms/step\n",
      "142/142 [==============================] - 2s 10ms/step\n",
      "142/142 [==============================] - 2s 16ms/step\n",
      "142/142 [==============================] - 2s 10ms/step\n",
      "| \u001b[0m17       \u001b[0m | \u001b[0m0.1416   \u001b[0m | \u001b[0m2.207    \u001b[0m | \u001b[0m669.1    \u001b[0m | \u001b[0m22.67    \u001b[0m | \u001b[0m41.72    \u001b[0m | \u001b[0m1.271    \u001b[0m | \u001b[0m0.008518 \u001b[0m | \u001b[0m103.9    \u001b[0m | \u001b[0m0.9326   \u001b[0m | \u001b[0m1.122    \u001b[0m | \u001b[0m2.364    \u001b[0m |\n"
     ]
    },
    {
     "name": "stderr",
     "output_type": "stream",
     "text": [
      "/usr/local/lib/python3.7/dist-packages/ipykernel_launcher.py:49: DeprecationWarning: KerasClassifier is deprecated, use Sci-Keras (https://github.com/adriangb/scikeras) instead. See https://www.adriangb.com/scikeras/stable/migration.html for help migrating.\n"
     ]
    },
    {
     "name": "stdout",
     "output_type": "stream",
     "text": [
      "142/142 [==============================] - 1s 8ms/step\n",
      "142/142 [==============================] - 1s 8ms/step\n",
      "142/142 [==============================] - 1s 9ms/step\n",
      "142/142 [==============================] - 1s 8ms/step\n",
      "142/142 [==============================] - 1s 8ms/step\n",
      "| \u001b[95m18       \u001b[0m | \u001b[95m0.9307   \u001b[0m | \u001b[95m4.065    \u001b[0m | \u001b[95m114.9    \u001b[0m | \u001b[95m20.24    \u001b[0m | \u001b[95m26.87    \u001b[0m | \u001b[95m2.936    \u001b[0m | \u001b[95m0.002569 \u001b[0m | \u001b[95m186.8    \u001b[0m | \u001b[95m1.934    \u001b[0m | \u001b[95m3.81     \u001b[0m | \u001b[95m0.5501   \u001b[0m |\n"
     ]
    },
    {
     "name": "stderr",
     "output_type": "stream",
     "text": [
      "/usr/local/lib/python3.7/dist-packages/ipykernel_launcher.py:49: DeprecationWarning: KerasClassifier is deprecated, use Sci-Keras (https://github.com/adriangb/scikeras) instead. See https://www.adriangb.com/scikeras/stable/migration.html for help migrating.\n"
     ]
    },
    {
     "name": "stdout",
     "output_type": "stream",
     "text": [
      "142/142 [==============================] - 3s 17ms/step\n",
      "142/142 [==============================] - 3s 17ms/step\n",
      "142/142 [==============================] - 3s 18ms/step\n",
      "142/142 [==============================] - 3s 17ms/step\n",
      "142/142 [==============================] - 3s 17ms/step\n",
      "| \u001b[0m19       \u001b[0m | \u001b[0m0.3231   \u001b[0m | \u001b[0m2.046    \u001b[0m | \u001b[0m202.1    \u001b[0m | \u001b[0m28.49    \u001b[0m | \u001b[0m58.11    \u001b[0m | \u001b[0m1.774    \u001b[0m | \u001b[0m0.00694  \u001b[0m | \u001b[0m215.1    \u001b[0m | \u001b[0m2.776    \u001b[0m | \u001b[0m2.589    \u001b[0m | \u001b[0m0.9674   \u001b[0m |\n"
     ]
    },
    {
     "name": "stderr",
     "output_type": "stream",
     "text": [
      "/usr/local/lib/python3.7/dist-packages/ipykernel_launcher.py:49: DeprecationWarning: KerasClassifier is deprecated, use Sci-Keras (https://github.com/adriangb/scikeras) instead. See https://www.adriangb.com/scikeras/stable/migration.html for help migrating.\n"
     ]
    },
    {
     "name": "stdout",
     "output_type": "stream",
     "text": [
      "142/142 [==============================] - 1s 7ms/step\n",
      "142/142 [==============================] - 1s 7ms/step\n",
      "142/142 [==============================] - 2s 11ms/step\n",
      "142/142 [==============================] - 1s 8ms/step\n",
      "142/142 [==============================] - 1s 7ms/step\n",
      "| \u001b[0m20       \u001b[0m | \u001b[0m0.1416   \u001b[0m | \u001b[0m0.5586   \u001b[0m | \u001b[0m907.5    \u001b[0m | \u001b[0m28.01    \u001b[0m | \u001b[0m46.39    \u001b[0m | \u001b[0m2.017    \u001b[0m | \u001b[0m0.004143 \u001b[0m | \u001b[0m194.6    \u001b[0m | \u001b[0m4.486    \u001b[0m | \u001b[0m3.661    \u001b[0m | \u001b[0m3.12     \u001b[0m |\n"
     ]
    },
    {
     "name": "stderr",
     "output_type": "stream",
     "text": [
      "/usr/local/lib/python3.7/dist-packages/ipykernel_launcher.py:49: DeprecationWarning: KerasClassifier is deprecated, use Sci-Keras (https://github.com/adriangb/scikeras) instead. See https://www.adriangb.com/scikeras/stable/migration.html for help migrating.\n"
     ]
    },
    {
     "name": "stdout",
     "output_type": "stream",
     "text": [
      "142/142 [==============================] - 2s 13ms/step\n",
      "142/142 [==============================] - 2s 13ms/step\n",
      "142/142 [==============================] - 2s 13ms/step\n",
      "142/142 [==============================] - 2s 13ms/step\n",
      "142/142 [==============================] - 2s 13ms/step\n",
      "| \u001b[0m21       \u001b[0m | \u001b[0m0.2984   \u001b[0m | \u001b[0m3.852    \u001b[0m | \u001b[0m175.7    \u001b[0m | \u001b[0m13.23    \u001b[0m | \u001b[0m59.13    \u001b[0m | \u001b[0m2.819    \u001b[0m | \u001b[0m0.001083 \u001b[0m | \u001b[0m54.73    \u001b[0m | \u001b[0m3.318    \u001b[0m | \u001b[0m1.015    \u001b[0m | \u001b[0m0.6432   \u001b[0m |\n"
     ]
    },
    {
     "name": "stderr",
     "output_type": "stream",
     "text": [
      "/usr/local/lib/python3.7/dist-packages/ipykernel_launcher.py:49: DeprecationWarning: KerasClassifier is deprecated, use Sci-Keras (https://github.com/adriangb/scikeras) instead. See https://www.adriangb.com/scikeras/stable/migration.html for help migrating.\n"
     ]
    },
    {
     "name": "stdout",
     "output_type": "stream",
     "text": [
      "142/142 [==============================] - 1s 5ms/step\n",
      "142/142 [==============================] - 1s 5ms/step\n",
      "142/142 [==============================] - 1s 5ms/step\n",
      "142/142 [==============================] - 1s 5ms/step\n",
      "142/142 [==============================] - 1s 5ms/step\n",
      "| \u001b[0m22       \u001b[0m | \u001b[0m0.3705   \u001b[0m | \u001b[0m3.292    \u001b[0m | \u001b[0m722.7    \u001b[0m | \u001b[0m23.04    \u001b[0m | \u001b[0m26.76    \u001b[0m | \u001b[0m3.137    \u001b[0m | \u001b[0m0.003135 \u001b[0m | \u001b[0m104.9    \u001b[0m | \u001b[0m3.732    \u001b[0m | \u001b[0m2.949    \u001b[0m | \u001b[0m3.397    \u001b[0m |\n"
     ]
    },
    {
     "name": "stderr",
     "output_type": "stream",
     "text": [
      "/usr/local/lib/python3.7/dist-packages/ipykernel_launcher.py:49: DeprecationWarning: KerasClassifier is deprecated, use Sci-Keras (https://github.com/adriangb/scikeras) instead. See https://www.adriangb.com/scikeras/stable/migration.html for help migrating.\n"
     ]
    },
    {
     "name": "stdout",
     "output_type": "stream",
     "text": [
      "142/142 [==============================] - 1s 6ms/step\n",
      "142/142 [==============================] - 1s 6ms/step\n",
      "142/142 [==============================] - 1s 6ms/step\n",
      "142/142 [==============================] - 1s 6ms/step\n",
      "142/142 [==============================] - 1s 9ms/step\n",
      "| \u001b[0m23       \u001b[0m | \u001b[0m0.8      \u001b[0m | \u001b[0m3.946    \u001b[0m | \u001b[0m611.5    \u001b[0m | \u001b[0m11.87    \u001b[0m | \u001b[0m33.65    \u001b[0m | \u001b[0m1.796    \u001b[0m | \u001b[0m0.003196 \u001b[0m | \u001b[0m250.0    \u001b[0m | \u001b[0m1.965    \u001b[0m | \u001b[0m3.676    \u001b[0m | \u001b[0m2.525    \u001b[0m |\n"
     ]
    },
    {
     "name": "stderr",
     "output_type": "stream",
     "text": [
      "/usr/local/lib/python3.7/dist-packages/ipykernel_launcher.py:49: DeprecationWarning: KerasClassifier is deprecated, use Sci-Keras (https://github.com/adriangb/scikeras) instead. See https://www.adriangb.com/scikeras/stable/migration.html for help migrating.\n"
     ]
    },
    {
     "name": "stdout",
     "output_type": "stream",
     "text": [
      "142/142 [==============================] - 2s 11ms/step\n",
      "142/142 [==============================] - 2s 11ms/step\n",
      "142/142 [==============================] - 3s 19ms/step\n",
      "142/142 [==============================] - 2s 15ms/step\n",
      "142/142 [==============================] - 2s 11ms/step\n",
      "| \u001b[0m24       \u001b[0m | \u001b[0m0.1416   \u001b[0m | \u001b[0m4.769    \u001b[0m | \u001b[0m552.4    \u001b[0m | \u001b[0m21.54    \u001b[0m | \u001b[0m39.64    \u001b[0m | \u001b[0m1.586    \u001b[0m | \u001b[0m0.007502 \u001b[0m | \u001b[0m94.89    \u001b[0m | \u001b[0m0.1216   \u001b[0m | \u001b[0m2.936    \u001b[0m | \u001b[0m0.7084   \u001b[0m |\n"
     ]
    },
    {
     "name": "stderr",
     "output_type": "stream",
     "text": [
      "/usr/local/lib/python3.7/dist-packages/ipykernel_launcher.py:49: DeprecationWarning: KerasClassifier is deprecated, use Sci-Keras (https://github.com/adriangb/scikeras) instead. See https://www.adriangb.com/scikeras/stable/migration.html for help migrating.\n"
     ]
    },
    {
     "name": "stdout",
     "output_type": "stream",
     "text": [
      "142/142 [==============================] - 1s 6ms/step\n",
      "142/142 [==============================] - 1s 6ms/step\n",
      "142/142 [==============================] - 1s 6ms/step\n",
      "142/142 [==============================] - 1s 6ms/step\n",
      "142/142 [==============================] - 1s 6ms/step\n",
      "| \u001b[0m25       \u001b[0m | \u001b[0m0.7145   \u001b[0m | \u001b[0m5.643    \u001b[0m | \u001b[0m958.5    \u001b[0m | \u001b[0m28.3     \u001b[0m | \u001b[0m33.77    \u001b[0m | \u001b[0m1.046    \u001b[0m | \u001b[0m0.009355 \u001b[0m | \u001b[0m127.9    \u001b[0m | \u001b[0m4.833    \u001b[0m | \u001b[0m3.891    \u001b[0m | \u001b[0m3.412    \u001b[0m |\n"
     ]
    },
    {
     "name": "stderr",
     "output_type": "stream",
     "text": [
      "/usr/local/lib/python3.7/dist-packages/ipykernel_launcher.py:49: DeprecationWarning: KerasClassifier is deprecated, use Sci-Keras (https://github.com/adriangb/scikeras) instead. See https://www.adriangb.com/scikeras/stable/migration.html for help migrating.\n"
     ]
    },
    {
     "name": "stdout",
     "output_type": "stream",
     "text": [
      "142/142 [==============================] - 1s 6ms/step\n",
      "142/142 [==============================] - 1s 6ms/step\n",
      "142/142 [==============================] - 1s 6ms/step\n",
      "142/142 [==============================] - 1s 6ms/step\n",
      "142/142 [==============================] - 1s 6ms/step\n",
      "| \u001b[0m26       \u001b[0m | \u001b[0m0.3449   \u001b[0m | \u001b[0m3.416    \u001b[0m | \u001b[0m125.9    \u001b[0m | \u001b[0m24.82    \u001b[0m | \u001b[0m38.8     \u001b[0m | \u001b[0m2.982    \u001b[0m | \u001b[0m0.003136 \u001b[0m | \u001b[0m196.1    \u001b[0m | \u001b[0m2.746    \u001b[0m | \u001b[0m3.384    \u001b[0m | \u001b[0m0.4374   \u001b[0m |\n"
     ]
    },
    {
     "name": "stderr",
     "output_type": "stream",
     "text": [
      "/usr/local/lib/python3.7/dist-packages/ipykernel_launcher.py:49: DeprecationWarning: KerasClassifier is deprecated, use Sci-Keras (https://github.com/adriangb/scikeras) instead. See https://www.adriangb.com/scikeras/stable/migration.html for help migrating.\n"
     ]
    },
    {
     "name": "stdout",
     "output_type": "stream",
     "text": [
      "142/142 [==============================] - 1s 6ms/step\n",
      "142/142 [==============================] - 1s 6ms/step\n",
      "142/142 [==============================] - 1s 6ms/step\n",
      "142/142 [==============================] - 1s 6ms/step\n",
      "142/142 [==============================] - 1s 6ms/step\n",
      "| \u001b[0m27       \u001b[0m | \u001b[0m0.01537  \u001b[0m | \u001b[0m0.6007   \u001b[0m | \u001b[0m610.2    \u001b[0m | \u001b[0m10.79    \u001b[0m | \u001b[0m30.52    \u001b[0m | \u001b[0m3.505    \u001b[0m | \u001b[0m0.008133 \u001b[0m | \u001b[0m249.6    \u001b[0m | \u001b[0m0.1456   \u001b[0m | \u001b[0m2.655    \u001b[0m | \u001b[0m0.4173   \u001b[0m |\n"
     ]
    },
    {
     "name": "stderr",
     "output_type": "stream",
     "text": [
      "/usr/local/lib/python3.7/dist-packages/ipykernel_launcher.py:49: DeprecationWarning: KerasClassifier is deprecated, use Sci-Keras (https://github.com/adriangb/scikeras) instead. See https://www.adriangb.com/scikeras/stable/migration.html for help migrating.\n"
     ]
    },
    {
     "name": "stdout",
     "output_type": "stream",
     "text": [
      "142/142 [==============================] - 1s 9ms/step\n",
      "142/142 [==============================] - 1s 9ms/step\n",
      "142/142 [==============================] - 1s 10ms/step\n",
      "142/142 [==============================] - 1s 9ms/step\n",
      "142/142 [==============================] - 1s 9ms/step\n",
      "| \u001b[0m28       \u001b[0m | \u001b[0m0.8812   \u001b[0m | \u001b[0m5.398    \u001b[0m | \u001b[0m290.1    \u001b[0m | \u001b[0m24.8     \u001b[0m | \u001b[0m52.7     \u001b[0m | \u001b[0m2.15     \u001b[0m | \u001b[0m0.006845 \u001b[0m | \u001b[0m59.11    \u001b[0m | \u001b[0m1.932    \u001b[0m | \u001b[0m2.097    \u001b[0m | \u001b[0m2.216    \u001b[0m |\n"
     ]
    },
    {
     "name": "stderr",
     "output_type": "stream",
     "text": [
      "/usr/local/lib/python3.7/dist-packages/ipykernel_launcher.py:49: DeprecationWarning: KerasClassifier is deprecated, use Sci-Keras (https://github.com/adriangb/scikeras) instead. See https://www.adriangb.com/scikeras/stable/migration.html for help migrating.\n"
     ]
    },
    {
     "name": "stdout",
     "output_type": "stream",
     "text": [
      "142/142 [==============================] - 1s 4ms/step\n",
      "142/142 [==============================] - 1s 4ms/step\n",
      "142/142 [==============================] - 1s 4ms/step\n",
      "142/142 [==============================] - 1s 4ms/step\n",
      "142/142 [==============================] - 1s 4ms/step\n",
      "| \u001b[0m29       \u001b[0m | \u001b[0m0.9098   \u001b[0m | \u001b[0m2.687    \u001b[0m | \u001b[0m842.3    \u001b[0m | \u001b[0m26.06    \u001b[0m | \u001b[0m24.13    \u001b[0m | \u001b[0m1.105    \u001b[0m | \u001b[0m0.004395 \u001b[0m | \u001b[0m109.2    \u001b[0m | \u001b[0m1.308    \u001b[0m | \u001b[0m3.46     \u001b[0m | \u001b[0m3.918    \u001b[0m |\n",
      "=================================================================================================================================================\n"
     ]
    }
   ],
   "source": [
    "rnn_bo = BayesianOptimization(rnn_tuner, params_rnn, random_state=42)\n",
    "rnn_bo.maximize(init_points=25, n_iter=4)"
   ]
  }
 ],
 "metadata": {
  "colab": {
   "provenance": []
  },
  "kernelspec": {
   "display_name": "Python 3 (ipykernel)",
   "language": "python",
   "name": "python3"
  },
  "language_info": {
   "codemirror_mode": {
    "name": "ipython",
    "version": 3
   },
   "file_extension": ".py",
   "mimetype": "text/x-python",
   "name": "python",
   "nbconvert_exporter": "python",
   "pygments_lexer": "ipython3",
   "version": "3.9.12"
  }
 },
 "nbformat": 4,
 "nbformat_minor": 5
}
