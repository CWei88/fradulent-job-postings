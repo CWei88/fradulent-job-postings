{
 "cells": [
  {
   "cell_type": "code",
   "execution_count": 75,
   "id": "7b12ee33",
   "metadata": {},
   "outputs": [],
   "source": [
    "import numpy as np\n",
    "import pandas as pd\n",
    "import shap\n",
    "import tensorflow as tf\n",
    "import keras\n",
    "import lime\n",
    "\n",
    "import keras\n",
    "import tensorflow\n",
    "from keras import layers\n",
    "from keras.models import Sequential\n",
    "from keras.layers import Dense, Activation, Dropout, Flatten, Embedding, SimpleRNN , concatenate, Lambda, Conv1D, MaxPooling1D\n",
    "from keras.layers import LeakyReLU\n",
    "from keras.callbacks import EarlyStopping, ModelCheckpoint\n",
    "from keras.optimizers import Adam, SGD, RMSprop, Adadelta, Adagrad, Adamax, Nadam, Ftrl\n",
    "from keras import metrics\n",
    "from keras.losses import BinaryCrossentropy\n",
    "from keras.wrappers.scikit_learn import KerasClassifier\n",
    "\n",
    "\n",
    "from imblearn.over_sampling import RandomOverSampler, ADASYN\n",
    "from imblearn.combine import SMOTEENN\n",
    "from imblearn.under_sampling import EditedNearestNeighbours\n",
    "from imblearn.over_sampling import SMOTE\n",
    "\n",
    "from sklearn.model_selection import train_test_split\n",
    "from sklearn.model_selection import cross_val_score\n",
    "from sklearn.preprocessing import StandardScaler, LabelEncoder\n",
    "from sklearn.linear_model import LogisticRegression\n",
    "from sklearn.metrics import classification_report, confusion_matrix, f1_score, precision_score, recall_score, accuracy_score\n",
    "from sklearn import linear_model, model_selection"
   ]
  },
  {
   "cell_type": "markdown",
   "id": "a9eba3db",
   "metadata": {},
   "source": [
    "## Loading Models"
   ]
  },
  {
   "cell_type": "code",
   "execution_count": 76,
   "id": "01dae98c",
   "metadata": {},
   "outputs": [],
   "source": [
    "X_train = pd.read_csv('../datasets/word2vec/train_data_imputed_FINAL.csv')\n",
    "X_test = pd.read_csv('../datasets/word2vec/test_data_imputed_FINAL.csv')\n",
    "y_train = pd.read_csv('../datasets/word2vec/y_train_FINAL.csv')\n",
    "y_test = pd.read_csv('../datasets/word2vec/y_test_FINAL.csv')"
   ]
  },
  {
   "cell_type": "code",
   "execution_count": 77,
   "id": "cdbf1f39",
   "metadata": {},
   "outputs": [
    {
     "name": "stdout",
     "output_type": "stream",
     "text": [
      "(11516, 263)\n",
      "(11516, 2)\n",
      "(2880, 263)\n",
      "(2880, 2)\n"
     ]
    }
   ],
   "source": [
    "print(X_train.shape)\n",
    "print(y_train.shape)\n",
    "print(X_test.shape)\n",
    "print(y_test.shape)"
   ]
  },
  {
   "cell_type": "code",
   "execution_count": 78,
   "id": "e515d11b",
   "metadata": {},
   "outputs": [],
   "source": [
    "y_train = y_train.drop(columns=['Unnamed: 0'])\n",
    "y_test = y_test.drop(columns=['Unnamed: 0'])"
   ]
  },
  {
   "cell_type": "markdown",
   "id": "7d850fc1",
   "metadata": {},
   "source": [
    "## Neural Networks"
   ]
  },
  {
   "cell_type": "markdown",
   "id": "9b3851c2",
   "metadata": {},
   "source": [
    "### Base Model"
   ]
  },
  {
   "cell_type": "code",
   "execution_count": 79,
   "id": "229b0e14",
   "metadata": {},
   "outputs": [],
   "source": [
    "### Model building\n",
    "model = Sequential()\n",
    "model.add(Dense(256, activation='relu'))\n",
    "model.add(Dropout(0.2))\n",
    "model.add(Dense(128, activation='relu'))\n",
    "model.add(Dropout(0.2))\n",
    "model.add(Dense(64, activation='relu'))\n",
    "model.add(Dropout(0.2))\n",
    "model.add(Dense(32, activation='relu'))\n",
    "model.add(Dropout(0.2))\n",
    "model.add(Dense(1, activation='sigmoid'))\n",
    "model.compile(loss='binary_crossentropy', optimizer='adam', metrics=['accuracy',metrics.Precision(), metrics.Recall(),metrics.AUC()])"
   ]
  },
  {
   "cell_type": "markdown",
   "id": "98e35ce4",
   "metadata": {},
   "source": [
    "### Random Oversampler"
   ]
  },
  {
   "cell_type": "code",
   "execution_count": 80,
   "id": "c71dbd0a",
   "metadata": {},
   "outputs": [],
   "source": [
    "ros = RandomOverSampler(sampling_strategy = 1, random_state=42)\n",
    "X_res, y_res = ros.fit_resample(X_train, y_train)"
   ]
  },
  {
   "cell_type": "code",
   "execution_count": 81,
   "id": "6390b2e7",
   "metadata": {},
   "outputs": [
    {
     "data": {
      "text/plain": [
       "fraudulent\n",
       "0             11293\n",
       "1             11293\n",
       "dtype: int64"
      ]
     },
     "execution_count": 81,
     "metadata": {},
     "output_type": "execute_result"
    }
   ],
   "source": [
    "y_res.value_counts()"
   ]
  },
  {
   "cell_type": "code",
   "execution_count": 82,
   "id": "60601134",
   "metadata": {},
   "outputs": [
    {
     "name": "stdout",
     "output_type": "stream",
     "text": [
      "Epoch 1/25\n",
      "706/706 [==============================] - 8s 6ms/step - loss: 0.5245 - accuracy: 0.7239 - precision_3: 0.7221 - recall_3: 0.7277 - auc_3: 0.8139\n",
      "Epoch 2/25\n",
      "706/706 [==============================] - 5s 6ms/step - loss: 0.1618 - accuracy: 0.9409 - precision_3: 0.9226 - recall_3: 0.9626 - auc_3: 0.9806\n",
      "Epoch 3/25\n",
      "706/706 [==============================] - 4s 6ms/step - loss: 0.0876 - accuracy: 0.9711 - precision_3: 0.9598 - recall_3: 0.9834 - auc_3: 0.9930\n",
      "Epoch 4/25\n",
      "706/706 [==============================] - 5s 7ms/step - loss: 0.0592 - accuracy: 0.9802 - precision_3: 0.9730 - recall_3: 0.9878 - auc_3: 0.9968\n",
      "Epoch 5/25\n",
      "706/706 [==============================] - 4s 6ms/step - loss: 0.0436 - accuracy: 0.9857 - precision_3: 0.9800 - recall_3: 0.9917 - auc_3: 0.9978\n",
      "Epoch 6/25\n",
      "706/706 [==============================] - 4s 6ms/step - loss: 0.0346 - accuracy: 0.9888 - precision_3: 0.9851 - recall_3: 0.9927 - auc_3: 0.9987\n",
      "Epoch 7/25\n",
      "706/706 [==============================] - 4s 6ms/step - loss: 0.0313 - accuracy: 0.9891 - precision_3: 0.9849 - recall_3: 0.9934 - auc_3: 0.9989\n",
      "Epoch 8/25\n",
      "706/706 [==============================] - 4s 6ms/step - loss: 0.0269 - accuracy: 0.9910 - precision_3: 0.9883 - recall_3: 0.9938 - auc_3: 0.9991\n",
      "Epoch 9/25\n",
      "706/706 [==============================] - 4s 5ms/step - loss: 0.0239 - accuracy: 0.9921 - precision_3: 0.9896 - recall_3: 0.9946 - auc_3: 0.9992\n",
      "Epoch 10/25\n",
      "706/706 [==============================] - 4s 6ms/step - loss: 0.0244 - accuracy: 0.9923 - precision_3: 0.9904 - recall_3: 0.9942 - auc_3: 0.9991\n",
      "Epoch 11/25\n",
      "706/706 [==============================] - 5s 7ms/step - loss: 0.0188 - accuracy: 0.9936 - precision_3: 0.9922 - recall_3: 0.9950 - auc_3: 0.9994\n",
      "Epoch 12/25\n",
      "706/706 [==============================] - 5s 8ms/step - loss: 0.0224 - accuracy: 0.9931 - precision_3: 0.9921 - recall_3: 0.9941 - auc_3: 0.9993\n",
      "Epoch 13/25\n",
      "706/706 [==============================] - 5s 8ms/step - loss: 0.0206 - accuracy: 0.9930 - precision_3: 0.9915 - recall_3: 0.9945 - auc_3: 0.9993\n",
      "Epoch 14/25\n",
      "706/706 [==============================] - 4s 6ms/step - loss: 0.0176 - accuracy: 0.9942 - precision_3: 0.9927 - recall_3: 0.9958 - auc_3: 0.9995\n",
      "Epoch 15/25\n",
      "706/706 [==============================] - 4s 6ms/step - loss: 0.0191 - accuracy: 0.9938 - precision_3: 0.9918 - recall_3: 0.9957 - auc_3: 0.9993\n",
      "Epoch 16/25\n",
      "706/706 [==============================] - 4s 6ms/step - loss: 0.0158 - accuracy: 0.9951 - precision_3: 0.9943 - recall_3: 0.9958 - auc_3: 0.9996\n",
      "Epoch 17/25\n",
      "706/706 [==============================] - 5s 6ms/step - loss: 0.0165 - accuracy: 0.9943 - precision_3: 0.9939 - recall_3: 0.9948 - auc_3: 0.9995\n",
      "Epoch 18/25\n",
      "706/706 [==============================] - 4s 6ms/step - loss: 0.0174 - accuracy: 0.9947 - precision_3: 0.9942 - recall_3: 0.9951 - auc_3: 0.9995\n",
      "Epoch 19/25\n",
      "706/706 [==============================] - 4s 6ms/step - loss: 0.0181 - accuracy: 0.9943 - precision_3: 0.9933 - recall_3: 0.9954 - auc_3: 0.9993\n",
      "Epoch 20/25\n",
      "706/706 [==============================] - 5s 6ms/step - loss: 0.0157 - accuracy: 0.9950 - precision_3: 0.9947 - recall_3: 0.9952 - auc_3: 0.9995\n",
      "Epoch 21/25\n",
      "706/706 [==============================] - 4s 6ms/step - loss: 0.0116 - accuracy: 0.9960 - precision_3: 0.9953 - recall_3: 0.9966 - auc_3: 0.9998\n",
      "Epoch 22/25\n",
      "706/706 [==============================] - 4s 6ms/step - loss: 0.0135 - accuracy: 0.9954 - precision_3: 0.9945 - recall_3: 0.9964 - auc_3: 0.9996\n",
      "Epoch 23/25\n",
      "706/706 [==============================] - 4s 5ms/step - loss: 0.0119 - accuracy: 0.9964 - precision_3: 0.9956 - recall_3: 0.9972 - auc_3: 0.9995\n",
      "Epoch 24/25\n",
      "706/706 [==============================] - 4s 5ms/step - loss: 0.0113 - accuracy: 0.9962 - precision_3: 0.9963 - recall_3: 0.9962 - auc_3: 0.9996\n",
      "Epoch 25/25\n",
      "706/706 [==============================] - 4s 5ms/step - loss: 0.0160 - accuracy: 0.9945 - precision_3: 0.9934 - recall_3: 0.9956 - auc_3: 0.9995\n"
     ]
    },
    {
     "data": {
      "text/plain": [
       "<keras.callbacks.History at 0x1c50a36a550>"
      ]
     },
     "execution_count": 82,
     "metadata": {},
     "output_type": "execute_result"
    }
   ],
   "source": [
    "model.fit(X_res, y_res, epochs=25)"
   ]
  },
  {
   "cell_type": "code",
   "execution_count": 83,
   "id": "de6b12f9",
   "metadata": {},
   "outputs": [
    {
     "name": "stdout",
     "output_type": "stream",
     "text": [
      "Model: \"sequential_4\"\n",
      "_________________________________________________________________\n",
      " Layer (type)                Output Shape              Param #   \n",
      "=================================================================\n",
      " dense_20 (Dense)            (None, 256)               67584     \n",
      "                                                                 \n",
      " dropout_16 (Dropout)        (None, 256)               0         \n",
      "                                                                 \n",
      " dense_21 (Dense)            (None, 128)               32896     \n",
      "                                                                 \n",
      " dropout_17 (Dropout)        (None, 128)               0         \n",
      "                                                                 \n",
      " dense_22 (Dense)            (None, 64)                8256      \n",
      "                                                                 \n",
      " dropout_18 (Dropout)        (None, 64)                0         \n",
      "                                                                 \n",
      " dense_23 (Dense)            (None, 32)                2080      \n",
      "                                                                 \n",
      " dropout_19 (Dropout)        (None, 32)                0         \n",
      "                                                                 \n",
      " dense_24 (Dense)            (None, 1)                 33        \n",
      "                                                                 \n",
      "=================================================================\n",
      "Total params: 110,849\n",
      "Trainable params: 110,849\n",
      "Non-trainable params: 0\n",
      "_________________________________________________________________\n"
     ]
    }
   ],
   "source": [
    "model.summary()"
   ]
  },
  {
   "cell_type": "code",
   "execution_count": 84,
   "id": "f87bdc18",
   "metadata": {},
   "outputs": [
    {
     "name": "stdout",
     "output_type": "stream",
     "text": [
      "706/706 [==============================] - 3s 3ms/step - loss: 0.0037 - accuracy: 0.9987 - precision_3: 0.9974 - recall_3: 1.0000 - auc_3: 1.0000\n",
      "[0.0037445640191435814, 0.9987159967422485, 0.9974386096000671, 1.0, 0.9999555945396423]\n"
     ]
    }
   ],
   "source": [
    "train_score = model.evaluate(X_res, y_res)\n",
    "print(train_score)"
   ]
  },
  {
   "cell_type": "code",
   "execution_count": 85,
   "id": "0c465483",
   "metadata": {},
   "outputs": [
    {
     "name": "stdout",
     "output_type": "stream",
     "text": [
      "360/360 [==============================] - 1s 3ms/step\n",
      "0.9389473684210526\n"
     ]
    }
   ],
   "source": [
    "## Train Prediction\n",
    "y_tr_pred = model.predict(X_train)\n",
    "y_t_pred = np.where(y_tr_pred < 0.5, 0, 1)\n",
    "print(f1_score(y_train, y_t_pred))"
   ]
  },
  {
   "cell_type": "code",
   "execution_count": 86,
   "id": "51901914",
   "metadata": {},
   "outputs": [
    {
     "name": "stdout",
     "output_type": "stream",
     "text": [
      "0.997481764501563\n",
      "0.8849206349206349\n",
      "1.0\n",
      "0.9389473684210526\n"
     ]
    }
   ],
   "source": [
    "print(accuracy_score(y_train, y_t_pred))\n",
    "print(precision_score(y_train, y_t_pred))\n",
    "print(recall_score(y_train, y_t_pred))\n",
    "print(f1_score(y_train, y_t_pred))"
   ]
  },
  {
   "cell_type": "code",
   "execution_count": 87,
   "id": "b2641d1e",
   "metadata": {},
   "outputs": [
    {
     "name": "stdout",
     "output_type": "stream",
     "text": [
      "90/90 [==============================] - 0s 3ms/step\n"
     ]
    }
   ],
   "source": [
    "## Test Prediction\n",
    "pred = model.predict(X_test)\n",
    "y_pred = np.where(pred < 0.5, 0, 1)"
   ]
  },
  {
   "cell_type": "code",
   "execution_count": 88,
   "id": "c65dfbf8",
   "metadata": {},
   "outputs": [
    {
     "name": "stdout",
     "output_type": "stream",
     "text": [
      "              precision    recall  f1-score   support\n",
      "\n",
      "           0       1.00      0.99      1.00      2824\n",
      "           1       0.75      0.88      0.81        56\n",
      "\n",
      "    accuracy                           0.99      2880\n",
      "   macro avg       0.88      0.93      0.90      2880\n",
      "weighted avg       0.99      0.99      0.99      2880\n",
      "\n"
     ]
    }
   ],
   "source": [
    "print(classification_report(y_test, y_pred))"
   ]
  },
  {
   "cell_type": "code",
   "execution_count": 89,
   "id": "9933c485",
   "metadata": {},
   "outputs": [
    {
     "name": "stdout",
     "output_type": "stream",
     "text": [
      "0.9920138888888889\n",
      "0.7538461538461538\n",
      "0.875\n",
      "0.8099173553719008\n"
     ]
    }
   ],
   "source": [
    "print(accuracy_score(y_test, y_pred))\n",
    "print(precision_score(y_test, y_pred))\n",
    "print(recall_score(y_test, y_pred))\n",
    "print(f1_score(y_test, y_pred))"
   ]
  },
  {
   "cell_type": "markdown",
   "id": "5ee0c539",
   "metadata": {},
   "source": [
    "### SMOTE"
   ]
  },
  {
   "cell_type": "code",
   "execution_count": 90,
   "id": "174a6225",
   "metadata": {},
   "outputs": [],
   "source": [
    "sme = SMOTEENN(sampling_strategy=0.5, random_state=42, \n",
    "               smote=SMOTE(sampling_strategy=1, k_neighbors=7, random_state=42), \n",
    "               enn=EditedNearestNeighbours(n_neighbors=3))"
   ]
  },
  {
   "cell_type": "code",
   "execution_count": 91,
   "id": "5ded40e7",
   "metadata": {},
   "outputs": [],
   "source": [
    "X_res, y_res = sme.fit_resample(X_train, y_train)"
   ]
  },
  {
   "cell_type": "code",
   "execution_count": 92,
   "id": "0989e9a5",
   "metadata": {},
   "outputs": [
    {
     "data": {
      "text/plain": [
       "fraudulent\n",
       "0             11293\n",
       "1             11284\n",
       "dtype: int64"
      ]
     },
     "execution_count": 92,
     "metadata": {},
     "output_type": "execute_result"
    }
   ],
   "source": [
    "y_res.value_counts()"
   ]
  },
  {
   "cell_type": "code",
   "execution_count": 93,
   "id": "e7ebc0f4",
   "metadata": {},
   "outputs": [
    {
     "name": "stdout",
     "output_type": "stream",
     "text": [
      "Epoch 1/25\n",
      "706/706 [==============================] - 4s 5ms/step - loss: 0.0195 - accuracy: 0.9926 - precision_3: 0.9914 - recall_3: 0.9939 - auc_3: 0.9995\n",
      "Epoch 2/25\n",
      "706/706 [==============================] - 4s 5ms/step - loss: 0.0150 - accuracy: 0.9947 - precision_3: 0.9940 - recall_3: 0.9954 - auc_3: 0.9995\n",
      "Epoch 3/25\n",
      "706/706 [==============================] - 4s 5ms/step - loss: 0.0145 - accuracy: 0.9954 - precision_3: 0.9952 - recall_3: 0.9957 - auc_3: 0.9996\n",
      "Epoch 4/25\n",
      "706/706 [==============================] - 4s 6ms/step - loss: 0.0135 - accuracy: 0.9957 - precision_3: 0.9946 - recall_3: 0.9968 - auc_3: 0.9997\n",
      "Epoch 5/25\n",
      "706/706 [==============================] - 4s 6ms/step - loss: 0.0091 - accuracy: 0.9973 - precision_3: 0.9963 - recall_3: 0.9982 - auc_3: 0.9998\n",
      "Epoch 6/25\n",
      "706/706 [==============================] - 4s 5ms/step - loss: 0.0080 - accuracy: 0.9972 - precision_3: 0.9964 - recall_3: 0.9981 - auc_3: 0.9998\n",
      "Epoch 7/25\n",
      "706/706 [==============================] - 4s 6ms/step - loss: 0.0110 - accuracy: 0.9964 - precision_3: 0.9957 - recall_3: 0.9972 - auc_3: 0.9997\n",
      "Epoch 8/25\n",
      "706/706 [==============================] - 4s 5ms/step - loss: 0.0128 - accuracy: 0.9956 - precision_3: 0.9943 - recall_3: 0.9969 - auc_3: 0.9996\n",
      "Epoch 9/25\n",
      "706/706 [==============================] - 4s 5ms/step - loss: 0.0144 - accuracy: 0.9958 - precision_3: 0.9951 - recall_3: 0.9965 - auc_3: 0.9995\n",
      "Epoch 10/25\n",
      "706/706 [==============================] - 4s 5ms/step - loss: 0.0085 - accuracy: 0.9973 - precision_3: 0.9968 - recall_3: 0.9979 - auc_3: 0.9997\n",
      "Epoch 11/25\n",
      "706/706 [==============================] - 4s 5ms/step - loss: 0.0083 - accuracy: 0.9975 - precision_3: 0.9966 - recall_3: 0.9985 - auc_3: 0.9998\n",
      "Epoch 12/25\n",
      "706/706 [==============================] - 4s 5ms/step - loss: 0.0109 - accuracy: 0.9962 - precision_3: 0.9953 - recall_3: 0.9971 - auc_3: 0.9996\n",
      "Epoch 13/25\n",
      "706/706 [==============================] - 4s 5ms/step - loss: 0.0064 - accuracy: 0.9983 - precision_3: 0.9978 - recall_3: 0.9988 - auc_3: 0.9998\n",
      "Epoch 14/25\n",
      "706/706 [==============================] - 4s 5ms/step - loss: 0.0084 - accuracy: 0.9976 - precision_3: 0.9967 - recall_3: 0.9985 - auc_3: 0.9997\n",
      "Epoch 15/25\n",
      "706/706 [==============================] - 4s 5ms/step - loss: 0.0097 - accuracy: 0.9966 - precision_3: 0.9956 - recall_3: 0.9977 - auc_3: 0.9997\n",
      "Epoch 16/25\n",
      "706/706 [==============================] - 4s 5ms/step - loss: 0.0076 - accuracy: 0.9976 - precision_3: 0.9971 - recall_3: 0.9981 - auc_3: 0.9998\n",
      "Epoch 17/25\n",
      "706/706 [==============================] - 4s 5ms/step - loss: 0.0049 - accuracy: 0.9985 - precision_3: 0.9981 - recall_3: 0.9990 - auc_3: 0.9999\n",
      "Epoch 18/25\n",
      "706/706 [==============================] - 4s 5ms/step - loss: 0.0101 - accuracy: 0.9963 - precision_3: 0.9954 - recall_3: 0.9972 - auc_3: 0.9997\n",
      "Epoch 19/25\n",
      "706/706 [==============================] - 4s 5ms/step - loss: 0.0076 - accuracy: 0.9979 - precision_3: 0.9971 - recall_3: 0.9987 - auc_3: 0.9997\n",
      "Epoch 20/25\n",
      "706/706 [==============================] - 4s 5ms/step - loss: 0.0056 - accuracy: 0.9979 - precision_3: 0.9973 - recall_3: 0.9985 - auc_3: 0.9999\n",
      "Epoch 21/25\n",
      "706/706 [==============================] - 4s 5ms/step - loss: 0.0075 - accuracy: 0.9977 - precision_3: 0.9967 - recall_3: 0.9987 - auc_3: 0.9997\n",
      "Epoch 22/25\n",
      "706/706 [==============================] - 4s 5ms/step - loss: 0.0068 - accuracy: 0.9976 - precision_3: 0.9970 - recall_3: 0.9982 - auc_3: 0.9998\n",
      "Epoch 23/25\n",
      "706/706 [==============================] - 4s 5ms/step - loss: 0.0055 - accuracy: 0.9978 - precision_3: 0.9970 - recall_3: 0.9987 - auc_3: 0.9999\n",
      "Epoch 24/25\n",
      "706/706 [==============================] - 4s 6ms/step - loss: 0.0083 - accuracy: 0.9973 - precision_3: 0.9966 - recall_3: 0.9979 - auc_3: 0.9996\n",
      "Epoch 25/25\n",
      "706/706 [==============================] - 4s 5ms/step - loss: 0.0059 - accuracy: 0.9981 - precision_3: 0.9974 - recall_3: 0.9988 - auc_3: 0.9999\n"
     ]
    },
    {
     "data": {
      "text/plain": [
       "<keras.callbacks.History at 0x1c51951c970>"
      ]
     },
     "execution_count": 93,
     "metadata": {},
     "output_type": "execute_result"
    }
   ],
   "source": [
    "model.fit(X_res, y_res, epochs=25)"
   ]
  },
  {
   "cell_type": "code",
   "execution_count": 94,
   "id": "b91a2da8",
   "metadata": {},
   "outputs": [
    {
     "name": "stdout",
     "output_type": "stream",
     "text": [
      "Model: \"sequential_4\"\n",
      "_________________________________________________________________\n",
      " Layer (type)                Output Shape              Param #   \n",
      "=================================================================\n",
      " dense_20 (Dense)            (None, 256)               67584     \n",
      "                                                                 \n",
      " dropout_16 (Dropout)        (None, 256)               0         \n",
      "                                                                 \n",
      " dense_21 (Dense)            (None, 128)               32896     \n",
      "                                                                 \n",
      " dropout_17 (Dropout)        (None, 128)               0         \n",
      "                                                                 \n",
      " dense_22 (Dense)            (None, 64)                8256      \n",
      "                                                                 \n",
      " dropout_18 (Dropout)        (None, 64)                0         \n",
      "                                                                 \n",
      " dense_23 (Dense)            (None, 32)                2080      \n",
      "                                                                 \n",
      " dropout_19 (Dropout)        (None, 32)                0         \n",
      "                                                                 \n",
      " dense_24 (Dense)            (None, 1)                 33        \n",
      "                                                                 \n",
      "=================================================================\n",
      "Total params: 110,849\n",
      "Trainable params: 110,849\n",
      "Non-trainable params: 0\n",
      "_________________________________________________________________\n"
     ]
    }
   ],
   "source": [
    "model.summary()"
   ]
  },
  {
   "cell_type": "code",
   "execution_count": 95,
   "id": "9bc45d1c",
   "metadata": {},
   "outputs": [
    {
     "name": "stdout",
     "output_type": "stream",
     "text": [
      "706/706 [==============================] - 2s 3ms/step - loss: 4.0443e-05 - accuracy: 1.0000 - precision_3: 1.0000 - recall_3: 1.0000 - auc_3: 1.0000\n",
      "[4.044349043397233e-05, 1.0, 1.0, 1.0, 1.0000001192092896]\n"
     ]
    }
   ],
   "source": [
    "train_score = model.evaluate(X_res, y_res)\n",
    "print(train_score)"
   ]
  },
  {
   "cell_type": "code",
   "execution_count": 96,
   "id": "905343e2",
   "metadata": {},
   "outputs": [
    {
     "name": "stdout",
     "output_type": "stream",
     "text": [
      "90/90 [==============================] - 0s 3ms/step\n"
     ]
    }
   ],
   "source": [
    "## Test Prediction\n",
    "pred = model.predict(X_test)\n",
    "y_pred = np.where(pred < 0.5, 0, 1)"
   ]
  },
  {
   "cell_type": "code",
   "execution_count": 97,
   "id": "ef604cfb",
   "metadata": {},
   "outputs": [
    {
     "name": "stdout",
     "output_type": "stream",
     "text": [
      "              precision    recall  f1-score   support\n",
      "\n",
      "           0       0.99      1.00      1.00      2824\n",
      "           1       0.85      0.70      0.76        56\n",
      "\n",
      "    accuracy                           0.99      2880\n",
      "   macro avg       0.92      0.85      0.88      2880\n",
      "weighted avg       0.99      0.99      0.99      2880\n",
      "\n"
     ]
    }
   ],
   "source": [
    "print(classification_report(y_test, y_pred))"
   ]
  },
  {
   "cell_type": "code",
   "execution_count": 98,
   "id": "92abe333",
   "metadata": {},
   "outputs": [
    {
     "name": "stdout",
     "output_type": "stream",
     "text": [
      "0.9916666666666667\n",
      "0.8478260869565217\n",
      "0.6964285714285714\n",
      "0.7647058823529412\n"
     ]
    }
   ],
   "source": [
    "print(accuracy_score(y_test, y_pred))\n",
    "print(precision_score(y_test, y_pred))\n",
    "print(recall_score(y_test, y_pred))\n",
    "print(f1_score(y_test, y_pred))"
   ]
  },
  {
   "cell_type": "markdown",
   "id": "ced0a597",
   "metadata": {},
   "source": [
    "### ADASYN"
   ]
  },
  {
   "cell_type": "code",
   "execution_count": 99,
   "id": "339cff55",
   "metadata": {},
   "outputs": [],
   "source": [
    "ada = ADASYN(sampling_strategy = 1, random_state=42, n_neighbors = 2)\n",
    "X_res, y_res = ada.fit_resample(X_train, y_train)"
   ]
  },
  {
   "cell_type": "code",
   "execution_count": 100,
   "id": "346dbabb",
   "metadata": {},
   "outputs": [
    {
     "data": {
      "text/plain": [
       "fraudulent\n",
       "0             11293\n",
       "1             11286\n",
       "dtype: int64"
      ]
     },
     "execution_count": 100,
     "metadata": {},
     "output_type": "execute_result"
    }
   ],
   "source": [
    "y_res.value_counts()"
   ]
  },
  {
   "cell_type": "code",
   "execution_count": 101,
   "id": "0f992d82",
   "metadata": {},
   "outputs": [
    {
     "name": "stdout",
     "output_type": "stream",
     "text": [
      "Epoch 1/25\n",
      "706/706 [==============================] - 4s 5ms/step - loss: 0.0073 - accuracy: 0.9982 - precision_3: 0.9977 - recall_3: 0.9987 - auc_3: 0.9997\n",
      "Epoch 2/25\n",
      "706/706 [==============================] - 4s 5ms/step - loss: 0.0077 - accuracy: 0.9976 - precision_3: 0.9969 - recall_3: 0.9982 - auc_3: 0.9999\n",
      "Epoch 3/25\n",
      "706/706 [==============================] - 4s 5ms/step - loss: 0.0053 - accuracy: 0.9981 - precision_3: 0.9979 - recall_3: 0.9984 - auc_3: 0.9998\n",
      "Epoch 4/25\n",
      "706/706 [==============================] - 4s 6ms/step - loss: 0.0072 - accuracy: 0.9981 - precision_3: 0.9973 - recall_3: 0.9988 - auc_3: 0.9999\n",
      "Epoch 5/25\n",
      "706/706 [==============================] - 4s 6ms/step - loss: 0.0068 - accuracy: 0.9984 - precision_3: 0.9979 - recall_3: 0.9989 - auc_3: 0.9998\n",
      "Epoch 6/25\n",
      "706/706 [==============================] - 4s 5ms/step - loss: 0.0065 - accuracy: 0.9982 - precision_3: 0.9976 - recall_3: 0.9988 - auc_3: 0.9999\n",
      "Epoch 7/25\n",
      "706/706 [==============================] - 4s 5ms/step - loss: 0.0066 - accuracy: 0.9980 - precision_3: 0.9973 - recall_3: 0.9987 - auc_3: 0.9998\n",
      "Epoch 8/25\n",
      "706/706 [==============================] - 4s 5ms/step - loss: 0.0050 - accuracy: 0.9985 - precision_3: 0.9985 - recall_3: 0.9985 - auc_3: 0.9999\n",
      "Epoch 9/25\n",
      "706/706 [==============================] - 4s 6ms/step - loss: 0.0048 - accuracy: 0.9987 - precision_3: 0.9982 - recall_3: 0.9991 - auc_3: 0.9999\n",
      "Epoch 10/25\n",
      "706/706 [==============================] - 4s 6ms/step - loss: 0.0071 - accuracy: 0.9973 - precision_3: 0.9970 - recall_3: 0.9975 - auc_3: 0.9998\n",
      "Epoch 11/25\n",
      "706/706 [==============================] - 4s 5ms/step - loss: 0.0061 - accuracy: 0.9984 - precision_3: 0.9979 - recall_3: 0.9990 - auc_3: 0.9998\n",
      "Epoch 12/25\n",
      "706/706 [==============================] - 4s 5ms/step - loss: 0.0042 - accuracy: 0.9988 - precision_3: 0.9987 - recall_3: 0.9989 - auc_3: 0.9999\n",
      "Epoch 13/25\n",
      "706/706 [==============================] - 4s 6ms/step - loss: 0.0082 - accuracy: 0.9974 - precision_3: 0.9976 - recall_3: 0.9972 - auc_3: 0.9997\n",
      "Epoch 14/25\n",
      "706/706 [==============================] - 4s 5ms/step - loss: 0.0040 - accuracy: 0.9991 - precision_3: 0.9988 - recall_3: 0.9993 - auc_3: 0.9999\n",
      "Epoch 15/25\n",
      "706/706 [==============================] - 4s 5ms/step - loss: 0.0063 - accuracy: 0.9982 - precision_3: 0.9975 - recall_3: 0.9988 - auc_3: 0.9997\n",
      "Epoch 16/25\n",
      "706/706 [==============================] - 4s 5ms/step - loss: 0.0035 - accuracy: 0.9989 - precision_3: 0.9988 - recall_3: 0.9991 - auc_3: 0.9999\n",
      "Epoch 17/25\n",
      "706/706 [==============================] - 4s 5ms/step - loss: 0.0083 - accuracy: 0.9976 - precision_3: 0.9973 - recall_3: 0.9979 - auc_3: 0.9998\n",
      "Epoch 18/25\n",
      "706/706 [==============================] - 4s 5ms/step - loss: 0.0055 - accuracy: 0.9984 - precision_3: 0.9982 - recall_3: 0.9987 - auc_3: 0.9999\n",
      "Epoch 19/25\n",
      "706/706 [==============================] - 4s 5ms/step - loss: 0.0065 - accuracy: 0.9979 - precision_3: 0.9973 - recall_3: 0.9986 - auc_3: 0.9998\n",
      "Epoch 20/25\n",
      "706/706 [==============================] - 4s 5ms/step - loss: 0.0031 - accuracy: 0.9992 - precision_3: 0.9990 - recall_3: 0.9994 - auc_3: 0.9999\n",
      "Epoch 21/25\n",
      "706/706 [==============================] - 4s 5ms/step - loss: 0.0059 - accuracy: 0.9984 - precision_3: 0.9982 - recall_3: 0.9987 - auc_3: 0.9998\n",
      "Epoch 22/25\n",
      "706/706 [==============================] - 4s 5ms/step - loss: 0.0032 - accuracy: 0.9991 - precision_3: 0.9989 - recall_3: 0.9993 - auc_3: 0.9999\n",
      "Epoch 23/25\n",
      "706/706 [==============================] - 4s 5ms/step - loss: 0.0047 - accuracy: 0.9985 - precision_3: 0.9988 - recall_3: 0.9983 - auc_3: 0.9999\n",
      "Epoch 24/25\n",
      "706/706 [==============================] - 4s 5ms/step - loss: 0.0050 - accuracy: 0.9987 - precision_3: 0.9986 - recall_3: 0.9988 - auc_3: 0.9999\n",
      "Epoch 25/25\n",
      "706/706 [==============================] - 4s 6ms/step - loss: 0.0051 - accuracy: 0.9984 - precision_3: 0.9981 - recall_3: 0.9988 - auc_3: 0.9998\n"
     ]
    },
    {
     "data": {
      "text/plain": [
       "<keras.callbacks.History at 0x1c5195697c0>"
      ]
     },
     "execution_count": 101,
     "metadata": {},
     "output_type": "execute_result"
    }
   ],
   "source": [
    "model.fit(X_res, y_res, epochs=25)"
   ]
  },
  {
   "cell_type": "code",
   "execution_count": 102,
   "id": "af82c4bb",
   "metadata": {},
   "outputs": [
    {
     "name": "stdout",
     "output_type": "stream",
     "text": [
      "Model: \"sequential_4\"\n",
      "_________________________________________________________________\n",
      " Layer (type)                Output Shape              Param #   \n",
      "=================================================================\n",
      " dense_20 (Dense)            (None, 256)               67584     \n",
      "                                                                 \n",
      " dropout_16 (Dropout)        (None, 256)               0         \n",
      "                                                                 \n",
      " dense_21 (Dense)            (None, 128)               32896     \n",
      "                                                                 \n",
      " dropout_17 (Dropout)        (None, 128)               0         \n",
      "                                                                 \n",
      " dense_22 (Dense)            (None, 64)                8256      \n",
      "                                                                 \n",
      " dropout_18 (Dropout)        (None, 64)                0         \n",
      "                                                                 \n",
      " dense_23 (Dense)            (None, 32)                2080      \n",
      "                                                                 \n",
      " dropout_19 (Dropout)        (None, 32)                0         \n",
      "                                                                 \n",
      " dense_24 (Dense)            (None, 1)                 33        \n",
      "                                                                 \n",
      "=================================================================\n",
      "Total params: 110,849\n",
      "Trainable params: 110,849\n",
      "Non-trainable params: 0\n",
      "_________________________________________________________________\n"
     ]
    }
   ],
   "source": [
    "model.summary()"
   ]
  },
  {
   "cell_type": "code",
   "execution_count": 103,
   "id": "905f9d9d",
   "metadata": {},
   "outputs": [
    {
     "name": "stdout",
     "output_type": "stream",
     "text": [
      "706/706 [==============================] - 2s 3ms/step - loss: 1.7508e-04 - accuracy: 1.0000 - precision_3: 1.0000 - recall_3: 0.9999 - auc_3: 1.0000\n",
      "[0.0001750803057802841, 0.9999557137489319, 1.0, 0.999911367893219, 1.0]\n"
     ]
    }
   ],
   "source": [
    "train_score = model.evaluate(X_res, y_res)\n",
    "print(train_score)"
   ]
  },
  {
   "cell_type": "code",
   "execution_count": 104,
   "id": "0c387d1a",
   "metadata": {},
   "outputs": [
    {
     "name": "stdout",
     "output_type": "stream",
     "text": [
      "360/360 [==============================] - 1s 3ms/step\n",
      "0.9977528089887641\n"
     ]
    }
   ],
   "source": [
    "## Train Prediction\n",
    "y_tr_pred = model.predict(X_train)\n",
    "y_t_pred = np.where(y_tr_pred < 0.5, 0, 1)\n",
    "print(f1_score(y_train, y_t_pred))"
   ]
  },
  {
   "cell_type": "code",
   "execution_count": 105,
   "id": "2e040c23",
   "metadata": {},
   "outputs": [
    {
     "name": "stdout",
     "output_type": "stream",
     "text": [
      "90/90 [==============================] - 0s 3ms/step\n"
     ]
    }
   ],
   "source": [
    "## Test Prediction\n",
    "pred = model.predict(X_test)\n",
    "y_pred = np.where(pred < 0.5, 0, 1)"
   ]
  },
  {
   "cell_type": "code",
   "execution_count": 106,
   "id": "fdc7758c",
   "metadata": {},
   "outputs": [
    {
     "name": "stdout",
     "output_type": "stream",
     "text": [
      "              precision    recall  f1-score   support\n",
      "\n",
      "           0       0.99      1.00      1.00      2824\n",
      "           1       0.88      0.62      0.73        56\n",
      "\n",
      "    accuracy                           0.99      2880\n",
      "   macro avg       0.93      0.81      0.86      2880\n",
      "weighted avg       0.99      0.99      0.99      2880\n",
      "\n"
     ]
    }
   ],
   "source": [
    "print(classification_report(y_test, y_pred))"
   ]
  },
  {
   "cell_type": "code",
   "execution_count": 107,
   "id": "61a59ea2",
   "metadata": {},
   "outputs": [
    {
     "name": "stdout",
     "output_type": "stream",
     "text": [
      "0.9909722222222223\n",
      "0.875\n",
      "0.625\n",
      "0.7291666666666666\n"
     ]
    }
   ],
   "source": [
    "print(accuracy_score(y_test, y_pred))\n",
    "print(precision_score(y_test, y_pred))\n",
    "print(recall_score(y_test, y_pred))\n",
    "print(f1_score(y_test, y_pred))"
   ]
  },
  {
   "cell_type": "markdown",
   "id": "0e707aac",
   "metadata": {},
   "source": [
    "## CNN"
   ]
  },
  {
   "cell_type": "markdown",
   "id": "1fd3dab6",
   "metadata": {},
   "source": [
    "### Base Model"
   ]
  },
  {
   "cell_type": "code",
   "execution_count": 108,
   "id": "eba24c35",
   "metadata": {},
   "outputs": [],
   "source": [
    "cnn_model = Sequential()\n",
    "cnn_model.add(Conv1D(32, 3, activation='relu', input_shape=(X_res.shape[1], 1)))\n",
    "cnn_model.add(MaxPooling1D(pool_size=2, strides=3))\n",
    "cnn_model.add(Flatten())\n",
    "cnn_model.add(Dense(256, activation='relu'))\n",
    "cnn_model.add(Dropout(0.2))\n",
    "cnn_model.add(Dense(128, activation='relu'))\n",
    "cnn_model.add(Dropout(0.2))\n",
    "cnn_model.add(Dense(64, activation='relu'))\n",
    "cnn_model.add(Dropout(0.2))\n",
    "cnn_model.add(Dense(32, activation='relu'))\n",
    "cnn_model.add(Dropout(0.2))\n",
    "cnn_model.add(Dense(1, activation='sigmoid'))\n",
    "cnn_model.compile(loss='binary_crossentropy', optimizer='adam', metrics=['accuracy',metrics.Precision(), metrics.Recall(),metrics.AUC()])"
   ]
  },
  {
   "cell_type": "markdown",
   "id": "28114052",
   "metadata": {},
   "source": [
    "### Random OverSampler"
   ]
  },
  {
   "cell_type": "code",
   "execution_count": 109,
   "id": "1ad34884",
   "metadata": {},
   "outputs": [],
   "source": [
    "ros = RandomOverSampler(sampling_strategy = 1, random_state=42)\n",
    "X_res, y_res = ros.fit_resample(X_train, y_train)"
   ]
  },
  {
   "cell_type": "code",
   "execution_count": 110,
   "id": "2ab79f17",
   "metadata": {},
   "outputs": [
    {
     "data": {
      "text/plain": [
       "fraudulent\n",
       "0             11293\n",
       "1             11293\n",
       "dtype: int64"
      ]
     },
     "execution_count": 110,
     "metadata": {},
     "output_type": "execute_result"
    }
   ],
   "source": [
    "y_res.value_counts()"
   ]
  },
  {
   "cell_type": "code",
   "execution_count": 111,
   "id": "67a91bfb",
   "metadata": {},
   "outputs": [
    {
     "name": "stdout",
     "output_type": "stream",
     "text": [
      "Epoch 1/25\n",
      "706/706 [==============================] - 13s 14ms/step - loss: 0.3523 - accuracy: 0.8317 - precision_4: 0.8175 - recall_4: 0.8541 - auc_4: 0.9195\n",
      "Epoch 2/25\n",
      "706/706 [==============================] - 10s 14ms/step - loss: 0.1332 - accuracy: 0.9517 - precision_4: 0.9371 - recall_4: 0.9684 - auc_4: 0.9872\n",
      "Epoch 3/25\n",
      "706/706 [==============================] - 10s 15ms/step - loss: 0.0736 - accuracy: 0.9746 - precision_4: 0.9675 - recall_4: 0.9821 - auc_4: 0.9955\n",
      "Epoch 4/25\n",
      "706/706 [==============================] - 10s 15ms/step - loss: 0.0513 - accuracy: 0.9830 - precision_4: 0.9799 - recall_4: 0.9862 - auc_4: 0.9977\n",
      "Epoch 5/25\n",
      "706/706 [==============================] - 11s 15ms/step - loss: 0.0345 - accuracy: 0.9885 - precision_4: 0.9866 - recall_4: 0.9905 - auc_4: 0.9988\n",
      "Epoch 6/25\n",
      "706/706 [==============================] - 10s 14ms/step - loss: 0.0303 - accuracy: 0.9896 - precision_4: 0.9881 - recall_4: 0.9911 - auc_4: 0.9991\n",
      "Epoch 7/25\n",
      "706/706 [==============================] - 10s 15ms/step - loss: 0.0254 - accuracy: 0.9920 - precision_4: 0.9919 - recall_4: 0.9920 - auc_4: 0.9992\n",
      "Epoch 8/25\n",
      "706/706 [==============================] - 11s 16ms/step - loss: 0.0185 - accuracy: 0.9935 - precision_4: 0.9939 - recall_4: 0.9931 - auc_4: 0.9995\n",
      "Epoch 9/25\n",
      "706/706 [==============================] - 12s 17ms/step - loss: 0.0213 - accuracy: 0.9924 - precision_4: 0.9922 - recall_4: 0.9926 - auc_4: 0.9994\n",
      "Epoch 10/25\n",
      "706/706 [==============================] - 11s 15ms/step - loss: 0.0171 - accuracy: 0.9942 - precision_4: 0.9948 - recall_4: 0.9937 - auc_4: 0.9996\n",
      "Epoch 11/25\n",
      "706/706 [==============================] - 10s 15ms/step - loss: 0.0156 - accuracy: 0.9952 - precision_4: 0.9955 - recall_4: 0.9949 - auc_4: 0.9994\n",
      "Epoch 12/25\n",
      "706/706 [==============================] - 10s 15ms/step - loss: 0.0144 - accuracy: 0.9950 - precision_4: 0.9951 - recall_4: 0.9948 - auc_4: 0.9995\n",
      "Epoch 13/25\n",
      "706/706 [==============================] - 12s 17ms/step - loss: 0.0125 - accuracy: 0.9961 - precision_4: 0.9966 - recall_4: 0.9956 - auc_4: 0.9997\n",
      "Epoch 14/25\n",
      "706/706 [==============================] - 11s 16ms/step - loss: 0.0163 - accuracy: 0.9948 - precision_4: 0.9946 - recall_4: 0.9950 - auc_4: 0.9995\n",
      "Epoch 15/25\n",
      "706/706 [==============================] - 10s 14ms/step - loss: 0.0112 - accuracy: 0.9965 - precision_4: 0.9962 - recall_4: 0.9967 - auc_4: 0.9998\n",
      "Epoch 16/25\n",
      "706/706 [==============================] - 12s 17ms/step - loss: 0.0104 - accuracy: 0.9967 - precision_4: 0.9963 - recall_4: 0.9971 - auc_4: 0.9996\n",
      "Epoch 17/25\n",
      "706/706 [==============================] - 11s 16ms/step - loss: 0.0092 - accuracy: 0.9973 - precision_4: 0.9975 - recall_4: 0.9972 - auc_4: 0.9997\n",
      "Epoch 18/25\n",
      "706/706 [==============================] - 10s 14ms/step - loss: 0.0104 - accuracy: 0.9965 - precision_4: 0.9965 - recall_4: 0.9965 - auc_4: 0.9998\n",
      "Epoch 19/25\n",
      "706/706 [==============================] - 11s 16ms/step - loss: 0.0074 - accuracy: 0.9976 - precision_4: 0.9971 - recall_4: 0.9981 - auc_4: 0.9998\n",
      "Epoch 20/25\n",
      "706/706 [==============================] - 11s 15ms/step - loss: 0.0094 - accuracy: 0.9966 - precision_4: 0.9966 - recall_4: 0.9965 - auc_4: 0.9999\n",
      "Epoch 21/25\n",
      "706/706 [==============================] - 12s 17ms/step - loss: 0.0098 - accuracy: 0.9965 - precision_4: 0.9959 - recall_4: 0.9972 - auc_4: 0.9998\n",
      "Epoch 22/25\n",
      "706/706 [==============================] - 11s 16ms/step - loss: 0.0074 - accuracy: 0.9975 - precision_4: 0.9975 - recall_4: 0.9974 - auc_4: 0.9998\n",
      "Epoch 23/25\n",
      "706/706 [==============================] - 11s 15ms/step - loss: 0.0081 - accuracy: 0.9971 - precision_4: 0.9977 - recall_4: 0.9965 - auc_4: 0.9998\n",
      "Epoch 24/25\n",
      "706/706 [==============================] - 11s 16ms/step - loss: 0.0060 - accuracy: 0.9984 - precision_4: 0.9984 - recall_4: 0.9983 - auc_4: 0.9997\n",
      "Epoch 25/25\n",
      "706/706 [==============================] - 11s 15ms/step - loss: 0.0087 - accuracy: 0.9973 - precision_4: 0.9978 - recall_4: 0.9969 - auc_4: 0.9998\n"
     ]
    },
    {
     "data": {
      "text/plain": [
       "<keras.callbacks.History at 0x1c5191913d0>"
      ]
     },
     "execution_count": 111,
     "metadata": {},
     "output_type": "execute_result"
    }
   ],
   "source": [
    "cnn_model.fit(X_res, y_res, epochs=25)"
   ]
  },
  {
   "cell_type": "code",
   "execution_count": 112,
   "id": "ba946665",
   "metadata": {},
   "outputs": [
    {
     "name": "stdout",
     "output_type": "stream",
     "text": [
      "Model: \"sequential_5\"\n",
      "_________________________________________________________________\n",
      " Layer (type)                Output Shape              Param #   \n",
      "=================================================================\n",
      " conv1d_2 (Conv1D)           (None, 261, 32)           128       \n",
      "                                                                 \n",
      " max_pooling1d_2 (MaxPooling  (None, 87, 32)           0         \n",
      " 1D)                                                             \n",
      "                                                                 \n",
      " flatten_2 (Flatten)         (None, 2784)              0         \n",
      "                                                                 \n",
      " dense_25 (Dense)            (None, 256)               712960    \n",
      "                                                                 \n",
      " dropout_20 (Dropout)        (None, 256)               0         \n",
      "                                                                 \n",
      " dense_26 (Dense)            (None, 128)               32896     \n",
      "                                                                 \n",
      " dropout_21 (Dropout)        (None, 128)               0         \n",
      "                                                                 \n",
      " dense_27 (Dense)            (None, 64)                8256      \n",
      "                                                                 \n",
      " dropout_22 (Dropout)        (None, 64)                0         \n",
      "                                                                 \n",
      " dense_28 (Dense)            (None, 32)                2080      \n",
      "                                                                 \n",
      " dropout_23 (Dropout)        (None, 32)                0         \n",
      "                                                                 \n",
      " dense_29 (Dense)            (None, 1)                 33        \n",
      "                                                                 \n",
      "=================================================================\n",
      "Total params: 756,353\n",
      "Trainable params: 756,353\n",
      "Non-trainable params: 0\n",
      "_________________________________________________________________\n"
     ]
    }
   ],
   "source": [
    "cnn_model.summary()"
   ]
  },
  {
   "cell_type": "code",
   "execution_count": 113,
   "id": "571259b7",
   "metadata": {},
   "outputs": [
    {
     "name": "stdout",
     "output_type": "stream",
     "text": [
      "706/706 [==============================] - 5s 6ms/step - loss: 5.5741e-04 - accuracy: 1.0000 - precision_4: 0.9999 - recall_4: 1.0000 - auc_4: 1.0000\n",
      "[0.0005574066890403628, 0.9999557137489319, 0.9999114871025085, 1.0, 1.0000001192092896]\n"
     ]
    }
   ],
   "source": [
    "train_score = cnn_model.evaluate(X_res, y_res)\n",
    "print(train_score)"
   ]
  },
  {
   "cell_type": "code",
   "execution_count": 114,
   "id": "f7fe823d",
   "metadata": {},
   "outputs": [
    {
     "name": "stdout",
     "output_type": "stream",
     "text": [
      "90/90 [==============================] - 1s 5ms/step\n"
     ]
    }
   ],
   "source": [
    "pred = cnn_model.predict(X_test)\n",
    "y_pred = np.where(pred < 0.5, 0, 1)"
   ]
  },
  {
   "cell_type": "code",
   "execution_count": 115,
   "id": "3d2f77e7",
   "metadata": {},
   "outputs": [
    {
     "data": {
      "text/plain": [
       "array([[2807,   17],\n",
       "       [  11,   45]], dtype=int64)"
      ]
     },
     "execution_count": 115,
     "metadata": {},
     "output_type": "execute_result"
    }
   ],
   "source": [
    "confusion_matrix(y_test, y_pred)"
   ]
  },
  {
   "cell_type": "code",
   "execution_count": 116,
   "id": "d9d3e0e6",
   "metadata": {},
   "outputs": [
    {
     "name": "stdout",
     "output_type": "stream",
     "text": [
      "              precision    recall  f1-score   support\n",
      "\n",
      "           0       1.00      0.99      1.00      2824\n",
      "           1       0.73      0.80      0.76        56\n",
      "\n",
      "    accuracy                           0.99      2880\n",
      "   macro avg       0.86      0.90      0.88      2880\n",
      "weighted avg       0.99      0.99      0.99      2880\n",
      "\n"
     ]
    }
   ],
   "source": [
    "print(classification_report(y_test, y_pred))"
   ]
  },
  {
   "cell_type": "code",
   "execution_count": 117,
   "id": "1cd3c1cd",
   "metadata": {},
   "outputs": [
    {
     "name": "stdout",
     "output_type": "stream",
     "text": [
      "0.9902777777777778\n",
      "0.7258064516129032\n",
      "0.8035714285714286\n",
      "0.7627118644067797\n"
     ]
    }
   ],
   "source": [
    "print(accuracy_score(y_test, y_pred))\n",
    "print(precision_score(y_test, y_pred))\n",
    "print(recall_score(y_test, y_pred))\n",
    "print(f1_score(y_test, y_pred))"
   ]
  },
  {
   "cell_type": "markdown",
   "id": "c4b7d816",
   "metadata": {},
   "source": [
    "### SMOTE"
   ]
  },
  {
   "cell_type": "code",
   "execution_count": 118,
   "id": "e148963c",
   "metadata": {},
   "outputs": [],
   "source": [
    "sme = SMOTEENN(sampling_strategy=0.5, random_state=42, \n",
    "               smote=SMOTE(sampling_strategy=1, k_neighbors=7, random_state=42), \n",
    "               enn=EditedNearestNeighbours(n_neighbors=3))"
   ]
  },
  {
   "cell_type": "code",
   "execution_count": 119,
   "id": "1fa4521e",
   "metadata": {},
   "outputs": [],
   "source": [
    "X_res, y_res = sme.fit_resample(X_train, y_train)"
   ]
  },
  {
   "cell_type": "code",
   "execution_count": 120,
   "id": "dcbf56fb",
   "metadata": {},
   "outputs": [
    {
     "data": {
      "text/plain": [
       "fraudulent\n",
       "0             11293\n",
       "1             11284\n",
       "dtype: int64"
      ]
     },
     "execution_count": 120,
     "metadata": {},
     "output_type": "execute_result"
    }
   ],
   "source": [
    "y_res.value_counts()"
   ]
  },
  {
   "cell_type": "code",
   "execution_count": 121,
   "id": "85b96576",
   "metadata": {},
   "outputs": [
    {
     "name": "stdout",
     "output_type": "stream",
     "text": [
      "Epoch 1/25\n",
      "706/706 [==============================] - 10s 15ms/step - loss: 0.0130 - accuracy: 0.9957 - precision_4: 0.9957 - recall_4: 0.9956 - auc_4: 0.9996\n",
      "Epoch 2/25\n",
      "706/706 [==============================] - 11s 15ms/step - loss: 0.0088 - accuracy: 0.9970 - precision_4: 0.9965 - recall_4: 0.9975 - auc_4: 0.9998\n",
      "Epoch 3/25\n",
      "706/706 [==============================] - 11s 15ms/step - loss: 0.0084 - accuracy: 0.9968 - precision_4: 0.9961 - recall_4: 0.9974 - auc_4: 0.9999\n",
      "Epoch 4/25\n",
      "706/706 [==============================] - 10s 15ms/step - loss: 0.0083 - accuracy: 0.9972 - precision_4: 0.9962 - recall_4: 0.9982 - auc_4: 0.9997\n",
      "Epoch 5/25\n",
      "706/706 [==============================] - 11s 15ms/step - loss: 0.0058 - accuracy: 0.9982 - precision_4: 0.9979 - recall_4: 0.9986 - auc_4: 0.9999\n",
      "Epoch 6/25\n",
      "706/706 [==============================] - 10s 15ms/step - loss: 0.0083 - accuracy: 0.9970 - precision_4: 0.9963 - recall_4: 0.9978 - auc_4: 0.9998\n",
      "Epoch 7/25\n",
      "706/706 [==============================] - 11s 15ms/step - loss: 0.0075 - accuracy: 0.9978 - precision_4: 0.9973 - recall_4: 0.9983 - auc_4: 0.9998\n",
      "Epoch 8/25\n",
      "706/706 [==============================] - 10s 15ms/step - loss: 0.0040 - accuracy: 0.9988 - precision_4: 0.9989 - recall_4: 0.9987 - auc_4: 0.9999\n",
      "Epoch 9/25\n",
      "706/706 [==============================] - 11s 15ms/step - loss: 0.0078 - accuracy: 0.9975 - precision_4: 0.9968 - recall_4: 0.9982 - auc_4: 0.9998\n",
      "Epoch 10/25\n",
      "706/706 [==============================] - 10s 15ms/step - loss: 0.0064 - accuracy: 0.9979 - precision_4: 0.9974 - recall_4: 0.9983 - auc_4: 0.9998\n",
      "Epoch 11/25\n",
      "706/706 [==============================] - 11s 15ms/step - loss: 0.0054 - accuracy: 0.9983 - precision_4: 0.9977 - recall_4: 0.9988 - auc_4: 0.9998\n",
      "Epoch 12/25\n",
      "706/706 [==============================] - 10s 15ms/step - loss: 0.0065 - accuracy: 0.9978 - precision_4: 0.9968 - recall_4: 0.9988 - auc_4: 0.9998\n",
      "Epoch 13/25\n",
      "706/706 [==============================] - 10s 15ms/step - loss: 0.0025 - accuracy: 0.9990 - precision_4: 0.9987 - recall_4: 0.9994 - auc_4: 1.0000\n",
      "Epoch 14/25\n",
      "706/706 [==============================] - 10s 15ms/step - loss: 0.0083 - accuracy: 0.9979 - precision_4: 0.9972 - recall_4: 0.9987 - auc_4: 0.9996\n",
      "Epoch 15/25\n",
      "706/706 [==============================] - 12s 16ms/step - loss: 0.0061 - accuracy: 0.9982 - precision_4: 0.9980 - recall_4: 0.9984 - auc_4: 0.9998\n",
      "Epoch 16/25\n",
      "706/706 [==============================] - 10s 14ms/step - loss: 0.0018 - accuracy: 0.9995 - precision_4: 0.9994 - recall_4: 0.9996 - auc_4: 1.0000\n",
      "Epoch 17/25\n",
      "706/706 [==============================] - 12s 17ms/step - loss: 0.0045 - accuracy: 0.9986 - precision_4: 0.9985 - recall_4: 0.9988 - auc_4: 0.9998\n",
      "Epoch 18/25\n",
      "706/706 [==============================] - 13s 19ms/step - loss: 0.0039 - accuracy: 0.9984 - precision_4: 0.9981 - recall_4: 0.9988 - auc_4: 0.9999\n",
      "Epoch 19/25\n",
      "706/706 [==============================] - 12s 17ms/step - loss: 0.0063 - accuracy: 0.9985 - precision_4: 0.9984 - recall_4: 0.9986 - auc_4: 0.9997\n",
      "Epoch 20/25\n",
      "706/706 [==============================] - 10s 15ms/step - loss: 0.0041 - accuracy: 0.9984 - precision_4: 0.9983 - recall_4: 0.9984 - auc_4: 0.9999\n",
      "Epoch 21/25\n",
      "706/706 [==============================] - 11s 16ms/step - loss: 0.0051 - accuracy: 0.9988 - precision_4: 0.9988 - recall_4: 0.9988 - auc_4: 0.9998\n",
      "Epoch 22/25\n",
      "706/706 [==============================] - 10s 14ms/step - loss: 0.0024 - accuracy: 0.9993 - precision_4: 0.9994 - recall_4: 0.9993 - auc_4: 0.9999\n",
      "Epoch 23/25\n",
      "706/706 [==============================] - 10s 14ms/step - loss: 0.0054 - accuracy: 0.9983 - precision_4: 0.9981 - recall_4: 0.9985 - auc_4: 0.9998\n",
      "Epoch 24/25\n",
      "706/706 [==============================] - 10s 14ms/step - loss: 0.0040 - accuracy: 0.9984 - precision_4: 0.9984 - recall_4: 0.9984 - auc_4: 1.0000\n",
      "Epoch 25/25\n",
      "706/706 [==============================] - 11s 15ms/step - loss: 0.0046 - accuracy: 0.9985 - precision_4: 0.9985 - recall_4: 0.9986 - auc_4: 0.9997\n"
     ]
    },
    {
     "data": {
      "text/plain": [
       "<keras.callbacks.History at 0x1c51ce3ba00>"
      ]
     },
     "execution_count": 121,
     "metadata": {},
     "output_type": "execute_result"
    }
   ],
   "source": [
    "cnn_model.fit(X_res, y_res, epochs=25)"
   ]
  },
  {
   "cell_type": "code",
   "execution_count": 122,
   "id": "04751eae",
   "metadata": {},
   "outputs": [
    {
     "name": "stdout",
     "output_type": "stream",
     "text": [
      "Model: \"sequential_5\"\n",
      "_________________________________________________________________\n",
      " Layer (type)                Output Shape              Param #   \n",
      "=================================================================\n",
      " conv1d_2 (Conv1D)           (None, 261, 32)           128       \n",
      "                                                                 \n",
      " max_pooling1d_2 (MaxPooling  (None, 87, 32)           0         \n",
      " 1D)                                                             \n",
      "                                                                 \n",
      " flatten_2 (Flatten)         (None, 2784)              0         \n",
      "                                                                 \n",
      " dense_25 (Dense)            (None, 256)               712960    \n",
      "                                                                 \n",
      " dropout_20 (Dropout)        (None, 256)               0         \n",
      "                                                                 \n",
      " dense_26 (Dense)            (None, 128)               32896     \n",
      "                                                                 \n",
      " dropout_21 (Dropout)        (None, 128)               0         \n",
      "                                                                 \n",
      " dense_27 (Dense)            (None, 64)                8256      \n",
      "                                                                 \n",
      " dropout_22 (Dropout)        (None, 64)                0         \n",
      "                                                                 \n",
      " dense_28 (Dense)            (None, 32)                2080      \n",
      "                                                                 \n",
      " dropout_23 (Dropout)        (None, 32)                0         \n",
      "                                                                 \n",
      " dense_29 (Dense)            (None, 1)                 33        \n",
      "                                                                 \n",
      "=================================================================\n",
      "Total params: 756,353\n",
      "Trainable params: 756,353\n",
      "Non-trainable params: 0\n",
      "_________________________________________________________________\n"
     ]
    }
   ],
   "source": [
    "cnn_model.summary()"
   ]
  },
  {
   "cell_type": "code",
   "execution_count": 123,
   "id": "93fa009a",
   "metadata": {},
   "outputs": [
    {
     "name": "stdout",
     "output_type": "stream",
     "text": [
      "706/706 [==============================] - 4s 5ms/step - loss: 9.6811e-05 - accuracy: 1.0000 - precision_4: 1.0000 - recall_4: 1.0000 - auc_4: 1.0000\n",
      "[9.681146184448153e-05, 1.0, 1.0, 1.0, 1.0]\n"
     ]
    }
   ],
   "source": [
    "train_score = cnn_model.evaluate(X_res, y_res)\n",
    "print(train_score)"
   ]
  },
  {
   "cell_type": "code",
   "execution_count": 124,
   "id": "fc2aaf84",
   "metadata": {},
   "outputs": [
    {
     "name": "stdout",
     "output_type": "stream",
     "text": [
      "90/90 [==============================] - 1s 5ms/step\n"
     ]
    }
   ],
   "source": [
    "pred = cnn_model.predict(X_test)\n",
    "y_pred = np.where(pred < 0.5, 0, 1)"
   ]
  },
  {
   "cell_type": "code",
   "execution_count": 125,
   "id": "7de8ae81",
   "metadata": {},
   "outputs": [
    {
     "data": {
      "text/plain": [
       "array([[2815,    9],\n",
       "       [  21,   35]], dtype=int64)"
      ]
     },
     "execution_count": 125,
     "metadata": {},
     "output_type": "execute_result"
    }
   ],
   "source": [
    "confusion_matrix(y_test, y_pred)"
   ]
  },
  {
   "cell_type": "code",
   "execution_count": 126,
   "id": "9c4124cc",
   "metadata": {},
   "outputs": [
    {
     "name": "stdout",
     "output_type": "stream",
     "text": [
      "              precision    recall  f1-score   support\n",
      "\n",
      "           0       0.99      1.00      0.99      2824\n",
      "           1       0.80      0.62      0.70        56\n",
      "\n",
      "    accuracy                           0.99      2880\n",
      "   macro avg       0.89      0.81      0.85      2880\n",
      "weighted avg       0.99      0.99      0.99      2880\n",
      "\n"
     ]
    }
   ],
   "source": [
    "print(classification_report(y_test, y_pred))"
   ]
  },
  {
   "cell_type": "code",
   "execution_count": 127,
   "id": "7b5eac2d",
   "metadata": {},
   "outputs": [
    {
     "name": "stdout",
     "output_type": "stream",
     "text": [
      "0.9895833333333334\n",
      "0.7954545454545454\n",
      "0.625\n",
      "0.7\n"
     ]
    }
   ],
   "source": [
    "print(accuracy_score(y_test, y_pred))\n",
    "print(precision_score(y_test, y_pred))\n",
    "print(recall_score(y_test, y_pred))\n",
    "print(f1_score(y_test, y_pred))"
   ]
  },
  {
   "cell_type": "markdown",
   "id": "890bd870",
   "metadata": {},
   "source": [
    "### ADASYN"
   ]
  },
  {
   "cell_type": "code",
   "execution_count": 128,
   "id": "ba058ccc",
   "metadata": {},
   "outputs": [],
   "source": [
    "ada = ADASYN(sampling_strategy = 1, random_state=42, n_neighbors = 2)\n",
    "X_res, y_res = ada.fit_resample(X_train, y_train)"
   ]
  },
  {
   "cell_type": "code",
   "execution_count": 129,
   "id": "ea9e7f2c",
   "metadata": {},
   "outputs": [
    {
     "data": {
      "text/plain": [
       "fraudulent\n",
       "0             11293\n",
       "1             11286\n",
       "dtype: int64"
      ]
     },
     "execution_count": 129,
     "metadata": {},
     "output_type": "execute_result"
    }
   ],
   "source": [
    "y_res.value_counts()"
   ]
  },
  {
   "cell_type": "code",
   "execution_count": 130,
   "id": "8c95316c",
   "metadata": {},
   "outputs": [
    {
     "name": "stdout",
     "output_type": "stream",
     "text": [
      "Epoch 1/25\n",
      "706/706 [==============================] - 10s 14ms/step - loss: 0.0059 - accuracy: 0.9980 - precision_4: 0.9975 - recall_4: 0.9985 - auc_4: 0.9998\n",
      "Epoch 2/25\n",
      "706/706 [==============================] - 10s 14ms/step - loss: 0.0052 - accuracy: 0.9988 - precision_4: 0.9988 - recall_4: 0.9987 - auc_4: 0.9997\n",
      "Epoch 3/25\n",
      "706/706 [==============================] - 10s 14ms/step - loss: 0.0021 - accuracy: 0.9993 - precision_4: 0.9990 - recall_4: 0.9996 - auc_4: 1.0000\n",
      "Epoch 4/25\n",
      "706/706 [==============================] - 10s 14ms/step - loss: 0.0033 - accuracy: 0.9988 - precision_4: 0.9986 - recall_4: 0.9991 - auc_4: 0.9999\n",
      "Epoch 5/25\n",
      "706/706 [==============================] - 10s 14ms/step - loss: 0.0023 - accuracy: 0.9993 - precision_4: 0.9990 - recall_4: 0.9996 - auc_4: 0.9999\n",
      "Epoch 6/25\n",
      "706/706 [==============================] - 10s 14ms/step - loss: 0.0049 - accuracy: 0.9988 - precision_4: 0.9987 - recall_4: 0.9988 - auc_4: 0.9998\n",
      "Epoch 7/25\n",
      "706/706 [==============================] - 10s 14ms/step - loss: 0.0044 - accuracy: 0.9988 - precision_4: 0.9986 - recall_4: 0.9990 - auc_4: 0.9999\n",
      "Epoch 8/25\n",
      "706/706 [==============================] - 11s 15ms/step - loss: 0.0035 - accuracy: 0.9988 - precision_4: 0.9986 - recall_4: 0.9990 - auc_4: 0.9999\n",
      "Epoch 9/25\n",
      "706/706 [==============================] - 10s 15ms/step - loss: 0.0029 - accuracy: 0.9990 - precision_4: 0.9988 - recall_4: 0.9992 - auc_4: 1.0000\n",
      "Epoch 10/25\n",
      "706/706 [==============================] - 10s 14ms/step - loss: 0.0038 - accuracy: 0.9989 - precision_4: 0.9992 - recall_4: 0.9986 - auc_4: 0.9999\n",
      "Epoch 11/25\n",
      "706/706 [==============================] - 10s 14ms/step - loss: 0.0020 - accuracy: 0.9992 - precision_4: 0.9994 - recall_4: 0.9991 - auc_4: 1.0000\n",
      "Epoch 12/25\n",
      "706/706 [==============================] - 10s 14ms/step - loss: 0.0031 - accuracy: 0.9989 - precision_4: 0.9991 - recall_4: 0.9987 - auc_4: 0.9999\n",
      "Epoch 13/25\n",
      "706/706 [==============================] - 10s 14ms/step - loss: 0.0036 - accuracy: 0.9991 - precision_4: 0.9988 - recall_4: 0.9994 - auc_4: 0.9999\n",
      "Epoch 14/25\n",
      "706/706 [==============================] - 10s 14ms/step - loss: 0.0024 - accuracy: 0.9991 - precision_4: 0.9988 - recall_4: 0.9994 - auc_4: 1.0000\n",
      "Epoch 15/25\n",
      "706/706 [==============================] - 11s 16ms/step - loss: 0.0053 - accuracy: 0.9986 - precision_4: 0.9983 - recall_4: 0.9988 - auc_4: 0.9999\n",
      "Epoch 16/25\n",
      "706/706 [==============================] - 11s 15ms/step - loss: 0.0043 - accuracy: 0.9989 - precision_4: 0.9986 - recall_4: 0.9993 - auc_4: 0.9999\n",
      "Epoch 17/25\n",
      "706/706 [==============================] - 11s 16ms/step - loss: 0.0019 - accuracy: 0.9993 - precision_4: 0.9992 - recall_4: 0.9995 - auc_4: 1.0000\n",
      "Epoch 18/25\n",
      "706/706 [==============================] - 11s 15ms/step - loss: 0.0036 - accuracy: 0.9988 - precision_4: 0.9988 - recall_4: 0.9988 - auc_4: 0.9999\n",
      "Epoch 19/25\n",
      "706/706 [==============================] - 11s 15ms/step - loss: 0.0017 - accuracy: 0.9994 - precision_4: 0.9993 - recall_4: 0.9995 - auc_4: 1.0000\n",
      "Epoch 20/25\n",
      "706/706 [==============================] - 11s 16ms/step - loss: 0.0029 - accuracy: 0.9991 - precision_4: 0.9992 - recall_4: 0.9989 - auc_4: 1.0000\n",
      "Epoch 21/25\n",
      "706/706 [==============================] - 11s 16ms/step - loss: 0.0027 - accuracy: 0.9994 - precision_4: 0.9992 - recall_4: 0.9996 - auc_4: 0.9999\n",
      "Epoch 22/25\n",
      "706/706 [==============================] - 11s 16ms/step - loss: 0.0039 - accuracy: 0.9988 - precision_4: 0.9988 - recall_4: 0.9988 - auc_4: 0.9999\n",
      "Epoch 23/25\n",
      "706/706 [==============================] - 11s 15ms/step - loss: 0.0037 - accuracy: 0.9986 - precision_4: 0.9985 - recall_4: 0.9988 - auc_4: 0.9999\n",
      "Epoch 24/25\n",
      "706/706 [==============================] - 11s 16ms/step - loss: 0.0026 - accuracy: 0.9989 - precision_4: 0.9989 - recall_4: 0.9989 - auc_4: 1.0000\n",
      "Epoch 25/25\n",
      "706/706 [==============================] - 11s 16ms/step - loss: 0.0028 - accuracy: 0.9992 - precision_4: 0.9986 - recall_4: 0.9997 - auc_4: 0.9999\n"
     ]
    },
    {
     "data": {
      "text/plain": [
       "<keras.callbacks.History at 0x1c51ce3be20>"
      ]
     },
     "execution_count": 130,
     "metadata": {},
     "output_type": "execute_result"
    }
   ],
   "source": [
    "cnn_model.fit(X_res, y_res, epochs=25)"
   ]
  },
  {
   "cell_type": "code",
   "execution_count": 131,
   "id": "99edd1f3",
   "metadata": {},
   "outputs": [
    {
     "name": "stdout",
     "output_type": "stream",
     "text": [
      "Model: \"sequential_5\"\n",
      "_________________________________________________________________\n",
      " Layer (type)                Output Shape              Param #   \n",
      "=================================================================\n",
      " conv1d_2 (Conv1D)           (None, 261, 32)           128       \n",
      "                                                                 \n",
      " max_pooling1d_2 (MaxPooling  (None, 87, 32)           0         \n",
      " 1D)                                                             \n",
      "                                                                 \n",
      " flatten_2 (Flatten)         (None, 2784)              0         \n",
      "                                                                 \n",
      " dense_25 (Dense)            (None, 256)               712960    \n",
      "                                                                 \n",
      " dropout_20 (Dropout)        (None, 256)               0         \n",
      "                                                                 \n",
      " dense_26 (Dense)            (None, 128)               32896     \n",
      "                                                                 \n",
      " dropout_21 (Dropout)        (None, 128)               0         \n",
      "                                                                 \n",
      " dense_27 (Dense)            (None, 64)                8256      \n",
      "                                                                 \n",
      " dropout_22 (Dropout)        (None, 64)                0         \n",
      "                                                                 \n",
      " dense_28 (Dense)            (None, 32)                2080      \n",
      "                                                                 \n",
      " dropout_23 (Dropout)        (None, 32)                0         \n",
      "                                                                 \n",
      " dense_29 (Dense)            (None, 1)                 33        \n",
      "                                                                 \n",
      "=================================================================\n",
      "Total params: 756,353\n",
      "Trainable params: 756,353\n",
      "Non-trainable params: 0\n",
      "_________________________________________________________________\n"
     ]
    }
   ],
   "source": [
    "cnn_model.summary()"
   ]
  },
  {
   "cell_type": "code",
   "execution_count": 132,
   "id": "71afe4ce",
   "metadata": {},
   "outputs": [
    {
     "name": "stdout",
     "output_type": "stream",
     "text": [
      "706/706 [==============================] - 4s 6ms/step - loss: 1.1963e-05 - accuracy: 1.0000 - precision_4: 1.0000 - recall_4: 1.0000 - auc_4: 1.0000\n",
      "[1.1963349606958218e-05, 1.0, 1.0, 1.0, 1.0]\n"
     ]
    }
   ],
   "source": [
    "train_score = cnn_model.evaluate(X_res, y_res)\n",
    "print(train_score)"
   ]
  },
  {
   "cell_type": "code",
   "execution_count": 133,
   "id": "493597dc",
   "metadata": {},
   "outputs": [
    {
     "name": "stdout",
     "output_type": "stream",
     "text": [
      "90/90 [==============================] - 1s 5ms/step\n"
     ]
    }
   ],
   "source": [
    "pred = cnn_model.predict(X_test)\n",
    "y_pred = np.where(pred < 0.5, 0, 1)"
   ]
  },
  {
   "cell_type": "code",
   "execution_count": 134,
   "id": "bd88fdad",
   "metadata": {},
   "outputs": [
    {
     "data": {
      "text/plain": [
       "array([[2814,   10],\n",
       "       [  15,   41]], dtype=int64)"
      ]
     },
     "execution_count": 134,
     "metadata": {},
     "output_type": "execute_result"
    }
   ],
   "source": [
    "confusion_matrix(y_test, y_pred)"
   ]
  },
  {
   "cell_type": "code",
   "execution_count": 135,
   "id": "b2b4682b",
   "metadata": {},
   "outputs": [
    {
     "name": "stdout",
     "output_type": "stream",
     "text": [
      "              precision    recall  f1-score   support\n",
      "\n",
      "           0       0.99      1.00      1.00      2824\n",
      "           1       0.80      0.73      0.77        56\n",
      "\n",
      "    accuracy                           0.99      2880\n",
      "   macro avg       0.90      0.86      0.88      2880\n",
      "weighted avg       0.99      0.99      0.99      2880\n",
      "\n"
     ]
    }
   ],
   "source": [
    "print(classification_report(y_test, y_pred))"
   ]
  },
  {
   "cell_type": "code",
   "execution_count": 136,
   "id": "a3c413d0",
   "metadata": {},
   "outputs": [
    {
     "name": "stdout",
     "output_type": "stream",
     "text": [
      "0.9913194444444444\n",
      "0.803921568627451\n",
      "0.7321428571428571\n",
      "0.766355140186916\n"
     ]
    }
   ],
   "source": [
    "print(accuracy_score(y_test, y_pred))\n",
    "print(precision_score(y_test, y_pred))\n",
    "print(recall_score(y_test, y_pred))\n",
    "print(f1_score(y_test, y_pred))"
   ]
  },
  {
   "cell_type": "code",
   "execution_count": null,
   "id": "40ef70a5",
   "metadata": {},
   "outputs": [],
   "source": []
  }
 ],
 "metadata": {
  "kernelspec": {
   "display_name": "Python 3 (ipykernel)",
   "language": "python",
   "name": "python3"
  },
  "language_info": {
   "codemirror_mode": {
    "name": "ipython",
    "version": 3
   },
   "file_extension": ".py",
   "mimetype": "text/x-python",
   "name": "python",
   "nbconvert_exporter": "python",
   "pygments_lexer": "ipython3",
   "version": "3.9.12"
  }
 },
 "nbformat": 4,
 "nbformat_minor": 5
}
