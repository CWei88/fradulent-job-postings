{
 "cells": [
  {
   "cell_type": "code",
   "execution_count": 1,
   "id": "963c52bd",
   "metadata": {},
   "outputs": [],
   "source": [
    "import numpy as np\n",
    "import pandas as pd\n",
    "import shap\n",
    "import tensorflow as tf\n",
    "import keras\n",
    "import lime\n",
    "\n",
    "import keras\n",
    "import tensorflow\n",
    "from keras import layers\n",
    "from keras.models import Sequential\n",
    "from keras.layers import Dense, Activation, Dropout, Flatten, Embedding, SimpleRNN , concatenate, Lambda, Conv1D, MaxPooling1D\n",
    "from keras.layers import LeakyReLU\n",
    "from keras.callbacks import EarlyStopping, ModelCheckpoint\n",
    "from keras.optimizers import Adam, SGD, RMSprop, Adadelta, Adagrad, Adamax, Nadam, Ftrl\n",
    "from keras import metrics\n",
    "from keras.losses import BinaryCrossentropy\n",
    "from keras.wrappers.scikit_learn import KerasClassifier\n",
    "\n",
    "\n",
    "from imblearn.over_sampling import RandomOverSampler, ADASYN\n",
    "from imblearn.combine import SMOTEENN\n",
    "from imblearn.under_sampling import EditedNearestNeighbours\n",
    "from imblearn.over_sampling import SMOTE\n",
    "\n",
    "from sklearn.model_selection import train_test_split\n",
    "from sklearn.model_selection import cross_val_score\n",
    "from sklearn.preprocessing import StandardScaler, LabelEncoder\n",
    "from sklearn.linear_model import LogisticRegression\n",
    "from sklearn.metrics import classification_report, confusion_matrix, f1_score, precision_score, recall_score, accuracy_score\n",
    "from sklearn import linear_model, model_selection"
   ]
  },
  {
   "cell_type": "markdown",
   "id": "a9fc1c2a",
   "metadata": {},
   "source": [
    "## Loading Models"
   ]
  },
  {
   "cell_type": "code",
   "execution_count": 2,
   "id": "1b6c1a80",
   "metadata": {},
   "outputs": [],
   "source": [
    "X_train = pd.read_csv('../datasets/glove/train_data_imputed_FINAL.csv')\n",
    "X_test = pd.read_csv('../datasets/glove/test_data_imputed_FINAL.csv')\n",
    "y_train = pd.read_csv('../datasets/glove/y_train_FINAL.csv')\n",
    "y_test = pd.read_csv('../datasets/glove/y_test_FINAL.csv')"
   ]
  },
  {
   "cell_type": "markdown",
   "id": "d7f66dfb",
   "metadata": {},
   "source": [
    "## NN"
   ]
  },
  {
   "cell_type": "markdown",
   "id": "f62f02ea",
   "metadata": {},
   "source": [
    "### Base Model"
   ]
  },
  {
   "cell_type": "code",
   "execution_count": 3,
   "id": "ff250d9b",
   "metadata": {},
   "outputs": [],
   "source": [
    "### Model building\n",
    "model = Sequential()\n",
    "model.add(Dense(256, activation='relu'))\n",
    "model.add(Dropout(0.2))\n",
    "model.add(Dense(128, activation='relu'))\n",
    "model.add(Dropout(0.2))\n",
    "model.add(Dense(64, activation='relu'))\n",
    "model.add(Dropout(0.2))\n",
    "model.add(Dense(32, activation='relu'))\n",
    "model.add(Dropout(0.2))\n",
    "model.add(Dense(1, activation='sigmoid'))\n",
    "model.compile(loss='binary_crossentropy', optimizer='adam', metrics=['accuracy',metrics.Precision(), metrics.Recall(),metrics.AUC()])"
   ]
  },
  {
   "cell_type": "markdown",
   "id": "0ed6a519",
   "metadata": {},
   "source": [
    "### Random OverSampler"
   ]
  },
  {
   "cell_type": "code",
   "execution_count": 4,
   "id": "3a320944",
   "metadata": {},
   "outputs": [],
   "source": [
    "ros = RandomOverSampler(sampling_strategy = 1, random_state=42)\n",
    "X_res, y_res = ros.fit_resample(X_train, y_train)"
   ]
  },
  {
   "cell_type": "code",
   "execution_count": 5,
   "id": "febd32dc",
   "metadata": {},
   "outputs": [
    {
     "data": {
      "text/plain": [
       "fraudulent\n",
       "0             11293\n",
       "1             11293\n",
       "dtype: int64"
      ]
     },
     "execution_count": 5,
     "metadata": {},
     "output_type": "execute_result"
    }
   ],
   "source": [
    "y_res.value_counts()"
   ]
  },
  {
   "cell_type": "code",
   "execution_count": 6,
   "id": "1b2df7c2",
   "metadata": {},
   "outputs": [
    {
     "name": "stdout",
     "output_type": "stream",
     "text": [
      "Epoch 1/25\n",
      "706/706 [==============================] - 5s 5ms/step - loss: 0.6719 - accuracy: 0.5908 - precision: 0.5987 - recall: 0.5503 - auc: 0.6410\n",
      "Epoch 2/25\n",
      "706/706 [==============================] - 4s 5ms/step - loss: 0.3439 - accuracy: 0.8508 - precision: 0.8444 - recall: 0.8600 - auc: 0.9271\n",
      "Epoch 3/25\n",
      "706/706 [==============================] - 4s 5ms/step - loss: 0.2274 - accuracy: 0.9155 - precision: 0.8999 - recall: 0.9349 - auc: 0.9653\n",
      "Epoch 4/25\n",
      "706/706 [==============================] - 4s 5ms/step - loss: 0.1712 - accuracy: 0.9372 - precision: 0.9228 - recall: 0.9543 - auc: 0.9792\n",
      "Epoch 5/25\n",
      "706/706 [==============================] - 3s 5ms/step - loss: 0.1338 - accuracy: 0.9522 - precision: 0.9378 - recall: 0.9686 - auc: 0.9866\n",
      "Epoch 6/25\n",
      "706/706 [==============================] - 4s 5ms/step - loss: 0.1086 - accuracy: 0.9620 - precision: 0.9526 - recall: 0.9724 - auc: 0.9906\n",
      "Epoch 7/25\n",
      "706/706 [==============================] - 4s 5ms/step - loss: 0.1033 - accuracy: 0.9634 - precision: 0.9555 - recall: 0.9721 - auc: 0.9919\n",
      "Epoch 8/25\n",
      "706/706 [==============================] - 3s 5ms/step - loss: 0.0826 - accuracy: 0.9706 - precision: 0.9616 - recall: 0.9803 - auc: 0.9944\n",
      "Epoch 9/25\n",
      "706/706 [==============================] - 3s 5ms/step - loss: 0.0853 - accuracy: 0.9700 - precision: 0.9643 - recall: 0.9761 - auc: 0.9943\n",
      "Epoch 10/25\n",
      "706/706 [==============================] - 3s 5ms/step - loss: 0.0670 - accuracy: 0.9772 - precision: 0.9721 - recall: 0.9826 - auc: 0.9961\n",
      "Epoch 11/25\n",
      "706/706 [==============================] - 4s 5ms/step - loss: 0.0718 - accuracy: 0.9754 - precision: 0.9694 - recall: 0.9818 - auc: 0.9957\n",
      "Epoch 12/25\n",
      "706/706 [==============================] - 4s 5ms/step - loss: 0.0624 - accuracy: 0.9787 - precision: 0.9726 - recall: 0.9852 - auc: 0.9964\n",
      "Epoch 13/25\n",
      "706/706 [==============================] - 4s 5ms/step - loss: 0.0577 - accuracy: 0.9802 - precision: 0.9740 - recall: 0.9867 - auc: 0.9969\n",
      "Epoch 14/25\n",
      "706/706 [==============================] - 4s 5ms/step - loss: 0.0600 - accuracy: 0.9796 - precision: 0.9740 - recall: 0.9856 - auc: 0.9966\n",
      "Epoch 15/25\n",
      "706/706 [==============================] - 3s 5ms/step - loss: 0.0643 - accuracy: 0.9783 - precision: 0.9722 - recall: 0.9848 - auc: 0.9961\n",
      "Epoch 16/25\n",
      "706/706 [==============================] - 3s 5ms/step - loss: 0.0611 - accuracy: 0.9792 - precision: 0.9740 - recall: 0.9848 - auc: 0.9966\n",
      "Epoch 17/25\n",
      "706/706 [==============================] - 3s 5ms/step - loss: 0.0533 - accuracy: 0.9820 - precision: 0.9755 - recall: 0.9888 - auc: 0.9973\n",
      "Epoch 18/25\n",
      "706/706 [==============================] - 4s 5ms/step - loss: 0.0557 - accuracy: 0.9819 - precision: 0.9765 - recall: 0.9877 - auc: 0.9970\n",
      "Epoch 19/25\n",
      "706/706 [==============================] - 4s 6ms/step - loss: 0.0552 - accuracy: 0.9821 - precision: 0.9765 - recall: 0.9880 - auc: 0.9971\n",
      "Epoch 20/25\n",
      "706/706 [==============================] - 4s 5ms/step - loss: 0.0579 - accuracy: 0.9803 - precision: 0.9737 - recall: 0.9872 - auc: 0.9969\n",
      "Epoch 21/25\n",
      "706/706 [==============================] - 4s 5ms/step - loss: 0.0563 - accuracy: 0.9801 - precision: 0.9740 - recall: 0.9865 - auc: 0.9971\n",
      "Epoch 22/25\n",
      "706/706 [==============================] - 4s 5ms/step - loss: 0.0530 - accuracy: 0.9817 - precision: 0.9747 - recall: 0.9891 - auc: 0.9974\n",
      "Epoch 23/25\n",
      "706/706 [==============================] - 3s 5ms/step - loss: 0.0398 - accuracy: 0.9877 - precision: 0.9832 - recall: 0.9923 - auc: 0.9984\n",
      "Epoch 24/25\n",
      "706/706 [==============================] - 4s 6ms/step - loss: 0.0464 - accuracy: 0.9847 - precision: 0.9796 - recall: 0.9901 - auc: 0.9978\n",
      "Epoch 25/25\n",
      "706/706 [==============================] - 4s 6ms/step - loss: 0.0483 - accuracy: 0.9845 - precision: 0.9794 - recall: 0.9898 - auc: 0.9975\n"
     ]
    },
    {
     "data": {
      "text/plain": [
       "<keras.callbacks.History at 0x19ea64c81f0>"
      ]
     },
     "execution_count": 6,
     "metadata": {},
     "output_type": "execute_result"
    }
   ],
   "source": [
    "model.fit(X_res, y_res, epochs=25)"
   ]
  },
  {
   "cell_type": "code",
   "execution_count": 7,
   "id": "f14cd5e3",
   "metadata": {},
   "outputs": [
    {
     "name": "stdout",
     "output_type": "stream",
     "text": [
      "Model: \"sequential\"\n",
      "_________________________________________________________________\n",
      " Layer (type)                Output Shape              Param #   \n",
      "=================================================================\n",
      " dense (Dense)               (None, 256)               67584     \n",
      "                                                                 \n",
      " dropout (Dropout)           (None, 256)               0         \n",
      "                                                                 \n",
      " dense_1 (Dense)             (None, 128)               32896     \n",
      "                                                                 \n",
      " dropout_1 (Dropout)         (None, 128)               0         \n",
      "                                                                 \n",
      " dense_2 (Dense)             (None, 64)                8256      \n",
      "                                                                 \n",
      " dropout_2 (Dropout)         (None, 64)                0         \n",
      "                                                                 \n",
      " dense_3 (Dense)             (None, 32)                2080      \n",
      "                                                                 \n",
      " dropout_3 (Dropout)         (None, 32)                0         \n",
      "                                                                 \n",
      " dense_4 (Dense)             (None, 1)                 33        \n",
      "                                                                 \n",
      "=================================================================\n",
      "Total params: 110,849\n",
      "Trainable params: 110,849\n",
      "Non-trainable params: 0\n",
      "_________________________________________________________________\n"
     ]
    }
   ],
   "source": [
    "model.summary()"
   ]
  },
  {
   "cell_type": "code",
   "execution_count": 8,
   "id": "8bca8be6",
   "metadata": {},
   "outputs": [
    {
     "name": "stdout",
     "output_type": "stream",
     "text": [
      "706/706 [==============================] - 3s 3ms/step - loss: 0.0234 - accuracy: 0.9928 - precision: 0.9859 - recall: 1.0000 - auc: 0.9995\n",
      "[0.023436956107616425, 0.9928274154663086, 0.9858577251434326, 1.0, 0.9995200037956238]\n"
     ]
    }
   ],
   "source": [
    "train_score = model.evaluate(X_res, y_res)\n",
    "print(train_score)"
   ]
  },
  {
   "cell_type": "code",
   "execution_count": 9,
   "id": "9517df51",
   "metadata": {},
   "outputs": [
    {
     "name": "stdout",
     "output_type": "stream",
     "text": [
      "90/90 [==============================] - 0s 2ms/step\n"
     ]
    }
   ],
   "source": [
    "## Test Prediction\n",
    "pred = model.predict(X_test)\n",
    "y_pred = np.where(pred < 0.5, 0, 1)"
   ]
  },
  {
   "cell_type": "code",
   "execution_count": 10,
   "id": "f1263ab5",
   "metadata": {},
   "outputs": [
    {
     "name": "stdout",
     "output_type": "stream",
     "text": [
      "              precision    recall  f1-score   support\n",
      "\n",
      "           0       0.99      0.97      0.98      2824\n",
      "           1       0.32      0.62      0.42        56\n",
      "\n",
      "    accuracy                           0.97      2880\n",
      "   macro avg       0.66      0.80      0.70      2880\n",
      "weighted avg       0.98      0.97      0.97      2880\n",
      "\n"
     ]
    }
   ],
   "source": [
    "print(classification_report(y_test, y_pred))"
   ]
  },
  {
   "cell_type": "code",
   "execution_count": 11,
   "id": "a244c49c",
   "metadata": {},
   "outputs": [
    {
     "name": "stdout",
     "output_type": "stream",
     "text": [
      "0.9666666666666667\n",
      "0.3181818181818182\n",
      "0.625\n",
      "0.42168674698795183\n"
     ]
    }
   ],
   "source": [
    "print(accuracy_score(y_test, y_pred))\n",
    "print(precision_score(y_test, y_pred))\n",
    "print(recall_score(y_test, y_pred))\n",
    "print(f1_score(y_test, y_pred))"
   ]
  },
  {
   "cell_type": "markdown",
   "id": "d0e4dd73",
   "metadata": {},
   "source": [
    "### SMOTE ENN"
   ]
  },
  {
   "cell_type": "code",
   "execution_count": 12,
   "id": "e36a8bb5",
   "metadata": {},
   "outputs": [],
   "source": [
    "sme = SMOTEENN(sampling_strategy=0.5, random_state=42, \n",
    "               smote=SMOTE(sampling_strategy=1, k_neighbors=7, random_state=42), \n",
    "               enn=EditedNearestNeighbours(n_neighbors=3))"
   ]
  },
  {
   "cell_type": "code",
   "execution_count": 13,
   "id": "ce4b9118",
   "metadata": {},
   "outputs": [],
   "source": [
    "X_res, y_res = sme.fit_resample(X_train, y_train)"
   ]
  },
  {
   "cell_type": "code",
   "execution_count": 14,
   "id": "4b153f4e",
   "metadata": {},
   "outputs": [
    {
     "data": {
      "text/plain": [
       "fraudulent\n",
       "0             11293\n",
       "1             11279\n",
       "dtype: int64"
      ]
     },
     "execution_count": 14,
     "metadata": {},
     "output_type": "execute_result"
    }
   ],
   "source": [
    "y_res.value_counts()"
   ]
  },
  {
   "cell_type": "code",
   "execution_count": 15,
   "id": "ba4c6f85",
   "metadata": {},
   "outputs": [
    {
     "name": "stdout",
     "output_type": "stream",
     "text": [
      "Epoch 1/25\n",
      "706/706 [==============================] - 3s 5ms/step - loss: 0.0465 - accuracy: 0.9848 - precision: 0.9807 - recall: 0.9890 - auc: 0.9978\n",
      "Epoch 2/25\n",
      "706/706 [==============================] - 4s 5ms/step - loss: 0.0432 - accuracy: 0.9851 - precision: 0.9791 - recall: 0.9914 - auc: 0.9980\n",
      "Epoch 3/25\n",
      "706/706 [==============================] - 4s 6ms/step - loss: 0.0459 - accuracy: 0.9846 - precision: 0.9796 - recall: 0.9898 - auc: 0.9977\n",
      "Epoch 4/25\n",
      "706/706 [==============================] - 4s 6ms/step - loss: 0.0515 - accuracy: 0.9825 - precision: 0.9757 - recall: 0.9895 - auc: 0.9973\n",
      "Epoch 5/25\n",
      "706/706 [==============================] - 5s 6ms/step - loss: 0.0480 - accuracy: 0.9843 - precision: 0.9785 - recall: 0.9903 - auc: 0.9978\n",
      "Epoch 6/25\n",
      "706/706 [==============================] - 4s 5ms/step - loss: 0.0380 - accuracy: 0.9878 - precision: 0.9831 - recall: 0.9926 - auc: 0.9982\n",
      "Epoch 7/25\n",
      "706/706 [==============================] - 4s 5ms/step - loss: 0.0442 - accuracy: 0.9855 - precision: 0.9784 - recall: 0.9929 - auc: 0.9978\n",
      "Epoch 8/25\n",
      "706/706 [==============================] - 5s 7ms/step - loss: 0.0432 - accuracy: 0.9860 - precision: 0.9805 - recall: 0.9917 - auc: 0.9980\n",
      "Epoch 9/25\n",
      "706/706 [==============================] - 3s 5ms/step - loss: 0.0384 - accuracy: 0.9871 - precision: 0.9821 - recall: 0.9923 - auc: 0.9983\n",
      "Epoch 10/25\n",
      "706/706 [==============================] - 3s 5ms/step - loss: 0.0348 - accuracy: 0.9880 - precision: 0.9845 - recall: 0.9917 - auc: 0.9986\n",
      "Epoch 11/25\n",
      "706/706 [==============================] - 4s 5ms/step - loss: 0.0337 - accuracy: 0.9886 - precision: 0.9846 - recall: 0.9927 - auc: 0.9986\n",
      "Epoch 12/25\n",
      "706/706 [==============================] - 3s 5ms/step - loss: 0.0430 - accuracy: 0.9860 - precision: 0.9813 - recall: 0.9910 - auc: 0.9978\n",
      "Epoch 13/25\n",
      "706/706 [==============================] - 3s 5ms/step - loss: 0.0334 - accuracy: 0.9891 - precision: 0.9853 - recall: 0.9930 - auc: 0.9986\n",
      "Epoch 14/25\n",
      "706/706 [==============================] - 3s 5ms/step - loss: 0.0325 - accuracy: 0.9892 - precision: 0.9856 - recall: 0.9929 - auc: 0.9987\n",
      "Epoch 15/25\n",
      "706/706 [==============================] - 3s 5ms/step - loss: 0.0372 - accuracy: 0.9874 - precision: 0.9827 - recall: 0.9922 - auc: 0.9983\n",
      "Epoch 16/25\n",
      "706/706 [==============================] - 3s 5ms/step - loss: 0.0313 - accuracy: 0.9906 - precision: 0.9863 - recall: 0.9950 - auc: 0.9984\n",
      "Epoch 17/25\n",
      "706/706 [==============================] - 3s 5ms/step - loss: 0.0330 - accuracy: 0.9893 - precision: 0.9851 - recall: 0.9935 - auc: 0.9985\n",
      "Epoch 18/25\n",
      "706/706 [==============================] - 3s 5ms/step - loss: 0.0341 - accuracy: 0.9902 - precision: 0.9856 - recall: 0.9949 - auc: 0.9981\n",
      "Epoch 19/25\n",
      "706/706 [==============================] - 3s 5ms/step - loss: 0.0278 - accuracy: 0.9919 - precision: 0.9888 - recall: 0.9950 - auc: 0.9988\n",
      "Epoch 20/25\n",
      "706/706 [==============================] - 3s 5ms/step - loss: 0.0303 - accuracy: 0.9903 - precision: 0.9865 - recall: 0.9942 - auc: 0.9987\n",
      "Epoch 21/25\n",
      "706/706 [==============================] - 3s 5ms/step - loss: 0.0224 - accuracy: 0.9926 - precision: 0.9898 - recall: 0.9956 - auc: 0.9993\n",
      "Epoch 22/25\n",
      "706/706 [==============================] - 4s 5ms/step - loss: 0.0313 - accuracy: 0.9894 - precision: 0.9852 - recall: 0.9937 - auc: 0.9987\n",
      "Epoch 23/25\n",
      "706/706 [==============================] - 4s 6ms/step - loss: 0.0276 - accuracy: 0.9912 - precision: 0.9872 - recall: 0.9953 - auc: 0.9989\n",
      "Epoch 24/25\n",
      "706/706 [==============================] - 3s 5ms/step - loss: 0.0307 - accuracy: 0.9903 - precision: 0.9859 - recall: 0.9947 - auc: 0.9988\n",
      "Epoch 25/25\n",
      "706/706 [==============================] - 3s 5ms/step - loss: 0.0312 - accuracy: 0.9901 - precision: 0.9861 - recall: 0.9941 - auc: 0.9987\n"
     ]
    },
    {
     "data": {
      "text/plain": [
       "<keras.callbacks.History at 0x19ea8b431c0>"
      ]
     },
     "execution_count": 15,
     "metadata": {},
     "output_type": "execute_result"
    }
   ],
   "source": [
    "model.fit(X_res, y_res, epochs=25)"
   ]
  },
  {
   "cell_type": "code",
   "execution_count": 16,
   "id": "ed62bec9",
   "metadata": {},
   "outputs": [
    {
     "name": "stdout",
     "output_type": "stream",
     "text": [
      "Model: \"sequential\"\n",
      "_________________________________________________________________\n",
      " Layer (type)                Output Shape              Param #   \n",
      "=================================================================\n",
      " dense (Dense)               (None, 256)               67584     \n",
      "                                                                 \n",
      " dropout (Dropout)           (None, 256)               0         \n",
      "                                                                 \n",
      " dense_1 (Dense)             (None, 128)               32896     \n",
      "                                                                 \n",
      " dropout_1 (Dropout)         (None, 128)               0         \n",
      "                                                                 \n",
      " dense_2 (Dense)             (None, 64)                8256      \n",
      "                                                                 \n",
      " dropout_2 (Dropout)         (None, 64)                0         \n",
      "                                                                 \n",
      " dense_3 (Dense)             (None, 32)                2080      \n",
      "                                                                 \n",
      " dropout_3 (Dropout)         (None, 32)                0         \n",
      "                                                                 \n",
      " dense_4 (Dense)             (None, 1)                 33        \n",
      "                                                                 \n",
      "=================================================================\n",
      "Total params: 110,849\n",
      "Trainable params: 110,849\n",
      "Non-trainable params: 0\n",
      "_________________________________________________________________\n"
     ]
    }
   ],
   "source": [
    "model.summary()"
   ]
  },
  {
   "cell_type": "code",
   "execution_count": 17,
   "id": "16265c81",
   "metadata": {},
   "outputs": [
    {
     "name": "stdout",
     "output_type": "stream",
     "text": [
      "706/706 [==============================] - 2s 3ms/step - loss: 0.0170 - accuracy: 0.9954 - precision: 0.9919 - recall: 0.9989 - auc: 0.9997\n",
      "[0.016986945644021034, 0.9953925013542175, 0.9919006824493408, 0.9989360570907593, 0.9997446537017822]\n"
     ]
    }
   ],
   "source": [
    "train_score = model.evaluate(X_res, y_res)\n",
    "print(train_score)"
   ]
  },
  {
   "cell_type": "code",
   "execution_count": 18,
   "id": "eff59d83",
   "metadata": {},
   "outputs": [
    {
     "name": "stdout",
     "output_type": "stream",
     "text": [
      "90/90 [==============================] - 0s 2ms/step\n"
     ]
    }
   ],
   "source": [
    "## Test Prediction\n",
    "pred = model.predict(X_test)\n",
    "y_pred = np.where(pred < 0.5, 0, 1)"
   ]
  },
  {
   "cell_type": "code",
   "execution_count": 19,
   "id": "71559435",
   "metadata": {},
   "outputs": [
    {
     "name": "stdout",
     "output_type": "stream",
     "text": [
      "              precision    recall  f1-score   support\n",
      "\n",
      "           0       0.99      0.98      0.99      2824\n",
      "           1       0.38      0.57      0.46        56\n",
      "\n",
      "    accuracy                           0.97      2880\n",
      "   macro avg       0.69      0.78      0.72      2880\n",
      "weighted avg       0.98      0.97      0.98      2880\n",
      "\n"
     ]
    }
   ],
   "source": [
    "print(classification_report(y_test, y_pred))"
   ]
  },
  {
   "cell_type": "code",
   "execution_count": 20,
   "id": "6ca33255",
   "metadata": {},
   "outputs": [
    {
     "name": "stdout",
     "output_type": "stream",
     "text": [
      "0.9736111111111111\n",
      "0.38095238095238093\n",
      "0.5714285714285714\n",
      "0.4571428571428571\n"
     ]
    }
   ],
   "source": [
    "print(accuracy_score(y_test, y_pred))\n",
    "print(precision_score(y_test, y_pred))\n",
    "print(recall_score(y_test, y_pred))\n",
    "print(f1_score(y_test, y_pred))"
   ]
  },
  {
   "cell_type": "markdown",
   "id": "3c18833f",
   "metadata": {},
   "source": [
    "### ADASYN"
   ]
  },
  {
   "cell_type": "code",
   "execution_count": 21,
   "id": "9695da0b",
   "metadata": {},
   "outputs": [],
   "source": [
    "ada = ADASYN(sampling_strategy = 1, random_state=42, n_neighbors = 2)\n",
    "X_res, y_res = ada.fit_resample(X_train, y_train)"
   ]
  },
  {
   "cell_type": "code",
   "execution_count": 22,
   "id": "dee47b51",
   "metadata": {},
   "outputs": [
    {
     "data": {
      "text/plain": [
       "fraudulent\n",
       "0             11293\n",
       "1             11273\n",
       "dtype: int64"
      ]
     },
     "execution_count": 22,
     "metadata": {},
     "output_type": "execute_result"
    }
   ],
   "source": [
    "y_res.value_counts()"
   ]
  },
  {
   "cell_type": "code",
   "execution_count": 23,
   "id": "252181c6",
   "metadata": {},
   "outputs": [
    {
     "name": "stdout",
     "output_type": "stream",
     "text": [
      "Epoch 1/25\n",
      "706/706 [==============================] - 3s 5ms/step - loss: 0.0433 - accuracy: 0.9871 - precision: 0.9814 - recall: 0.9929 - auc: 0.9977\n",
      "Epoch 2/25\n",
      "706/706 [==============================] - 3s 5ms/step - loss: 0.0411 - accuracy: 0.9868 - precision: 0.9805 - recall: 0.9933 - auc: 0.9979\n",
      "Epoch 3/25\n",
      "706/706 [==============================] - 3s 5ms/step - loss: 0.0320 - accuracy: 0.9899 - precision: 0.9853 - recall: 0.9947 - auc: 0.9983\n",
      "Epoch 4/25\n",
      "706/706 [==============================] - 3s 5ms/step - loss: 0.0319 - accuracy: 0.9899 - precision: 0.9856 - recall: 0.9943 - auc: 0.9985\n",
      "Epoch 5/25\n",
      "706/706 [==============================] - 3s 5ms/step - loss: 0.0265 - accuracy: 0.9923 - precision: 0.9882 - recall: 0.9965 - auc: 0.9986\n",
      "Epoch 6/25\n",
      "706/706 [==============================] - 3s 5ms/step - loss: 0.0324 - accuracy: 0.9905 - precision: 0.9867 - recall: 0.9943 - auc: 0.9984\n",
      "Epoch 7/25\n",
      "706/706 [==============================] - 3s 5ms/step - loss: 0.0275 - accuracy: 0.9915 - precision: 0.9885 - recall: 0.9947 - auc: 0.9987\n",
      "Epoch 8/25\n",
      "706/706 [==============================] - 3s 5ms/step - loss: 0.0229 - accuracy: 0.9934 - precision: 0.9902 - recall: 0.9967 - auc: 0.9990\n",
      "Epoch 9/25\n",
      "706/706 [==============================] - 3s 5ms/step - loss: 0.0279 - accuracy: 0.9918 - precision: 0.9885 - recall: 0.9951 - auc: 0.9987\n",
      "Epoch 10/25\n",
      "706/706 [==============================] - 3s 5ms/step - loss: 0.0221 - accuracy: 0.9942 - precision: 0.9914 - recall: 0.9971 - auc: 0.9989\n",
      "Epoch 11/25\n",
      "706/706 [==============================] - 3s 5ms/step - loss: 0.0248 - accuracy: 0.9931 - precision: 0.9901 - recall: 0.9961 - auc: 0.9989\n",
      "Epoch 12/25\n",
      "706/706 [==============================] - 3s 5ms/step - loss: 0.0252 - accuracy: 0.9924 - precision: 0.9886 - recall: 0.9962 - auc: 0.9988\n",
      "Epoch 13/25\n",
      "706/706 [==============================] - 3s 5ms/step - loss: 0.0280 - accuracy: 0.9928 - precision: 0.9894 - recall: 0.9962 - auc: 0.9986\n",
      "Epoch 14/25\n",
      "706/706 [==============================] - 3s 5ms/step - loss: 0.0235 - accuracy: 0.9931 - precision: 0.9902 - recall: 0.9960 - auc: 0.9989\n",
      "Epoch 15/25\n",
      "706/706 [==============================] - 3s 5ms/step - loss: 0.0229 - accuracy: 0.9931 - precision: 0.9898 - recall: 0.9965 - auc: 0.9990\n",
      "Epoch 16/25\n",
      "706/706 [==============================] - 3s 5ms/step - loss: 0.0264 - accuracy: 0.9924 - precision: 0.9894 - recall: 0.9955 - auc: 0.9987\n",
      "Epoch 17/25\n",
      "706/706 [==============================] - 3s 5ms/step - loss: 0.0259 - accuracy: 0.9921 - precision: 0.9890 - recall: 0.9952 - auc: 0.9988\n",
      "Epoch 18/25\n",
      "706/706 [==============================] - 3s 5ms/step - loss: 0.0173 - accuracy: 0.9955 - precision: 0.9939 - recall: 0.9972 - auc: 0.9993\n",
      "Epoch 19/25\n",
      "706/706 [==============================] - 3s 5ms/step - loss: 0.0257 - accuracy: 0.9923 - precision: 0.9881 - recall: 0.9965 - auc: 0.9988\n",
      "Epoch 20/25\n",
      "706/706 [==============================] - 3s 5ms/step - loss: 0.0196 - accuracy: 0.9937 - precision: 0.9912 - recall: 0.9963 - auc: 0.9992\n",
      "Epoch 21/25\n",
      "706/706 [==============================] - 3s 5ms/step - loss: 0.0168 - accuracy: 0.9951 - precision: 0.9935 - recall: 0.9967 - auc: 0.9994\n",
      "Epoch 22/25\n",
      "706/706 [==============================] - 3s 5ms/step - loss: 0.0184 - accuracy: 0.9943 - precision: 0.9926 - recall: 0.9961 - auc: 0.9992\n",
      "Epoch 23/25\n",
      "706/706 [==============================] - 3s 5ms/step - loss: 0.0202 - accuracy: 0.9941 - precision: 0.9922 - recall: 0.9960 - auc: 0.9992\n",
      "Epoch 24/25\n",
      "706/706 [==============================] - 3s 5ms/step - loss: 0.0195 - accuracy: 0.9949 - precision: 0.9929 - recall: 0.9970 - auc: 0.9989\n",
      "Epoch 25/25\n",
      "706/706 [==============================] - 3s 5ms/step - loss: 0.0228 - accuracy: 0.9938 - precision: 0.9914 - recall: 0.9963 - auc: 0.9986\n"
     ]
    },
    {
     "data": {
      "text/plain": [
       "<keras.callbacks.History at 0x19ea8af3910>"
      ]
     },
     "execution_count": 23,
     "metadata": {},
     "output_type": "execute_result"
    }
   ],
   "source": [
    "model.fit(X_res, y_res, epochs=25)"
   ]
  },
  {
   "cell_type": "code",
   "execution_count": 24,
   "id": "3ee89175",
   "metadata": {},
   "outputs": [
    {
     "name": "stdout",
     "output_type": "stream",
     "text": [
      "Model: \"sequential\"\n",
      "_________________________________________________________________\n",
      " Layer (type)                Output Shape              Param #   \n",
      "=================================================================\n",
      " dense (Dense)               (None, 256)               67584     \n",
      "                                                                 \n",
      " dropout (Dropout)           (None, 256)               0         \n",
      "                                                                 \n",
      " dense_1 (Dense)             (None, 128)               32896     \n",
      "                                                                 \n",
      " dropout_1 (Dropout)         (None, 128)               0         \n",
      "                                                                 \n",
      " dense_2 (Dense)             (None, 64)                8256      \n",
      "                                                                 \n",
      " dropout_2 (Dropout)         (None, 64)                0         \n",
      "                                                                 \n",
      " dense_3 (Dense)             (None, 32)                2080      \n",
      "                                                                 \n",
      " dropout_3 (Dropout)         (None, 32)                0         \n",
      "                                                                 \n",
      " dense_4 (Dense)             (None, 1)                 33        \n",
      "                                                                 \n",
      "=================================================================\n",
      "Total params: 110,849\n",
      "Trainable params: 110,849\n",
      "Non-trainable params: 0\n",
      "_________________________________________________________________\n"
     ]
    }
   ],
   "source": [
    "model.summary()"
   ]
  },
  {
   "cell_type": "code",
   "execution_count": 25,
   "id": "399df1a9",
   "metadata": {},
   "outputs": [
    {
     "name": "stdout",
     "output_type": "stream",
     "text": [
      "706/706 [==============================] - 2s 3ms/step - loss: 0.0359 - accuracy: 0.9817 - precision: 0.9994 - recall: 0.9639 - auc: 0.9998\n",
      "[0.03594714775681496, 0.9816538095474243, 0.999356210231781, 0.9638960361480713, 0.9997847676277161]\n"
     ]
    }
   ],
   "source": [
    "train_score = model.evaluate(X_res, y_res)\n",
    "print(train_score)"
   ]
  },
  {
   "cell_type": "code",
   "execution_count": 26,
   "id": "8473a061",
   "metadata": {},
   "outputs": [
    {
     "name": "stdout",
     "output_type": "stream",
     "text": [
      "90/90 [==============================] - 0s 2ms/step\n"
     ]
    }
   ],
   "source": [
    "## Test Prediction\n",
    "pred = model.predict(X_test)\n",
    "y_pred = np.where(pred < 0.5, 0, 1)"
   ]
  },
  {
   "cell_type": "code",
   "execution_count": 27,
   "id": "9a7742df",
   "metadata": {},
   "outputs": [
    {
     "name": "stdout",
     "output_type": "stream",
     "text": [
      "              precision    recall  f1-score   support\n",
      "\n",
      "           0       0.99      1.00      0.99      2824\n",
      "           1       0.63      0.43      0.51        56\n",
      "\n",
      "    accuracy                           0.98      2880\n",
      "   macro avg       0.81      0.71      0.75      2880\n",
      "weighted avg       0.98      0.98      0.98      2880\n",
      "\n"
     ]
    }
   ],
   "source": [
    "print(classification_report(y_test, y_pred))"
   ]
  },
  {
   "cell_type": "code",
   "execution_count": 28,
   "id": "c68d4281",
   "metadata": {},
   "outputs": [
    {
     "name": "stdout",
     "output_type": "stream",
     "text": [
      "0.9840277777777777\n",
      "0.631578947368421\n",
      "0.42857142857142855\n",
      "0.5106382978723404\n"
     ]
    }
   ],
   "source": [
    "print(accuracy_score(y_test, y_pred))\n",
    "print(precision_score(y_test, y_pred))\n",
    "print(recall_score(y_test, y_pred))\n",
    "print(f1_score(y_test, y_pred))"
   ]
  },
  {
   "cell_type": "markdown",
   "id": "a3e7c8d8",
   "metadata": {},
   "source": [
    "## CNN"
   ]
  },
  {
   "cell_type": "markdown",
   "id": "31b8f711",
   "metadata": {},
   "source": [
    "### Base Model"
   ]
  },
  {
   "cell_type": "code",
   "execution_count": 29,
   "id": "2b9a6698",
   "metadata": {},
   "outputs": [],
   "source": [
    "cnn_model = Sequential()\n",
    "cnn_model.add(Conv1D(32, 3, activation='relu', input_shape=(X_res.shape[1], 1)))\n",
    "cnn_model.add(MaxPooling1D(pool_size=2, strides=3))\n",
    "cnn_model.add(Flatten())\n",
    "cnn_model.add(Dense(256, activation='relu'))\n",
    "cnn_model.add(Dropout(0.2))\n",
    "cnn_model.add(Dense(128, activation='relu'))\n",
    "cnn_model.add(Dropout(0.2))\n",
    "cnn_model.add(Dense(64, activation='relu'))\n",
    "cnn_model.add(Dropout(0.2))\n",
    "cnn_model.add(Dense(32, activation='relu'))\n",
    "cnn_model.add(Dropout(0.2))\n",
    "cnn_model.add(Dense(1, activation='sigmoid'))\n",
    "cnn_model.compile(loss='binary_crossentropy', optimizer='adam', metrics=['accuracy',metrics.Precision(), metrics.Recall(),metrics.AUC()])"
   ]
  },
  {
   "cell_type": "markdown",
   "id": "fcadcf7e",
   "metadata": {},
   "source": [
    "### Random OverSampler"
   ]
  },
  {
   "cell_type": "code",
   "execution_count": 30,
   "id": "0855c2c8",
   "metadata": {},
   "outputs": [],
   "source": [
    "ros = RandomOverSampler(sampling_strategy = 1, random_state=42)\n",
    "X_res, y_res = ros.fit_resample(X_train, y_train)"
   ]
  },
  {
   "cell_type": "code",
   "execution_count": 31,
   "id": "0384727a",
   "metadata": {},
   "outputs": [
    {
     "data": {
      "text/plain": [
       "fraudulent\n",
       "0             11293\n",
       "1             11293\n",
       "dtype: int64"
      ]
     },
     "execution_count": 31,
     "metadata": {},
     "output_type": "execute_result"
    }
   ],
   "source": [
    "y_res.value_counts()"
   ]
  },
  {
   "cell_type": "code",
   "execution_count": 32,
   "id": "883bdb38",
   "metadata": {},
   "outputs": [
    {
     "name": "stdout",
     "output_type": "stream",
     "text": [
      "Epoch 1/25\n",
      "706/706 [==============================] - 12s 15ms/step - loss: 0.4786 - accuracy: 0.7590 - precision_1: 0.7535 - recall_1: 0.7699 - auc_1: 0.8493\n",
      "Epoch 2/25\n",
      "706/706 [==============================] - 11s 16ms/step - loss: 0.2706 - accuracy: 0.8918 - precision_1: 0.8738 - recall_1: 0.9158 - auc_1: 0.9525\n",
      "Epoch 3/25\n",
      "706/706 [==============================] - 11s 15ms/step - loss: 0.2025 - accuracy: 0.9203 - precision_1: 0.8999 - recall_1: 0.9457 - auc_1: 0.9726\n",
      "Epoch 4/25\n",
      "706/706 [==============================] - 11s 15ms/step - loss: 0.1641 - accuracy: 0.9304 - precision_1: 0.9101 - recall_1: 0.9552 - auc_1: 0.9823\n",
      "Epoch 5/25\n",
      "706/706 [==============================] - 11s 15ms/step - loss: 0.1322 - accuracy: 0.9466 - precision_1: 0.9270 - recall_1: 0.9695 - auc_1: 0.9881\n",
      "Epoch 6/25\n",
      "706/706 [==============================] - 11s 15ms/step - loss: 0.1117 - accuracy: 0.9559 - precision_1: 0.9375 - recall_1: 0.9771 - auc_1: 0.9910\n",
      "Epoch 7/25\n",
      "706/706 [==============================] - 11s 15ms/step - loss: 0.1108 - accuracy: 0.9560 - precision_1: 0.9369 - recall_1: 0.9780 - auc_1: 0.9912\n",
      "Epoch 8/25\n",
      "706/706 [==============================] - 11s 15ms/step - loss: 0.0965 - accuracy: 0.9617 - precision_1: 0.9428 - recall_1: 0.9830 - auc_1: 0.9932\n",
      "Epoch 9/25\n",
      "706/706 [==============================] - 11s 15ms/step - loss: 0.1013 - accuracy: 0.9606 - precision_1: 0.9432 - recall_1: 0.9803 - auc_1: 0.9926\n",
      "Epoch 10/25\n",
      "706/706 [==============================] - 11s 15ms/step - loss: 0.0790 - accuracy: 0.9700 - precision_1: 0.9555 - recall_1: 0.9859 - auc_1: 0.9950\n",
      "Epoch 11/25\n",
      "706/706 [==============================] - 11s 15ms/step - loss: 0.0799 - accuracy: 0.9696 - precision_1: 0.9555 - recall_1: 0.9851 - auc_1: 0.9950\n",
      "Epoch 12/25\n",
      "706/706 [==============================] - 11s 15ms/step - loss: 0.0762 - accuracy: 0.9724 - precision_1: 0.9598 - recall_1: 0.9861 - auc_1: 0.9954\n",
      "Epoch 13/25\n",
      "706/706 [==============================] - 11s 15ms/step - loss: 0.0819 - accuracy: 0.9692 - precision_1: 0.9559 - recall_1: 0.9839 - auc_1: 0.9949\n",
      "Epoch 14/25\n",
      "706/706 [==============================] - 11s 15ms/step - loss: 0.0714 - accuracy: 0.9728 - precision_1: 0.9617 - recall_1: 0.9849 - auc_1: 0.9958\n",
      "Epoch 15/25\n",
      "706/706 [==============================] - 11s 15ms/step - loss: 0.0699 - accuracy: 0.9760 - precision_1: 0.9638 - recall_1: 0.9893 - auc_1: 0.9955\n",
      "Epoch 16/25\n",
      "706/706 [==============================] - 11s 15ms/step - loss: 0.0639 - accuracy: 0.9783 - precision_1: 0.9673 - recall_1: 0.9902 - auc_1: 0.9960\n",
      "Epoch 17/25\n",
      "706/706 [==============================] - 11s 15ms/step - loss: 0.0660 - accuracy: 0.9770 - precision_1: 0.9662 - recall_1: 0.9886 - auc_1: 0.9962\n",
      "Epoch 18/25\n",
      "706/706 [==============================] - 11s 15ms/step - loss: 0.0668 - accuracy: 0.9771 - precision_1: 0.9665 - recall_1: 0.9885 - auc_1: 0.9959\n",
      "Epoch 19/25\n",
      "706/706 [==============================] - 11s 15ms/step - loss: 0.0678 - accuracy: 0.9761 - precision_1: 0.9639 - recall_1: 0.9893 - auc_1: 0.9959\n",
      "Epoch 20/25\n",
      "706/706 [==============================] - 11s 15ms/step - loss: 0.0556 - accuracy: 0.9808 - precision_1: 0.9722 - recall_1: 0.9899 - auc_1: 0.9970\n",
      "Epoch 21/25\n",
      "706/706 [==============================] - 11s 15ms/step - loss: 0.0560 - accuracy: 0.9815 - precision_1: 0.9706 - recall_1: 0.9932 - auc_1: 0.9967\n",
      "Epoch 22/25\n",
      "706/706 [==============================] - 11s 15ms/step - loss: 0.0541 - accuracy: 0.9811 - precision_1: 0.9720 - recall_1: 0.9907 - auc_1: 0.9972\n",
      "Epoch 23/25\n",
      "706/706 [==============================] - 11s 15ms/step - loss: 0.0517 - accuracy: 0.9833 - precision_1: 0.9754 - recall_1: 0.9916 - auc_1: 0.9974\n",
      "Epoch 24/25\n",
      "706/706 [==============================] - 11s 16ms/step - loss: 0.0489 - accuracy: 0.9842 - precision_1: 0.9758 - recall_1: 0.9930 - auc_1: 0.9976\n",
      "Epoch 25/25\n",
      "706/706 [==============================] - 11s 15ms/step - loss: 0.0488 - accuracy: 0.9838 - precision_1: 0.9764 - recall_1: 0.9916 - auc_1: 0.9973\n"
     ]
    },
    {
     "data": {
      "text/plain": [
       "<keras.callbacks.History at 0x19ea8af8550>"
      ]
     },
     "execution_count": 32,
     "metadata": {},
     "output_type": "execute_result"
    }
   ],
   "source": [
    "cnn_model.fit(X_res, y_res, epochs=25)"
   ]
  },
  {
   "cell_type": "code",
   "execution_count": 33,
   "id": "5e170d9c",
   "metadata": {},
   "outputs": [
    {
     "name": "stdout",
     "output_type": "stream",
     "text": [
      "Model: \"sequential_1\"\n",
      "_________________________________________________________________\n",
      " Layer (type)                Output Shape              Param #   \n",
      "=================================================================\n",
      " conv1d (Conv1D)             (None, 261, 32)           128       \n",
      "                                                                 \n",
      " max_pooling1d (MaxPooling1D  (None, 87, 32)           0         \n",
      " )                                                               \n",
      "                                                                 \n",
      " flatten (Flatten)           (None, 2784)              0         \n",
      "                                                                 \n",
      " dense_5 (Dense)             (None, 256)               712960    \n",
      "                                                                 \n",
      " dropout_4 (Dropout)         (None, 256)               0         \n",
      "                                                                 \n",
      " dense_6 (Dense)             (None, 128)               32896     \n",
      "                                                                 \n",
      " dropout_5 (Dropout)         (None, 128)               0         \n",
      "                                                                 \n",
      " dense_7 (Dense)             (None, 64)                8256      \n",
      "                                                                 \n",
      " dropout_6 (Dropout)         (None, 64)                0         \n",
      "                                                                 \n",
      " dense_8 (Dense)             (None, 32)                2080      \n",
      "                                                                 \n",
      " dropout_7 (Dropout)         (None, 32)                0         \n",
      "                                                                 \n",
      " dense_9 (Dense)             (None, 1)                 33        \n",
      "                                                                 \n",
      "=================================================================\n",
      "Total params: 756,353\n",
      "Trainable params: 756,353\n",
      "Non-trainable params: 0\n",
      "_________________________________________________________________\n"
     ]
    }
   ],
   "source": [
    "cnn_model.summary()"
   ]
  },
  {
   "cell_type": "code",
   "execution_count": 34,
   "id": "24a811e7",
   "metadata": {},
   "outputs": [
    {
     "name": "stdout",
     "output_type": "stream",
     "text": [
      "706/706 [==============================] - 4s 5ms/step - loss: 0.0248 - accuracy: 0.9955 - precision_1: 0.9957 - recall_1: 0.9954 - auc_1: 0.9995\n",
      "[0.024830488488078117, 0.9955282211303711, 0.9956598877906799, 0.9953953623771667, 0.9995181560516357]\n"
     ]
    }
   ],
   "source": [
    "train_score = cnn_model.evaluate(X_res, y_res)\n",
    "print(train_score)"
   ]
  },
  {
   "cell_type": "code",
   "execution_count": 35,
   "id": "f7e2c5a0",
   "metadata": {},
   "outputs": [
    {
     "name": "stdout",
     "output_type": "stream",
     "text": [
      "90/90 [==============================] - 1s 5ms/step\n"
     ]
    }
   ],
   "source": [
    "pred = cnn_model.predict(X_test)\n",
    "y_pred = np.where(pred < 0.5, 0, 1)"
   ]
  },
  {
   "cell_type": "code",
   "execution_count": 36,
   "id": "f1b0b7f9",
   "metadata": {},
   "outputs": [
    {
     "data": {
      "text/plain": [
       "array([[2789,   35],\n",
       "       [  23,   33]], dtype=int64)"
      ]
     },
     "execution_count": 36,
     "metadata": {},
     "output_type": "execute_result"
    }
   ],
   "source": [
    "confusion_matrix(y_test, y_pred)"
   ]
  },
  {
   "cell_type": "code",
   "execution_count": 37,
   "id": "e4015668",
   "metadata": {},
   "outputs": [
    {
     "name": "stdout",
     "output_type": "stream",
     "text": [
      "              precision    recall  f1-score   support\n",
      "\n",
      "           0       0.99      0.99      0.99      2824\n",
      "           1       0.49      0.59      0.53        56\n",
      "\n",
      "    accuracy                           0.98      2880\n",
      "   macro avg       0.74      0.79      0.76      2880\n",
      "weighted avg       0.98      0.98      0.98      2880\n",
      "\n"
     ]
    }
   ],
   "source": [
    "print(classification_report(y_test, y_pred))"
   ]
  },
  {
   "cell_type": "code",
   "execution_count": 38,
   "id": "8c9bef57",
   "metadata": {},
   "outputs": [
    {
     "name": "stdout",
     "output_type": "stream",
     "text": [
      "0.9798611111111111\n",
      "0.4852941176470588\n",
      "0.5892857142857143\n",
      "0.532258064516129\n"
     ]
    }
   ],
   "source": [
    "print(accuracy_score(y_test, y_pred))\n",
    "print(precision_score(y_test, y_pred))\n",
    "print(recall_score(y_test, y_pred))\n",
    "print(f1_score(y_test, y_pred))"
   ]
  },
  {
   "cell_type": "markdown",
   "id": "53dfb0a3",
   "metadata": {},
   "source": [
    "### SMOTE ENN"
   ]
  },
  {
   "cell_type": "code",
   "execution_count": 39,
   "id": "ba60b399",
   "metadata": {},
   "outputs": [],
   "source": [
    "sme = SMOTEENN(sampling_strategy=0.5, random_state=42, \n",
    "               smote=SMOTE(sampling_strategy=1, k_neighbors=7, random_state=42), \n",
    "               enn=EditedNearestNeighbours(n_neighbors=3))"
   ]
  },
  {
   "cell_type": "code",
   "execution_count": 40,
   "id": "60aecde3",
   "metadata": {},
   "outputs": [],
   "source": [
    "X_res, y_res = sme.fit_resample(X_train, y_train)"
   ]
  },
  {
   "cell_type": "code",
   "execution_count": 41,
   "id": "7c11631a",
   "metadata": {},
   "outputs": [
    {
     "data": {
      "text/plain": [
       "fraudulent\n",
       "0             11293\n",
       "1             11279\n",
       "dtype: int64"
      ]
     },
     "execution_count": 41,
     "metadata": {},
     "output_type": "execute_result"
    }
   ],
   "source": [
    "y_res.value_counts()"
   ]
  },
  {
   "cell_type": "code",
   "execution_count": 42,
   "id": "a3981ac1",
   "metadata": {},
   "outputs": [
    {
     "name": "stdout",
     "output_type": "stream",
     "text": [
      "Epoch 1/25\n",
      "706/706 [==============================] - 10s 15ms/step - loss: 0.0462 - accuracy: 0.9857 - precision_1: 0.9784 - recall_1: 0.9934 - auc_1: 0.9974\n",
      "Epoch 2/25\n",
      "706/706 [==============================] - 11s 15ms/step - loss: 0.0467 - accuracy: 0.9854 - precision_1: 0.9789 - recall_1: 0.9922 - auc_1: 0.9974\n",
      "Epoch 3/25\n",
      "706/706 [==============================] - 11s 15ms/step - loss: 0.0454 - accuracy: 0.9860 - precision_1: 0.9785 - recall_1: 0.9939 - auc_1: 0.9975\n",
      "Epoch 4/25\n",
      "706/706 [==============================] - 11s 15ms/step - loss: 0.0421 - accuracy: 0.9873 - precision_1: 0.9807 - recall_1: 0.9941 - auc_1: 0.9976\n",
      "Epoch 5/25\n",
      "706/706 [==============================] - 11s 15ms/step - loss: 0.0402 - accuracy: 0.9877 - precision_1: 0.9802 - recall_1: 0.9955 - auc_1: 0.9979\n",
      "Epoch 6/25\n",
      "706/706 [==============================] - 11s 15ms/step - loss: 0.0403 - accuracy: 0.9873 - precision_1: 0.9809 - recall_1: 0.9939 - auc_1: 0.9981\n",
      "Epoch 7/25\n",
      "706/706 [==============================] - 11s 15ms/step - loss: 0.0419 - accuracy: 0.9876 - precision_1: 0.9814 - recall_1: 0.9941 - auc_1: 0.9975\n",
      "Epoch 8/25\n",
      "706/706 [==============================] - 11s 15ms/step - loss: 0.0394 - accuracy: 0.9880 - precision_1: 0.9808 - recall_1: 0.9955 - auc_1: 0.9979\n",
      "Epoch 9/25\n",
      "706/706 [==============================] - 11s 15ms/step - loss: 0.0356 - accuracy: 0.9887 - precision_1: 0.9833 - recall_1: 0.9943 - auc_1: 0.9983\n",
      "Epoch 10/25\n",
      "706/706 [==============================] - 11s 15ms/step - loss: 0.0403 - accuracy: 0.9883 - precision_1: 0.9824 - recall_1: 0.9943 - auc_1: 0.9980\n",
      "Epoch 11/25\n",
      "706/706 [==============================] - 11s 15ms/step - loss: 0.0351 - accuracy: 0.9886 - precision_1: 0.9828 - recall_1: 0.9946 - auc_1: 0.9985\n",
      "Epoch 12/25\n",
      "706/706 [==============================] - 11s 15ms/step - loss: 0.0367 - accuracy: 0.9887 - precision_1: 0.9826 - recall_1: 0.9950 - auc_1: 0.9983\n",
      "Epoch 13/25\n",
      "706/706 [==============================] - 11s 15ms/step - loss: 0.0352 - accuracy: 0.9893 - precision_1: 0.9836 - recall_1: 0.9951 - auc_1: 0.9983\n",
      "Epoch 14/25\n",
      "706/706 [==============================] - 11s 15ms/step - loss: 0.0369 - accuracy: 0.9886 - precision_1: 0.9827 - recall_1: 0.9948 - auc_1: 0.9983\n",
      "Epoch 15/25\n",
      "706/706 [==============================] - 11s 15ms/step - loss: 0.0297 - accuracy: 0.9908 - precision_1: 0.9863 - recall_1: 0.9954 - auc_1: 0.9987\n",
      "Epoch 16/25\n",
      "706/706 [==============================] - 11s 15ms/step - loss: 0.0291 - accuracy: 0.9917 - precision_1: 0.9878 - recall_1: 0.9957 - auc_1: 0.9986\n",
      "Epoch 17/25\n",
      "706/706 [==============================] - 11s 16ms/step - loss: 0.0345 - accuracy: 0.9887 - precision_1: 0.9830 - recall_1: 0.9946 - auc_1: 0.9986\n",
      "Epoch 18/25\n",
      "706/706 [==============================] - 11s 16ms/step - loss: 0.0357 - accuracy: 0.9887 - precision_1: 0.9824 - recall_1: 0.9953 - auc_1: 0.9984\n",
      "Epoch 19/25\n",
      "706/706 [==============================] - 11s 15ms/step - loss: 0.0298 - accuracy: 0.9910 - precision_1: 0.9860 - recall_1: 0.9961 - auc_1: 0.9988\n",
      "Epoch 20/25\n",
      "706/706 [==============================] - 11s 16ms/step - loss: 0.0262 - accuracy: 0.9920 - precision_1: 0.9880 - recall_1: 0.9961 - auc_1: 0.9991\n",
      "Epoch 21/25\n",
      "706/706 [==============================] - 11s 15ms/step - loss: 0.0327 - accuracy: 0.9903 - precision_1: 0.9849 - recall_1: 0.9959 - auc_1: 0.9986\n",
      "Epoch 22/25\n",
      "706/706 [==============================] - 11s 15ms/step - loss: 0.0366 - accuracy: 0.9881 - precision_1: 0.9810 - recall_1: 0.9954 - auc_1: 0.9985\n",
      "Epoch 23/25\n",
      "706/706 [==============================] - 11s 15ms/step - loss: 0.0284 - accuracy: 0.9916 - precision_1: 0.9860 - recall_1: 0.9974 - auc_1: 0.9989\n",
      "Epoch 24/25\n",
      "706/706 [==============================] - 11s 15ms/step - loss: 0.0294 - accuracy: 0.9908 - precision_1: 0.9851 - recall_1: 0.9966 - auc_1: 0.9988\n",
      "Epoch 25/25\n",
      "706/706 [==============================] - 11s 15ms/step - loss: 0.0333 - accuracy: 0.9903 - precision_1: 0.9849 - recall_1: 0.9959 - auc_1: 0.9983\n"
     ]
    },
    {
     "data": {
      "text/plain": [
       "<keras.callbacks.History at 0x19ea99116a0>"
      ]
     },
     "execution_count": 42,
     "metadata": {},
     "output_type": "execute_result"
    }
   ],
   "source": [
    "cnn_model.fit(X_res, y_res, epochs=25)"
   ]
  },
  {
   "cell_type": "code",
   "execution_count": 43,
   "id": "ccd325ad",
   "metadata": {},
   "outputs": [
    {
     "name": "stdout",
     "output_type": "stream",
     "text": [
      "Model: \"sequential_1\"\n",
      "_________________________________________________________________\n",
      " Layer (type)                Output Shape              Param #   \n",
      "=================================================================\n",
      " conv1d (Conv1D)             (None, 261, 32)           128       \n",
      "                                                                 \n",
      " max_pooling1d (MaxPooling1D  (None, 87, 32)           0         \n",
      " )                                                               \n",
      "                                                                 \n",
      " flatten (Flatten)           (None, 2784)              0         \n",
      "                                                                 \n",
      " dense_5 (Dense)             (None, 256)               712960    \n",
      "                                                                 \n",
      " dropout_4 (Dropout)         (None, 256)               0         \n",
      "                                                                 \n",
      " dense_6 (Dense)             (None, 128)               32896     \n",
      "                                                                 \n",
      " dropout_5 (Dropout)         (None, 128)               0         \n",
      "                                                                 \n",
      " dense_7 (Dense)             (None, 64)                8256      \n",
      "                                                                 \n",
      " dropout_6 (Dropout)         (None, 64)                0         \n",
      "                                                                 \n",
      " dense_8 (Dense)             (None, 32)                2080      \n",
      "                                                                 \n",
      " dropout_7 (Dropout)         (None, 32)                0         \n",
      "                                                                 \n",
      " dense_9 (Dense)             (None, 1)                 33        \n",
      "                                                                 \n",
      "=================================================================\n",
      "Total params: 756,353\n",
      "Trainable params: 756,353\n",
      "Non-trainable params: 0\n",
      "_________________________________________________________________\n"
     ]
    }
   ],
   "source": [
    "cnn_model.summary()"
   ]
  },
  {
   "cell_type": "code",
   "execution_count": 44,
   "id": "abd6efdd",
   "metadata": {},
   "outputs": [
    {
     "name": "stdout",
     "output_type": "stream",
     "text": [
      "706/706 [==============================] - 4s 6ms/step - loss: 0.0092 - accuracy: 0.9977 - precision_1: 0.9990 - recall_1: 0.9964 - auc_1: 1.0000\n",
      "[0.00915208738297224, 0.9976962804794312, 0.9990221261978149, 0.996364951133728, 0.9999727606773376]\n"
     ]
    }
   ],
   "source": [
    "train_score = cnn_model.evaluate(X_res, y_res)\n",
    "print(train_score)"
   ]
  },
  {
   "cell_type": "code",
   "execution_count": 45,
   "id": "3ec2daa1",
   "metadata": {},
   "outputs": [
    {
     "name": "stdout",
     "output_type": "stream",
     "text": [
      "90/90 [==============================] - 1s 5ms/step\n"
     ]
    }
   ],
   "source": [
    "pred = cnn_model.predict(X_test)\n",
    "y_pred = np.where(pred < 0.5, 0, 1)"
   ]
  },
  {
   "cell_type": "code",
   "execution_count": 46,
   "id": "8600884a",
   "metadata": {},
   "outputs": [
    {
     "data": {
      "text/plain": [
       "array([[2810,   14],\n",
       "       [  28,   28]], dtype=int64)"
      ]
     },
     "execution_count": 46,
     "metadata": {},
     "output_type": "execute_result"
    }
   ],
   "source": [
    "confusion_matrix(y_test, y_pred)"
   ]
  },
  {
   "cell_type": "code",
   "execution_count": 47,
   "id": "8bc7e3f1",
   "metadata": {},
   "outputs": [
    {
     "name": "stdout",
     "output_type": "stream",
     "text": [
      "              precision    recall  f1-score   support\n",
      "\n",
      "           0       0.99      1.00      0.99      2824\n",
      "           1       0.67      0.50      0.57        56\n",
      "\n",
      "    accuracy                           0.99      2880\n",
      "   macro avg       0.83      0.75      0.78      2880\n",
      "weighted avg       0.98      0.99      0.98      2880\n",
      "\n"
     ]
    }
   ],
   "source": [
    "print(classification_report(y_test, y_pred))"
   ]
  },
  {
   "cell_type": "code",
   "execution_count": 48,
   "id": "25cda70b",
   "metadata": {},
   "outputs": [
    {
     "name": "stdout",
     "output_type": "stream",
     "text": [
      "0.9854166666666667\n",
      "0.6666666666666666\n",
      "0.5\n",
      "0.5714285714285715\n"
     ]
    }
   ],
   "source": [
    "print(accuracy_score(y_test, y_pred))\n",
    "print(precision_score(y_test, y_pred))\n",
    "print(recall_score(y_test, y_pred))\n",
    "print(f1_score(y_test, y_pred))"
   ]
  },
  {
   "cell_type": "markdown",
   "id": "991d2526",
   "metadata": {},
   "source": [
    "### ADASYN"
   ]
  },
  {
   "cell_type": "code",
   "execution_count": 49,
   "id": "c29a3d33",
   "metadata": {},
   "outputs": [],
   "source": [
    "ada = ADASYN(sampling_strategy = 1, random_state=42, n_neighbors = 2)\n",
    "X_res, y_res = ada.fit_resample(X_train, y_train)"
   ]
  },
  {
   "cell_type": "code",
   "execution_count": 50,
   "id": "50d4f721",
   "metadata": {},
   "outputs": [
    {
     "data": {
      "text/plain": [
       "fraudulent\n",
       "0             11293\n",
       "1             11273\n",
       "dtype: int64"
      ]
     },
     "execution_count": 50,
     "metadata": {},
     "output_type": "execute_result"
    }
   ],
   "source": [
    "y_res.value_counts()"
   ]
  },
  {
   "cell_type": "code",
   "execution_count": 51,
   "id": "b7414755",
   "metadata": {},
   "outputs": [
    {
     "name": "stdout",
     "output_type": "stream",
     "text": [
      "Epoch 1/25\n",
      "706/706 [==============================] - 11s 15ms/step - loss: 0.0333 - accuracy: 0.9907 - precision_1: 0.9854 - recall_1: 0.9962 - auc_1: 0.9983\n",
      "Epoch 2/25\n",
      "706/706 [==============================] - 11s 15ms/step - loss: 0.0284 - accuracy: 0.9922 - precision_1: 0.9877 - recall_1: 0.9968 - auc_1: 0.9983\n",
      "Epoch 3/25\n",
      "706/706 [==============================] - 11s 15ms/step - loss: 0.0300 - accuracy: 0.9912 - precision_1: 0.9865 - recall_1: 0.9961 - auc_1: 0.9984\n",
      "Epoch 4/25\n",
      "706/706 [==============================] - 11s 15ms/step - loss: 0.0294 - accuracy: 0.9917 - precision_1: 0.9870 - recall_1: 0.9965 - auc_1: 0.9985\n",
      "Epoch 5/25\n",
      "706/706 [==============================] - 13s 19ms/step - loss: 0.0271 - accuracy: 0.9930 - precision_1: 0.9886 - recall_1: 0.9974 - auc_1: 0.9986\n",
      "Epoch 6/25\n",
      "706/706 [==============================] - 12s 18ms/step - loss: 0.0326 - accuracy: 0.9904 - precision_1: 0.9849 - recall_1: 0.9961 - auc_1: 0.9982\n",
      "Epoch 7/25\n",
      "706/706 [==============================] - 11s 15ms/step - loss: 0.0244 - accuracy: 0.9934 - precision_1: 0.9896 - recall_1: 0.9972 - auc_1: 0.9990\n",
      "Epoch 8/25\n",
      "706/706 [==============================] - 12s 17ms/step - loss: 0.0324 - accuracy: 0.9913 - precision_1: 0.9857 - recall_1: 0.9970 - auc_1: 0.9984\n",
      "Epoch 9/25\n",
      "706/706 [==============================] - 13s 19ms/step - loss: 0.0313 - accuracy: 0.9918 - precision_1: 0.9877 - recall_1: 0.9961 - auc_1: 0.9979\n",
      "Epoch 10/25\n",
      "706/706 [==============================] - 12s 16ms/step - loss: 0.0303 - accuracy: 0.9914 - precision_1: 0.9876 - recall_1: 0.9953 - auc_1: 0.9981\n",
      "Epoch 11/25\n",
      "706/706 [==============================] - 14s 19ms/step - loss: 0.0330 - accuracy: 0.9909 - precision_1: 0.9856 - recall_1: 0.9964 - auc_1: 0.9978\n",
      "Epoch 12/25\n",
      "706/706 [==============================] - 14s 20ms/step - loss: 0.0260 - accuracy: 0.9936 - precision_1: 0.9900 - recall_1: 0.9973 - auc_1: 0.9983\n",
      "Epoch 13/25\n",
      "706/706 [==============================] - 14s 19ms/step - loss: 0.0286 - accuracy: 0.9924 - precision_1: 0.9880 - recall_1: 0.9969 - auc_1: 0.9983\n",
      "Epoch 14/25\n",
      "706/706 [==============================] - 14s 20ms/step - loss: 0.0319 - accuracy: 0.9913 - precision_1: 0.9866 - recall_1: 0.9960 - auc_1: 0.9979\n",
      "Epoch 15/25\n",
      "706/706 [==============================] - 12s 17ms/step - loss: 0.0390 - accuracy: 0.9893 - precision_1: 0.9835 - recall_1: 0.9953 - auc_1: 0.9972\n",
      "Epoch 16/25\n",
      "706/706 [==============================] - 12s 16ms/step - loss: 0.0254 - accuracy: 0.9931 - precision_1: 0.9894 - recall_1: 0.9968 - auc_1: 0.9984\n",
      "Epoch 17/25\n",
      "706/706 [==============================] - 11s 16ms/step - loss: 0.0275 - accuracy: 0.9917 - precision_1: 0.9884 - recall_1: 0.9951 - auc_1: 0.9983\n",
      "Epoch 18/25\n",
      "706/706 [==============================] - 11s 16ms/step - loss: 0.0257 - accuracy: 0.9926 - precision_1: 0.9893 - recall_1: 0.9959 - auc_1: 0.9985\n",
      "Epoch 19/25\n",
      "706/706 [==============================] - 13s 18ms/step - loss: 0.0229 - accuracy: 0.9939 - precision_1: 0.9907 - recall_1: 0.9971 - auc_1: 0.9987\n",
      "Epoch 20/25\n",
      "706/706 [==============================] - 12s 17ms/step - loss: 0.0237 - accuracy: 0.9929 - precision_1: 0.9893 - recall_1: 0.9965 - auc_1: 0.9987\n",
      "Epoch 21/25\n",
      "706/706 [==============================] - 12s 17ms/step - loss: 0.0243 - accuracy: 0.9932 - precision_1: 0.9899 - recall_1: 0.9966 - auc_1: 0.9987\n",
      "Epoch 22/25\n",
      "706/706 [==============================] - 12s 18ms/step - loss: 0.0227 - accuracy: 0.9945 - precision_1: 0.9910 - recall_1: 0.9980 - auc_1: 0.9984\n",
      "Epoch 23/25\n",
      "706/706 [==============================] - 13s 18ms/step - loss: 0.0331 - accuracy: 0.9908 - precision_1: 0.9865 - recall_1: 0.9953 - auc_1: 0.9977\n",
      "Epoch 24/25\n",
      "706/706 [==============================] - 14s 19ms/step - loss: 0.0260 - accuracy: 0.9931 - precision_1: 0.9890 - recall_1: 0.9973 - auc_1: 0.9983\n",
      "Epoch 25/25\n",
      "706/706 [==============================] - 13s 18ms/step - loss: 0.0211 - accuracy: 0.9940 - precision_1: 0.9914 - recall_1: 0.9966 - auc_1: 0.9989\n"
     ]
    },
    {
     "data": {
      "text/plain": [
       "<keras.callbacks.History at 0x19ea9f9af70>"
      ]
     },
     "execution_count": 51,
     "metadata": {},
     "output_type": "execute_result"
    }
   ],
   "source": [
    "cnn_model.fit(X_res, y_res, epochs=25)"
   ]
  },
  {
   "cell_type": "code",
   "execution_count": 52,
   "id": "30b76790",
   "metadata": {},
   "outputs": [
    {
     "name": "stdout",
     "output_type": "stream",
     "text": [
      "Model: \"sequential_1\"\n",
      "_________________________________________________________________\n",
      " Layer (type)                Output Shape              Param #   \n",
      "=================================================================\n",
      " conv1d (Conv1D)             (None, 261, 32)           128       \n",
      "                                                                 \n",
      " max_pooling1d (MaxPooling1D  (None, 87, 32)           0         \n",
      " )                                                               \n",
      "                                                                 \n",
      " flatten (Flatten)           (None, 2784)              0         \n",
      "                                                                 \n",
      " dense_5 (Dense)             (None, 256)               712960    \n",
      "                                                                 \n",
      " dropout_4 (Dropout)         (None, 256)               0         \n",
      "                                                                 \n",
      " dense_6 (Dense)             (None, 128)               32896     \n",
      "                                                                 \n",
      " dropout_5 (Dropout)         (None, 128)               0         \n",
      "                                                                 \n",
      " dense_7 (Dense)             (None, 64)                8256      \n",
      "                                                                 \n",
      " dropout_6 (Dropout)         (None, 64)                0         \n",
      "                                                                 \n",
      " dense_8 (Dense)             (None, 32)                2080      \n",
      "                                                                 \n",
      " dropout_7 (Dropout)         (None, 32)                0         \n",
      "                                                                 \n",
      " dense_9 (Dense)             (None, 1)                 33        \n",
      "                                                                 \n",
      "=================================================================\n",
      "Total params: 756,353\n",
      "Trainable params: 756,353\n",
      "Non-trainable params: 0\n",
      "_________________________________________________________________\n"
     ]
    }
   ],
   "source": [
    "cnn_model.summary()"
   ]
  },
  {
   "cell_type": "code",
   "execution_count": 53,
   "id": "20ea3322",
   "metadata": {},
   "outputs": [
    {
     "name": "stdout",
     "output_type": "stream",
     "text": [
      "706/706 [==============================] - 5s 6ms/step - loss: 0.0076 - accuracy: 0.9973 - precision_1: 0.9947 - recall_1: 1.0000 - auc_1: 0.9999\n",
      "[0.007642523385584354, 0.9973411560058594, 0.9947057366371155, 1.0, 0.9998940825462341]\n"
     ]
    }
   ],
   "source": [
    "train_score = cnn_model.evaluate(X_res, y_res)\n",
    "print(train_score)"
   ]
  },
  {
   "cell_type": "code",
   "execution_count": 54,
   "id": "99ddf269",
   "metadata": {},
   "outputs": [
    {
     "name": "stdout",
     "output_type": "stream",
     "text": [
      "90/90 [==============================] - 1s 6ms/step\n"
     ]
    }
   ],
   "source": [
    "pred = cnn_model.predict(X_test)\n",
    "y_pred = np.where(pred < 0.5, 0, 1)"
   ]
  },
  {
   "cell_type": "code",
   "execution_count": 55,
   "id": "5a3aabae",
   "metadata": {},
   "outputs": [
    {
     "data": {
      "text/plain": [
       "array([[2787,   37],\n",
       "       [  22,   34]], dtype=int64)"
      ]
     },
     "execution_count": 55,
     "metadata": {},
     "output_type": "execute_result"
    }
   ],
   "source": [
    "confusion_matrix(y_test, y_pred)"
   ]
  },
  {
   "cell_type": "code",
   "execution_count": 56,
   "id": "db0841a2",
   "metadata": {},
   "outputs": [
    {
     "name": "stdout",
     "output_type": "stream",
     "text": [
      "              precision    recall  f1-score   support\n",
      "\n",
      "           0       0.99      0.99      0.99      2824\n",
      "           1       0.48      0.61      0.54        56\n",
      "\n",
      "    accuracy                           0.98      2880\n",
      "   macro avg       0.74      0.80      0.76      2880\n",
      "weighted avg       0.98      0.98      0.98      2880\n",
      "\n"
     ]
    }
   ],
   "source": [
    "print(classification_report(y_test, y_pred))"
   ]
  },
  {
   "cell_type": "code",
   "execution_count": 57,
   "id": "7e4fc7b7",
   "metadata": {},
   "outputs": [
    {
     "name": "stdout",
     "output_type": "stream",
     "text": [
      "0.9795138888888889\n",
      "0.4788732394366197\n",
      "0.6071428571428571\n",
      "0.5354330708661418\n"
     ]
    }
   ],
   "source": [
    "print(accuracy_score(y_test, y_pred))\n",
    "print(precision_score(y_test, y_pred))\n",
    "print(recall_score(y_test, y_pred))\n",
    "print(f1_score(y_test, y_pred))"
   ]
  }
 ],
 "metadata": {
  "kernelspec": {
   "display_name": "Python 3 (ipykernel)",
   "language": "python",
   "name": "python3"
  },
  "language_info": {
   "codemirror_mode": {
    "name": "ipython",
    "version": 3
   },
   "file_extension": ".py",
   "mimetype": "text/x-python",
   "name": "python",
   "nbconvert_exporter": "python",
   "pygments_lexer": "ipython3",
   "version": "3.9.12"
  }
 },
 "nbformat": 4,
 "nbformat_minor": 5
}
