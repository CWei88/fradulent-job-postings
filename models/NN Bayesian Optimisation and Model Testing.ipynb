{
 "cells": [
  {
   "cell_type": "code",
   "execution_count": 3,
   "id": "e698ea1c",
   "metadata": {},
   "outputs": [
    {
     "name": "stdout",
     "output_type": "stream",
     "text": [
      "Collecting bayesian-optimization\n",
      "  Using cached bayesian_optimization-1.3.1-py3-none-any.whl (16 kB)\n",
      "Requirement already satisfied: scikit-learn>=0.18.0 in c:\\anaconda3\\lib\\site-packages (from bayesian-optimization) (1.0.2)\n",
      "Requirement already satisfied: scipy>=1.0.0 in c:\\anaconda3\\lib\\site-packages (from bayesian-optimization) (1.7.3)\n",
      "Requirement already satisfied: numpy>=1.9.0 in c:\\anaconda3\\lib\\site-packages (from bayesian-optimization) (1.21.5)\n",
      "Requirement already satisfied: joblib>=0.11 in c:\\anaconda3\\lib\\site-packages (from scikit-learn>=0.18.0->bayesian-optimization) (1.1.0)\n",
      "Requirement already satisfied: threadpoolctl>=2.0.0 in c:\\anaconda3\\lib\\site-packages (from scikit-learn>=0.18.0->bayesian-optimization) (2.2.0)\n",
      "Installing collected packages: bayesian-optimization\n",
      "Successfully installed bayesian-optimization-1.3.1\n"
     ]
    }
   ],
   "source": [
    "!pip install bayesian-optimization"
   ]
  },
  {
   "cell_type": "code",
   "execution_count": 1,
   "id": "4027bc8b",
   "metadata": {},
   "outputs": [],
   "source": [
    "import pandas as pd\n",
    "import numpy as np\n",
    "from matplotlib import pyplot as plt\n",
    "\n",
    "# oversampling packages\n",
    "from imblearn.combine import SMOTEENN\n",
    "from collections import Counter\n",
    "from imblearn.over_sampling import SMOTE\n",
    "from imblearn.under_sampling import EditedNearestNeighbours\n",
    "from imblearn.over_sampling import RandomOverSampler\n",
    "\n",
    "#optimisation\n",
    "from bayes_opt import BayesianOptimization\n",
    "\n",
    "# model building\n",
    "import keras\n",
    "import tensorflow\n",
    "from keras import layers\n",
    "from keras.models import Sequential\n",
    "from keras.layers import Dense, Activation, Dropout, Flatten, Embedding, SimpleRNN , concatenate, Lambda, Conv1D, MaxPooling1D\n",
    "from keras.layers import LeakyReLU\n",
    "from keras.callbacks import EarlyStopping, ModelCheckpoint\n",
    "from keras.optimizers import Adam, SGD, RMSprop, Adadelta, Adagrad, Adamax, Nadam, Ftrl\n",
    "from keras import metrics\n",
    "from keras.losses import BinaryCrossentropy\n",
    "from keras.wrappers.scikit_learn import KerasClassifier\n",
    "\n",
    "from sklearn.model_selection import train_test_split\n",
    "from sklearn.model_selection import cross_val_score\n",
    "from sklearn.preprocessing import StandardScaler, LabelEncoder\n",
    "from sklearn.linear_model import LogisticRegression\n",
    "from sklearn.metrics import classification_report, confusion_matrix, f1_score, precision_score, recall_score, accuracy_score\n",
    "from sklearn import linear_model, model_selection"
   ]
  },
  {
   "cell_type": "code",
   "execution_count": 2,
   "id": "c70ac044",
   "metadata": {},
   "outputs": [],
   "source": [
    "X_train = pd.read_csv('../datasets/word2vec/train_data_imputed_FINAL.csv')\n",
    "X_test = pd.read_csv('../datasets/word2vec/test_data_imputed_FINAL.csv')\n",
    "y_train = pd.read_csv('../datasets/word2vec/y_train_FINAL.csv')\n",
    "y_test = pd.read_csv('../datasets/word2vec/y_test_FINAL.csv')"
   ]
  },
  {
   "cell_type": "code",
   "execution_count": 3,
   "id": "28036697",
   "metadata": {},
   "outputs": [],
   "source": [
    "y_train = y_train.drop(columns=['Unnamed: 0'])\n",
    "y_test = y_test.drop(columns=['Unnamed: 0'])"
   ]
  },
  {
   "cell_type": "code",
   "execution_count": 4,
   "id": "85842b66",
   "metadata": {},
   "outputs": [],
   "source": [
    "def rnn_tuner( batch_size, neurons, activation, optimizer, dropout, dropout_rate, learning_rate, epochs, layers1, layers2):\n",
    "\n",
    "    optimizerL = ['SGD', 'Adam', 'RMSprop', 'Adadelta', 'Adagrad', 'Adamax', 'Nadam', 'Ftrl']\n",
    "    optimizerD= {'Adam':Adam(learning_rate=learning_rate), 'SGD':SGD(learning_rate=learning_rate),\n",
    "                  'RMSprop':RMSprop(learning_rate=learning_rate), 'Adadelta':Adadelta(learning_rate=learning_rate),\n",
    "                  'Adagrad':Adagrad(learning_rate=learning_rate), 'Adamax':Adamax(learning_rate=learning_rate),\n",
    "                  'Nadam':Nadam(learning_rate=learning_rate), 'Ftrl':Ftrl(learning_rate=learning_rate)}\n",
    "    activationL = ['relu', 'sigmoid', 'softplus', 'softsign', 'tanh', 'selu',\n",
    "                    'elu', 'exponential', 'LeakyReLU','relu']\n",
    "    neurons = round(neurons)\n",
    "    activation = activationL[round(activation)]\n",
    "    optimizer = optimizerD[optimizerL[round(optimizer)]]\n",
    "    batch_size = round(batch_size)\n",
    "    epochs = round(epochs)\n",
    "    layers1 = round(layers1)\n",
    "    layers2 = round(layers2)\n",
    "    \n",
    "    def create_model():\n",
    "        tuned_model = Sequential()\n",
    "\n",
    "        for i in range(layers1): #varying first set of hidden layers\n",
    "            tuned_model.add(Dense(neurons, activation=activation))\n",
    "\n",
    "        if dropout > 0.5:\n",
    "            tuned_model.add(Dropout(dropout_rate, seed=42))\n",
    "\n",
    "        for i in range(layers2): #varying second set of hidden layers\n",
    "            tuned_model.add(Dense(neurons, activation=activation))\n",
    "\n",
    "        tuned_model.add(Dense(1, activation='sigmoid')) #output layer\n",
    "\n",
    "        tuned_model.compile(loss='binary_crossentropy', optimizer = optimizer, metrics=['accuracy',metrics.Precision(), metrics.Recall(),metrics.AUC()])\n",
    "       # tuned_model = tuned_model.fit(X_train_smenn, y_train_smenn, epochs=20)\n",
    "       # tuned_model.summary()\n",
    "\n",
    "        return tuned_model\n",
    "\n",
    "    es = EarlyStopping(monitor=\"loss\", patience=3)\n",
    "    mc = ModelCheckpoint('Best_tuned_RNN_.h5', monitor='val_loss',mode='min',verbose=2, save_best_only=True)\n",
    "\n",
    "    tune_rnn = KerasClassifier(build_fn=create_model, epochs=epochs, batch_size=batch_size, verbose=0) \n",
    "    score = cross_val_score(tune_rnn, X_train_over, y_train_over, \n",
    "                            fit_params={'callbacks':[es]}, error_score='raise',\n",
    "                           scoring='f1').mean() #5 fold cross validation default\n",
    "    return score"
   ]
  },
  {
   "cell_type": "code",
   "execution_count": 5,
   "id": "42e67073",
   "metadata": {},
   "outputs": [],
   "source": [
    "ros = RandomOverSampler(sampling_strategy = 1, random_state=42)"
   ]
  },
  {
   "cell_type": "code",
   "execution_count": 6,
   "id": "5822204e",
   "metadata": {},
   "outputs": [],
   "source": [
    "X_train_over, y_train_over = ros.fit_resample(X_train, y_train)"
   ]
  },
  {
   "cell_type": "markdown",
   "id": "941558a1",
   "metadata": {},
   "source": [
    "## Bayesian Optimisation"
   ]
  },
  {
   "cell_type": "code",
   "execution_count": 62,
   "id": "15151c90",
   "metadata": {},
   "outputs": [],
   "source": [
    "params_rnn ={\n",
    "    'neurons': (32, 256),\n",
    "    'activation':(0, 9),\n",
    "    'optimizer':(0,7),\n",
    "    'learning_rate':(0.001, 0.01),\n",
    "    'batch_size':(100, 1000),\n",
    "    'epochs':(10, 30),\n",
    "    'layers1':(1,3),\n",
    "    'layers2':(1,4),\n",
    "    'dropout':(0,1),\n",
    "    'dropout_rate':(0,0.4)\n",
    "}"
   ]
  },
  {
   "cell_type": "code",
   "execution_count": 63,
   "id": "07875c0c",
   "metadata": {
    "scrolled": true
   },
   "outputs": [
    {
     "name": "stdout",
     "output_type": "stream",
     "text": [
      "|   iter    |  target   | activa... | batch_... |  dropout  | dropou... |  epochs   |  layers1  |  layers2  | learni... |  neurons  | optimizer |\n",
      "-------------------------------------------------------------------------------------------------------------------------------------------------\n"
     ]
    },
    {
     "name": "stderr",
     "output_type": "stream",
     "text": [
      "C:\\Users\\Chen Wei\\AppData\\Local\\Temp\\ipykernel_4128\\1000544679.py:41: DeprecationWarning: KerasClassifier is deprecated, use Sci-Keras (https://github.com/adriangb/scikeras) instead. See https://www.adriangb.com/scikeras/stable/migration.html for help migrating.\n",
      "  tune_rnn = KerasClassifier(build_fn=create_model, epochs=epochs, batch_size=batch_size, verbose=0)\n"
     ]
    },
    {
     "name": "stdout",
     "output_type": "stream",
     "text": [
      "142/142 [==============================] - 0s 1ms/step\n",
      "142/142 [==============================] - 0s 1ms/step\n",
      "142/142 [==============================] - 0s 1ms/step\n",
      "142/142 [==============================] - 0s 1ms/step\n",
      "142/142 [==============================] - 0s 1ms/step\n",
      "| \u001b[0m1        \u001b[0m | \u001b[0m0.8179   \u001b[0m | \u001b[0m3.371    \u001b[0m | \u001b[0m955.6    \u001b[0m | \u001b[0m0.732    \u001b[0m | \u001b[0m0.2395   \u001b[0m | \u001b[0m13.12    \u001b[0m | \u001b[0m1.312    \u001b[0m | \u001b[0m1.174    \u001b[0m | \u001b[0m0.008796 \u001b[0m | \u001b[0m166.6    \u001b[0m | \u001b[0m4.957    \u001b[0m |\n"
     ]
    },
    {
     "name": "stderr",
     "output_type": "stream",
     "text": [
      "C:\\Users\\Chen Wei\\AppData\\Local\\Temp\\ipykernel_4128\\1000544679.py:41: DeprecationWarning: KerasClassifier is deprecated, use Sci-Keras (https://github.com/adriangb/scikeras) instead. See https://www.adriangb.com/scikeras/stable/migration.html for help migrating.\n",
      "  tune_rnn = KerasClassifier(build_fn=create_model, epochs=epochs, batch_size=batch_size, verbose=0)\n"
     ]
    },
    {
     "name": "stdout",
     "output_type": "stream",
     "text": [
      "142/142 [==============================] - 1s 3ms/step\n",
      "142/142 [==============================] - 1s 3ms/step\n",
      "142/142 [==============================] - 1s 3ms/step\n",
      "142/142 [==============================] - 1s 3ms/step\n",
      "142/142 [==============================] - 1s 3ms/step\n",
      "| \u001b[0m2        \u001b[0m | \u001b[0m0.7633   \u001b[0m | \u001b[0m0.1853   \u001b[0m | \u001b[0m972.9    \u001b[0m | \u001b[0m0.8324   \u001b[0m | \u001b[0m0.08494  \u001b[0m | \u001b[0m13.64    \u001b[0m | \u001b[0m1.367    \u001b[0m | \u001b[0m1.913    \u001b[0m | \u001b[0m0.005723 \u001b[0m | \u001b[0m128.8    \u001b[0m | \u001b[0m2.039    \u001b[0m |\n"
     ]
    },
    {
     "name": "stderr",
     "output_type": "stream",
     "text": [
      "C:\\Users\\Chen Wei\\AppData\\Local\\Temp\\ipykernel_4128\\1000544679.py:41: DeprecationWarning: KerasClassifier is deprecated, use Sci-Keras (https://github.com/adriangb/scikeras) instead. See https://www.adriangb.com/scikeras/stable/migration.html for help migrating.\n",
      "  tune_rnn = KerasClassifier(build_fn=create_model, epochs=epochs, batch_size=batch_size, verbose=0)\n"
     ]
    },
    {
     "name": "stdout",
     "output_type": "stream",
     "text": [
      "142/142 [==============================] - 1s 3ms/step\n",
      "142/142 [==============================] - 1s 5ms/step\n",
      "142/142 [==============================] - 1s 5ms/step\n",
      "142/142 [==============================] - 1s 3ms/step\n",
      "142/142 [==============================] - 1s 3ms/step\n",
      "| \u001b[0m3        \u001b[0m | \u001b[0m0.4617   \u001b[0m | \u001b[0m5.507    \u001b[0m | \u001b[0m225.5    \u001b[0m | \u001b[0m0.2921   \u001b[0m | \u001b[0m0.1465   \u001b[0m | \u001b[0m19.12    \u001b[0m | \u001b[0m2.57     \u001b[0m | \u001b[0m1.599    \u001b[0m | \u001b[0m0.005628 \u001b[0m | \u001b[0m164.7    \u001b[0m | \u001b[0m0.3252   \u001b[0m |\n"
     ]
    },
    {
     "name": "stderr",
     "output_type": "stream",
     "text": [
      "C:\\Users\\Chen Wei\\AppData\\Local\\Temp\\ipykernel_4128\\1000544679.py:41: DeprecationWarning: KerasClassifier is deprecated, use Sci-Keras (https://github.com/adriangb/scikeras) instead. See https://www.adriangb.com/scikeras/stable/migration.html for help migrating.\n",
      "  tune_rnn = KerasClassifier(build_fn=create_model, epochs=epochs, batch_size=batch_size, verbose=0)\n"
     ]
    },
    {
     "name": "stdout",
     "output_type": "stream",
     "text": [
      "142/142 [==============================] - 1s 3ms/step\n",
      "142/142 [==============================] - 1s 3ms/step\n",
      "142/142 [==============================] - 1s 3ms/step\n",
      "142/142 [==============================] - 1s 3ms/step\n",
      "142/142 [==============================] - 1s 3ms/step\n",
      "| \u001b[0m4        \u001b[0m | \u001b[0m0.486    \u001b[0m | \u001b[0m5.468    \u001b[0m | \u001b[0m253.5    \u001b[0m | \u001b[0m0.06505  \u001b[0m | \u001b[0m0.3796   \u001b[0m | \u001b[0m29.31    \u001b[0m | \u001b[0m2.617    \u001b[0m | \u001b[0m1.914    \u001b[0m | \u001b[0m0.001879 \u001b[0m | \u001b[0m185.3    \u001b[0m | \u001b[0m3.081    \u001b[0m |\n"
     ]
    },
    {
     "name": "stderr",
     "output_type": "stream",
     "text": [
      "C:\\Users\\Chen Wei\\AppData\\Local\\Temp\\ipykernel_4128\\1000544679.py:41: DeprecationWarning: KerasClassifier is deprecated, use Sci-Keras (https://github.com/adriangb/scikeras) instead. See https://www.adriangb.com/scikeras/stable/migration.html for help migrating.\n",
      "  tune_rnn = KerasClassifier(build_fn=create_model, epochs=epochs, batch_size=batch_size, verbose=0)\n"
     ]
    },
    {
     "name": "stdout",
     "output_type": "stream",
     "text": [
      "142/142 [==============================] - 0s 2ms/step\n",
      "142/142 [==============================] - 0s 2ms/step\n",
      "142/142 [==============================] - 1s 3ms/step\n",
      "142/142 [==============================] - 1s 3ms/step\n",
      "142/142 [==============================] - 1s 4ms/step\n",
      "| \u001b[0m5        \u001b[0m | \u001b[0m0.4454   \u001b[0m | \u001b[0m1.098    \u001b[0m | \u001b[0m545.7    \u001b[0m | \u001b[0m0.03439  \u001b[0m | \u001b[0m0.3637   \u001b[0m | \u001b[0m15.18    \u001b[0m | \u001b[0m2.325    \u001b[0m | \u001b[0m1.935    \u001b[0m | \u001b[0m0.005681 \u001b[0m | \u001b[0m154.5    \u001b[0m | \u001b[0m1.294    \u001b[0m |\n"
     ]
    },
    {
     "name": "stderr",
     "output_type": "stream",
     "text": [
      "C:\\Users\\Chen Wei\\AppData\\Local\\Temp\\ipykernel_4128\\1000544679.py:41: DeprecationWarning: KerasClassifier is deprecated, use Sci-Keras (https://github.com/adriangb/scikeras) instead. See https://www.adriangb.com/scikeras/stable/migration.html for help migrating.\n",
      "  tune_rnn = KerasClassifier(build_fn=create_model, epochs=epochs, batch_size=batch_size, verbose=0)\n"
     ]
    },
    {
     "name": "stdout",
     "output_type": "stream",
     "text": [
      "142/142 [==============================] - 0s 2ms/step\n",
      "142/142 [==============================] - 0s 2ms/step\n",
      "142/142 [==============================] - 1s 3ms/step\n",
      "142/142 [==============================] - 0s 2ms/step\n",
      "142/142 [==============================] - 1s 4ms/step\n",
      "| \u001b[0m6        \u001b[0m | \u001b[0m0.7545   \u001b[0m | \u001b[0m8.726    \u001b[0m | \u001b[0m797.6    \u001b[0m | \u001b[0m0.9395   \u001b[0m | \u001b[0m0.3579   \u001b[0m | \u001b[0m21.96    \u001b[0m | \u001b[0m2.844    \u001b[0m | \u001b[0m1.265    \u001b[0m | \u001b[0m0.002764 \u001b[0m | \u001b[0m42.13    \u001b[0m | \u001b[0m2.277    \u001b[0m |\n"
     ]
    },
    {
     "name": "stderr",
     "output_type": "stream",
     "text": [
      "C:\\Users\\Chen Wei\\AppData\\Local\\Temp\\ipykernel_4128\\1000544679.py:41: DeprecationWarning: KerasClassifier is deprecated, use Sci-Keras (https://github.com/adriangb/scikeras) instead. See https://www.adriangb.com/scikeras/stable/migration.html for help migrating.\n",
      "  tune_rnn = KerasClassifier(build_fn=create_model, epochs=epochs, batch_size=batch_size, verbose=0)\n"
     ]
    },
    {
     "name": "stdout",
     "output_type": "stream",
     "text": [
      "142/142 [==============================] - 0s 2ms/step\n",
      "142/142 [==============================] - 1s 2ms/step\n",
      "142/142 [==============================] - 0s 2ms/step\n",
      "142/142 [==============================] - 0s 2ms/step\n",
      "142/142 [==============================] - 0s 2ms/step\n",
      "| \u001b[0m7        \u001b[0m | \u001b[0m0.1416   \u001b[0m | \u001b[0m3.498    \u001b[0m | \u001b[0m344.2    \u001b[0m | \u001b[0m0.8287   \u001b[0m | \u001b[0m0.1427   \u001b[0m | \u001b[0m15.62    \u001b[0m | \u001b[0m2.085    \u001b[0m | \u001b[0m1.423    \u001b[0m | \u001b[0m0.00822  \u001b[0m | \u001b[0m48.7     \u001b[0m | \u001b[0m6.908    \u001b[0m |\n"
     ]
    },
    {
     "name": "stderr",
     "output_type": "stream",
     "text": [
      "C:\\Users\\Chen Wei\\AppData\\Local\\Temp\\ipykernel_4128\\1000544679.py:41: DeprecationWarning: KerasClassifier is deprecated, use Sci-Keras (https://github.com/adriangb/scikeras) instead. See https://www.adriangb.com/scikeras/stable/migration.html for help migrating.\n",
      "  tune_rnn = KerasClassifier(build_fn=create_model, epochs=epochs, batch_size=batch_size, verbose=0)\n"
     ]
    },
    {
     "name": "stdout",
     "output_type": "stream",
     "text": [
      "142/142 [==============================] - 1s 3ms/step\n",
      "142/142 [==============================] - 1s 3ms/step\n",
      "142/142 [==============================] - 1s 3ms/step\n",
      "142/142 [==============================] - 1s 3ms/step\n",
      "142/142 [==============================] - 1s 3ms/step\n",
      "| \u001b[0m8        \u001b[0m | \u001b[0m0.0      \u001b[0m | \u001b[0m6.95     \u001b[0m | \u001b[0m278.8    \u001b[0m | \u001b[0m0.005522 \u001b[0m | \u001b[0m0.3262   \u001b[0m | \u001b[0m24.14    \u001b[0m | \u001b[0m2.458    \u001b[0m | \u001b[0m3.314    \u001b[0m | \u001b[0m0.001666 \u001b[0m | \u001b[0m112.3    \u001b[0m | \u001b[0m0.8111   \u001b[0m |\n"
     ]
    },
    {
     "name": "stderr",
     "output_type": "stream",
     "text": [
      "C:\\Users\\Chen Wei\\AppData\\Local\\Temp\\ipykernel_4128\\1000544679.py:41: DeprecationWarning: KerasClassifier is deprecated, use Sci-Keras (https://github.com/adriangb/scikeras) instead. See https://www.adriangb.com/scikeras/stable/migration.html for help migrating.\n",
      "  tune_rnn = KerasClassifier(build_fn=create_model, epochs=epochs, batch_size=batch_size, verbose=0)\n"
     ]
    },
    {
     "name": "stdout",
     "output_type": "stream",
     "text": [
      "142/142 [==============================] - 1s 4ms/step\n",
      "142/142 [==============================] - 1s 4ms/step\n",
      "142/142 [==============================] - 1s 4ms/step\n",
      "142/142 [==============================] - 1s 4ms/step\n",
      "142/142 [==============================] - 1s 4ms/step\n",
      "| \u001b[0m9        \u001b[0m | \u001b[0m0.27     \u001b[0m | \u001b[0m7.768    \u001b[0m | \u001b[0m661.0    \u001b[0m | \u001b[0m0.3309   \u001b[0m | \u001b[0m0.02542  \u001b[0m | \u001b[0m16.22    \u001b[0m | \u001b[0m1.65     \u001b[0m | \u001b[0m3.189    \u001b[0m | \u001b[0m0.006738 \u001b[0m | \u001b[0m230.7    \u001b[0m | \u001b[0m3.306    \u001b[0m |\n"
     ]
    },
    {
     "name": "stderr",
     "output_type": "stream",
     "text": [
      "C:\\Users\\Chen Wei\\AppData\\Local\\Temp\\ipykernel_4128\\1000544679.py:41: DeprecationWarning: KerasClassifier is deprecated, use Sci-Keras (https://github.com/adriangb/scikeras) instead. See https://www.adriangb.com/scikeras/stable/migration.html for help migrating.\n",
      "  tune_rnn = KerasClassifier(build_fn=create_model, epochs=epochs, batch_size=batch_size, verbose=0)\n"
     ]
    },
    {
     "name": "stdout",
     "output_type": "stream",
     "text": [
      "142/142 [==============================] - 0s 2ms/step\n",
      "142/142 [==============================] - 0s 2ms/step\n",
      "142/142 [==============================] - 1s 2ms/step\n",
      "142/142 [==============================] - 0s 2ms/step\n",
      "142/142 [==============================] - 0s 2ms/step\n",
      "| \u001b[95m10       \u001b[0m | \u001b[95m0.8906   \u001b[0m | \u001b[95m1.076    \u001b[0m | \u001b[95m741.9    \u001b[0m | \u001b[95m0.7608   \u001b[0m | \u001b[95m0.2245   \u001b[0m | \u001b[95m25.42    \u001b[0m | \u001b[95m1.988    \u001b[0m | \u001b[95m2.568    \u001b[0m | \u001b[95m0.004848 \u001b[0m | \u001b[95m37.69    \u001b[0m | \u001b[95m0.7552   \u001b[0m |\n"
     ]
    },
    {
     "name": "stderr",
     "output_type": "stream",
     "text": [
      "C:\\Users\\Chen Wei\\AppData\\Local\\Temp\\ipykernel_4128\\1000544679.py:41: DeprecationWarning: KerasClassifier is deprecated, use Sci-Keras (https://github.com/adriangb/scikeras) instead. See https://www.adriangb.com/scikeras/stable/migration.html for help migrating.\n",
      "  tune_rnn = KerasClassifier(build_fn=create_model, epochs=epochs, batch_size=batch_size, verbose=0)\n"
     ]
    },
    {
     "name": "stdout",
     "output_type": "stream",
     "text": [
      "142/142 [==============================] - 0s 2ms/step\n",
      "142/142 [==============================] - 0s 2ms/step\n",
      "142/142 [==============================] - 0s 2ms/step\n",
      "142/142 [==============================] - 0s 2ms/step\n",
      "142/142 [==============================] - 0s 2ms/step\n",
      "| \u001b[0m11       \u001b[0m | \u001b[0m0.7993   \u001b[0m | \u001b[0m0.2829   \u001b[0m | \u001b[0m672.8    \u001b[0m | \u001b[0m0.3144   \u001b[0m | \u001b[0m0.2034   \u001b[0m | \u001b[0m28.15    \u001b[0m | \u001b[0m1.499    \u001b[0m | \u001b[0m2.231    \u001b[0m | \u001b[0m0.0078   \u001b[0m | \u001b[0m83.25    \u001b[0m | \u001b[0m0.5389   \u001b[0m |\n"
     ]
    },
    {
     "name": "stderr",
     "output_type": "stream",
     "text": [
      "C:\\Users\\Chen Wei\\AppData\\Local\\Temp\\ipykernel_4128\\1000544679.py:41: DeprecationWarning: KerasClassifier is deprecated, use Sci-Keras (https://github.com/adriangb/scikeras) instead. See https://www.adriangb.com/scikeras/stable/migration.html for help migrating.\n",
      "  tune_rnn = KerasClassifier(build_fn=create_model, epochs=epochs, batch_size=batch_size, verbose=0)\n"
     ]
    },
    {
     "name": "stdout",
     "output_type": "stream",
     "text": [
      "142/142 [==============================] - 1s 4ms/step\n",
      "142/142 [==============================] - 1s 7ms/step\n",
      "142/142 [==============================] - 1s 4ms/step\n",
      "142/142 [==============================] - 1s 3ms/step\n",
      "142/142 [==============================] - 1s 4ms/step\n",
      "| \u001b[0m12       \u001b[0m | \u001b[0m0.6821   \u001b[0m | \u001b[0m2.608    \u001b[0m | \u001b[0m245.1    \u001b[0m | \u001b[0m0.9297   \u001b[0m | \u001b[0m0.3232   \u001b[0m | \u001b[0m22.67    \u001b[0m | \u001b[0m2.743    \u001b[0m | \u001b[0m3.411    \u001b[0m | \u001b[0m0.002679 \u001b[0m | \u001b[0m231.9    \u001b[0m | \u001b[0m3.775    \u001b[0m |\n"
     ]
    },
    {
     "name": "stderr",
     "output_type": "stream",
     "text": [
      "C:\\Users\\Chen Wei\\AppData\\Local\\Temp\\ipykernel_4128\\1000544679.py:41: DeprecationWarning: KerasClassifier is deprecated, use Sci-Keras (https://github.com/adriangb/scikeras) instead. See https://www.adriangb.com/scikeras/stable/migration.html for help migrating.\n",
      "  tune_rnn = KerasClassifier(build_fn=create_model, epochs=epochs, batch_size=batch_size, verbose=0)\n"
     ]
    },
    {
     "name": "stdout",
     "output_type": "stream",
     "text": [
      "142/142 [==============================] - 0s 2ms/step\n",
      "142/142 [==============================] - 0s 2ms/step\n",
      "142/142 [==============================] - 0s 2ms/step\n",
      "142/142 [==============================] - 0s 2ms/step\n",
      "142/142 [==============================] - 0s 2ms/step\n",
      "| \u001b[0m13       \u001b[0m | \u001b[0m0.0      \u001b[0m | \u001b[0m7.267    \u001b[0m | \u001b[0m906.5    \u001b[0m | \u001b[0m0.318    \u001b[0m | \u001b[0m0.04402  \u001b[0m | \u001b[0m14.56    \u001b[0m | \u001b[0m1.854    \u001b[0m | \u001b[0m3.454    \u001b[0m | \u001b[0m0.008747 \u001b[0m | \u001b[0m33.56    \u001b[0m | \u001b[0m3.575    \u001b[0m |\n"
     ]
    },
    {
     "name": "stderr",
     "output_type": "stream",
     "text": [
      "C:\\Users\\Chen Wei\\AppData\\Local\\Temp\\ipykernel_4128\\1000544679.py:41: DeprecationWarning: KerasClassifier is deprecated, use Sci-Keras (https://github.com/adriangb/scikeras) instead. See https://www.adriangb.com/scikeras/stable/migration.html for help migrating.\n",
      "  tune_rnn = KerasClassifier(build_fn=create_model, epochs=epochs, batch_size=batch_size, verbose=0)\n"
     ]
    },
    {
     "name": "stdout",
     "output_type": "stream",
     "text": [
      "142/142 [==============================] - 1s 3ms/step\n",
      "142/142 [==============================] - 0s 2ms/step\n",
      "142/142 [==============================] - 0s 2ms/step\n",
      "142/142 [==============================] - 0s 2ms/step\n",
      "142/142 [==============================] - 0s 2ms/step\n",
      "| \u001b[0m14       \u001b[0m | \u001b[0m0.1416   \u001b[0m | \u001b[0m3.757    \u001b[0m | \u001b[0m299.9    \u001b[0m | \u001b[0m0.1199   \u001b[0m | \u001b[0m0.135    \u001b[0m | \u001b[0m28.86    \u001b[0m | \u001b[0m1.646    \u001b[0m | \u001b[0m2.556    \u001b[0m | \u001b[0m0.007327 \u001b[0m | \u001b[0m113.5    \u001b[0m | \u001b[0m6.802    \u001b[0m |\n"
     ]
    },
    {
     "name": "stderr",
     "output_type": "stream",
     "text": [
      "C:\\Users\\Chen Wei\\AppData\\Local\\Temp\\ipykernel_4128\\1000544679.py:41: DeprecationWarning: KerasClassifier is deprecated, use Sci-Keras (https://github.com/adriangb/scikeras) instead. See https://www.adriangb.com/scikeras/stable/migration.html for help migrating.\n",
      "  tune_rnn = KerasClassifier(build_fn=create_model, epochs=epochs, batch_size=batch_size, verbose=0)\n"
     ]
    },
    {
     "name": "stdout",
     "output_type": "stream",
     "text": [
      "142/142 [==============================] - 0s 2ms/step\n",
      "142/142 [==============================] - 0s 2ms/step\n",
      "142/142 [==============================] - 0s 2ms/step\n",
      "142/142 [==============================] - 0s 2ms/step\n",
      "142/142 [==============================] - 0s 2ms/step\n",
      "| \u001b[0m15       \u001b[0m | \u001b[0m0.7963   \u001b[0m | \u001b[0m8.662    \u001b[0m | \u001b[0m326.6    \u001b[0m | \u001b[0m0.4972   \u001b[0m | \u001b[0m0.1204   \u001b[0m | \u001b[0m15.7     \u001b[0m | \u001b[0m1.074    \u001b[0m | \u001b[0m2.829    \u001b[0m | \u001b[0m0.005524 \u001b[0m | \u001b[0m43.53    \u001b[0m | \u001b[0m1.951    \u001b[0m |\n"
     ]
    },
    {
     "name": "stderr",
     "output_type": "stream",
     "text": [
      "C:\\Users\\Chen Wei\\AppData\\Local\\Temp\\ipykernel_4128\\1000544679.py:41: DeprecationWarning: KerasClassifier is deprecated, use Sci-Keras (https://github.com/adriangb/scikeras) instead. See https://www.adriangb.com/scikeras/stable/migration.html for help migrating.\n",
      "  tune_rnn = KerasClassifier(build_fn=create_model, epochs=epochs, batch_size=batch_size, verbose=0)\n"
     ]
    },
    {
     "name": "stdout",
     "output_type": "stream",
     "text": [
      "142/142 [==============================] - 0s 2ms/step\n",
      "142/142 [==============================] - 0s 2ms/step\n",
      "142/142 [==============================] - 0s 2ms/step\n",
      "142/142 [==============================] - 0s 2ms/step\n",
      "142/142 [==============================] - 0s 2ms/step\n",
      "| \u001b[0m16       \u001b[0m | \u001b[0m0.8831   \u001b[0m | \u001b[0m8.174    \u001b[0m | \u001b[0m315.6    \u001b[0m | \u001b[0m0.1449   \u001b[0m | \u001b[0m0.1958   \u001b[0m | \u001b[0m29.71    \u001b[0m | \u001b[0m1.484    \u001b[0m | \u001b[0m3.016    \u001b[0m | \u001b[0m0.007855 \u001b[0m | \u001b[0m85.23    \u001b[0m | \u001b[0m5.098    \u001b[0m |\n"
     ]
    },
    {
     "name": "stderr",
     "output_type": "stream",
     "text": [
      "C:\\Users\\Chen Wei\\AppData\\Local\\Temp\\ipykernel_4128\\1000544679.py:41: DeprecationWarning: KerasClassifier is deprecated, use Sci-Keras (https://github.com/adriangb/scikeras) instead. See https://www.adriangb.com/scikeras/stable/migration.html for help migrating.\n",
      "  tune_rnn = KerasClassifier(build_fn=create_model, epochs=epochs, batch_size=batch_size, verbose=0)\n"
     ]
    },
    {
     "name": "stdout",
     "output_type": "stream",
     "text": [
      "142/142 [==============================] - 0s 2ms/step\n",
      "142/142 [==============================] - 0s 2ms/step\n",
      "142/142 [==============================] - 0s 2ms/step\n",
      "142/142 [==============================] - 0s 2ms/step\n",
      "142/142 [==============================] - 0s 2ms/step\n",
      "| \u001b[0m17       \u001b[0m | \u001b[0m0.1573   \u001b[0m | \u001b[0m3.31     \u001b[0m | \u001b[0m669.1    \u001b[0m | \u001b[0m0.6335   \u001b[0m | \u001b[0m0.2143   \u001b[0m | \u001b[0m11.81    \u001b[0m | \u001b[0m2.671    \u001b[0m | \u001b[0m1.962    \u001b[0m | \u001b[0m0.002679 \u001b[0m | \u001b[0m41.13    \u001b[0m | \u001b[0m4.136    \u001b[0m |\n"
     ]
    },
    {
     "name": "stderr",
     "output_type": "stream",
     "text": [
      "C:\\Users\\Chen Wei\\AppData\\Local\\Temp\\ipykernel_4128\\1000544679.py:41: DeprecationWarning: KerasClassifier is deprecated, use Sci-Keras (https://github.com/adriangb/scikeras) instead. See https://www.adriangb.com/scikeras/stable/migration.html for help migrating.\n",
      "  tune_rnn = KerasClassifier(build_fn=create_model, epochs=epochs, batch_size=batch_size, verbose=0)\n"
     ]
    },
    {
     "name": "stdout",
     "output_type": "stream",
     "text": [
      "142/142 [==============================] - 1s 3ms/step\n",
      "142/142 [==============================] - 1s 4ms/step\n",
      "142/142 [==============================] - 1s 4ms/step\n",
      "142/142 [==============================] - 1s 5ms/step\n",
      "142/142 [==============================] - 1s 6ms/step\n",
      "| \u001b[95m18       \u001b[0m | \u001b[95m0.9124   \u001b[0m | \u001b[95m6.098    \u001b[0m | \u001b[95m114.9    \u001b[0m | \u001b[95m0.5121   \u001b[0m | \u001b[95m0.0906   \u001b[0m | \u001b[95m22.9     \u001b[0m | \u001b[95m1.349    \u001b[0m | \u001b[95m3.073    \u001b[0m | \u001b[95m0.004481 \u001b[0m | \u001b[95m241.8    \u001b[0m | \u001b[95m0.9626   \u001b[0m |\n"
     ]
    },
    {
     "name": "stderr",
     "output_type": "stream",
     "text": [
      "C:\\Users\\Chen Wei\\AppData\\Local\\Temp\\ipykernel_4128\\1000544679.py:41: DeprecationWarning: KerasClassifier is deprecated, use Sci-Keras (https://github.com/adriangb/scikeras) instead. See https://www.adriangb.com/scikeras/stable/migration.html for help migrating.\n",
      "  tune_rnn = KerasClassifier(build_fn=create_model, epochs=epochs, batch_size=batch_size, verbose=0)\n"
     ]
    },
    {
     "name": "stdout",
     "output_type": "stream",
     "text": [
      "142/142 [==============================] - 1s 4ms/step\n",
      "142/142 [==============================] - 1s 4ms/step\n",
      "142/142 [==============================] - 1s 4ms/step\n",
      "142/142 [==============================] - 2s 4ms/step\n",
      "142/142 [==============================] - 1s 4ms/step\n",
      "| \u001b[0m19       \u001b[0m | \u001b[0m0.8046   \u001b[0m | \u001b[0m3.07     \u001b[0m | \u001b[0m202.1    \u001b[0m | \u001b[0m0.9247   \u001b[0m | \u001b[0m0.3509   \u001b[0m | \u001b[0m15.16    \u001b[0m | \u001b[0m2.32     \u001b[0m | \u001b[0m3.452    \u001b[0m | \u001b[0m0.005997 \u001b[0m | \u001b[0m150.6    \u001b[0m | \u001b[0m1.693    \u001b[0m |\n"
     ]
    },
    {
     "name": "stderr",
     "output_type": "stream",
     "text": [
      "C:\\Users\\Chen Wei\\AppData\\Local\\Temp\\ipykernel_4128\\1000544679.py:41: DeprecationWarning: KerasClassifier is deprecated, use Sci-Keras (https://github.com/adriangb/scikeras) instead. See https://www.adriangb.com/scikeras/stable/migration.html for help migrating.\n",
      "  tune_rnn = KerasClassifier(build_fn=create_model, epochs=epochs, batch_size=batch_size, verbose=0)\n"
     ]
    },
    {
     "name": "stdout",
     "output_type": "stream",
     "text": [
      "142/142 [==============================] - 1s 6ms/step\n",
      "142/142 [==============================] - 1s 5ms/step\n",
      "142/142 [==============================] - 1s 6ms/step\n",
      "142/142 [==============================] - 2s 7ms/step\n",
      "142/142 [==============================] - 1s 6ms/step\n",
      "| \u001b[0m20       \u001b[0m | \u001b[0m0.8086   \u001b[0m | \u001b[0m0.8379   \u001b[0m | \u001b[0m907.5    \u001b[0m | \u001b[0m0.9004   \u001b[0m | \u001b[0m0.2532   \u001b[0m | \u001b[0m16.78    \u001b[0m | \u001b[0m1.698    \u001b[0m | \u001b[0m3.178    \u001b[0m | \u001b[0m0.009074 \u001b[0m | \u001b[0m230.7    \u001b[0m | \u001b[0m5.459    \u001b[0m |\n"
     ]
    },
    {
     "name": "stderr",
     "output_type": "stream",
     "text": [
      "C:\\Users\\Chen Wei\\AppData\\Local\\Temp\\ipykernel_4128\\1000544679.py:41: DeprecationWarning: KerasClassifier is deprecated, use Sci-Keras (https://github.com/adriangb/scikeras) instead. See https://www.adriangb.com/scikeras/stable/migration.html for help migrating.\n",
      "  tune_rnn = KerasClassifier(build_fn=create_model, epochs=epochs, batch_size=batch_size, verbose=0)\n"
     ]
    },
    {
     "name": "stdout",
     "output_type": "stream",
     "text": [
      "142/142 [==============================] - 1s 3ms/step\n",
      "142/142 [==============================] - 1s 3ms/step\n",
      "142/142 [==============================] - 1s 4ms/step\n",
      "142/142 [==============================] - 1s 3ms/step\n",
      "142/142 [==============================] - 1s 5ms/step\n",
      "| \u001b[95m21       \u001b[0m | \u001b[95m0.9255   \u001b[0m | \u001b[95m5.778    \u001b[0m | \u001b[95m175.7    \u001b[0m | \u001b[95m0.1616   \u001b[0m | \u001b[95m0.3594   \u001b[0m | \u001b[95m22.13    \u001b[0m | \u001b[95m1.018    \u001b[0m | \u001b[95m1.304    \u001b[0m | \u001b[95m0.006972 \u001b[0m | \u001b[95m33.13    \u001b[0m | \u001b[95m1.126    \u001b[0m |\n"
     ]
    },
    {
     "name": "stderr",
     "output_type": "stream",
     "text": [
      "C:\\Users\\Chen Wei\\AppData\\Local\\Temp\\ipykernel_4128\\1000544679.py:41: DeprecationWarning: KerasClassifier is deprecated, use Sci-Keras (https://github.com/adriangb/scikeras) instead. See https://www.adriangb.com/scikeras/stable/migration.html for help migrating.\n",
      "  tune_rnn = KerasClassifier(build_fn=create_model, epochs=epochs, batch_size=batch_size, verbose=0)\n"
     ]
    },
    {
     "name": "stdout",
     "output_type": "stream",
     "text": [
      "142/142 [==============================] - 1s 5ms/step\n",
      "142/142 [==============================] - 1s 6ms/step\n",
      "142/142 [==============================] - 1s 5ms/step\n",
      "142/142 [==============================] - 1s 5ms/step\n",
      "142/142 [==============================] - 1s 6ms/step\n",
      "| \u001b[0m22       \u001b[0m | \u001b[0m0.4946   \u001b[0m | \u001b[0m4.939    \u001b[0m | \u001b[0m722.7    \u001b[0m | \u001b[0m0.652    \u001b[0m | \u001b[0m0.08971  \u001b[0m | \u001b[0m24.24    \u001b[0m | \u001b[0m1.474    \u001b[0m | \u001b[0m1.976    \u001b[0m | \u001b[0m0.007718 \u001b[0m | \u001b[0m177.5    \u001b[0m | \u001b[0m5.945    \u001b[0m |\n"
     ]
    },
    {
     "name": "stderr",
     "output_type": "stream",
     "text": [
      "C:\\Users\\Chen Wei\\AppData\\Local\\Temp\\ipykernel_4128\\1000544679.py:41: DeprecationWarning: KerasClassifier is deprecated, use Sci-Keras (https://github.com/adriangb/scikeras) instead. See https://www.adriangb.com/scikeras/stable/migration.html for help migrating.\n",
      "  tune_rnn = KerasClassifier(build_fn=create_model, epochs=epochs, batch_size=batch_size, verbose=0)\n"
     ]
    },
    {
     "name": "stdout",
     "output_type": "stream",
     "text": [
      "142/142 [==============================] - 2s 6ms/step\n",
      "142/142 [==============================] - 1s 6ms/step\n",
      "142/142 [==============================] - 1s 7ms/step\n",
      "142/142 [==============================] - 1s 7ms/step\n",
      "142/142 [==============================] - 1s 8ms/step\n",
      "| \u001b[0m23       \u001b[0m | \u001b[0m0.3902   \u001b[0m | \u001b[0m5.919    \u001b[0m | \u001b[0m611.5    \u001b[0m | \u001b[0m0.09367  \u001b[0m | \u001b[0m0.1471   \u001b[0m | \u001b[0m15.3     \u001b[0m | \u001b[0m1.488    \u001b[0m | \u001b[0m3.919    \u001b[0m | \u001b[0m0.004538 \u001b[0m | \u001b[0m231.8    \u001b[0m | \u001b[0m4.418    \u001b[0m |\n"
     ]
    },
    {
     "name": "stderr",
     "output_type": "stream",
     "text": [
      "C:\\Users\\Chen Wei\\AppData\\Local\\Temp\\ipykernel_4128\\1000544679.py:41: DeprecationWarning: KerasClassifier is deprecated, use Sci-Keras (https://github.com/adriangb/scikeras) instead. See https://www.adriangb.com/scikeras/stable/migration.html for help migrating.\n",
      "  tune_rnn = KerasClassifier(build_fn=create_model, epochs=epochs, batch_size=batch_size, verbose=0)\n"
     ]
    },
    {
     "name": "stdout",
     "output_type": "stream",
     "text": [
      "142/142 [==============================] - 1s 6ms/step\n",
      "142/142 [==============================] - 1s 5ms/step\n",
      "142/142 [==============================] - 1s 5ms/step\n",
      "142/142 [==============================] - 1s 5ms/step\n",
      "142/142 [==============================] - 1s 4ms/step\n",
      "| \u001b[0m24       \u001b[0m | \u001b[0m0.0      \u001b[0m | \u001b[0m7.153    \u001b[0m | \u001b[0m552.4    \u001b[0m | \u001b[0m0.5769   \u001b[0m | \u001b[0m0.197    \u001b[0m | \u001b[0m13.9     \u001b[0m | \u001b[0m2.445    \u001b[0m | \u001b[0m1.842    \u001b[0m | \u001b[0m0.001219 \u001b[0m | \u001b[0m176.6    \u001b[0m | \u001b[0m1.24     \u001b[0m |\n"
     ]
    },
    {
     "name": "stderr",
     "output_type": "stream",
     "text": [
      "C:\\Users\\Chen Wei\\AppData\\Local\\Temp\\ipykernel_4128\\1000544679.py:41: DeprecationWarning: KerasClassifier is deprecated, use Sci-Keras (https://github.com/adriangb/scikeras) instead. See https://www.adriangb.com/scikeras/stable/migration.html for help migrating.\n",
      "  tune_rnn = KerasClassifier(build_fn=create_model, epochs=epochs, batch_size=batch_size, verbose=0)\n"
     ]
    },
    {
     "name": "stdout",
     "output_type": "stream",
     "text": [
      "142/142 [==============================] - 1s 4ms/step\n",
      "142/142 [==============================] - 1s 5ms/step\n",
      "142/142 [==============================] - 1s 5ms/step\n",
      "142/142 [==============================] - 1s 4ms/step\n",
      "142/142 [==============================] - 1s 5ms/step\n",
      "| \u001b[0m25       \u001b[0m | \u001b[0m0.5917   \u001b[0m | \u001b[0m8.464    \u001b[0m | \u001b[0m958.5    \u001b[0m | \u001b[0m0.9149   \u001b[0m | \u001b[0m0.1481   \u001b[0m | \u001b[0m10.31    \u001b[0m | \u001b[0m2.857    \u001b[0m | \u001b[0m2.285    \u001b[0m | \u001b[0m0.0097   \u001b[0m | \u001b[0m247.9    \u001b[0m | \u001b[0m5.971    \u001b[0m |\n"
     ]
    },
    {
     "name": "stderr",
     "output_type": "stream",
     "text": [
      "C:\\Users\\Chen Wei\\AppData\\Local\\Temp\\ipykernel_4128\\1000544679.py:41: DeprecationWarning: KerasClassifier is deprecated, use Sci-Keras (https://github.com/adriangb/scikeras) instead. See https://www.adriangb.com/scikeras/stable/migration.html for help migrating.\n",
      "  tune_rnn = KerasClassifier(build_fn=create_model, epochs=epochs, batch_size=batch_size, verbose=0)\n"
     ]
    },
    {
     "name": "stdout",
     "output_type": "stream",
     "text": [
      "142/142 [==============================] - 1s 7ms/step\n",
      "142/142 [==============================] - 2s 11ms/step\n",
      "142/142 [==============================] - 2s 8ms/step\n",
      "142/142 [==============================] - 2s 10ms/step\n",
      "142/142 [==============================] - 1s 5ms/step\n",
      "| \u001b[0m26       \u001b[0m | \u001b[0m0.2694   \u001b[0m | \u001b[0m2.65     \u001b[0m | \u001b[0m446.6    \u001b[0m | \u001b[0m0.8511   \u001b[0m | \u001b[0m0.1268   \u001b[0m | \u001b[0m13.39    \u001b[0m | \u001b[0m2.114    \u001b[0m | \u001b[0m3.808    \u001b[0m | \u001b[0m0.007264 \u001b[0m | \u001b[0m159.7    \u001b[0m | \u001b[0m0.6802   \u001b[0m |\n"
     ]
    },
    {
     "name": "stderr",
     "output_type": "stream",
     "text": [
      "C:\\Users\\Chen Wei\\AppData\\Local\\Temp\\ipykernel_4128\\1000544679.py:41: DeprecationWarning: KerasClassifier is deprecated, use Sci-Keras (https://github.com/adriangb/scikeras) instead. See https://www.adriangb.com/scikeras/stable/migration.html for help migrating.\n",
      "  tune_rnn = KerasClassifier(build_fn=create_model, epochs=epochs, batch_size=batch_size, verbose=0)\n"
     ]
    },
    {
     "name": "stdout",
     "output_type": "stream",
     "text": [
      "142/142 [==============================] - 1s 4ms/step\n",
      "142/142 [==============================] - 1s 5ms/step\n",
      "142/142 [==============================] - 1s 4ms/step\n",
      "142/142 [==============================] - 1s 5ms/step\n",
      "142/142 [==============================] - 1s 6ms/step\n",
      "| \u001b[0m27       \u001b[0m | \u001b[0m0.3951   \u001b[0m | \u001b[0m5.535    \u001b[0m | \u001b[0m991.0    \u001b[0m | \u001b[0m0.1401   \u001b[0m | \u001b[0m0.2073   \u001b[0m | \u001b[0m27.55    \u001b[0m | \u001b[0m2.482    \u001b[0m | \u001b[0m3.091    \u001b[0m | \u001b[0m0.007322 \u001b[0m | \u001b[0m112.5    \u001b[0m | \u001b[0m2.055    \u001b[0m |\n"
     ]
    },
    {
     "name": "stderr",
     "output_type": "stream",
     "text": [
      "C:\\Users\\Chen Wei\\AppData\\Local\\Temp\\ipykernel_4128\\1000544679.py:41: DeprecationWarning: KerasClassifier is deprecated, use Sci-Keras (https://github.com/adriangb/scikeras) instead. See https://www.adriangb.com/scikeras/stable/migration.html for help migrating.\n",
      "  tune_rnn = KerasClassifier(build_fn=create_model, epochs=epochs, batch_size=batch_size, verbose=0)\n"
     ]
    },
    {
     "name": "stdout",
     "output_type": "stream",
     "text": [
      "142/142 [==============================] - 1s 6ms/step\n",
      "142/142 [==============================] - 1s 5ms/step\n",
      "142/142 [==============================] - 1s 5ms/step\n",
      "142/142 [==============================] - 1s 6ms/step\n",
      "142/142 [==============================] - 1s 5ms/step\n",
      "| \u001b[0m28       \u001b[0m | \u001b[0m0.0      \u001b[0m | \u001b[0m7.284    \u001b[0m | \u001b[0m829.1    \u001b[0m | \u001b[0m0.8671   \u001b[0m | \u001b[0m0.3653   \u001b[0m | \u001b[0m20.23    \u001b[0m | \u001b[0m2.003    \u001b[0m | \u001b[0m3.395    \u001b[0m | \u001b[0m0.00685  \u001b[0m | \u001b[0m189.2    \u001b[0m | \u001b[0m5.571    \u001b[0m |\n"
     ]
    },
    {
     "name": "stderr",
     "output_type": "stream",
     "text": [
      "C:\\Users\\Chen Wei\\AppData\\Local\\Temp\\ipykernel_4128\\1000544679.py:41: DeprecationWarning: KerasClassifier is deprecated, use Sci-Keras (https://github.com/adriangb/scikeras) instead. See https://www.adriangb.com/scikeras/stable/migration.html for help migrating.\n",
      "  tune_rnn = KerasClassifier(build_fn=create_model, epochs=epochs, batch_size=batch_size, verbose=0)\n"
     ]
    },
    {
     "name": "stdout",
     "output_type": "stream",
     "text": [
      "142/142 [==============================] - 1s 4ms/step\n",
      "142/142 [==============================] - 1s 4ms/step\n",
      "142/142 [==============================] - 1s 4ms/step\n",
      "142/142 [==============================] - 1s 4ms/step\n",
      "142/142 [==============================] - 1s 4ms/step\n",
      "| \u001b[0m29       \u001b[0m | \u001b[0m0.574    \u001b[0m | \u001b[0m8.01     \u001b[0m | \u001b[0m404.2    \u001b[0m | \u001b[0m0.3756   \u001b[0m | \u001b[0m0.03759  \u001b[0m | \u001b[0m21.57    \u001b[0m | \u001b[0m1.072    \u001b[0m | \u001b[0m2.397    \u001b[0m | \u001b[0m0.005884 \u001b[0m | \u001b[0m96.19    \u001b[0m | \u001b[0m4.136    \u001b[0m |\n"
     ]
    },
    {
     "name": "stderr",
     "output_type": "stream",
     "text": [
      "C:\\Users\\Chen Wei\\AppData\\Local\\Temp\\ipykernel_4128\\1000544679.py:41: DeprecationWarning: KerasClassifier is deprecated, use Sci-Keras (https://github.com/adriangb/scikeras) instead. See https://www.adriangb.com/scikeras/stable/migration.html for help migrating.\n",
      "  tune_rnn = KerasClassifier(build_fn=create_model, epochs=epochs, batch_size=batch_size, verbose=0)\n"
     ]
    },
    {
     "name": "stdout",
     "output_type": "stream",
     "text": [
      "142/142 [==============================] - 1s 5ms/step\n",
      "142/142 [==============================] - 1s 5ms/step\n",
      "142/142 [==============================] - 2s 8ms/step\n",
      "142/142 [==============================] - 2s 7ms/step\n",
      "142/142 [==============================] - 1s 6ms/step\n",
      "| \u001b[0m30       \u001b[0m | \u001b[0m0.8977   \u001b[0m | \u001b[0m0.2745   \u001b[0m | \u001b[0m133.6    \u001b[0m | \u001b[0m0.8226   \u001b[0m | \u001b[0m0.1441   \u001b[0m | \u001b[0m12.54    \u001b[0m | \u001b[0m2.044    \u001b[0m | \u001b[0m3.31     \u001b[0m | \u001b[0m0.002942 \u001b[0m | \u001b[0m171.5    \u001b[0m | \u001b[0m0.5974   \u001b[0m |\n"
     ]
    },
    {
     "name": "stderr",
     "output_type": "stream",
     "text": [
      "C:\\Users\\Chen Wei\\AppData\\Local\\Temp\\ipykernel_4128\\1000544679.py:41: DeprecationWarning: KerasClassifier is deprecated, use Sci-Keras (https://github.com/adriangb/scikeras) instead. See https://www.adriangb.com/scikeras/stable/migration.html for help migrating.\n",
      "  tune_rnn = KerasClassifier(build_fn=create_model, epochs=epochs, batch_size=batch_size, verbose=0)\n"
     ]
    },
    {
     "name": "stdout",
     "output_type": "stream",
     "text": [
      "142/142 [==============================] - 2s 12ms/step\n",
      "142/142 [==============================] - 2s 9ms/step\n",
      "142/142 [==============================] - 2s 12ms/step\n",
      "142/142 [==============================] - 1s 6ms/step\n",
      "142/142 [==============================] - 2s 11ms/step\n",
      "| \u001b[0m31       \u001b[0m | \u001b[0m0.7118   \u001b[0m | \u001b[0m0.4651   \u001b[0m | \u001b[0m578.2    \u001b[0m | \u001b[0m0.5406   \u001b[0m | \u001b[0m0.255    \u001b[0m | \u001b[0m24.52    \u001b[0m | \u001b[0m2.952    \u001b[0m | \u001b[0m2.549    \u001b[0m | \u001b[0m0.003907 \u001b[0m | \u001b[0m210.1    \u001b[0m | \u001b[0m1.896    \u001b[0m |\n"
     ]
    },
    {
     "name": "stderr",
     "output_type": "stream",
     "text": [
      "C:\\Users\\Chen Wei\\AppData\\Local\\Temp\\ipykernel_4128\\1000544679.py:41: DeprecationWarning: KerasClassifier is deprecated, use Sci-Keras (https://github.com/adriangb/scikeras) instead. See https://www.adriangb.com/scikeras/stable/migration.html for help migrating.\n",
      "  tune_rnn = KerasClassifier(build_fn=create_model, epochs=epochs, batch_size=batch_size, verbose=0)\n"
     ]
    },
    {
     "name": "stdout",
     "output_type": "stream",
     "text": [
      "142/142 [==============================] - 1s 6ms/step\n",
      "142/142 [==============================] - 1s 4ms/step\n",
      "142/142 [==============================] - 2s 6ms/step\n",
      "142/142 [==============================] - 1s 4ms/step\n",
      "142/142 [==============================] - 1s 4ms/step\n",
      "| \u001b[0m32       \u001b[0m | \u001b[0m0.9229   \u001b[0m | \u001b[0m3.951    \u001b[0m | \u001b[0m170.6    \u001b[0m | \u001b[0m0.02535  \u001b[0m | \u001b[0m0.3851   \u001b[0m | \u001b[0m26.72    \u001b[0m | \u001b[0m2.392    \u001b[0m | \u001b[0m2.227    \u001b[0m | \u001b[0m0.00256  \u001b[0m | \u001b[0m67.04    \u001b[0m | \u001b[0m1.752    \u001b[0m |\n"
     ]
    },
    {
     "name": "stderr",
     "output_type": "stream",
     "text": [
      "C:\\Users\\Chen Wei\\AppData\\Local\\Temp\\ipykernel_4128\\1000544679.py:41: DeprecationWarning: KerasClassifier is deprecated, use Sci-Keras (https://github.com/adriangb/scikeras) instead. See https://www.adriangb.com/scikeras/stable/migration.html for help migrating.\n",
      "  tune_rnn = KerasClassifier(build_fn=create_model, epochs=epochs, batch_size=batch_size, verbose=0)\n"
     ]
    },
    {
     "name": "stdout",
     "output_type": "stream",
     "text": [
      "142/142 [==============================] - 1s 6ms/step\n",
      "142/142 [==============================] - 1s 6ms/step\n",
      "142/142 [==============================] - 1s 6ms/step\n",
      "142/142 [==============================] - 1s 6ms/step\n",
      "142/142 [==============================] - 1s 6ms/step\n",
      "| \u001b[0m33       \u001b[0m | \u001b[0m0.3884   \u001b[0m | \u001b[0m4.943    \u001b[0m | \u001b[0m743.1    \u001b[0m | \u001b[0m0.6602   \u001b[0m | \u001b[0m0.112    \u001b[0m | \u001b[0m29.1     \u001b[0m | \u001b[0m2.476    \u001b[0m | \u001b[0m2.663    \u001b[0m | \u001b[0m0.006505 \u001b[0m | \u001b[0m126.0    \u001b[0m | \u001b[0m1.734    \u001b[0m |\n"
     ]
    },
    {
     "name": "stderr",
     "output_type": "stream",
     "text": [
      "C:\\Users\\Chen Wei\\AppData\\Local\\Temp\\ipykernel_4128\\1000544679.py:41: DeprecationWarning: KerasClassifier is deprecated, use Sci-Keras (https://github.com/adriangb/scikeras) instead. See https://www.adriangb.com/scikeras/stable/migration.html for help migrating.\n",
      "  tune_rnn = KerasClassifier(build_fn=create_model, epochs=epochs, batch_size=batch_size, verbose=0)\n"
     ]
    },
    {
     "name": "stdout",
     "output_type": "stream",
     "text": [
      "142/142 [==============================] - 1s 5ms/step\n",
      "142/142 [==============================] - 1s 5ms/step\n",
      "142/142 [==============================] - 1s 7ms/step\n",
      "142/142 [==============================] - 1s 3ms/step\n",
      "142/142 [==============================] - 1s 4ms/step\n",
      "| \u001b[0m34       \u001b[0m | \u001b[0m0.5083   \u001b[0m | \u001b[0m3.204    \u001b[0m | \u001b[0m782.1    \u001b[0m | \u001b[0m0.01439  \u001b[0m | \u001b[0m0.04643  \u001b[0m | \u001b[0m10.92    \u001b[0m | \u001b[0m1.081    \u001b[0m | \u001b[0m3.566    \u001b[0m | \u001b[0m0.007333 \u001b[0m | \u001b[0m138.2    \u001b[0m | \u001b[0m0.6848   \u001b[0m |\n"
     ]
    },
    {
     "name": "stderr",
     "output_type": "stream",
     "text": [
      "C:\\Users\\Chen Wei\\AppData\\Local\\Temp\\ipykernel_4128\\1000544679.py:41: DeprecationWarning: KerasClassifier is deprecated, use Sci-Keras (https://github.com/adriangb/scikeras) instead. See https://www.adriangb.com/scikeras/stable/migration.html for help migrating.\n",
      "  tune_rnn = KerasClassifier(build_fn=create_model, epochs=epochs, batch_size=batch_size, verbose=0)\n"
     ]
    },
    {
     "name": "stdout",
     "output_type": "stream",
     "text": [
      "142/142 [==============================] - 2s 7ms/step\n",
      "142/142 [==============================] - 1s 5ms/step\n",
      "142/142 [==============================] - 1s 4ms/step\n",
      "142/142 [==============================] - 1s 4ms/step\n",
      "142/142 [==============================] - 1s 5ms/step\n",
      "| \u001b[0m35       \u001b[0m | \u001b[0m0.3999   \u001b[0m | \u001b[0m4.425    \u001b[0m | \u001b[0m526.1    \u001b[0m | \u001b[0m0.1732   \u001b[0m | \u001b[0m0.1735   \u001b[0m | \u001b[0m17.97    \u001b[0m | \u001b[0m2.232    \u001b[0m | \u001b[0m2.905    \u001b[0m | \u001b[0m0.001408 \u001b[0m | \u001b[0m115.9    \u001b[0m | \u001b[0m4.381    \u001b[0m |\n"
     ]
    },
    {
     "name": "stderr",
     "output_type": "stream",
     "text": [
      "C:\\Users\\Chen Wei\\AppData\\Local\\Temp\\ipykernel_4128\\1000544679.py:41: DeprecationWarning: KerasClassifier is deprecated, use Sci-Keras (https://github.com/adriangb/scikeras) instead. See https://www.adriangb.com/scikeras/stable/migration.html for help migrating.\n",
      "  tune_rnn = KerasClassifier(build_fn=create_model, epochs=epochs, batch_size=batch_size, verbose=0)\n"
     ]
    },
    {
     "name": "stdout",
     "output_type": "stream",
     "text": [
      "142/142 [==============================] - 2s 9ms/step\n",
      "142/142 [==============================] - 1s 6ms/step\n",
      "142/142 [==============================] - 1s 6ms/step\n",
      "142/142 [==============================] - 1s 7ms/step\n",
      "142/142 [==============================] - 1s 7ms/step\n",
      "| \u001b[0m36       \u001b[0m | \u001b[0m0.3071   \u001b[0m | \u001b[0m4.528    \u001b[0m | \u001b[0m870.8    \u001b[0m | \u001b[0m0.6587   \u001b[0m | \u001b[0m0.06517  \u001b[0m | \u001b[0m11.41    \u001b[0m | \u001b[0m2.285    \u001b[0m | \u001b[0m1.08     \u001b[0m | \u001b[0m0.006272 \u001b[0m | \u001b[0m242.6    \u001b[0m | \u001b[0m4.028    \u001b[0m |\n"
     ]
    },
    {
     "name": "stderr",
     "output_type": "stream",
     "text": [
      "C:\\Users\\Chen Wei\\AppData\\Local\\Temp\\ipykernel_4128\\1000544679.py:41: DeprecationWarning: KerasClassifier is deprecated, use Sci-Keras (https://github.com/adriangb/scikeras) instead. See https://www.adriangb.com/scikeras/stable/migration.html for help migrating.\n",
      "  tune_rnn = KerasClassifier(build_fn=create_model, epochs=epochs, batch_size=batch_size, verbose=0)\n"
     ]
    },
    {
     "name": "stdout",
     "output_type": "stream",
     "text": [
      "142/142 [==============================] - 2s 8ms/step\n",
      "142/142 [==============================] - 1s 5ms/step\n",
      "142/142 [==============================] - 1s 5ms/step\n",
      "142/142 [==============================] - 2s 6ms/step\n",
      "142/142 [==============================] - 1s 6ms/step\n",
      "| \u001b[0m37       \u001b[0m | \u001b[0m0.1708   \u001b[0m | \u001b[0m3.494    \u001b[0m | \u001b[0m679.0    \u001b[0m | \u001b[0m0.4583   \u001b[0m | \u001b[0m0.2182   \u001b[0m | \u001b[0m28.83    \u001b[0m | \u001b[0m1.772    \u001b[0m | \u001b[0m3.884    \u001b[0m | \u001b[0m0.009148 \u001b[0m | \u001b[0m75.86    \u001b[0m | \u001b[0m0.4855   \u001b[0m |\n"
     ]
    },
    {
     "name": "stderr",
     "output_type": "stream",
     "text": [
      "C:\\Users\\Chen Wei\\AppData\\Local\\Temp\\ipykernel_4128\\1000544679.py:41: DeprecationWarning: KerasClassifier is deprecated, use Sci-Keras (https://github.com/adriangb/scikeras) instead. See https://www.adriangb.com/scikeras/stable/migration.html for help migrating.\n",
      "  tune_rnn = KerasClassifier(build_fn=create_model, epochs=epochs, batch_size=batch_size, verbose=0)\n"
     ]
    },
    {
     "name": "stdout",
     "output_type": "stream",
     "text": [
      "142/142 [==============================] - 2s 11ms/step\n",
      "142/142 [==============================] - 2s 9ms/step\n",
      "142/142 [==============================] - 2s 9ms/step\n",
      "142/142 [==============================] - 2s 9ms/step\n",
      "142/142 [==============================] - 2s 11ms/step\n",
      "| \u001b[0m38       \u001b[0m | \u001b[0m0.7983   \u001b[0m | \u001b[0m0.907    \u001b[0m | \u001b[0m116.4    \u001b[0m | \u001b[0m0.09444  \u001b[0m | \u001b[0m0.2732   \u001b[0m | \u001b[0m11.42    \u001b[0m | \u001b[0m1.638    \u001b[0m | \u001b[0m3.535    \u001b[0m | \u001b[0m0.001209 \u001b[0m | \u001b[0m214.4    \u001b[0m | \u001b[0m1.973    \u001b[0m |\n"
     ]
    },
    {
     "name": "stderr",
     "output_type": "stream",
     "text": [
      "C:\\Users\\Chen Wei\\AppData\\Local\\Temp\\ipykernel_4128\\1000544679.py:41: DeprecationWarning: KerasClassifier is deprecated, use Sci-Keras (https://github.com/adriangb/scikeras) instead. See https://www.adriangb.com/scikeras/stable/migration.html for help migrating.\n",
      "  tune_rnn = KerasClassifier(build_fn=create_model, epochs=epochs, batch_size=batch_size, verbose=0)\n"
     ]
    },
    {
     "name": "stdout",
     "output_type": "stream",
     "text": [
      "142/142 [==============================] - 2s 8ms/step\n",
      "142/142 [==============================] - 2s 9ms/step\n",
      "142/142 [==============================] - 2s 10ms/step\n",
      "142/142 [==============================] - 2s 11ms/step\n",
      "142/142 [==============================] - 3s 13ms/step\n",
      "| \u001b[0m39       \u001b[0m | \u001b[0m0.4844   \u001b[0m | \u001b[0m1.063    \u001b[0m | \u001b[0m727.1    \u001b[0m | \u001b[0m0.6289   \u001b[0m | \u001b[0m0.351    \u001b[0m | \u001b[0m24.7     \u001b[0m | \u001b[0m2.607    \u001b[0m | \u001b[0m1.846    \u001b[0m | \u001b[0m0.002597 \u001b[0m | \u001b[0m200.1    \u001b[0m | \u001b[0m5.648    \u001b[0m |\n"
     ]
    },
    {
     "name": "stderr",
     "output_type": "stream",
     "text": [
      "C:\\Users\\Chen Wei\\AppData\\Local\\Temp\\ipykernel_4128\\1000544679.py:41: DeprecationWarning: KerasClassifier is deprecated, use Sci-Keras (https://github.com/adriangb/scikeras) instead. See https://www.adriangb.com/scikeras/stable/migration.html for help migrating.\n",
      "  tune_rnn = KerasClassifier(build_fn=create_model, epochs=epochs, batch_size=batch_size, verbose=0)\n"
     ]
    },
    {
     "name": "stdout",
     "output_type": "stream",
     "text": [
      "142/142 [==============================] - 2s 7ms/step\n",
      "142/142 [==============================] - 2s 12ms/step\n",
      "142/142 [==============================] - 2s 12ms/step\n",
      "142/142 [==============================] - 2s 10ms/step\n",
      "142/142 [==============================] - 1s 6ms/step\n",
      "| \u001b[0m40       \u001b[0m | \u001b[0m0.8689   \u001b[0m | \u001b[0m8.915    \u001b[0m | \u001b[0m471.4    \u001b[0m | \u001b[0m0.372    \u001b[0m | \u001b[0m0.3106   \u001b[0m | \u001b[0m16.82    \u001b[0m | \u001b[0m2.862    \u001b[0m | \u001b[0m3.575    \u001b[0m | \u001b[0m0.004861 \u001b[0m | \u001b[0m200.2    \u001b[0m | \u001b[0m5.282    \u001b[0m |\n"
     ]
    },
    {
     "name": "stderr",
     "output_type": "stream",
     "text": [
      "C:\\Users\\Chen Wei\\AppData\\Local\\Temp\\ipykernel_4128\\1000544679.py:41: DeprecationWarning: KerasClassifier is deprecated, use Sci-Keras (https://github.com/adriangb/scikeras) instead. See https://www.adriangb.com/scikeras/stable/migration.html for help migrating.\n",
      "  tune_rnn = KerasClassifier(build_fn=create_model, epochs=epochs, batch_size=batch_size, verbose=0)\n"
     ]
    },
    {
     "name": "stdout",
     "output_type": "stream",
     "text": [
      "142/142 [==============================] - 1s 4ms/step\n",
      "142/142 [==============================] - 1s 4ms/step\n",
      "142/142 [==============================] - 1s 4ms/step\n",
      "142/142 [==============================] - 1s 4ms/step\n",
      "142/142 [==============================] - 1s 4ms/step\n",
      "| \u001b[0m41       \u001b[0m | \u001b[0m0.6581   \u001b[0m | \u001b[0m5.312    \u001b[0m | \u001b[0m607.9    \u001b[0m | \u001b[0m0.9649   \u001b[0m | \u001b[0m0.1279   \u001b[0m | \u001b[0m10.69    \u001b[0m | \u001b[0m2.84     \u001b[0m | \u001b[0m1.574    \u001b[0m | \u001b[0m0.007745 \u001b[0m | \u001b[0m77.7     \u001b[0m | \u001b[0m5.803    \u001b[0m |\n"
     ]
    },
    {
     "name": "stderr",
     "output_type": "stream",
     "text": [
      "C:\\Users\\Chen Wei\\AppData\\Local\\Temp\\ipykernel_4128\\1000544679.py:41: DeprecationWarning: KerasClassifier is deprecated, use Sci-Keras (https://github.com/adriangb/scikeras) instead. See https://www.adriangb.com/scikeras/stable/migration.html for help migrating.\n",
      "  tune_rnn = KerasClassifier(build_fn=create_model, epochs=epochs, batch_size=batch_size, verbose=0)\n"
     ]
    },
    {
     "name": "stdout",
     "output_type": "stream",
     "text": [
      "142/142 [==============================] - 1s 4ms/step\n",
      "142/142 [==============================] - 1s 3ms/step\n",
      "142/142 [==============================] - 1s 5ms/step\n",
      "142/142 [==============================] - 1s 6ms/step\n",
      "142/142 [==============================] - 2s 7ms/step\n",
      "| \u001b[0m42       \u001b[0m | \u001b[0m0.795    \u001b[0m | \u001b[0m7.997    \u001b[0m | \u001b[0m740.5    \u001b[0m | \u001b[0m0.2353   \u001b[0m | \u001b[0m0.1587   \u001b[0m | \u001b[0m12.02    \u001b[0m | \u001b[0m1.746    \u001b[0m | \u001b[0m1.015    \u001b[0m | \u001b[0m0.005883 \u001b[0m | \u001b[0m43.6     \u001b[0m | \u001b[0m0.7721   \u001b[0m |\n"
     ]
    },
    {
     "name": "stderr",
     "output_type": "stream",
     "text": [
      "C:\\Users\\Chen Wei\\AppData\\Local\\Temp\\ipykernel_4128\\1000544679.py:41: DeprecationWarning: KerasClassifier is deprecated, use Sci-Keras (https://github.com/adriangb/scikeras) instead. See https://www.adriangb.com/scikeras/stable/migration.html for help migrating.\n",
      "  tune_rnn = KerasClassifier(build_fn=create_model, epochs=epochs, batch_size=batch_size, verbose=0)\n"
     ]
    },
    {
     "name": "stdout",
     "output_type": "stream",
     "text": [
      "142/142 [==============================] - 2s 7ms/step\n",
      "142/142 [==============================] - 2s 7ms/step\n",
      "142/142 [==============================] - 1s 7ms/step\n",
      "142/142 [==============================] - 1s 6ms/step\n",
      "142/142 [==============================] - 2s 6ms/step\n",
      "| \u001b[0m43       \u001b[0m | \u001b[0m0.5339   \u001b[0m | \u001b[0m8.098    \u001b[0m | \u001b[0m290.1    \u001b[0m | \u001b[0m0.74     \u001b[0m | \u001b[0m0.3059   \u001b[0m | \u001b[0m17.67    \u001b[0m | \u001b[0m2.299    \u001b[0m | \u001b[0m1.363    \u001b[0m | \u001b[0m0.004477 \u001b[0m | \u001b[0m113.9    \u001b[0m | \u001b[0m3.878    \u001b[0m |\n"
     ]
    },
    {
     "name": "stderr",
     "output_type": "stream",
     "text": [
      "C:\\Users\\Chen Wei\\AppData\\Local\\Temp\\ipykernel_4128\\1000544679.py:41: DeprecationWarning: KerasClassifier is deprecated, use Sci-Keras (https://github.com/adriangb/scikeras) instead. See https://www.adriangb.com/scikeras/stable/migration.html for help migrating.\n",
      "  tune_rnn = KerasClassifier(build_fn=create_model, epochs=epochs, batch_size=batch_size, verbose=0)\n"
     ]
    },
    {
     "name": "stdout",
     "output_type": "stream",
     "text": [
      "142/142 [==============================] - 1s 7ms/step\n",
      "142/142 [==============================] - 2s 9ms/step\n",
      "142/142 [==============================] - 2s 9ms/step\n",
      "142/142 [==============================] - 2s 9ms/step\n",
      "142/142 [==============================] - 2s 9ms/step\n",
      "| \u001b[0m44       \u001b[0m | \u001b[0m0.1416   \u001b[0m | \u001b[0m4.03     \u001b[0m | \u001b[0m842.3    \u001b[0m | \u001b[0m0.8029   \u001b[0m | \u001b[0m0.06778  \u001b[0m | \u001b[0m10.7     \u001b[0m | \u001b[0m1.754    \u001b[0m | \u001b[0m2.033    \u001b[0m | \u001b[0m0.003354 \u001b[0m | \u001b[0m215.7    \u001b[0m | \u001b[0m6.856    \u001b[0m |\n",
      "=================================================================================================================================================\n"
     ]
    }
   ],
   "source": [
    "rnn_bo = BayesianOptimization(rnn_tuner, params_rnn, random_state=42)\n",
    "rnn_bo.maximize(init_points=40, n_iter=4)"
   ]
  },
  {
   "cell_type": "markdown",
   "id": "31379e1d",
   "metadata": {},
   "source": [
    "## NN Model 1"
   ]
  },
  {
   "cell_type": "code",
   "execution_count": 7,
   "id": "4dfdc07c",
   "metadata": {},
   "outputs": [
    {
     "data": {
      "text/plain": [
       "{'activation': 4,\n",
       " 'batch_size': 170.6,\n",
       " 'dropout': 0.102535,\n",
       " 'dropout_rate': 0.3851,\n",
       " 'epochs': 27,\n",
       " 'layers1': 2,\n",
       " 'layers2': 2,\n",
       " 'learning_rate': 0.00256,\n",
       " 'neurons': 67,\n",
       " 'optimizer': 1.752}"
      ]
     },
     "execution_count": 7,
     "metadata": {},
     "output_type": "execute_result"
    }
   ],
   "source": [
    "{'activation': 4, 'batch_size': 170.6, 'dropout': .102535, 'dropout_rate': 0.3851, 'epochs' : 27, 'layers1': 2, 'layers2':2 , \n",
    " 'learning_rate': 0.00256, \n",
    "'neurons': 67, 'optimizer': 1.752, }"
   ]
  },
  {
   "cell_type": "code",
   "execution_count": 8,
   "id": "ad069683",
   "metadata": {},
   "outputs": [],
   "source": [
    "new_model = Sequential()\n",
    "new_model.add(Dense(67, activation='tanh'))\n",
    "new_model.add(Dense(67, activation='tanh'))\n",
    "new_model.add(Dense(67, activation='tanh'))\n",
    "new_model.add(Dense(67, activation='tanh'))\n",
    "new_model.add(Dense(1, activation='sigmoid'))"
   ]
  },
  {
   "cell_type": "code",
   "execution_count": 9,
   "id": "8561f8d3",
   "metadata": {},
   "outputs": [],
   "source": [
    "new_model.compile(loss='binary_crossentropy', optimizer = RMSprop(learning_rate=0.00256), metrics=['accuracy',metrics.Precision(), metrics.Recall(),metrics.AUC()])"
   ]
  },
  {
   "cell_type": "code",
   "execution_count": 10,
   "id": "c48c3660",
   "metadata": {},
   "outputs": [],
   "source": [
    "ros = RandomOverSampler(sampling_strategy = 1, random_state=42)\n",
    "X_res, y_res = ros.fit_resample(X_train, y_train)"
   ]
  },
  {
   "cell_type": "code",
   "execution_count": 11,
   "id": "e281ffc7",
   "metadata": {},
   "outputs": [
    {
     "name": "stdout",
     "output_type": "stream",
     "text": [
      "Epoch 1/27\n",
      "133/133 [==============================] - 6s 6ms/step - loss: 0.4833 - accuracy: 0.7486 - precision: 0.7293 - recall: 0.7909 - auc: 0.8434\n",
      "Epoch 2/27\n",
      "133/133 [==============================] - 1s 5ms/step - loss: 0.2789 - accuracy: 0.8716 - precision: 0.8638 - recall: 0.8824 - auc: 0.9507\n",
      "Epoch 3/27\n",
      "133/133 [==============================] - 1s 6ms/step - loss: 0.1954 - accuracy: 0.9212 - precision: 0.9133 - recall: 0.9308 - auc: 0.9747\n",
      "Epoch 4/27\n",
      "133/133 [==============================] - 1s 5ms/step - loss: 0.1426 - accuracy: 0.9449 - precision: 0.9335 - recall: 0.9581 - auc: 0.9856\n",
      "Epoch 5/27\n",
      "133/133 [==============================] - 1s 5ms/step - loss: 0.1001 - accuracy: 0.9643 - precision: 0.9546 - recall: 0.9749 - auc: 0.9924\n",
      "Epoch 6/27\n",
      "133/133 [==============================] - 1s 6ms/step - loss: 0.0789 - accuracy: 0.9737 - precision: 0.9657 - recall: 0.9822 - auc: 0.9947\n",
      "Epoch 7/27\n",
      "133/133 [==============================] - 1s 7ms/step - loss: 0.0632 - accuracy: 0.9807 - precision: 0.9757 - recall: 0.9860 - auc: 0.9962\n",
      "Epoch 8/27\n",
      "133/133 [==============================] - 1s 7ms/step - loss: 0.0512 - accuracy: 0.9830 - precision: 0.9819 - recall: 0.9841 - auc: 0.9976\n",
      "Epoch 9/27\n",
      "133/133 [==============================] - 1s 7ms/step - loss: 0.0426 - accuracy: 0.9869 - precision: 0.9836 - recall: 0.9903 - auc: 0.9977\n",
      "Epoch 10/27\n",
      "133/133 [==============================] - 1s 7ms/step - loss: 0.0386 - accuracy: 0.9881 - precision: 0.9864 - recall: 0.9899 - auc: 0.9983\n",
      "Epoch 11/27\n",
      "133/133 [==============================] - 1s 7ms/step - loss: 0.0287 - accuracy: 0.9914 - precision: 0.9908 - recall: 0.9920 - auc: 0.9988\n",
      "Epoch 12/27\n",
      "133/133 [==============================] - 1s 6ms/step - loss: 0.0293 - accuracy: 0.9919 - precision: 0.9911 - recall: 0.9928 - auc: 0.9985\n",
      "Epoch 13/27\n",
      "133/133 [==============================] - 1s 7ms/step - loss: 0.0246 - accuracy: 0.9931 - precision: 0.9920 - recall: 0.9942 - auc: 0.9987\n",
      "Epoch 14/27\n",
      "133/133 [==============================] - 1s 8ms/step - loss: 0.0253 - accuracy: 0.9929 - precision: 0.9930 - recall: 0.9927 - auc: 0.9986\n",
      "Epoch 15/27\n",
      "133/133 [==============================] - 1s 8ms/step - loss: 0.0170 - accuracy: 0.9950 - precision: 0.9955 - recall: 0.9944 - auc: 0.9993\n",
      "Epoch 16/27\n",
      "133/133 [==============================] - 1s 7ms/step - loss: 0.0208 - accuracy: 0.9948 - precision: 0.9952 - recall: 0.9943 - auc: 0.9987\n",
      "Epoch 17/27\n",
      "133/133 [==============================] - 1s 8ms/step - loss: 0.0246 - accuracy: 0.9931 - precision: 0.9934 - recall: 0.9927 - auc: 0.9983\n",
      "Epoch 18/27\n",
      "133/133 [==============================] - 1s 9ms/step - loss: 0.0196 - accuracy: 0.9955 - precision: 0.9962 - recall: 0.9948 - auc: 0.9986\n",
      "Epoch 19/27\n",
      "133/133 [==============================] - 1s 8ms/step - loss: 0.0130 - accuracy: 0.9961 - precision: 0.9965 - recall: 0.9957 - auc: 0.9994\n",
      "Epoch 20/27\n",
      "133/133 [==============================] - 1s 7ms/step - loss: 0.0158 - accuracy: 0.9955 - precision: 0.9962 - recall: 0.9949 - auc: 0.9992\n",
      "Epoch 21/27\n",
      "133/133 [==============================] - 1s 7ms/step - loss: 0.0185 - accuracy: 0.9966 - precision: 0.9982 - recall: 0.9950 - auc: 0.9983\n",
      "Epoch 22/27\n",
      "133/133 [==============================] - 1s 7ms/step - loss: 0.0123 - accuracy: 0.9967 - precision: 0.9975 - recall: 0.9958 - auc: 0.9993\n",
      "Epoch 23/27\n",
      "133/133 [==============================] - 1s 7ms/step - loss: 0.0099 - accuracy: 0.9977 - precision: 0.9984 - recall: 0.9969 - auc: 0.9994\n",
      "Epoch 24/27\n",
      "133/133 [==============================] - 1s 7ms/step - loss: 0.0117 - accuracy: 0.9979 - precision: 0.9977 - recall: 0.9981 - auc: 0.9991\n",
      "Epoch 25/27\n",
      "133/133 [==============================] - 1s 6ms/step - loss: 0.0166 - accuracy: 0.9960 - precision: 0.9968 - recall: 0.9951 - auc: 0.9992\n",
      "Epoch 26/27\n",
      "133/133 [==============================] - 1s 7ms/step - loss: 0.0127 - accuracy: 0.9966 - precision: 0.9968 - recall: 0.9964 - auc: 0.9994\n",
      "Epoch 27/27\n",
      "133/133 [==============================] - 1s 6ms/step - loss: 0.0074 - accuracy: 0.9978 - precision: 0.9978 - recall: 0.9978 - auc: 0.9998\n"
     ]
    },
    {
     "data": {
      "text/plain": [
       "<keras.callbacks.History at 0x29201792670>"
      ]
     },
     "execution_count": 11,
     "metadata": {},
     "output_type": "execute_result"
    }
   ],
   "source": [
    "new_model.fit(X_res, y_res, epochs=27, batch_size=171)"
   ]
  },
  {
   "cell_type": "code",
   "execution_count": 12,
   "id": "6a499239",
   "metadata": {
    "scrolled": true
   },
   "outputs": [
    {
     "name": "stdout",
     "output_type": "stream",
     "text": [
      "706/706 [==============================] - 4s 4ms/step - loss: 1.3941e-04 - accuracy: 1.0000 - precision: 1.0000 - recall: 1.0000 - auc: 1.0000\n",
      "[0.00013940905046183616, 1.0, 1.0, 1.0, 1.0]\n"
     ]
    }
   ],
   "source": [
    "train_score = new_model.evaluate(X_res, y_res)\n",
    "print(train_score)"
   ]
  },
  {
   "cell_type": "code",
   "execution_count": 13,
   "id": "c8fa2c39",
   "metadata": {},
   "outputs": [
    {
     "name": "stdout",
     "output_type": "stream",
     "text": [
      "90/90 [==============================] - 1s 3ms/step\n"
     ]
    }
   ],
   "source": [
    "pred = new_model.predict(X_test)"
   ]
  },
  {
   "cell_type": "code",
   "execution_count": 14,
   "id": "843ecbe0",
   "metadata": {},
   "outputs": [],
   "source": [
    "y_pred = np.where(pred < 0.5, 0, 1)"
   ]
  },
  {
   "cell_type": "code",
   "execution_count": 15,
   "id": "cdddeeb9",
   "metadata": {},
   "outputs": [
    {
     "data": {
      "text/plain": [
       "array([[2818,    6],\n",
       "       [  19,   37]], dtype=int64)"
      ]
     },
     "execution_count": 15,
     "metadata": {},
     "output_type": "execute_result"
    }
   ],
   "source": [
    "confusion_matrix(y_test, y_pred)"
   ]
  },
  {
   "cell_type": "code",
   "execution_count": 16,
   "id": "c9a01e1c",
   "metadata": {},
   "outputs": [
    {
     "name": "stdout",
     "output_type": "stream",
     "text": [
      "0.9913194444444444\n",
      "0.8604651162790697\n",
      "0.6607142857142857\n",
      "0.7474747474747474\n"
     ]
    }
   ],
   "source": [
    "print(accuracy_score(y_test, y_pred))\n",
    "print(precision_score(y_test, y_pred))\n",
    "print(recall_score(y_test, y_pred))\n",
    "print(f1_score(y_test, y_pred))"
   ]
  },
  {
   "cell_type": "markdown",
   "id": "c79345aa",
   "metadata": {},
   "source": [
    "## NN Model 2"
   ]
  },
  {
   "cell_type": "code",
   "execution_count": 17,
   "id": "12b8d422",
   "metadata": {},
   "outputs": [
    {
     "data": {
      "text/plain": [
       "{'activation': 6,\n",
       " 'batch_size': 175.7,\n",
       " 'dropout': 0.1616,\n",
       " 'dropout_rate': 0.3594,\n",
       " 'epochs': 22,\n",
       " 'layers1': 1,\n",
       " 'layers2': 1,\n",
       " 'learning_rate': 0.006972,\n",
       " 'neurons': 33,\n",
       " 'optimizer': 1}"
      ]
     },
     "execution_count": 17,
     "metadata": {},
     "output_type": "execute_result"
    }
   ],
   "source": [
    "{'activation': 6, 'batch_size': 175.7, 'dropout': .1616, 'dropout_rate': 0.3594, 'epochs' : 22, 'layers1': 1, 'layers2':1 , \n",
    " 'learning_rate': 0.006972, \n",
    "'neurons': 33, 'optimizer': 1 }"
   ]
  },
  {
   "cell_type": "code",
   "execution_count": 18,
   "id": "ffb88130",
   "metadata": {},
   "outputs": [],
   "source": [
    "new_model = Sequential()\n",
    "new_model.add(Dense(33, activation='elu'))\n",
    "new_model.add(Dense(33, activation='elu'))\n",
    "new_model.add(Dense(1, activation='sigmoid'))"
   ]
  },
  {
   "cell_type": "code",
   "execution_count": 19,
   "id": "abbb07b7",
   "metadata": {},
   "outputs": [],
   "source": [
    "new_model.compile(loss='binary_crossentropy', optimizer = Adam(learning_rate=0.006972), metrics=['accuracy',metrics.Precision(), metrics.Recall(),metrics.AUC()])"
   ]
  },
  {
   "cell_type": "code",
   "execution_count": 20,
   "id": "3331de57",
   "metadata": {},
   "outputs": [
    {
     "name": "stdout",
     "output_type": "stream",
     "text": [
      "Epoch 1/22\n",
      "129/129 [==============================] - 3s 4ms/step - loss: 0.3799 - accuracy: 0.8351 - precision_1: 0.8222 - recall_1: 0.8550 - auc_1: 0.9122\n",
      "Epoch 2/22\n",
      "129/129 [==============================] - 0s 4ms/step - loss: 0.1169 - accuracy: 0.9612 - precision_1: 0.9445 - recall_1: 0.9799 - auc_1: 0.9892\n",
      "Epoch 3/22\n",
      "129/129 [==============================] - 0s 3ms/step - loss: 0.0652 - accuracy: 0.9799 - precision_1: 0.9689 - recall_1: 0.9916 - auc_1: 0.9958\n",
      "Epoch 4/22\n",
      "129/129 [==============================] - 0s 3ms/step - loss: 0.0455 - accuracy: 0.9854 - precision_1: 0.9792 - recall_1: 0.9919 - auc_1: 0.9978\n",
      "Epoch 5/22\n",
      "129/129 [==============================] - 1s 4ms/step - loss: 0.0197 - accuracy: 0.9950 - precision_1: 0.9907 - recall_1: 0.9994 - auc_1: 0.9993\n",
      "Epoch 6/22\n",
      "129/129 [==============================] - 1s 4ms/step - loss: 0.0113 - accuracy: 0.9971 - precision_1: 0.9944 - recall_1: 0.9998 - auc_1: 0.9996\n",
      "Epoch 7/22\n",
      "129/129 [==============================] - 1s 4ms/step - loss: 0.0084 - accuracy: 0.9981 - precision_1: 0.9964 - recall_1: 0.9999 - auc_1: 0.9998\n",
      "Epoch 8/22\n",
      "129/129 [==============================] - 1s 4ms/step - loss: 0.0109 - accuracy: 0.9969 - precision_1: 0.9951 - recall_1: 0.9987 - auc_1: 0.9998\n",
      "Epoch 9/22\n",
      "129/129 [==============================] - 0s 3ms/step - loss: 0.0070 - accuracy: 0.9977 - precision_1: 0.9966 - recall_1: 0.9988 - auc_1: 0.9999\n",
      "Epoch 10/22\n",
      "129/129 [==============================] - 0s 4ms/step - loss: 0.0030 - accuracy: 0.9996 - precision_1: 0.9992 - recall_1: 1.0000 - auc_1: 0.9999\n",
      "Epoch 11/22\n",
      "129/129 [==============================] - 1s 4ms/step - loss: 0.0126 - accuracy: 0.9963 - precision_1: 0.9951 - recall_1: 0.9974 - auc_1: 0.9994\n",
      "Epoch 12/22\n",
      "129/129 [==============================] - 1s 4ms/step - loss: 0.0366 - accuracy: 0.9893 - precision_1: 0.9860 - recall_1: 0.9927 - auc_1: 0.9982\n",
      "Epoch 13/22\n",
      "129/129 [==============================] - 1s 4ms/step - loss: 0.0025 - accuracy: 0.9996 - precision_1: 0.9992 - recall_1: 1.0000 - auc_1: 1.0000\n",
      "Epoch 14/22\n",
      "129/129 [==============================] - 1s 4ms/step - loss: 0.0015 - accuracy: 0.9997 - precision_1: 0.9995 - recall_1: 1.0000 - auc_1: 1.0000\n",
      "Epoch 15/22\n",
      "129/129 [==============================] - 1s 4ms/step - loss: 0.0012 - accuracy: 0.9998 - precision_1: 0.9996 - recall_1: 1.0000 - auc_1: 1.0000\n",
      "Epoch 16/22\n",
      "129/129 [==============================] - 1s 4ms/step - loss: 6.9114e-04 - accuracy: 0.9999 - precision_1: 0.9998 - recall_1: 1.0000 - auc_1: 1.0000\n",
      "Epoch 17/22\n",
      "129/129 [==============================] - 1s 4ms/step - loss: 4.0066e-04 - accuracy: 1.0000 - precision_1: 1.0000 - recall_1: 1.0000 - auc_1: 1.0000\n",
      "Epoch 18/22\n",
      "129/129 [==============================] - 1s 4ms/step - loss: 2.5639e-04 - accuracy: 1.0000 - precision_1: 1.0000 - recall_1: 1.0000 - auc_1: 1.0000\n",
      "Epoch 19/22\n",
      "129/129 [==============================] - 1s 4ms/step - loss: 2.6691e-04 - accuracy: 1.0000 - precision_1: 1.0000 - recall_1: 1.0000 - auc_1: 1.0000\n",
      "Epoch 20/22\n",
      "129/129 [==============================] - 0s 4ms/step - loss: 1.4144e-04 - accuracy: 1.0000 - precision_1: 1.0000 - recall_1: 1.0000 - auc_1: 1.0000\n",
      "Epoch 21/22\n",
      "129/129 [==============================] - 1s 4ms/step - loss: 1.1915e-04 - accuracy: 1.0000 - precision_1: 1.0000 - recall_1: 1.0000 - auc_1: 1.0000\n",
      "Epoch 22/22\n",
      "129/129 [==============================] - 1s 4ms/step - loss: 1.0540e-04 - accuracy: 1.0000 - precision_1: 1.0000 - recall_1: 1.0000 - auc_1: 1.0000\n"
     ]
    },
    {
     "data": {
      "text/plain": [
       "<keras.callbacks.History at 0x292014cabe0>"
      ]
     },
     "execution_count": 20,
     "metadata": {},
     "output_type": "execute_result"
    }
   ],
   "source": [
    "new_model.fit(X_res, y_res, epochs=22, batch_size=176)"
   ]
  },
  {
   "cell_type": "code",
   "execution_count": 21,
   "id": "6d55cd9f",
   "metadata": {
    "scrolled": true
   },
   "outputs": [
    {
     "name": "stdout",
     "output_type": "stream",
     "text": [
      "706/706 [==============================] - 3s 3ms/step - loss: 7.0952e-05 - accuracy: 1.0000 - precision_1: 1.0000 - recall_1: 1.0000 - auc_1: 1.0000\n",
      "[7.095169712556526e-05, 1.0, 1.0, 1.0, 1.0]\n"
     ]
    }
   ],
   "source": [
    "train_score = new_model.evaluate(X_res, y_res)\n",
    "print(train_score)"
   ]
  },
  {
   "cell_type": "code",
   "execution_count": 22,
   "id": "c20c3c79",
   "metadata": {},
   "outputs": [
    {
     "name": "stdout",
     "output_type": "stream",
     "text": [
      "90/90 [==============================] - 0s 2ms/step\n"
     ]
    }
   ],
   "source": [
    "pred = new_model.predict(X_test)"
   ]
  },
  {
   "cell_type": "code",
   "execution_count": 23,
   "id": "f6471480",
   "metadata": {},
   "outputs": [],
   "source": [
    "y_pred = np.where(pred < 0.5, 0, 1)"
   ]
  },
  {
   "cell_type": "code",
   "execution_count": 24,
   "id": "4f059d71",
   "metadata": {},
   "outputs": [
    {
     "data": {
      "text/plain": [
       "array([[2803,   21],\n",
       "       [  21,   35]], dtype=int64)"
      ]
     },
     "execution_count": 24,
     "metadata": {},
     "output_type": "execute_result"
    }
   ],
   "source": [
    "confusion_matrix(y_test, y_pred)"
   ]
  },
  {
   "cell_type": "code",
   "execution_count": 25,
   "id": "9159e02e",
   "metadata": {},
   "outputs": [
    {
     "name": "stdout",
     "output_type": "stream",
     "text": [
      "0.9854166666666667\n",
      "0.625\n",
      "0.625\n",
      "0.625\n"
     ]
    }
   ],
   "source": [
    "print(accuracy_score(y_test, y_pred))\n",
    "print(precision_score(y_test, y_pred))\n",
    "print(recall_score(y_test, y_pred))\n",
    "print(f1_score(y_test, y_pred))"
   ]
  },
  {
   "cell_type": "markdown",
   "id": "fe6c6b26",
   "metadata": {},
   "source": [
    "## NN Model 3"
   ]
  },
  {
   "cell_type": "code",
   "execution_count": 26,
   "id": "9ff51bbd",
   "metadata": {},
   "outputs": [
    {
     "data": {
      "text/plain": [
       "{'activation': 6,\n",
       " 'batch_size': 115,\n",
       " 'dropout': 0.5121,\n",
       " 'dropout_rate': 0.0906,\n",
       " 'epochs': 23,\n",
       " 'layers1': 1,\n",
       " 'layers2': 3,\n",
       " 'learning_rate': 0.004481,\n",
       " 'neurons': 241.8,\n",
       " 'optimizer': 1}"
      ]
     },
     "execution_count": 26,
     "metadata": {},
     "output_type": "execute_result"
    }
   ],
   "source": [
    "{'activation': 6, 'batch_size': 115, 'dropout': .5121, 'dropout_rate': 0.0906, 'epochs' : 23, 'layers1': 1, 'layers2':3 , \n",
    " 'learning_rate': 0.004481, \n",
    "'neurons': 241.8, 'optimizer': 1}"
   ]
  },
  {
   "cell_type": "code",
   "execution_count": 27,
   "id": "af419f75",
   "metadata": {},
   "outputs": [],
   "source": [
    "new_model = Sequential()\n",
    "new_model.add(Dense(241.8, activation='elu'))\n",
    "new_model.add(Dropout(0.0906))\n",
    "new_model.add(Dense(241.8, activation='elu'))\n",
    "new_model.add(Dense(241.8, activation='elu'))\n",
    "new_model.add(Dense(241.8, activation='elu'))\n",
    "new_model.add(Dense(1, activation='sigmoid'))"
   ]
  },
  {
   "cell_type": "code",
   "execution_count": 28,
   "id": "19ed297a",
   "metadata": {},
   "outputs": [],
   "source": [
    "new_model.compile(loss='binary_crossentropy', optimizer = Adam(learning_rate=0.004481), metrics=['accuracy',metrics.Precision(), metrics.Recall(),metrics.AUC()])"
   ]
  },
  {
   "cell_type": "code",
   "execution_count": 29,
   "id": "bd619540",
   "metadata": {},
   "outputs": [
    {
     "name": "stdout",
     "output_type": "stream",
     "text": [
      "Epoch 1/23\n",
      "197/197 [==============================] - 4s 8ms/step - loss: 0.7004 - accuracy: 0.7790 - precision_2: 0.7611 - recall_2: 0.8132 - auc_2: 0.8594\n",
      "Epoch 2/23\n",
      "197/197 [==============================] - 2s 10ms/step - loss: 0.1438 - accuracy: 0.9455 - precision_2: 0.9286 - recall_2: 0.9651 - auc_2: 0.9842\n",
      "Epoch 3/23\n",
      "197/197 [==============================] - 2s 10ms/step - loss: 0.1085 - accuracy: 0.9637 - precision_2: 0.9488 - recall_2: 0.9802 - auc_2: 0.9885\n",
      "Epoch 4/23\n",
      "197/197 [==============================] - 2s 10ms/step - loss: 0.0606 - accuracy: 0.9817 - precision_2: 0.9716 - recall_2: 0.9923 - auc_2: 0.9955\n",
      "Epoch 5/23\n",
      "197/197 [==============================] - 2s 10ms/step - loss: 0.0477 - accuracy: 0.9853 - precision_2: 0.9787 - recall_2: 0.9922 - auc_2: 0.9971\n",
      "Epoch 6/23\n",
      "197/197 [==============================] - 2s 10ms/step - loss: 0.0240 - accuracy: 0.9927 - precision_2: 0.9888 - recall_2: 0.9965 - auc_2: 0.9990\n",
      "Epoch 7/23\n",
      "197/197 [==============================] - 2s 8ms/step - loss: 0.0189 - accuracy: 0.9940 - precision_2: 0.9911 - recall_2: 0.9970 - auc_2: 0.9993\n",
      "Epoch 8/23\n",
      "197/197 [==============================] - 2s 8ms/step - loss: 0.0240 - accuracy: 0.9920 - precision_2: 0.9894 - recall_2: 0.9946 - auc_2: 0.9992\n",
      "Epoch 9/23\n",
      "197/197 [==============================] - 2s 10ms/step - loss: 0.0170 - accuracy: 0.9943 - precision_2: 0.9922 - recall_2: 0.9964 - auc_2: 0.9994\n",
      "Epoch 10/23\n",
      "197/197 [==============================] - 2s 8ms/step - loss: 0.0103 - accuracy: 0.9970 - precision_2: 0.9957 - recall_2: 0.9983 - auc_2: 0.9997\n",
      "Epoch 11/23\n",
      "197/197 [==============================] - 2s 9ms/step - loss: 0.0218 - accuracy: 0.9935 - precision_2: 0.9904 - recall_2: 0.9967 - auc_2: 0.9990\n",
      "Epoch 12/23\n",
      "197/197 [==============================] - 2s 10ms/step - loss: 0.0173 - accuracy: 0.9946 - precision_2: 0.9929 - recall_2: 0.9963 - auc_2: 0.9994\n",
      "Epoch 13/23\n",
      "197/197 [==============================] - 2s 11ms/step - loss: 0.0074 - accuracy: 0.9978 - precision_2: 0.9970 - recall_2: 0.9986 - auc_2: 0.9998\n",
      "Epoch 14/23\n",
      "197/197 [==============================] - 2s 11ms/step - loss: 0.0168 - accuracy: 0.9943 - precision_2: 0.9927 - recall_2: 0.9960 - auc_2: 0.9994\n",
      "Epoch 15/23\n",
      "197/197 [==============================] - 2s 10ms/step - loss: 0.0116 - accuracy: 0.9964 - precision_2: 0.9955 - recall_2: 0.9973 - auc_2: 0.9998\n",
      "Epoch 16/23\n",
      "197/197 [==============================] - 2s 10ms/step - loss: 0.0196 - accuracy: 0.9944 - precision_2: 0.9930 - recall_2: 0.9958 - auc_2: 0.9994\n",
      "Epoch 17/23\n",
      "197/197 [==============================] - 2s 9ms/step - loss: 0.0087 - accuracy: 0.9970 - precision_2: 0.9962 - recall_2: 0.9978 - auc_2: 0.9998\n",
      "Epoch 18/23\n",
      "197/197 [==============================] - 2s 10ms/step - loss: 0.0077 - accuracy: 0.9975 - precision_2: 0.9968 - recall_2: 0.9982 - auc_2: 0.9999\n",
      "Epoch 19/23\n",
      "197/197 [==============================] - 3s 15ms/step - loss: 0.0038 - accuracy: 0.9990 - precision_2: 0.9988 - recall_2: 0.9991 - auc_2: 0.9999\n",
      "Epoch 20/23\n",
      "197/197 [==============================] - 3s 13ms/step - loss: 0.0051 - accuracy: 0.9984 - precision_2: 0.9979 - recall_2: 0.9988 - auc_2: 0.9999\n",
      "Epoch 21/23\n",
      "197/197 [==============================] - 3s 13ms/step - loss: 0.0111 - accuracy: 0.9969 - precision_2: 0.9965 - recall_2: 0.9973 - auc_2: 0.9997\n",
      "Epoch 22/23\n",
      "197/197 [==============================] - 2s 11ms/step - loss: 0.0285 - accuracy: 0.9914 - precision_2: 0.9895 - recall_2: 0.9933 - auc_2: 0.9988\n",
      "Epoch 23/23\n",
      "197/197 [==============================] - 2s 12ms/step - loss: 0.0112 - accuracy: 0.9967 - precision_2: 0.9958 - recall_2: 0.9976 - auc_2: 0.9996\n"
     ]
    },
    {
     "data": {
      "text/plain": [
       "<keras.callbacks.History at 0x29202af2f40>"
      ]
     },
     "execution_count": 29,
     "metadata": {},
     "output_type": "execute_result"
    }
   ],
   "source": [
    "new_model.fit(X_res, y_res, epochs=23, batch_size=115)"
   ]
  },
  {
   "cell_type": "code",
   "execution_count": 30,
   "id": "5bf0cc52",
   "metadata": {
    "scrolled": true
   },
   "outputs": [
    {
     "name": "stdout",
     "output_type": "stream",
     "text": [
      "706/706 [==============================] - 5s 5ms/step - loss: 0.0069 - accuracy: 0.9981 - precision_2: 0.9963 - recall_2: 1.0000 - auc_2: 0.9996\n",
      "[0.006887932773679495, 0.9981404542922974, 0.9962946772575378, 1.0, 0.9995989203453064]\n"
     ]
    }
   ],
   "source": [
    "train_score = new_model.evaluate(X_res, y_res)\n",
    "print(train_score)"
   ]
  },
  {
   "cell_type": "code",
   "execution_count": 31,
   "id": "f65a6397",
   "metadata": {},
   "outputs": [
    {
     "name": "stdout",
     "output_type": "stream",
     "text": [
      "90/90 [==============================] - 1s 4ms/step\n"
     ]
    }
   ],
   "source": [
    "pred = new_model.predict(X_test)"
   ]
  },
  {
   "cell_type": "code",
   "execution_count": 32,
   "id": "07482624",
   "metadata": {},
   "outputs": [],
   "source": [
    "y_pred = np.where(pred < 0.5, 0, 1)"
   ]
  },
  {
   "cell_type": "code",
   "execution_count": 33,
   "id": "28143ccc",
   "metadata": {},
   "outputs": [
    {
     "data": {
      "text/plain": [
       "array([[2801,   23],\n",
       "       [  14,   42]], dtype=int64)"
      ]
     },
     "execution_count": 33,
     "metadata": {},
     "output_type": "execute_result"
    }
   ],
   "source": [
    "confusion_matrix(y_test, y_pred)"
   ]
  },
  {
   "cell_type": "code",
   "execution_count": 34,
   "id": "a311c96e",
   "metadata": {},
   "outputs": [
    {
     "name": "stdout",
     "output_type": "stream",
     "text": [
      "0.9871527777777778\n",
      "0.6461538461538462\n",
      "0.75\n",
      "0.694214876033058\n"
     ]
    }
   ],
   "source": [
    "print(accuracy_score(y_test, y_pred))\n",
    "print(precision_score(y_test, y_pred))\n",
    "print(recall_score(y_test, y_pred))\n",
    "print(f1_score(y_test, y_pred))"
   ]
  },
  {
   "cell_type": "code",
   "execution_count": null,
   "id": "75afc113",
   "metadata": {},
   "outputs": [],
   "source": []
  }
 ],
 "metadata": {
  "kernelspec": {
   "display_name": "Python 3 (ipykernel)",
   "language": "python",
   "name": "python3"
  },
  "language_info": {
   "codemirror_mode": {
    "name": "ipython",
    "version": 3
   },
   "file_extension": ".py",
   "mimetype": "text/x-python",
   "name": "python",
   "nbconvert_exporter": "python",
   "pygments_lexer": "ipython3",
   "version": "3.9.12"
  }
 },
 "nbformat": 4,
 "nbformat_minor": 5
}
